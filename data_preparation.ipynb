{
 "cells": [
  {
   "cell_type": "markdown",
   "metadata": {
    "id": "bJNHMyC4KxiI"
   },
   "source": [
    "Import the libraries necessary to analize data"
   ]
  },
  {
   "cell_type": "code",
   "execution_count": 371,
   "metadata": {
    "id": "AfbXoN--jsUE"
   },
   "outputs": [],
   "source": [
    "%matplotlib inline\n",
    "import math\n",
    "import numpy as np\n",
    "import pandas as pd\n",
    "import scipy.stats as stats\n",
    "import matplotlib.pyplot as plt\n",
    "import datetime\n",
    "import random\n",
    "\n",
    "from collections import defaultdict\n",
    "from scipy.stats import pearsonr"
   ]
  },
  {
   "cell_type": "markdown",
   "metadata": {
    "id": "zB-UgdvVLMmN",
    "jp-MarkdownHeadingCollapsed": true
   },
   "source": [
    "# Incidents\n",
    "\n",
    "Import the incidents csv file"
   ]
  },
  {
   "cell_type": "code",
   "execution_count": 372,
   "metadata": {
    "colab": {
     "base_uri": "https://localhost:8080/",
     "height": 417
    },
    "id": "VaVFyEPhjsUH",
    "outputId": "41f638a7-d5ef-4b50-cc80-2e5db5fc6b1b"
   },
   "outputs": [
    {
     "name": "stdout",
     "output_type": "stream",
     "text": [
      "<class 'pandas.core.frame.DataFrame'>\n",
      "RangeIndex: 199379 entries, 0 to 199378\n",
      "Data columns (total 33 columns):\n",
      " #   Column                     Non-Null Count   Dtype         \n",
      "---  ------                     --------------   -----         \n",
      " 0   date                       199379 non-null  datetime64[ns]\n",
      " 1   state                      199379 non-null  object        \n",
      " 2   city_or_county             199379 non-null  object        \n",
      " 3   address                    185728 non-null  object        \n",
      " 4   latitude                   199313 non-null  float64       \n",
      " 5   longitude                  199313 non-null  float64       \n",
      " 6   congressional_district     199379 non-null  float64       \n",
      " 7   state_house_district       178208 non-null  float64       \n",
      " 8   state_senate_district      184240 non-null  float64       \n",
      " 9   participant_age1           136187 non-null  float64       \n",
      " 10  participant_age_group1     161305 non-null  object        \n",
      " 11  participant_gender1        166716 non-null  object        \n",
      " 12  min_age_participants       146998 non-null  float64       \n",
      " 13  avg_age_participants       147078 non-null  float64       \n",
      " 14  max_age_participants       147021 non-null  float64       \n",
      " 15  n_participants_child       161312 non-null  float64       \n",
      " 16  n_participants_teen        161313 non-null  float64       \n",
      " 17  n_participants_adult       161316 non-null  float64       \n",
      " 18  n_males                    166716 non-null  float64       \n",
      " 19  n_females                  166716 non-null  float64       \n",
      " 20  n_killed                   199379 non-null  int64         \n",
      " 21  n_injured                  199379 non-null  int64         \n",
      " 22  n_arrested                 174594 non-null  float64       \n",
      " 23  n_unharmed                 174594 non-null  float64       \n",
      " 24  n_participants             199379 non-null  float64       \n",
      " 25  notes                      133787 non-null  object        \n",
      " 26  incident_characteristics1  199101 non-null  object        \n",
      " 27  incident_characteristics2  119391 non-null  object        \n",
      " 28  year                       199379 non-null  int64         \n",
      " 29  povertyPercentage          199379 non-null  float64       \n",
      " 30  party                      199379 non-null  object        \n",
      " 31  candidatevotes             199379 non-null  int64         \n",
      " 32  totalvotes                 199379 non-null  int64         \n",
      "dtypes: datetime64[ns](1), float64(18), int64(5), object(9)\n",
      "memory usage: 50.2+ MB\n"
     ]
    }
   ],
   "source": [
    "df = pd.read_csv('incidents_df_joined.csv', low_memory=False, sep=',', parse_dates=['date']) #alternative in case of json source df.to_json('filename.json')\n",
    "df.info()"
   ]
  },
  {
   "cell_type": "markdown",
   "metadata": {},
   "source": [
    "Change data types to match the content of each attribute"
   ]
  },
  {
   "cell_type": "code",
   "execution_count": 373,
   "metadata": {
    "colab": {
     "base_uri": "https://localhost:8080/"
    },
    "id": "smCujC0YjsUJ",
    "outputId": "522711c7-779e-4133-93a9-ae4109c82f21"
   },
   "outputs": [
    {
     "name": "stdout",
     "output_type": "stream",
     "text": [
      "<class 'pandas.core.frame.DataFrame'>\n",
      "RangeIndex: 199379 entries, 0 to 199378\n",
      "Data columns (total 33 columns):\n",
      " #   Column                     Non-Null Count   Dtype         \n",
      "---  ------                     --------------   -----         \n",
      " 0   date                       199378 non-null  datetime64[ns]\n",
      " 1   state                      199378 non-null  string        \n",
      " 2   city_or_county             199378 non-null  string        \n",
      " 3   address                    185727 non-null  string        \n",
      " 4   latitude                   199312 non-null  float64       \n",
      " 5   longitude                  199312 non-null  float64       \n",
      " 6   congressional_district     199378 non-null  Int64         \n",
      " 7   state_house_district       178207 non-null  Int64         \n",
      " 8   state_senate_district      184239 non-null  Int64         \n",
      " 9   participant_age1           136186 non-null  Int64         \n",
      " 10  participant_age_group1     161304 non-null  string        \n",
      " 11  participant_gender1        166715 non-null  string        \n",
      " 12  min_age_participants       146997 non-null  Int64         \n",
      " 13  avg_age_participants       147077 non-null  float64       \n",
      " 14  max_age_participants       147020 non-null  Int64         \n",
      " 15  n_participants_child       161311 non-null  Int64         \n",
      " 16  n_participants_teen        161312 non-null  Int64         \n",
      " 17  n_participants_adult       161315 non-null  Int64         \n",
      " 18  n_males                    166715 non-null  Int64         \n",
      " 19  n_females                  166715 non-null  Int64         \n",
      " 20  n_killed                   199378 non-null  Int64         \n",
      " 21  n_injured                  199378 non-null  Int64         \n",
      " 22  n_arrested                 174593 non-null  Int64         \n",
      " 23  n_unharmed                 174593 non-null  Int64         \n",
      " 24  n_participants             199378 non-null  Int64         \n",
      " 25  notes                      133786 non-null  string        \n",
      " 26  incident_characteristics1  199100 non-null  string        \n",
      " 27  incident_characteristics2  119390 non-null  string        \n",
      " 28  year                       199378 non-null  float64       \n",
      " 29  povertyPercentage          199378 non-null  float64       \n",
      " 30  party                      199378 non-null  object        \n",
      " 31  candidatevotes             199378 non-null  float64       \n",
      " 32  totalvotes                 199378 non-null  float64       \n",
      "dtypes: Int64(16), datetime64[ns](1), float64(7), object(1), string(8)\n",
      "memory usage: 53.2+ MB\n"
     ]
    }
   ],
   "source": [
    "df[\"date\"] = df[\"date\"].astype(\"datetime64[ns]\")\n",
    "df[\"state\"] = df[\"state\"].astype(\"string\")\n",
    "df[\"city_or_county\"] = df[\"city_or_county\"].astype(\"string\")\n",
    "df[\"address\"] = df[\"address\"].astype(\"string\")\n",
    "df[\"congressional_district\"] = df[\"congressional_district\"].astype(\"Int64\")\n",
    "df[\"state_house_district\"] = df[\"state_house_district\"].astype(\"Int64\")\n",
    "df[\"state_senate_district\"] = df[\"state_senate_district\"].astype(\"Int64\")\n",
    "df[\"participant_age1\"] = df[\"participant_age1\"].astype(\"Int64\")\n",
    "df[\"min_age_participants\"] = pd.to_numeric(df[\"min_age_participants\"], errors=\"coerce\").astype(\"Int64\")\n",
    "df[\"max_age_participants\"] = pd.to_numeric(df[\"max_age_participants\"], errors=\"coerce\").astype(\"Int64\")\n",
    "df[\"avg_age_participants\"] = pd.to_numeric(df[\"avg_age_participants\"], errors=\"coerce\").astype(\"float64\")\n",
    "df[df['participant_gender1'] == 'Male, female'] = np.nan\n",
    "df[\"participant_gender1\"] = df[\"participant_gender1\"].astype(\"string\")\n",
    "df[\"participant_age_group1\"] = df[\"participant_age_group1\"].astype(\"string\")\n",
    "df[\"n_participants_teen\"] = pd.to_numeric(df[\"n_participants_teen\"], errors=\"coerce\").astype(\"Int64\")\n",
    "df[\"n_participants_child\"] = pd.to_numeric(df[\"n_participants_child\"], errors=\"coerce\").astype(\"Int64\")\n",
    "df[\"n_participants_adult\"] = pd.to_numeric(df[\"n_participants_adult\"], errors=\"coerce\").astype(\"Int64\")\n",
    "df[\"n_males\"] = pd.to_numeric(df[\"n_males\"], errors=\"coerce\").astype(\"Int64\")\n",
    "df[\"n_females\"] = pd.to_numeric(df[\"n_females\"], errors=\"coerce\").astype(\"Int64\")\n",
    "df[\"n_killed\"] = pd.to_numeric(df[\"n_killed\"], errors=\"coerce\").astype(\"Int64\")\n",
    "df[\"n_injured\"] = pd.to_numeric(df[\"n_injured\"], errors=\"coerce\").astype(\"Int64\")\n",
    "df[\"n_arrested\"] = pd.to_numeric(df[\"n_arrested\"], errors=\"coerce\").astype(\"Int64\")\n",
    "df[\"n_unharmed\"] = pd.to_numeric(df[\"n_unharmed\"], errors=\"coerce\").astype(\"Int64\")\n",
    "df[\"n_participants\"] = pd.to_numeric(df[\"n_participants\"], errors=\"coerce\").astype(\"Int64\")\n",
    "df[\"notes\"] = df[\"notes\"].astype(\"string\")\n",
    "df[\"incident_characteristics1\"] = df[\"incident_characteristics1\"].astype(\"string\")\n",
    "df[\"incident_characteristics2\"] = df[\"incident_characteristics2\"].astype(\"string\")\n",
    "df.info()"
   ]
  },
  {
   "cell_type": "markdown",
   "metadata": {},
   "source": [
    "Deleting the rows with all NaN values"
   ]
  },
  {
   "cell_type": "code",
   "execution_count": 374,
   "metadata": {},
   "outputs": [
    {
     "name": "stdout",
     "output_type": "stream",
     "text": [
      "df len before: 199379\n",
      "df len after: 199378\n"
     ]
    }
   ],
   "source": [
    "print(f\"df len before: {len(df)}\")\n",
    "df.dropna(how='all', inplace=True)\n",
    "print(f\"df len after: {len(df)}\")"
   ]
  },
  {
   "cell_type": "markdown",
   "metadata": {},
   "source": [
    "Removing negative values"
   ]
  },
  {
   "cell_type": "code",
   "execution_count": 375,
   "metadata": {},
   "outputs": [],
   "source": [
    "columns_to_check = ['participant_age1', 'min_age_participants', 'avg_age_participants',\n",
    "       'max_age_participants', 'n_participants_child', 'n_participants_teen',\n",
    "       'n_participants_adult', 'n_males', 'n_females', 'n_killed', 'n_injured',\n",
    "       'n_arrested', 'n_unharmed', 'n_participants']\n",
    "# Set values less than 0 to NaN for the specified columns\n",
    "for i in columns_to_check:\n",
    "    df.loc[df[i] < 0, i] = np.nan\n"
   ]
  },
  {
   "cell_type": "markdown",
   "metadata": {
    "jp-MarkdownHeadingCollapsed": true
   },
   "source": [
    "## Age\n"
   ]
  },
  {
   "cell_type": "markdown",
   "metadata": {},
   "source": [
    "As seen in D.U., given that there are some ouliers in the order of ~800 years of age, we decided to remove them by setting them all to NaN, considering that a person with more than 120 years has not ever lived [cite, wikipedia]."
   ]
  },
  {
   "cell_type": "code",
   "execution_count": 376,
   "metadata": {},
   "outputs": [],
   "source": [
    "df.loc[(df[\"avg_age_participants\"] > 120), \"avg_age_participants\"] = np.nan\n",
    "df.loc[(df['min_age_participants'] > 120), \"min_age_participants\"] = np.nan\n",
    "df.loc[(df['max_age_participants'] > 120), \"max_age_participants\"] = np.nan\n",
    "df.loc[(df[\"participant_age1\"] > 120), \"participant_age1\"] = np.nan"
   ]
  },
  {
   "cell_type": "code",
   "execution_count": 377,
   "metadata": {},
   "outputs": [
    {
     "data": {
      "image/png": "[encoded data removed]",
      "text/plain": [
       "<Figure size 640x480 with 4 Axes>"
      ]
     },
     "metadata": {},
     "output_type": "display_data"
    },
    {
     "data": {
      "image/png": "[encoded data removed]",
      "text/plain": [
       "<Figure size 640x480 with 1 Axes>"
      ]
     },
     "metadata": {},
     "output_type": "display_data"
    }
   ],
   "source": [
    "\n",
    "df.hist(column=['avg_age_participants', 'min_age_participants', 'max_age_participants', 'participant_age1'], bins=[i for i in range(0,121,10)])\n",
    "plt.title(\"Valid avg, min, max, participant age1 ages\")\n",
    "plt.xlabel(\"avg, min, max, participant age1 age\")\n",
    "plt.ylabel(\"Individuals\")\n",
    "plt.show()\n",
    "\n",
    "df.boxplot(column=['avg_age_participants', 'min_age_participants', 'max_age_participants', 'participant_age1'])\n",
    "plt.title(\"Valid avg, min, max, participant age1 ages\")\n",
    "plt.ylabel(\"Valid avg, min, max, participant age1 ages\")\n",
    "plt.show()"
   ]
  },
  {
   "cell_type": "code",
   "execution_count": 378,
   "metadata": {},
   "outputs": [
    {
     "data": {
      "text/html": [
       "<div>\n",
       "<style scoped>\n",
       "    .dataframe tbody tr th:only-of-type {\n",
       "        vertical-align: middle;\n",
       "    }\n",
       "\n",
       "    .dataframe tbody tr th {\n",
       "        vertical-align: top;\n",
       "    }\n",
       "\n",
       "    .dataframe thead th {\n",
       "        text-align: right;\n",
       "    }\n",
       "</style>\n",
       "<table border=\"1\" class=\"dataframe\">\n",
       "  <thead>\n",
       "    <tr style=\"text-align: right;\">\n",
       "      <th></th>\n",
       "      <th>avg_age_participants</th>\n",
       "      <th>participant_age1</th>\n",
       "      <th>min_age_participants</th>\n",
       "      <th>max_age_participants</th>\n",
       "    </tr>\n",
       "  </thead>\n",
       "  <tbody>\n",
       "    <tr>\n",
       "      <th>count</th>\n",
       "      <td>136184.000000</td>\n",
       "      <td>136184.0</td>\n",
       "      <td>136188.0</td>\n",
       "      <td>136185.0</td>\n",
       "    </tr>\n",
       "    <tr>\n",
       "      <th>mean</th>\n",
       "      <td>29.974858</td>\n",
       "      <td>30.260816</td>\n",
       "      <td>28.325763</td>\n",
       "      <td>31.764746</td>\n",
       "    </tr>\n",
       "    <tr>\n",
       "      <th>std</th>\n",
       "      <td>12.461499</td>\n",
       "      <td>13.343577</td>\n",
       "      <td>12.498695</td>\n",
       "      <td>13.709934</td>\n",
       "    </tr>\n",
       "    <tr>\n",
       "      <th>min</th>\n",
       "      <td>0.000000</td>\n",
       "      <td>0.0</td>\n",
       "      <td>0.0</td>\n",
       "      <td>0.0</td>\n",
       "    </tr>\n",
       "    <tr>\n",
       "      <th>25%</th>\n",
       "      <td>21.000000</td>\n",
       "      <td>21.0</td>\n",
       "      <td>20.0</td>\n",
       "      <td>22.0</td>\n",
       "    </tr>\n",
       "    <tr>\n",
       "      <th>50%</th>\n",
       "      <td>27.000000</td>\n",
       "      <td>27.0</td>\n",
       "      <td>25.0</td>\n",
       "      <td>28.0</td>\n",
       "    </tr>\n",
       "    <tr>\n",
       "      <th>75%</th>\n",
       "      <td>36.000000</td>\n",
       "      <td>36.0</td>\n",
       "      <td>34.0</td>\n",
       "      <td>38.0</td>\n",
       "    </tr>\n",
       "    <tr>\n",
       "      <th>max</th>\n",
       "      <td>101.000000</td>\n",
       "      <td>101.0</td>\n",
       "      <td>101.0</td>\n",
       "      <td>101.0</td>\n",
       "    </tr>\n",
       "  </tbody>\n",
       "</table>\n",
       "</div>"
      ],
      "text/plain": [
       "       avg_age_participants  participant_age1  min_age_participants   \n",
       "count         136184.000000          136184.0              136188.0  \\\n",
       "mean              29.974858         30.260816             28.325763   \n",
       "std               12.461499         13.343577             12.498695   \n",
       "min                0.000000               0.0                   0.0   \n",
       "25%               21.000000              21.0                  20.0   \n",
       "50%               27.000000              27.0                  25.0   \n",
       "75%               36.000000              36.0                  34.0   \n",
       "max              101.000000             101.0                 101.0   \n",
       "\n",
       "       max_age_participants  \n",
       "count              136185.0  \n",
       "mean              31.764746  \n",
       "std               13.709934  \n",
       "min                     0.0  \n",
       "25%                    22.0  \n",
       "50%                    28.0  \n",
       "75%                    38.0  \n",
       "max                   101.0  "
      ]
     },
     "execution_count": 378,
     "metadata": {},
     "output_type": "execute_result"
    }
   ],
   "source": [
    "df[['avg_age_participants', 'participant_age1', 'min_age_participants', 'max_age_participants']].describe()"
   ]
  },
  {
   "cell_type": "markdown",
   "metadata": {},
   "source": [
    "We notice from eliminated obvious outliers (>120 and <0 years of age) and plotting the results that [avg_age,min_age,max_age]_participants are very similar (same min and max age, similar mean and median), so we decide that we will further explore their correlation. "
   ]
  },
  {
   "cell_type": "markdown",
   "metadata": {},
   "source": [
    "#TODO: understand what this control mean"
   ]
  },
  {
   "cell_type": "code",
   "execution_count": 379,
   "metadata": {},
   "outputs": [
    {
     "data": {
      "image/png": "[encoded data removed]",
      "text/plain": [
       "<Figure size 640x480 with 1 Axes>"
      ]
     },
     "metadata": {},
     "output_type": "display_data"
    }
   ],
   "source": [
    "#df.loc[(pd.isna(df[\"date\"])), \"date\"] = np.random.choice(df[\"date\"].dropna(), size=len(df[pd.isna(df[\"date\"])]))\n",
    "condition = (df[\"min_age_participants\"] < 12) & (df[\"min_age_participants\"] > 0)\n",
    "random_row = np.random.choice(df.loc[condition][\"min_age_participants\"], size=len(df.loc[condition]))\n",
    "plt.hist(random_row, bins=11)  # You can adjust the number of bins as needed\n",
    "plt.xlabel(\"Values\")\n",
    "plt.ylabel(\"Frequency\")\n",
    "plt.title(\"Histogram of Random Samples\")\n",
    "plt.show()\n",
    "#Abbiamo osservato la distrubuzione di \"min_age_participants\" tra 0 e 11 per poter sostituire i valori di \"min_ag_participants\" che sono a null e che ricadono nella condizione per cui \"n_participant_childs\" è non negativo e > 0\n",
    "#Ragionamento analogo per i valori con \"Teen\" e \"Adult\". (TODO)"
   ]
  },
  {
   "cell_type": "code",
   "execution_count": 380,
   "metadata": {},
   "outputs": [
    {
     "data": {
      "text/html": [
       "<div>\n",
       "<style scoped>\n",
       "    .dataframe tbody tr th:only-of-type {\n",
       "        vertical-align: middle;\n",
       "    }\n",
       "\n",
       "    .dataframe tbody tr th {\n",
       "        vertical-align: top;\n",
       "    }\n",
       "\n",
       "    .dataframe thead th {\n",
       "        text-align: right;\n",
       "    }\n",
       "</style>\n",
       "<table border=\"1\" class=\"dataframe\">\n",
       "  <thead>\n",
       "    <tr style=\"text-align: right;\">\n",
       "      <th></th>\n",
       "      <th>n_participants_child</th>\n",
       "      <th>n_participants_adult</th>\n",
       "      <th>n_participants_teen</th>\n",
       "      <th>min_age_participants</th>\n",
       "    </tr>\n",
       "  </thead>\n",
       "  <tbody>\n",
       "    <tr>\n",
       "      <th>1</th>\n",
       "      <td>&lt;NA&gt;</td>\n",
       "      <td>&lt;NA&gt;</td>\n",
       "      <td>&lt;NA&gt;</td>\n",
       "      <td>&lt;NA&gt;</td>\n",
       "    </tr>\n",
       "    <tr>\n",
       "      <th>4</th>\n",
       "      <td>&lt;NA&gt;</td>\n",
       "      <td>&lt;NA&gt;</td>\n",
       "      <td>&lt;NA&gt;</td>\n",
       "      <td>&lt;NA&gt;</td>\n",
       "    </tr>\n",
       "    <tr>\n",
       "      <th>7</th>\n",
       "      <td>&lt;NA&gt;</td>\n",
       "      <td>&lt;NA&gt;</td>\n",
       "      <td>&lt;NA&gt;</td>\n",
       "      <td>&lt;NA&gt;</td>\n",
       "    </tr>\n",
       "    <tr>\n",
       "      <th>8</th>\n",
       "      <td>&lt;NA&gt;</td>\n",
       "      <td>&lt;NA&gt;</td>\n",
       "      <td>&lt;NA&gt;</td>\n",
       "      <td>&lt;NA&gt;</td>\n",
       "    </tr>\n",
       "    <tr>\n",
       "      <th>9</th>\n",
       "      <td>&lt;NA&gt;</td>\n",
       "      <td>&lt;NA&gt;</td>\n",
       "      <td>&lt;NA&gt;</td>\n",
       "      <td>&lt;NA&gt;</td>\n",
       "    </tr>\n",
       "    <tr>\n",
       "      <th>...</th>\n",
       "      <td>...</td>\n",
       "      <td>...</td>\n",
       "      <td>...</td>\n",
       "      <td>...</td>\n",
       "    </tr>\n",
       "    <tr>\n",
       "      <th>199315</th>\n",
       "      <td>&lt;NA&gt;</td>\n",
       "      <td>&lt;NA&gt;</td>\n",
       "      <td>&lt;NA&gt;</td>\n",
       "      <td>&lt;NA&gt;</td>\n",
       "    </tr>\n",
       "    <tr>\n",
       "      <th>199317</th>\n",
       "      <td>&lt;NA&gt;</td>\n",
       "      <td>&lt;NA&gt;</td>\n",
       "      <td>&lt;NA&gt;</td>\n",
       "      <td>&lt;NA&gt;</td>\n",
       "    </tr>\n",
       "    <tr>\n",
       "      <th>199334</th>\n",
       "      <td>&lt;NA&gt;</td>\n",
       "      <td>&lt;NA&gt;</td>\n",
       "      <td>&lt;NA&gt;</td>\n",
       "      <td>&lt;NA&gt;</td>\n",
       "    </tr>\n",
       "    <tr>\n",
       "      <th>199336</th>\n",
       "      <td>&lt;NA&gt;</td>\n",
       "      <td>&lt;NA&gt;</td>\n",
       "      <td>&lt;NA&gt;</td>\n",
       "      <td>&lt;NA&gt;</td>\n",
       "    </tr>\n",
       "    <tr>\n",
       "      <th>199369</th>\n",
       "      <td>&lt;NA&gt;</td>\n",
       "      <td>&lt;NA&gt;</td>\n",
       "      <td>&lt;NA&gt;</td>\n",
       "      <td>&lt;NA&gt;</td>\n",
       "    </tr>\n",
       "  </tbody>\n",
       "</table>\n",
       "<p>38010 rows × 4 columns</p>\n",
       "</div>"
      ],
      "text/plain": [
       "        n_participants_child  n_participants_adult  n_participants_teen   \n",
       "1                       <NA>                  <NA>                 <NA>  \\\n",
       "4                       <NA>                  <NA>                 <NA>   \n",
       "7                       <NA>                  <NA>                 <NA>   \n",
       "8                       <NA>                  <NA>                 <NA>   \n",
       "9                       <NA>                  <NA>                 <NA>   \n",
       "...                      ...                   ...                  ...   \n",
       "199315                  <NA>                  <NA>                 <NA>   \n",
       "199317                  <NA>                  <NA>                 <NA>   \n",
       "199334                  <NA>                  <NA>                 <NA>   \n",
       "199336                  <NA>                  <NA>                 <NA>   \n",
       "199369                  <NA>                  <NA>                 <NA>   \n",
       "\n",
       "        min_age_participants  \n",
       "1                       <NA>  \n",
       "4                       <NA>  \n",
       "7                       <NA>  \n",
       "8                       <NA>  \n",
       "9                       <NA>  \n",
       "...                      ...  \n",
       "199315                  <NA>  \n",
       "199317                  <NA>  \n",
       "199334                  <NA>  \n",
       "199336                  <NA>  \n",
       "199369                  <NA>  \n",
       "\n",
       "[38010 rows x 4 columns]"
      ]
     },
     "execution_count": 380,
     "metadata": {},
     "output_type": "execute_result"
    }
   ],
   "source": [
    "#internalCondition  =(df[\"n_participants_teen\"] >= 0) & (df[\"min_age_participants\"].isna())\n",
    "#df.loc[internalCondition][[\"n_participants_adult\",\"min_age_participants\"]]\n",
    "#41403 rows to fix.\n",
    "df[df[\"min_age_participants\"].isna() & (df[\"n_participants_adult\"].isna() & (df[\"n_participants_teen\"].isna()) & (df[\"n_participants_child\"].isna()))][[\"n_participants_child\",\"n_participants_adult\",\"n_participants_teen\",\"min_age_participants\"]]"
   ]
  },
  {
   "cell_type": "markdown",
   "metadata": {},
   "source": [
    "#TODO understand if it makes sense"
   ]
  },
  {
   "cell_type": "code",
   "execution_count": 381,
   "metadata": {},
   "outputs": [
    {
     "name": "stdout",
     "output_type": "stream",
     "text": [
      "<class 'pandas.core.frame.DataFrame'>\n",
      "Index: 199378 entries, 0 to 199378\n",
      "Data columns (total 33 columns):\n",
      " #   Column                     Non-Null Count   Dtype         \n",
      "---  ------                     --------------   -----         \n",
      " 0   date                       199378 non-null  datetime64[ns]\n",
      " 1   state                      199378 non-null  string        \n",
      " 2   city_or_county             199378 non-null  string        \n",
      " 3   address                    185727 non-null  string        \n",
      " 4   latitude                   199312 non-null  float64       \n",
      " 5   longitude                  199312 non-null  float64       \n",
      " 6   congressional_district     199378 non-null  Int64         \n",
      " 7   state_house_district       178207 non-null  Int64         \n",
      " 8   state_senate_district      184239 non-null  Int64         \n",
      " 9   participant_age1           136184 non-null  Int64         \n",
      " 10  participant_age_group1     161304 non-null  string        \n",
      " 11  participant_gender1        166715 non-null  string        \n",
      " 12  min_age_participants       161368 non-null  Int64         \n",
      " 13  avg_age_participants       136184 non-null  float64       \n",
      " 14  max_age_participants       136185 non-null  Int64         \n",
      " 15  n_participants_child       161308 non-null  Int64         \n",
      " 16  n_participants_teen        161307 non-null  Int64         \n",
      " 17  n_participants_adult       161309 non-null  Int64         \n",
      " 18  n_males                    166715 non-null  Int64         \n",
      " 19  n_females                  166715 non-null  Int64         \n",
      " 20  n_killed                   199378 non-null  Int64         \n",
      " 21  n_injured                  199378 non-null  Int64         \n",
      " 22  n_arrested                 174593 non-null  Int64         \n",
      " 23  n_unharmed                 174593 non-null  Int64         \n",
      " 24  n_participants             199378 non-null  Int64         \n",
      " 25  notes                      133786 non-null  string        \n",
      " 26  incident_characteristics1  199100 non-null  string        \n",
      " 27  incident_characteristics2  119390 non-null  string        \n",
      " 28  year                       199378 non-null  float64       \n",
      " 29  povertyPercentage          199378 non-null  float64       \n",
      " 30  party                      199378 non-null  object        \n",
      " 31  candidatevotes             199378 non-null  float64       \n",
      " 32  totalvotes                 199378 non-null  float64       \n",
      "dtypes: Int64(16), datetime64[ns](1), float64(7), object(1), string(8)\n",
      "memory usage: 54.8+ MB\n"
     ]
    }
   ],
   "source": [
    "#modify the min_age_participants, max_age_participants null values by taking the column value according to this three columns \"n_participants_adult\", \"n_participants_teen\" and \"n_participants_child\" (TODO COMMENTO)\n",
    "#min_age_participants\n",
    "#1 child\n",
    "condition = (df[\"min_age_participants\"] < 12) & (df[\"min_age_participants\"] > 0)\n",
    "internalCondition  =(df[\"min_age_participants\"].isna()) & (df[\"n_participants_child\"].notna()) & (df[\"n_participants_child\"] > 0)\n",
    "df.loc[internalCondition, \"min_age_participants\"] = np.random.choice(df.loc[condition, \"min_age_participants\"], size=internalCondition.sum())\n",
    "#2 teen\n",
    "condition = (df[\"min_age_participants\"] < 17) & (df[\"min_age_participants\"] > 11)\n",
    "internalCondition  =(df[\"min_age_participants\"].isna()) & (df[\"n_participants_teen\"].notna()) & (df[\"n_participants_teen\"] > 0)\n",
    "df.loc[internalCondition, \"min_age_participants\"]= np.random.choice(df.loc[condition][\"min_age_participants\"], size=internalCondition.sum())\n",
    "#3 adult\n",
    "condition = (df[\"min_age_participants\"] < df[\"max_age_participants\"]) & (df[\"min_age_participants\"] > 17) & (df[\"min_age_participants\"] < 60)\n",
    "internalCondition  = (df[\"min_age_participants\"].isna()) & (df[\"n_participants_adult\"].notna()) & (df[\"n_participants_adult\"] > 0)\n",
    "df.loc[internalCondition, \"min_age_participants\"]= np.random.choice(df.loc[condition][\"min_age_participants\"], size=internalCondition.sum())\n",
    "df.info()"
   ]
  },
  {
   "cell_type": "code",
   "execution_count": 382,
   "metadata": {},
   "outputs": [
    {
     "name": "stdout",
     "output_type": "stream",
     "text": [
      "<class 'pandas.core.frame.DataFrame'>\n",
      "Index: 199378 entries, 0 to 199378\n",
      "Data columns (total 33 columns):\n",
      " #   Column                     Non-Null Count   Dtype         \n",
      "---  ------                     --------------   -----         \n",
      " 0   date                       199378 non-null  datetime64[ns]\n",
      " 1   state                      199378 non-null  string        \n",
      " 2   city_or_county             199378 non-null  string        \n",
      " 3   address                    185727 non-null  string        \n",
      " 4   latitude                   199312 non-null  float64       \n",
      " 5   longitude                  199312 non-null  float64       \n",
      " 6   congressional_district     199378 non-null  Int64         \n",
      " 7   state_house_district       178207 non-null  Int64         \n",
      " 8   state_senate_district      184239 non-null  Int64         \n",
      " 9   participant_age1           136184 non-null  Int64         \n",
      " 10  participant_age_group1     161304 non-null  string        \n",
      " 11  participant_gender1        166715 non-null  string        \n",
      " 12  min_age_participants       199378 non-null  Int64         \n",
      " 13  avg_age_participants       136184 non-null  float64       \n",
      " 14  max_age_participants       136185 non-null  Int64         \n",
      " 15  n_participants_child       161308 non-null  Int64         \n",
      " 16  n_participants_teen        161307 non-null  Int64         \n",
      " 17  n_participants_adult       161309 non-null  Int64         \n",
      " 18  n_males                    166715 non-null  Int64         \n",
      " 19  n_females                  166715 non-null  Int64         \n",
      " 20  n_killed                   199378 non-null  Int64         \n",
      " 21  n_injured                  199378 non-null  Int64         \n",
      " 22  n_arrested                 174593 non-null  Int64         \n",
      " 23  n_unharmed                 174593 non-null  Int64         \n",
      " 24  n_participants             199378 non-null  Int64         \n",
      " 25  notes                      133786 non-null  string        \n",
      " 26  incident_characteristics1  199100 non-null  string        \n",
      " 27  incident_characteristics2  119390 non-null  string        \n",
      " 28  year                       199378 non-null  float64       \n",
      " 29  povertyPercentage          199378 non-null  float64       \n",
      " 30  party                      199378 non-null  object        \n",
      " 31  candidatevotes             199378 non-null  float64       \n",
      " 32  totalvotes                 199378 non-null  float64       \n",
      "dtypes: Int64(16), datetime64[ns](1), float64(7), object(1), string(8)\n",
      "memory usage: 54.8+ MB\n"
     ]
    }
   ],
   "source": [
    "condition = (df[\"min_age_participants\"].notna())\n",
    "internalCondition  =df[\"min_age_participants\"].isna()\n",
    "df.loc[internalCondition, \"min_age_participants\"] = np.random.choice(df.loc[condition, \"min_age_participants\"], size=internalCondition.sum())\n",
    "df.info()"
   ]
  },
  {
   "cell_type": "code",
   "execution_count": 383,
   "metadata": {},
   "outputs": [
    {
     "name": "stdout",
     "output_type": "stream",
     "text": [
      "<class 'pandas.core.frame.DataFrame'>\n",
      "Index: 199378 entries, 0 to 199378\n",
      "Data columns (total 33 columns):\n",
      " #   Column                     Non-Null Count   Dtype         \n",
      "---  ------                     --------------   -----         \n",
      " 0   date                       199378 non-null  datetime64[ns]\n",
      " 1   state                      199378 non-null  string        \n",
      " 2   city_or_county             199378 non-null  string        \n",
      " 3   address                    185727 non-null  string        \n",
      " 4   latitude                   199312 non-null  float64       \n",
      " 5   longitude                  199312 non-null  float64       \n",
      " 6   congressional_district     199378 non-null  Int64         \n",
      " 7   state_house_district       178207 non-null  Int64         \n",
      " 8   state_senate_district      184239 non-null  Int64         \n",
      " 9   participant_age1           136184 non-null  Int64         \n",
      " 10  participant_age_group1     161304 non-null  string        \n",
      " 11  participant_gender1        166715 non-null  string        \n",
      " 12  min_age_participants       199378 non-null  Int64         \n",
      " 13  avg_age_participants       136184 non-null  float64       \n",
      " 14  max_age_participants       161368 non-null  Int64         \n",
      " 15  n_participants_child       161308 non-null  Int64         \n",
      " 16  n_participants_teen        161307 non-null  Int64         \n",
      " 17  n_participants_adult       161309 non-null  Int64         \n",
      " 18  n_males                    166715 non-null  Int64         \n",
      " 19  n_females                  166715 non-null  Int64         \n",
      " 20  n_killed                   199378 non-null  Int64         \n",
      " 21  n_injured                  199378 non-null  Int64         \n",
      " 22  n_arrested                 174593 non-null  Int64         \n",
      " 23  n_unharmed                 174593 non-null  Int64         \n",
      " 24  n_participants             199378 non-null  Int64         \n",
      " 25  notes                      133786 non-null  string        \n",
      " 26  incident_characteristics1  199100 non-null  string        \n",
      " 27  incident_characteristics2  119390 non-null  string        \n",
      " 28  year                       199378 non-null  float64       \n",
      " 29  povertyPercentage          199378 non-null  float64       \n",
      " 30  party                      199378 non-null  object        \n",
      " 31  candidatevotes             199378 non-null  float64       \n",
      " 32  totalvotes                 199378 non-null  float64       \n",
      "dtypes: Int64(16), datetime64[ns](1), float64(7), object(1), string(8)\n",
      "memory usage: 54.8+ MB\n"
     ]
    }
   ],
   "source": [
    "\n",
    "#modify the  max_age_participants null values by taking the column value according to this three columns \"n_participants_adult\", \"n_participants_teen\" and \"n_participants_child\" (TODO COMMENTO)\n",
    "#min_age_participants\n",
    "#1 adult\n",
    "condition = (df[\"max_age_participants\"] > 17) & (df[\"max_age_participants\"] < 60)\n",
    "internalCondition  = (df[\"max_age_participants\"].isna()) & (df[\"n_participants_adult\"].notna()) & (df[\"n_participants_adult\"] > 0)\n",
    "df.loc[internalCondition, \"max_age_participants\"]= np.random.choice(df.loc[condition][\"max_age_participants\"], size=internalCondition.sum())\n",
    "#2 teen\n",
    "condition = (df[\"max_age_participants\"] < 17) & (df[\"max_age_participants\"] > 11)\n",
    "internalCondition  =(df[\"max_age_participants\"].isna()) & (df[\"n_participants_teen\"].notna()) & (df[\"n_participants_teen\"] > 0)\n",
    "df.loc[internalCondition, \"max_age_participants\"]= np.random.choice(df.loc[condition][\"max_age_participants\"], size=internalCondition.sum())\n",
    "#3 child\n",
    "condition = (df[\"max_age_participants\"] < 12) & (df[\"max_age_participants\"] > 0)\n",
    "internalCondition  =(df[\"max_age_participants\"].isna()) & (df[\"n_participants_child\"].notna()) & (df[\"n_participants_child\"] > 0)\n",
    "df.loc[internalCondition, \"max_age_participants\"] = np.random.choice(df.loc[condition, \"max_age_participants\"], size=internalCondition.sum())\n",
    "\n",
    "\n",
    "df.info()"
   ]
  },
  {
   "cell_type": "code",
   "execution_count": 384,
   "metadata": {},
   "outputs": [
    {
     "name": "stdout",
     "output_type": "stream",
     "text": [
      "<class 'pandas.core.frame.DataFrame'>\n",
      "Index: 199378 entries, 0 to 199378\n",
      "Data columns (total 33 columns):\n",
      " #   Column                     Non-Null Count   Dtype         \n",
      "---  ------                     --------------   -----         \n",
      " 0   date                       199378 non-null  datetime64[ns]\n",
      " 1   state                      199378 non-null  string        \n",
      " 2   city_or_county             199378 non-null  string        \n",
      " 3   address                    185727 non-null  string        \n",
      " 4   latitude                   199312 non-null  float64       \n",
      " 5   longitude                  199312 non-null  float64       \n",
      " 6   congressional_district     199378 non-null  Int64         \n",
      " 7   state_house_district       178207 non-null  Int64         \n",
      " 8   state_senate_district      184239 non-null  Int64         \n",
      " 9   participant_age1           136184 non-null  Int64         \n",
      " 10  participant_age_group1     161304 non-null  string        \n",
      " 11  participant_gender1        166715 non-null  string        \n",
      " 12  min_age_participants       199378 non-null  Int64         \n",
      " 13  avg_age_participants       136184 non-null  float64       \n",
      " 14  max_age_participants       199378 non-null  Int64         \n",
      " 15  n_participants_child       161308 non-null  Int64         \n",
      " 16  n_participants_teen        161307 non-null  Int64         \n",
      " 17  n_participants_adult       161309 non-null  Int64         \n",
      " 18  n_males                    166715 non-null  Int64         \n",
      " 19  n_females                  166715 non-null  Int64         \n",
      " 20  n_killed                   199378 non-null  Int64         \n",
      " 21  n_injured                  199378 non-null  Int64         \n",
      " 22  n_arrested                 174593 non-null  Int64         \n",
      " 23  n_unharmed                 174593 non-null  Int64         \n",
      " 24  n_participants             199378 non-null  Int64         \n",
      " 25  notes                      133786 non-null  string        \n",
      " 26  incident_characteristics1  199100 non-null  string        \n",
      " 27  incident_characteristics2  119390 non-null  string        \n",
      " 28  year                       199378 non-null  float64       \n",
      " 29  povertyPercentage          199378 non-null  float64       \n",
      " 30  party                      199378 non-null  object        \n",
      " 31  candidatevotes             199378 non-null  float64       \n",
      " 32  totalvotes                 199378 non-null  float64       \n",
      "dtypes: Int64(16), datetime64[ns](1), float64(7), object(1), string(8)\n",
      "memory usage: 54.8+ MB\n"
     ]
    }
   ],
   "source": [
    "condition = (df[\"max_age_participants\"].notna())\n",
    "internalCondition  =df[\"max_age_participants\"].isna()\n",
    "df.loc[internalCondition, \"max_age_participants\"] = np.random.choice(df.loc[condition, \"max_age_participants\"], size=internalCondition.sum())\n",
    "df.info()"
   ]
  },
  {
   "cell_type": "code",
   "execution_count": 385,
   "metadata": {},
   "outputs": [
    {
     "data": {
      "text/html": [
       "<div>\n",
       "<style scoped>\n",
       "    .dataframe tbody tr th:only-of-type {\n",
       "        vertical-align: middle;\n",
       "    }\n",
       "\n",
       "    .dataframe tbody tr th {\n",
       "        vertical-align: top;\n",
       "    }\n",
       "\n",
       "    .dataframe thead th {\n",
       "        text-align: right;\n",
       "    }\n",
       "</style>\n",
       "<table border=\"1\" class=\"dataframe\">\n",
       "  <thead>\n",
       "    <tr style=\"text-align: right;\">\n",
       "      <th></th>\n",
       "      <th>min_age_participants</th>\n",
       "      <th>n_participants_adult</th>\n",
       "    </tr>\n",
       "  </thead>\n",
       "  <tbody>\n",
       "  </tbody>\n",
       "</table>\n",
       "</div>"
      ],
      "text/plain": [
       "Empty DataFrame\n",
       "Columns: [min_age_participants, n_participants_adult]\n",
       "Index: []"
      ]
     },
     "execution_count": 385,
     "metadata": {},
     "output_type": "execute_result"
    }
   ],
   "source": [
    "#df[df[\"min_age_participants\"] > df[\"max_age_participants\"]][[\"min_age_participants\",\"max_age_participants\"]]\n",
    "#check that the new substitution doesn't create conflicts (wrong column values) \n",
    "#df[df[\"min_age_participants\"].isna() & ( df[\"n_participants_adult\"] == 0 | df[\"n_participants_adult\"].isna())][[\"min_age_participants\",\"n_participants_adult\"]]\n",
    "df[df[\"min_age_participants\"].isna() & ((df[\"n_participants_adult\"] == 0) | df[\"n_participants_adult\"].isna())][[\"min_age_participants\",\"n_participants_adult\"]]\n",
    "#TODO\n",
    "#& (df[\"n_participants_teen\"].isna() | df[\"n_participants_teen\"] == 0) & (df[\"n_participants_child\"].isna() | df[\"n_participants_child\"] == 0)  \n",
    "#All the values that "
   ]
  },
  {
   "cell_type": "code",
   "execution_count": 386,
   "metadata": {},
   "outputs": [
    {
     "data": {
      "image/png": "[encoded data removed]",
      "text/plain": [
       "<Figure size 640x480 with 1 Axes>"
      ]
     },
     "metadata": {},
     "output_type": "display_data"
    },
    {
     "data": {
      "image/png": "[encoded data removed]",
      "text/plain": [
       "<Figure size 640x480 with 1 Axes>"
      ]
     },
     "metadata": {},
     "output_type": "display_data"
    },
    {
     "data": {
      "image/png": "[encoded data removed]",
      "text/plain": [
       "<Figure size 640x480 with 1 Axes>"
      ]
     },
     "metadata": {},
     "output_type": "display_data"
    },
    {
     "data": {
      "image/png": "[encoded data removed]",
      "text/plain": [
       "<Figure size 640x480 with 1 Axes>"
      ]
     },
     "metadata": {},
     "output_type": "display_data"
    }
   ],
   "source": [
    "df.hist(column=\"min_age_participants\", bins=[0, 10, 20, 30, 40, 50, 60, 70, 80, 90, 100, 110, 120])\n",
    "plt.title(\"Minimum age after cleaning\")\n",
    "plt.xlabel(\"Minimum age\")\n",
    "plt.ylabel(\"Individuals\")\n",
    "plt.show()\n",
    "\n",
    "df.boxplot(column=\"min_age_participants\")\n",
    "plt.title(\"Minimum age after cleaning\")\n",
    "plt.ylabel(\"Minimum age\")\n",
    "plt.show()\n",
    "\n",
    "df.hist(column=\"max_age_participants\", bins=[0, 10, 20, 30, 40, 50, 60, 70, 80, 90, 100, 110, 120])\n",
    "plt.title(\"Maximum age after cleaning\")\n",
    "plt.xlabel(\"Maximum age\")\n",
    "plt.ylabel(\"Individuals\")\n",
    "plt.show()\n",
    "\n",
    "df.boxplot(column=\"max_age_participants\")\n",
    "plt.title(\"Maximum age after cleaning\")\n",
    "plt.ylabel(\"Maximum age\")\n",
    "plt.show()"
   ]
  },
  {
   "cell_type": "markdown",
   "metadata": {
    "jp-MarkdownHeadingCollapsed": true
   },
   "source": [
    "## Date\n",
    "\n",
    "Analysis and cleaning of the date attribute"
   ]
  },
  {
   "cell_type": "code",
   "execution_count": 387,
   "metadata": {
    "id": "cKAjvMdCjsUS"
   },
   "outputs": [
    {
     "data": {
      "image/png": "[encoded data removed]",
      "text/plain": [
       "<Figure size 640x480 with 1 Axes>"
      ]
     },
     "metadata": {},
     "output_type": "display_data"
    }
   ],
   "source": [
    "df.hist(column=[\"date\"],   bins=[datetime.datetime(2012,7,1,0,0), datetime.datetime(2013,1,1,0,0), datetime.datetime(2013,7,1,0,0),\n",
    "                             datetime.datetime(2014,1,1,0,0), datetime.datetime(2014,7,1,0,0), datetime.datetime(2015,1,1,0,0),\n",
    "                             datetime.datetime(2015,7,1,0,0), datetime.datetime(2016,1,1,0,0), datetime.datetime(2016,7,1,0,0),\n",
    "                             datetime.datetime(2017,1,1,0,0), datetime.datetime(2017,7,1,0,0), datetime.datetime(2018,1,1,0,0),\n",
    "                             datetime.datetime(2018,7,1,0,0), datetime.datetime(2019,1,1,0,0)])\n",
    "plt.title(\"Date before cleaning\")\n",
    "plt.xlabel(\"date\")\n",
    "plt.ylabel(\"Number of incidents\")\n",
    "plt.show()"
   ]
  },
  {
   "cell_type": "markdown",
   "metadata": {},
   "source": [
    "We considered all dates after 2023-10-01 (the date we received the dataset) to be ouliers, in particular error in the data"
   ]
  },
  {
   "cell_type": "code",
   "execution_count": 390,
   "metadata": {},
   "outputs": [],
   "source": [
    "\"\"\" #setting nan the longitudes and latitudes that are not in the US\n",
    "df.loc[(df[\"latitude\"] > 64.85694) | (df[\"latitude\"] < 19.50139), (\"latitude\", \"longitude\")] = np.nan\n",
    "df.loc[(df[\"longitude\"] < -161.75583) | (df[\"longitude\"] > -68.01197), (\"longitude\" , \"latitude\")] = np.nan \"\"\"\n",
    "#TODO: in DU cover all america"
   ]
  },
  {
   "cell_type": "markdown",
   "metadata": {},
   "source": [
    "# Geographical info"
   ]
  },
  {
   "cell_type": "markdown",
   "metadata": {},
   "source": [
    "## Latitude and longitude"
   ]
  },
  {
   "cell_type": "markdown",
   "metadata": {},
   "source": [
    "We consider the triple <date,latitude,longitude> to be identifying of the incident. So we decided to remove all records that had all these three values to NaN"
   ]
  },
  {
   "cell_type": "code",
   "execution_count": 391,
   "metadata": {
    "colab": {
     "base_uri": "https://localhost:8080/"
    },
    "id": "DuacLIzgjsUU",
    "outputId": "409cb56c-700b-4a06-e60e-d8427e0ecbba"
   },
   "outputs": [
    {
     "name": "stdout",
     "output_type": "stream",
     "text": [
      "199378\n",
      "198167\n"
     ]
    }
   ],
   "source": [
    "print(len(df))\n",
    "#print duplicates columns if they are not NaN\n",
    "#df = df.drop_duplicates(subset=[\"date\", \"latitude\", \"longitude\"]).append(df[pd.isnull(df['date']) | pd.isnull(df['latitude']) | pd.isnull(df['longitude'])])\n",
    "df = pd.concat([df[pd.isnull(df['date']) | pd.isnull(df['latitude']) | pd.isnull(df['longitude'])], df.drop_duplicates(subset=[\"date\", \"latitude\", \"longitude\"])])\n",
    "df.drop_duplicates(inplace=True)\n",
    "print(len(df))"
   ]
  },
  {
   "cell_type": "markdown",
   "metadata": {},
   "source": [
    "## Filling of missing values and outliers"
   ]
  },
  {
   "cell_type": "code",
   "execution_count": 392,
   "metadata": {},
   "outputs": [
    {
     "name": "stdout",
     "output_type": "stream",
     "text": [
      "<class 'pandas.core.frame.DataFrame'>\n",
      "Index: 198167 entries, 66818 to 199378\n",
      "Data columns (total 33 columns):\n",
      " #   Column                     Non-Null Count   Dtype         \n",
      "---  ------                     --------------   -----         \n",
      " 0   date                       198167 non-null  datetime64[ns]\n",
      " 1   state                      198167 non-null  string        \n",
      " 2   city_or_county             198167 non-null  string        \n",
      " 3   address                    184771 non-null  string        \n",
      " 4   latitude                   198167 non-null  float64       \n",
      " 5   longitude                  198167 non-null  float64       \n",
      " 6   congressional_district     198167 non-null  Int64         \n",
      " 7   state_house_district       177094 non-null  Int64         \n",
      " 8   state_senate_district      183086 non-null  Int64         \n",
      " 9   participant_age1           135551 non-null  Int64         \n",
      " 10  participant_age_group1     160568 non-null  string        \n",
      " 11  participant_gender1        165953 non-null  string        \n",
      " 12  min_age_participants       198167 non-null  Int64         \n",
      " 13  avg_age_participants       135551 non-null  float64       \n",
      " 14  max_age_participants       198167 non-null  Int64         \n",
      " 15  n_participants_child       160572 non-null  Int64         \n",
      " 16  n_participants_teen        160571 non-null  Int64         \n",
      " 17  n_participants_adult       160573 non-null  Int64         \n",
      " 18  n_males                    165953 non-null  Int64         \n",
      " 19  n_females                  165953 non-null  Int64         \n",
      " 20  n_killed                   198167 non-null  Int64         \n",
      " 21  n_injured                  198167 non-null  Int64         \n",
      " 22  n_arrested                 173781 non-null  Int64         \n",
      " 23  n_unharmed                 173781 non-null  Int64         \n",
      " 24  n_participants             198167 non-null  Int64         \n",
      " 25  notes                      133063 non-null  string        \n",
      " 26  incident_characteristics1  197894 non-null  string        \n",
      " 27  incident_characteristics2  118675 non-null  string        \n",
      " 28  year                       198167 non-null  float64       \n",
      " 29  povertyPercentage          198167 non-null  float64       \n",
      " 30  party                      198167 non-null  object        \n",
      " 31  candidatevotes             198167 non-null  float64       \n",
      " 32  totalvotes                 198167 non-null  float64       \n",
      "dtypes: Int64(16), datetime64[ns](1), float64(7), object(1), string(8)\n",
      "memory usage: 54.4+ MB\n"
     ]
    }
   ],
   "source": [
    "#Sostituisco i valori NaN di latitude e longitude, con i valori delle righe aventi lo stesso state e la stessa city_or_county\n",
    "df[['latitude', 'longitude']] = df.groupby([\"state\", \"city_or_county\"],group_keys=False)[['latitude', 'longitude']].apply(lambda x: x.fillna(x.mean()))\n",
    "df[['latitude', 'longitude']] = df.groupby(\"state\",group_keys=False)[['latitude', 'longitude']].apply(lambda x: x.fillna(x.mean()))\n",
    "df.info()"
   ]
  },
  {
   "cell_type": "markdown",
   "metadata": {},
   "source": [
    "# Participant quantity information \n",
    "('n_participants_child', 'n_participants_teen',\n",
    "       'n_participants_adult', 'n_males', 'n_females', 'n_killed', 'n_injured',\n",
    "       'n_arrested', 'n_unharmed', 'n_participants')"
   ]
  },
  {
   "cell_type": "markdown",
   "metadata": {},
   "source": [
    "#TODO to check.."
   ]
  },
  {
   "cell_type": "code",
   "execution_count": 393,
   "metadata": {},
   "outputs": [
    {
     "name": "stdout",
     "output_type": "stream",
     "text": [
      "<class 'pandas.core.frame.DataFrame'>\n",
      "Index: 198167 entries, 66818 to 199378\n",
      "Data columns (total 33 columns):\n",
      " #   Column                     Non-Null Count   Dtype         \n",
      "---  ------                     --------------   -----         \n",
      " 0   date                       198167 non-null  datetime64[ns]\n",
      " 1   state                      198167 non-null  string        \n",
      " 2   city_or_county             198167 non-null  string        \n",
      " 3   address                    184771 non-null  string        \n",
      " 4   latitude                   198167 non-null  float64       \n",
      " 5   longitude                  198167 non-null  float64       \n",
      " 6   congressional_district     198167 non-null  Int64         \n",
      " 7   state_house_district       177094 non-null  Int64         \n",
      " 8   state_senate_district      183086 non-null  Int64         \n",
      " 9   participant_age1           135551 non-null  Int64         \n",
      " 10  participant_age_group1     160568 non-null  string        \n",
      " 11  participant_gender1        165953 non-null  string        \n",
      " 12  min_age_participants       198167 non-null  Int64         \n",
      " 13  avg_age_participants       135551 non-null  float64       \n",
      " 14  max_age_participants       198167 non-null  Int64         \n",
      " 15  n_participants_child       160572 non-null  Int64         \n",
      " 16  n_participants_teen        160571 non-null  Int64         \n",
      " 17  n_participants_adult       160573 non-null  Int64         \n",
      " 18  n_males                    165953 non-null  Int64         \n",
      " 19  n_females                  165953 non-null  Int64         \n",
      " 20  n_killed                   198167 non-null  Int64         \n",
      " 21  n_injured                  198167 non-null  Int64         \n",
      " 22  n_arrested                 173781 non-null  Int64         \n",
      " 23  n_unharmed                 173781 non-null  Int64         \n",
      " 24  n_participants             198167 non-null  Int64         \n",
      " 25  notes                      133063 non-null  string        \n",
      " 26  incident_characteristics1  197894 non-null  string        \n",
      " 27  incident_characteristics2  118675 non-null  string        \n",
      " 28  year                       198167 non-null  float64       \n",
      " 29  povertyPercentage          198167 non-null  float64       \n",
      " 30  party                      198167 non-null  object        \n",
      " 31  candidatevotes             198167 non-null  float64       \n",
      " 32  totalvotes                 198167 non-null  float64       \n",
      "dtypes: Int64(16), datetime64[ns](1), float64(7), object(1), string(8)\n",
      "memory usage: 54.4+ MB\n"
     ]
    }
   ],
   "source": [
    "# Calculate the values to substitute, utilizza n_females, n_males\n",
    "#Utilizzerà questi valori per sosituire \"n_participants\" nel caso somma tra male e female è pari alla somma tra teen,child e adults.\n",
    "#La modifica per quanto riguarda \"n_participants\" è fatta solo se è diversa da tutte le altre somme delle varie colonne:\n",
    "#1) females + males\n",
    "#2) child + adult + teen\n",
    "#3) killed+injured+unharmed+arrested\n",
    "#Nel caso in cui n_partiicpants sia almeno uguale ad una delle altre somme => lascia uguale.\n",
    "df['substitute_values'] = df['n_females'] + df['n_males']\n",
    "\n",
    "# Define the condition for substitution\n",
    "condition = (\n",
    "    (df['n_participants'] != (df['n_females'] + df['n_males'])) &\n",
    "    (df['n_participants'] != (df['n_participants_adult'] + df['n_participants_child'] + df['n_participants_teen'])) &\n",
    "    (df['n_participants'] != (df['n_killed'] + df['n_injured'] + df['n_unharmed'] + df['n_arrested'])) & # TODO: not correct\n",
    "    ((df['n_females'] + df['n_males']) == (df['n_participants_teen'] + df['n_participants_child'] + df['n_participants_adult']))\n",
    ")\n",
    "\n",
    "# Update the \"n_participants\" column with the calculated values where the condition is met\n",
    "df.loc[condition, 'n_participants'] = df.loc[condition, 'substitute_values']\n",
    "\n",
    "# Drop the temporary \"substitute_values\" column if needed\n",
    "df.drop(columns='substitute_values', inplace=True)\n",
    "\n",
    "df[\n",
    "        (df['n_participants'] != (df[\"n_females\"] + df[\"n_males\"])) & \n",
    "        (df['n_participants'] != (df[\"n_participants_adult\"] + df[\"n_participants_child\"] + df[\"n_participants_teen\"])) &\n",
    "        (df[\"n_participants\"] != (df[\"n_killed\"] + df[\"n_injured\"] + df[\"n_unharmed\"] + df[\"n_arrested\"])\n",
    "    ) &\n",
    "    (\n",
    "        (df['n_females'] + df['n_males']) == (df['n_participants_adult'] + df['n_participants_child'] + df['n_participants_teen'])\n",
    "    )\n",
    "][[\"n_participants\",\"n_males\",\"n_females\", \"n_participants_teen\", \"n_participants_child\", \"n_participants_adult\", \"n_killed\", \"n_injured\", \"n_unharmed\", \"n_arrested\"]]\n",
    "df.info()"
   ]
  },
  {
   "cell_type": "code",
   "execution_count": 394,
   "metadata": {},
   "outputs": [
    {
     "name": "stdout",
     "output_type": "stream",
     "text": [
      "<class 'pandas.core.frame.DataFrame'>\n",
      "Index: 198167 entries, 66818 to 199378\n",
      "Data columns (total 33 columns):\n",
      " #   Column                     Non-Null Count   Dtype         \n",
      "---  ------                     --------------   -----         \n",
      " 0   date                       198167 non-null  datetime64[ns]\n",
      " 1   state                      198167 non-null  string        \n",
      " 2   city_or_county             198167 non-null  string        \n",
      " 3   address                    184771 non-null  string        \n",
      " 4   latitude                   198167 non-null  float64       \n",
      " 5   longitude                  198167 non-null  float64       \n",
      " 6   congressional_district     198167 non-null  Int64         \n",
      " 7   state_house_district       177094 non-null  Int64         \n",
      " 8   state_senate_district      183086 non-null  Int64         \n",
      " 9   participant_age1           135551 non-null  Int64         \n",
      " 10  participant_age_group1     160568 non-null  string        \n",
      " 11  participant_gender1        165953 non-null  string        \n",
      " 12  min_age_participants       198167 non-null  Int64         \n",
      " 13  avg_age_participants       135551 non-null  float64       \n",
      " 14  max_age_participants       198167 non-null  Int64         \n",
      " 15  n_participants_child       160572 non-null  Int64         \n",
      " 16  n_participants_teen        160571 non-null  Int64         \n",
      " 17  n_participants_adult       160573 non-null  Int64         \n",
      " 18  n_males                    165953 non-null  Int64         \n",
      " 19  n_females                  165953 non-null  Int64         \n",
      " 20  n_killed                   198167 non-null  Int64         \n",
      " 21  n_injured                  198167 non-null  Int64         \n",
      " 22  n_arrested                 173781 non-null  Int64         \n",
      " 23  n_unharmed                 173781 non-null  Int64         \n",
      " 24  n_participants             198167 non-null  Int64         \n",
      " 25  notes                      133063 non-null  string        \n",
      " 26  incident_characteristics1  197894 non-null  string        \n",
      " 27  incident_characteristics2  118675 non-null  string        \n",
      " 28  year                       198167 non-null  float64       \n",
      " 29  povertyPercentage          198167 non-null  float64       \n",
      " 30  party                      198167 non-null  object        \n",
      " 31  candidatevotes             198167 non-null  float64       \n",
      " 32  totalvotes                 198167 non-null  float64       \n",
      "dtypes: Int64(16), datetime64[ns](1), float64(7), object(1), string(8)\n",
      "memory usage: 54.4+ MB\n"
     ]
    }
   ],
   "source": [
    "# Calculate the values to substitute, utilizza harmed,killed,unharmed,injured per la condizione di somma.\n",
    "df['substitute_values'] = df['n_females'] + df['n_males']\n",
    "\n",
    "# Define the condition for substitution\n",
    "condition = (\n",
    "    (df['n_participants'] != (df['n_females'] + df['n_males'])) &\n",
    "    (df['n_participants'] != (df['n_participants_adult'] + df['n_participants_child'] + df['n_participants_teen'])) &\n",
    "    (df['n_participants'] != (df['n_killed'] + df['n_injured'] + df['n_unharmed'] + df['n_arrested'])) &\n",
    "    ((df['n_females'] + df['n_males']) == (df['n_killed'] + df['n_injured'] + df['n_unharmed'] + df['n_arrested']))\n",
    ")\n",
    "\n",
    "# Update the \"n_participants\" column with the calculated values where the condition is met\n",
    "df.loc[condition, 'n_participants'] = df.loc[condition, 'substitute_values']\n",
    "\n",
    "# Drop the temporary \"substitute_values\" column if needed\n",
    "df.drop(columns='substitute_values', inplace=True)\n",
    "\n",
    "df[\n",
    "        (df['n_participants'] != (df[\"n_females\"] + df[\"n_males\"])) & \n",
    "        (df['n_participants'] != (df[\"n_participants_adult\"] + df[\"n_participants_child\"] + df[\"n_participants_teen\"])) &\n",
    "        (df[\"n_participants\"] != (df[\"n_killed\"] + df[\"n_injured\"] + df[\"n_unharmed\"] + df[\"n_arrested\"])\n",
    "    ) &\n",
    "    (\n",
    "        (df['n_females'] + df['n_males']) == (df['n_killed'] + df['n_injured'] + df['n_unharmed'] + df['n_arrested'])\n",
    "    )\n",
    "][[\"n_participants\",\"n_males\",\"n_females\", \"n_participants_teen\", \"n_participants_child\", \"n_participants_adult\", \"n_killed\", \"n_injured\", \"n_unharmed\", \"n_arrested\"]]\n",
    "df.info()\n"
   ]
  },
  {
   "cell_type": "code",
   "execution_count": 395,
   "metadata": {},
   "outputs": [
    {
     "name": "stdout",
     "output_type": "stream",
     "text": [
      "<class 'pandas.core.frame.DataFrame'>\n",
      "Index: 198167 entries, 66818 to 199378\n",
      "Data columns (total 33 columns):\n",
      " #   Column                     Non-Null Count   Dtype         \n",
      "---  ------                     --------------   -----         \n",
      " 0   date                       198167 non-null  datetime64[ns]\n",
      " 1   state                      198167 non-null  string        \n",
      " 2   city_or_county             198167 non-null  string        \n",
      " 3   address                    184771 non-null  string        \n",
      " 4   latitude                   198167 non-null  float64       \n",
      " 5   longitude                  198167 non-null  float64       \n",
      " 6   congressional_district     198167 non-null  Int64         \n",
      " 7   state_house_district       177094 non-null  Int64         \n",
      " 8   state_senate_district      183086 non-null  Int64         \n",
      " 9   participant_age1           135551 non-null  Int64         \n",
      " 10  participant_age_group1     160568 non-null  string        \n",
      " 11  participant_gender1        165953 non-null  string        \n",
      " 12  min_age_participants       198167 non-null  Int64         \n",
      " 13  avg_age_participants       135551 non-null  float64       \n",
      " 14  max_age_participants       198167 non-null  Int64         \n",
      " 15  n_participants_child       160572 non-null  Int64         \n",
      " 16  n_participants_teen        160571 non-null  Int64         \n",
      " 17  n_participants_adult       160573 non-null  Int64         \n",
      " 18  n_males                    165953 non-null  Int64         \n",
      " 19  n_females                  165953 non-null  Int64         \n",
      " 20  n_killed                   198167 non-null  Int64         \n",
      " 21  n_injured                  198167 non-null  Int64         \n",
      " 22  n_arrested                 173781 non-null  Int64         \n",
      " 23  n_unharmed                 173781 non-null  Int64         \n",
      " 24  n_participants             198167 non-null  Int64         \n",
      " 25  notes                      133063 non-null  string        \n",
      " 26  incident_characteristics1  197894 non-null  string        \n",
      " 27  incident_characteristics2  118675 non-null  string        \n",
      " 28  year                       198167 non-null  float64       \n",
      " 29  povertyPercentage          198167 non-null  float64       \n",
      " 30  party                      198167 non-null  object        \n",
      " 31  candidatevotes             198167 non-null  float64       \n",
      " 32  totalvotes                 198167 non-null  float64       \n",
      "dtypes: Int64(16), datetime64[ns](1), float64(7), object(1), string(8)\n",
      "memory usage: 54.4+ MB\n"
     ]
    }
   ],
   "source": [
    "# Calculate the values to substitute, teen,adult e child con injured,killed,unharmed,arrested come condizione, e adult,teen,child come sostituto.\n",
    "df['substitute_values'] = (df['n_participants_adult'] + df['n_participants_child'] + df['n_participants_teen'])\n",
    "\n",
    "# Define the condition for substitution\n",
    "condition = (\n",
    "    (df['n_participants'] != (df['n_females'] + df['n_males'])) &\n",
    "    (df['n_participants'] != (df['n_participants_adult'] + df['n_participants_child'] + df['n_participants_teen'])) &\n",
    "    (df['n_participants'] != (df['n_killed'] + df['n_injured'] + df['n_unharmed'] + df['n_arrested'])) &\n",
    "    ((df['n_killed'] + df['n_injured'] + df['n_unharmed'] + df['n_arrested']) == (df['n_participants_adult'] + df['n_participants_child'] + df['n_participants_teen']))\n",
    ")\n",
    "\n",
    "# Update the \"n_participants\" column with the calculated values where the condition is met\n",
    "df.loc[condition, 'n_participants'] = df.loc[condition, 'substitute_values']\n",
    "\n",
    "# Drop the temporary \"substitute_values\" column if needed\n",
    "df.drop(columns='substitute_values', inplace=True)\n",
    "\n",
    "df[\n",
    "        (df['n_participants'] != (df[\"n_females\"] + df[\"n_males\"])) & \n",
    "        (df['n_participants'] != (df[\"n_participants_adult\"] + df[\"n_participants_child\"] + df[\"n_participants_teen\"])) &\n",
    "        (df[\"n_participants\"] != (df[\"n_killed\"] + df[\"n_injured\"] + df[\"n_unharmed\"] + df[\"n_arrested\"])\n",
    "    ) &\n",
    "    (\n",
    "        (df['n_participants_adult'] + df['n_participants_child'] + df['n_participants_teen']) == (df['n_killed'] + df['n_injured'] + df['n_unharmed'] + df['n_arrested'])\n",
    "    )\n",
    "][[\"n_participants\",\"n_males\",\"n_females\", \"n_participants_teen\", \"n_participants_child\", \"n_participants_adult\", \"n_killed\", \"n_injured\", \"n_unharmed\", \"n_arrested\"]]\n",
    "df.info()"
   ]
  },
  {
   "cell_type": "markdown",
   "metadata": {
    "jp-MarkdownHeadingCollapsed": true
   },
   "source": [
    "# Poverty by State"
   ]
  },
  {
   "cell_type": "markdown",
   "metadata": {},
   "source": [
    "Import the povertyByStateYear csv file"
   ]
  },
  {
   "cell_type": "code",
   "execution_count": null,
   "metadata": {
    "colab": {
     "base_uri": "https://localhost:8080/"
    },
    "id": "JcL2RjHvjsUL",
    "outputId": "2065912d-33cb-4fbf-821e-3f60f36f0e0e"
   },
   "outputs": [
    {
     "name": "stdout",
     "output_type": "stream",
     "text": [
      "<class 'pandas.core.frame.DataFrame'>\n",
      "RangeIndex: 884 entries, 0 to 883\n",
      "Data columns (total 3 columns):\n",
      " #   Column             Non-Null Count  Dtype  \n",
      "---  ------             --------------  -----  \n",
      " 0   state              884 non-null    object \n",
      " 1   year               884 non-null    int64  \n",
      " 2   povertyPercentage  832 non-null    float64\n",
      "dtypes: float64(1), int64(1), object(1)\n",
      "memory usage: 20.8+ KB\n"
     ]
    }
   ],
   "source": [
    "poverty_df = pd.read_csv('povertyByStateYear.csv', sep=',')\n",
    "poverty_df.info()"
   ]
  },
  {
   "cell_type": "markdown",
   "metadata": {},
   "source": [
    "Change data types to match the content of each attribute"
   ]
  },
  {
   "cell_type": "code",
   "execution_count": null,
   "metadata": {
    "id": "lzw2gs80jsUN"
   },
   "outputs": [],
   "source": [
    "poverty_df[\"state\"] = poverty_df[\"state\"].astype(\"string\")\n",
    "poverty_df[\"year\"] = poverty_df[\"year\"].astype(\"Int64\")"
   ]
  },
  {
   "cell_type": "markdown",
   "metadata": {
    "jp-MarkdownHeadingCollapsed": true
   },
   "source": [
    "# Year State District House"
   ]
  },
  {
   "cell_type": "markdown",
   "metadata": {},
   "source": [
    "Import the year_state_district_house csv file"
   ]
  },
  {
   "cell_type": "code",
   "execution_count": null,
   "metadata": {
    "colab": {
     "base_uri": "https://localhost:8080/"
    },
    "id": "FsRZfePSjsUN",
    "outputId": "9cd61cf0-5072-4586-bebb-af1343f2f492"
   },
   "outputs": [
    {
     "name": "stdout",
     "output_type": "stream",
     "text": [
      "<class 'pandas.core.frame.DataFrame'>\n",
      "RangeIndex: 10441 entries, 0 to 10440\n",
      "Data columns (total 6 columns):\n",
      " #   Column                  Non-Null Count  Dtype \n",
      "---  ------                  --------------  ----- \n",
      " 0   year                    10441 non-null  int64 \n",
      " 1   state                   10441 non-null  object\n",
      " 2   congressional_district  10441 non-null  int64 \n",
      " 3   party                   10441 non-null  object\n",
      " 4   candidatevotes          10441 non-null  int64 \n",
      " 5   totalvotes              10441 non-null  int64 \n",
      "dtypes: int64(4), object(2)\n",
      "memory usage: 489.5+ KB\n"
     ]
    }
   ],
   "source": [
    "district_in_state_df = pd.read_csv('year_state_district_house.csv', sep=',')\n",
    "district_in_state_df.info()"
   ]
  },
  {
   "cell_type": "markdown",
   "metadata": {},
   "source": [
    "Change data types to match the content of each attribute"
   ]
  },
  {
   "cell_type": "code",
   "execution_count": null,
   "metadata": {
    "id": "DJa0SFqEjsUO"
   },
   "outputs": [],
   "source": [
    "district_in_state_df[\"state\"] = district_in_state_df[\"state\"].astype(\"string\")\n",
    "district_in_state_df[\"year\"] = district_in_state_df[\"year\"].astype(\"Int64\")\n",
    "district_in_state_df[\"congressional_district\"] = district_in_state_df[\"congressional_district\"].astype(\"Int64\")\n",
    "district_in_state_df[\"party\"] = district_in_state_df[\"party\"].astype(\"string\")\n",
    "district_in_state_df[\"candidatevotes\"] = district_in_state_df[\"candidatevotes\"].astype(\"Int64\")\n",
    "district_in_state_df[\"totalvotes\"] = district_in_state_df[\"totalvotes\"].astype(\"Int64\")"
   ]
  },
  {
   "cell_type": "code",
   "execution_count": null,
   "metadata": {},
   "outputs": [],
   "source": [
    "\n",
    "df['year'] = pd.DatetimeIndex(df['date']).year \n"
   ]
  },
  {
   "cell_type": "code",
   "execution_count": null,
   "metadata": {},
   "outputs": [
    {
     "data": {
      "text/plain": [
       "33        0.015152\n",
       "84        0.086957\n",
       "122           <NA>\n",
       "292            0.5\n",
       "308           0.25\n",
       "            ...   \n",
       "239672    0.014925\n",
       "239673    0.044444\n",
       "239674    0.001052\n",
       "239675    0.008811\n",
       "239676         0.0\n",
       "Name: males_percentage, Length: 238352, dtype: Float64"
      ]
     },
     "execution_count": 37,
     "metadata": {},
     "output_type": "execute_result"
    }
   ],
   "source": [
    "#How many males are involved in incidents w.r.t. the total number of males for the\n",
    "#same city and in the same period?\n",
    "df[\"males_percentage\"] = df[\"n_males\"] /  df.groupby([\"year\",\"state\", \"city_or_county\"])[\"n_males\"].transform(\"sum\")\n",
    "df[\"males_percentage\"]"
   ]
  },
  {
   "cell_type": "code",
   "execution_count": null,
   "metadata": {},
   "outputs": [
    {
     "data": {
      "text/plain": [
       "33        <NA>\n",
       "84        <NA>\n",
       "122       <NA>\n",
       "292       <NA>\n",
       "308       <NA>\n",
       "          ... \n",
       "239672     0.0\n",
       "239673     0.0\n",
       "239674     0.0\n",
       "239675     0.0\n",
       "239676     0.0\n",
       "Name: killed_percentage, Length: 238352, dtype: Float64"
      ]
     },
     "execution_count": 38,
     "metadata": {},
     "output_type": "execute_result"
    }
   ],
   "source": [
    "#How many killed people have been involved w.r.t the total killed people in\n",
    "# the same congressional district in a given period of time?\n",
    "df[\"killed_percentage\"] = df[\"n_killed\"] /  df.groupby([\"year\",\"state\", \"congressional_district\" ])[\"n_killed\"].transform(\"sum\")\n",
    "df[\"killed_percentage\"]"
   ]
  },
  {
   "cell_type": "code",
   "execution_count": null,
   "metadata": {},
   "outputs": [],
   "source": [
    "#How many injured people have been involved w.r.t the total injured people in\n",
    "# the same congressional district in a given period of time?\n",
    "df[\"injured_percentage\"] = df[\"n_injured\"] /  df.groupby([\"year\",\"state\", \"congressional_district\" ])[\"n_injured\"].transform(\"sum\")\n"
   ]
  },
  {
   "cell_type": "code",
   "execution_count": null,
   "metadata": {},
   "outputs": [
    {
     "data": {
      "text/html": [
       "<div>\n",
       "<style scoped>\n",
       "    .dataframe tbody tr th:only-of-type {\n",
       "        vertical-align: middle;\n",
       "    }\n",
       "\n",
       "    .dataframe tbody tr th {\n",
       "        vertical-align: top;\n",
       "    }\n",
       "\n",
       "    .dataframe thead th {\n",
       "        text-align: right;\n",
       "    }\n",
       "</style>\n",
       "<table border=\"1\" class=\"dataframe\">\n",
       "  <thead>\n",
       "    <tr style=\"text-align: right;\">\n",
       "      <th></th>\n",
       "      <th>n_killed</th>\n",
       "      <th>n_participants</th>\n",
       "      <th>killed_percentage_per_incident</th>\n",
       "    </tr>\n",
       "  </thead>\n",
       "  <tbody>\n",
       "    <tr>\n",
       "      <th>33</th>\n",
       "      <td>1</td>\n",
       "      <td>1</td>\n",
       "      <td>1.0</td>\n",
       "    </tr>\n",
       "    <tr>\n",
       "      <th>84</th>\n",
       "      <td>0</td>\n",
       "      <td>2</td>\n",
       "      <td>0.0</td>\n",
       "    </tr>\n",
       "    <tr>\n",
       "      <th>122</th>\n",
       "      <td>0</td>\n",
       "      <td>0</td>\n",
       "      <td>NaN</td>\n",
       "    </tr>\n",
       "    <tr>\n",
       "      <th>292</th>\n",
       "      <td>0</td>\n",
       "      <td>3</td>\n",
       "      <td>0.0</td>\n",
       "    </tr>\n",
       "    <tr>\n",
       "      <th>308</th>\n",
       "      <td>1</td>\n",
       "      <td>2</td>\n",
       "      <td>0.5</td>\n",
       "    </tr>\n",
       "    <tr>\n",
       "      <th>...</th>\n",
       "      <td>...</td>\n",
       "      <td>...</td>\n",
       "      <td>...</td>\n",
       "    </tr>\n",
       "    <tr>\n",
       "      <th>239672</th>\n",
       "      <td>0</td>\n",
       "      <td>1</td>\n",
       "      <td>0.0</td>\n",
       "    </tr>\n",
       "    <tr>\n",
       "      <th>239673</th>\n",
       "      <td>0</td>\n",
       "      <td>3</td>\n",
       "      <td>0.0</td>\n",
       "    </tr>\n",
       "    <tr>\n",
       "      <th>239674</th>\n",
       "      <td>0</td>\n",
       "      <td>1</td>\n",
       "      <td>0.0</td>\n",
       "    </tr>\n",
       "    <tr>\n",
       "      <th>239675</th>\n",
       "      <td>0</td>\n",
       "      <td>2</td>\n",
       "      <td>0.0</td>\n",
       "    </tr>\n",
       "    <tr>\n",
       "      <th>239676</th>\n",
       "      <td>0</td>\n",
       "      <td>1</td>\n",
       "      <td>0.0</td>\n",
       "    </tr>\n",
       "  </tbody>\n",
       "</table>\n",
       "<p>238352 rows × 3 columns</p>\n",
       "</div>"
      ],
      "text/plain": [
       "        n_killed  n_participants  killed_percentage_per_incident\n",
       "33             1               1                             1.0\n",
       "84             0               2                             0.0\n",
       "122            0               0                             NaN\n",
       "292            0               3                             0.0\n",
       "308            1               2                             0.5\n",
       "...          ...             ...                             ...\n",
       "239672         0               1                             0.0\n",
       "239673         0               3                             0.0\n",
       "239674         0               1                             0.0\n",
       "239675         0               2                             0.0\n",
       "239676         0               1                             0.0\n",
       "\n",
       "[238352 rows x 3 columns]"
      ]
     },
     "execution_count": 40,
     "metadata": {},
     "output_type": "execute_result"
    }
   ],
   "source": [
    "#Ratio of the number of the killed people in the incidents w.r.t. the number of\n",
    "#participants in the incident\n",
    "df[\"killed_percentage_per_incident\"] = df[\"n_killed\"] / df[\"n_participants\"]\n",
    "df[[\"n_killed\", \"n_participants\", \"killed_percentage_per_incident\"]]"
   ]
  },
  {
   "cell_type": "code",
   "execution_count": null,
   "metadata": {},
   "outputs": [
    {
     "data": {
      "text/html": [
       "<div>\n",
       "<style scoped>\n",
       "    .dataframe tbody tr th:only-of-type {\n",
       "        vertical-align: middle;\n",
       "    }\n",
       "\n",
       "    .dataframe tbody tr th {\n",
       "        vertical-align: top;\n",
       "    }\n",
       "\n",
       "    .dataframe thead th {\n",
       "        text-align: right;\n",
       "    }\n",
       "</style>\n",
       "<table border=\"1\" class=\"dataframe\">\n",
       "  <thead>\n",
       "    <tr style=\"text-align: right;\">\n",
       "      <th></th>\n",
       "      <th>n_unharmed</th>\n",
       "      <th>unharmed_percentage</th>\n",
       "    </tr>\n",
       "  </thead>\n",
       "  <tbody>\n",
       "    <tr>\n",
       "      <th>33</th>\n",
       "      <td>0</td>\n",
       "      <td>0.0</td>\n",
       "    </tr>\n",
       "    <tr>\n",
       "      <th>84</th>\n",
       "      <td>0</td>\n",
       "      <td>0.0</td>\n",
       "    </tr>\n",
       "    <tr>\n",
       "      <th>122</th>\n",
       "      <td>&lt;NA&gt;</td>\n",
       "      <td>&lt;NA&gt;</td>\n",
       "    </tr>\n",
       "    <tr>\n",
       "      <th>292</th>\n",
       "      <td>0</td>\n",
       "      <td>0.0</td>\n",
       "    </tr>\n",
       "    <tr>\n",
       "      <th>308</th>\n",
       "      <td>0</td>\n",
       "      <td>0.0</td>\n",
       "    </tr>\n",
       "    <tr>\n",
       "      <th>...</th>\n",
       "      <td>...</td>\n",
       "      <td>...</td>\n",
       "    </tr>\n",
       "    <tr>\n",
       "      <th>239672</th>\n",
       "      <td>0</td>\n",
       "      <td>0.0</td>\n",
       "    </tr>\n",
       "    <tr>\n",
       "      <th>239673</th>\n",
       "      <td>3</td>\n",
       "      <td>7.060887</td>\n",
       "    </tr>\n",
       "    <tr>\n",
       "      <th>239674</th>\n",
       "      <td>0</td>\n",
       "      <td>0.0</td>\n",
       "    </tr>\n",
       "    <tr>\n",
       "      <th>239675</th>\n",
       "      <td>1</td>\n",
       "      <td>2.349609</td>\n",
       "    </tr>\n",
       "    <tr>\n",
       "      <th>239676</th>\n",
       "      <td>0</td>\n",
       "      <td>0.0</td>\n",
       "    </tr>\n",
       "  </tbody>\n",
       "</table>\n",
       "<p>238352 rows × 2 columns</p>\n",
       "</div>"
      ],
      "text/plain": [
       "        n_unharmed  unharmed_percentage\n",
       "33               0                  0.0\n",
       "84               0                  0.0\n",
       "122           <NA>                 <NA>\n",
       "292              0                  0.0\n",
       "308              0                  0.0\n",
       "...            ...                  ...\n",
       "239672           0                  0.0\n",
       "239673           3             7.060887\n",
       "239674           0                  0.0\n",
       "239675           1             2.349609\n",
       "239676           0                  0.0\n",
       "\n",
       "[238352 rows x 2 columns]"
      ]
     },
     "execution_count": 41,
     "metadata": {},
     "output_type": "execute_result"
    }
   ],
   "source": [
    "#Ratio of unharmed people in the incidents w.r.t. the the average of unharmed people\n",
    "#in the same period\n",
    "df[\"unharmed_percentage\"] = df[\"n_unharmed\"] / df.groupby([\"year\"])[\"n_unharmed\"].transform(\"mean\")\n",
    "df[[\"n_unharmed\", \"unharmed_percentage\"]]"
   ]
  },
  {
   "cell_type": "code",
   "execution_count": null,
   "metadata": {},
   "outputs": [],
   "source": []
  }
 ],
 "metadata": {
  "colab": {
   "provenance": []
  },
  "kernelspec": {
   "display_name": "Python 3 (ipykernel)",
   "language": "python",
   "name": "python3"
  },
  "language_info": {
   "codemirror_mode": {
    "name": "ipython",
    "version": 3
   },
   "file_extension": ".py",
   "mimetype": "text/x-python",
   "name": "python",
   "nbconvert_exporter": "python",
   "pygments_lexer": "ipython3",
   "version": "3.10.0"
  }
 },
 "nbformat": 4,
 "nbformat_minor": 4
}
