{
 "cells": [
  {
   "cell_type": "markdown",
   "metadata": {
    "id": "bJNHMyC4KxiI"
   },
   "source": [
    "Import the libraries necessary to analize data"
   ]
  },
  {
   "cell_type": "code",
   "execution_count": 327,
   "metadata": {
    "id": "AfbXoN--jsUE"
   },
   "outputs": [],
   "source": [
    "%matplotlib inline\n",
    "import math\n",
    "import numpy as np\n",
    "import pandas as pd\n",
    "import scipy.stats as stats\n",
    "import matplotlib.pyplot as plt\n",
    "import datetime\n",
    "import random\n",
    "import seaborn as sns\n",
    "import plotly.express as px\n",
    "\n",
    "from collections import defaultdict\n",
    "from scipy.stats import pearsonr"
   ]
  },
  {
   "cell_type": "markdown",
   "metadata": {
    "id": "zB-UgdvVLMmN",
    "jp-MarkdownHeadingCollapsed": true
   },
   "source": [
    "# Incidents\n",
    "\n",
    "Import the incidents csv file"
   ]
  },
  {
   "cell_type": "code",
   "execution_count": 328,
   "metadata": {
    "colab": {
     "base_uri": "https://localhost:8080/",
     "height": 417
    },
    "id": "VaVFyEPhjsUH",
    "outputId": "41f638a7-d5ef-4b50-cc80-2e5db5fc6b1b"
   },
   "outputs": [
    {
     "name": "stdout",
     "output_type": "stream",
     "text": [
      "<class 'pandas.core.frame.DataFrame'>\n",
      "RangeIndex: 199379 entries, 0 to 199378\n",
      "Data columns (total 33 columns):\n",
      " #   Column                     Non-Null Count   Dtype         \n",
      "---  ------                     --------------   -----         \n",
      " 0   date                       199379 non-null  datetime64[ns]\n",
      " 1   state                      199379 non-null  object        \n",
      " 2   city_or_county             199379 non-null  object        \n",
      " 3   address                    185728 non-null  object        \n",
      " 4   latitude                   199313 non-null  float64       \n",
      " 5   longitude                  199313 non-null  float64       \n",
      " 6   congressional_district     199379 non-null  float64       \n",
      " 7   state_house_district       178208 non-null  float64       \n",
      " 8   state_senate_district      184240 non-null  float64       \n",
      " 9   participant_age1           136187 non-null  float64       \n",
      " 10  participant_age_group1     161305 non-null  object        \n",
      " 11  participant_gender1        166716 non-null  object        \n",
      " 12  min_age_participants       146998 non-null  float64       \n",
      " 13  avg_age_participants       147078 non-null  float64       \n",
      " 14  max_age_participants       147021 non-null  float64       \n",
      " 15  n_participants_child       161312 non-null  float64       \n",
      " 16  n_participants_teen        161313 non-null  float64       \n",
      " 17  n_participants_adult       161316 non-null  float64       \n",
      " 18  n_males                    166716 non-null  float64       \n",
      " 19  n_females                  166716 non-null  float64       \n",
      " 20  n_killed                   199379 non-null  int64         \n",
      " 21  n_injured                  199379 non-null  int64         \n",
      " 22  n_arrested                 174594 non-null  float64       \n",
      " 23  n_unharmed                 174594 non-null  float64       \n",
      " 24  n_participants             199379 non-null  float64       \n",
      " 25  notes                      133787 non-null  object        \n",
      " 26  incident_characteristics1  199101 non-null  object        \n",
      " 27  incident_characteristics2  119391 non-null  object        \n",
      " 28  year                       199379 non-null  int64         \n",
      " 29  povertyPercentage          199379 non-null  float64       \n",
      " 30  party                      199379 non-null  object        \n",
      " 31  candidatevotes             199379 non-null  int64         \n",
      " 32  totalvotes                 199379 non-null  int64         \n",
      "dtypes: datetime64[ns](1), float64(18), int64(5), object(9)\n",
      "memory usage: 50.2+ MB\n"
     ]
    }
   ],
   "source": [
    "df = pd.read_csv('incidents_df_joined.csv', low_memory=False, sep=',', parse_dates=['date']) #alternative in case of json source df.to_json('filename.json')\n",
    "df.info()"
   ]
  },
  {
   "cell_type": "markdown",
   "metadata": {},
   "source": [
    "Change data types to match the content of each attribute"
   ]
  },
  {
   "cell_type": "code",
   "execution_count": 329,
   "metadata": {
    "colab": {
     "base_uri": "https://localhost:8080/"
    },
    "id": "smCujC0YjsUJ",
    "outputId": "522711c7-779e-4133-93a9-ae4109c82f21"
   },
   "outputs": [
    {
     "name": "stdout",
     "output_type": "stream",
     "text": [
      "<class 'pandas.core.frame.DataFrame'>\n",
      "RangeIndex: 199379 entries, 0 to 199378\n",
      "Data columns (total 33 columns):\n",
      " #   Column                     Non-Null Count   Dtype         \n",
      "---  ------                     --------------   -----         \n",
      " 0   date                       199378 non-null  datetime64[ns]\n",
      " 1   state                      199378 non-null  string        \n",
      " 2   city_or_county             199378 non-null  string        \n",
      " 3   address                    185727 non-null  string        \n",
      " 4   latitude                   199312 non-null  float64       \n",
      " 5   longitude                  199312 non-null  float64       \n",
      " 6   congressional_district     199378 non-null  Int64         \n",
      " 7   state_house_district       178207 non-null  Int64         \n",
      " 8   state_senate_district      184239 non-null  Int64         \n",
      " 9   participant_age1           136186 non-null  Int64         \n",
      " 10  participant_age_group1     161304 non-null  string        \n",
      " 11  participant_gender1        166715 non-null  string        \n",
      " 12  min_age_participants       146997 non-null  Int64         \n",
      " 13  avg_age_participants       147077 non-null  float64       \n",
      " 14  max_age_participants       147020 non-null  Int64         \n",
      " 15  n_participants_child       161311 non-null  Int64         \n",
      " 16  n_participants_teen        161312 non-null  Int64         \n",
      " 17  n_participants_adult       161315 non-null  Int64         \n",
      " 18  n_males                    166715 non-null  Int64         \n",
      " 19  n_females                  166715 non-null  Int64         \n",
      " 20  n_killed                   199378 non-null  Int64         \n",
      " 21  n_injured                  199378 non-null  Int64         \n",
      " 22  n_arrested                 174593 non-null  Int64         \n",
      " 23  n_unharmed                 174593 non-null  Int64         \n",
      " 24  n_participants             199378 non-null  Int64         \n",
      " 25  notes                      133786 non-null  string        \n",
      " 26  incident_characteristics1  199100 non-null  string        \n",
      " 27  incident_characteristics2  119390 non-null  string        \n",
      " 28  year                       199378 non-null  float64       \n",
      " 29  povertyPercentage          199378 non-null  float64       \n",
      " 30  party                      199378 non-null  object        \n",
      " 31  candidatevotes             199378 non-null  float64       \n",
      " 32  totalvotes                 199378 non-null  float64       \n",
      "dtypes: Int64(16), datetime64[ns](1), float64(7), object(1), string(8)\n",
      "memory usage: 53.2+ MB\n"
     ]
    }
   ],
   "source": [
    "df[\"date\"] = df[\"date\"].astype(\"datetime64[ns]\")\n",
    "df[\"state\"] = df[\"state\"].astype(\"string\")\n",
    "df[\"city_or_county\"] = df[\"city_or_county\"].astype(\"string\")\n",
    "df[\"address\"] = df[\"address\"].astype(\"string\")\n",
    "df[\"congressional_district\"] = df[\"congressional_district\"].astype(\"Int64\")\n",
    "df[\"state_house_district\"] = df[\"state_house_district\"].astype(\"Int64\")\n",
    "df[\"state_senate_district\"] = df[\"state_senate_district\"].astype(\"Int64\")\n",
    "df[\"participant_age1\"] = df[\"participant_age1\"].astype(\"Int64\")\n",
    "df[\"min_age_participants\"] = pd.to_numeric(df[\"min_age_participants\"], errors=\"coerce\").astype(\"Int64\")\n",
    "df[\"max_age_participants\"] = pd.to_numeric(df[\"max_age_participants\"], errors=\"coerce\").astype(\"Int64\")\n",
    "df[\"avg_age_participants\"] = pd.to_numeric(df[\"avg_age_participants\"], errors=\"coerce\").astype(\"float64\")\n",
    "df[df['participant_gender1'] == 'Male, female'] = np.nan\n",
    "df[\"participant_gender1\"] = df[\"participant_gender1\"].astype(\"string\")\n",
    "df[\"participant_age_group1\"] = df[\"participant_age_group1\"].astype(\"string\")\n",
    "df[\"n_participants_teen\"] = pd.to_numeric(df[\"n_participants_teen\"], errors=\"coerce\").astype(\"Int64\")\n",
    "df[\"n_participants_child\"] = pd.to_numeric(df[\"n_participants_child\"], errors=\"coerce\").astype(\"Int64\")\n",
    "df[\"n_participants_adult\"] = pd.to_numeric(df[\"n_participants_adult\"], errors=\"coerce\").astype(\"Int64\")\n",
    "df[\"n_males\"] = pd.to_numeric(df[\"n_males\"], errors=\"coerce\").astype(\"Int64\")\n",
    "df[\"n_females\"] = pd.to_numeric(df[\"n_females\"], errors=\"coerce\").astype(\"Int64\")\n",
    "df[\"n_killed\"] = pd.to_numeric(df[\"n_killed\"], errors=\"coerce\").astype(\"Int64\")\n",
    "df[\"n_injured\"] = pd.to_numeric(df[\"n_injured\"], errors=\"coerce\").astype(\"Int64\")\n",
    "df[\"n_arrested\"] = pd.to_numeric(df[\"n_arrested\"], errors=\"coerce\").astype(\"Int64\")\n",
    "df[\"n_unharmed\"] = pd.to_numeric(df[\"n_unharmed\"], errors=\"coerce\").astype(\"Int64\")\n",
    "df[\"n_participants\"] = pd.to_numeric(df[\"n_participants\"], errors=\"coerce\").astype(\"Int64\")\n",
    "df[\"notes\"] = df[\"notes\"].astype(\"string\")\n",
    "df[\"incident_characteristics1\"] = df[\"incident_characteristics1\"].astype(\"string\")\n",
    "df[\"incident_characteristics2\"] = df[\"incident_characteristics2\"].astype(\"string\")\n",
    "df.info()"
   ]
  },
  {
   "cell_type": "markdown",
   "metadata": {},
   "source": [
    "Deleting the rows with all NaN values"
   ]
  },
  {
   "cell_type": "code",
   "execution_count": 330,
   "metadata": {},
   "outputs": [
    {
     "name": "stdout",
     "output_type": "stream",
     "text": [
      "df len before: 199379\n",
      "df len after: 199378\n"
     ]
    }
   ],
   "source": [
    "print(f\"df len before: {len(df)}\")\n",
    "df.dropna(how='all', inplace=True)\n",
    "print(f\"df len after: {len(df)}\")"
   ]
  },
  {
   "cell_type": "markdown",
   "metadata": {},
   "source": [
    "Removing negative values"
   ]
  },
  {
   "cell_type": "code",
   "execution_count": 331,
   "metadata": {},
   "outputs": [],
   "source": [
    "columns_to_check = ['participant_age1', 'min_age_participants', 'avg_age_participants',\n",
    "       'max_age_participants', 'n_participants_child', 'n_participants_teen',\n",
    "       'n_participants_adult', 'n_males', 'n_females', 'n_killed', 'n_injured',\n",
    "       'n_arrested', 'n_unharmed', 'n_participants']\n",
    "# Set values less than 0 to NaN for the specified columns\n",
    "for i in columns_to_check:\n",
    "    df.loc[df[i] < 0, i] = np.nan\n"
   ]
  },
  {
   "cell_type": "markdown",
   "metadata": {
    "jp-MarkdownHeadingCollapsed": true
   },
   "source": [
    "## Age\n"
   ]
  },
  {
   "cell_type": "markdown",
   "metadata": {},
   "source": [
    "As seen in D.U., given that there are some ouliers in the order of ~800 years of age, we decided to remove them by setting them all to NaN, considering that a person with more than 120 years has not ever lived [cite, wikipedia]."
   ]
  },
  {
   "cell_type": "code",
   "execution_count": 332,
   "metadata": {},
   "outputs": [],
   "source": [
    "df.loc[(df[\"avg_age_participants\"] > 120), \"avg_age_participants\"] = np.nan\n",
    "df.loc[(df['min_age_participants'] > 120), \"min_age_participants\"] = np.nan\n",
    "df.loc[(df['max_age_participants'] > 120), \"max_age_participants\"] = np.nan\n",
    "df.loc[(df[\"participant_age1\"] > 120), \"participant_age1\"] = np.nan"
   ]
  },
  {
   "cell_type": "code",
   "execution_count": 333,
   "metadata": {},
   "outputs": [
    {
     "data": {
      "image/png": "[encoded data removed]",
      "text/plain": [
       "<Figure size 640x480 with 4 Axes>"
      ]
     },
     "metadata": {},
     "output_type": "display_data"
    },
    {
     "data": {
      "image/png": "[encoded data removed]",
      "text/plain": [
       "<Figure size 640x480 with 1 Axes>"
      ]
     },
     "metadata": {},
     "output_type": "display_data"
    }
   ],
   "source": [
    "\n",
    "df.hist(column=['avg_age_participants', 'min_age_participants', 'max_age_participants', 'participant_age1'], bins=[i for i in range(0,121,10)])\n",
    "plt.title(\"Valid avg, min, max, participant age1 ages\")\n",
    "plt.xlabel(\"avg, min, max, participant age1 age\")\n",
    "plt.ylabel(\"Individuals\")\n",
    "plt.show()\n",
    "\n",
    "df.boxplot(column=['avg_age_participants', 'min_age_participants', 'max_age_participants', 'participant_age1'])\n",
    "plt.title(\"Valid avg, min, max, participant age1 ages\")\n",
    "plt.ylabel(\"Valid avg, min, max, participant age1 ages\")\n",
    "plt.show()"
   ]
  },
  {
   "cell_type": "code",
   "execution_count": 334,
   "metadata": {},
   "outputs": [
    {
     "data": {
      "text/html": [
       "<div>\n",
       "<style scoped>\n",
       "    .dataframe tbody tr th:only-of-type {\n",
       "        vertical-align: middle;\n",
       "    }\n",
       "\n",
       "    .dataframe tbody tr th {\n",
       "        vertical-align: top;\n",
       "    }\n",
       "\n",
       "    .dataframe thead th {\n",
       "        text-align: right;\n",
       "    }\n",
       "</style>\n",
       "<table border=\"1\" class=\"dataframe\">\n",
       "  <thead>\n",
       "    <tr style=\"text-align: right;\">\n",
       "      <th></th>\n",
       "      <th>avg_age_participants</th>\n",
       "      <th>participant_age1</th>\n",
       "      <th>min_age_participants</th>\n",
       "      <th>max_age_participants</th>\n",
       "    </tr>\n",
       "  </thead>\n",
       "  <tbody>\n",
       "    <tr>\n",
       "      <th>count</th>\n",
       "      <td>136184.000000</td>\n",
       "      <td>136184.0</td>\n",
       "      <td>136188.0</td>\n",
       "      <td>136185.0</td>\n",
       "    </tr>\n",
       "    <tr>\n",
       "      <th>mean</th>\n",
       "      <td>29.974858</td>\n",
       "      <td>30.260816</td>\n",
       "      <td>28.325763</td>\n",
       "      <td>31.764746</td>\n",
       "    </tr>\n",
       "    <tr>\n",
       "      <th>std</th>\n",
       "      <td>12.461499</td>\n",
       "      <td>13.343577</td>\n",
       "      <td>12.498695</td>\n",
       "      <td>13.709934</td>\n",
       "    </tr>\n",
       "    <tr>\n",
       "      <th>min</th>\n",
       "      <td>0.000000</td>\n",
       "      <td>0.0</td>\n",
       "      <td>0.0</td>\n",
       "      <td>0.0</td>\n",
       "    </tr>\n",
       "    <tr>\n",
       "      <th>25%</th>\n",
       "      <td>21.000000</td>\n",
       "      <td>21.0</td>\n",
       "      <td>20.0</td>\n",
       "      <td>22.0</td>\n",
       "    </tr>\n",
       "    <tr>\n",
       "      <th>50%</th>\n",
       "      <td>27.000000</td>\n",
       "      <td>27.0</td>\n",
       "      <td>25.0</td>\n",
       "      <td>28.0</td>\n",
       "    </tr>\n",
       "    <tr>\n",
       "      <th>75%</th>\n",
       "      <td>36.000000</td>\n",
       "      <td>36.0</td>\n",
       "      <td>34.0</td>\n",
       "      <td>38.0</td>\n",
       "    </tr>\n",
       "    <tr>\n",
       "      <th>max</th>\n",
       "      <td>101.000000</td>\n",
       "      <td>101.0</td>\n",
       "      <td>101.0</td>\n",
       "      <td>101.0</td>\n",
       "    </tr>\n",
       "  </tbody>\n",
       "</table>\n",
       "</div>"
      ],
      "text/plain": [
       "       avg_age_participants  participant_age1  min_age_participants   \n",
       "count         136184.000000          136184.0              136188.0  \\\n",
       "mean              29.974858         30.260816             28.325763   \n",
       "std               12.461499         13.343577             12.498695   \n",
       "min                0.000000               0.0                   0.0   \n",
       "25%               21.000000              21.0                  20.0   \n",
       "50%               27.000000              27.0                  25.0   \n",
       "75%               36.000000              36.0                  34.0   \n",
       "max              101.000000             101.0                 101.0   \n",
       "\n",
       "       max_age_participants  \n",
       "count              136185.0  \n",
       "mean              31.764746  \n",
       "std               13.709934  \n",
       "min                     0.0  \n",
       "25%                    22.0  \n",
       "50%                    28.0  \n",
       "75%                    38.0  \n",
       "max                   101.0  "
      ]
     },
     "execution_count": 334,
     "metadata": {},
     "output_type": "execute_result"
    }
   ],
   "source": [
    "df[['avg_age_participants', 'participant_age1', 'min_age_participants', 'max_age_participants']].describe()"
   ]
  },
  {
   "cell_type": "markdown",
   "metadata": {},
   "source": [
    "#TODO reason after on corr matrix"
   ]
  },
  {
   "cell_type": "code",
   "execution_count": 335,
   "metadata": {},
   "outputs": [
    {
     "data": {
      "text/html": [
       "<div>\n",
       "<style scoped>\n",
       "    .dataframe tbody tr th:only-of-type {\n",
       "        vertical-align: middle;\n",
       "    }\n",
       "\n",
       "    .dataframe tbody tr th {\n",
       "        vertical-align: top;\n",
       "    }\n",
       "\n",
       "    .dataframe thead th {\n",
       "        text-align: right;\n",
       "    }\n",
       "</style>\n",
       "<table border=\"1\" class=\"dataframe\">\n",
       "  <thead>\n",
       "    <tr style=\"text-align: right;\">\n",
       "      <th></th>\n",
       "      <th>participant_age1</th>\n",
       "      <th>min_age_participants</th>\n",
       "      <th>avg_age_participants</th>\n",
       "      <th>max_age_participants</th>\n",
       "      <th>n_participants_child</th>\n",
       "      <th>n_participants_teen</th>\n",
       "      <th>n_participants_adult</th>\n",
       "      <th>n_males</th>\n",
       "      <th>n_females</th>\n",
       "      <th>n_killed</th>\n",
       "      <th>n_injured</th>\n",
       "      <th>n_arrested</th>\n",
       "      <th>n_unharmed</th>\n",
       "      <th>n_participants</th>\n",
       "      <th>povertyPercentage</th>\n",
       "    </tr>\n",
       "  </thead>\n",
       "  <tbody>\n",
       "    <tr>\n",
       "      <th>participant_age1</th>\n",
       "      <td>1.000000</td>\n",
       "      <td>0.877498</td>\n",
       "      <td>0.945114</td>\n",
       "      <td>0.926076</td>\n",
       "      <td>-0.002130</td>\n",
       "      <td>-0.002775</td>\n",
       "      <td>-0.002013</td>\n",
       "      <td>-0.059980</td>\n",
       "      <td>0.068523</td>\n",
       "      <td>0.141669</td>\n",
       "      <td>-0.119807</td>\n",
       "      <td>-0.025742</td>\n",
       "      <td>-0.009029</td>\n",
       "      <td>-0.033587</td>\n",
       "      <td>0.033498</td>\n",
       "    </tr>\n",
       "    <tr>\n",
       "      <th>min_age_participants</th>\n",
       "      <td>0.877498</td>\n",
       "      <td>1.000000</td>\n",
       "      <td>0.951124</td>\n",
       "      <td>0.810780</td>\n",
       "      <td>-0.001497</td>\n",
       "      <td>-0.002601</td>\n",
       "      <td>-0.001497</td>\n",
       "      <td>-0.185675</td>\n",
       "      <td>-0.018991</td>\n",
       "      <td>0.056328</td>\n",
       "      <td>-0.151565</td>\n",
       "      <td>-0.108021</td>\n",
       "      <td>-0.046042</td>\n",
       "      <td>-0.179156</td>\n",
       "      <td>0.013015</td>\n",
       "    </tr>\n",
       "    <tr>\n",
       "      <th>avg_age_participants</th>\n",
       "      <td>0.945114</td>\n",
       "      <td>0.951124</td>\n",
       "      <td>1.000000</td>\n",
       "      <td>0.948221</td>\n",
       "      <td>-0.002165</td>\n",
       "      <td>-0.003038</td>\n",
       "      <td>-0.002132</td>\n",
       "      <td>-0.093665</td>\n",
       "      <td>0.063569</td>\n",
       "      <td>0.131257</td>\n",
       "      <td>-0.119072</td>\n",
       "      <td>-0.052561</td>\n",
       "      <td>-0.021108</td>\n",
       "      <td>-0.065437</td>\n",
       "      <td>0.030001</td>\n",
       "    </tr>\n",
       "    <tr>\n",
       "      <th>max_age_participants</th>\n",
       "      <td>0.926076</td>\n",
       "      <td>0.810780</td>\n",
       "      <td>0.948221</td>\n",
       "      <td>1.000000</td>\n",
       "      <td>-0.002622</td>\n",
       "      <td>-0.003195</td>\n",
       "      <td>-0.002565</td>\n",
       "      <td>0.020842</td>\n",
       "      <td>0.144300</td>\n",
       "      <td>0.193053</td>\n",
       "      <td>-0.071779</td>\n",
       "      <td>0.021609</td>\n",
       "      <td>0.009396</td>\n",
       "      <td>0.068696</td>\n",
       "      <td>0.043624</td>\n",
       "    </tr>\n",
       "    <tr>\n",
       "      <th>n_participants_child</th>\n",
       "      <td>-0.002130</td>\n",
       "      <td>-0.001497</td>\n",
       "      <td>-0.002165</td>\n",
       "      <td>-0.002622</td>\n",
       "      <td>1.000000</td>\n",
       "      <td>1.000000</td>\n",
       "      <td>1.000000</td>\n",
       "      <td>-0.002453</td>\n",
       "      <td>-0.002057</td>\n",
       "      <td>-0.000986</td>\n",
       "      <td>-0.001663</td>\n",
       "      <td>0.000013</td>\n",
       "      <td>-0.002289</td>\n",
       "      <td>-0.002159</td>\n",
       "      <td>0.000426</td>\n",
       "    </tr>\n",
       "    <tr>\n",
       "      <th>n_participants_teen</th>\n",
       "      <td>-0.002775</td>\n",
       "      <td>-0.002601</td>\n",
       "      <td>-0.003038</td>\n",
       "      <td>-0.003195</td>\n",
       "      <td>1.000000</td>\n",
       "      <td>1.000000</td>\n",
       "      <td>0.957443</td>\n",
       "      <td>-0.000244</td>\n",
       "      <td>-0.001847</td>\n",
       "      <td>0.006318</td>\n",
       "      <td>-0.002978</td>\n",
       "      <td>-0.001203</td>\n",
       "      <td>-0.002054</td>\n",
       "      <td>-0.001254</td>\n",
       "      <td>-0.001756</td>\n",
       "    </tr>\n",
       "    <tr>\n",
       "      <th>n_participants_adult</th>\n",
       "      <td>-0.002013</td>\n",
       "      <td>-0.001497</td>\n",
       "      <td>-0.002132</td>\n",
       "      <td>-0.002565</td>\n",
       "      <td>1.000000</td>\n",
       "      <td>0.957443</td>\n",
       "      <td>1.000000</td>\n",
       "      <td>-0.000556</td>\n",
       "      <td>-0.002264</td>\n",
       "      <td>0.003766</td>\n",
       "      <td>-0.001882</td>\n",
       "      <td>-0.000670</td>\n",
       "      <td>-0.002529</td>\n",
       "      <td>-0.001751</td>\n",
       "      <td>-0.003288</td>\n",
       "    </tr>\n",
       "    <tr>\n",
       "      <th>n_males</th>\n",
       "      <td>-0.059980</td>\n",
       "      <td>-0.185675</td>\n",
       "      <td>-0.093665</td>\n",
       "      <td>0.020842</td>\n",
       "      <td>-0.002453</td>\n",
       "      <td>-0.000244</td>\n",
       "      <td>-0.000556</td>\n",
       "      <td>1.000000</td>\n",
       "      <td>-0.053005</td>\n",
       "      <td>0.145219</td>\n",
       "      <td>0.261547</td>\n",
       "      <td>0.389389</td>\n",
       "      <td>0.413075</td>\n",
       "      <td>0.826298</td>\n",
       "      <td>0.055298</td>\n",
       "    </tr>\n",
       "    <tr>\n",
       "      <th>n_females</th>\n",
       "      <td>0.068523</td>\n",
       "      <td>-0.018991</td>\n",
       "      <td>0.063569</td>\n",
       "      <td>0.144300</td>\n",
       "      <td>-0.002057</td>\n",
       "      <td>-0.001847</td>\n",
       "      <td>-0.002264</td>\n",
       "      <td>-0.053005</td>\n",
       "      <td>1.000000</td>\n",
       "      <td>0.194010</td>\n",
       "      <td>0.164088</td>\n",
       "      <td>0.119741</td>\n",
       "      <td>0.132576</td>\n",
       "      <td>0.383099</td>\n",
       "      <td>0.056898</td>\n",
       "    </tr>\n",
       "    <tr>\n",
       "      <th>n_killed</th>\n",
       "      <td>0.141669</td>\n",
       "      <td>0.056328</td>\n",
       "      <td>0.131257</td>\n",
       "      <td>0.193053</td>\n",
       "      <td>-0.000986</td>\n",
       "      <td>0.006318</td>\n",
       "      <td>0.003766</td>\n",
       "      <td>0.145219</td>\n",
       "      <td>0.194010</td>\n",
       "      <td>1.000000</td>\n",
       "      <td>-0.114852</td>\n",
       "      <td>-0.069686</td>\n",
       "      <td>-0.134348</td>\n",
       "      <td>0.262089</td>\n",
       "      <td>0.066520</td>\n",
       "    </tr>\n",
       "    <tr>\n",
       "      <th>n_injured</th>\n",
       "      <td>-0.119807</td>\n",
       "      <td>-0.151565</td>\n",
       "      <td>-0.119072</td>\n",
       "      <td>-0.071779</td>\n",
       "      <td>-0.001663</td>\n",
       "      <td>-0.002978</td>\n",
       "      <td>-0.001882</td>\n",
       "      <td>0.261547</td>\n",
       "      <td>0.164088</td>\n",
       "      <td>-0.114852</td>\n",
       "      <td>1.000000</td>\n",
       "      <td>-0.181090</td>\n",
       "      <td>-0.080656</td>\n",
       "      <td>0.408288</td>\n",
       "      <td>-0.001114</td>\n",
       "    </tr>\n",
       "    <tr>\n",
       "      <th>n_arrested</th>\n",
       "      <td>-0.025742</td>\n",
       "      <td>-0.108021</td>\n",
       "      <td>-0.052561</td>\n",
       "      <td>0.021609</td>\n",
       "      <td>0.000013</td>\n",
       "      <td>-0.001203</td>\n",
       "      <td>-0.000670</td>\n",
       "      <td>0.389389</td>\n",
       "      <td>0.119741</td>\n",
       "      <td>-0.069686</td>\n",
       "      <td>-0.181090</td>\n",
       "      <td>1.000000</td>\n",
       "      <td>-0.194152</td>\n",
       "      <td>0.416008</td>\n",
       "      <td>-0.043368</td>\n",
       "    </tr>\n",
       "    <tr>\n",
       "      <th>n_unharmed</th>\n",
       "      <td>-0.009029</td>\n",
       "      <td>-0.046042</td>\n",
       "      <td>-0.021108</td>\n",
       "      <td>0.009396</td>\n",
       "      <td>-0.002289</td>\n",
       "      <td>-0.002054</td>\n",
       "      <td>-0.002529</td>\n",
       "      <td>0.413075</td>\n",
       "      <td>0.132576</td>\n",
       "      <td>-0.134348</td>\n",
       "      <td>-0.080656</td>\n",
       "      <td>-0.194152</td>\n",
       "      <td>1.000000</td>\n",
       "      <td>0.482728</td>\n",
       "      <td>0.101540</td>\n",
       "    </tr>\n",
       "    <tr>\n",
       "      <th>n_participants</th>\n",
       "      <td>-0.033587</td>\n",
       "      <td>-0.179156</td>\n",
       "      <td>-0.065437</td>\n",
       "      <td>0.068696</td>\n",
       "      <td>-0.002159</td>\n",
       "      <td>-0.001254</td>\n",
       "      <td>-0.001751</td>\n",
       "      <td>0.826298</td>\n",
       "      <td>0.383099</td>\n",
       "      <td>0.262089</td>\n",
       "      <td>0.408288</td>\n",
       "      <td>0.416008</td>\n",
       "      <td>0.482728</td>\n",
       "      <td>1.000000</td>\n",
       "      <td>0.078259</td>\n",
       "    </tr>\n",
       "    <tr>\n",
       "      <th>povertyPercentage</th>\n",
       "      <td>0.033498</td>\n",
       "      <td>0.013015</td>\n",
       "      <td>0.030001</td>\n",
       "      <td>0.043624</td>\n",
       "      <td>0.000426</td>\n",
       "      <td>-0.001756</td>\n",
       "      <td>-0.003288</td>\n",
       "      <td>0.055298</td>\n",
       "      <td>0.056898</td>\n",
       "      <td>0.066520</td>\n",
       "      <td>-0.001114</td>\n",
       "      <td>-0.043368</td>\n",
       "      <td>0.101540</td>\n",
       "      <td>0.078259</td>\n",
       "      <td>1.000000</td>\n",
       "    </tr>\n",
       "  </tbody>\n",
       "</table>\n",
       "</div>"
      ],
      "text/plain": [
       "                      participant_age1  min_age_participants   \n",
       "participant_age1              1.000000              0.877498  \\\n",
       "min_age_participants          0.877498              1.000000   \n",
       "avg_age_participants          0.945114              0.951124   \n",
       "max_age_participants          0.926076              0.810780   \n",
       "n_participants_child         -0.002130             -0.001497   \n",
       "n_participants_teen          -0.002775             -0.002601   \n",
       "n_participants_adult         -0.002013             -0.001497   \n",
       "n_males                      -0.059980             -0.185675   \n",
       "n_females                     0.068523             -0.018991   \n",
       "n_killed                      0.141669              0.056328   \n",
       "n_injured                    -0.119807             -0.151565   \n",
       "n_arrested                   -0.025742             -0.108021   \n",
       "n_unharmed                   -0.009029             -0.046042   \n",
       "n_participants               -0.033587             -0.179156   \n",
       "povertyPercentage             0.033498              0.013015   \n",
       "\n",
       "                      avg_age_participants  max_age_participants   \n",
       "participant_age1                  0.945114              0.926076  \\\n",
       "min_age_participants              0.951124              0.810780   \n",
       "avg_age_participants              1.000000              0.948221   \n",
       "max_age_participants              0.948221              1.000000   \n",
       "n_participants_child             -0.002165             -0.002622   \n",
       "n_participants_teen              -0.003038             -0.003195   \n",
       "n_participants_adult             -0.002132             -0.002565   \n",
       "n_males                          -0.093665              0.020842   \n",
       "n_females                         0.063569              0.144300   \n",
       "n_killed                          0.131257              0.193053   \n",
       "n_injured                        -0.119072             -0.071779   \n",
       "n_arrested                       -0.052561              0.021609   \n",
       "n_unharmed                       -0.021108              0.009396   \n",
       "n_participants                   -0.065437              0.068696   \n",
       "povertyPercentage                 0.030001              0.043624   \n",
       "\n",
       "                      n_participants_child  n_participants_teen   \n",
       "participant_age1                 -0.002130            -0.002775  \\\n",
       "min_age_participants             -0.001497            -0.002601   \n",
       "avg_age_participants             -0.002165            -0.003038   \n",
       "max_age_participants             -0.002622            -0.003195   \n",
       "n_participants_child              1.000000             1.000000   \n",
       "n_participants_teen               1.000000             1.000000   \n",
       "n_participants_adult              1.000000             0.957443   \n",
       "n_males                          -0.002453            -0.000244   \n",
       "n_females                        -0.002057            -0.001847   \n",
       "n_killed                         -0.000986             0.006318   \n",
       "n_injured                        -0.001663            -0.002978   \n",
       "n_arrested                        0.000013            -0.001203   \n",
       "n_unharmed                       -0.002289            -0.002054   \n",
       "n_participants                   -0.002159            -0.001254   \n",
       "povertyPercentage                 0.000426            -0.001756   \n",
       "\n",
       "                      n_participants_adult   n_males  n_females  n_killed   \n",
       "participant_age1                 -0.002013 -0.059980   0.068523  0.141669  \\\n",
       "min_age_participants             -0.001497 -0.185675  -0.018991  0.056328   \n",
       "avg_age_participants             -0.002132 -0.093665   0.063569  0.131257   \n",
       "max_age_participants             -0.002565  0.020842   0.144300  0.193053   \n",
       "n_participants_child              1.000000 -0.002453  -0.002057 -0.000986   \n",
       "n_participants_teen               0.957443 -0.000244  -0.001847  0.006318   \n",
       "n_participants_adult              1.000000 -0.000556  -0.002264  0.003766   \n",
       "n_males                          -0.000556  1.000000  -0.053005  0.145219   \n",
       "n_females                        -0.002264 -0.053005   1.000000  0.194010   \n",
       "n_killed                          0.003766  0.145219   0.194010  1.000000   \n",
       "n_injured                        -0.001882  0.261547   0.164088 -0.114852   \n",
       "n_arrested                       -0.000670  0.389389   0.119741 -0.069686   \n",
       "n_unharmed                       -0.002529  0.413075   0.132576 -0.134348   \n",
       "n_participants                   -0.001751  0.826298   0.383099  0.262089   \n",
       "povertyPercentage                -0.003288  0.055298   0.056898  0.066520   \n",
       "\n",
       "                      n_injured  n_arrested  n_unharmed  n_participants   \n",
       "participant_age1      -0.119807   -0.025742   -0.009029       -0.033587  \\\n",
       "min_age_participants  -0.151565   -0.108021   -0.046042       -0.179156   \n",
       "avg_age_participants  -0.119072   -0.052561   -0.021108       -0.065437   \n",
       "max_age_participants  -0.071779    0.021609    0.009396        0.068696   \n",
       "n_participants_child  -0.001663    0.000013   -0.002289       -0.002159   \n",
       "n_participants_teen   -0.002978   -0.001203   -0.002054       -0.001254   \n",
       "n_participants_adult  -0.001882   -0.000670   -0.002529       -0.001751   \n",
       "n_males                0.261547    0.389389    0.413075        0.826298   \n",
       "n_females              0.164088    0.119741    0.132576        0.383099   \n",
       "n_killed              -0.114852   -0.069686   -0.134348        0.262089   \n",
       "n_injured              1.000000   -0.181090   -0.080656        0.408288   \n",
       "n_arrested            -0.181090    1.000000   -0.194152        0.416008   \n",
       "n_unharmed            -0.080656   -0.194152    1.000000        0.482728   \n",
       "n_participants         0.408288    0.416008    0.482728        1.000000   \n",
       "povertyPercentage     -0.001114   -0.043368    0.101540        0.078259   \n",
       "\n",
       "                      povertyPercentage  \n",
       "participant_age1               0.033498  \n",
       "min_age_participants           0.013015  \n",
       "avg_age_participants           0.030001  \n",
       "max_age_participants           0.043624  \n",
       "n_participants_child           0.000426  \n",
       "n_participants_teen           -0.001756  \n",
       "n_participants_adult          -0.003288  \n",
       "n_males                        0.055298  \n",
       "n_females                      0.056898  \n",
       "n_killed                       0.066520  \n",
       "n_injured                     -0.001114  \n",
       "n_arrested                    -0.043368  \n",
       "n_unharmed                     0.101540  \n",
       "n_participants                 0.078259  \n",
       "povertyPercentage              1.000000  "
      ]
     },
     "execution_count": 335,
     "metadata": {},
     "output_type": "execute_result"
    }
   ],
   "source": [
    "corr_matrix = df[['participant_age1', 'participant_age_group1',\n",
    "       'participant_gender1', 'min_age_participants', 'avg_age_participants',\n",
    "       'max_age_participants', 'n_participants_child', 'n_participants_teen',\n",
    "       'n_participants_adult', 'n_males', 'n_females', 'n_killed', 'n_injured',\n",
    "       'n_arrested', 'n_unharmed', 'n_participants', 'povertyPercentage']].corr(numeric_only=True, method='pearson')\n",
    "corr_matrix"
   ]
  },
  {
   "cell_type": "code",
   "execution_count": 336,
   "metadata": {},
   "outputs": [
    {
     "data": {
      "text/plain": [
       "<Axes: >"
      ]
     },
     "execution_count": 336,
     "metadata": {},
     "output_type": "execute_result"
    },
    {
     "data": {
      "image/png": "[encoded data removed]",
      "text/plain": [
       "<Figure size 640x480 with 2 Axes>"
      ]
     },
     "metadata": {},
     "output_type": "display_data"
    }
   ],
   "source": [
    "sns.heatmap(corr_matrix, annot=False, cmap='coolwarm')"
   ]
  },
  {
   "cell_type": "code",
   "execution_count": 337,
   "metadata": {},
   "outputs": [
    {
     "name": "stdout",
     "output_type": "stream",
     "text": [
      "% of no child in incidents: 0.7925949703578128\n",
      "% of no teen in incidents: 0.7222060608492411\n",
      "% of no adult in incidents: 0.05159546188646691\n"
     ]
    }
   ],
   "source": [
    "print(f\"% of no child in incidents: {df[df['n_participants_child'] == 0]['n_participants_child'].count() / len(df['n_participants_child'])}\")\n",
    "print(f\"% of no teen in incidents: {df[df['n_participants_teen'] == 0]['n_participants_teen'].count() / len(df['n_participants_teen'])}\")\n",
    "print(f\"% of no adult in incidents: {df[df['n_participants_adult'] == 0]['n_participants_adult'].count() / len(df['n_participants_adult'])}\")"
   ]
  },
  {
   "cell_type": "markdown",
   "metadata": {},
   "source": [
    "We notice from eliminated obvious outliers (>120 and <0 years of age) and plotting the results that [avg_age,min_age,max_age]_participants are very similar (same min and max age, similar mean and median), so we decide that we will further explore their correlation. "
   ]
  },
  {
   "cell_type": "markdown",
   "metadata": {},
   "source": [
    "We check if when avg_age_participants is 0 or null, we can infer it by calcultating the avg based on min_age_participants and max_age_participants, and we found 0 rows available.\n",
    "This is a further motivation to delete min and max age participants"
   ]
  },
  {
   "cell_type": "code",
   "execution_count": 338,
   "metadata": {},
   "outputs": [
    {
     "data": {
      "text/html": [
       "<div>\n",
       "<style scoped>\n",
       "    .dataframe tbody tr th:only-of-type {\n",
       "        vertical-align: middle;\n",
       "    }\n",
       "\n",
       "    .dataframe tbody tr th {\n",
       "        vertical-align: top;\n",
       "    }\n",
       "\n",
       "    .dataframe thead th {\n",
       "        text-align: right;\n",
       "    }\n",
       "</style>\n",
       "<table border=\"1\" class=\"dataframe\">\n",
       "  <thead>\n",
       "    <tr style=\"text-align: right;\">\n",
       "      <th></th>\n",
       "      <th>avg_age_participants</th>\n",
       "      <th>min_age_participants</th>\n",
       "      <th>max_age_participants</th>\n",
       "    </tr>\n",
       "  </thead>\n",
       "  <tbody>\n",
       "  </tbody>\n",
       "</table>\n",
       "</div>"
      ],
      "text/plain": [
       "Empty DataFrame\n",
       "Columns: [avg_age_participants, min_age_participants, max_age_participants]\n",
       "Index: []"
      ]
     },
     "execution_count": 338,
     "metadata": {},
     "output_type": "execute_result"
    }
   ],
   "source": [
    "df[((df['avg_age_participants'] == 0) | (df['avg_age_participants'].isna())) & (((df['min_age_participants'] > 0) & (df['min_age_participants'].notna())) & ((df['max_age_participants'] > 0) & df['min_age_participants'].notna() ))] [['avg_age_participants', 'min_age_participants', 'max_age_participants']]"
   ]
  },
  {
   "cell_type": "code",
   "execution_count": 339,
   "metadata": {},
   "outputs": [
    {
     "data": {
      "text/plain": [
       "'\\ndf[df[\"min_age_participants\"].isna() & (df[\"n_participants_adult\"].isna() & (df[\"n_participants_teen\"].isna()) & (df[\"n_participants_child\"].isna()))][[\"n_participants_child\",\"n_participants_adult\",\"n_participants_teen\",\"min_age_participants\"]]\\n #modify the min_age_participants, max_age_participants null values by taking the column value according to this three columns \"n_participants_adult\", \"n_participants_teen\" and \"n_participants_child\" (TODO COMMENTO)\\n#min_age_participants\\n#1 child\\ncondition = (df[\"min_age_participants\"] < 12) & (df[\"min_age_participants\"] > 0)\\ninternalCondition  =(df[\"min_age_participants\"].isna()) & (df[\"n_participants_child\"].notna()) & (df[\"n_participants_child\"] > 0)\\ndf.loc[internalCondition, \"min_age_participants\"] = np.random.choice(df.loc[condition, \"min_age_participants\"], size=internalCondition.sum())\\n#2 teen\\ncondition = (df[\"min_age_participants\"] <= 17) & (df[\"min_age_participants\"] > 11)\\ninternalCondition  =(df[\"min_age_participants\"].isna()) & (df[\"n_participants_teen\"].notna()) & (df[\"n_participants_teen\"] > 0)\\ndf.loc[internalCondition, \"min_age_participants\"]= np.random.choice(df.loc[condition][\"min_age_participants\"], size=internalCondition.sum())\\n#3 adult\\ncondition = (df[\"min_age_participants\"] < df[\"max_age_participants\"]) & (df[\"min_age_participants\"] > 17) & (df[\"min_age_participants\"] < 101)\\ninternalCondition  = (df[\"min_age_participants\"].isna()) & (df[\"n_participants_adult\"].notna()) & (df[\"n_participants_adult\"] > 0)\\ndf.loc[internalCondition, \"min_age_participants\"]= np.random.choice(df.loc[condition][\"min_age_participants\"], size=internalCondition.sum())\\ndf.info() '"
      ]
     },
     "execution_count": 339,
     "metadata": {},
     "output_type": "execute_result"
    }
   ],
   "source": [
    "\"\"\"\n",
    "df[df[\"min_age_participants\"].isna() & (df[\"n_participants_adult\"].isna() & (df[\"n_participants_teen\"].isna()) & (df[\"n_participants_child\"].isna()))][[\"n_participants_child\",\"n_participants_adult\",\"n_participants_teen\",\"min_age_participants\"]]\n",
    " #modify the min_age_participants, max_age_participants null values by taking the column value according to this three columns \"n_participants_adult\", \"n_participants_teen\" and \"n_participants_child\" (TODO COMMENTO)\n",
    "#min_age_participants\n",
    "#1 child\n",
    "condition = (df[\"min_age_participants\"] < 12) & (df[\"min_age_participants\"] > 0)\n",
    "internalCondition  =(df[\"min_age_participants\"].isna()) & (df[\"n_participants_child\"].notna()) & (df[\"n_participants_child\"] > 0)\n",
    "df.loc[internalCondition, \"min_age_participants\"] = np.random.choice(df.loc[condition, \"min_age_participants\"], size=internalCondition.sum())\n",
    "#2 teen\n",
    "condition = (df[\"min_age_participants\"] <= 17) & (df[\"min_age_participants\"] > 11)\n",
    "internalCondition  =(df[\"min_age_participants\"].isna()) & (df[\"n_participants_teen\"].notna()) & (df[\"n_participants_teen\"] > 0)\n",
    "df.loc[internalCondition, \"min_age_participants\"]= np.random.choice(df.loc[condition][\"min_age_participants\"], size=internalCondition.sum())\n",
    "#3 adult\n",
    "condition = (df[\"min_age_participants\"] < df[\"max_age_participants\"]) & (df[\"min_age_participants\"] > 17) & (df[\"min_age_participants\"] < 101)\n",
    "internalCondition  = (df[\"min_age_participants\"].isna()) & (df[\"n_participants_adult\"].notna()) & (df[\"n_participants_adult\"] > 0)\n",
    "df.loc[internalCondition, \"min_age_participants\"]= np.random.choice(df.loc[condition][\"min_age_participants\"], size=internalCondition.sum())\n",
    "df.info() \"\"\""
   ]
  },
  {
   "cell_type": "code",
   "execution_count": 340,
   "metadata": {},
   "outputs": [
    {
     "data": {
      "text/plain": [
       "' #modify the  max_age_participants null values by taking the column value according to this three columns \"n_participants_adult\", \"n_participants_teen\" and \"n_participants_child\" (TODO COMMENTO)\\n#min_age_participants\\n#1 adult\\ncondition = (df[\"max_age_participants\"] > 17) & (df[\"max_age_participants\"] < 60)\\ninternalCondition  = (df[\"max_age_participants\"].isna()) & (df[\"n_participants_adult\"].notna()) & (df[\"n_participants_adult\"] > 0)\\ndf.loc[internalCondition, \"max_age_participants\"]= np.random.choice(df.loc[condition][\"max_age_participants\"], size=internalCondition.sum())\\n#2 teen\\ncondition = (df[\"max_age_participants\"] < 17) & (df[\"max_age_participants\"] > 11)\\ninternalCondition  =(df[\"max_age_participants\"].isna()) & (df[\"n_participants_teen\"].notna()) & (df[\"n_participants_teen\"] > 0)\\ndf.loc[internalCondition, \"max_age_participants\"]= np.random.choice(df.loc[condition][\"max_age_participants\"], size=internalCondition.sum())\\n#3 child\\ncondition = (df[\"max_age_participants\"] < 12) & (df[\"max_age_participants\"] > 0)\\ninternalCondition  =(df[\"max_age_participants\"].isna()) & (df[\"n_participants_child\"].notna()) & (df[\"n_participants_child\"] > 0)\\ndf.loc[internalCondition, \"max_age_participants\"] = np.random.choice(df.loc[condition, \"max_age_participants\"], size=internalCondition.sum())\\n\\n\\ndf.info() '"
      ]
     },
     "execution_count": 340,
     "metadata": {},
     "output_type": "execute_result"
    }
   ],
   "source": [
    "\n",
    "\"\"\" #modify the  max_age_participants null values by taking the column value according to this three columns \"n_participants_adult\", \"n_participants_teen\" and \"n_participants_child\" (TODO COMMENTO)\n",
    "#min_age_participants\n",
    "#1 adult\n",
    "condition = (df[\"max_age_participants\"] > 17) & (df[\"max_age_participants\"] < 60)\n",
    "internalCondition  = (df[\"max_age_participants\"].isna()) & (df[\"n_participants_adult\"].notna()) & (df[\"n_participants_adult\"] > 0)\n",
    "df.loc[internalCondition, \"max_age_participants\"]= np.random.choice(df.loc[condition][\"max_age_participants\"], size=internalCondition.sum())\n",
    "#2 teen\n",
    "condition = (df[\"max_age_participants\"] < 17) & (df[\"max_age_participants\"] > 11)\n",
    "internalCondition  =(df[\"max_age_participants\"].isna()) & (df[\"n_participants_teen\"].notna()) & (df[\"n_participants_teen\"] > 0)\n",
    "df.loc[internalCondition, \"max_age_participants\"]= np.random.choice(df.loc[condition][\"max_age_participants\"], size=internalCondition.sum())\n",
    "#3 child\n",
    "condition = (df[\"max_age_participants\"] < 12) & (df[\"max_age_participants\"] > 0)\n",
    "internalCondition  =(df[\"max_age_participants\"].isna()) & (df[\"n_participants_child\"].notna()) & (df[\"n_participants_child\"] > 0)\n",
    "df.loc[internalCondition, \"max_age_participants\"] = np.random.choice(df.loc[condition, \"max_age_participants\"], size=internalCondition.sum())\n",
    "\n",
    "\n",
    "df.info() \"\"\""
   ]
  },
  {
   "cell_type": "markdown",
   "metadata": {
    "jp-MarkdownHeadingCollapsed": true
   },
   "source": [
    "## Date\n",
    "\n",
    "Analysis and cleaning of the date attribute"
   ]
  },
  {
   "cell_type": "code",
   "execution_count": 341,
   "metadata": {
    "id": "cKAjvMdCjsUS"
   },
   "outputs": [
    {
     "data": {
      "image/png": "[encoded data removed]",
      "text/plain": [
       "<Figure size 640x480 with 1 Axes>"
      ]
     },
     "metadata": {},
     "output_type": "display_data"
    }
   ],
   "source": [
    "df.hist(column=[\"date\"],   bins=[datetime.datetime(2012,7,1,0,0), datetime.datetime(2013,1,1,0,0), datetime.datetime(2013,7,1,0,0),\n",
    "                             datetime.datetime(2014,1,1,0,0), datetime.datetime(2014,7,1,0,0), datetime.datetime(2015,1,1,0,0),\n",
    "                             datetime.datetime(2015,7,1,0,0), datetime.datetime(2016,1,1,0,0), datetime.datetime(2016,7,1,0,0),\n",
    "                             datetime.datetime(2017,1,1,0,0), datetime.datetime(2017,7,1,0,0), datetime.datetime(2018,1,1,0,0),\n",
    "                             datetime.datetime(2018,7,1,0,0), datetime.datetime(2019,1,1,0,0)])\n",
    "plt.title(\"Date before cleaning\")\n",
    "plt.xlabel(\"date\")\n",
    "plt.ylabel(\"Number of incidents\")\n",
    "plt.show()"
   ]
  },
  {
   "cell_type": "markdown",
   "metadata": {},
   "source": [
    "We considered all dates after 2023-10-01 (the date we received the dataset) to be ouliers, in particular error in the data"
   ]
  },
  {
   "cell_type": "markdown",
   "metadata": {},
   "source": [
    "TODO: Drop 2013 records,\n",
    "2018 analyze separately"
   ]
  },
  {
   "cell_type": "markdown",
   "metadata": {},
   "source": [
    "# Geographical info"
   ]
  },
  {
   "cell_type": "markdown",
   "metadata": {},
   "source": [
    "## Latitude and longitude"
   ]
  },
  {
   "cell_type": "code",
   "execution_count": 360,
   "metadata": {},
   "outputs": [
    {
     "data": {
      "text/plain": [
       "latitude  longitude\n",
       "NaN       NaN          66\n",
       "Name: count, dtype: int64"
      ]
     },
     "execution_count": 360,
     "metadata": {},
     "output_type": "execute_result"
    }
   ],
   "source": [
    "central_block = ((df[\"latitude\"] <= 49.3457868) & (df[\"latitude\"] >= 24.396308) & (df[\"longitude\"] >= -125.000000) & (df[\"longitude\"] <= -66.934570))\n",
    "alaska_block = ((df[\"latitude\"] <= 71.635993) & (df[\"latitude\"] >= 53.67068) & (df[\"longitude\"] >= -173.59497) & (df[\"longitude\"] <= -129.152344))\n",
    "hawaii_block = ((df[\"latitude\"] <= 22.674847) & (df[\"latitude\"] >= 17.790535) & (df[\"longitude\"] >= -161.389160) & (df[\"longitude\"] <= -153.237305))\n",
    "\n",
    "df[~(central_block | alaska_block | hawaii_block)][['latitude', 'longitude']].value_counts(dropna=False)"
   ]
  },
  {
   "cell_type": "markdown",
   "metadata": {},
   "source": [
    "We consider the triple <date,latitude,longitude> to be identifying of the incident. So we decided to remove all records that had all these three values to NaN"
   ]
  },
  {
   "cell_type": "code",
   "execution_count": 19,
   "metadata": {
    "colab": {
     "base_uri": "https://localhost:8080/"
    },
    "id": "DuacLIzgjsUU",
    "outputId": "409cb56c-700b-4a06-e60e-d8427e0ecbba"
   },
   "outputs": [
    {
     "name": "stdout",
     "output_type": "stream",
     "text": [
      "199378\n",
      "198167\n"
     ]
    }
   ],
   "source": [
    "print(len(df))\n",
    "#print duplicates columns if they are not NaN\n",
    "#df = df.drop_duplicates(subset=[\"date\", \"latitude\", \"longitude\"]).append(df[pd.isnull(df['date']) | pd.isnull(df['latitude']) | pd.isnull(df['longitude'])])\n",
    "df = pd.concat([df[pd.isnull(df['date']) | pd.isnull(df['latitude']) | pd.isnull(df['longitude'])], df.drop_duplicates(subset=[\"date\", \"latitude\", \"longitude\"])])\n",
    "df.drop_duplicates(inplace=True)\n",
    "print(len(df))"
   ]
  },
  {
   "cell_type": "markdown",
   "metadata": {},
   "source": [
    "## Filling of missing values and outliers"
   ]
  },
  {
   "cell_type": "code",
   "execution_count": 20,
   "metadata": {},
   "outputs": [
    {
     "name": "stdout",
     "output_type": "stream",
     "text": [
      "<class 'pandas.core.frame.DataFrame'>\n",
      "Index: 198167 entries, 85424 to 199378\n",
      "Data columns (total 33 columns):\n",
      " #   Column                     Non-Null Count   Dtype         \n",
      "---  ------                     --------------   -----         \n",
      " 0   date                       198167 non-null  datetime64[ns]\n",
      " 1   state                      198167 non-null  string        \n",
      " 2   city_or_county             198167 non-null  string        \n",
      " 3   address                    184771 non-null  string        \n",
      " 4   latitude                   198167 non-null  float64       \n",
      " 5   longitude                  198167 non-null  float64       \n",
      " 6   congressional_district     198167 non-null  Int64         \n",
      " 7   state_house_district       177094 non-null  Int64         \n",
      " 8   state_senate_district      183086 non-null  Int64         \n",
      " 9   participant_age1           135551 non-null  Int64         \n",
      " 10  participant_age_group1     160568 non-null  string        \n",
      " 11  participant_gender1        165953 non-null  string        \n",
      " 12  min_age_participants       198167 non-null  Int64         \n",
      " 13  avg_age_participants       135551 non-null  float64       \n",
      " 14  max_age_participants       198167 non-null  Int64         \n",
      " 15  n_participants_child       160572 non-null  Int64         \n",
      " 16  n_participants_teen        160571 non-null  Int64         \n",
      " 17  n_participants_adult       160573 non-null  Int64         \n",
      " 18  n_males                    165953 non-null  Int64         \n",
      " 19  n_females                  165953 non-null  Int64         \n",
      " 20  n_killed                   198167 non-null  Int64         \n",
      " 21  n_injured                  198167 non-null  Int64         \n",
      " 22  n_arrested                 173781 non-null  Int64         \n",
      " 23  n_unharmed                 173781 non-null  Int64         \n",
      " 24  n_participants             198167 non-null  Int64         \n",
      " 25  notes                      133063 non-null  string        \n",
      " 26  incident_characteristics1  197894 non-null  string        \n",
      " 27  incident_characteristics2  118675 non-null  string        \n",
      " 28  year                       198167 non-null  float64       \n",
      " 29  povertyPercentage          198167 non-null  float64       \n",
      " 30  party                      198167 non-null  object        \n",
      " 31  candidatevotes             198167 non-null  float64       \n",
      " 32  totalvotes                 198167 non-null  float64       \n",
      "dtypes: Int64(16), datetime64[ns](1), float64(7), object(1), string(8)\n",
      "memory usage: 54.4+ MB\n"
     ]
    }
   ],
   "source": [
    "#Sostituisco i valori NaN di latitude e longitude, con i valori delle righe aventi lo stesso state e la stessa city_or_county\n",
    "df[['latitude', 'longitude']] = df.groupby([\"state\", \"city_or_county\"],group_keys=False)[['latitude', 'longitude']].apply(lambda x: x.fillna(x.mean()))\n",
    "df[['latitude', 'longitude']] = df.groupby(\"state\",group_keys=False)[['latitude', 'longitude']].apply(lambda x: x.fillna(x.mean()))\n",
    "df.info()"
   ]
  },
  {
   "cell_type": "markdown",
   "metadata": {},
   "source": [
    "# Participant quantity information \n",
    "('n_participants_child', 'n_participants_teen',\n",
    "       'n_participants_adult', 'n_males', 'n_females', 'n_killed', 'n_injured',\n",
    "       'n_arrested', 'n_unharmed', 'n_participants')"
   ]
  },
  {
   "cell_type": "markdown",
   "metadata": {},
   "source": [
    "#TODO to check.."
   ]
  },
  {
   "cell_type": "code",
   "execution_count": 21,
   "metadata": {},
   "outputs": [
    {
     "name": "stdout",
     "output_type": "stream",
     "text": [
      "<class 'pandas.core.frame.DataFrame'>\n",
      "Index: 198167 entries, 85424 to 199378\n",
      "Data columns (total 33 columns):\n",
      " #   Column                     Non-Null Count   Dtype         \n",
      "---  ------                     --------------   -----         \n",
      " 0   date                       198167 non-null  datetime64[ns]\n",
      " 1   state                      198167 non-null  string        \n",
      " 2   city_or_county             198167 non-null  string        \n",
      " 3   address                    184771 non-null  string        \n",
      " 4   latitude                   198167 non-null  float64       \n",
      " 5   longitude                  198167 non-null  float64       \n",
      " 6   congressional_district     198167 non-null  Int64         \n",
      " 7   state_house_district       177094 non-null  Int64         \n",
      " 8   state_senate_district      183086 non-null  Int64         \n",
      " 9   participant_age1           135551 non-null  Int64         \n",
      " 10  participant_age_group1     160568 non-null  string        \n",
      " 11  participant_gender1        165953 non-null  string        \n",
      " 12  min_age_participants       198167 non-null  Int64         \n",
      " 13  avg_age_participants       135551 non-null  float64       \n",
      " 14  max_age_participants       198167 non-null  Int64         \n",
      " 15  n_participants_child       160572 non-null  Int64         \n",
      " 16  n_participants_teen        160571 non-null  Int64         \n",
      " 17  n_participants_adult       160573 non-null  Int64         \n",
      " 18  n_males                    165953 non-null  Int64         \n",
      " 19  n_females                  165953 non-null  Int64         \n",
      " 20  n_killed                   198167 non-null  Int64         \n",
      " 21  n_injured                  198167 non-null  Int64         \n",
      " 22  n_arrested                 173781 non-null  Int64         \n",
      " 23  n_unharmed                 173781 non-null  Int64         \n",
      " 24  n_participants             198167 non-null  Int64         \n",
      " 25  notes                      133063 non-null  string        \n",
      " 26  incident_characteristics1  197894 non-null  string        \n",
      " 27  incident_characteristics2  118675 non-null  string        \n",
      " 28  year                       198167 non-null  float64       \n",
      " 29  povertyPercentage          198167 non-null  float64       \n",
      " 30  party                      198167 non-null  object        \n",
      " 31  candidatevotes             198167 non-null  float64       \n",
      " 32  totalvotes                 198167 non-null  float64       \n",
      "dtypes: Int64(16), datetime64[ns](1), float64(7), object(1), string(8)\n",
      "memory usage: 54.4+ MB\n"
     ]
    }
   ],
   "source": [
    "# Calculate the values to substitute, utilizza n_females, n_males\n",
    "#Utilizzerà questi valori per sosituire \"n_participants\" nel caso somma tra male e female è pari alla somma tra teen,child e adults.\n",
    "#La modifica per quanto riguarda \"n_participants\" è fatta solo se è diversa da tutte le altre somme delle varie colonne:\n",
    "#1) females + males\n",
    "#2) child + adult + teen\n",
    "#3) killed+injured+unharmed+arrested\n",
    "#Nel caso in cui n_partiicpants sia almeno uguale ad una delle altre somme => lascia uguale.\n",
    "df['substitute_values'] = df['n_females'] + df['n_males']\n",
    "\n",
    "# Define the condition for substitution\n",
    "condition = (\n",
    "    (df['n_participants'] != (df['n_females'] + df['n_males'])) &\n",
    "    (df['n_participants'] != (df['n_participants_adult'] + df['n_participants_child'] + df['n_participants_teen'])) &\n",
    "    (df['n_participants'] != (df['n_killed'] + df['n_injured'] + df['n_unharmed'] + df['n_arrested'])) & # TODO: not correct\n",
    "    ((df['n_females'] + df['n_males']) == (df['n_participants_teen'] + df['n_participants_child'] + df['n_participants_adult']))\n",
    ")\n",
    "\n",
    "# Update the \"n_participants\" column with the calculated values where the condition is met\n",
    "df.loc[condition, 'n_participants'] = df.loc[condition, 'substitute_values']\n",
    "\n",
    "# Drop the temporary \"substitute_values\" column if needed\n",
    "df.drop(columns='substitute_values', inplace=True)\n",
    "\n",
    "df[\n",
    "        (df['n_participants'] != (df[\"n_females\"] + df[\"n_males\"])) & \n",
    "        (df['n_participants'] != (df[\"n_participants_adult\"] + df[\"n_participants_child\"] + df[\"n_participants_teen\"])) &\n",
    "        (df[\"n_participants\"] != (df[\"n_killed\"] + df[\"n_injured\"] + df[\"n_unharmed\"] + df[\"n_arrested\"])\n",
    "    ) &\n",
    "    (\n",
    "        (df['n_females'] + df['n_males']) == (df['n_participants_adult'] + df['n_participants_child'] + df['n_participants_teen'])\n",
    "    )\n",
    "][[\"n_participants\",\"n_males\",\"n_females\", \"n_participants_teen\", \"n_participants_child\", \"n_participants_adult\", \"n_killed\", \"n_injured\", \"n_unharmed\", \"n_arrested\"]]\n",
    "df.info()"
   ]
  },
  {
   "cell_type": "code",
   "execution_count": 22,
   "metadata": {},
   "outputs": [
    {
     "name": "stdout",
     "output_type": "stream",
     "text": [
      "<class 'pandas.core.frame.DataFrame'>\n",
      "Index: 198167 entries, 85424 to 199378\n",
      "Data columns (total 33 columns):\n",
      " #   Column                     Non-Null Count   Dtype         \n",
      "---  ------                     --------------   -----         \n",
      " 0   date                       198167 non-null  datetime64[ns]\n",
      " 1   state                      198167 non-null  string        \n",
      " 2   city_or_county             198167 non-null  string        \n",
      " 3   address                    184771 non-null  string        \n",
      " 4   latitude                   198167 non-null  float64       \n",
      " 5   longitude                  198167 non-null  float64       \n",
      " 6   congressional_district     198167 non-null  Int64         \n",
      " 7   state_house_district       177094 non-null  Int64         \n",
      " 8   state_senate_district      183086 non-null  Int64         \n",
      " 9   participant_age1           135551 non-null  Int64         \n",
      " 10  participant_age_group1     160568 non-null  string        \n",
      " 11  participant_gender1        165953 non-null  string        \n",
      " 12  min_age_participants       198167 non-null  Int64         \n",
      " 13  avg_age_participants       135551 non-null  float64       \n",
      " 14  max_age_participants       198167 non-null  Int64         \n",
      " 15  n_participants_child       160572 non-null  Int64         \n",
      " 16  n_participants_teen        160571 non-null  Int64         \n",
      " 17  n_participants_adult       160573 non-null  Int64         \n",
      " 18  n_males                    165953 non-null  Int64         \n",
      " 19  n_females                  165953 non-null  Int64         \n",
      " 20  n_killed                   198167 non-null  Int64         \n",
      " 21  n_injured                  198167 non-null  Int64         \n",
      " 22  n_arrested                 173781 non-null  Int64         \n",
      " 23  n_unharmed                 173781 non-null  Int64         \n",
      " 24  n_participants             198167 non-null  Int64         \n",
      " 25  notes                      133063 non-null  string        \n",
      " 26  incident_characteristics1  197894 non-null  string        \n",
      " 27  incident_characteristics2  118675 non-null  string        \n",
      " 28  year                       198167 non-null  float64       \n",
      " 29  povertyPercentage          198167 non-null  float64       \n",
      " 30  party                      198167 non-null  object        \n",
      " 31  candidatevotes             198167 non-null  float64       \n",
      " 32  totalvotes                 198167 non-null  float64       \n",
      "dtypes: Int64(16), datetime64[ns](1), float64(7), object(1), string(8)\n",
      "memory usage: 54.4+ MB\n"
     ]
    }
   ],
   "source": [
    "# Calculate the values to substitute, utilizza harmed,killed,unharmed,injured per la condizione di somma.\n",
    "df['substitute_values'] = df['n_females'] + df['n_males']\n",
    "\n",
    "# Define the condition for substitution\n",
    "condition = (\n",
    "    (df['n_participants'] != (df['n_females'] + df['n_males'])) &\n",
    "    (df['n_participants'] != (df['n_participants_adult'] + df['n_participants_child'] + df['n_participants_teen'])) &\n",
    "    (df['n_participants'] != (df['n_killed'] + df['n_injured'] + df['n_unharmed'] + df['n_arrested'])) &\n",
    "    ((df['n_females'] + df['n_males']) == (df['n_killed'] + df['n_injured'] + df['n_unharmed'] + df['n_arrested']))\n",
    ")\n",
    "\n",
    "# Update the \"n_participants\" column with the calculated values where the condition is met\n",
    "df.loc[condition, 'n_participants'] = df.loc[condition, 'substitute_values']\n",
    "\n",
    "# Drop the temporary \"substitute_values\" column if needed\n",
    "df.drop(columns='substitute_values', inplace=True)\n",
    "\n",
    "df[\n",
    "        (df['n_participants'] != (df[\"n_females\"] + df[\"n_males\"])) & \n",
    "        (df['n_participants'] != (df[\"n_participants_adult\"] + df[\"n_participants_child\"] + df[\"n_participants_teen\"])) &\n",
    "        (df[\"n_participants\"] != (df[\"n_killed\"] + df[\"n_injured\"] + df[\"n_unharmed\"] + df[\"n_arrested\"])\n",
    "    ) &\n",
    "    (\n",
    "        (df['n_females'] + df['n_males']) == (df['n_killed'] + df['n_injured'] + df['n_unharmed'] + df['n_arrested'])\n",
    "    )\n",
    "][[\"n_participants\",\"n_males\",\"n_females\", \"n_participants_teen\", \"n_participants_child\", \"n_participants_adult\", \"n_killed\", \"n_injured\", \"n_unharmed\", \"n_arrested\"]]\n",
    "df.info()\n"
   ]
  },
  {
   "cell_type": "code",
   "execution_count": 23,
   "metadata": {},
   "outputs": [
    {
     "name": "stdout",
     "output_type": "stream",
     "text": [
      "<class 'pandas.core.frame.DataFrame'>\n",
      "Index: 198167 entries, 85424 to 199378\n",
      "Data columns (total 33 columns):\n",
      " #   Column                     Non-Null Count   Dtype         \n",
      "---  ------                     --------------   -----         \n",
      " 0   date                       198167 non-null  datetime64[ns]\n",
      " 1   state                      198167 non-null  string        \n",
      " 2   city_or_county             198167 non-null  string        \n",
      " 3   address                    184771 non-null  string        \n",
      " 4   latitude                   198167 non-null  float64       \n",
      " 5   longitude                  198167 non-null  float64       \n",
      " 6   congressional_district     198167 non-null  Int64         \n",
      " 7   state_house_district       177094 non-null  Int64         \n",
      " 8   state_senate_district      183086 non-null  Int64         \n",
      " 9   participant_age1           135551 non-null  Int64         \n",
      " 10  participant_age_group1     160568 non-null  string        \n",
      " 11  participant_gender1        165953 non-null  string        \n",
      " 12  min_age_participants       198167 non-null  Int64         \n",
      " 13  avg_age_participants       135551 non-null  float64       \n",
      " 14  max_age_participants       198167 non-null  Int64         \n",
      " 15  n_participants_child       160572 non-null  Int64         \n",
      " 16  n_participants_teen        160571 non-null  Int64         \n",
      " 17  n_participants_adult       160573 non-null  Int64         \n",
      " 18  n_males                    165953 non-null  Int64         \n",
      " 19  n_females                  165953 non-null  Int64         \n",
      " 20  n_killed                   198167 non-null  Int64         \n",
      " 21  n_injured                  198167 non-null  Int64         \n",
      " 22  n_arrested                 173781 non-null  Int64         \n",
      " 23  n_unharmed                 173781 non-null  Int64         \n",
      " 24  n_participants             198167 non-null  Int64         \n",
      " 25  notes                      133063 non-null  string        \n",
      " 26  incident_characteristics1  197894 non-null  string        \n",
      " 27  incident_characteristics2  118675 non-null  string        \n",
      " 28  year                       198167 non-null  float64       \n",
      " 29  povertyPercentage          198167 non-null  float64       \n",
      " 30  party                      198167 non-null  object        \n",
      " 31  candidatevotes             198167 non-null  float64       \n",
      " 32  totalvotes                 198167 non-null  float64       \n",
      "dtypes: Int64(16), datetime64[ns](1), float64(7), object(1), string(8)\n",
      "memory usage: 54.4+ MB\n"
     ]
    }
   ],
   "source": [
    "# Calculate the values to substitute, teen,adult e child con injured,killed,unharmed,arrested come condizione, e adult,teen,child come sostituto.\n",
    "df['substitute_values'] = (df['n_participants_adult'] + df['n_participants_child'] + df['n_participants_teen'])\n",
    "\n",
    "# Define the condition for substitution\n",
    "condition = (\n",
    "    (df['n_participants'] != (df['n_females'] + df['n_males'])) &\n",
    "    (df['n_participants'] != (df['n_participants_adult'] + df['n_participants_child'] + df['n_participants_teen'])) &\n",
    "    (df['n_participants'] != (df['n_killed'] + df['n_injured'] + df['n_unharmed'] + df['n_arrested'])) &\n",
    "    ((df['n_killed'] + df['n_injured'] + df['n_unharmed'] + df['n_arrested']) == (df['n_participants_adult'] + df['n_participants_child'] + df['n_participants_teen']))\n",
    ")\n",
    "\n",
    "# Update the \"n_participants\" column with the calculated values where the condition is met\n",
    "df.loc[condition, 'n_participants'] = df.loc[condition, 'substitute_values']\n",
    "\n",
    "# Drop the temporary \"substitute_values\" column if needed\n",
    "df.drop(columns='substitute_values', inplace=True)\n",
    "\n",
    "df[\n",
    "        (df['n_participants'] != (df[\"n_females\"] + df[\"n_males\"])) & \n",
    "        (df['n_participants'] != (df[\"n_participants_adult\"] + df[\"n_participants_child\"] + df[\"n_participants_teen\"])) &\n",
    "        (df[\"n_participants\"] != (df[\"n_killed\"] + df[\"n_injured\"] + df[\"n_unharmed\"] + df[\"n_arrested\"])\n",
    "    ) &\n",
    "    (\n",
    "        (df['n_participants_adult'] + df['n_participants_child'] + df['n_participants_teen']) == (df['n_killed'] + df['n_injured'] + df['n_unharmed'] + df['n_arrested'])\n",
    "    )\n",
    "][[\"n_participants\",\"n_males\",\"n_females\", \"n_participants_teen\", \"n_participants_child\", \"n_participants_adult\", \"n_killed\", \"n_injured\", \"n_unharmed\", \"n_arrested\"]]\n",
    "df.info()"
   ]
  },
  {
   "cell_type": "markdown",
   "metadata": {
    "jp-MarkdownHeadingCollapsed": true
   },
   "source": [
    "# Poverty by State"
   ]
  },
  {
   "cell_type": "markdown",
   "metadata": {},
   "source": [
    "Import the povertyByStateYear csv file"
   ]
  },
  {
   "cell_type": "code",
   "execution_count": 24,
   "metadata": {
    "colab": {
     "base_uri": "https://localhost:8080/"
    },
    "id": "JcL2RjHvjsUL",
    "outputId": "2065912d-33cb-4fbf-821e-3f60f36f0e0e"
   },
   "outputs": [
    {
     "name": "stdout",
     "output_type": "stream",
     "text": [
      "<class 'pandas.core.frame.DataFrame'>\n",
      "RangeIndex: 884 entries, 0 to 883\n",
      "Data columns (total 3 columns):\n",
      " #   Column             Non-Null Count  Dtype  \n",
      "---  ------             --------------  -----  \n",
      " 0   state              884 non-null    object \n",
      " 1   year               884 non-null    int64  \n",
      " 2   povertyPercentage  832 non-null    float64\n",
      "dtypes: float64(1), int64(1), object(1)\n",
      "memory usage: 20.8+ KB\n"
     ]
    }
   ],
   "source": [
    "poverty_df = pd.read_csv('povertyByStateYear.csv', sep=',')\n",
    "poverty_df.info()"
   ]
  },
  {
   "cell_type": "markdown",
   "metadata": {},
   "source": [
    "Change data types to match the content of each attribute"
   ]
  },
  {
   "cell_type": "code",
   "execution_count": 25,
   "metadata": {
    "id": "lzw2gs80jsUN"
   },
   "outputs": [],
   "source": [
    "poverty_df[\"state\"] = poverty_df[\"state\"].astype(\"string\")\n",
    "poverty_df[\"year\"] = poverty_df[\"year\"].astype(\"Int64\")"
   ]
  },
  {
   "cell_type": "markdown",
   "metadata": {
    "jp-MarkdownHeadingCollapsed": true
   },
   "source": [
    "# Year State District House"
   ]
  },
  {
   "cell_type": "markdown",
   "metadata": {},
   "source": [
    "Import the year_state_district_house csv file"
   ]
  },
  {
   "cell_type": "code",
   "execution_count": 26,
   "metadata": {
    "colab": {
     "base_uri": "https://localhost:8080/"
    },
    "id": "FsRZfePSjsUN",
    "outputId": "9cd61cf0-5072-4586-bebb-af1343f2f492"
   },
   "outputs": [
    {
     "name": "stdout",
     "output_type": "stream",
     "text": [
      "<class 'pandas.core.frame.DataFrame'>\n",
      "RangeIndex: 10441 entries, 0 to 10440\n",
      "Data columns (total 6 columns):\n",
      " #   Column                  Non-Null Count  Dtype \n",
      "---  ------                  --------------  ----- \n",
      " 0   year                    10441 non-null  int64 \n",
      " 1   state                   10441 non-null  object\n",
      " 2   congressional_district  10441 non-null  int64 \n",
      " 3   party                   10441 non-null  object\n",
      " 4   candidatevotes          10441 non-null  int64 \n",
      " 5   totalvotes              10441 non-null  int64 \n",
      "dtypes: int64(4), object(2)\n",
      "memory usage: 489.5+ KB\n"
     ]
    }
   ],
   "source": [
    "district_in_state_df = pd.read_csv('year_state_district_house.csv', sep=',')\n",
    "district_in_state_df.info()"
   ]
  },
  {
   "cell_type": "markdown",
   "metadata": {},
   "source": [
    "Change data types to match the content of each attribute"
   ]
  },
  {
   "cell_type": "code",
   "execution_count": 27,
   "metadata": {
    "id": "DJa0SFqEjsUO"
   },
   "outputs": [],
   "source": [
    "district_in_state_df[\"state\"] = district_in_state_df[\"state\"].astype(\"string\")\n",
    "district_in_state_df[\"year\"] = district_in_state_df[\"year\"].astype(\"Int64\")\n",
    "district_in_state_df[\"congressional_district\"] = district_in_state_df[\"congressional_district\"].astype(\"Int64\")\n",
    "district_in_state_df[\"party\"] = district_in_state_df[\"party\"].astype(\"string\")\n",
    "district_in_state_df[\"candidatevotes\"] = district_in_state_df[\"candidatevotes\"].astype(\"Int64\")\n",
    "district_in_state_df[\"totalvotes\"] = district_in_state_df[\"totalvotes\"].astype(\"Int64\")"
   ]
  },
  {
   "cell_type": "code",
   "execution_count": 28,
   "metadata": {},
   "outputs": [],
   "source": [
    "\n",
    "df['year'] = pd.DatetimeIndex(df['date']).year \n"
   ]
  },
  {
   "cell_type": "code",
   "execution_count": 29,
   "metadata": {},
   "outputs": [
    {
     "data": {
      "text/plain": [
       "85424          1.0\n",
       "87060     0.066667\n",
       "154437    0.002506\n",
       "162475         1.0\n",
       "162702    0.021277\n",
       "            ...   \n",
       "199374         NaN\n",
       "199375         1.0\n",
       "199376         1.0\n",
       "199377    0.666667\n",
       "199378    0.333333\n",
       "Name: males_percentage, Length: 198167, dtype: Float64"
      ]
     },
     "execution_count": 29,
     "metadata": {},
     "output_type": "execute_result"
    }
   ],
   "source": [
    "#How many males are involved in incidents w.r.t. the total number of males for the\n",
    "#same city and in the same period?\n",
    "df[\"males_percentage\"] = df[\"n_males\"] /  df.groupby([\"year\",\"state\", \"city_or_county\"])[\"n_males\"].transform(\"sum\")\n",
    "df[\"males_percentage\"]"
   ]
  },
  {
   "cell_type": "code",
   "execution_count": 30,
   "metadata": {},
   "outputs": [
    {
     "data": {
      "text/plain": [
       "85424          0.0\n",
       "87060          0.0\n",
       "154437         0.0\n",
       "162475         0.0\n",
       "162702         0.0\n",
       "            ...   \n",
       "199374         NaN\n",
       "199375         1.0\n",
       "199376         NaN\n",
       "199377    0.333333\n",
       "199378    0.666667\n",
       "Name: killed_percentage, Length: 198167, dtype: Float64"
      ]
     },
     "execution_count": 30,
     "metadata": {},
     "output_type": "execute_result"
    }
   ],
   "source": [
    "#How many killed people have been involved w.r.t the total killed people in\n",
    "# the same congressional district in a given period of time?\n",
    "df[\"killed_percentage\"] = df[\"n_killed\"] /  df.groupby([\"year\",\"state\", \"congressional_district\" ])[\"n_killed\"].transform(\"sum\")\n",
    "df[\"killed_percentage\"]"
   ]
  },
  {
   "cell_type": "code",
   "execution_count": 31,
   "metadata": {},
   "outputs": [],
   "source": [
    "#How many injured people have been involved w.r.t the total injured people in\n",
    "# the same congressional district in a given period of time?\n",
    "df[\"injured_percentage\"] = df[\"n_injured\"] /  df.groupby([\"year\",\"state\", \"congressional_district\" ])[\"n_injured\"].transform(\"sum\")\n"
   ]
  },
  {
   "cell_type": "code",
   "execution_count": 32,
   "metadata": {},
   "outputs": [
    {
     "data": {
      "text/html": [
       "<div>\n",
       "<style scoped>\n",
       "    .dataframe tbody tr th:only-of-type {\n",
       "        vertical-align: middle;\n",
       "    }\n",
       "\n",
       "    .dataframe tbody tr th {\n",
       "        vertical-align: top;\n",
       "    }\n",
       "\n",
       "    .dataframe thead th {\n",
       "        text-align: right;\n",
       "    }\n",
       "</style>\n",
       "<table border=\"1\" class=\"dataframe\">\n",
       "  <thead>\n",
       "    <tr style=\"text-align: right;\">\n",
       "      <th></th>\n",
       "      <th>n_killed</th>\n",
       "      <th>n_participants</th>\n",
       "      <th>killed_percentage_per_incident</th>\n",
       "    </tr>\n",
       "  </thead>\n",
       "  <tbody>\n",
       "    <tr>\n",
       "      <th>85424</th>\n",
       "      <td>0</td>\n",
       "      <td>1</td>\n",
       "      <td>0.0</td>\n",
       "    </tr>\n",
       "    <tr>\n",
       "      <th>87060</th>\n",
       "      <td>0</td>\n",
       "      <td>1</td>\n",
       "      <td>0.0</td>\n",
       "    </tr>\n",
       "    <tr>\n",
       "      <th>154437</th>\n",
       "      <td>0</td>\n",
       "      <td>2</td>\n",
       "      <td>0.0</td>\n",
       "    </tr>\n",
       "    <tr>\n",
       "      <th>162475</th>\n",
       "      <td>0</td>\n",
       "      <td>1</td>\n",
       "      <td>0.0</td>\n",
       "    </tr>\n",
       "    <tr>\n",
       "      <th>162702</th>\n",
       "      <td>0</td>\n",
       "      <td>1</td>\n",
       "      <td>0.0</td>\n",
       "    </tr>\n",
       "    <tr>\n",
       "      <th>...</th>\n",
       "      <td>...</td>\n",
       "      <td>...</td>\n",
       "      <td>...</td>\n",
       "    </tr>\n",
       "    <tr>\n",
       "      <th>199374</th>\n",
       "      <td>0</td>\n",
       "      <td>5</td>\n",
       "      <td>0.0</td>\n",
       "    </tr>\n",
       "    <tr>\n",
       "      <th>199375</th>\n",
       "      <td>4</td>\n",
       "      <td>6</td>\n",
       "      <td>0.666667</td>\n",
       "    </tr>\n",
       "    <tr>\n",
       "      <th>199376</th>\n",
       "      <td>0</td>\n",
       "      <td>4</td>\n",
       "      <td>0.0</td>\n",
       "    </tr>\n",
       "    <tr>\n",
       "      <th>199377</th>\n",
       "      <td>1</td>\n",
       "      <td>4</td>\n",
       "      <td>0.25</td>\n",
       "    </tr>\n",
       "    <tr>\n",
       "      <th>199378</th>\n",
       "      <td>2</td>\n",
       "      <td>4</td>\n",
       "      <td>0.5</td>\n",
       "    </tr>\n",
       "  </tbody>\n",
       "</table>\n",
       "<p>198167 rows × 3 columns</p>\n",
       "</div>"
      ],
      "text/plain": [
       "        n_killed  n_participants  killed_percentage_per_incident\n",
       "85424          0               1                             0.0\n",
       "87060          0               1                             0.0\n",
       "154437         0               2                             0.0\n",
       "162475         0               1                             0.0\n",
       "162702         0               1                             0.0\n",
       "...          ...             ...                             ...\n",
       "199374         0               5                             0.0\n",
       "199375         4               6                        0.666667\n",
       "199376         0               4                             0.0\n",
       "199377         1               4                            0.25\n",
       "199378         2               4                             0.5\n",
       "\n",
       "[198167 rows x 3 columns]"
      ]
     },
     "execution_count": 32,
     "metadata": {},
     "output_type": "execute_result"
    }
   ],
   "source": [
    "#Ratio of the number of the killed people in the incidents w.r.t. the number of\n",
    "#participants in the incident\n",
    "df[\"killed_percentage_per_incident\"] = df[\"n_killed\"] / df[\"n_participants\"]\n",
    "df[[\"n_killed\", \"n_participants\", \"killed_percentage_per_incident\"]]"
   ]
  },
  {
   "cell_type": "code",
   "execution_count": 33,
   "metadata": {},
   "outputs": [
    {
     "data": {
      "text/html": [
       "<div>\n",
       "<style scoped>\n",
       "    .dataframe tbody tr th:only-of-type {\n",
       "        vertical-align: middle;\n",
       "    }\n",
       "\n",
       "    .dataframe tbody tr th {\n",
       "        vertical-align: top;\n",
       "    }\n",
       "\n",
       "    .dataframe thead th {\n",
       "        text-align: right;\n",
       "    }\n",
       "</style>\n",
       "<table border=\"1\" class=\"dataframe\">\n",
       "  <thead>\n",
       "    <tr style=\"text-align: right;\">\n",
       "      <th></th>\n",
       "      <th>n_unharmed</th>\n",
       "      <th>unharmed_percentage</th>\n",
       "    </tr>\n",
       "  </thead>\n",
       "  <tbody>\n",
       "    <tr>\n",
       "      <th>85424</th>\n",
       "      <td>0</td>\n",
       "      <td>0.0</td>\n",
       "    </tr>\n",
       "    <tr>\n",
       "      <th>87060</th>\n",
       "      <td>0</td>\n",
       "      <td>0.0</td>\n",
       "    </tr>\n",
       "    <tr>\n",
       "      <th>154437</th>\n",
       "      <td>0</td>\n",
       "      <td>0.0</td>\n",
       "    </tr>\n",
       "    <tr>\n",
       "      <th>162475</th>\n",
       "      <td>0</td>\n",
       "      <td>0.0</td>\n",
       "    </tr>\n",
       "    <tr>\n",
       "      <th>162702</th>\n",
       "      <td>0</td>\n",
       "      <td>0.0</td>\n",
       "    </tr>\n",
       "    <tr>\n",
       "      <th>...</th>\n",
       "      <td>...</td>\n",
       "      <td>...</td>\n",
       "    </tr>\n",
       "    <tr>\n",
       "      <th>199374</th>\n",
       "      <td>0</td>\n",
       "      <td>0.0</td>\n",
       "    </tr>\n",
       "    <tr>\n",
       "      <th>199375</th>\n",
       "      <td>1</td>\n",
       "      <td>4.566038</td>\n",
       "    </tr>\n",
       "    <tr>\n",
       "      <th>199376</th>\n",
       "      <td>0</td>\n",
       "      <td>0.0</td>\n",
       "    </tr>\n",
       "    <tr>\n",
       "      <th>199377</th>\n",
       "      <td>0</td>\n",
       "      <td>0.0</td>\n",
       "    </tr>\n",
       "    <tr>\n",
       "      <th>199378</th>\n",
       "      <td>0</td>\n",
       "      <td>0.0</td>\n",
       "    </tr>\n",
       "  </tbody>\n",
       "</table>\n",
       "<p>198167 rows × 2 columns</p>\n",
       "</div>"
      ],
      "text/plain": [
       "        n_unharmed  unharmed_percentage\n",
       "85424            0                  0.0\n",
       "87060            0                  0.0\n",
       "154437           0                  0.0\n",
       "162475           0                  0.0\n",
       "162702           0                  0.0\n",
       "...            ...                  ...\n",
       "199374           0                  0.0\n",
       "199375           1             4.566038\n",
       "199376           0                  0.0\n",
       "199377           0                  0.0\n",
       "199378           0                  0.0\n",
       "\n",
       "[198167 rows x 2 columns]"
      ]
     },
     "execution_count": 33,
     "metadata": {},
     "output_type": "execute_result"
    }
   ],
   "source": [
    "#Ratio of unharmed people in the incidents w.r.t. the the average of unharmed people\n",
    "#in the same period\n",
    "df[\"unharmed_percentage\"] = df[\"n_unharmed\"] / df.groupby([\"year\"])[\"n_unharmed\"].transform(\"mean\")\n",
    "df[[\"n_unharmed\", \"unharmed_percentage\"]]"
   ]
  },
  {
   "cell_type": "code",
   "execution_count": null,
   "metadata": {},
   "outputs": [],
   "source": []
  }
 ],
 "metadata": {
  "colab": {
   "provenance": []
  },
  "kernelspec": {
   "display_name": "Python 3 (ipykernel)",
   "language": "python",
   "name": "python3"
  },
  "language_info": {
   "codemirror_mode": {
    "name": "ipython",
    "version": 3
   },
   "file_extension": ".py",
   "mimetype": "text/x-python",
   "name": "python",
   "nbconvert_exporter": "python",
   "pygments_lexer": "ipython3",
   "version": "3.10.0"
  }
 },
 "nbformat": 4,
 "nbformat_minor": 4
}
