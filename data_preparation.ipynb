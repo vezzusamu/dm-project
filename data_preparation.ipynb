{
 "cells": [
  {
   "cell_type": "markdown",
   "metadata": {
    "id": "bJNHMyC4KxiI"
   },
   "source": [
    "Import the libraries necessary to analize data"
   ]
  },
  {
   "cell_type": "code",
   "execution_count": 1,
   "metadata": {
    "id": "AfbXoN--jsUE"
   },
   "outputs": [],
   "source": [
    "%matplotlib inline\n",
    "import math\n",
    "import numpy as np\n",
    "import pandas as pd\n",
    "import scipy.stats as stats\n",
    "import matplotlib.pyplot as plt\n",
    "import datetime\n",
    "import random\n",
    "import seaborn as sns\n",
    "import plotly.express as px\n",
    "\n",
    "from collections import defaultdict\n",
    "from scipy.stats import pearsonr"
   ]
  },
  {
   "cell_type": "code",
   "execution_count": 2,
   "metadata": {
    "colab": {
     "base_uri": "https://localhost:8080/",
     "height": 417
    },
    "id": "VaVFyEPhjsUH",
    "outputId": "41f638a7-d5ef-4b50-cc80-2e5db5fc6b1b"
   },
   "outputs": [
    {
     "name": "stdout",
     "output_type": "stream",
     "text": [
      "<class 'pandas.core.frame.DataFrame'>\n",
      "RangeIndex: 199379 entries, 0 to 199378\n",
      "Data columns (total 33 columns):\n",
      " #   Column                     Non-Null Count   Dtype         \n",
      "---  ------                     --------------   -----         \n",
      " 0   date                       199379 non-null  datetime64[ns]\n",
      " 1   state                      199379 non-null  object        \n",
      " 2   city_or_county             199379 non-null  object        \n",
      " 3   address                    185728 non-null  object        \n",
      " 4   latitude                   199313 non-null  float64       \n",
      " 5   longitude                  199313 non-null  float64       \n",
      " 6   congressional_district     199379 non-null  float64       \n",
      " 7   state_house_district       178208 non-null  float64       \n",
      " 8   state_senate_district      184240 non-null  float64       \n",
      " 9   participant_age1           136187 non-null  float64       \n",
      " 10  participant_age_group1     161305 non-null  object        \n",
      " 11  participant_gender1        166716 non-null  object        \n",
      " 12  min_age_participants       146998 non-null  float64       \n",
      " 13  avg_age_participants       147078 non-null  float64       \n",
      " 14  max_age_participants       147021 non-null  float64       \n",
      " 15  n_participants_child       161312 non-null  float64       \n",
      " 16  n_participants_teen        161313 non-null  float64       \n",
      " 17  n_participants_adult       161316 non-null  float64       \n",
      " 18  n_males                    166716 non-null  float64       \n",
      " 19  n_females                  166716 non-null  float64       \n",
      " 20  n_killed                   199379 non-null  int64         \n",
      " 21  n_injured                  199379 non-null  int64         \n",
      " 22  n_arrested                 174594 non-null  float64       \n",
      " 23  n_unharmed                 174594 non-null  float64       \n",
      " 24  n_participants             199379 non-null  float64       \n",
      " 25  notes                      133787 non-null  object        \n",
      " 26  incident_characteristics1  199101 non-null  object        \n",
      " 27  incident_characteristics2  119391 non-null  object        \n",
      " 28  year                       199379 non-null  int64         \n",
      " 29  povertyPercentage          199379 non-null  float64       \n",
      " 30  party                      199379 non-null  object        \n",
      " 31  candidatevotes             199379 non-null  int64         \n",
      " 32  totalvotes                 199379 non-null  int64         \n",
      "dtypes: datetime64[ns](1), float64(18), int64(5), object(9)\n",
      "memory usage: 50.2+ MB\n"
     ]
    }
   ],
   "source": [
    "df = pd.read_csv('incidents_df_joined.csv', low_memory=False, sep=',', parse_dates=['date'])\n",
    "df.info()"
   ]
  },
  {
   "cell_type": "markdown",
   "metadata": {},
   "source": [
    "Change data types to match the content of each attribute (setting to NaN non-numerical values in numerical attributes)"
   ]
  },
  {
   "cell_type": "code",
   "execution_count": 3,
   "metadata": {
    "colab": {
     "base_uri": "https://localhost:8080/"
    },
    "id": "smCujC0YjsUJ",
    "outputId": "522711c7-779e-4133-93a9-ae4109c82f21"
   },
   "outputs": [
    {
     "name": "stdout",
     "output_type": "stream",
     "text": [
      "<class 'pandas.core.frame.DataFrame'>\n",
      "RangeIndex: 199379 entries, 0 to 199378\n",
      "Data columns (total 33 columns):\n",
      " #   Column                     Non-Null Count   Dtype         \n",
      "---  ------                     --------------   -----         \n",
      " 0   date                       199378 non-null  datetime64[ns]\n",
      " 1   state                      199378 non-null  string        \n",
      " 2   city_or_county             199378 non-null  string        \n",
      " 3   address                    185727 non-null  string        \n",
      " 4   latitude                   199312 non-null  float64       \n",
      " 5   longitude                  199312 non-null  float64       \n",
      " 6   congressional_district     199378 non-null  Int64         \n",
      " 7   state_house_district       178207 non-null  Int64         \n",
      " 8   state_senate_district      184239 non-null  Int64         \n",
      " 9   participant_age1           136186 non-null  Int64         \n",
      " 10  participant_age_group1     161304 non-null  string        \n",
      " 11  participant_gender1        166715 non-null  string        \n",
      " 12  min_age_participants       146997 non-null  Int64         \n",
      " 13  avg_age_participants       147077 non-null  float64       \n",
      " 14  max_age_participants       147020 non-null  Int64         \n",
      " 15  n_participants_child       161311 non-null  Int64         \n",
      " 16  n_participants_teen        161312 non-null  Int64         \n",
      " 17  n_participants_adult       161315 non-null  Int64         \n",
      " 18  n_males                    166715 non-null  Int64         \n",
      " 19  n_females                  166715 non-null  Int64         \n",
      " 20  n_killed                   199378 non-null  Int64         \n",
      " 21  n_injured                  199378 non-null  Int64         \n",
      " 22  n_arrested                 174593 non-null  Int64         \n",
      " 23  n_unharmed                 174593 non-null  Int64         \n",
      " 24  n_participants             199378 non-null  Int64         \n",
      " 25  notes                      133786 non-null  string        \n",
      " 26  incident_characteristics1  199100 non-null  string        \n",
      " 27  incident_characteristics2  119390 non-null  string        \n",
      " 28  year                       199378 non-null  float64       \n",
      " 29  povertyPercentage          199378 non-null  float64       \n",
      " 30  party                      199378 non-null  string        \n",
      " 31  candidatevotes             199378 non-null  Int64         \n",
      " 32  totalvotes                 199378 non-null  Int64         \n",
      "dtypes: Int64(18), datetime64[ns](1), float64(5), string(9)\n",
      "memory usage: 53.6 MB\n"
     ]
    }
   ],
   "source": [
    "df[\"date\"] = df[\"date\"].astype(\"datetime64[ns]\")\n",
    "df[\"state\"] = df[\"state\"].astype(\"string\")\n",
    "df[\"city_or_county\"] = df[\"city_or_county\"].astype(\"string\")\n",
    "df[\"address\"] = df[\"address\"].astype(\"string\")\n",
    "df[\"congressional_district\"] = df[\"congressional_district\"].astype(\"Int64\")\n",
    "df[\"state_house_district\"] = df[\"state_house_district\"].astype(\"Int64\")\n",
    "df[\"state_senate_district\"] = df[\"state_senate_district\"].astype(\"Int64\")\n",
    "df[\"participant_age1\"] = df[\"participant_age1\"].astype(\"Int64\")\n",
    "df[\"min_age_participants\"] = pd.to_numeric(df[\"min_age_participants\"], errors=\"coerce\").astype(\"Int64\")\n",
    "df[\"max_age_participants\"] = pd.to_numeric(df[\"max_age_participants\"], errors=\"coerce\").astype(\"Int64\")\n",
    "df[\"avg_age_participants\"] = pd.to_numeric(df[\"avg_age_participants\"], errors=\"coerce\").astype(\"float64\")\n",
    "df[df['participant_gender1'] == 'Male, female'] = np.nan\n",
    "df[\"participant_gender1\"] = df[\"participant_gender1\"].astype(\"string\")\n",
    "df[\"participant_age_group1\"] = df[\"participant_age_group1\"].astype(\"string\")\n",
    "df[\"n_participants_teen\"] = pd.to_numeric(df[\"n_participants_teen\"], errors=\"coerce\").astype(\"Int64\")\n",
    "df[\"n_participants_child\"] = pd.to_numeric(df[\"n_participants_child\"], errors=\"coerce\").astype(\"Int64\")\n",
    "df[\"n_participants_adult\"] = pd.to_numeric(df[\"n_participants_adult\"], errors=\"coerce\").astype(\"Int64\")\n",
    "df[\"n_males\"] = pd.to_numeric(df[\"n_males\"], errors=\"coerce\").astype(\"Int64\")\n",
    "df[\"n_females\"] = pd.to_numeric(df[\"n_females\"], errors=\"coerce\").astype(\"Int64\")\n",
    "df[\"n_killed\"] = pd.to_numeric(df[\"n_killed\"], errors=\"coerce\").astype(\"Int64\")\n",
    "df[\"n_injured\"] = pd.to_numeric(df[\"n_injured\"], errors=\"coerce\").astype(\"Int64\")\n",
    "df[\"n_arrested\"] = pd.to_numeric(df[\"n_arrested\"], errors=\"coerce\").astype(\"Int64\")\n",
    "df[\"n_unharmed\"] = pd.to_numeric(df[\"n_unharmed\"], errors=\"coerce\").astype(\"Int64\")\n",
    "df[\"n_participants\"] = pd.to_numeric(df[\"n_participants\"], errors=\"coerce\").astype(\"Int64\")\n",
    "df[\"notes\"] = df[\"notes\"].astype(\"string\")\n",
    "df[\"incident_characteristics1\"] = df[\"incident_characteristics1\"].astype(\"string\")\n",
    "df[\"incident_characteristics2\"] = df[\"incident_characteristics2\"].astype(\"string\")\n",
    "df[\"party\"] = df[\"party\"].astype(\"string\")\n",
    "df[\"candidatevotes\"] = df[\"candidatevotes\"].astype(\"Int64\")\n",
    "df[\"totalvotes\"] = df[\"totalvotes\"].astype(\"Int64\")\n",
    "df.info()"
   ]
  },
  {
   "cell_type": "markdown",
   "metadata": {},
   "source": [
    "Deleting the rows with all NaN values"
   ]
  },
  {
   "cell_type": "code",
   "execution_count": 4,
   "metadata": {},
   "outputs": [
    {
     "name": "stdout",
     "output_type": "stream",
     "text": [
      "df len before: 199379\n",
      "df len after: 199378\n"
     ]
    }
   ],
   "source": [
    "print(f\"df len before: {len(df)}\")\n",
    "df.dropna(how='all', inplace=True)\n",
    "print(f\"df len after: {len(df)}\")"
   ]
  },
  {
   "cell_type": "markdown",
   "metadata": {},
   "source": [
    "Removing negative values"
   ]
  },
  {
   "cell_type": "code",
   "execution_count": 5,
   "metadata": {},
   "outputs": [],
   "source": [
    "columns_to_check = ['participant_age1', 'min_age_participants', 'avg_age_participants',\n",
    "       'max_age_participants', 'n_participants_child', 'n_participants_teen',\n",
    "       'n_participants_adult', 'n_males', 'n_females', 'n_killed', 'n_injured',\n",
    "       'n_arrested', 'n_unharmed', 'n_participants']\n",
    "# Set values less than 0 to NaN for the specified columns\n",
    "for i in columns_to_check:\n",
    "    df.loc[df[i] < 0, i] = np.nan\n"
   ]
  },
  {
   "cell_type": "markdown",
   "metadata": {
    "jp-MarkdownHeadingCollapsed": true
   },
   "source": [
    "## Age\n"
   ]
  },
  {
   "cell_type": "markdown",
   "metadata": {},
   "source": [
    "As seen in D.U., given that there are some ouliers in the order of ~800 years of age, we decided to remove them by setting them all to NaN, considering that a person with more than 120 years has not ever lived [cite, wikipedia]."
   ]
  },
  {
   "cell_type": "code",
   "execution_count": 6,
   "metadata": {},
   "outputs": [],
   "source": [
    "df.loc[(df[\"avg_age_participants\"] > 120), \"avg_age_participants\"] = np.nan\n",
    "df.loc[(df['min_age_participants'] > 120), \"min_age_participants\"] = np.nan\n",
    "df.loc[(df['max_age_participants'] > 120), \"max_age_participants\"] = np.nan\n",
    "df.loc[(df[\"participant_age1\"] > 120), \"participant_age1\"] = np.nan"
   ]
  },
  {
   "cell_type": "code",
   "execution_count": 7,
   "metadata": {},
   "outputs": [
    {
     "data": {
      "image/png": "[encoded data removed]",
      "text/plain": [
       "<Figure size 640x480 with 4 Axes>"
      ]
     },
     "metadata": {},
     "output_type": "display_data"
    },
    {
     "data": {
      "image/png": "[encoded data removed]",
      "text/plain": [
       "<Figure size 640x480 with 1 Axes>"
      ]
     },
     "metadata": {},
     "output_type": "display_data"
    }
   ],
   "source": [
    "\n",
    "df.hist(column=['avg_age_participants', 'min_age_participants', 'max_age_participants', 'participant_age1'], bins=[i for i in range(0,121,10)])\n",
    "plt.title(\"Valid avg, min, max, participant age1 ages\")\n",
    "plt.xlabel(\"avg, min, max, participant age1 age\")\n",
    "plt.ylabel(\"Individuals\")\n",
    "plt.show()\n",
    "\n",
    "df.boxplot(column=['avg_age_participants', 'min_age_participants', 'max_age_participants', 'participant_age1'])\n",
    "plt.title(\"Valid avg, min, max, participant age1 ages\")\n",
    "plt.ylabel(\"Valid avg, min, max, participant age1 ages\")\n",
    "plt.show()"
   ]
  },
  {
   "cell_type": "code",
   "execution_count": 8,
   "metadata": {},
   "outputs": [
    {
     "data": {
      "text/html": [
       "<div>\n",
       "<style scoped>\n",
       "    .dataframe tbody tr th:only-of-type {\n",
       "        vertical-align: middle;\n",
       "    }\n",
       "\n",
       "    .dataframe tbody tr th {\n",
       "        vertical-align: top;\n",
       "    }\n",
       "\n",
       "    .dataframe thead th {\n",
       "        text-align: right;\n",
       "    }\n",
       "</style>\n",
       "<table border=\"1\" class=\"dataframe\">\n",
       "  <thead>\n",
       "    <tr style=\"text-align: right;\">\n",
       "      <th></th>\n",
       "      <th>avg_age_participants</th>\n",
       "      <th>participant_age1</th>\n",
       "      <th>min_age_participants</th>\n",
       "      <th>max_age_participants</th>\n",
       "    </tr>\n",
       "  </thead>\n",
       "  <tbody>\n",
       "    <tr>\n",
       "      <th>count</th>\n",
       "      <td>136184.000000</td>\n",
       "      <td>136184.0</td>\n",
       "      <td>136188.0</td>\n",
       "      <td>136185.0</td>\n",
       "    </tr>\n",
       "    <tr>\n",
       "      <th>mean</th>\n",
       "      <td>29.974858</td>\n",
       "      <td>30.260816</td>\n",
       "      <td>28.325763</td>\n",
       "      <td>31.764746</td>\n",
       "    </tr>\n",
       "    <tr>\n",
       "      <th>std</th>\n",
       "      <td>12.461499</td>\n",
       "      <td>13.343577</td>\n",
       "      <td>12.498695</td>\n",
       "      <td>13.709934</td>\n",
       "    </tr>\n",
       "    <tr>\n",
       "      <th>min</th>\n",
       "      <td>0.000000</td>\n",
       "      <td>0.0</td>\n",
       "      <td>0.0</td>\n",
       "      <td>0.0</td>\n",
       "    </tr>\n",
       "    <tr>\n",
       "      <th>25%</th>\n",
       "      <td>21.000000</td>\n",
       "      <td>21.0</td>\n",
       "      <td>20.0</td>\n",
       "      <td>22.0</td>\n",
       "    </tr>\n",
       "    <tr>\n",
       "      <th>50%</th>\n",
       "      <td>27.000000</td>\n",
       "      <td>27.0</td>\n",
       "      <td>25.0</td>\n",
       "      <td>28.0</td>\n",
       "    </tr>\n",
       "    <tr>\n",
       "      <th>75%</th>\n",
       "      <td>36.000000</td>\n",
       "      <td>36.0</td>\n",
       "      <td>34.0</td>\n",
       "      <td>38.0</td>\n",
       "    </tr>\n",
       "    <tr>\n",
       "      <th>max</th>\n",
       "      <td>101.000000</td>\n",
       "      <td>101.0</td>\n",
       "      <td>101.0</td>\n",
       "      <td>101.0</td>\n",
       "    </tr>\n",
       "  </tbody>\n",
       "</table>\n",
       "</div>"
      ],
      "text/plain": [
       "       avg_age_participants  participant_age1  min_age_participants   \n",
       "count         136184.000000          136184.0              136188.0  \\\n",
       "mean              29.974858         30.260816             28.325763   \n",
       "std               12.461499         13.343577             12.498695   \n",
       "min                0.000000               0.0                   0.0   \n",
       "25%               21.000000              21.0                  20.0   \n",
       "50%               27.000000              27.0                  25.0   \n",
       "75%               36.000000              36.0                  34.0   \n",
       "max              101.000000             101.0                 101.0   \n",
       "\n",
       "       max_age_participants  \n",
       "count              136185.0  \n",
       "mean              31.764746  \n",
       "std               13.709934  \n",
       "min                     0.0  \n",
       "25%                    22.0  \n",
       "50%                    28.0  \n",
       "75%                    38.0  \n",
       "max                   101.0  "
      ]
     },
     "execution_count": 8,
     "metadata": {},
     "output_type": "execute_result"
    }
   ],
   "source": [
    "df[['avg_age_participants', 'participant_age1', 'min_age_participants', 'max_age_participants']].describe()"
   ]
  },
  {
   "cell_type": "code",
   "execution_count": 9,
   "metadata": {},
   "outputs": [
    {
     "name": "stdout",
     "output_type": "stream",
     "text": [
      "% of no child in incidents: 0.7925949703578128\n",
      "% of no teen in incidents: 0.7222060608492411\n",
      "% of no adult in incidents: 0.05159546188646691\n"
     ]
    }
   ],
   "source": [
    "print(f\"% of no child in incidents: {df[df['n_participants_child'] == 0]['n_participants_child'].count() / len(df['n_participants_child'])}\")\n",
    "print(f\"% of no teen in incidents: {df[df['n_participants_teen'] == 0]['n_participants_teen'].count() / len(df['n_participants_teen'])}\")\n",
    "print(f\"% of no adult in incidents: {df[df['n_participants_adult'] == 0]['n_participants_adult'].count() / len(df['n_participants_adult'])}\")"
   ]
  },
  {
   "cell_type": "markdown",
   "metadata": {},
   "source": [
    "We notice from eliminated obvious outliers (>120 and <0 years of age) and plotting the results that [avg_age,min_age,max_age]_participants are very similar (same min and max age, similar mean and median), so we decide that we will further explore their correlation. "
   ]
  },
  {
   "cell_type": "markdown",
   "metadata": {},
   "source": [
    "We check if when avg_age_participants is 0 or null, we can infer it by calcultating the avg based on min_age_participants and max_age_participants, and we found 0 rows available.\n",
    "This is a further motivation to delete min and max age participants"
   ]
  },
  {
   "cell_type": "code",
   "execution_count": 10,
   "metadata": {},
   "outputs": [
    {
     "data": {
      "text/html": [
       "<div>\n",
       "<style scoped>\n",
       "    .dataframe tbody tr th:only-of-type {\n",
       "        vertical-align: middle;\n",
       "    }\n",
       "\n",
       "    .dataframe tbody tr th {\n",
       "        vertical-align: top;\n",
       "    }\n",
       "\n",
       "    .dataframe thead th {\n",
       "        text-align: right;\n",
       "    }\n",
       "</style>\n",
       "<table border=\"1\" class=\"dataframe\">\n",
       "  <thead>\n",
       "    <tr style=\"text-align: right;\">\n",
       "      <th></th>\n",
       "      <th>avg_age_participants</th>\n",
       "      <th>min_age_participants</th>\n",
       "      <th>max_age_participants</th>\n",
       "    </tr>\n",
       "  </thead>\n",
       "  <tbody>\n",
       "  </tbody>\n",
       "</table>\n",
       "</div>"
      ],
      "text/plain": [
       "Empty DataFrame\n",
       "Columns: [avg_age_participants, min_age_participants, max_age_participants]\n",
       "Index: []"
      ]
     },
     "execution_count": 10,
     "metadata": {},
     "output_type": "execute_result"
    }
   ],
   "source": [
    "df[((df['avg_age_participants'] == 0) | (df['avg_age_participants'].isna())) & (((df['min_age_participants'] > 0) & (df['min_age_participants'].notna())) & ((df['max_age_participants'] > 0) & df['min_age_participants'].notna() ))] [['avg_age_participants', 'min_age_participants', 'max_age_participants']]"
   ]
  },
  {
   "cell_type": "markdown",
   "metadata": {
    "jp-MarkdownHeadingCollapsed": true
   },
   "source": [
    "## Date\n",
    "\n",
    "Analysis and cleaning of the date attribute"
   ]
  },
  {
   "cell_type": "code",
   "execution_count": 11,
   "metadata": {
    "id": "cKAjvMdCjsUS"
   },
   "outputs": [
    {
     "data": {
      "image/png": "[encoded data removed]",
      "text/plain": [
       "<Figure size 640x480 with 1 Axes>"
      ]
     },
     "metadata": {},
     "output_type": "display_data"
    }
   ],
   "source": [
    "df.hist(column=[\"date\"],   bins=[datetime.datetime(2012,7,1,0,0), datetime.datetime(2013,1,1,0,0), datetime.datetime(2013,7,1,0,0),\n",
    "                             datetime.datetime(2014,1,1,0,0), datetime.datetime(2014,7,1,0,0), datetime.datetime(2015,1,1,0,0),\n",
    "                             datetime.datetime(2015,7,1,0,0), datetime.datetime(2016,1,1,0,0), datetime.datetime(2016,7,1,0,0),\n",
    "                             datetime.datetime(2017,1,1,0,0), datetime.datetime(2017,7,1,0,0), datetime.datetime(2018,1,1,0,0),\n",
    "                             datetime.datetime(2018,7,1,0,0), datetime.datetime(2019,1,1,0,0)])\n",
    "plt.title(\"Date before cleaning\")\n",
    "plt.xlabel(\"date\")\n",
    "plt.ylabel(\"Number of incidents\")\n",
    "plt.show()"
   ]
  },
  {
   "cell_type": "markdown",
   "metadata": {},
   "source": [
    "We considered all dates after 2023-10-01 (the date we received the dataset) to be ouliers, in particular error in the data"
   ]
  },
  {
   "cell_type": "markdown",
   "metadata": {},
   "source": [
    "TODO: 2018 analyze separately"
   ]
  },
  {
   "cell_type": "markdown",
   "metadata": {},
   "source": [
    "As seen in D.U., the year 2013 is under represented with only 242 records, so we decide to drop them. "
   ]
  },
  {
   "cell_type": "code",
   "execution_count": 12,
   "metadata": {},
   "outputs": [
    {
     "data": {
      "text/plain": [
       "date\n",
       "2013      242\n",
       "2014    36331\n",
       "2015    42934\n",
       "2016    53082\n",
       "2017    56373\n",
       "2018    10416\n",
       "Name: count, dtype: int64"
      ]
     },
     "execution_count": 12,
     "metadata": {},
     "output_type": "execute_result"
    }
   ],
   "source": [
    "df['date'].dt.year.value_counts().sort_index()"
   ]
  },
  {
   "cell_type": "code",
   "execution_count": 13,
   "metadata": {},
   "outputs": [
    {
     "name": "stdout",
     "output_type": "stream",
     "text": [
      "242\n"
     ]
    }
   ],
   "source": [
    "df_with_2013 = len(df)\n",
    "df = df[df['date'].dt.year > 2013]\n",
    "print(df_with_2013 - len(df))"
   ]
  },
  {
   "cell_type": "code",
   "execution_count": 14,
   "metadata": {},
   "outputs": [
    {
     "data": {
      "image/png": "[encoded data removed]",
      "text/plain": [
       "<Figure size 640x480 with 1 Axes>"
      ]
     },
     "metadata": {},
     "output_type": "display_data"
    }
   ],
   "source": [
    "df.hist(column=[\"date\"],   bins=[datetime.datetime(2012,7,1,0,0), datetime.datetime(2013,1,1,0,0), datetime.datetime(2013,7,1,0,0),\n",
    "                             datetime.datetime(2014,1,1,0,0), datetime.datetime(2014,7,1,0,0), datetime.datetime(2015,1,1,0,0),\n",
    "                             datetime.datetime(2015,7,1,0,0), datetime.datetime(2016,1,1,0,0), datetime.datetime(2016,7,1,0,0),\n",
    "                             datetime.datetime(2017,1,1,0,0), datetime.datetime(2017,7,1,0,0), datetime.datetime(2018,1,1,0,0),\n",
    "                             datetime.datetime(2018,7,1,0,0), datetime.datetime(2019,1,1,0,0)])\n",
    "plt.title(\"Date after cleaning\")\n",
    "plt.xlabel(\"date\")\n",
    "plt.ylabel(\"Number of incidents\")\n",
    "plt.show()"
   ]
  },
  {
   "cell_type": "code",
   "execution_count": 15,
   "metadata": {},
   "outputs": [],
   "source": [
    "#df.isna().any()"
   ]
  },
  {
   "cell_type": "markdown",
   "metadata": {},
   "source": [
    "# Geographical info"
   ]
  },
  {
   "cell_type": "markdown",
   "metadata": {},
   "source": [
    "## Latitude and longitude"
   ]
  },
  {
   "cell_type": "code",
   "execution_count": 16,
   "metadata": {},
   "outputs": [
    {
     "data": {
      "text/plain": [
       "latitude  longitude\n",
       "NaN       NaN          66\n",
       "Name: count, dtype: int64"
      ]
     },
     "execution_count": 16,
     "metadata": {},
     "output_type": "execute_result"
    }
   ],
   "source": [
    "central_block = ((df[\"latitude\"] <= 49.3457868) & (df[\"latitude\"] >= 24.396308) & (df[\"longitude\"] >= -125.000000) & (df[\"longitude\"] <= -66.934570))\n",
    "alaska_block = ((df[\"latitude\"] <= 71.635993) & (df[\"latitude\"] >= 53.67068) & (df[\"longitude\"] >= -173.59497) & (df[\"longitude\"] <= -129.152344))\n",
    "hawaii_block = ((df[\"latitude\"] <= 22.674847) & (df[\"latitude\"] >= 17.790535) & (df[\"longitude\"] >= -161.389160) & (df[\"longitude\"] <= -153.237305))\n",
    "\n",
    "df[~(central_block | alaska_block | hawaii_block)][['latitude', 'longitude']].value_counts(dropna=False)"
   ]
  },
  {
   "cell_type": "markdown",
   "metadata": {},
   "source": [
    "We consider the triple <date,latitude,longitude> to be a key identifying an incident. We decided to eliminate the records with these 3 values duplicates. "
   ]
  },
  {
   "cell_type": "code",
   "execution_count": 17,
   "metadata": {},
   "outputs": [
    {
     "data": {
      "text/plain": [
       "latitude  longitude  date      \n",
       "36.7387   -119.7900  2018-01-16    6\n",
       "                     2018-03-17    5\n",
       "32.7485   -93.9895   2017-01-18    4\n",
       "32.5512   -93.7045   2016-04-16    4\n",
       "42.3482   -83.0618   2016-07-04    4\n",
       "                                  ..\n",
       "33.6356   -84.4333   2014-02-02    2\n",
       "                     2014-07-09    2\n",
       "                     2014-10-09    2\n",
       "                     2014-10-10    2\n",
       "61.6139   -149.4510  2016-07-28    2\n",
       "Name: count, Length: 1134, dtype: int64"
      ]
     },
     "execution_count": 17,
     "metadata": {},
     "output_type": "execute_result"
    }
   ],
   "source": [
    "df[df.duplicated(subset=['latitude', 'longitude', 'date'], keep=False)][['latitude', 'longitude', 'date']].value_counts()"
   ]
  },
  {
   "cell_type": "code",
   "execution_count": 18,
   "metadata": {
    "colab": {
     "base_uri": "https://localhost:8080/"
    },
    "id": "DuacLIzgjsUU",
    "outputId": "409cb56c-700b-4a06-e60e-d8427e0ecbba"
   },
   "outputs": [
    {
     "name": "stdout",
     "output_type": "stream",
     "text": [
      "199136\n",
      "197925\n"
     ]
    }
   ],
   "source": [
    "print(len(df))\n",
    "#df = df.drop_duplicates(subset=[\"date\", \"latitude\", \"longitude\"]).append(df[pd.isnull(df['date']) | pd.isnull(df['latitude']) | pd.isnull(df['longitude'])])\n",
    "df = pd.concat([df[pd.isnull(df['date']) | pd.isnull(df['latitude']) | pd.isnull(df['longitude'])], df.drop_duplicates(subset=[\"date\", \"latitude\", \"longitude\"])])\n",
    "df.drop_duplicates(inplace=True)\n",
    "print(len(df))"
   ]
  },
  {
   "cell_type": "code",
   "execution_count": 19,
   "metadata": {},
   "outputs": [
    {
     "data": {
      "text/plain": [
       "Series([], Name: count, dtype: int64)"
      ]
     },
     "execution_count": 19,
     "metadata": {},
     "output_type": "execute_result"
    }
   ],
   "source": [
    "df[df.duplicated(subset=['latitude', 'longitude', 'date'], keep=False)][['latitude', 'longitude', 'date']].value_counts()"
   ]
  },
  {
   "cell_type": "markdown",
   "metadata": {},
   "source": [
    "## Filling of missing values and outliers"
   ]
  },
  {
   "cell_type": "code",
   "execution_count": 20,
   "metadata": {},
   "outputs": [
    {
     "data": {
      "text/plain": [
       "latitude     False\n",
       "longitude    False\n",
       "dtype: bool"
      ]
     },
     "execution_count": 20,
     "metadata": {},
     "output_type": "execute_result"
    }
   ],
   "source": [
    "#Sostituisco i valori NaN di latitude e longitude, con i valori delle righe aventi lo stesso state e la stessa city_or_county\n",
    "df[['latitude', 'longitude']] = df.groupby([\"state\", \"city_or_county\"],group_keys=False)[['latitude', 'longitude']].apply(lambda x: x.fillna(x.mean()))\n",
    "df[['latitude', 'longitude']] = df.groupby(\"state\",group_keys=False)[['latitude', 'longitude']].apply(lambda x: x.fillna(x.mean()))\n",
    "df[['latitude', 'longitude']].isna().any()"
   ]
  },
  {
   "cell_type": "markdown",
   "metadata": {},
   "source": [
    "## Congressional District, State House District, State Senate District"
   ]
  },
  {
   "cell_type": "markdown",
   "metadata": {},
   "source": [
    "By examining the columns ‘congressional_district’, ‘state_house_district’, and ‘state_senate_district’, we observe that the columns ‘state_house_district’ and ‘state_senate_district’ represent further subdivisions of the US territory, which are not pertinent to our analysis. We will utilize the ‘congressional_district’ column to study the territorial divisions."
   ]
  },
  {
   "cell_type": "code",
   "execution_count": 21,
   "metadata": {},
   "outputs": [],
   "source": [
    "df.drop(columns=['state_house_district', 'state_senate_district'], inplace=True)"
   ]
  },
  {
   "cell_type": "markdown",
   "metadata": {},
   "source": [
    "# Participant quantity information \n",
    "('n_participants_child', 'n_participants_teen',\n",
    "       'n_participants_adult', 'n_males', 'n_females', 'n_killed', 'n_injured',\n",
    "       'n_arrested', 'n_unharmed', 'n_participants')"
   ]
  },
  {
   "cell_type": "markdown",
   "metadata": {},
   "source": [
    "#TODO to check.."
   ]
  },
  {
   "cell_type": "code",
   "execution_count": 22,
   "metadata": {},
   "outputs": [
    {
     "data": {
      "text/plain": [
       "197925"
      ]
     },
     "execution_count": 22,
     "metadata": {},
     "output_type": "execute_result"
    }
   ],
   "source": [
    "len(df)"
   ]
  },
  {
   "cell_type": "code",
   "execution_count": 23,
   "metadata": {},
   "outputs": [
    {
     "data": {
      "text/html": [
       "<div>\n",
       "<style scoped>\n",
       "    .dataframe tbody tr th:only-of-type {\n",
       "        vertical-align: middle;\n",
       "    }\n",
       "\n",
       "    .dataframe tbody tr th {\n",
       "        vertical-align: top;\n",
       "    }\n",
       "\n",
       "    .dataframe thead th {\n",
       "        text-align: right;\n",
       "    }\n",
       "</style>\n",
       "<table border=\"1\" class=\"dataframe\">\n",
       "  <thead>\n",
       "    <tr style=\"text-align: right;\">\n",
       "      <th></th>\n",
       "      <th>n_participants</th>\n",
       "      <th>n_males</th>\n",
       "      <th>n_females</th>\n",
       "      <th>n_participants_teen</th>\n",
       "      <th>n_participants_child</th>\n",
       "      <th>n_participants_adult</th>\n",
       "    </tr>\n",
       "  </thead>\n",
       "  <tbody>\n",
       "    <tr>\n",
       "      <th>163920</th>\n",
       "      <td>1</td>\n",
       "      <td>1</td>\n",
       "      <td>0</td>\n",
       "      <td>0</td>\n",
       "      <td>0</td>\n",
       "      <td>1</td>\n",
       "    </tr>\n",
       "    <tr>\n",
       "      <th>172845</th>\n",
       "      <td>1</td>\n",
       "      <td>1</td>\n",
       "      <td>0</td>\n",
       "      <td>0</td>\n",
       "      <td>0</td>\n",
       "      <td>1</td>\n",
       "    </tr>\n",
       "    <tr>\n",
       "      <th>57</th>\n",
       "      <td>1</td>\n",
       "      <td>1</td>\n",
       "      <td>0</td>\n",
       "      <td>0</td>\n",
       "      <td>0</td>\n",
       "      <td>1</td>\n",
       "    </tr>\n",
       "    <tr>\n",
       "      <th>63</th>\n",
       "      <td>1</td>\n",
       "      <td>0</td>\n",
       "      <td>1</td>\n",
       "      <td>0</td>\n",
       "      <td>0</td>\n",
       "      <td>1</td>\n",
       "    </tr>\n",
       "    <tr>\n",
       "      <th>170</th>\n",
       "      <td>1</td>\n",
       "      <td>1</td>\n",
       "      <td>0</td>\n",
       "      <td>0</td>\n",
       "      <td>0</td>\n",
       "      <td>1</td>\n",
       "    </tr>\n",
       "    <tr>\n",
       "      <th>...</th>\n",
       "      <td>...</td>\n",
       "      <td>...</td>\n",
       "      <td>...</td>\n",
       "      <td>...</td>\n",
       "      <td>...</td>\n",
       "      <td>...</td>\n",
       "    </tr>\n",
       "    <tr>\n",
       "      <th>198882</th>\n",
       "      <td>1</td>\n",
       "      <td>0</td>\n",
       "      <td>1</td>\n",
       "      <td>0</td>\n",
       "      <td>0</td>\n",
       "      <td>1</td>\n",
       "    </tr>\n",
       "    <tr>\n",
       "      <th>198900</th>\n",
       "      <td>1</td>\n",
       "      <td>0</td>\n",
       "      <td>1</td>\n",
       "      <td>0</td>\n",
       "      <td>0</td>\n",
       "      <td>1</td>\n",
       "    </tr>\n",
       "    <tr>\n",
       "      <th>198906</th>\n",
       "      <td>1</td>\n",
       "      <td>1</td>\n",
       "      <td>0</td>\n",
       "      <td>0</td>\n",
       "      <td>0</td>\n",
       "      <td>1</td>\n",
       "    </tr>\n",
       "    <tr>\n",
       "      <th>198932</th>\n",
       "      <td>2</td>\n",
       "      <td>0</td>\n",
       "      <td>2</td>\n",
       "      <td>0</td>\n",
       "      <td>1</td>\n",
       "      <td>1</td>\n",
       "    </tr>\n",
       "    <tr>\n",
       "      <th>199119</th>\n",
       "      <td>3</td>\n",
       "      <td>3</td>\n",
       "      <td>0</td>\n",
       "      <td>0</td>\n",
       "      <td>0</td>\n",
       "      <td>3</td>\n",
       "    </tr>\n",
       "  </tbody>\n",
       "</table>\n",
       "<p>5311 rows × 6 columns</p>\n",
       "</div>"
      ],
      "text/plain": [
       "        n_participants  n_males  n_females  n_participants_teen   \n",
       "163920               1        1          0                    0  \\\n",
       "172845               1        1          0                    0   \n",
       "57                   1        1          0                    0   \n",
       "63                   1        0          1                    0   \n",
       "170                  1        1          0                    0   \n",
       "...                ...      ...        ...                  ...   \n",
       "198882               1        0          1                    0   \n",
       "198900               1        0          1                    0   \n",
       "198906               1        1          0                    0   \n",
       "198932               2        0          2                    0   \n",
       "199119               3        3          0                    0   \n",
       "\n",
       "        n_participants_child  n_participants_adult  \n",
       "163920                     0                     1  \n",
       "172845                     0                     1  \n",
       "57                         0                     1  \n",
       "63                         0                     1  \n",
       "170                        0                     1  \n",
       "...                      ...                   ...  \n",
       "198882                     0                     1  \n",
       "198900                     0                     1  \n",
       "198906                     0                     1  \n",
       "198932                     1                     1  \n",
       "199119                     0                     3  \n",
       "\n",
       "[5311 rows x 6 columns]"
      ]
     },
     "execution_count": 23,
     "metadata": {},
     "output_type": "execute_result"
    }
   ],
   "source": [
    "#Utilizzerà questi valori per sosituire \"n_participants\" nel caso somma tra male e female è pari alla somma tra teen,child e adults.\n",
    "#La modifica per quanto riguarda \"n_participants\" è fatta solo se è diversa da tutte le altre somme delle varie colonne:\n",
    "#1) females + males\n",
    "#2) child + adult + teen\n",
    "#3) killed+injured+unharmed+arrested\n",
    "\n",
    "#Nel caso in cui n_participants sia almeno uguale ad una delle altre somme => lascia uguale.\n",
    "df['substitute_values'] = df['n_females'] + df['n_males']\n",
    "\n",
    "# Define the condition for substitution\n",
    "condition = (\n",
    "    ((df['n_females'] + df['n_males']) == (df['n_participants_teen'] + df['n_participants_child'] + df['n_participants_adult'])) &\n",
    "    (df['n_participants'] != (df['n_females'] + df['n_males'])) \n",
    ")\n",
    "\n",
    "# Update the \"n_participants\" column with the calculated values where the condition is met\n",
    "df.loc[condition, 'n_participants'] = df.loc[condition, 'substitute_values']\n",
    "\n",
    "# Drop the temporary \"substitute_values\" column if needed\n",
    "#df.drop(columns='substitute_values', inplace=True)\n",
    "\n",
    "df[condition][[\"n_participants\",\"n_males\",\"n_females\", \"n_participants_teen\", \"n_participants_child\", \"n_participants_adult\"]]"
   ]
  },
  {
   "cell_type": "code",
   "execution_count": 24,
   "metadata": {},
   "outputs": [
    {
     "name": "stdout",
     "output_type": "stream",
     "text": [
      "Number of male e female != child + teen + adult:  13364\n",
      "Same condition as before but with n participants == female + male: 8650\n",
      "Same condition as before but with n participants == child + teen + adult: 4202\n",
      "Same condition as before but with n participants != child + teen + adult and != n_males + n_females: 512\n"
     ]
    }
   ],
   "source": [
    "condition = (\n",
    "    ((df['n_females'] + df['n_males']) != (df['n_participants_teen'] + df['n_participants_child'] + df['n_participants_adult']))   \n",
    ")\n",
    "\n",
    "print(f\"Number of male e female != child + teen + adult:  {len(df[condition])}\")\n",
    "\n",
    "condition1 = condition & ((df['n_participants'] == (df['n_females'] + df['n_males'])))\n",
    "\n",
    "print(f\"Same condition as before but with n participants == female + male: {len(df[condition1])}\")\n",
    "\n",
    "condition2 = condition & ((df['n_participants'] == (df['n_participants_teen'] + df['n_participants_child'] + df['n_participants_adult'])) )\n",
    "\n",
    "print(f\"Same condition as before but with n participants == child + teen + adult: {len(df[condition2])}\")\n",
    "\n",
    "condition3 = condition & (((df['n_participants'] != (df['n_females'] + df['n_males'])) & (df['n_participants'] != (df['n_participants_teen'] + df['n_participants_child'] + df['n_participants_adult']))))\n",
    "                          \n",
    "print(f\"Same condition as before but with n participants != child + teen + adult and != n_males + n_females: {len(df[condition3])}\")"
   ]
  },
  {
   "cell_type": "markdown",
   "metadata": {},
   "source": [
    "TODO: fix"
   ]
  },
  {
   "cell_type": "markdown",
   "metadata": {},
   "source": []
  },
  {
   "cell_type": "code",
   "execution_count": null,
   "metadata": {},
   "outputs": [],
   "source": []
  },
  {
   "cell_type": "markdown",
   "metadata": {
    "jp-MarkdownHeadingCollapsed": true
   },
   "source": [
    "# Poverty by State"
   ]
  },
  {
   "cell_type": "code",
   "execution_count": null,
   "metadata": {},
   "outputs": [],
   "source": []
  },
  {
   "cell_type": "markdown",
   "metadata": {
    "jp-MarkdownHeadingCollapsed": true
   },
   "source": [
    "# Year State District House"
   ]
  },
  {
   "cell_type": "code",
   "execution_count": null,
   "metadata": {},
   "outputs": [],
   "source": []
  },
  {
   "cell_type": "markdown",
   "metadata": {},
   "source": [
    "# Correlation Matrix Analysis"
   ]
  },
  {
   "cell_type": "code",
   "execution_count": 25,
   "metadata": {},
   "outputs": [
    {
     "data": {
      "text/html": [
       "<div>\n",
       "<style scoped>\n",
       "    .dataframe tbody tr th:only-of-type {\n",
       "        vertical-align: middle;\n",
       "    }\n",
       "\n",
       "    .dataframe tbody tr th {\n",
       "        vertical-align: top;\n",
       "    }\n",
       "\n",
       "    .dataframe thead th {\n",
       "        text-align: right;\n",
       "    }\n",
       "</style>\n",
       "<table border=\"1\" class=\"dataframe\">\n",
       "  <thead>\n",
       "    <tr style=\"text-align: right;\">\n",
       "      <th></th>\n",
       "      <th>participant_age1</th>\n",
       "      <th>min_age_participants</th>\n",
       "      <th>avg_age_participants</th>\n",
       "      <th>max_age_participants</th>\n",
       "      <th>n_participants_child</th>\n",
       "      <th>n_participants_teen</th>\n",
       "      <th>n_participants_adult</th>\n",
       "      <th>n_males</th>\n",
       "      <th>n_females</th>\n",
       "      <th>n_killed</th>\n",
       "      <th>n_injured</th>\n",
       "      <th>n_arrested</th>\n",
       "      <th>n_unharmed</th>\n",
       "      <th>n_participants</th>\n",
       "      <th>povertyPercentage</th>\n",
       "    </tr>\n",
       "  </thead>\n",
       "  <tbody>\n",
       "    <tr>\n",
       "      <th>participant_age1</th>\n",
       "      <td>1.000000</td>\n",
       "      <td>0.878249</td>\n",
       "      <td>0.945374</td>\n",
       "      <td>0.926564</td>\n",
       "      <td>-0.002139</td>\n",
       "      <td>-0.002786</td>\n",
       "      <td>-0.002022</td>\n",
       "      <td>-0.059440</td>\n",
       "      <td>0.069607</td>\n",
       "      <td>0.141313</td>\n",
       "      <td>-0.119291</td>\n",
       "      <td>-0.025399</td>\n",
       "      <td>-0.008497</td>\n",
       "      <td>-0.028307</td>\n",
       "      <td>0.033251</td>\n",
       "    </tr>\n",
       "    <tr>\n",
       "      <th>min_age_participants</th>\n",
       "      <td>0.878249</td>\n",
       "      <td>1.000000</td>\n",
       "      <td>0.951471</td>\n",
       "      <td>0.812026</td>\n",
       "      <td>-0.001507</td>\n",
       "      <td>-0.002613</td>\n",
       "      <td>-0.001507</td>\n",
       "      <td>-0.184504</td>\n",
       "      <td>-0.016675</td>\n",
       "      <td>0.058124</td>\n",
       "      <td>-0.149901</td>\n",
       "      <td>-0.107940</td>\n",
       "      <td>-0.045705</td>\n",
       "      <td>-0.177289</td>\n",
       "      <td>0.013513</td>\n",
       "    </tr>\n",
       "    <tr>\n",
       "      <th>avg_age_participants</th>\n",
       "      <td>0.945374</td>\n",
       "      <td>0.951471</td>\n",
       "      <td>1.000000</td>\n",
       "      <td>0.948585</td>\n",
       "      <td>-0.002173</td>\n",
       "      <td>-0.003048</td>\n",
       "      <td>-0.002141</td>\n",
       "      <td>-0.093306</td>\n",
       "      <td>0.064925</td>\n",
       "      <td>0.131659</td>\n",
       "      <td>-0.118609</td>\n",
       "      <td>-0.052422</td>\n",
       "      <td>-0.020679</td>\n",
       "      <td>-0.060892</td>\n",
       "      <td>0.029988</td>\n",
       "    </tr>\n",
       "    <tr>\n",
       "      <th>max_age_participants</th>\n",
       "      <td>0.926564</td>\n",
       "      <td>0.812026</td>\n",
       "      <td>0.948585</td>\n",
       "      <td>1.000000</td>\n",
       "      <td>-0.002630</td>\n",
       "      <td>-0.003205</td>\n",
       "      <td>-0.002573</td>\n",
       "      <td>0.020418</td>\n",
       "      <td>0.144231</td>\n",
       "      <td>0.192128</td>\n",
       "      <td>-0.072814</td>\n",
       "      <td>0.021741</td>\n",
       "      <td>0.009877</td>\n",
       "      <td>0.075602</td>\n",
       "      <td>0.043052</td>\n",
       "    </tr>\n",
       "    <tr>\n",
       "      <th>n_participants_child</th>\n",
       "      <td>-0.002139</td>\n",
       "      <td>-0.001507</td>\n",
       "      <td>-0.002173</td>\n",
       "      <td>-0.002630</td>\n",
       "      <td>1.000000</td>\n",
       "      <td>1.000000</td>\n",
       "      <td>1.000000</td>\n",
       "      <td>-0.002460</td>\n",
       "      <td>-0.002064</td>\n",
       "      <td>-0.000984</td>\n",
       "      <td>-0.001673</td>\n",
       "      <td>0.000014</td>\n",
       "      <td>-0.002296</td>\n",
       "      <td>-0.002037</td>\n",
       "      <td>0.000438</td>\n",
       "    </tr>\n",
       "    <tr>\n",
       "      <th>n_participants_teen</th>\n",
       "      <td>-0.002786</td>\n",
       "      <td>-0.002613</td>\n",
       "      <td>-0.003048</td>\n",
       "      <td>-0.003205</td>\n",
       "      <td>1.000000</td>\n",
       "      <td>1.000000</td>\n",
       "      <td>0.957443</td>\n",
       "      <td>-0.000235</td>\n",
       "      <td>-0.001854</td>\n",
       "      <td>0.006382</td>\n",
       "      <td>-0.003017</td>\n",
       "      <td>-0.001206</td>\n",
       "      <td>-0.002061</td>\n",
       "      <td>-0.001122</td>\n",
       "      <td>-0.001754</td>\n",
       "    </tr>\n",
       "    <tr>\n",
       "      <th>n_participants_adult</th>\n",
       "      <td>-0.002022</td>\n",
       "      <td>-0.001507</td>\n",
       "      <td>-0.002141</td>\n",
       "      <td>-0.002573</td>\n",
       "      <td>1.000000</td>\n",
       "      <td>0.957443</td>\n",
       "      <td>1.000000</td>\n",
       "      <td>-0.000550</td>\n",
       "      <td>-0.002275</td>\n",
       "      <td>0.003809</td>\n",
       "      <td>-0.001899</td>\n",
       "      <td>-0.000672</td>\n",
       "      <td>-0.002538</td>\n",
       "      <td>-0.001590</td>\n",
       "      <td>-0.003292</td>\n",
       "    </tr>\n",
       "    <tr>\n",
       "      <th>n_males</th>\n",
       "      <td>-0.059440</td>\n",
       "      <td>-0.184504</td>\n",
       "      <td>-0.093306</td>\n",
       "      <td>0.020418</td>\n",
       "      <td>-0.002460</td>\n",
       "      <td>-0.000235</td>\n",
       "      <td>-0.000550</td>\n",
       "      <td>1.000000</td>\n",
       "      <td>-0.058029</td>\n",
       "      <td>0.141565</td>\n",
       "      <td>0.252602</td>\n",
       "      <td>0.390963</td>\n",
       "      <td>0.415403</td>\n",
       "      <td>0.849641</td>\n",
       "      <td>0.053575</td>\n",
       "    </tr>\n",
       "    <tr>\n",
       "      <th>n_females</th>\n",
       "      <td>0.069607</td>\n",
       "      <td>-0.016675</td>\n",
       "      <td>0.064925</td>\n",
       "      <td>0.144231</td>\n",
       "      <td>-0.002064</td>\n",
       "      <td>-0.001854</td>\n",
       "      <td>-0.002275</td>\n",
       "      <td>-0.058029</td>\n",
       "      <td>1.000000</td>\n",
       "      <td>0.191527</td>\n",
       "      <td>0.156243</td>\n",
       "      <td>0.119836</td>\n",
       "      <td>0.134293</td>\n",
       "      <td>0.390223</td>\n",
       "      <td>0.055389</td>\n",
       "    </tr>\n",
       "    <tr>\n",
       "      <th>n_killed</th>\n",
       "      <td>0.141313</td>\n",
       "      <td>0.058124</td>\n",
       "      <td>0.131659</td>\n",
       "      <td>0.192128</td>\n",
       "      <td>-0.000984</td>\n",
       "      <td>0.006382</td>\n",
       "      <td>0.003809</td>\n",
       "      <td>0.141565</td>\n",
       "      <td>0.191527</td>\n",
       "      <td>1.000000</td>\n",
       "      <td>-0.121676</td>\n",
       "      <td>-0.070111</td>\n",
       "      <td>-0.134554</td>\n",
       "      <td>0.262679</td>\n",
       "      <td>0.065294</td>\n",
       "    </tr>\n",
       "    <tr>\n",
       "      <th>n_injured</th>\n",
       "      <td>-0.119291</td>\n",
       "      <td>-0.149901</td>\n",
       "      <td>-0.118609</td>\n",
       "      <td>-0.072814</td>\n",
       "      <td>-0.001673</td>\n",
       "      <td>-0.003017</td>\n",
       "      <td>-0.001899</td>\n",
       "      <td>0.252602</td>\n",
       "      <td>0.156243</td>\n",
       "      <td>-0.121676</td>\n",
       "      <td>1.000000</td>\n",
       "      <td>-0.185966</td>\n",
       "      <td>-0.080992</td>\n",
       "      <td>0.386996</td>\n",
       "      <td>-0.004237</td>\n",
       "    </tr>\n",
       "    <tr>\n",
       "      <th>n_arrested</th>\n",
       "      <td>-0.025399</td>\n",
       "      <td>-0.107940</td>\n",
       "      <td>-0.052422</td>\n",
       "      <td>0.021741</td>\n",
       "      <td>0.000014</td>\n",
       "      <td>-0.001206</td>\n",
       "      <td>-0.000672</td>\n",
       "      <td>0.390963</td>\n",
       "      <td>0.119836</td>\n",
       "      <td>-0.070111</td>\n",
       "      <td>-0.185966</td>\n",
       "      <td>1.000000</td>\n",
       "      <td>-0.193870</td>\n",
       "      <td>0.426859</td>\n",
       "      <td>-0.044062</td>\n",
       "    </tr>\n",
       "    <tr>\n",
       "      <th>n_unharmed</th>\n",
       "      <td>-0.008497</td>\n",
       "      <td>-0.045705</td>\n",
       "      <td>-0.020679</td>\n",
       "      <td>0.009877</td>\n",
       "      <td>-0.002296</td>\n",
       "      <td>-0.002061</td>\n",
       "      <td>-0.002538</td>\n",
       "      <td>0.415403</td>\n",
       "      <td>0.134293</td>\n",
       "      <td>-0.134554</td>\n",
       "      <td>-0.080992</td>\n",
       "      <td>-0.193870</td>\n",
       "      <td>1.000000</td>\n",
       "      <td>0.466170</td>\n",
       "      <td>0.102466</td>\n",
       "    </tr>\n",
       "    <tr>\n",
       "      <th>n_participants</th>\n",
       "      <td>-0.028307</td>\n",
       "      <td>-0.177289</td>\n",
       "      <td>-0.060892</td>\n",
       "      <td>0.075602</td>\n",
       "      <td>-0.002037</td>\n",
       "      <td>-0.001122</td>\n",
       "      <td>-0.001590</td>\n",
       "      <td>0.849641</td>\n",
       "      <td>0.390223</td>\n",
       "      <td>0.262679</td>\n",
       "      <td>0.386996</td>\n",
       "      <td>0.426859</td>\n",
       "      <td>0.466170</td>\n",
       "      <td>1.000000</td>\n",
       "      <td>0.071918</td>\n",
       "    </tr>\n",
       "    <tr>\n",
       "      <th>povertyPercentage</th>\n",
       "      <td>0.033251</td>\n",
       "      <td>0.013513</td>\n",
       "      <td>0.029988</td>\n",
       "      <td>0.043052</td>\n",
       "      <td>0.000438</td>\n",
       "      <td>-0.001754</td>\n",
       "      <td>-0.003292</td>\n",
       "      <td>0.053575</td>\n",
       "      <td>0.055389</td>\n",
       "      <td>0.065294</td>\n",
       "      <td>-0.004237</td>\n",
       "      <td>-0.044062</td>\n",
       "      <td>0.102466</td>\n",
       "      <td>0.071918</td>\n",
       "      <td>1.000000</td>\n",
       "    </tr>\n",
       "  </tbody>\n",
       "</table>\n",
       "</div>"
      ],
      "text/plain": [
       "                      participant_age1  min_age_participants   \n",
       "participant_age1              1.000000              0.878249  \\\n",
       "min_age_participants          0.878249              1.000000   \n",
       "avg_age_participants          0.945374              0.951471   \n",
       "max_age_participants          0.926564              0.812026   \n",
       "n_participants_child         -0.002139             -0.001507   \n",
       "n_participants_teen          -0.002786             -0.002613   \n",
       "n_participants_adult         -0.002022             -0.001507   \n",
       "n_males                      -0.059440             -0.184504   \n",
       "n_females                     0.069607             -0.016675   \n",
       "n_killed                      0.141313              0.058124   \n",
       "n_injured                    -0.119291             -0.149901   \n",
       "n_arrested                   -0.025399             -0.107940   \n",
       "n_unharmed                   -0.008497             -0.045705   \n",
       "n_participants               -0.028307             -0.177289   \n",
       "povertyPercentage             0.033251              0.013513   \n",
       "\n",
       "                      avg_age_participants  max_age_participants   \n",
       "participant_age1                  0.945374              0.926564  \\\n",
       "min_age_participants              0.951471              0.812026   \n",
       "avg_age_participants              1.000000              0.948585   \n",
       "max_age_participants              0.948585              1.000000   \n",
       "n_participants_child             -0.002173             -0.002630   \n",
       "n_participants_teen              -0.003048             -0.003205   \n",
       "n_participants_adult             -0.002141             -0.002573   \n",
       "n_males                          -0.093306              0.020418   \n",
       "n_females                         0.064925              0.144231   \n",
       "n_killed                          0.131659              0.192128   \n",
       "n_injured                        -0.118609             -0.072814   \n",
       "n_arrested                       -0.052422              0.021741   \n",
       "n_unharmed                       -0.020679              0.009877   \n",
       "n_participants                   -0.060892              0.075602   \n",
       "povertyPercentage                 0.029988              0.043052   \n",
       "\n",
       "                      n_participants_child  n_participants_teen   \n",
       "participant_age1                 -0.002139            -0.002786  \\\n",
       "min_age_participants             -0.001507            -0.002613   \n",
       "avg_age_participants             -0.002173            -0.003048   \n",
       "max_age_participants             -0.002630            -0.003205   \n",
       "n_participants_child              1.000000             1.000000   \n",
       "n_participants_teen               1.000000             1.000000   \n",
       "n_participants_adult              1.000000             0.957443   \n",
       "n_males                          -0.002460            -0.000235   \n",
       "n_females                        -0.002064            -0.001854   \n",
       "n_killed                         -0.000984             0.006382   \n",
       "n_injured                        -0.001673            -0.003017   \n",
       "n_arrested                        0.000014            -0.001206   \n",
       "n_unharmed                       -0.002296            -0.002061   \n",
       "n_participants                   -0.002037            -0.001122   \n",
       "povertyPercentage                 0.000438            -0.001754   \n",
       "\n",
       "                      n_participants_adult   n_males  n_females  n_killed   \n",
       "participant_age1                 -0.002022 -0.059440   0.069607  0.141313  \\\n",
       "min_age_participants             -0.001507 -0.184504  -0.016675  0.058124   \n",
       "avg_age_participants             -0.002141 -0.093306   0.064925  0.131659   \n",
       "max_age_participants             -0.002573  0.020418   0.144231  0.192128   \n",
       "n_participants_child              1.000000 -0.002460  -0.002064 -0.000984   \n",
       "n_participants_teen               0.957443 -0.000235  -0.001854  0.006382   \n",
       "n_participants_adult              1.000000 -0.000550  -0.002275  0.003809   \n",
       "n_males                          -0.000550  1.000000  -0.058029  0.141565   \n",
       "n_females                        -0.002275 -0.058029   1.000000  0.191527   \n",
       "n_killed                          0.003809  0.141565   0.191527  1.000000   \n",
       "n_injured                        -0.001899  0.252602   0.156243 -0.121676   \n",
       "n_arrested                       -0.000672  0.390963   0.119836 -0.070111   \n",
       "n_unharmed                       -0.002538  0.415403   0.134293 -0.134554   \n",
       "n_participants                   -0.001590  0.849641   0.390223  0.262679   \n",
       "povertyPercentage                -0.003292  0.053575   0.055389  0.065294   \n",
       "\n",
       "                      n_injured  n_arrested  n_unharmed  n_participants   \n",
       "participant_age1      -0.119291   -0.025399   -0.008497       -0.028307  \\\n",
       "min_age_participants  -0.149901   -0.107940   -0.045705       -0.177289   \n",
       "avg_age_participants  -0.118609   -0.052422   -0.020679       -0.060892   \n",
       "max_age_participants  -0.072814    0.021741    0.009877        0.075602   \n",
       "n_participants_child  -0.001673    0.000014   -0.002296       -0.002037   \n",
       "n_participants_teen   -0.003017   -0.001206   -0.002061       -0.001122   \n",
       "n_participants_adult  -0.001899   -0.000672   -0.002538       -0.001590   \n",
       "n_males                0.252602    0.390963    0.415403        0.849641   \n",
       "n_females              0.156243    0.119836    0.134293        0.390223   \n",
       "n_killed              -0.121676   -0.070111   -0.134554        0.262679   \n",
       "n_injured              1.000000   -0.185966   -0.080992        0.386996   \n",
       "n_arrested            -0.185966    1.000000   -0.193870        0.426859   \n",
       "n_unharmed            -0.080992   -0.193870    1.000000        0.466170   \n",
       "n_participants         0.386996    0.426859    0.466170        1.000000   \n",
       "povertyPercentage     -0.004237   -0.044062    0.102466        0.071918   \n",
       "\n",
       "                      povertyPercentage  \n",
       "participant_age1               0.033251  \n",
       "min_age_participants           0.013513  \n",
       "avg_age_participants           0.029988  \n",
       "max_age_participants           0.043052  \n",
       "n_participants_child           0.000438  \n",
       "n_participants_teen           -0.001754  \n",
       "n_participants_adult          -0.003292  \n",
       "n_males                        0.053575  \n",
       "n_females                      0.055389  \n",
       "n_killed                       0.065294  \n",
       "n_injured                     -0.004237  \n",
       "n_arrested                    -0.044062  \n",
       "n_unharmed                     0.102466  \n",
       "n_participants                 0.071918  \n",
       "povertyPercentage              1.000000  "
      ]
     },
     "execution_count": 25,
     "metadata": {},
     "output_type": "execute_result"
    }
   ],
   "source": [
    "corr_matrix = df[['participant_age1', 'participant_age_group1',\n",
    "       'participant_gender1', 'min_age_participants', 'avg_age_participants',\n",
    "       'max_age_participants', 'n_participants_child', 'n_participants_teen',\n",
    "       'n_participants_adult', 'n_males', 'n_females', 'n_killed', 'n_injured',\n",
    "       'n_arrested', 'n_unharmed', 'n_participants', 'povertyPercentage']].corr(numeric_only=True, method='pearson')\n",
    "corr_matrix"
   ]
  },
  {
   "cell_type": "code",
   "execution_count": 26,
   "metadata": {},
   "outputs": [
    {
     "data": {
      "text/plain": [
       "<Axes: >"
      ]
     },
     "execution_count": 26,
     "metadata": {},
     "output_type": "execute_result"
    },
    {
     "data": {
      "image/png": "[encoded data removed]",
      "text/plain": [
       "<Figure size 640x480 with 2 Axes>"
      ]
     },
     "metadata": {},
     "output_type": "display_data"
    }
   ],
   "source": [
    "sns.heatmap(corr_matrix, annot=False, cmap='coolwarm')"
   ]
  },
  {
   "cell_type": "markdown",
   "metadata": {},
   "source": [
    "# Definition of Index "
   ]
  },
  {
   "cell_type": "code",
   "execution_count": 27,
   "metadata": {},
   "outputs": [
    {
     "data": {
      "text/plain": [
       "85424          1.0\n",
       "87060     0.066667\n",
       "154437    0.002506\n",
       "162475         1.0\n",
       "162702    0.021277\n",
       "            ...   \n",
       "199335         1.0\n",
       "199336         1.0\n",
       "199337         NaN\n",
       "199338         1.0\n",
       "199339         1.0\n",
       "Name: males_percentage, Length: 197925, dtype: Float64"
      ]
     },
     "execution_count": 27,
     "metadata": {},
     "output_type": "execute_result"
    }
   ],
   "source": [
    "#How many males are involved in incidents w.r.t. the total number of males for the\n",
    "#same city and in the same period?\n",
    "df[\"males_percentage\"] = df[\"n_males\"] /  df.groupby([\"year\",\"state\", \"city_or_county\"])[\"n_males\"].transform(\"sum\")\n",
    "df[\"males_percentage\"]"
   ]
  },
  {
   "cell_type": "code",
   "execution_count": 28,
   "metadata": {},
   "outputs": [
    {
     "data": {
      "text/plain": [
       "85424     0.0\n",
       "87060     0.0\n",
       "154437    0.0\n",
       "162475    0.0\n",
       "162702    0.0\n",
       "         ... \n",
       "199335    NaN\n",
       "199336    NaN\n",
       "199337    NaN\n",
       "199338    NaN\n",
       "199339    NaN\n",
       "Name: killed_percentage, Length: 197925, dtype: Float64"
      ]
     },
     "execution_count": 28,
     "metadata": {},
     "output_type": "execute_result"
    }
   ],
   "source": [
    "#How many killed people have been involved w.r.t the total killed people in\n",
    "# the same congressional district in a given period of time?\n",
    "df[\"killed_percentage\"] = df[\"n_killed\"] /  df.groupby([\"year\",\"state\", \"congressional_district\" ])[\"n_killed\"].transform(\"sum\")\n",
    "df[\"killed_percentage\"]"
   ]
  },
  {
   "cell_type": "code",
   "execution_count": 29,
   "metadata": {},
   "outputs": [],
   "source": [
    "#How many injured people have been involved w.r.t the total injured people in\n",
    "# the same congressional district in a given period of time?\n",
    "df[\"injured_percentage\"] = df[\"n_injured\"] /  df.groupby([\"year\",\"state\", \"congressional_district\" ])[\"n_injured\"].transform(\"sum\")\n"
   ]
  },
  {
   "cell_type": "code",
   "execution_count": 30,
   "metadata": {},
   "outputs": [
    {
     "data": {
      "text/html": [
       "<div>\n",
       "<style scoped>\n",
       "    .dataframe tbody tr th:only-of-type {\n",
       "        vertical-align: middle;\n",
       "    }\n",
       "\n",
       "    .dataframe tbody tr th {\n",
       "        vertical-align: top;\n",
       "    }\n",
       "\n",
       "    .dataframe thead th {\n",
       "        text-align: right;\n",
       "    }\n",
       "</style>\n",
       "<table border=\"1\" class=\"dataframe\">\n",
       "  <thead>\n",
       "    <tr style=\"text-align: right;\">\n",
       "      <th></th>\n",
       "      <th>n_killed</th>\n",
       "      <th>n_participants</th>\n",
       "      <th>killed_percentage_per_incident</th>\n",
       "    </tr>\n",
       "  </thead>\n",
       "  <tbody>\n",
       "    <tr>\n",
       "      <th>85424</th>\n",
       "      <td>0</td>\n",
       "      <td>1</td>\n",
       "      <td>0.0</td>\n",
       "    </tr>\n",
       "    <tr>\n",
       "      <th>87060</th>\n",
       "      <td>0</td>\n",
       "      <td>1</td>\n",
       "      <td>0.0</td>\n",
       "    </tr>\n",
       "    <tr>\n",
       "      <th>154437</th>\n",
       "      <td>0</td>\n",
       "      <td>2</td>\n",
       "      <td>0.0</td>\n",
       "    </tr>\n",
       "    <tr>\n",
       "      <th>162475</th>\n",
       "      <td>0</td>\n",
       "      <td>1</td>\n",
       "      <td>0.0</td>\n",
       "    </tr>\n",
       "    <tr>\n",
       "      <th>162702</th>\n",
       "      <td>0</td>\n",
       "      <td>1</td>\n",
       "      <td>0.0</td>\n",
       "    </tr>\n",
       "    <tr>\n",
       "      <th>...</th>\n",
       "      <td>...</td>\n",
       "      <td>...</td>\n",
       "      <td>...</td>\n",
       "    </tr>\n",
       "    <tr>\n",
       "      <th>199335</th>\n",
       "      <td>0</td>\n",
       "      <td>2</td>\n",
       "      <td>0.0</td>\n",
       "    </tr>\n",
       "    <tr>\n",
       "      <th>199336</th>\n",
       "      <td>0</td>\n",
       "      <td>1</td>\n",
       "      <td>0.0</td>\n",
       "    </tr>\n",
       "    <tr>\n",
       "      <th>199337</th>\n",
       "      <td>0</td>\n",
       "      <td>1</td>\n",
       "      <td>0.0</td>\n",
       "    </tr>\n",
       "    <tr>\n",
       "      <th>199338</th>\n",
       "      <td>0</td>\n",
       "      <td>3</td>\n",
       "      <td>0.0</td>\n",
       "    </tr>\n",
       "    <tr>\n",
       "      <th>199339</th>\n",
       "      <td>0</td>\n",
       "      <td>1</td>\n",
       "      <td>0.0</td>\n",
       "    </tr>\n",
       "  </tbody>\n",
       "</table>\n",
       "<p>197925 rows × 3 columns</p>\n",
       "</div>"
      ],
      "text/plain": [
       "        n_killed  n_participants  killed_percentage_per_incident\n",
       "85424          0               1                             0.0\n",
       "87060          0               1                             0.0\n",
       "154437         0               2                             0.0\n",
       "162475         0               1                             0.0\n",
       "162702         0               1                             0.0\n",
       "...          ...             ...                             ...\n",
       "199335         0               2                             0.0\n",
       "199336         0               1                             0.0\n",
       "199337         0               1                             0.0\n",
       "199338         0               3                             0.0\n",
       "199339         0               1                             0.0\n",
       "\n",
       "[197925 rows x 3 columns]"
      ]
     },
     "execution_count": 30,
     "metadata": {},
     "output_type": "execute_result"
    }
   ],
   "source": [
    "#Ratio of the number of the killed people in the incidents w.r.t. the number of\n",
    "#participants in the incident\n",
    "df[\"killed_percentage_per_incident\"] = df[\"n_killed\"] / df[\"n_participants\"]\n",
    "df[[\"n_killed\", \"n_participants\", \"killed_percentage_per_incident\"]]"
   ]
  },
  {
   "cell_type": "code",
   "execution_count": 31,
   "metadata": {},
   "outputs": [
    {
     "data": {
      "text/html": [
       "<div>\n",
       "<style scoped>\n",
       "    .dataframe tbody tr th:only-of-type {\n",
       "        vertical-align: middle;\n",
       "    }\n",
       "\n",
       "    .dataframe tbody tr th {\n",
       "        vertical-align: top;\n",
       "    }\n",
       "\n",
       "    .dataframe thead th {\n",
       "        text-align: right;\n",
       "    }\n",
       "</style>\n",
       "<table border=\"1\" class=\"dataframe\">\n",
       "  <thead>\n",
       "    <tr style=\"text-align: right;\">\n",
       "      <th></th>\n",
       "      <th>n_unharmed</th>\n",
       "      <th>unharmed_percentage</th>\n",
       "    </tr>\n",
       "  </thead>\n",
       "  <tbody>\n",
       "    <tr>\n",
       "      <th>85424</th>\n",
       "      <td>0</td>\n",
       "      <td>0.0</td>\n",
       "    </tr>\n",
       "    <tr>\n",
       "      <th>87060</th>\n",
       "      <td>0</td>\n",
       "      <td>0.0</td>\n",
       "    </tr>\n",
       "    <tr>\n",
       "      <th>154437</th>\n",
       "      <td>0</td>\n",
       "      <td>0.0</td>\n",
       "    </tr>\n",
       "    <tr>\n",
       "      <th>162475</th>\n",
       "      <td>0</td>\n",
       "      <td>0.0</td>\n",
       "    </tr>\n",
       "    <tr>\n",
       "      <th>162702</th>\n",
       "      <td>0</td>\n",
       "      <td>0.0</td>\n",
       "    </tr>\n",
       "    <tr>\n",
       "      <th>...</th>\n",
       "      <td>...</td>\n",
       "      <td>...</td>\n",
       "    </tr>\n",
       "    <tr>\n",
       "      <th>199335</th>\n",
       "      <td>0</td>\n",
       "      <td>0.0</td>\n",
       "    </tr>\n",
       "    <tr>\n",
       "      <th>199336</th>\n",
       "      <td>1</td>\n",
       "      <td>3.49192</td>\n",
       "    </tr>\n",
       "    <tr>\n",
       "      <th>199337</th>\n",
       "      <td>0</td>\n",
       "      <td>0.0</td>\n",
       "    </tr>\n",
       "    <tr>\n",
       "      <th>199338</th>\n",
       "      <td>0</td>\n",
       "      <td>0.0</td>\n",
       "    </tr>\n",
       "    <tr>\n",
       "      <th>199339</th>\n",
       "      <td>0</td>\n",
       "      <td>0.0</td>\n",
       "    </tr>\n",
       "  </tbody>\n",
       "</table>\n",
       "<p>197925 rows × 2 columns</p>\n",
       "</div>"
      ],
      "text/plain": [
       "        n_unharmed  unharmed_percentage\n",
       "85424            0                  0.0\n",
       "87060            0                  0.0\n",
       "154437           0                  0.0\n",
       "162475           0                  0.0\n",
       "162702           0                  0.0\n",
       "...            ...                  ...\n",
       "199335           0                  0.0\n",
       "199336           1              3.49192\n",
       "199337           0                  0.0\n",
       "199338           0                  0.0\n",
       "199339           0                  0.0\n",
       "\n",
       "[197925 rows x 2 columns]"
      ]
     },
     "execution_count": 31,
     "metadata": {},
     "output_type": "execute_result"
    }
   ],
   "source": [
    "#Ratio of unharmed people in the incidents w.r.t. the the average of unharmed people\n",
    "#in the same period\n",
    "df[\"unharmed_percentage\"] = df[\"n_unharmed\"] / df.groupby([\"year\"])[\"n_unharmed\"].transform(\"mean\")\n",
    "df[[\"n_unharmed\", \"unharmed_percentage\"]]"
   ]
  },
  {
   "cell_type": "markdown",
   "metadata": {},
   "source": [
    "# Attributes dropped"
   ]
  },
  {
   "cell_type": "markdown",
   "metadata": {},
   "source": [
    "As observed in the DU address will be dropped, moreover we will drop also year and notes because the former is a result of the data integration, useless because is redundant as we have the attribute date, the latter is useless because is only a string of text, used only in the data understanding"
   ]
  },
  {
   "cell_type": "code",
   "execution_count": 32,
   "metadata": {},
   "outputs": [],
   "source": [
    "df.drop(columns=['notes', 'year', 'address'], inplace=True)"
   ]
  },
  {
   "cell_type": "markdown",
   "metadata": {},
   "source": [
    "# Export the dataframe after the data preparation"
   ]
  },
  {
   "cell_type": "code",
   "execution_count": 33,
   "metadata": {},
   "outputs": [],
   "source": [
    "df.to_csv('df_after_dp.csv', index=False)"
   ]
  }
 ],
 "metadata": {
  "colab": {
   "provenance": []
  },
  "kernelspec": {
   "display_name": "Python 3 (ipykernel)",
   "language": "python",
   "name": "python3"
  },
  "language_info": {
   "codemirror_mode": {
    "name": "ipython",
    "version": 3
   },
   "file_extension": ".py",
   "mimetype": "text/x-python",
   "name": "python",
   "nbconvert_exporter": "python",
   "pygments_lexer": "ipython3",
   "version": "3.10.0"
  }
 },
 "nbformat": 4,
 "nbformat_minor": 4
}
