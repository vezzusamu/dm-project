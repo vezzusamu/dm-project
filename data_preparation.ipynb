{
 "cells": [
  {
   "cell_type": "markdown",
   "metadata": {
    "id": "bJNHMyC4KxiI"
   },
   "source": [
    "Import the libraries necessary to analize data"
   ]
  },
  {
   "cell_type": "code",
   "execution_count": 97,
   "metadata": {
    "id": "AfbXoN--jsUE"
   },
   "outputs": [],
   "source": [
    "%matplotlib inline\n",
    "import math\n",
    "import numpy as np\n",
    "import pandas as pd\n",
    "import scipy.stats as stats\n",
    "import matplotlib.pyplot as plt\n",
    "import datetime\n",
    "import random\n",
    "\n",
    "from collections import defaultdict\n",
    "from scipy.stats import pearsonr"
   ]
  },
  {
   "cell_type": "markdown",
   "metadata": {
    "id": "zB-UgdvVLMmN",
    "jp-MarkdownHeadingCollapsed": true
   },
   "source": [
    "# Incidents\n",
    "\n",
    "Import the incidents csv file"
   ]
  },
  {
   "cell_type": "code",
   "execution_count": 98,
   "metadata": {
    "colab": {
     "base_uri": "https://localhost:8080/",
     "height": 417
    },
    "id": "VaVFyEPhjsUH",
    "outputId": "41f638a7-d5ef-4b50-cc80-2e5db5fc6b1b"
   },
   "outputs": [
    {
     "name": "stdout",
     "output_type": "stream",
     "text": [
      "<class 'pandas.core.frame.DataFrame'>\n",
      "RangeIndex: 199379 entries, 0 to 199378\n",
      "Data columns (total 33 columns):\n",
      " #   Column                     Non-Null Count   Dtype         \n",
      "---  ------                     --------------   -----         \n",
      " 0   date                       199379 non-null  datetime64[ns]\n",
      " 1   state                      199379 non-null  object        \n",
      " 2   city_or_county             199379 non-null  object        \n",
      " 3   address                    185728 non-null  object        \n",
      " 4   latitude                   199313 non-null  float64       \n",
      " 5   longitude                  199313 non-null  float64       \n",
      " 6   congressional_district     199379 non-null  float64       \n",
      " 7   state_house_district       178208 non-null  float64       \n",
      " 8   state_senate_district      184240 non-null  float64       \n",
      " 9   participant_age1           136187 non-null  float64       \n",
      " 10  participant_age_group1     161305 non-null  object        \n",
      " 11  participant_gender1        166716 non-null  object        \n",
      " 12  min_age_participants       146998 non-null  float64       \n",
      " 13  avg_age_participants       147078 non-null  float64       \n",
      " 14  max_age_participants       147021 non-null  float64       \n",
      " 15  n_participants_child       161312 non-null  float64       \n",
      " 16  n_participants_teen        161313 non-null  float64       \n",
      " 17  n_participants_adult       161316 non-null  float64       \n",
      " 18  n_males                    166716 non-null  float64       \n",
      " 19  n_females                  166716 non-null  float64       \n",
      " 20  n_killed                   199379 non-null  int64         \n",
      " 21  n_injured                  199379 non-null  int64         \n",
      " 22  n_arrested                 174594 non-null  float64       \n",
      " 23  n_unharmed                 174594 non-null  float64       \n",
      " 24  n_participants             199379 non-null  float64       \n",
      " 25  notes                      133787 non-null  object        \n",
      " 26  incident_characteristics1  199101 non-null  object        \n",
      " 27  incident_characteristics2  119391 non-null  object        \n",
      " 28  year                       199379 non-null  int64         \n",
      " 29  povertyPercentage          199379 non-null  float64       \n",
      " 30  party                      199379 non-null  object        \n",
      " 31  candidatevotes             199379 non-null  int64         \n",
      " 32  totalvotes                 199379 non-null  int64         \n",
      "dtypes: datetime64[ns](1), float64(18), int64(5), object(9)\n",
      "memory usage: 50.2+ MB\n"
     ]
    }
   ],
   "source": [
    "df = pd.read_csv('incidents_df_joined.csv', low_memory=False, sep=',', parse_dates=['date']) #alternative in case of json source df.to_json('filename.json')\n",
    "df.info()"
   ]
  },
  {
   "cell_type": "markdown",
   "metadata": {},
   "source": [
    "Change data types to match the content of each attribute"
   ]
  },
  {
   "cell_type": "code",
   "execution_count": 99,
   "metadata": {
    "colab": {
     "base_uri": "https://localhost:8080/"
    },
    "id": "smCujC0YjsUJ",
    "outputId": "522711c7-779e-4133-93a9-ae4109c82f21"
   },
   "outputs": [
    {
     "name": "stdout",
     "output_type": "stream",
     "text": [
      "<class 'pandas.core.frame.DataFrame'>\n",
      "RangeIndex: 199379 entries, 0 to 199378\n",
      "Data columns (total 33 columns):\n",
      " #   Column                     Non-Null Count   Dtype         \n",
      "---  ------                     --------------   -----         \n",
      " 0   date                       199378 non-null  datetime64[ns]\n",
      " 1   state                      199378 non-null  string        \n",
      " 2   city_or_county             199378 non-null  string        \n",
      " 3   address                    185727 non-null  string        \n",
      " 4   latitude                   199312 non-null  float64       \n",
      " 5   longitude                  199312 non-null  float64       \n",
      " 6   congressional_district     199378 non-null  Int64         \n",
      " 7   state_house_district       178207 non-null  Int64         \n",
      " 8   state_senate_district      184239 non-null  Int64         \n",
      " 9   participant_age1           136186 non-null  Int64         \n",
      " 10  participant_age_group1     161304 non-null  string        \n",
      " 11  participant_gender1        166715 non-null  string        \n",
      " 12  min_age_participants       146997 non-null  Int64         \n",
      " 13  avg_age_participants       147077 non-null  float64       \n",
      " 14  max_age_participants       147020 non-null  Int64         \n",
      " 15  n_participants_child       161311 non-null  Int64         \n",
      " 16  n_participants_teen        161312 non-null  Int64         \n",
      " 17  n_participants_adult       161315 non-null  Int64         \n",
      " 18  n_males                    166715 non-null  Int64         \n",
      " 19  n_females                  166715 non-null  Int64         \n",
      " 20  n_killed                   199378 non-null  Int64         \n",
      " 21  n_injured                  199378 non-null  Int64         \n",
      " 22  n_arrested                 174593 non-null  Int64         \n",
      " 23  n_unharmed                 174593 non-null  Int64         \n",
      " 24  n_participants             199378 non-null  Int64         \n",
      " 25  notes                      133786 non-null  string        \n",
      " 26  incident_characteristics1  199100 non-null  string        \n",
      " 27  incident_characteristics2  119390 non-null  string        \n",
      " 28  year                       199378 non-null  float64       \n",
      " 29  povertyPercentage          199378 non-null  float64       \n",
      " 30  party                      199378 non-null  object        \n",
      " 31  candidatevotes             199378 non-null  float64       \n",
      " 32  totalvotes                 199378 non-null  float64       \n",
      "dtypes: Int64(16), datetime64[ns](1), float64(7), object(1), string(8)\n",
      "memory usage: 53.2+ MB\n"
     ]
    }
   ],
   "source": [
    "df[\"date\"] = df[\"date\"].astype(\"datetime64[ns]\")\n",
    "df[\"state\"] = df[\"state\"].astype(\"string\")\n",
    "df[\"city_or_county\"] = df[\"city_or_county\"].astype(\"string\")\n",
    "df[\"address\"] = df[\"address\"].astype(\"string\")\n",
    "df[\"congressional_district\"] = df[\"congressional_district\"].astype(\"Int64\")\n",
    "df[\"state_house_district\"] = df[\"state_house_district\"].astype(\"Int64\")\n",
    "df[\"state_senate_district\"] = df[\"state_senate_district\"].astype(\"Int64\")\n",
    "df[\"participant_age1\"] = df[\"participant_age1\"].astype(\"Int64\")\n",
    "df[\"min_age_participants\"] = pd.to_numeric(df[\"min_age_participants\"], errors=\"coerce\").astype(\"Int64\")\n",
    "df[\"max_age_participants\"] = pd.to_numeric(df[\"max_age_participants\"], errors=\"coerce\").astype(\"Int64\")\n",
    "df[\"avg_age_participants\"] = pd.to_numeric(df[\"avg_age_participants\"], errors=\"coerce\").astype(\"float64\")\n",
    "df[df['participant_gender1'] == 'Male, female'] = np.nan\n",
    "df[\"participant_gender1\"] = df[\"participant_gender1\"].astype(\"string\")\n",
    "df[\"participant_age_group1\"] = df[\"participant_age_group1\"].astype(\"string\")\n",
    "df[\"n_participants_teen\"] = pd.to_numeric(df[\"n_participants_teen\"], errors=\"coerce\").astype(\"Int64\")\n",
    "df[\"n_participants_child\"] = pd.to_numeric(df[\"n_participants_child\"], errors=\"coerce\").astype(\"Int64\")\n",
    "df[\"n_participants_adult\"] = pd.to_numeric(df[\"n_participants_adult\"], errors=\"coerce\").astype(\"Int64\")\n",
    "df[\"n_males\"] = pd.to_numeric(df[\"n_males\"], errors=\"coerce\").astype(\"Int64\")\n",
    "df[\"n_females\"] = pd.to_numeric(df[\"n_females\"], errors=\"coerce\").astype(\"Int64\")\n",
    "df[\"n_killed\"] = pd.to_numeric(df[\"n_killed\"], errors=\"coerce\").astype(\"Int64\")\n",
    "df[\"n_injured\"] = pd.to_numeric(df[\"n_injured\"], errors=\"coerce\").astype(\"Int64\")\n",
    "df[\"n_arrested\"] = pd.to_numeric(df[\"n_arrested\"], errors=\"coerce\").astype(\"Int64\")\n",
    "df[\"n_unharmed\"] = pd.to_numeric(df[\"n_unharmed\"], errors=\"coerce\").astype(\"Int64\")\n",
    "df[\"n_participants\"] = pd.to_numeric(df[\"n_participants\"], errors=\"coerce\").astype(\"Int64\")\n",
    "df[\"notes\"] = df[\"notes\"].astype(\"string\")\n",
    "df[\"incident_characteristics1\"] = df[\"incident_characteristics1\"].astype(\"string\")\n",
    "df[\"incident_characteristics2\"] = df[\"incident_characteristics2\"].astype(\"string\")\n",
    "df.info()"
   ]
  },
  {
   "cell_type": "markdown",
   "metadata": {},
   "source": [
    "Deleting the rows with all NaN values"
   ]
  },
  {
   "cell_type": "code",
   "execution_count": 100,
   "metadata": {},
   "outputs": [
    {
     "name": "stdout",
     "output_type": "stream",
     "text": [
      "df len before: 199379\n",
      "df len after: 199378\n"
     ]
    }
   ],
   "source": [
    "print(f\"df len before: {len(df)}\")\n",
    "df.dropna(how='all', inplace=True)\n",
    "print(f\"df len after: {len(df)}\")"
   ]
  },
  {
   "cell_type": "markdown",
   "metadata": {},
   "source": [
    "Removing negative values"
   ]
  },
  {
   "cell_type": "code",
   "execution_count": 101,
   "metadata": {},
   "outputs": [],
   "source": [
    "columns_to_check = ['participant_age1', 'min_age_participants', 'avg_age_participants',\n",
    "       'max_age_participants', 'n_participants_child', 'n_participants_teen',\n",
    "       'n_participants_adult', 'n_males', 'n_females', 'n_killed', 'n_injured',\n",
    "       'n_arrested', 'n_unharmed', 'n_participants']\n",
    "# Set values less than 0 to NaN for the specified columns\n",
    "for i in columns_to_check:\n",
    "    df.loc[df[i] < 0, i] = np.nan\n"
   ]
  },
  {
   "cell_type": "markdown",
   "metadata": {
    "jp-MarkdownHeadingCollapsed": true
   },
   "source": [
    "## Age\n",
    "### Average age\n"
   ]
  },
  {
   "cell_type": "markdown",
   "metadata": {},
   "source": [
    "As seen in D.U., given that there are some ouliers in the order of ~800 years of age, we decided to remove them by setting them all to NaN, considering that a person with more than 120 years has not ever lived [cite, wikipedia]."
   ]
  },
  {
   "cell_type": "code",
   "execution_count": 102,
   "metadata": {},
   "outputs": [
    {
     "data": {
      "image/png": "[encoded data removed]",
      "text/plain": [
       "<Figure size 640x480 with 1 Axes>"
      ]
     },
     "metadata": {},
     "output_type": "display_data"
    },
    {
     "data": {
      "image/png": "[encoded data removed]",
      "text/plain": [
       "<Figure size 640x480 with 1 Axes>"
      ]
     },
     "metadata": {},
     "output_type": "display_data"
    }
   ],
   "source": [
    "df.loc[(df[\"avg_age_participants\"] > 120), \"avg_age_participants\"] = np.nan\n",
    "\n",
    "df.hist(column=\"avg_age_participants\", bins=[i for i in range(0,121,10)])\n",
    "plt.title(\"Valid Average ages\")\n",
    "plt.xlabel(\"Average age\")\n",
    "plt.ylabel(\"Individuals\")\n",
    "plt.show()\n",
    "\n",
    "df.boxplot(column=\"avg_age_participants\")\n",
    "plt.title(\"Valid Average ages\")\n",
    "plt.ylabel(\"Average age\")\n",
    "plt.show()"
   ]
  },
  {
   "cell_type": "markdown",
   "metadata": {},
   "source": [
    "We decide to maintain the values outside the mean distribution and further explore them in clustering analysis"
   ]
  },
  {
   "cell_type": "code",
   "execution_count": 103,
   "metadata": {},
   "outputs": [
    {
     "data": {
      "text/plain": [
       "count    136184.000000\n",
       "mean         29.974858\n",
       "std          12.461499\n",
       "min           0.000000\n",
       "25%          21.000000\n",
       "50%          27.000000\n",
       "75%          36.000000\n",
       "max         101.000000\n",
       "Name: avg_age_participants, dtype: float64"
      ]
     },
     "execution_count": 103,
     "metadata": {},
     "output_type": "execute_result"
    }
   ],
   "source": [
    "df['avg_age_participants'].describe()"
   ]
  },
  {
   "cell_type": "code",
   "execution_count": 104,
   "metadata": {
    "colab": {
     "base_uri": "https://localhost:8080/",
     "height": 248
    },
    "id": "OKuOICwvjsUS",
    "outputId": "2c9fa6f6-7c83-43df-8489-fb6239e0d97a"
   },
   "outputs": [
    {
     "data": {
      "text/plain": [
       "' avg_age_upper = 36 + 1.5 * (36-21)\\n#setting ages to 10 if they are below 10\\ndf.loc[(df[\"avg_age_participants\"] < 10), \"avg_age_participants\"] = 10\\n#setting ages to 60 if they are above 60\\ndf.loc[(df[\"avg_age_participants\"] > avg_age_upper), \"avg_age_participants\"] = avg_age_upper \\n\\n# Plotting dates before cleaning\\ndf.boxplot(column=\"avg_age_participants\")\\nplt.title(\\'After cleaning average age\\')\\nplt.show()\\ndf.hist(column=\"avg_age_participants\")\\nplt.title(\\'After cleaning average age\\')\\nplt.show()'"
      ]
     },
     "execution_count": 104,
     "metadata": {},
     "output_type": "execute_result"
    }
   ],
   "source": [
    "\"\"\" avg_age_upper = 36 + 1.5 * (36-21)\n",
    "#setting ages to 10 if they are below 10\n",
    "df.loc[(df[\"avg_age_participants\"] < 10), \"avg_age_participants\"] = 10\n",
    "#setting ages to 60 if they are above 60\n",
    "df.loc[(df[\"avg_age_participants\"] > avg_age_upper), \"avg_age_participants\"] = avg_age_upper \n",
    "\n",
    "# Plotting dates before cleaning\n",
    "df.boxplot(column=\"avg_age_participants\")\n",
    "plt.title('After cleaning average age')\n",
    "plt.show()\n",
    "df.hist(column=\"avg_age_participants\")\n",
    "plt.title('After cleaning average age')\n",
    "plt.show()\"\"\""
   ]
  },
  {
   "cell_type": "markdown",
   "metadata": {},
   "source": [
    "### Min and Max age\n",
    "\n",
    "We do the same analysis of the minimum and the maximum age attributes, by plotting the values and then cleaning the outliers that are similar to the average age case"
   ]
  },
  {
   "cell_type": "code",
   "execution_count": 105,
   "metadata": {},
   "outputs": [
    {
     "ename": "IndexError",
     "evalue": "index 3826 is out of bounds for axis 0 with size 11",
     "output_type": "error",
     "traceback": [
      "\u001b[1;31m---------------------------------------------------------------------------\u001b[0m",
      "\u001b[1;31mIndexError\u001b[0m                                Traceback (most recent call last)",
      "\u001b[1;32md:\\mitol\\Desktop\\UNIVERSITA' MAGISTRALE\\SECOND YEAR\\FIRST SEMESTER\\DM\\dm-project\\data_preparation.ipynb Cell 17\u001b[0m line \u001b[0;36m1\n\u001b[1;32m----> <a href='vscode-notebook-cell:/d%3A/mitol/Desktop/UNIVERSITA%27%20MAGISTRALE/SECOND%20YEAR/FIRST%20SEMESTER/DM/dm-project/data_preparation.ipynb#Y143sZmlsZQ%3D%3D?line=0'>1</a>\u001b[0m df\u001b[39m.\u001b[39;49mhist(column\u001b[39m=\u001b[39;49m\u001b[39m\"\u001b[39;49m\u001b[39mmin_age_participants\u001b[39;49m\u001b[39m\"\u001b[39;49m)\n\u001b[0;32m      <a href='vscode-notebook-cell:/d%3A/mitol/Desktop/UNIVERSITA%27%20MAGISTRALE/SECOND%20YEAR/FIRST%20SEMESTER/DM/dm-project/data_preparation.ipynb#Y143sZmlsZQ%3D%3D?line=1'>2</a>\u001b[0m plt\u001b[39m.\u001b[39mtitle(\u001b[39m\"\u001b[39m\u001b[39mMinimum age before cleaning\u001b[39m\u001b[39m\"\u001b[39m)\n\u001b[0;32m      <a href='vscode-notebook-cell:/d%3A/mitol/Desktop/UNIVERSITA%27%20MAGISTRALE/SECOND%20YEAR/FIRST%20SEMESTER/DM/dm-project/data_preparation.ipynb#Y143sZmlsZQ%3D%3D?line=2'>3</a>\u001b[0m plt\u001b[39m.\u001b[39mxlabel(\u001b[39m\"\u001b[39m\u001b[39mMinimum age\u001b[39m\u001b[39m\"\u001b[39m)\n",
      "File \u001b[1;32mc:\\Python310\\lib\\site-packages\\pandas\\plotting\\_core.py:223\u001b[0m, in \u001b[0;36mhist_frame\u001b[1;34m(data, column, by, grid, xlabelsize, xrot, ylabelsize, yrot, ax, sharex, sharey, figsize, layout, bins, backend, legend, **kwargs)\u001b[0m\n\u001b[0;32m    134\u001b[0m \u001b[39m\u001b[39m\u001b[39m\"\"\"\u001b[39;00m\n\u001b[0;32m    135\u001b[0m \u001b[39mMake a histogram of the DataFrame's columns.\u001b[39;00m\n\u001b[0;32m    136\u001b[0m \n\u001b[1;32m   (...)\u001b[0m\n\u001b[0;32m    220\u001b[0m \u001b[39m    >>> hist = df.hist(bins=3)\u001b[39;00m\n\u001b[0;32m    221\u001b[0m \u001b[39m\"\"\"\u001b[39;00m\n\u001b[0;32m    222\u001b[0m plot_backend \u001b[39m=\u001b[39m _get_plot_backend(backend)\n\u001b[1;32m--> 223\u001b[0m \u001b[39mreturn\u001b[39;00m plot_backend\u001b[39m.\u001b[39mhist_frame(\n\u001b[0;32m    224\u001b[0m     data,\n\u001b[0;32m    225\u001b[0m     column\u001b[39m=\u001b[39mcolumn,\n\u001b[0;32m    226\u001b[0m     by\u001b[39m=\u001b[39mby,\n\u001b[0;32m    227\u001b[0m     grid\u001b[39m=\u001b[39mgrid,\n\u001b[0;32m    228\u001b[0m     xlabelsize\u001b[39m=\u001b[39mxlabelsize,\n\u001b[0;32m    229\u001b[0m     xrot\u001b[39m=\u001b[39mxrot,\n\u001b[0;32m    230\u001b[0m     ylabelsize\u001b[39m=\u001b[39mylabelsize,\n\u001b[0;32m    231\u001b[0m     yrot\u001b[39m=\u001b[39myrot,\n\u001b[0;32m    232\u001b[0m     ax\u001b[39m=\u001b[39max,\n\u001b[0;32m    233\u001b[0m     sharex\u001b[39m=\u001b[39msharex,\n\u001b[0;32m    234\u001b[0m     sharey\u001b[39m=\u001b[39msharey,\n\u001b[0;32m    235\u001b[0m     figsize\u001b[39m=\u001b[39mfigsize,\n\u001b[0;32m    236\u001b[0m     layout\u001b[39m=\u001b[39mlayout,\n\u001b[0;32m    237\u001b[0m     legend\u001b[39m=\u001b[39mlegend,\n\u001b[0;32m    238\u001b[0m     bins\u001b[39m=\u001b[39mbins,\n\u001b[0;32m    239\u001b[0m     \u001b[39m*\u001b[39m\u001b[39m*\u001b[39mkwargs,\n\u001b[0;32m    240\u001b[0m )\n",
      "File \u001b[1;32mc:\\Python310\\lib\\site-packages\\pandas\\plotting\\_matplotlib\\hist.py:535\u001b[0m, in \u001b[0;36mhist_frame\u001b[1;34m(data, column, by, grid, xlabelsize, xrot, ylabelsize, yrot, ax, sharex, sharey, figsize, layout, bins, legend, **kwds)\u001b[0m\n\u001b[0;32m    533\u001b[0m \u001b[39mif\u001b[39;00m legend \u001b[39mand\u001b[39;00m can_set_label:\n\u001b[0;32m    534\u001b[0m     kwds[\u001b[39m\"\u001b[39m\u001b[39mlabel\u001b[39m\u001b[39m\"\u001b[39m] \u001b[39m=\u001b[39m col\n\u001b[1;32m--> 535\u001b[0m ax\u001b[39m.\u001b[39mhist(data[col]\u001b[39m.\u001b[39mdropna()\u001b[39m.\u001b[39mvalues, bins\u001b[39m=\u001b[39mbins, \u001b[39m*\u001b[39m\u001b[39m*\u001b[39mkwds)\n\u001b[0;32m    536\u001b[0m ax\u001b[39m.\u001b[39mset_title(col)\n\u001b[0;32m    537\u001b[0m ax\u001b[39m.\u001b[39mgrid(grid)\n",
      "File \u001b[1;32mc:\\Python310\\lib\\site-packages\\matplotlib\\__init__.py:1459\u001b[0m, in \u001b[0;36m_preprocess_data.<locals>.inner\u001b[1;34m(ax, data, *args, **kwargs)\u001b[0m\n\u001b[0;32m   1456\u001b[0m \u001b[39m@functools\u001b[39m\u001b[39m.\u001b[39mwraps(func)\n\u001b[0;32m   1457\u001b[0m \u001b[39mdef\u001b[39;00m \u001b[39minner\u001b[39m(ax, \u001b[39m*\u001b[39margs, data\u001b[39m=\u001b[39m\u001b[39mNone\u001b[39;00m, \u001b[39m*\u001b[39m\u001b[39m*\u001b[39mkwargs):\n\u001b[0;32m   1458\u001b[0m     \u001b[39mif\u001b[39;00m data \u001b[39mis\u001b[39;00m \u001b[39mNone\u001b[39;00m:\n\u001b[1;32m-> 1459\u001b[0m         \u001b[39mreturn\u001b[39;00m func(ax, \u001b[39m*\u001b[39m\u001b[39mmap\u001b[39m(sanitize_sequence, args), \u001b[39m*\u001b[39m\u001b[39m*\u001b[39mkwargs)\n\u001b[0;32m   1461\u001b[0m     bound \u001b[39m=\u001b[39m new_sig\u001b[39m.\u001b[39mbind(ax, \u001b[39m*\u001b[39margs, \u001b[39m*\u001b[39m\u001b[39m*\u001b[39mkwargs)\n\u001b[0;32m   1462\u001b[0m     auto_label \u001b[39m=\u001b[39m (bound\u001b[39m.\u001b[39marguments\u001b[39m.\u001b[39mget(label_namer)\n\u001b[0;32m   1463\u001b[0m                   \u001b[39mor\u001b[39;00m bound\u001b[39m.\u001b[39mkwargs\u001b[39m.\u001b[39mget(label_namer))\n",
      "File \u001b[1;32mc:\\Python310\\lib\\site-packages\\matplotlib\\axes\\_axes.py:6790\u001b[0m, in \u001b[0;36mAxes.hist\u001b[1;34m(self, x, bins, range, density, weights, cumulative, bottom, histtype, align, orientation, rwidth, log, color, label, stacked, **kwargs)\u001b[0m\n\u001b[0;32m   6786\u001b[0m \u001b[39m# Loop through datasets\u001b[39;00m\n\u001b[0;32m   6787\u001b[0m \u001b[39mfor\u001b[39;00m i \u001b[39min\u001b[39;00m \u001b[39mrange\u001b[39m(nx):\n\u001b[0;32m   6788\u001b[0m     \u001b[39m# this will automatically overwrite bins,\u001b[39;00m\n\u001b[0;32m   6789\u001b[0m     \u001b[39m# so that each histogram uses the same bins\u001b[39;00m\n\u001b[1;32m-> 6790\u001b[0m     m, bins \u001b[39m=\u001b[39m np\u001b[39m.\u001b[39mhistogram(x[i], bins, weights\u001b[39m=\u001b[39mw[i], \u001b[39m*\u001b[39m\u001b[39m*\u001b[39mhist_kwargs)\n\u001b[0;32m   6791\u001b[0m     tops\u001b[39m.\u001b[39mappend(m)\n\u001b[0;32m   6792\u001b[0m tops \u001b[39m=\u001b[39m np\u001b[39m.\u001b[39marray(tops, \u001b[39mfloat\u001b[39m)  \u001b[39m# causes problems later if it's an int\u001b[39;00m\n",
      "File \u001b[1;32m<__array_function__ internals>:180\u001b[0m, in \u001b[0;36mhistogram\u001b[1;34m(*args, **kwargs)\u001b[0m\n",
      "File \u001b[1;32mc:\\Python310\\lib\\site-packages\\numpy\\lib\\histograms.py:857\u001b[0m, in \u001b[0;36mhistogram\u001b[1;34m(a, bins, range, normed, weights, density)\u001b[0m\n\u001b[0;32m    853\u001b[0m indices[indices \u001b[39m==\u001b[39m n_equal_bins] \u001b[39m-\u001b[39m\u001b[39m=\u001b[39m \u001b[39m1\u001b[39m\n\u001b[0;32m    855\u001b[0m \u001b[39m# The index computation is not guaranteed to give exactly\u001b[39;00m\n\u001b[0;32m    856\u001b[0m \u001b[39m# consistent results within ~1 ULP of the bin edges.\u001b[39;00m\n\u001b[1;32m--> 857\u001b[0m decrement \u001b[39m=\u001b[39m tmp_a \u001b[39m<\u001b[39m bin_edges[indices]\n\u001b[0;32m    858\u001b[0m indices[decrement] \u001b[39m-\u001b[39m\u001b[39m=\u001b[39m \u001b[39m1\u001b[39m\n\u001b[0;32m    859\u001b[0m \u001b[39m# The last bin includes the right edge. The other bins do not.\u001b[39;00m\n",
      "\u001b[1;31mIndexError\u001b[0m: index 3826 is out of bounds for axis 0 with size 11"
     ]
    },
    {
     "data": {
      "image/png": "[encoded data removed]",
      "text/plain": [
       "<Figure size 640x480 with 1 Axes>"
      ]
     },
     "metadata": {},
     "output_type": "display_data"
    }
   ],
   "source": [
    "df.hist(column=\"min_age_participants\")\n",
    "plt.title(\"Minimum age before cleaning\")\n",
    "plt.xlabel(\"Minimum age\")\n",
    "plt.ylabel(\"Individuals\")\n",
    "plt.yscale(\"log\")\n",
    "plt.show()\n",
    "\n",
    "df.boxplot(column=\"min_age_participants\")\n",
    "plt.title(\"Minimum age before cleaning\")\n",
    "plt.ylabel(\"Minimum age\")\n",
    "plt.show()\n",
    "\n",
    "df.hist(column=\"max_age_participants\")\n",
    "plt.title(\"Maximum age before cleaning\")\n",
    "plt.xlabel(\"Maximum age\")\n",
    "plt.ylabel(\"Individuals\")\n",
    "plt.yscale(\"log\")\n",
    "plt.show()\n",
    "\n",
    "df.boxplot(column=\"max_age_participants\")\n",
    "plt.title(\"Maximum age before cleaning\")\n",
    "plt.ylabel(\"Maximum age\")\n",
    "plt.show()"
   ]
  },
  {
   "cell_type": "code",
   "execution_count": null,
   "metadata": {},
   "outputs": [],
   "source": [
    "df.loc[(df[\"min_age_participants\"] > 120) | (df[\"min_age_participants\"] < 0), \"min_age_participants\"] = np.nan\n",
    "df.loc[(df[\"max_age_participants\"] > 120) | (df[\"max_age_participants\"] < 0), \"max_age_participants\"] = np.nan\n",
    "\n",
    "\n",
    "\n",
    "\n"
   ]
  },
  {
   "cell_type": "code",
   "execution_count": null,
   "metadata": {},
   "outputs": [],
   "source": [
    "#df.loc[(pd.isna(df[\"date\"])), \"date\"] = np.random.choice(df[\"date\"].dropna(), size=len(df[pd.isna(df[\"date\"])]))\n",
    "condition = (df[\"min_age_participants\"] < 12) & (df[\"min_age_participants\"] > 0)\n",
    "random_row = np.random.choice(df.loc[condition][\"min_age_participants\"], size=len(df.loc[condition]))\n",
    "plt.hist(random_row, bins=11)  # You can adjust the number of bins as needed\n",
    "plt.xlabel(\"Values\")\n",
    "plt.ylabel(\"Frequency\")\n",
    "plt.title(\"Histogram of Random Samples\")\n",
    "plt.show()\n",
    "#Abbiamo osservato la distrubuzione di \"min_age_participants\" tra 0 e 11 per poter sostituire i valori di \"min_ag_participants\" che sono a null e che ricadono nella condizione per cui \"n_participant_childs\" è non negativo e > 0\n",
    "#Ragionamento analogo per i valori con \"Teen\" e \"Adult\". (TODO)"
   ]
  },
  {
   "cell_type": "code",
   "execution_count": null,
   "metadata": {},
   "outputs": [],
   "source": [
    "#internalCondition  =(df[\"n_participants_teen\"] >= 0) & (df[\"min_age_participants\"].isna())\n",
    "#df.loc[internalCondition][[\"n_participants_adult\",\"min_age_participants\"]]\n",
    "#41403 rows to fix.\n",
    "df[df[\"min_age_participants\"].isna() & (df[\"n_participants_adult\"].isna() & (df[\"n_participants_teen\"].isna()) & (df[\"n_participants_child\"].isna()))][[\"n_participants_child\",\"n_participants_adult\",\"n_participants_teen\",\"min_age_participants\"]]"
   ]
  },
  {
   "cell_type": "code",
   "execution_count": null,
   "metadata": {},
   "outputs": [],
   "source": [
    "\n",
    "df[\"n_participants_teen\"]\n",
    "df[\"participant_age_group1\"].unique()\n",
    "#modify the min_age_participants, max_age_participants null values by taking the column value according to this three columns \"n_participants_adult\", \"n_participants_teen\" and \"n_participants_child\" (TODO COMMENTO)\n",
    "#min_age_participants\n",
    "#1 child\n",
    "condition = (df[\"min_age_participants\"] < 12) & (df[\"min_age_participants\"] > 0)\n",
    "internalCondition  =(df[\"min_age_participants\"].isna()) & (df[\"n_participants_child\"].notna()) & (df[\"n_participants_child\"] > 0)\n",
    "df.loc[internalCondition, \"min_age_participants\"] = np.random.choice(df.loc[condition, \"min_age_participants\"], size=internalCondition.sum())\n",
    "#2 teen\n",
    "condition = (df[\"min_age_participants\"] < 17) & (df[\"min_age_participants\"] > 11)\n",
    "internalCondition  =(df[\"min_age_participants\"].isna()) & (df[\"n_participants_teen\"].notna()) & (df[\"n_participants_teen\"] > 0)\n",
    "df.loc[internalCondition, \"min_age_participants\"]= np.random.choice(df.loc[condition][\"min_age_participants\"], size=internalCondition.sum())\n",
    "#3 adult\n",
    "condition = (df[\"min_age_participants\"] < df[\"max_age_participants\"]) & (df[\"min_age_participants\"] > 17) & (df[\"min_age_participants\"] < 60)\n",
    "internalCondition  = (df[\"min_age_participants\"].isna()) & (df[\"n_participants_adult\"].notna()) & (df[\"n_participants_adult\"] > 0)\n",
    "df.loc[internalCondition, \"min_age_participants\"]= np.random.choice(df.loc[condition][\"min_age_participants\"], size=internalCondition.sum())\n",
    "df.info()"
   ]
  },
  {
   "cell_type": "code",
   "execution_count": null,
   "metadata": {},
   "outputs": [],
   "source": [
    "condition = (df[\"min_age_participants\"].notna())\n",
    "internalCondition  =df[\"min_age_participants\"].isna()\n",
    "df.loc[internalCondition, \"min_age_participants\"] = np.random.choice(df.loc[condition, \"min_age_participants\"], size=internalCondition.sum())\n",
    "df.info()"
   ]
  },
  {
   "cell_type": "code",
   "execution_count": null,
   "metadata": {},
   "outputs": [],
   "source": [
    "\n",
    "#modify the  max_age_participants null values by taking the column value according to this three columns \"n_participants_adult\", \"n_participants_teen\" and \"n_participants_child\" (TODO COMMENTO)\n",
    "#min_age_participants\n",
    "#1 adult\n",
    "condition = (df[\"max_age_participants\"] > 17) & (df[\"max_age_participants\"] < 60)\n",
    "internalCondition  = (df[\"max_age_participants\"].isna()) & (df[\"n_participants_adult\"].notna()) & (df[\"n_participants_adult\"] > 0)\n",
    "df.loc[internalCondition, \"max_age_participants\"]= np.random.choice(df.loc[condition][\"max_age_participants\"], size=internalCondition.sum())\n",
    "#2 teen\n",
    "condition = (df[\"max_age_participants\"] < 17) & (df[\"max_age_participants\"] > 11)\n",
    "internalCondition  =(df[\"max_age_participants\"].isna()) & (df[\"n_participants_teen\"].notna()) & (df[\"n_participants_teen\"] > 0)\n",
    "df.loc[internalCondition, \"max_age_participants\"]= np.random.choice(df.loc[condition][\"max_age_participants\"], size=internalCondition.sum())\n",
    "#3 child\n",
    "condition = (df[\"max_age_participants\"] < 12) & (df[\"max_age_participants\"] > 0)\n",
    "internalCondition  =(df[\"max_age_participants\"].isna()) & (df[\"n_participants_child\"].notna()) & (df[\"n_participants_child\"] > 0)\n",
    "df.loc[internalCondition, \"max_age_participants\"] = np.random.choice(df.loc[condition, \"max_age_participants\"], size=internalCondition.sum())\n",
    "\n",
    "\n",
    "df.info()"
   ]
  },
  {
   "cell_type": "code",
   "execution_count": null,
   "metadata": {},
   "outputs": [],
   "source": [
    "condition = (df[\"max_age_participants\"].notna())\n",
    "internalCondition  =df[\"max_age_participants\"].isna()\n",
    "df.loc[internalCondition, \"max_age_participants\"] = np.random.choice(df.loc[condition, \"max_age_participants\"], size=internalCondition.sum())\n",
    "df.info()"
   ]
  },
  {
   "cell_type": "code",
   "execution_count": null,
   "metadata": {},
   "outputs": [],
   "source": [
    "\n",
    "#condition = (df[\"max_age_participants\"].notna())\n",
    "#internalCondition  =df[df[\"max_age_participants\"] < df[\"min_age_participants\"]][[\"max_age_participants\",\"min_age_participants\"]]\n",
    "#df.loc[internalCondition, \"max_age_participants\"] = np.random.choice(df.loc[condition, \"max_age_participants\"], size=internalCondition.sum())\n",
    "#df.info()\n",
    "\n",
    "df[df[\"\"]]\n"
   ]
  },
  {
   "cell_type": "code",
   "execution_count": null,
   "metadata": {},
   "outputs": [],
   "source": [
    "#df[df[\"min_age_participants\"] > df[\"max_age_participants\"]][[\"min_age_participants\",\"max_age_participants\"]]\n",
    "#check that the new substitution doesn't create conflicts (wrong column values) \n",
    "#df[df[\"min_age_participants\"].isna() & ( df[\"n_participants_adult\"] == 0 | df[\"n_participants_adult\"].isna())][[\"min_age_participants\",\"n_participants_adult\"]]\n",
    "df[df[\"min_age_participants\"].isna() & ((df[\"n_participants_adult\"] == 0) | df[\"n_participants_adult\"].isna())][[\"min_age_participants\",\"n_participants_adult\"]]\n",
    "#TODO\n",
    "#& (df[\"n_participants_teen\"].isna() | df[\"n_participants_teen\"] == 0) & (df[\"n_participants_child\"].isna() | df[\"n_participants_child\"] == 0)  \n",
    "#All the values that "
   ]
  },
  {
   "cell_type": "code",
   "execution_count": null,
   "metadata": {},
   "outputs": [],
   "source": [
    "df.hist(column=\"min_age_participants\", bins=[0, 10, 20, 30, 40, 50, 60, 70, 80, 90, 100, 110, 120])\n",
    "plt.title(\"Minimum age after cleaning\")\n",
    "plt.xlabel(\"Minimum age\")\n",
    "plt.ylabel(\"Individuals\")\n",
    "plt.show()\n",
    "\n",
    "df.boxplot(column=\"min_age_participants\")\n",
    "plt.title(\"Minimum age after cleaning\")\n",
    "plt.ylabel(\"Minimum age\")\n",
    "plt.show()\n",
    "\n",
    "df.hist(column=\"max_age_participants\", bins=[0, 10, 20, 30, 40, 50, 60, 70, 80, 90, 100, 110, 120])\n",
    "plt.title(\"Maximum age after cleaning\")\n",
    "plt.xlabel(\"Maximum age\")\n",
    "plt.ylabel(\"Individuals\")\n",
    "plt.show()\n",
    "\n",
    "df.boxplot(column=\"max_age_participants\")\n",
    "plt.title(\"Maximum age after cleaning\")\n",
    "plt.ylabel(\"Maximum age\")\n",
    "plt.show()"
   ]
  },
  {
   "cell_type": "markdown",
   "metadata": {},
   "source": [
    "### Participant age\n",
    "\n",
    "We do the same analysis of the participant age attribute, by plotting the values and then cleaning the outliers"
   ]
  },
  {
   "cell_type": "code",
   "execution_count": null,
   "metadata": {},
   "outputs": [],
   "source": [
    "df.hist(column=\"participant_age1\")\n",
    "plt.title(\"Participant age before cleaning\")\n",
    "plt.xlabel(\"Participant age\")\n",
    "plt.ylabel(\"Individuals\")\n",
    "plt.yscale(\"log\")\n",
    "plt.show()\n",
    "\n",
    "df.boxplot(column=\"participant_age1\")\n",
    "plt.title(\"Participant age before cleaning\")\n",
    "plt.ylabel(\"Participant age\")\n",
    "plt.show()"
   ]
  },
  {
   "cell_type": "code",
   "execution_count": null,
   "metadata": {},
   "outputs": [],
   "source": [
    "df.loc[(df[\"participant_age1\"] > 120) | (df[\"participant_age1\"] < 0), \"participant_age1\"] = np.nan\n",
    "#df[(df['participant_age1']).notna() == False & ((df['avg_age_participants'] < 0) | (df['avg_age_participants'] > 120)) ][[\"avg_age_participants\",\"max_age_participants\",\"participant_age1\",\"min_age_participants\",\"notes\"]]"
   ]
  },
  {
   "cell_type": "code",
   "execution_count": null,
   "metadata": {},
   "outputs": [],
   "source": [
    "df.hist(column=\"participant_age1\", bins=[0, 10, 20, 30, 40, 50, 60, 70, 80, 90, 100, 110, 120])\n",
    "plt.title(\"Participant age after cleaning\")\n",
    "plt.xlabel(\"Participant age\")\n",
    "plt.ylabel(\"Individuals\")\n",
    "plt.yscale(\"log\")\n",
    "plt.show()\n",
    "\n",
    "df.boxplot(column=\"participant_age1\")\n",
    "plt.title(\"Participant age after cleaning\")\n",
    "plt.ylabel(\"Participant age\")\n",
    "plt.show()"
   ]
  },
  {
   "cell_type": "markdown",
   "metadata": {
    "jp-MarkdownHeadingCollapsed": true
   },
   "source": [
    "## Date\n",
    "\n",
    "Analysis and cleaning of the date attribute"
   ]
  },
  {
   "cell_type": "code",
   "execution_count": null,
   "metadata": {
    "id": "cKAjvMdCjsUS"
   },
   "outputs": [
    {
     "data": {
      "image/png": "[encoded data removed]",
      "text/plain": [
       "<Figure size 640x480 with 1 Axes>"
      ]
     },
     "metadata": {},
     "output_type": "display_data"
    }
   ],
   "source": [
    "df.hist(column=\"date\")\n",
    "plt.title(\"Date before cleaning\")\n",
    "plt.xlabel(\"date\")\n",
    "plt.ylabel(\"Records\")\n",
    "plt.show()"
   ]
  },
  {
   "cell_type": "markdown",
   "metadata": {},
   "source": [
    "We considered all dates after 2023-10-01 (the date we received the dataset) to be ouliers, in particular error in the data"
   ]
  },
  {
   "cell_type": "code",
   "execution_count": null,
   "metadata": {},
   "outputs": [],
   "source": [
    "df.loc[(df[\"date\"] > \"2023-10-01\"), \"date\"] = np.nan"
   ]
  },
  {
   "cell_type": "code",
   "execution_count": null,
   "metadata": {},
   "outputs": [
    {
     "data": {
      "image/png": "[encoded data removed]",
      "text/plain": [
       "<Figure size 640x480 with 1 Axes>"
      ]
     },
     "metadata": {},
     "output_type": "display_data"
    }
   ],
   "source": [
    "df.hist(column=\"date\", bins=[datetime.datetime(2012,7,1,0,0), datetime.datetime(2013,1,1,0,0), datetime.datetime(2013,7,1,0,0),\n",
    "                             datetime.datetime(2014,1,1,0,0), datetime.datetime(2014,7,1,0,0), datetime.datetime(2015,1,1,0,0),\n",
    "                             datetime.datetime(2015,7,1,0,0), datetime.datetime(2016,1,1,0,0), datetime.datetime(2016,7,1,0,0),\n",
    "                             datetime.datetime(2017,1,1,0,0), datetime.datetime(2017,7,1,0,0), datetime.datetime(2018,1,1,0,0),\n",
    "                             datetime.datetime(2018,7,1,0,0), datetime.datetime(2019,1,1,0,0)])\n",
    "plt.title(\"Date after cleaning\")\n",
    "plt.xlabel(\"date\")\n",
    "plt.ylabel(\"Records\")\n",
    "plt.show()"
   ]
  },
  {
   "cell_type": "markdown",
   "metadata": {},
   "source": [
    "We decided to replace NaN values in date attribute according to the probability distribution of dates in the whole dataframe"
   ]
  },
  {
   "cell_type": "code",
   "execution_count": null,
   "metadata": {
    "colab": {
     "base_uri": "https://localhost:8080/"
    },
    "id": "OTBfgz2zrkQr",
    "outputId": "493b06d7-17c9-44f9-846f-a622da2b1695"
   },
   "outputs": [
    {
     "data": {
      "image/png": "[encoded data removed]",
      "text/plain": [
       "<Figure size 640x480 with 1 Axes>"
      ]
     },
     "metadata": {},
     "output_type": "display_data"
    }
   ],
   "source": [
    "#Substituting the NaN values with the \"mode\"\n",
    "#df.loc[(pd.isna(df[\"date\"])), \"date\"] = \"2017-10-01\"\n",
    "\n",
    "#Assigning a value from a Random biased distribution, based on the dates\n",
    "df.loc[(pd.isna(df[\"date\"])), \"date\"] = np.random.choice(df[\"date\"].dropna(), size=len(df[pd.isna(df[\"date\"])]))\n",
    "\n",
    "#plotting dates before cleaning\n",
    "df.hist(column=\"date\")\n",
    "plt.title('After cleaning date')\n",
    "plt.show()"
   ]
  },
  {
   "cell_type": "code",
   "execution_count": null,
   "metadata": {},
   "outputs": [],
   "source": [
    "#setting nan the longitudes and latitudes that are not in the US\n",
    "df.loc[(df[\"latitude\"] > 64.85694) | (df[\"latitude\"] < 19.50139), (\"latitude\", \"longitude\")] = np.nan\n",
    "df.loc[(df[\"longitude\"] < -161.75583) | (df[\"longitude\"] > -68.01197), (\"longitude\" , \"latitude\")] = np.nan"
   ]
  },
  {
   "cell_type": "markdown",
   "metadata": {},
   "source": []
  },
  {
   "cell_type": "markdown",
   "metadata": {},
   "source": [
    "We consider the triple <date,latitude,longitude> to be identifying of the incident. So we decided to remove all records that had all these three values to NaN"
   ]
  },
  {
   "cell_type": "code",
   "execution_count": null,
   "metadata": {
    "colab": {
     "base_uri": "https://localhost:8080/"
    },
    "id": "DuacLIzgjsUU",
    "outputId": "409cb56c-700b-4a06-e60e-d8427e0ecbba"
   },
   "outputs": [
    {
     "name": "stdout",
     "output_type": "stream",
     "text": [
      "239676\n",
      "238350\n"
     ]
    }
   ],
   "source": [
    "print(len(df))\n",
    "#print duplicates columns if they are not NaN\n",
    "#df = df.drop_duplicates(subset=[\"date\", \"latitude\", \"longitude\"]).append(df[pd.isnull(df['date']) | pd.isnull(df['latitude']) | pd.isnull(df['longitude'])])\n",
    "df = pd.concat([df[pd.isnull(df['date']) | pd.isnull(df['latitude']) | pd.isnull(df['longitude'])], df.drop_duplicates(subset=[\"date\", \"latitude\", \"longitude\"])])\n",
    "df.drop_duplicates(inplace=True)\n",
    "print(len(df))"
   ]
  },
  {
   "cell_type": "code",
   "execution_count": null,
   "metadata": {},
   "outputs": [
    {
     "name": "stdout",
     "output_type": "stream",
     "text": [
      "<class 'pandas.core.frame.DataFrame'>\n",
      "Index: 238350 entries, 33 to 239676\n",
      "Data columns (total 28 columns):\n",
      " #   Column                     Non-Null Count   Dtype         \n",
      "---  ------                     --------------   -----         \n",
      " 0   date                       238350 non-null  datetime64[ns]\n",
      " 1   state                      238350 non-null  string        \n",
      " 2   city_or_county             238350 non-null  string        \n",
      " 3   address                    222175 non-null  string        \n",
      " 4   latitude                   238350 non-null  float64       \n",
      " 5   longitude                  238350 non-null  float64       \n",
      " 6   congressional_district     226418 non-null  Int64         \n",
      " 7   state_house_district       199740 non-null  Int64         \n",
      " 8   state_senate_district      206136 non-null  Int64         \n",
      " 9   participant_age1           146705 non-null  Int64         \n",
      " 10  participant_age_group1     196751 non-null  string        \n",
      " 11  participant_gender1        202493 non-null  string        \n",
      " 12  min_age_participants       196947 non-null  Int64         \n",
      " 13  avg_age_participants       146705 non-null  float64       \n",
      " 14  max_age_participants       146706 non-null  Int64         \n",
      " 15  n_participants_child       196757 non-null  Int64         \n",
      " 16  n_participants_teen        196754 non-null  Int64         \n",
      " 17  n_participants_adult       196757 non-null  Int64         \n",
      " 18  n_males                    202493 non-null  Int64         \n",
      " 19  n_females                  202493 non-null  Int64         \n",
      " 20  n_killed                   238350 non-null  Int64         \n",
      " 21  n_injured                  238350 non-null  Int64         \n",
      " 22  n_arrested                 211150 non-null  Int64         \n",
      " 23  n_unharmed                 211150 non-null  Int64         \n",
      " 24  n_participants             238350 non-null  Int64         \n",
      " 25  notes                      157894 non-null  string        \n",
      " 26  incident_characteristics1  238029 non-null  string        \n",
      " 27  incident_characteristics2  141134 non-null  string        \n",
      "dtypes: Int64(16), datetime64[ns](1), float64(3), string(8)\n",
      "memory usage: 56.4 MB\n"
     ]
    }
   ],
   "source": [
    "#Sostituisco i valori NaN di latitude e longitude, con i valori delle righe aventi lo stesso state e la stessa city_or_county\n",
    "df[['latitude', 'longitude']] = df.groupby([\"state\", \"city_or_county\"],group_keys=False)[['latitude', 'longitude']].apply(lambda x: x.fillna(x.mean()))\n",
    "df[['latitude', 'longitude']] = df.groupby(\"state\",group_keys=False)[['latitude', 'longitude']].apply(lambda x: x.fillna(x.mean()))\n",
    "df.info()"
   ]
  },
  {
   "cell_type": "code",
   "execution_count": null,
   "metadata": {},
   "outputs": [
    {
     "name": "stdout",
     "output_type": "stream",
     "text": [
      "<class 'pandas.core.frame.DataFrame'>\n",
      "Index: 238350 entries, 33 to 239676\n",
      "Data columns (total 28 columns):\n",
      " #   Column                     Non-Null Count   Dtype         \n",
      "---  ------                     --------------   -----         \n",
      " 0   date                       238350 non-null  datetime64[ns]\n",
      " 1   state                      238350 non-null  string        \n",
      " 2   city_or_county             238350 non-null  string        \n",
      " 3   address                    222175 non-null  string        \n",
      " 4   latitude                   238350 non-null  float64       \n",
      " 5   longitude                  238350 non-null  float64       \n",
      " 6   congressional_district     226418 non-null  Int64         \n",
      " 7   state_house_district       199740 non-null  Int64         \n",
      " 8   state_senate_district      206136 non-null  Int64         \n",
      " 9   participant_age1           146705 non-null  Int64         \n",
      " 10  participant_age_group1     196751 non-null  string        \n",
      " 11  participant_gender1        202493 non-null  string        \n",
      " 12  min_age_participants       196947 non-null  Int64         \n",
      " 13  avg_age_participants       146705 non-null  float64       \n",
      " 14  max_age_participants       146706 non-null  Int64         \n",
      " 15  n_participants_child       196757 non-null  Int64         \n",
      " 16  n_participants_teen        196754 non-null  Int64         \n",
      " 17  n_participants_adult       196757 non-null  Int64         \n",
      " 18  n_males                    202493 non-null  Int64         \n",
      " 19  n_females                  202493 non-null  Int64         \n",
      " 20  n_killed                   238350 non-null  Int64         \n",
      " 21  n_injured                  238350 non-null  Int64         \n",
      " 22  n_arrested                 211150 non-null  Int64         \n",
      " 23  n_unharmed                 211150 non-null  Int64         \n",
      " 24  n_participants             238350 non-null  Int64         \n",
      " 25  notes                      157894 non-null  string        \n",
      " 26  incident_characteristics1  238029 non-null  string        \n",
      " 27  incident_characteristics2  141134 non-null  string        \n",
      "dtypes: Int64(16), datetime64[ns](1), float64(3), string(8)\n",
      "memory usage: 56.4 MB\n"
     ]
    }
   ],
   "source": [
    "# Calculate the values to substitute, utilizza n_females, n_males\n",
    "#Utilizzerà questi valori per sosituire \"n_participants\" nel caso somma tra male e female è pari alla somma tra teen,child e adults.\n",
    "#La modifica per quanto riguarda \"n_participants\" è fatta solo se è diversa da tutte le altre somme delle varie colonne:\n",
    "#1) females + males\n",
    "#2) child + adult + teen\n",
    "#3) killed+injured+unharmed+arrested\n",
    "#Nel caso in cui n_partiicpants sia almeno uguale ad una delle altre somme => lascia uguale.\n",
    "df['substitute_values'] = df['n_females'] + df['n_males']\n",
    "\n",
    "# Define the condition for substitution\n",
    "condition = (\n",
    "    (df['n_participants'] != (df['n_females'] + df['n_males'])) &\n",
    "    (df['n_participants'] != (df['n_participants_adult'] + df['n_participants_child'] + df['n_participants_teen'])) &\n",
    "    (df['n_participants'] != (df['n_killed'] + df['n_injured'] + df['n_unharmed'] + df['n_arrested'])) &\n",
    "    ((df['n_females'] + df['n_males']) == (df['n_participants_teen'] + df['n_participants_child'] + df['n_participants_adult']))\n",
    ")\n",
    "\n",
    "# Update the \"n_participants\" column with the calculated values where the condition is met\n",
    "df.loc[condition, 'n_participants'] = df.loc[condition, 'substitute_values']\n",
    "\n",
    "# Drop the temporary \"substitute_values\" column if needed\n",
    "df.drop(columns='substitute_values', inplace=True)\n",
    "\n",
    "df[\n",
    "        (df['n_participants'] != (df[\"n_females\"] + df[\"n_males\"])) & \n",
    "        (df['n_participants'] != (df[\"n_participants_adult\"] + df[\"n_participants_child\"] + df[\"n_participants_teen\"])) &\n",
    "        (df[\"n_participants\"] != (df[\"n_killed\"] + df[\"n_injured\"] + df[\"n_unharmed\"] + df[\"n_arrested\"])\n",
    "    ) &\n",
    "    (\n",
    "        (df['n_females'] + df['n_males']) == (df['n_participants_adult'] + df['n_participants_child'] + df['n_participants_teen'])\n",
    "    )\n",
    "][[\"n_participants\",\"n_males\",\"n_females\", \"n_participants_teen\", \"n_participants_child\", \"n_participants_adult\", \"n_killed\", \"n_injured\", \"n_unharmed\", \"n_arrested\"]]\n",
    "df.info()"
   ]
  },
  {
   "cell_type": "code",
   "execution_count": null,
   "metadata": {},
   "outputs": [
    {
     "name": "stdout",
     "output_type": "stream",
     "text": [
      "<class 'pandas.core.frame.DataFrame'>\n",
      "Index: 238350 entries, 33 to 239676\n",
      "Data columns (total 28 columns):\n",
      " #   Column                     Non-Null Count   Dtype         \n",
      "---  ------                     --------------   -----         \n",
      " 0   date                       238350 non-null  datetime64[ns]\n",
      " 1   state                      238350 non-null  string        \n",
      " 2   city_or_county             238350 non-null  string        \n",
      " 3   address                    222175 non-null  string        \n",
      " 4   latitude                   238350 non-null  float64       \n",
      " 5   longitude                  238350 non-null  float64       \n",
      " 6   congressional_district     226418 non-null  Int64         \n",
      " 7   state_house_district       199740 non-null  Int64         \n",
      " 8   state_senate_district      206136 non-null  Int64         \n",
      " 9   participant_age1           146705 non-null  Int64         \n",
      " 10  participant_age_group1     196751 non-null  string        \n",
      " 11  participant_gender1        202493 non-null  string        \n",
      " 12  min_age_participants       196947 non-null  Int64         \n",
      " 13  avg_age_participants       146705 non-null  float64       \n",
      " 14  max_age_participants       146706 non-null  Int64         \n",
      " 15  n_participants_child       196757 non-null  Int64         \n",
      " 16  n_participants_teen        196754 non-null  Int64         \n",
      " 17  n_participants_adult       196757 non-null  Int64         \n",
      " 18  n_males                    202493 non-null  Int64         \n",
      " 19  n_females                  202493 non-null  Int64         \n",
      " 20  n_killed                   238350 non-null  Int64         \n",
      " 21  n_injured                  238350 non-null  Int64         \n",
      " 22  n_arrested                 211150 non-null  Int64         \n",
      " 23  n_unharmed                 211150 non-null  Int64         \n",
      " 24  n_participants             238350 non-null  Int64         \n",
      " 25  notes                      157894 non-null  string        \n",
      " 26  incident_characteristics1  238029 non-null  string        \n",
      " 27  incident_characteristics2  141134 non-null  string        \n",
      "dtypes: Int64(16), datetime64[ns](1), float64(3), string(8)\n",
      "memory usage: 56.4 MB\n"
     ]
    }
   ],
   "source": [
    "# Calculate the values to substitute, utilizza harmed,killed,unharmed,injured per la condizione di somma.\n",
    "df['substitute_values'] = df['n_females'] + df['n_males']\n",
    "\n",
    "# Define the condition for substitution\n",
    "condition = (\n",
    "    (df['n_participants'] != (df['n_females'] + df['n_males'])) &\n",
    "    (df['n_participants'] != (df['n_participants_adult'] + df['n_participants_child'] + df['n_participants_teen'])) &\n",
    "    (df['n_participants'] != (df['n_killed'] + df['n_injured'] + df['n_unharmed'] + df['n_arrested'])) &\n",
    "    ((df['n_females'] + df['n_males']) == (df['n_killed'] + df['n_injured'] + df['n_unharmed'] + df['n_arrested']))\n",
    ")\n",
    "\n",
    "# Update the \"n_participants\" column with the calculated values where the condition is met\n",
    "df.loc[condition, 'n_participants'] = df.loc[condition, 'substitute_values']\n",
    "\n",
    "# Drop the temporary \"substitute_values\" column if needed\n",
    "df.drop(columns='substitute_values', inplace=True)\n",
    "\n",
    "df[\n",
    "        (df['n_participants'] != (df[\"n_females\"] + df[\"n_males\"])) & \n",
    "        (df['n_participants'] != (df[\"n_participants_adult\"] + df[\"n_participants_child\"] + df[\"n_participants_teen\"])) &\n",
    "        (df[\"n_participants\"] != (df[\"n_killed\"] + df[\"n_injured\"] + df[\"n_unharmed\"] + df[\"n_arrested\"])\n",
    "    ) &\n",
    "    (\n",
    "        (df['n_females'] + df['n_males']) == (df['n_killed'] + df['n_injured'] + df['n_unharmed'] + df['n_arrested'])\n",
    "    )\n",
    "][[\"n_participants\",\"n_males\",\"n_females\", \"n_participants_teen\", \"n_participants_child\", \"n_participants_adult\", \"n_killed\", \"n_injured\", \"n_unharmed\", \"n_arrested\"]]\n",
    "df.info()\n"
   ]
  },
  {
   "cell_type": "code",
   "execution_count": null,
   "metadata": {},
   "outputs": [
    {
     "name": "stdout",
     "output_type": "stream",
     "text": [
      "<class 'pandas.core.frame.DataFrame'>\n",
      "Index: 238350 entries, 33 to 239676\n",
      "Data columns (total 28 columns):\n",
      " #   Column                     Non-Null Count   Dtype         \n",
      "---  ------                     --------------   -----         \n",
      " 0   date                       238350 non-null  datetime64[ns]\n",
      " 1   state                      238350 non-null  string        \n",
      " 2   city_or_county             238350 non-null  string        \n",
      " 3   address                    222175 non-null  string        \n",
      " 4   latitude                   238350 non-null  float64       \n",
      " 5   longitude                  238350 non-null  float64       \n",
      " 6   congressional_district     226418 non-null  Int64         \n",
      " 7   state_house_district       199740 non-null  Int64         \n",
      " 8   state_senate_district      206136 non-null  Int64         \n",
      " 9   participant_age1           146705 non-null  Int64         \n",
      " 10  participant_age_group1     196751 non-null  string        \n",
      " 11  participant_gender1        202493 non-null  string        \n",
      " 12  min_age_participants       196947 non-null  Int64         \n",
      " 13  avg_age_participants       146705 non-null  float64       \n",
      " 14  max_age_participants       146706 non-null  Int64         \n",
      " 15  n_participants_child       196757 non-null  Int64         \n",
      " 16  n_participants_teen        196754 non-null  Int64         \n",
      " 17  n_participants_adult       196757 non-null  Int64         \n",
      " 18  n_males                    202493 non-null  Int64         \n",
      " 19  n_females                  202493 non-null  Int64         \n",
      " 20  n_killed                   238350 non-null  Int64         \n",
      " 21  n_injured                  238350 non-null  Int64         \n",
      " 22  n_arrested                 211150 non-null  Int64         \n",
      " 23  n_unharmed                 211150 non-null  Int64         \n",
      " 24  n_participants             238350 non-null  Int64         \n",
      " 25  notes                      157894 non-null  string        \n",
      " 26  incident_characteristics1  238029 non-null  string        \n",
      " 27  incident_characteristics2  141134 non-null  string        \n",
      "dtypes: Int64(16), datetime64[ns](1), float64(3), string(8)\n",
      "memory usage: 56.4 MB\n"
     ]
    }
   ],
   "source": [
    "# Calculate the values to substitute, teen,adult e child con injured,killed,unharmed,arrested come condizione, e adult,teen,child come sostituto.\n",
    "df['substitute_values'] = (df['n_participants_adult'] + df['n_participants_child'] + df['n_participants_teen'])\n",
    "\n",
    "# Define the condition for substitution\n",
    "condition = (\n",
    "    (df['n_participants'] != (df['n_females'] + df['n_males'])) &\n",
    "    (df['n_participants'] != (df['n_participants_adult'] + df['n_participants_child'] + df['n_participants_teen'])) &\n",
    "    (df['n_participants'] != (df['n_killed'] + df['n_injured'] + df['n_unharmed'] + df['n_arrested'])) &\n",
    "    ((df['n_killed'] + df['n_injured'] + df['n_unharmed'] + df['n_arrested']) == (df['n_participants_adult'] + df['n_participants_child'] + df['n_participants_teen']))\n",
    ")\n",
    "\n",
    "# Update the \"n_participants\" column with the calculated values where the condition is met\n",
    "df.loc[condition, 'n_participants'] = df.loc[condition, 'substitute_values']\n",
    "\n",
    "# Drop the temporary \"substitute_values\" column if needed\n",
    "df.drop(columns='substitute_values', inplace=True)\n",
    "\n",
    "df[\n",
    "        (df['n_participants'] != (df[\"n_females\"] + df[\"n_males\"])) & \n",
    "        (df['n_participants'] != (df[\"n_participants_adult\"] + df[\"n_participants_child\"] + df[\"n_participants_teen\"])) &\n",
    "        (df[\"n_participants\"] != (df[\"n_killed\"] + df[\"n_injured\"] + df[\"n_unharmed\"] + df[\"n_arrested\"])\n",
    "    ) &\n",
    "    (\n",
    "        (df['n_participants_adult'] + df['n_participants_child'] + df['n_participants_teen']) == (df['n_killed'] + df['n_injured'] + df['n_unharmed'] + df['n_arrested'])\n",
    "    )\n",
    "][[\"n_participants\",\"n_males\",\"n_females\", \"n_participants_teen\", \"n_participants_child\", \"n_participants_adult\", \"n_killed\", \"n_injured\", \"n_unharmed\", \"n_arrested\"]]\n",
    "df.info()"
   ]
  },
  {
   "cell_type": "markdown",
   "metadata": {},
   "source": [
    "TODO remove the participant_age1, participant age group1, probably useless"
   ]
  },
  {
   "cell_type": "code",
   "execution_count": null,
   "metadata": {},
   "outputs": [],
   "source": []
  },
  {
   "cell_type": "code",
   "execution_count": null,
   "metadata": {
    "id": "cfoIpX-fjsUX"
   },
   "outputs": [
    {
     "data": {
      "image/png": "[encoded data removed]",
      "text/plain": [
       "<Figure size 640x480 with 9 Axes>"
      ]
     },
     "metadata": {},
     "output_type": "display_data"
    }
   ],
   "source": [
    "pd.plotting.scatter_matrix(df[['participant_age1', 'n_injured', 'n_killed']])\n",
    "plt.show()"
   ]
  },
  {
   "cell_type": "code",
   "execution_count": null,
   "metadata": {
    "id": "ARdpLOF2jsUX"
   },
   "outputs": [
    {
     "data": {
      "image/png": "[encoded data removed]",
      "text/plain": [
       "<Figure size 640x480 with 1 Axes>"
      ]
     },
     "metadata": {},
     "output_type": "display_data"
    }
   ],
   "source": [
    "plt.scatter(df[df['participant_age1'] < 18]['participant_age1'],\n",
    "            df[df['participant_age1'] < 18]['n_injured'], color='y', marker='*', label='< 18')\n",
    "\n",
    "plt.scatter(df[df['participant_age1'] > 17]['participant_age1'],\n",
    "            df[df['participant_age1'] > 17]['n_injured'], color='r',label='> 18')\n",
    "plt.xlabel('participant_age1')\n",
    "plt.ylabel('n_injured')\n",
    "plt.legend()\n",
    "plt.show()"
   ]
  },
  {
   "cell_type": "code",
   "execution_count": null,
   "metadata": {},
   "outputs": [
    {
     "data": {
      "text/html": [
       "<div>\n",
       "<style scoped>\n",
       "    .dataframe tbody tr th:only-of-type {\n",
       "        vertical-align: middle;\n",
       "    }\n",
       "\n",
       "    .dataframe tbody tr th {\n",
       "        vertical-align: top;\n",
       "    }\n",
       "\n",
       "    .dataframe thead th {\n",
       "        text-align: right;\n",
       "    }\n",
       "</style>\n",
       "<table border=\"1\" class=\"dataframe\">\n",
       "  <thead>\n",
       "    <tr style=\"text-align: right;\">\n",
       "      <th></th>\n",
       "      <th>min_age_participants</th>\n",
       "      <th>n_participants_child</th>\n",
       "    </tr>\n",
       "  </thead>\n",
       "  <tbody>\n",
       "  </tbody>\n",
       "</table>\n",
       "</div>"
      ],
      "text/plain": [
       "Empty DataFrame\n",
       "Columns: [min_age_participants, n_participants_child]\n",
       "Index: []"
      ]
     },
     "execution_count": 50,
     "metadata": {},
     "output_type": "execute_result"
    }
   ],
   "source": [
    "result_df = df[(df[\"min_age_participants\"].isna()) & (df[\"n_participants_child\"] < 0)][[\"min_age_participants\", \"n_participants_child\"]]\n",
    "result_df"
   ]
  },
  {
   "cell_type": "code",
   "execution_count": null,
   "metadata": {},
   "outputs": [
    {
     "data": {
      "image/png": "[encoded data removed]",
      "text/plain": [
       "<Figure size 640x480 with 1 Axes>"
      ]
     },
     "metadata": {},
     "output_type": "display_data"
    }
   ],
   "source": [
    "# Assuming df is your DataFrame\n",
    "condition = (df[\"min_age_participants\"] < 12) & (df[\"min_age_participants\"] > 0)\n",
    "\n",
    "# Generate the random samples\n",
    "random_row = np.random.choice(df.loc[condition][\"min_age_participants\"], size=len(df.loc[condition]))\n",
    "\n",
    "# Create a histogram\n",
    "plt.hist(random_row)  # You can adjust the number of bins as needed\n",
    "plt.xlabel(\"Values\")\n",
    "plt.ylabel(\"Frequency\")\n",
    "plt.title(\"Histogram of Random Samples\")\n",
    "plt.show()\n"
   ]
  },
  {
   "cell_type": "code",
   "execution_count": null,
   "metadata": {
    "id": "S0oRE_JdjsUY"
   },
   "outputs": [
    {
     "data": {
      "application/vnd.code.notebook.error": {
       "message": "could not convert string to float: 'West Virginia'",
       "name": "ValueError",
       "stack": "\u001b[1;31m---------------------------------------------------------------------------\u001b[0m\n\u001b[1;31mValueError\u001b[0m                                Traceback (most recent call last)\n\u001b[1;32mc:\\Users\\given\\Desktop\\Appunti\\DM\\_Project2\\data_preparation.ipynb Cell 47\u001b[0m line \u001b[0;36m2\n\u001b[0;32m      <a href='vscode-notebook-cell:/c%3A/Users/given/Desktop/Appunti/DM/_Project2/data_preparation.ipynb#X63sZmlsZQ%3D%3D?line=0'>1</a>\u001b[0m \u001b[39m#plot matrix with different colors for correlation\u001b[39;00m\n\u001b[1;32m----> <a href='vscode-notebook-cell:/c%3A/Users/given/Desktop/Appunti/DM/_Project2/data_preparation.ipynb#X63sZmlsZQ%3D%3D?line=1'>2</a>\u001b[0m plt\u001b[39m.\u001b[39mmatshow(df\u001b[39m.\u001b[39;49mcorr())\n\u001b[0;32m      <a href='vscode-notebook-cell:/c%3A/Users/given/Desktop/Appunti/DM/_Project2/data_preparation.ipynb#X63sZmlsZQ%3D%3D?line=2'>3</a>\u001b[0m \u001b[39m#legend for correlation\u001b[39;00m\n\u001b[0;32m      <a href='vscode-notebook-cell:/c%3A/Users/given/Desktop/Appunti/DM/_Project2/data_preparation.ipynb#X63sZmlsZQ%3D%3D?line=3'>4</a>\u001b[0m \u001b[39m#add names of columns\u001b[39;00m\n\u001b[0;32m      <a href='vscode-notebook-cell:/c%3A/Users/given/Desktop/Appunti/DM/_Project2/data_preparation.ipynb#X63sZmlsZQ%3D%3D?line=4'>5</a>\u001b[0m plt\u001b[39m.\u001b[39myticks(\u001b[39mrange\u001b[39m(\u001b[39mlen\u001b[39m(df\u001b[39m.\u001b[39mcolumns)), df\u001b[39m.\u001b[39mcolumns)\n\nFile \u001b[1;32mc:\\Users\\given\\AppData\\Local\\Programs\\Python\\Python310\\lib\\site-packages\\pandas\\core\\frame.py:10707\u001b[0m, in \u001b[0;36mDataFrame.corr\u001b[1;34m(self, method, min_periods, numeric_only)\u001b[0m\n\u001b[0;32m  10705\u001b[0m cols \u001b[39m=\u001b[39m data\u001b[39m.\u001b[39mcolumns\n\u001b[0;32m  10706\u001b[0m idx \u001b[39m=\u001b[39m cols\u001b[39m.\u001b[39mcopy()\n\u001b[1;32m> 10707\u001b[0m mat \u001b[39m=\u001b[39m data\u001b[39m.\u001b[39;49mto_numpy(dtype\u001b[39m=\u001b[39;49m\u001b[39mfloat\u001b[39;49m, na_value\u001b[39m=\u001b[39;49mnp\u001b[39m.\u001b[39;49mnan, copy\u001b[39m=\u001b[39;49m\u001b[39mFalse\u001b[39;49;00m)\n\u001b[0;32m  10709\u001b[0m \u001b[39mif\u001b[39;00m method \u001b[39m==\u001b[39m \u001b[39m\"\u001b[39m\u001b[39mpearson\u001b[39m\u001b[39m\"\u001b[39m:\n\u001b[0;32m  10710\u001b[0m     correl \u001b[39m=\u001b[39m libalgos\u001b[39m.\u001b[39mnancorr(mat, minp\u001b[39m=\u001b[39mmin_periods)\n\nFile \u001b[1;32mc:\\Users\\given\\AppData\\Local\\Programs\\Python\\Python310\\lib\\site-packages\\pandas\\core\\frame.py:1892\u001b[0m, in \u001b[0;36mDataFrame.to_numpy\u001b[1;34m(self, dtype, copy, na_value)\u001b[0m\n\u001b[0;32m   1890\u001b[0m \u001b[39mif\u001b[39;00m dtype \u001b[39mis\u001b[39;00m \u001b[39mnot\u001b[39;00m \u001b[39mNone\u001b[39;00m:\n\u001b[0;32m   1891\u001b[0m     dtype \u001b[39m=\u001b[39m np\u001b[39m.\u001b[39mdtype(dtype)\n\u001b[1;32m-> 1892\u001b[0m result \u001b[39m=\u001b[39m \u001b[39mself\u001b[39;49m\u001b[39m.\u001b[39;49m_mgr\u001b[39m.\u001b[39;49mas_array(dtype\u001b[39m=\u001b[39;49mdtype, copy\u001b[39m=\u001b[39;49mcopy, na_value\u001b[39m=\u001b[39;49mna_value)\n\u001b[0;32m   1893\u001b[0m \u001b[39mif\u001b[39;00m result\u001b[39m.\u001b[39mdtype \u001b[39mis\u001b[39;00m \u001b[39mnot\u001b[39;00m dtype:\n\u001b[0;32m   1894\u001b[0m     result \u001b[39m=\u001b[39m np\u001b[39m.\u001b[39marray(result, dtype\u001b[39m=\u001b[39mdtype, copy\u001b[39m=\u001b[39m\u001b[39mFalse\u001b[39;00m)\n\nFile \u001b[1;32mc:\\Users\\given\\AppData\\Local\\Programs\\Python\\Python310\\lib\\site-packages\\pandas\\core\\internals\\managers.py:1656\u001b[0m, in \u001b[0;36mBlockManager.as_array\u001b[1;34m(self, dtype, copy, na_value)\u001b[0m\n\u001b[0;32m   1654\u001b[0m         arr\u001b[39m.\u001b[39mflags\u001b[39m.\u001b[39mwriteable \u001b[39m=\u001b[39m \u001b[39mFalse\u001b[39;00m\n\u001b[0;32m   1655\u001b[0m \u001b[39melse\u001b[39;00m:\n\u001b[1;32m-> 1656\u001b[0m     arr \u001b[39m=\u001b[39m \u001b[39mself\u001b[39;49m\u001b[39m.\u001b[39;49m_interleave(dtype\u001b[39m=\u001b[39;49mdtype, na_value\u001b[39m=\u001b[39;49mna_value)\n\u001b[0;32m   1657\u001b[0m     \u001b[39m# The underlying data was copied within _interleave, so no need\u001b[39;00m\n\u001b[0;32m   1658\u001b[0m     \u001b[39m# to further copy if copy=True or setting na_value\u001b[39;00m\n\u001b[0;32m   1660\u001b[0m \u001b[39mif\u001b[39;00m na_value \u001b[39mis\u001b[39;00m lib\u001b[39m.\u001b[39mno_default:\n\nFile \u001b[1;32mc:\\Users\\given\\AppData\\Local\\Programs\\Python\\Python310\\lib\\site-packages\\pandas\\core\\internals\\managers.py:1709\u001b[0m, in \u001b[0;36mBlockManager._interleave\u001b[1;34m(self, dtype, na_value)\u001b[0m\n\u001b[0;32m   1703\u001b[0m rl \u001b[39m=\u001b[39m blk\u001b[39m.\u001b[39mmgr_locs\n\u001b[0;32m   1704\u001b[0m \u001b[39mif\u001b[39;00m blk\u001b[39m.\u001b[39mis_extension:\n\u001b[0;32m   1705\u001b[0m     \u001b[39m# Avoid implicit conversion of extension blocks to object\u001b[39;00m\n\u001b[0;32m   1706\u001b[0m \n\u001b[0;32m   1707\u001b[0m     \u001b[39m# error: Item \"ndarray\" of \"Union[ndarray, ExtensionArray]\" has no\u001b[39;00m\n\u001b[0;32m   1708\u001b[0m     \u001b[39m# attribute \"to_numpy\"\u001b[39;00m\n\u001b[1;32m-> 1709\u001b[0m     arr \u001b[39m=\u001b[39m blk\u001b[39m.\u001b[39;49mvalues\u001b[39m.\u001b[39;49mto_numpy(  \u001b[39m# type: ignore[union-attr]\u001b[39;49;00m\n\u001b[0;32m   1710\u001b[0m         dtype\u001b[39m=\u001b[39;49mdtype,\n\u001b[0;32m   1711\u001b[0m         na_value\u001b[39m=\u001b[39;49mna_value,\n\u001b[0;32m   1712\u001b[0m     )\n\u001b[0;32m   1713\u001b[0m \u001b[39melse\u001b[39;00m:\n\u001b[0;32m   1714\u001b[0m     arr \u001b[39m=\u001b[39m blk\u001b[39m.\u001b[39mget_values(dtype)\n\nFile \u001b[1;32mc:\\Users\\given\\AppData\\Local\\Programs\\Python\\Python310\\lib\\site-packages\\pandas\\core\\arrays\\numpy_.py:506\u001b[0m, in \u001b[0;36mNumpyExtensionArray.to_numpy\u001b[1;34m(self, dtype, copy, na_value)\u001b[0m\n\u001b[0;32m    503\u001b[0m \u001b[39melse\u001b[39;00m:\n\u001b[0;32m    504\u001b[0m     result \u001b[39m=\u001b[39m \u001b[39mself\u001b[39m\u001b[39m.\u001b[39m_ndarray\n\u001b[1;32m--> 506\u001b[0m result \u001b[39m=\u001b[39m np\u001b[39m.\u001b[39;49masarray(result, dtype\u001b[39m=\u001b[39;49mdtype)\n\u001b[0;32m    508\u001b[0m \u001b[39mif\u001b[39;00m copy \u001b[39mand\u001b[39;00m result \u001b[39mis\u001b[39;00m \u001b[39mself\u001b[39m\u001b[39m.\u001b[39m_ndarray:\n\u001b[0;32m    509\u001b[0m     result \u001b[39m=\u001b[39m result\u001b[39m.\u001b[39mcopy()\n\n\u001b[1;31mValueError\u001b[0m: could not convert string to float: 'West Virginia'"
      }
     },
     "metadata": {},
     "output_type": "display_data"
    }
   ],
   "source": [
    "#plot matrix with different colors for correlation\n",
    "plt.matshow(df.corr())\n",
    "#legend for correlation\n",
    "#add names of columns\n",
    "plt.yticks(range(len(df.columns)), df.columns)\n",
    "plt.colorbar()\n",
    "plt.show()\n"
   ]
  },
  {
   "cell_type": "markdown",
   "metadata": {
    "jp-MarkdownHeadingCollapsed": true
   },
   "source": [
    "# Poverty by State"
   ]
  },
  {
   "cell_type": "markdown",
   "metadata": {},
   "source": [
    "Import the povertyByStateYear csv file"
   ]
  },
  {
   "cell_type": "code",
   "execution_count": null,
   "metadata": {
    "colab": {
     "base_uri": "https://localhost:8080/"
    },
    "id": "JcL2RjHvjsUL",
    "outputId": "2065912d-33cb-4fbf-821e-3f60f36f0e0e"
   },
   "outputs": [
    {
     "name": "stdout",
     "output_type": "stream",
     "text": [
      "<class 'pandas.core.frame.DataFrame'>\n",
      "RangeIndex: 884 entries, 0 to 883\n",
      "Data columns (total 3 columns):\n",
      " #   Column             Non-Null Count  Dtype  \n",
      "---  ------             --------------  -----  \n",
      " 0   state              884 non-null    object \n",
      " 1   year               884 non-null    int64  \n",
      " 2   povertyPercentage  832 non-null    float64\n",
      "dtypes: float64(1), int64(1), object(1)\n",
      "memory usage: 20.8+ KB\n"
     ]
    }
   ],
   "source": [
    "poverty_df = pd.read_csv('povertyByStateYear.csv', sep=',')\n",
    "poverty_df.info()"
   ]
  },
  {
   "cell_type": "markdown",
   "metadata": {},
   "source": [
    "Change data types to match the content of each attribute"
   ]
  },
  {
   "cell_type": "code",
   "execution_count": null,
   "metadata": {
    "id": "lzw2gs80jsUN"
   },
   "outputs": [],
   "source": [
    "poverty_df[\"state\"] = poverty_df[\"state\"].astype(\"string\")\n",
    "poverty_df[\"year\"] = poverty_df[\"year\"].astype(\"Int64\")"
   ]
  },
  {
   "cell_type": "markdown",
   "metadata": {
    "jp-MarkdownHeadingCollapsed": true
   },
   "source": [
    "# Year State District House"
   ]
  },
  {
   "cell_type": "markdown",
   "metadata": {},
   "source": [
    "Import the year_state_district_house csv file"
   ]
  },
  {
   "cell_type": "code",
   "execution_count": null,
   "metadata": {
    "colab": {
     "base_uri": "https://localhost:8080/"
    },
    "id": "FsRZfePSjsUN",
    "outputId": "9cd61cf0-5072-4586-bebb-af1343f2f492"
   },
   "outputs": [
    {
     "name": "stdout",
     "output_type": "stream",
     "text": [
      "<class 'pandas.core.frame.DataFrame'>\n",
      "RangeIndex: 10441 entries, 0 to 10440\n",
      "Data columns (total 6 columns):\n",
      " #   Column                  Non-Null Count  Dtype \n",
      "---  ------                  --------------  ----- \n",
      " 0   year                    10441 non-null  int64 \n",
      " 1   state                   10441 non-null  object\n",
      " 2   congressional_district  10441 non-null  int64 \n",
      " 3   party                   10441 non-null  object\n",
      " 4   candidatevotes          10441 non-null  int64 \n",
      " 5   totalvotes              10441 non-null  int64 \n",
      "dtypes: int64(4), object(2)\n",
      "memory usage: 489.5+ KB\n"
     ]
    }
   ],
   "source": [
    "district_in_state_df = pd.read_csv('year_state_district_house.csv', sep=',')\n",
    "district_in_state_df.info()"
   ]
  },
  {
   "cell_type": "markdown",
   "metadata": {},
   "source": [
    "Change data types to match the content of each attribute"
   ]
  },
  {
   "cell_type": "code",
   "execution_count": null,
   "metadata": {
    "id": "DJa0SFqEjsUO"
   },
   "outputs": [],
   "source": [
    "district_in_state_df[\"state\"] = district_in_state_df[\"state\"].astype(\"string\")\n",
    "district_in_state_df[\"year\"] = district_in_state_df[\"year\"].astype(\"Int64\")\n",
    "district_in_state_df[\"congressional_district\"] = district_in_state_df[\"congressional_district\"].astype(\"Int64\")\n",
    "district_in_state_df[\"party\"] = district_in_state_df[\"party\"].astype(\"string\")\n",
    "district_in_state_df[\"candidatevotes\"] = district_in_state_df[\"candidatevotes\"].astype(\"Int64\")\n",
    "district_in_state_df[\"totalvotes\"] = district_in_state_df[\"totalvotes\"].astype(\"Int64\")"
   ]
  },
  {
   "cell_type": "code",
   "execution_count": null,
   "metadata": {},
   "outputs": [],
   "source": [
    "\n",
    "df['year'] = pd.DatetimeIndex(df['date']).year \n"
   ]
  },
  {
   "cell_type": "code",
   "execution_count": null,
   "metadata": {},
   "outputs": [
    {
     "data": {
      "text/plain": [
       "33        0.015152\n",
       "84        0.086957\n",
       "122           <NA>\n",
       "292            0.5\n",
       "308           0.25\n",
       "            ...   \n",
       "239672    0.014925\n",
       "239673    0.044444\n",
       "239674    0.001052\n",
       "239675    0.008811\n",
       "239676         0.0\n",
       "Name: males_percentage, Length: 238352, dtype: Float64"
      ]
     },
     "execution_count": 37,
     "metadata": {},
     "output_type": "execute_result"
    }
   ],
   "source": [
    "#How many males are involved in incidents w.r.t. the total number of males for the\n",
    "#same city and in the same period?\n",
    "df[\"males_percentage\"] = df[\"n_males\"] /  df.groupby([\"year\",\"state\", \"city_or_county\"])[\"n_males\"].transform(\"sum\")\n",
    "df[\"males_percentage\"]"
   ]
  },
  {
   "cell_type": "code",
   "execution_count": null,
   "metadata": {},
   "outputs": [
    {
     "data": {
      "text/plain": [
       "33        <NA>\n",
       "84        <NA>\n",
       "122       <NA>\n",
       "292       <NA>\n",
       "308       <NA>\n",
       "          ... \n",
       "239672     0.0\n",
       "239673     0.0\n",
       "239674     0.0\n",
       "239675     0.0\n",
       "239676     0.0\n",
       "Name: killed_percentage, Length: 238352, dtype: Float64"
      ]
     },
     "execution_count": 38,
     "metadata": {},
     "output_type": "execute_result"
    }
   ],
   "source": [
    "#How many killed people have been involved w.r.t the total killed people in\n",
    "# the same congressional district in a given period of time?\n",
    "df[\"killed_percentage\"] = df[\"n_killed\"] /  df.groupby([\"year\",\"state\", \"congressional_district\" ])[\"n_killed\"].transform(\"sum\")\n",
    "df[\"killed_percentage\"]"
   ]
  },
  {
   "cell_type": "code",
   "execution_count": null,
   "metadata": {},
   "outputs": [],
   "source": [
    "#How many injured people have been involved w.r.t the total injured people in\n",
    "# the same congressional district in a given period of time?\n",
    "df[\"injured_percentage\"] = df[\"n_injured\"] /  df.groupby([\"year\",\"state\", \"congressional_district\" ])[\"n_injured\"].transform(\"sum\")\n"
   ]
  },
  {
   "cell_type": "code",
   "execution_count": null,
   "metadata": {},
   "outputs": [
    {
     "data": {
      "text/html": [
       "<div>\n",
       "<style scoped>\n",
       "    .dataframe tbody tr th:only-of-type {\n",
       "        vertical-align: middle;\n",
       "    }\n",
       "\n",
       "    .dataframe tbody tr th {\n",
       "        vertical-align: top;\n",
       "    }\n",
       "\n",
       "    .dataframe thead th {\n",
       "        text-align: right;\n",
       "    }\n",
       "</style>\n",
       "<table border=\"1\" class=\"dataframe\">\n",
       "  <thead>\n",
       "    <tr style=\"text-align: right;\">\n",
       "      <th></th>\n",
       "      <th>n_killed</th>\n",
       "      <th>n_participants</th>\n",
       "      <th>killed_percentage_per_incident</th>\n",
       "    </tr>\n",
       "  </thead>\n",
       "  <tbody>\n",
       "    <tr>\n",
       "      <th>33</th>\n",
       "      <td>1</td>\n",
       "      <td>1</td>\n",
       "      <td>1.0</td>\n",
       "    </tr>\n",
       "    <tr>\n",
       "      <th>84</th>\n",
       "      <td>0</td>\n",
       "      <td>2</td>\n",
       "      <td>0.0</td>\n",
       "    </tr>\n",
       "    <tr>\n",
       "      <th>122</th>\n",
       "      <td>0</td>\n",
       "      <td>0</td>\n",
       "      <td>NaN</td>\n",
       "    </tr>\n",
       "    <tr>\n",
       "      <th>292</th>\n",
       "      <td>0</td>\n",
       "      <td>3</td>\n",
       "      <td>0.0</td>\n",
       "    </tr>\n",
       "    <tr>\n",
       "      <th>308</th>\n",
       "      <td>1</td>\n",
       "      <td>2</td>\n",
       "      <td>0.5</td>\n",
       "    </tr>\n",
       "    <tr>\n",
       "      <th>...</th>\n",
       "      <td>...</td>\n",
       "      <td>...</td>\n",
       "      <td>...</td>\n",
       "    </tr>\n",
       "    <tr>\n",
       "      <th>239672</th>\n",
       "      <td>0</td>\n",
       "      <td>1</td>\n",
       "      <td>0.0</td>\n",
       "    </tr>\n",
       "    <tr>\n",
       "      <th>239673</th>\n",
       "      <td>0</td>\n",
       "      <td>3</td>\n",
       "      <td>0.0</td>\n",
       "    </tr>\n",
       "    <tr>\n",
       "      <th>239674</th>\n",
       "      <td>0</td>\n",
       "      <td>1</td>\n",
       "      <td>0.0</td>\n",
       "    </tr>\n",
       "    <tr>\n",
       "      <th>239675</th>\n",
       "      <td>0</td>\n",
       "      <td>2</td>\n",
       "      <td>0.0</td>\n",
       "    </tr>\n",
       "    <tr>\n",
       "      <th>239676</th>\n",
       "      <td>0</td>\n",
       "      <td>1</td>\n",
       "      <td>0.0</td>\n",
       "    </tr>\n",
       "  </tbody>\n",
       "</table>\n",
       "<p>238352 rows × 3 columns</p>\n",
       "</div>"
      ],
      "text/plain": [
       "        n_killed  n_participants  killed_percentage_per_incident\n",
       "33             1               1                             1.0\n",
       "84             0               2                             0.0\n",
       "122            0               0                             NaN\n",
       "292            0               3                             0.0\n",
       "308            1               2                             0.5\n",
       "...          ...             ...                             ...\n",
       "239672         0               1                             0.0\n",
       "239673         0               3                             0.0\n",
       "239674         0               1                             0.0\n",
       "239675         0               2                             0.0\n",
       "239676         0               1                             0.0\n",
       "\n",
       "[238352 rows x 3 columns]"
      ]
     },
     "execution_count": 40,
     "metadata": {},
     "output_type": "execute_result"
    }
   ],
   "source": [
    "#Ratio of the number of the killed people in the incidents w.r.t. the number of\n",
    "#participants in the incident\n",
    "df[\"killed_percentage_per_incident\"] = df[\"n_killed\"] / df[\"n_participants\"]\n",
    "df[[\"n_killed\", \"n_participants\", \"killed_percentage_per_incident\"]]"
   ]
  },
  {
   "cell_type": "code",
   "execution_count": null,
   "metadata": {},
   "outputs": [
    {
     "data": {
      "text/html": [
       "<div>\n",
       "<style scoped>\n",
       "    .dataframe tbody tr th:only-of-type {\n",
       "        vertical-align: middle;\n",
       "    }\n",
       "\n",
       "    .dataframe tbody tr th {\n",
       "        vertical-align: top;\n",
       "    }\n",
       "\n",
       "    .dataframe thead th {\n",
       "        text-align: right;\n",
       "    }\n",
       "</style>\n",
       "<table border=\"1\" class=\"dataframe\">\n",
       "  <thead>\n",
       "    <tr style=\"text-align: right;\">\n",
       "      <th></th>\n",
       "      <th>n_unharmed</th>\n",
       "      <th>unharmed_percentage</th>\n",
       "    </tr>\n",
       "  </thead>\n",
       "  <tbody>\n",
       "    <tr>\n",
       "      <th>33</th>\n",
       "      <td>0</td>\n",
       "      <td>0.0</td>\n",
       "    </tr>\n",
       "    <tr>\n",
       "      <th>84</th>\n",
       "      <td>0</td>\n",
       "      <td>0.0</td>\n",
       "    </tr>\n",
       "    <tr>\n",
       "      <th>122</th>\n",
       "      <td>&lt;NA&gt;</td>\n",
       "      <td>&lt;NA&gt;</td>\n",
       "    </tr>\n",
       "    <tr>\n",
       "      <th>292</th>\n",
       "      <td>0</td>\n",
       "      <td>0.0</td>\n",
       "    </tr>\n",
       "    <tr>\n",
       "      <th>308</th>\n",
       "      <td>0</td>\n",
       "      <td>0.0</td>\n",
       "    </tr>\n",
       "    <tr>\n",
       "      <th>...</th>\n",
       "      <td>...</td>\n",
       "      <td>...</td>\n",
       "    </tr>\n",
       "    <tr>\n",
       "      <th>239672</th>\n",
       "      <td>0</td>\n",
       "      <td>0.0</td>\n",
       "    </tr>\n",
       "    <tr>\n",
       "      <th>239673</th>\n",
       "      <td>3</td>\n",
       "      <td>7.060887</td>\n",
       "    </tr>\n",
       "    <tr>\n",
       "      <th>239674</th>\n",
       "      <td>0</td>\n",
       "      <td>0.0</td>\n",
       "    </tr>\n",
       "    <tr>\n",
       "      <th>239675</th>\n",
       "      <td>1</td>\n",
       "      <td>2.349609</td>\n",
       "    </tr>\n",
       "    <tr>\n",
       "      <th>239676</th>\n",
       "      <td>0</td>\n",
       "      <td>0.0</td>\n",
       "    </tr>\n",
       "  </tbody>\n",
       "</table>\n",
       "<p>238352 rows × 2 columns</p>\n",
       "</div>"
      ],
      "text/plain": [
       "        n_unharmed  unharmed_percentage\n",
       "33               0                  0.0\n",
       "84               0                  0.0\n",
       "122           <NA>                 <NA>\n",
       "292              0                  0.0\n",
       "308              0                  0.0\n",
       "...            ...                  ...\n",
       "239672           0                  0.0\n",
       "239673           3             7.060887\n",
       "239674           0                  0.0\n",
       "239675           1             2.349609\n",
       "239676           0                  0.0\n",
       "\n",
       "[238352 rows x 2 columns]"
      ]
     },
     "execution_count": 41,
     "metadata": {},
     "output_type": "execute_result"
    }
   ],
   "source": [
    "#Ratio of unharmed people in the incidents w.r.t. the the average of unharmed people\n",
    "#in the same period\n",
    "df[\"unharmed_percentage\"] = df[\"n_unharmed\"] / df.groupby([\"year\"])[\"n_unharmed\"].transform(\"mean\")\n",
    "df[[\"n_unharmed\", \"unharmed_percentage\"]]"
   ]
  }
 ],
 "metadata": {
  "colab": {
   "provenance": []
  },
  "kernelspec": {
   "display_name": "Python 3 (ipykernel)",
   "language": "python",
   "name": "python3"
  },
  "language_info": {
   "codemirror_mode": {
    "name": "ipython",
    "version": 3
   },
   "file_extension": ".py",
   "mimetype": "text/x-python",
   "name": "python",
   "nbconvert_exporter": "python",
   "pygments_lexer": "ipython3",
   "version": "3.10.7"
  }
 },
 "nbformat": 4,
 "nbformat_minor": 4
}
