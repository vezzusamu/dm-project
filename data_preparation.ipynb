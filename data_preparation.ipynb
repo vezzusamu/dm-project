{
 "cells": [
  {
   "cell_type": "markdown",
   "metadata": {
    "id": "bJNHMyC4KxiI"
   },
   "source": [
    "Import the libraries necessary to analize data"
   ]
  },
  {
   "cell_type": "code",
   "execution_count": 278,
   "metadata": {
    "id": "AfbXoN--jsUE"
   },
   "outputs": [],
   "source": [
    "%matplotlib inline\n",
    "import math\n",
    "import numpy as np\n",
    "import pandas as pd\n",
    "import scipy.stats as stats\n",
    "import matplotlib.pyplot as plt\n",
    "import datetime\n",
    "import random\n",
    "import seaborn as sns\n",
    "import plotly.express as px\n",
    "\n",
    "from collections import defaultdict\n",
    "from scipy.stats import pearsonr"
   ]
  },
  {
   "cell_type": "code",
   "execution_count": 279,
   "metadata": {
    "colab": {
     "base_uri": "https://localhost:8080/",
     "height": 417
    },
    "id": "VaVFyEPhjsUH",
    "outputId": "41f638a7-d5ef-4b50-cc80-2e5db5fc6b1b"
   },
   "outputs": [],
   "source": [
    "df = pd.read_csv('incidents_df_joined.csv', low_memory=False, sep=',', parse_dates=['date'])"
   ]
  },
  {
   "cell_type": "markdown",
   "metadata": {},
   "source": [
    "Change data types to match the content of each attribute (setting to NaN non-numerical values in numerical attributes)"
   ]
  },
  {
   "cell_type": "code",
   "execution_count": 280,
   "metadata": {
    "colab": {
     "base_uri": "https://localhost:8080/"
    },
    "id": "smCujC0YjsUJ",
    "outputId": "522711c7-779e-4133-93a9-ae4109c82f21"
   },
   "outputs": [
    {
     "name": "stdout",
     "output_type": "stream",
     "text": [
      "<class 'pandas.core.frame.DataFrame'>\n",
      "RangeIndex: 199379 entries, 0 to 199378\n",
      "Data columns (total 33 columns):\n",
      " #   Column                     Non-Null Count   Dtype         \n",
      "---  ------                     --------------   -----         \n",
      " 0   date                       199378 non-null  datetime64[ns]\n",
      " 1   state                      199378 non-null  string        \n",
      " 2   city_or_county             199378 non-null  string        \n",
      " 3   address                    185727 non-null  string        \n",
      " 4   latitude                   199312 non-null  float64       \n",
      " 5   longitude                  199312 non-null  float64       \n",
      " 6   congressional_district     199378 non-null  Int64         \n",
      " 7   state_house_district       178207 non-null  Int64         \n",
      " 8   state_senate_district      184239 non-null  Int64         \n",
      " 9   participant_age1           136186 non-null  Int64         \n",
      " 10  participant_age_group1     161304 non-null  string        \n",
      " 11  participant_gender1        166715 non-null  string        \n",
      " 12  min_age_participants       146997 non-null  Int64         \n",
      " 13  avg_age_participants       147077 non-null  float64       \n",
      " 14  max_age_participants       147020 non-null  Int64         \n",
      " 15  n_participants_child       161311 non-null  Int64         \n",
      " 16  n_participants_teen        161312 non-null  Int64         \n",
      " 17  n_participants_adult       161315 non-null  Int64         \n",
      " 18  n_males                    166715 non-null  Int64         \n",
      " 19  n_females                  166715 non-null  Int64         \n",
      " 20  n_killed                   199378 non-null  Int64         \n",
      " 21  n_injured                  199378 non-null  Int64         \n",
      " 22  n_arrested                 174593 non-null  Int64         \n",
      " 23  n_unharmed                 174593 non-null  Int64         \n",
      " 24  n_participants             199378 non-null  Int64         \n",
      " 25  notes                      133786 non-null  string        \n",
      " 26  incident_characteristics1  199100 non-null  string        \n",
      " 27  incident_characteristics2  119390 non-null  string        \n",
      " 28  year                       199378 non-null  float64       \n",
      " 29  povertyPercentage          199378 non-null  float64       \n",
      " 30  party                      199378 non-null  string        \n",
      " 31  candidatevotes             199378 non-null  Int64         \n",
      " 32  totalvotes                 199378 non-null  Int64         \n",
      "dtypes: Int64(18), datetime64[ns](1), float64(5), string(9)\n",
      "memory usage: 53.6 MB\n"
     ]
    }
   ],
   "source": [
    "df[\"date\"] = df[\"date\"].astype(\"datetime64[ns]\")\n",
    "df[\"state\"] = df[\"state\"].astype(\"string\")\n",
    "df[\"city_or_county\"] = df[\"city_or_county\"].astype(\"string\")\n",
    "df[\"address\"] = df[\"address\"].astype(\"string\")\n",
    "df[\"congressional_district\"] = df[\"congressional_district\"].astype(\"Int64\")\n",
    "df[\"state_house_district\"] = df[\"state_house_district\"].astype(\"Int64\")\n",
    "df[\"state_senate_district\"] = df[\"state_senate_district\"].astype(\"Int64\")\n",
    "df[\"participant_age1\"] = df[\"participant_age1\"].astype(\"Int64\")\n",
    "df[\"min_age_participants\"] = pd.to_numeric(df[\"min_age_participants\"], errors=\"coerce\").astype(\"Int64\")\n",
    "df[\"max_age_participants\"] = pd.to_numeric(df[\"max_age_participants\"], errors=\"coerce\").astype(\"Int64\")\n",
    "df[\"avg_age_participants\"] = pd.to_numeric(df[\"avg_age_participants\"], errors=\"coerce\").astype(\"float64\")\n",
    "df[df['participant_gender1'] == 'Male, female'] = np.nan\n",
    "df[\"participant_gender1\"] = df[\"participant_gender1\"].astype(\"string\")\n",
    "df[\"participant_age_group1\"] = df[\"participant_age_group1\"].astype(\"string\")\n",
    "df[\"n_participants_teen\"] = pd.to_numeric(df[\"n_participants_teen\"], errors=\"coerce\").astype(\"Int64\")\n",
    "df[\"n_participants_child\"] = pd.to_numeric(df[\"n_participants_child\"], errors=\"coerce\").astype(\"Int64\")\n",
    "df[\"n_participants_adult\"] = pd.to_numeric(df[\"n_participants_adult\"], errors=\"coerce\").astype(\"Int64\")\n",
    "df[\"n_males\"] = pd.to_numeric(df[\"n_males\"], errors=\"coerce\").astype(\"Int64\")\n",
    "df[\"n_females\"] = pd.to_numeric(df[\"n_females\"], errors=\"coerce\").astype(\"Int64\")\n",
    "df[\"n_killed\"] = pd.to_numeric(df[\"n_killed\"], errors=\"coerce\").astype(\"Int64\")\n",
    "df[\"n_injured\"] = pd.to_numeric(df[\"n_injured\"], errors=\"coerce\").astype(\"Int64\")\n",
    "df[\"n_arrested\"] = pd.to_numeric(df[\"n_arrested\"], errors=\"coerce\").astype(\"Int64\")\n",
    "df[\"n_unharmed\"] = pd.to_numeric(df[\"n_unharmed\"], errors=\"coerce\").astype(\"Int64\")\n",
    "df[\"n_participants\"] = pd.to_numeric(df[\"n_participants\"], errors=\"coerce\").astype(\"Int64\")\n",
    "df[\"notes\"] = df[\"notes\"].astype(\"string\")\n",
    "df[\"incident_characteristics1\"] = df[\"incident_characteristics1\"].astype(\"string\")\n",
    "df[\"incident_characteristics2\"] = df[\"incident_characteristics2\"].astype(\"string\")\n",
    "df[\"party\"] = df[\"party\"].astype(\"string\")\n",
    "df[\"candidatevotes\"] = df[\"candidatevotes\"].astype(\"Int64\")\n",
    "df[\"totalvotes\"] = df[\"totalvotes\"].astype(\"Int64\")\n",
    "df.info()"
   ]
  },
  {
   "cell_type": "markdown",
   "metadata": {},
   "source": [
    "Deleting the rows with all NaN values"
   ]
  },
  {
   "cell_type": "code",
   "execution_count": 281,
   "metadata": {},
   "outputs": [
    {
     "name": "stdout",
     "output_type": "stream",
     "text": [
      "df len before: 199379\n",
      "df len after: 199378\n"
     ]
    }
   ],
   "source": [
    "print(f\"df len before: {len(df)}\")\n",
    "df.dropna(how='all', inplace=True)\n",
    "print(f\"df len after: {len(df)}\")"
   ]
  },
  {
   "cell_type": "markdown",
   "metadata": {},
   "source": [
    "Removing negative values"
   ]
  },
  {
   "cell_type": "code",
   "execution_count": 282,
   "metadata": {},
   "outputs": [],
   "source": [
    "columns_to_check = ['participant_age1', 'min_age_participants', 'avg_age_participants',\n",
    "       'max_age_participants', 'n_participants_child', 'n_participants_teen',\n",
    "       'n_participants_adult', 'n_males', 'n_females', 'n_killed', 'n_injured',\n",
    "       'n_arrested', 'n_unharmed', 'n_participants']\n",
    "# Set values less than 0 to NaN for the specified columns\n",
    "for i in columns_to_check:\n",
    "    df.loc[df[i] < 0, i] = np.nan\n"
   ]
  },
  {
   "cell_type": "markdown",
   "metadata": {
    "jp-MarkdownHeadingCollapsed": true
   },
   "source": [
    "## Age\n"
   ]
  },
  {
   "cell_type": "markdown",
   "metadata": {},
   "source": [
    "As seen in D.U., given that there are some ouliers in the order of ~800 years of age, we decided to remove them by setting them all to NaN, considering that a person with more than 120 years has not ever lived [cite, wikipedia]."
   ]
  },
  {
   "cell_type": "code",
   "execution_count": 283,
   "metadata": {},
   "outputs": [],
   "source": [
    "df.loc[(df[\"avg_age_participants\"] > 120), \"avg_age_participants\"] = np.nan\n",
    "df.loc[(df['min_age_participants'] > 120), \"min_age_participants\"] = np.nan\n",
    "df.loc[(df['max_age_participants'] > 120), \"max_age_participants\"] = np.nan\n",
    "df.loc[(df[\"participant_age1\"] > 120), \"participant_age1\"] = np.nan"
   ]
  },
  {
   "cell_type": "code",
   "execution_count": 284,
   "metadata": {},
   "outputs": [
    {
     "data": {
      "image/png": "[encoded data removed]",
      "text/plain": [
       "<Figure size 640x480 with 4 Axes>"
      ]
     },
     "metadata": {},
     "output_type": "display_data"
    },
    {
     "data": {
      "image/png": "[encoded data removed]",
      "text/plain": [
       "<Figure size 640x480 with 1 Axes>"
      ]
     },
     "metadata": {},
     "output_type": "display_data"
    }
   ],
   "source": [
    "\n",
    "df.hist(column=['avg_age_participants', 'min_age_participants', 'max_age_participants', 'participant_age1'], bins=[i for i in range(0,121,10)])\n",
    "plt.title(\"Valid avg, min, max, participant age1 ages\")\n",
    "plt.xlabel(\"avg, min, max, participant age1 age\")\n",
    "plt.ylabel(\"Individuals\")\n",
    "plt.show()\n",
    "\n",
    "df.boxplot(column=['avg_age_participants', 'min_age_participants', 'max_age_participants', 'participant_age1'])\n",
    "plt.title(\"Valid avg, min, max, participant age1 ages\")\n",
    "plt.ylabel(\"Valid avg, min, max, participant age1 ages\")\n",
    "plt.show()"
   ]
  },
  {
   "cell_type": "code",
   "execution_count": 285,
   "metadata": {},
   "outputs": [
    {
     "data": {
      "text/html": [
       "<div>\n",
       "<style scoped>\n",
       "    .dataframe tbody tr th:only-of-type {\n",
       "        vertical-align: middle;\n",
       "    }\n",
       "\n",
       "    .dataframe tbody tr th {\n",
       "        vertical-align: top;\n",
       "    }\n",
       "\n",
       "    .dataframe thead th {\n",
       "        text-align: right;\n",
       "    }\n",
       "</style>\n",
       "<table border=\"1\" class=\"dataframe\">\n",
       "  <thead>\n",
       "    <tr style=\"text-align: right;\">\n",
       "      <th></th>\n",
       "      <th>avg_age_participants</th>\n",
       "      <th>participant_age1</th>\n",
       "      <th>min_age_participants</th>\n",
       "      <th>max_age_participants</th>\n",
       "    </tr>\n",
       "  </thead>\n",
       "  <tbody>\n",
       "    <tr>\n",
       "      <th>count</th>\n",
       "      <td>136184.000000</td>\n",
       "      <td>136184.0</td>\n",
       "      <td>136188.0</td>\n",
       "      <td>136185.0</td>\n",
       "    </tr>\n",
       "    <tr>\n",
       "      <th>mean</th>\n",
       "      <td>29.974858</td>\n",
       "      <td>30.260816</td>\n",
       "      <td>28.325763</td>\n",
       "      <td>31.764746</td>\n",
       "    </tr>\n",
       "    <tr>\n",
       "      <th>std</th>\n",
       "      <td>12.461499</td>\n",
       "      <td>13.343577</td>\n",
       "      <td>12.498695</td>\n",
       "      <td>13.709934</td>\n",
       "    </tr>\n",
       "    <tr>\n",
       "      <th>min</th>\n",
       "      <td>0.000000</td>\n",
       "      <td>0.0</td>\n",
       "      <td>0.0</td>\n",
       "      <td>0.0</td>\n",
       "    </tr>\n",
       "    <tr>\n",
       "      <th>25%</th>\n",
       "      <td>21.000000</td>\n",
       "      <td>21.0</td>\n",
       "      <td>20.0</td>\n",
       "      <td>22.0</td>\n",
       "    </tr>\n",
       "    <tr>\n",
       "      <th>50%</th>\n",
       "      <td>27.000000</td>\n",
       "      <td>27.0</td>\n",
       "      <td>25.0</td>\n",
       "      <td>28.0</td>\n",
       "    </tr>\n",
       "    <tr>\n",
       "      <th>75%</th>\n",
       "      <td>36.000000</td>\n",
       "      <td>36.0</td>\n",
       "      <td>34.0</td>\n",
       "      <td>38.0</td>\n",
       "    </tr>\n",
       "    <tr>\n",
       "      <th>max</th>\n",
       "      <td>101.000000</td>\n",
       "      <td>101.0</td>\n",
       "      <td>101.0</td>\n",
       "      <td>101.0</td>\n",
       "    </tr>\n",
       "  </tbody>\n",
       "</table>\n",
       "</div>"
      ],
      "text/plain": [
       "       avg_age_participants  participant_age1  min_age_participants  \\\n",
       "count         136184.000000          136184.0              136188.0   \n",
       "mean              29.974858         30.260816             28.325763   \n",
       "std               12.461499         13.343577             12.498695   \n",
       "min                0.000000               0.0                   0.0   \n",
       "25%               21.000000              21.0                  20.0   \n",
       "50%               27.000000              27.0                  25.0   \n",
       "75%               36.000000              36.0                  34.0   \n",
       "max              101.000000             101.0                 101.0   \n",
       "\n",
       "       max_age_participants  \n",
       "count              136185.0  \n",
       "mean              31.764746  \n",
       "std               13.709934  \n",
       "min                     0.0  \n",
       "25%                    22.0  \n",
       "50%                    28.0  \n",
       "75%                    38.0  \n",
       "max                   101.0  "
      ]
     },
     "execution_count": 285,
     "metadata": {},
     "output_type": "execute_result"
    }
   ],
   "source": [
    "df[['avg_age_participants', 'participant_age1', 'min_age_participants', 'max_age_participants']].describe()"
   ]
  },
  {
   "cell_type": "code",
   "execution_count": 286,
   "metadata": {},
   "outputs": [
    {
     "name": "stdout",
     "output_type": "stream",
     "text": [
      "% of no child in incidents: 0.7925949703578128\n",
      "% of no teen in incidents: 0.7222060608492411\n",
      "% of no adult in incidents: 0.05159546188646691\n"
     ]
    }
   ],
   "source": [
    "print(f\"% of no child in incidents: {df[df['n_participants_child'] == 0]['n_participants_child'].count() / len(df['n_participants_child'])}\")\n",
    "print(f\"% of no teen in incidents: {df[df['n_participants_teen'] == 0]['n_participants_teen'].count() / len(df['n_participants_teen'])}\")\n",
    "print(f\"% of no adult in incidents: {df[df['n_participants_adult'] == 0]['n_participants_adult'].count() / len(df['n_participants_adult'])}\")"
   ]
  },
  {
   "cell_type": "markdown",
   "metadata": {},
   "source": [
    "We notice from eliminated obvious outliers (>120 and <0 years of age) and plotting the results that [avg_age,min_age,max_age]_participants are very similar (same min and max age, similar mean and median), so we decide that we will further explore their correlation. "
   ]
  },
  {
   "cell_type": "markdown",
   "metadata": {},
   "source": [
    "We check if when avg_age_participants is 0 or null, we can infer it by calcultating the avg based on min_age_participants and max_age_participants, and we found 0 rows available.\n",
    "This is a further motivation to delete min and max age participants"
   ]
  },
  {
   "cell_type": "code",
   "execution_count": 287,
   "metadata": {},
   "outputs": [
    {
     "data": {
      "text/html": [
       "<div>\n",
       "<style scoped>\n",
       "    .dataframe tbody tr th:only-of-type {\n",
       "        vertical-align: middle;\n",
       "    }\n",
       "\n",
       "    .dataframe tbody tr th {\n",
       "        vertical-align: top;\n",
       "    }\n",
       "\n",
       "    .dataframe thead th {\n",
       "        text-align: right;\n",
       "    }\n",
       "</style>\n",
       "<table border=\"1\" class=\"dataframe\">\n",
       "  <thead>\n",
       "    <tr style=\"text-align: right;\">\n",
       "      <th></th>\n",
       "      <th>avg_age_participants</th>\n",
       "      <th>min_age_participants</th>\n",
       "      <th>max_age_participants</th>\n",
       "    </tr>\n",
       "  </thead>\n",
       "  <tbody>\n",
       "  </tbody>\n",
       "</table>\n",
       "</div>"
      ],
      "text/plain": [
       "Empty DataFrame\n",
       "Columns: [avg_age_participants, min_age_participants, max_age_participants]\n",
       "Index: []"
      ]
     },
     "execution_count": 287,
     "metadata": {},
     "output_type": "execute_result"
    }
   ],
   "source": [
    "df[((df['avg_age_participants'] == 0) | (df['avg_age_participants'].isna())) & (((df['min_age_participants'] > 0) & (df['min_age_participants'].notna())) & ((df['max_age_participants'] > 0) & df['min_age_participants'].notna() ))] [['avg_age_participants', 'min_age_participants', 'max_age_participants']]"
   ]
  },
  {
   "cell_type": "code",
   "execution_count": 288,
   "metadata": {},
   "outputs": [
    {
     "data": {
      "text/plain": [
       "array([nan])"
      ]
     },
     "execution_count": 288,
     "metadata": {},
     "output_type": "execute_result"
    }
   ],
   "source": [
    "df[df[\"n_participants\"] == 0][\"avg_age_participants\"].unique()"
   ]
  },
  {
   "cell_type": "code",
   "execution_count": 289,
   "metadata": {},
   "outputs": [
    {
     "data": {
      "text/html": [
       "<div>\n",
       "<style scoped>\n",
       "    .dataframe tbody tr th:only-of-type {\n",
       "        vertical-align: middle;\n",
       "    }\n",
       "\n",
       "    .dataframe tbody tr th {\n",
       "        vertical-align: top;\n",
       "    }\n",
       "\n",
       "    .dataframe thead th {\n",
       "        text-align: right;\n",
       "    }\n",
       "</style>\n",
       "<table border=\"1\" class=\"dataframe\">\n",
       "  <thead>\n",
       "    <tr style=\"text-align: right;\">\n",
       "      <th></th>\n",
       "      <th>participant_age1</th>\n",
       "      <th>participant_age_group1</th>\n",
       "      <th>participant_gender1</th>\n",
       "      <th>min_age_participants</th>\n",
       "      <th>avg_age_participants</th>\n",
       "      <th>max_age_participants</th>\n",
       "      <th>n_participants_child</th>\n",
       "      <th>n_participants_teen</th>\n",
       "      <th>n_participants_adult</th>\n",
       "    </tr>\n",
       "  </thead>\n",
       "  <tbody>\n",
       "    <tr>\n",
       "      <th>1</th>\n",
       "      <td>&lt;NA&gt;</td>\n",
       "      <td>&lt;NA&gt;</td>\n",
       "      <td>&lt;NA&gt;</td>\n",
       "      <td>&lt;NA&gt;</td>\n",
       "      <td>NaN</td>\n",
       "      <td>&lt;NA&gt;</td>\n",
       "      <td>&lt;NA&gt;</td>\n",
       "      <td>&lt;NA&gt;</td>\n",
       "      <td>&lt;NA&gt;</td>\n",
       "    </tr>\n",
       "    <tr>\n",
       "      <th>4</th>\n",
       "      <td>&lt;NA&gt;</td>\n",
       "      <td>&lt;NA&gt;</td>\n",
       "      <td>&lt;NA&gt;</td>\n",
       "      <td>&lt;NA&gt;</td>\n",
       "      <td>NaN</td>\n",
       "      <td>&lt;NA&gt;</td>\n",
       "      <td>&lt;NA&gt;</td>\n",
       "      <td>&lt;NA&gt;</td>\n",
       "      <td>&lt;NA&gt;</td>\n",
       "    </tr>\n",
       "    <tr>\n",
       "      <th>7</th>\n",
       "      <td>&lt;NA&gt;</td>\n",
       "      <td>&lt;NA&gt;</td>\n",
       "      <td>&lt;NA&gt;</td>\n",
       "      <td>&lt;NA&gt;</td>\n",
       "      <td>NaN</td>\n",
       "      <td>&lt;NA&gt;</td>\n",
       "      <td>&lt;NA&gt;</td>\n",
       "      <td>&lt;NA&gt;</td>\n",
       "      <td>&lt;NA&gt;</td>\n",
       "    </tr>\n",
       "    <tr>\n",
       "      <th>8</th>\n",
       "      <td>&lt;NA&gt;</td>\n",
       "      <td>&lt;NA&gt;</td>\n",
       "      <td>Male</td>\n",
       "      <td>&lt;NA&gt;</td>\n",
       "      <td>NaN</td>\n",
       "      <td>&lt;NA&gt;</td>\n",
       "      <td>&lt;NA&gt;</td>\n",
       "      <td>&lt;NA&gt;</td>\n",
       "      <td>&lt;NA&gt;</td>\n",
       "    </tr>\n",
       "    <tr>\n",
       "      <th>9</th>\n",
       "      <td>&lt;NA&gt;</td>\n",
       "      <td>&lt;NA&gt;</td>\n",
       "      <td>&lt;NA&gt;</td>\n",
       "      <td>&lt;NA&gt;</td>\n",
       "      <td>NaN</td>\n",
       "      <td>&lt;NA&gt;</td>\n",
       "      <td>&lt;NA&gt;</td>\n",
       "      <td>&lt;NA&gt;</td>\n",
       "      <td>&lt;NA&gt;</td>\n",
       "    </tr>\n",
       "    <tr>\n",
       "      <th>...</th>\n",
       "      <td>...</td>\n",
       "      <td>...</td>\n",
       "      <td>...</td>\n",
       "      <td>...</td>\n",
       "      <td>...</td>\n",
       "      <td>...</td>\n",
       "      <td>...</td>\n",
       "      <td>...</td>\n",
       "      <td>...</td>\n",
       "    </tr>\n",
       "    <tr>\n",
       "      <th>199333</th>\n",
       "      <td>&lt;NA&gt;</td>\n",
       "      <td>Adult 18+</td>\n",
       "      <td>Male</td>\n",
       "      <td>&lt;NA&gt;</td>\n",
       "      <td>NaN</td>\n",
       "      <td>&lt;NA&gt;</td>\n",
       "      <td>0</td>\n",
       "      <td>0</td>\n",
       "      <td>1</td>\n",
       "    </tr>\n",
       "    <tr>\n",
       "      <th>199334</th>\n",
       "      <td>&lt;NA&gt;</td>\n",
       "      <td>&lt;NA&gt;</td>\n",
       "      <td>&lt;NA&gt;</td>\n",
       "      <td>&lt;NA&gt;</td>\n",
       "      <td>NaN</td>\n",
       "      <td>&lt;NA&gt;</td>\n",
       "      <td>&lt;NA&gt;</td>\n",
       "      <td>&lt;NA&gt;</td>\n",
       "      <td>&lt;NA&gt;</td>\n",
       "    </tr>\n",
       "    <tr>\n",
       "      <th>199336</th>\n",
       "      <td>&lt;NA&gt;</td>\n",
       "      <td>&lt;NA&gt;</td>\n",
       "      <td>Male</td>\n",
       "      <td>&lt;NA&gt;</td>\n",
       "      <td>NaN</td>\n",
       "      <td>&lt;NA&gt;</td>\n",
       "      <td>&lt;NA&gt;</td>\n",
       "      <td>&lt;NA&gt;</td>\n",
       "      <td>&lt;NA&gt;</td>\n",
       "    </tr>\n",
       "    <tr>\n",
       "      <th>199367</th>\n",
       "      <td>&lt;NA&gt;</td>\n",
       "      <td>Adult 18+</td>\n",
       "      <td>&lt;NA&gt;</td>\n",
       "      <td>&lt;NA&gt;</td>\n",
       "      <td>NaN</td>\n",
       "      <td>&lt;NA&gt;</td>\n",
       "      <td>0</td>\n",
       "      <td>0</td>\n",
       "      <td>4</td>\n",
       "    </tr>\n",
       "    <tr>\n",
       "      <th>199369</th>\n",
       "      <td>&lt;NA&gt;</td>\n",
       "      <td>&lt;NA&gt;</td>\n",
       "      <td>&lt;NA&gt;</td>\n",
       "      <td>&lt;NA&gt;</td>\n",
       "      <td>NaN</td>\n",
       "      <td>&lt;NA&gt;</td>\n",
       "      <td>&lt;NA&gt;</td>\n",
       "      <td>&lt;NA&gt;</td>\n",
       "      <td>&lt;NA&gt;</td>\n",
       "    </tr>\n",
       "  </tbody>\n",
       "</table>\n",
       "<p>63194 rows × 9 columns</p>\n",
       "</div>"
      ],
      "text/plain": [
       "        participant_age1 participant_age_group1 participant_gender1  \\\n",
       "1                   <NA>                   <NA>                <NA>   \n",
       "4                   <NA>                   <NA>                <NA>   \n",
       "7                   <NA>                   <NA>                <NA>   \n",
       "8                   <NA>                   <NA>                Male   \n",
       "9                   <NA>                   <NA>                <NA>   \n",
       "...                  ...                    ...                 ...   \n",
       "199333              <NA>              Adult 18+                Male   \n",
       "199334              <NA>                   <NA>                <NA>   \n",
       "199336              <NA>                   <NA>                Male   \n",
       "199367              <NA>              Adult 18+                <NA>   \n",
       "199369              <NA>                   <NA>                <NA>   \n",
       "\n",
       "        min_age_participants  avg_age_participants  max_age_participants  \\\n",
       "1                       <NA>                   NaN                  <NA>   \n",
       "4                       <NA>                   NaN                  <NA>   \n",
       "7                       <NA>                   NaN                  <NA>   \n",
       "8                       <NA>                   NaN                  <NA>   \n",
       "9                       <NA>                   NaN                  <NA>   \n",
       "...                      ...                   ...                   ...   \n",
       "199333                  <NA>                   NaN                  <NA>   \n",
       "199334                  <NA>                   NaN                  <NA>   \n",
       "199336                  <NA>                   NaN                  <NA>   \n",
       "199367                  <NA>                   NaN                  <NA>   \n",
       "199369                  <NA>                   NaN                  <NA>   \n",
       "\n",
       "        n_participants_child  n_participants_teen  n_participants_adult  \n",
       "1                       <NA>                 <NA>                  <NA>  \n",
       "4                       <NA>                 <NA>                  <NA>  \n",
       "7                       <NA>                 <NA>                  <NA>  \n",
       "8                       <NA>                 <NA>                  <NA>  \n",
       "9                       <NA>                 <NA>                  <NA>  \n",
       "...                      ...                  ...                   ...  \n",
       "199333                     0                    0                     1  \n",
       "199334                  <NA>                 <NA>                  <NA>  \n",
       "199336                  <NA>                 <NA>                  <NA>  \n",
       "199367                     0                    0                     4  \n",
       "199369                  <NA>                 <NA>                  <NA>  \n",
       "\n",
       "[63194 rows x 9 columns]"
      ]
     },
     "execution_count": 289,
     "metadata": {},
     "output_type": "execute_result"
    }
   ],
   "source": [
    "columns_to_check = [\"participant_age1\", \"participant_age_group1\", \"participant_gender1\", \"min_age_participants\", \"avg_age_participants\", \"max_age_participants\", \"n_participants_child\", \"n_participants_teen\", \"n_participants_adult\"]\n",
    "df[df[\"avg_age_participants\"].isna()][columns_to_check]"
   ]
  },
  {
   "cell_type": "markdown",
   "metadata": {
    "jp-MarkdownHeadingCollapsed": true
   },
   "source": [
    "## Date\n",
    "\n",
    "Analysis and cleaning of the date attribute"
   ]
  },
  {
   "cell_type": "code",
   "execution_count": 290,
   "metadata": {
    "id": "cKAjvMdCjsUS"
   },
   "outputs": [
    {
     "data": {
      "image/png": "[encoded data removed]",
      "text/plain": [
       "<Figure size 640x480 with 1 Axes>"
      ]
     },
     "metadata": {},
     "output_type": "display_data"
    }
   ],
   "source": [
    "df.hist(column=[\"date\"],   bins=[datetime.datetime(2012,7,1,0,0), datetime.datetime(2013,1,1,0,0), datetime.datetime(2013,7,1,0,0),\n",
    "                             datetime.datetime(2014,1,1,0,0), datetime.datetime(2014,7,1,0,0), datetime.datetime(2015,1,1,0,0),\n",
    "                             datetime.datetime(2015,7,1,0,0), datetime.datetime(2016,1,1,0,0), datetime.datetime(2016,7,1,0,0),\n",
    "                             datetime.datetime(2017,1,1,0,0), datetime.datetime(2017,7,1,0,0), datetime.datetime(2018,1,1,0,0),\n",
    "                             datetime.datetime(2018,7,1,0,0), datetime.datetime(2019,1,1,0,0)])\n",
    "plt.title(\"Date before cleaning\")\n",
    "plt.xlabel(\"date\")\n",
    "plt.ylabel(\"Number of incidents\")\n",
    "plt.show()"
   ]
  },
  {
   "cell_type": "markdown",
   "metadata": {},
   "source": [
    "We considered all dates after 2023-10-01 (the date we received the dataset) to be ouliers, in particular error in the data"
   ]
  },
  {
   "cell_type": "markdown",
   "metadata": {},
   "source": [
    "TODO: 2018 analyze separately"
   ]
  },
  {
   "cell_type": "markdown",
   "metadata": {},
   "source": [
    "As seen in D.U., the year 2013 is under represented with only 242 records, so we decide to drop them. "
   ]
  },
  {
   "cell_type": "code",
   "execution_count": 291,
   "metadata": {},
   "outputs": [
    {
     "data": {
      "text/plain": [
       "date\n",
       "2013      242\n",
       "2014    36331\n",
       "2015    42934\n",
       "2016    53082\n",
       "2017    56373\n",
       "2018    10416\n",
       "Name: count, dtype: int64"
      ]
     },
     "execution_count": 291,
     "metadata": {},
     "output_type": "execute_result"
    }
   ],
   "source": [
    "df['date'].dt.year.value_counts().sort_index()"
   ]
  },
  {
   "cell_type": "code",
   "execution_count": 292,
   "metadata": {},
   "outputs": [
    {
     "name": "stdout",
     "output_type": "stream",
     "text": [
      "242\n"
     ]
    }
   ],
   "source": [
    "df_with_2013 = len(df)\n",
    "df = df[df['date'].dt.year > 2013]\n",
    "print(df_with_2013 - len(df))"
   ]
  },
  {
   "cell_type": "code",
   "execution_count": 293,
   "metadata": {},
   "outputs": [
    {
     "data": {
      "image/png": "[encoded data removed]",
      "text/plain": [
       "<Figure size 640x480 with 1 Axes>"
      ]
     },
     "metadata": {},
     "output_type": "display_data"
    }
   ],
   "source": [
    "df.hist(column=[\"date\"],   bins=[datetime.datetime(2012,7,1,0,0), datetime.datetime(2013,1,1,0,0), datetime.datetime(2013,7,1,0,0),\n",
    "                             datetime.datetime(2014,1,1,0,0), datetime.datetime(2014,7,1,0,0), datetime.datetime(2015,1,1,0,0),\n",
    "                             datetime.datetime(2015,7,1,0,0), datetime.datetime(2016,1,1,0,0), datetime.datetime(2016,7,1,0,0),\n",
    "                             datetime.datetime(2017,1,1,0,0), datetime.datetime(2017,7,1,0,0), datetime.datetime(2018,1,1,0,0),\n",
    "                             datetime.datetime(2018,7,1,0,0), datetime.datetime(2019,1,1,0,0)])\n",
    "plt.title(\"Date after cleaning\")\n",
    "plt.xlabel(\"date\")\n",
    "plt.ylabel(\"Number of incidents\")\n",
    "plt.show()"
   ]
  },
  {
   "cell_type": "markdown",
   "metadata": {},
   "source": [
    "# Geographical info"
   ]
  },
  {
   "cell_type": "markdown",
   "metadata": {},
   "source": [
    "## Latitude and longitude"
   ]
  },
  {
   "cell_type": "code",
   "execution_count": 294,
   "metadata": {},
   "outputs": [
    {
     "data": {
      "text/plain": [
       "latitude  longitude\n",
       "NaN       NaN          66\n",
       "Name: count, dtype: int64"
      ]
     },
     "execution_count": 294,
     "metadata": {},
     "output_type": "execute_result"
    }
   ],
   "source": [
    "central_block = ((df[\"latitude\"] <= 49.3457868) & (df[\"latitude\"] >= 24.396308) & (df[\"longitude\"] >= -125.000000) & (df[\"longitude\"] <= -66.934570))\n",
    "alaska_block = ((df[\"latitude\"] <= 71.635993) & (df[\"latitude\"] >= 53.67068) & (df[\"longitude\"] >= -173.59497) & (df[\"longitude\"] <= -129.152344))\n",
    "hawaii_block = ((df[\"latitude\"] <= 22.674847) & (df[\"latitude\"] >= 17.790535) & (df[\"longitude\"] >= -161.389160) & (df[\"longitude\"] <= -153.237305))\n",
    "\n",
    "df[~(central_block | alaska_block | hawaii_block)][['latitude', 'longitude']].value_counts(dropna=False)"
   ]
  },
  {
   "cell_type": "markdown",
   "metadata": {},
   "source": [
    "We consider the triple <date,latitude,longitude> to be a key identifying an incident. We decided to eliminate the records with these 3 values duplicates. "
   ]
  },
  {
   "cell_type": "code",
   "execution_count": 295,
   "metadata": {},
   "outputs": [
    {
     "data": {
      "text/plain": [
       "latitude  longitude  date      \n",
       "36.7387   -119.7900  2018-01-16    6\n",
       "                     2018-03-17    5\n",
       "32.7485   -93.9895   2017-01-18    4\n",
       "32.5512   -93.7045   2016-04-16    4\n",
       "42.3482   -83.0618   2016-07-04    4\n",
       "                                  ..\n",
       "33.6356   -84.4333   2014-02-02    2\n",
       "                     2014-07-09    2\n",
       "                     2014-10-09    2\n",
       "                     2014-10-10    2\n",
       "61.6139   -149.4510  2016-07-28    2\n",
       "Name: count, Length: 1134, dtype: int64"
      ]
     },
     "execution_count": 295,
     "metadata": {},
     "output_type": "execute_result"
    }
   ],
   "source": [
    "df[df.duplicated(subset=['latitude', 'longitude', 'date'], keep=False)][['latitude', 'longitude', 'date']].value_counts()"
   ]
  },
  {
   "cell_type": "code",
   "execution_count": 296,
   "metadata": {
    "colab": {
     "base_uri": "https://localhost:8080/"
    },
    "id": "DuacLIzgjsUU",
    "outputId": "409cb56c-700b-4a06-e60e-d8427e0ecbba"
   },
   "outputs": [
    {
     "name": "stdout",
     "output_type": "stream",
     "text": [
      "199136\n"
     ]
    },
    {
     "name": "stdout",
     "output_type": "stream",
     "text": [
      "197925\n"
     ]
    }
   ],
   "source": [
    "print(len(df))\n",
    "#df = df.drop_duplicates(subset=[\"date\", \"latitude\", \"longitude\"]).append(df[pd.isnull(df['date']) | pd.isnull(df['latitude']) | pd.isnull(df['longitude'])])\n",
    "df = pd.concat([df[pd.isnull(df['date']) | pd.isnull(df['latitude']) | pd.isnull(df['longitude'])], df.drop_duplicates(subset=[\"date\", \"latitude\", \"longitude\"])])\n",
    "df.drop_duplicates(inplace=True)\n",
    "print(len(df))"
   ]
  },
  {
   "cell_type": "code",
   "execution_count": 297,
   "metadata": {},
   "outputs": [
    {
     "data": {
      "text/plain": [
       "Series([], Name: count, dtype: int64)"
      ]
     },
     "execution_count": 297,
     "metadata": {},
     "output_type": "execute_result"
    }
   ],
   "source": [
    "df[df.duplicated(subset=['latitude', 'longitude', 'date'], keep=False)][['latitude', 'longitude', 'date']].value_counts()"
   ]
  },
  {
   "cell_type": "markdown",
   "metadata": {},
   "source": [
    "## Filling of missing values and outliers"
   ]
  },
  {
   "cell_type": "markdown",
   "metadata": {},
   "source": [
    "TODO: check variance"
   ]
  },
  {
   "cell_type": "code",
   "execution_count": 298,
   "metadata": {},
   "outputs": [
    {
     "data": {
      "text/plain": [
       "latitude     False\n",
       "longitude    False\n",
       "dtype: bool"
      ]
     },
     "execution_count": 298,
     "metadata": {},
     "output_type": "execute_result"
    }
   ],
   "source": [
    "#Sostituisco i valori NaN di latitude e longitude, con i valori delle righe aventi lo stesso state e la stessa city_or_county\n",
    "df[['latitude', 'longitude']] = df.groupby([\"state\", \"city_or_county\"],group_keys=False)[['latitude', 'longitude']].apply(lambda x: x.fillna(x.mean()))\n",
    "df[['latitude', 'longitude']] = df.groupby(\"state\",group_keys=False)[['latitude', 'longitude']].apply(lambda x: x.fillna(x.mean()))\n",
    "df[['latitude', 'longitude']].isna().any()"
   ]
  },
  {
   "cell_type": "markdown",
   "metadata": {},
   "source": [
    "## Congressional District, State House District, State Senate District"
   ]
  },
  {
   "cell_type": "markdown",
   "metadata": {},
   "source": [
    "By examining the columns ‘congressional_district’, ‘state_house_district’, and ‘state_senate_district’, we observe that the columns ‘state_house_district’ and ‘state_senate_district’ represent further subdivisions of the US territory, which are not pertinent to our analysis. We will utilize the ‘congressional_district’ column to study the territorial divisions."
   ]
  },
  {
   "cell_type": "code",
   "execution_count": 299,
   "metadata": {},
   "outputs": [],
   "source": [
    "df.drop(columns=['state_house_district', 'state_senate_district'], inplace=True)"
   ]
  },
  {
   "cell_type": "markdown",
   "metadata": {},
   "source": [
    "# Participant quantity information \n",
    "('n_participants_child', 'n_participants_teen',\n",
    "       'n_participants_adult', 'n_males', 'n_females', 'n_killed', 'n_injured',\n",
    "       'n_arrested', 'n_unharmed', 'n_participants')"
   ]
  },
  {
   "cell_type": "markdown",
   "metadata": {},
   "source": [
    "#TODO to check.."
   ]
  },
  {
   "cell_type": "markdown",
   "metadata": {},
   "source": [
    "## N killed, injured, arrested, unharmed"
   ]
  },
  {
   "cell_type": "markdown",
   "metadata": {},
   "source": [
    "N killed and N injured have no NaN values after the previous steps of cleaning, we proceed to fix N arrested and N unharmed null values."
   ]
  },
  {
   "cell_type": "code",
   "execution_count": 300,
   "metadata": {},
   "outputs": [
    {
     "name": "stdout",
     "output_type": "stream",
     "text": [
      "<class 'pandas.core.frame.DataFrame'>\n",
      "Index: 197925 entries, 85424 to 199339\n",
      "Data columns (total 4 columns):\n",
      " #   Column      Non-Null Count   Dtype\n",
      "---  ------      --------------   -----\n",
      " 0   n_killed    197925 non-null  Int64\n",
      " 1   n_injured   197925 non-null  Int64\n",
      " 2   n_arrested  173539 non-null  Int64\n",
      " 3   n_unharmed  173539 non-null  Int64\n",
      "dtypes: Int64(4)\n",
      "memory usage: 8.3 MB\n"
     ]
    }
   ],
   "source": [
    "df[['n_killed', 'n_injured', 'n_arrested', 'n_unharmed']].info()"
   ]
  },
  {
   "cell_type": "code",
   "execution_count": 301,
   "metadata": {},
   "outputs": [],
   "source": [
    "columns_to_check = ['n_killed', 'n_injured', 'n_arrested', 'n_unharmed']\n",
    "for column in columns_to_check:\n",
    "    df.loc[df[column] > df['n_participants'], column] = np.nan"
   ]
  },
  {
   "cell_type": "code",
   "execution_count": 302,
   "metadata": {},
   "outputs": [
    {
     "name": "stdout",
     "output_type": "stream",
     "text": [
      "<class 'pandas.core.frame.DataFrame'>\n",
      "Index: 197925 entries, 85424 to 199339\n",
      "Data columns (total 4 columns):\n",
      " #   Column      Non-Null Count   Dtype\n",
      "---  ------      --------------   -----\n",
      " 0   n_killed    197925 non-null  Int64\n",
      " 1   n_injured   197925 non-null  Int64\n",
      " 2   n_arrested  173539 non-null  Int64\n",
      " 3   n_unharmed  173539 non-null  Int64\n",
      "dtypes: Int64(4)\n",
      "memory usage: 8.3 MB\n"
     ]
    }
   ],
   "source": [
    "df[['n_killed', 'n_injured', 'n_arrested', 'n_unharmed']].info()"
   ]
  },
  {
   "cell_type": "markdown",
   "metadata": {},
   "source": [
    "As we can see, there are no N killed, injured, arrested, unharmed that exceeds the number of participants in that incident"
   ]
  },
  {
   "cell_type": "markdown",
   "metadata": {},
   "source": [
    "We put to 0 arrested and unharmed in all the cases in which there is 0 participants."
   ]
  },
  {
   "cell_type": "code",
   "execution_count": 303,
   "metadata": {},
   "outputs": [],
   "source": [
    "df.loc[df[\"n_participants\"] == 0, ['n_arrested', 'n_unharmed']] = 0"
   ]
  },
  {
   "cell_type": "markdown",
   "metadata": {},
   "source": [
    "Fill the remaining null values with the mode. # TODO calculate the MAD"
   ]
  },
  {
   "cell_type": "code",
   "execution_count": 304,
   "metadata": {},
   "outputs": [],
   "source": [
    "def fillna_group_arrested_unharmed(group):\n",
    "    group[\"n_arrested\"] = group[\"n_arrested\"].fillna(np.round(group[\"n_arrested\"].mean(),0))\n",
    "    group[\"n_unharmed\"] = group[\"n_unharmed\"].fillna(np.round(group[\"n_unharmed\"].mean(),0))\n",
    "    return group"
   ]
  },
  {
   "cell_type": "code",
   "execution_count": 305,
   "metadata": {},
   "outputs": [],
   "source": [
    "df = df.groupby(\"n_participants\").apply(fillna_group_arrested_unharmed).reset_index(drop=True)"
   ]
  },
  {
   "cell_type": "code",
   "execution_count": 306,
   "metadata": {},
   "outputs": [
    {
     "name": "stdout",
     "output_type": "stream",
     "text": [
      "<class 'pandas.core.frame.DataFrame'>\n",
      "RangeIndex: 197925 entries, 0 to 197924\n",
      "Data columns (total 4 columns):\n",
      " #   Column      Non-Null Count   Dtype\n",
      "---  ------      --------------   -----\n",
      " 0   n_killed    197925 non-null  Int64\n",
      " 1   n_injured   197925 non-null  Int64\n",
      " 2   n_arrested  197925 non-null  Int64\n",
      " 3   n_unharmed  197925 non-null  Int64\n",
      "dtypes: Int64(4)\n",
      "memory usage: 6.8 MB\n"
     ]
    }
   ],
   "source": [
    "df[['n_killed', 'n_injured', 'n_arrested', 'n_unharmed']].info()"
   ]
  },
  {
   "cell_type": "markdown",
   "metadata": {},
   "source": [
    "## N participants [child, teen, adult] and n males and n females"
   ]
  },
  {
   "cell_type": "markdown",
   "metadata": {},
   "source": [
    "As we observed in D.U., for n_participants[_child,_teen,_adult] there are outliers represented by enormous values. In data preparation, we decided to clean these data putting them to nan."
   ]
  },
  {
   "cell_type": "code",
   "execution_count": 307,
   "metadata": {},
   "outputs": [],
   "source": [
    "# n_participants has no evident outliers as seen in D.U., we use max participants as threshold value to filter out the outliers\n",
    "max_participants = df['n_participants'].max()\n",
    "\n",
    "df.loc[(df[\"n_participants_child\"] > max_participants), \"n_participants_child\"] = np.nan\n",
    "df.loc[(df[\"n_participants_teen\"] > max_participants), \"n_participants_teen\"] = np.nan\n",
    "df.loc[(df[\"n_participants_adult\"] > max_participants), \"n_participants_adult\"] = np.nan"
   ]
  },
  {
   "cell_type": "markdown",
   "metadata": {},
   "source": [
    "If n participants 0, fill all the other info about the number of people to 0"
   ]
  },
  {
   "cell_type": "code",
   "execution_count": 308,
   "metadata": {},
   "outputs": [],
   "source": [
    "df.loc[df[\"n_participants\"] == 0, [\"n_participants_child\",\"n_participants_teen\", \"n_participants_adult\", \"n_males\", \"n_females\"]] = 0"
   ]
  },
  {
   "cell_type": "code",
   "execution_count": 309,
   "metadata": {},
   "outputs": [
    {
     "data": {
      "text/html": [
       "<div>\n",
       "<style scoped>\n",
       "    .dataframe tbody tr th:only-of-type {\n",
       "        vertical-align: middle;\n",
       "    }\n",
       "\n",
       "    .dataframe tbody tr th {\n",
       "        vertical-align: top;\n",
       "    }\n",
       "\n",
       "    .dataframe thead th {\n",
       "        text-align: right;\n",
       "    }\n",
       "</style>\n",
       "<table border=\"1\" class=\"dataframe\">\n",
       "  <thead>\n",
       "    <tr style=\"text-align: right;\">\n",
       "      <th></th>\n",
       "      <th>n_participants</th>\n",
       "      <th>n_males</th>\n",
       "      <th>n_females</th>\n",
       "      <th>n_participants_teen</th>\n",
       "      <th>n_participants_child</th>\n",
       "      <th>n_participants_adult</th>\n",
       "    </tr>\n",
       "  </thead>\n",
       "  <tbody>\n",
       "    <tr>\n",
       "      <th>108152</th>\n",
       "      <td>1</td>\n",
       "      <td>1</td>\n",
       "      <td>0</td>\n",
       "      <td>0</td>\n",
       "      <td>0</td>\n",
       "      <td>1</td>\n",
       "    </tr>\n",
       "    <tr>\n",
       "      <th>108157</th>\n",
       "      <td>1</td>\n",
       "      <td>1</td>\n",
       "      <td>0</td>\n",
       "      <td>0</td>\n",
       "      <td>0</td>\n",
       "      <td>1</td>\n",
       "    </tr>\n",
       "    <tr>\n",
       "      <th>108186</th>\n",
       "      <td>1</td>\n",
       "      <td>1</td>\n",
       "      <td>0</td>\n",
       "      <td>0</td>\n",
       "      <td>0</td>\n",
       "      <td>1</td>\n",
       "    </tr>\n",
       "    <tr>\n",
       "      <th>108189</th>\n",
       "      <td>1</td>\n",
       "      <td>0</td>\n",
       "      <td>1</td>\n",
       "      <td>0</td>\n",
       "      <td>0</td>\n",
       "      <td>1</td>\n",
       "    </tr>\n",
       "    <tr>\n",
       "      <th>108224</th>\n",
       "      <td>1</td>\n",
       "      <td>1</td>\n",
       "      <td>0</td>\n",
       "      <td>0</td>\n",
       "      <td>0</td>\n",
       "      <td>1</td>\n",
       "    </tr>\n",
       "    <tr>\n",
       "      <th>...</th>\n",
       "      <td>...</td>\n",
       "      <td>...</td>\n",
       "      <td>...</td>\n",
       "      <td>...</td>\n",
       "      <td>...</td>\n",
       "      <td>...</td>\n",
       "    </tr>\n",
       "    <tr>\n",
       "      <th>197862</th>\n",
       "      <td>1</td>\n",
       "      <td>1</td>\n",
       "      <td>0</td>\n",
       "      <td>0</td>\n",
       "      <td>0</td>\n",
       "      <td>1</td>\n",
       "    </tr>\n",
       "    <tr>\n",
       "      <th>197867</th>\n",
       "      <td>14</td>\n",
       "      <td>12</td>\n",
       "      <td>2</td>\n",
       "      <td>4</td>\n",
       "      <td>0</td>\n",
       "      <td>10</td>\n",
       "    </tr>\n",
       "    <tr>\n",
       "      <th>197906</th>\n",
       "      <td>22</td>\n",
       "      <td>18</td>\n",
       "      <td>4</td>\n",
       "      <td>0</td>\n",
       "      <td>0</td>\n",
       "      <td>22</td>\n",
       "    </tr>\n",
       "    <tr>\n",
       "      <th>197908</th>\n",
       "      <td>20</td>\n",
       "      <td>13</td>\n",
       "      <td>7</td>\n",
       "      <td>8</td>\n",
       "      <td>0</td>\n",
       "      <td>12</td>\n",
       "    </tr>\n",
       "    <tr>\n",
       "      <th>197914</th>\n",
       "      <td>9</td>\n",
       "      <td>9</td>\n",
       "      <td>0</td>\n",
       "      <td>0</td>\n",
       "      <td>0</td>\n",
       "      <td>9</td>\n",
       "    </tr>\n",
       "  </tbody>\n",
       "</table>\n",
       "<p>5311 rows × 6 columns</p>\n",
       "</div>"
      ],
      "text/plain": [
       "        n_participants  n_males  n_females  n_participants_teen  \\\n",
       "108152               1        1          0                    0   \n",
       "108157               1        1          0                    0   \n",
       "108186               1        1          0                    0   \n",
       "108189               1        0          1                    0   \n",
       "108224               1        1          0                    0   \n",
       "...                ...      ...        ...                  ...   \n",
       "197862               1        1          0                    0   \n",
       "197867              14       12          2                    4   \n",
       "197906              22       18          4                    0   \n",
       "197908              20       13          7                    8   \n",
       "197914               9        9          0                    0   \n",
       "\n",
       "        n_participants_child  n_participants_adult  \n",
       "108152                     0                     1  \n",
       "108157                     0                     1  \n",
       "108186                     0                     1  \n",
       "108189                     0                     1  \n",
       "108224                     0                     1  \n",
       "...                      ...                   ...  \n",
       "197862                     0                     1  \n",
       "197867                     0                    10  \n",
       "197906                     0                    22  \n",
       "197908                     0                    12  \n",
       "197914                     0                     9  \n",
       "\n",
       "[5311 rows x 6 columns]"
      ]
     },
     "execution_count": 309,
     "metadata": {},
     "output_type": "execute_result"
    }
   ],
   "source": [
    "#Utilizzerà questi valori per sosituire \"n_participants\" nel caso somma tra male e female è pari alla somma tra teen,child e adults.\n",
    "#La modifica per quanto riguarda \"n_participants\" è fatta solo se è diversa da tutte le altre somme delle varie colonne:\n",
    "#1) females + males\n",
    "#2) child + adult + teen\n",
    "#3) killed+injured+unharmed+arrested\n",
    "\n",
    "#Nel caso in cui n_participants sia almeno uguale ad una delle altre somme => lascia uguale.\n",
    "df['substitute_values'] = df['n_females'] + df['n_males']\n",
    "\n",
    "# Define the condition for substitution\n",
    "condition = (\n",
    "    ((df['n_females'] + df['n_males']) == (df['n_participants_teen'] + df['n_participants_child'] + df['n_participants_adult'])) &\n",
    "    (df['n_participants'] != (df['n_females'] + df['n_males'])) \n",
    ")\n",
    "\n",
    "# Update the \"n_participants\" column with the calculated values where the condition is met\n",
    "df.loc[condition, 'n_participants'] = df.loc[condition, 'substitute_values']\n",
    "\n",
    "# Drop the temporary \"substitute_values\" column if needed\n",
    "df.drop(columns='substitute_values', inplace=True)\n",
    "\n",
    "df[condition][[\"n_participants\",\"n_males\",\"n_females\", \"n_participants_teen\", \"n_participants_child\", \"n_participants_adult\"]]"
   ]
  },
  {
   "cell_type": "code",
   "execution_count": 310,
   "metadata": {},
   "outputs": [
    {
     "name": "stdout",
     "output_type": "stream",
     "text": [
      "Number of male e female != child + teen + adult:  13363\n",
      "Same condition as before but with n participants == female + male: 8649\n",
      "Same condition as before but with n participants == child + teen + adult: 4202\n",
      "Same condition as before but with n participants != child + teen + adult and != n_males + n_females: 512\n"
     ]
    }
   ],
   "source": [
    "df['n_participants_gender'] = df['n_females'] + df['n_males']\n",
    "df['n_participants_age'] = df['n_participants_teen'] + df['n_participants_child'] + df['n_participants_adult']\n",
    "\n",
    "# null values can be ambiguous, we ignore them for now\n",
    "df['n_participants_gender'] = df[df['n_participants_gender'].notna()]['n_participants_gender']\n",
    "df['n_participants_age'] = df[df['n_participants_age'].notna()]['n_participants_age']\n",
    "\n",
    "\n",
    "condition = (\n",
    "    ((df['n_participants_gender']) != (df['n_participants_age']))   \n",
    ")\n",
    "\n",
    "print(f\"Number of male e female != child + teen + adult:  {len(df[condition])}\")\n",
    "\n",
    "condition1 = condition & ((df['n_participants'] == (df['n_participants_gender'])))\n",
    "\n",
    "print(f\"Same condition as before but with n participants == female + male: {len(df[condition1])}\")\n",
    "\n",
    "condition2 = condition & ((df['n_participants'] == (df['n_participants_age'])) )\n",
    "\n",
    "print(f\"Same condition as before but with n participants == child + teen + adult: {len(df[condition2])}\")\n",
    "\n",
    "condition3 = condition & (((df['n_participants'] != df['n_participants_gender']) & (df['n_participants'] != df['n_participants_age'])))\n",
    "                          \n",
    "print(f\"Same condition as before but with n participants != child + teen + adult and != n_males + n_females: {len(df[condition3])}\")\n"
   ]
  },
  {
   "cell_type": "code",
   "execution_count": 311,
   "metadata": {},
   "outputs": [],
   "source": [
    "df.loc[condition3, [\"n_participants_child\",\"n_participants_teen\", \"n_participants_adult\", \"n_males\", \"n_females\",\"n_participants_age\",\"n_participants_gender\"]] = np.nan\n",
    "df.loc[condition2, [\"n_males\",\"n_females\",\"n_participants_gender\"]] = np.nan\n",
    "df.loc[condition1, [\"n_participants_child\",\"n_participants_teen\", \"n_participants_adult\",\"n_participants_age\"]] = np.nan\n",
    "df.loc[df[\"n_participants_age\"] != df[\"n_participants\"],[\"n_participants_child\",\"n_participants_teen\", \"n_participants_adult\",\"n_participants_age\"]] = np.nan\n",
    "df.loc[df[\"n_participants_gender\"] != df[\"n_participants\"],[\"n_males\",\"n_females\", \"n_participants_gender\"]] = np.nan\n",
    "\n",
    "df.drop(columns=['n_participants_age', 'n_participants_gender'], inplace=True)\n"
   ]
  },
  {
   "cell_type": "code",
   "execution_count": 312,
   "metadata": {},
   "outputs": [
    {
     "name": "stdout",
     "output_type": "stream",
     "text": [
      "<class 'pandas.core.frame.DataFrame'>\n",
      "RangeIndex: 197925 entries, 0 to 197924\n",
      "Data columns (total 5 columns):\n",
      " #   Column                Non-Null Count   Dtype\n",
      "---  ------                --------------   -----\n",
      " 0   n_participants_child  172824 non-null  Int64\n",
      " 1   n_participants_teen   172824 non-null  Int64\n",
      " 2   n_participants_adult  172824 non-null  Int64\n",
      " 3   n_males               181641 non-null  Int64\n",
      " 4   n_females             181641 non-null  Int64\n",
      "dtypes: Int64(5)\n",
      "memory usage: 8.5 MB\n"
     ]
    }
   ],
   "source": [
    "df[[\"n_participants_child\",\"n_participants_teen\", \"n_participants_adult\", \"n_males\", \"n_females\"]].info()"
   ]
  },
  {
   "cell_type": "code",
   "execution_count": 313,
   "metadata": {},
   "outputs": [
    {
     "data": {
      "text/html": [
       "<div>\n",
       "<style scoped>\n",
       "    .dataframe tbody tr th:only-of-type {\n",
       "        vertical-align: middle;\n",
       "    }\n",
       "\n",
       "    .dataframe tbody tr th {\n",
       "        vertical-align: top;\n",
       "    }\n",
       "\n",
       "    .dataframe thead th {\n",
       "        text-align: right;\n",
       "    }\n",
       "</style>\n",
       "<table border=\"1\" class=\"dataframe\">\n",
       "  <thead>\n",
       "    <tr style=\"text-align: right;\">\n",
       "      <th></th>\n",
       "      <th>n_participants</th>\n",
       "      <th>n_males</th>\n",
       "      <th>n_females</th>\n",
       "      <th>n_participants_teen</th>\n",
       "      <th>n_participants_child</th>\n",
       "      <th>n_participants_adult</th>\n",
       "    </tr>\n",
       "  </thead>\n",
       "  <tbody>\n",
       "    <tr>\n",
       "      <th>197881</th>\n",
       "      <td>17</td>\n",
       "      <td>&lt;NA&gt;</td>\n",
       "      <td>&lt;NA&gt;</td>\n",
       "      <td>0</td>\n",
       "      <td>0</td>\n",
       "      <td>17</td>\n",
       "    </tr>\n",
       "    <tr>\n",
       "      <th>197882</th>\n",
       "      <td>17</td>\n",
       "      <td>13</td>\n",
       "      <td>4</td>\n",
       "      <td>&lt;NA&gt;</td>\n",
       "      <td>&lt;NA&gt;</td>\n",
       "      <td>&lt;NA&gt;</td>\n",
       "    </tr>\n",
       "    <tr>\n",
       "      <th>197883</th>\n",
       "      <td>17</td>\n",
       "      <td>11</td>\n",
       "      <td>6</td>\n",
       "      <td>&lt;NA&gt;</td>\n",
       "      <td>&lt;NA&gt;</td>\n",
       "      <td>&lt;NA&gt;</td>\n",
       "    </tr>\n",
       "    <tr>\n",
       "      <th>197884</th>\n",
       "      <td>17</td>\n",
       "      <td>&lt;NA&gt;</td>\n",
       "      <td>&lt;NA&gt;</td>\n",
       "      <td>&lt;NA&gt;</td>\n",
       "      <td>&lt;NA&gt;</td>\n",
       "      <td>&lt;NA&gt;</td>\n",
       "    </tr>\n",
       "    <tr>\n",
       "      <th>197885</th>\n",
       "      <td>17</td>\n",
       "      <td>16</td>\n",
       "      <td>1</td>\n",
       "      <td>0</td>\n",
       "      <td>1</td>\n",
       "      <td>16</td>\n",
       "    </tr>\n",
       "    <tr>\n",
       "      <th>197886</th>\n",
       "      <td>17</td>\n",
       "      <td>&lt;NA&gt;</td>\n",
       "      <td>&lt;NA&gt;</td>\n",
       "      <td>&lt;NA&gt;</td>\n",
       "      <td>&lt;NA&gt;</td>\n",
       "      <td>&lt;NA&gt;</td>\n",
       "    </tr>\n",
       "    <tr>\n",
       "      <th>197887</th>\n",
       "      <td>17</td>\n",
       "      <td>10</td>\n",
       "      <td>7</td>\n",
       "      <td>0</td>\n",
       "      <td>0</td>\n",
       "      <td>17</td>\n",
       "    </tr>\n",
       "  </tbody>\n",
       "</table>\n",
       "</div>"
      ],
      "text/plain": [
       "        n_participants  n_males  n_females  n_participants_teen  \\\n",
       "197881              17     <NA>       <NA>                    0   \n",
       "197882              17       13          4                 <NA>   \n",
       "197883              17       11          6                 <NA>   \n",
       "197884              17     <NA>       <NA>                 <NA>   \n",
       "197885              17       16          1                    0   \n",
       "197886              17     <NA>       <NA>                 <NA>   \n",
       "197887              17       10          7                    0   \n",
       "\n",
       "        n_participants_child  n_participants_adult  \n",
       "197881                     0                    17  \n",
       "197882                  <NA>                  <NA>  \n",
       "197883                  <NA>                  <NA>  \n",
       "197884                  <NA>                  <NA>  \n",
       "197885                     1                    16  \n",
       "197886                  <NA>                  <NA>  \n",
       "197887                     0                    17  "
      ]
     },
     "execution_count": 313,
     "metadata": {},
     "output_type": "execute_result"
    }
   ],
   "source": [
    "df[df[\"n_participants\"] == 17][[\"n_participants\",\"n_males\",\"n_females\",'n_participants_teen','n_participants_child','n_participants_adult']]\n"
   ]
  },
  {
   "cell_type": "code",
   "execution_count": 314,
   "metadata": {},
   "outputs": [],
   "source": [
    "#putting in males the first element from males_females\n",
    "group_by = df.groupby(\"n_participants\",group_keys=False)\n",
    "for name, group in group_by:\n",
    "    males_mean = group[\"n_males\"].mean()\n",
    "    females_mean = group[\"n_females\"].mean()\n",
    "    participants_child_mean = group[\"n_participants_child\"].mean()\n",
    "    participants_teen_mean = group[\"n_participants_teen\"].mean()\n",
    "    participants_adult_mean = group[\"n_participants_adult\"].mean()\n",
    "\n",
    "    if (pd.notna(males_mean) and pd.notna(females_mean)):\n",
    "        df.loc[(df[\"n_males\"].isna()) & (df[\"n_participants\"] == name),\"n_males\"] = np.round(males_mean,0)\n",
    "        df.loc[(df[\"n_females\"].isna()) & (df[\"n_participants\"] == name),\"n_females\"] = np.round(females_mean,0)\n",
    "\n",
    "    if (pd.notna(participants_child_mean) and pd.notna(participants_teen_mean) and pd.notna(participants_adult_mean)):\n",
    "        df.loc[(df[\"n_participants_child\"].isna()) & (df[\"n_participants\"] == name),\"n_participants_child\"] = np.round(participants_child_mean,0)\n",
    "        df.loc[(df[\"n_participants_teen\"].isna()) & (df[\"n_participants\"] == name),\"n_participants_teen\"] = np.round(participants_teen_mean,0)\n",
    "        df.loc[(df[\"n_participants_adult\"].isna()) & (df[\"n_participants\"] == name),\"n_participants_adult\"] = np.round(participants_adult_mean,0)\n"
   ]
  },
  {
   "cell_type": "code",
   "execution_count": 315,
   "metadata": {},
   "outputs": [
    {
     "data": {
      "text/html": [
       "<div>\n",
       "<style scoped>\n",
       "    .dataframe tbody tr th:only-of-type {\n",
       "        vertical-align: middle;\n",
       "    }\n",
       "\n",
       "    .dataframe tbody tr th {\n",
       "        vertical-align: top;\n",
       "    }\n",
       "\n",
       "    .dataframe thead th {\n",
       "        text-align: right;\n",
       "    }\n",
       "</style>\n",
       "<table border=\"1\" class=\"dataframe\">\n",
       "  <thead>\n",
       "    <tr style=\"text-align: right;\">\n",
       "      <th></th>\n",
       "      <th>n_participants</th>\n",
       "      <th>n_males</th>\n",
       "      <th>n_females</th>\n",
       "      <th>n_participants_teen</th>\n",
       "      <th>n_participants_child</th>\n",
       "      <th>n_participants_adult</th>\n",
       "    </tr>\n",
       "  </thead>\n",
       "  <tbody>\n",
       "    <tr>\n",
       "      <th>197881</th>\n",
       "      <td>17</td>\n",
       "      <td>12</td>\n",
       "      <td>4</td>\n",
       "      <td>0</td>\n",
       "      <td>0</td>\n",
       "      <td>17</td>\n",
       "    </tr>\n",
       "    <tr>\n",
       "      <th>197882</th>\n",
       "      <td>17</td>\n",
       "      <td>13</td>\n",
       "      <td>4</td>\n",
       "      <td>0</td>\n",
       "      <td>0</td>\n",
       "      <td>17</td>\n",
       "    </tr>\n",
       "    <tr>\n",
       "      <th>197883</th>\n",
       "      <td>17</td>\n",
       "      <td>11</td>\n",
       "      <td>6</td>\n",
       "      <td>0</td>\n",
       "      <td>0</td>\n",
       "      <td>17</td>\n",
       "    </tr>\n",
       "    <tr>\n",
       "      <th>197884</th>\n",
       "      <td>17</td>\n",
       "      <td>12</td>\n",
       "      <td>4</td>\n",
       "      <td>0</td>\n",
       "      <td>0</td>\n",
       "      <td>17</td>\n",
       "    </tr>\n",
       "    <tr>\n",
       "      <th>197885</th>\n",
       "      <td>17</td>\n",
       "      <td>16</td>\n",
       "      <td>1</td>\n",
       "      <td>0</td>\n",
       "      <td>1</td>\n",
       "      <td>16</td>\n",
       "    </tr>\n",
       "    <tr>\n",
       "      <th>197886</th>\n",
       "      <td>17</td>\n",
       "      <td>12</td>\n",
       "      <td>4</td>\n",
       "      <td>0</td>\n",
       "      <td>0</td>\n",
       "      <td>17</td>\n",
       "    </tr>\n",
       "    <tr>\n",
       "      <th>197887</th>\n",
       "      <td>17</td>\n",
       "      <td>10</td>\n",
       "      <td>7</td>\n",
       "      <td>0</td>\n",
       "      <td>0</td>\n",
       "      <td>17</td>\n",
       "    </tr>\n",
       "  </tbody>\n",
       "</table>\n",
       "</div>"
      ],
      "text/plain": [
       "        n_participants  n_males  n_females  n_participants_teen  \\\n",
       "197881              17       12          4                    0   \n",
       "197882              17       13          4                    0   \n",
       "197883              17       11          6                    0   \n",
       "197884              17       12          4                    0   \n",
       "197885              17       16          1                    0   \n",
       "197886              17       12          4                    0   \n",
       "197887              17       10          7                    0   \n",
       "\n",
       "        n_participants_child  n_participants_adult  \n",
       "197881                     0                    17  \n",
       "197882                     0                    17  \n",
       "197883                     0                    17  \n",
       "197884                     0                    17  \n",
       "197885                     1                    16  \n",
       "197886                     0                    17  \n",
       "197887                     0                    17  "
      ]
     },
     "execution_count": 315,
     "metadata": {},
     "output_type": "execute_result"
    }
   ],
   "source": [
    "df[df[\"n_participants\"] == 17][[\"n_participants\",\"n_males\",\"n_females\",'n_participants_teen','n_participants_child','n_participants_adult']]\n"
   ]
  },
  {
   "cell_type": "code",
   "execution_count": 316,
   "metadata": {},
   "outputs": [
    {
     "name": "stdout",
     "output_type": "stream",
     "text": [
      "<class 'pandas.core.frame.DataFrame'>\n",
      "RangeIndex: 197925 entries, 0 to 197924\n",
      "Data columns (total 5 columns):\n",
      " #   Column                Non-Null Count   Dtype\n",
      "---  ------                --------------   -----\n",
      " 0   n_participants_child  197922 non-null  Int64\n",
      " 1   n_participants_teen   197922 non-null  Int64\n",
      " 2   n_participants_adult  197922 non-null  Int64\n",
      " 3   n_males               197917 non-null  Int64\n",
      " 4   n_females             197917 non-null  Int64\n",
      "dtypes: Int64(5)\n",
      "memory usage: 8.5 MB\n"
     ]
    }
   ],
   "source": [
    "df[[\"n_participants_child\",\"n_participants_teen\", \"n_participants_adult\", \"n_males\", \"n_females\"]].info()"
   ]
  },
  {
   "cell_type": "markdown",
   "metadata": {},
   "source": [
    "All the data in which we can't reconstruct the mean were few (only 8) and for this reason were dropped"
   ]
  },
  {
   "cell_type": "code",
   "execution_count": 317,
   "metadata": {},
   "outputs": [
    {
     "data": {
      "text/html": [
       "<div>\n",
       "<style scoped>\n",
       "    .dataframe tbody tr th:only-of-type {\n",
       "        vertical-align: middle;\n",
       "    }\n",
       "\n",
       "    .dataframe tbody tr th {\n",
       "        vertical-align: top;\n",
       "    }\n",
       "\n",
       "    .dataframe thead th {\n",
       "        text-align: right;\n",
       "    }\n",
       "</style>\n",
       "<table border=\"1\" class=\"dataframe\">\n",
       "  <thead>\n",
       "    <tr style=\"text-align: right;\">\n",
       "      <th></th>\n",
       "      <th>n_participants</th>\n",
       "      <th>n_males</th>\n",
       "      <th>n_females</th>\n",
       "      <th>n_participants_teen</th>\n",
       "      <th>n_participants_child</th>\n",
       "      <th>n_participants_adult</th>\n",
       "    </tr>\n",
       "  </thead>\n",
       "  <tbody>\n",
       "    <tr>\n",
       "      <th>197907</th>\n",
       "      <td>24</td>\n",
       "      <td>&lt;NA&gt;</td>\n",
       "      <td>&lt;NA&gt;</td>\n",
       "      <td>0</td>\n",
       "      <td>0</td>\n",
       "      <td>24</td>\n",
       "    </tr>\n",
       "    <tr>\n",
       "      <th>197909</th>\n",
       "      <td>24</td>\n",
       "      <td>&lt;NA&gt;</td>\n",
       "      <td>&lt;NA&gt;</td>\n",
       "      <td>0</td>\n",
       "      <td>0</td>\n",
       "      <td>24</td>\n",
       "    </tr>\n",
       "    <tr>\n",
       "      <th>197910</th>\n",
       "      <td>24</td>\n",
       "      <td>&lt;NA&gt;</td>\n",
       "      <td>&lt;NA&gt;</td>\n",
       "      <td>0</td>\n",
       "      <td>0</td>\n",
       "      <td>24</td>\n",
       "    </tr>\n",
       "    <tr>\n",
       "      <th>197916</th>\n",
       "      <td>30</td>\n",
       "      <td>&lt;NA&gt;</td>\n",
       "      <td>&lt;NA&gt;</td>\n",
       "      <td>0</td>\n",
       "      <td>0</td>\n",
       "      <td>30</td>\n",
       "    </tr>\n",
       "    <tr>\n",
       "      <th>197920</th>\n",
       "      <td>37</td>\n",
       "      <td>&lt;NA&gt;</td>\n",
       "      <td>&lt;NA&gt;</td>\n",
       "      <td>&lt;NA&gt;</td>\n",
       "      <td>&lt;NA&gt;</td>\n",
       "      <td>&lt;NA&gt;</td>\n",
       "    </tr>\n",
       "    <tr>\n",
       "      <th>197921</th>\n",
       "      <td>47</td>\n",
       "      <td>&lt;NA&gt;</td>\n",
       "      <td>&lt;NA&gt;</td>\n",
       "      <td>&lt;NA&gt;</td>\n",
       "      <td>&lt;NA&gt;</td>\n",
       "      <td>&lt;NA&gt;</td>\n",
       "    </tr>\n",
       "    <tr>\n",
       "      <th>197922</th>\n",
       "      <td>52</td>\n",
       "      <td>&lt;NA&gt;</td>\n",
       "      <td>&lt;NA&gt;</td>\n",
       "      <td>&lt;NA&gt;</td>\n",
       "      <td>&lt;NA&gt;</td>\n",
       "      <td>&lt;NA&gt;</td>\n",
       "    </tr>\n",
       "    <tr>\n",
       "      <th>197924</th>\n",
       "      <td>103</td>\n",
       "      <td>&lt;NA&gt;</td>\n",
       "      <td>&lt;NA&gt;</td>\n",
       "      <td>0</td>\n",
       "      <td>0</td>\n",
       "      <td>103</td>\n",
       "    </tr>\n",
       "  </tbody>\n",
       "</table>\n",
       "</div>"
      ],
      "text/plain": [
       "        n_participants  n_males  n_females  n_participants_teen  \\\n",
       "197907              24     <NA>       <NA>                    0   \n",
       "197909              24     <NA>       <NA>                    0   \n",
       "197910              24     <NA>       <NA>                    0   \n",
       "197916              30     <NA>       <NA>                    0   \n",
       "197920              37     <NA>       <NA>                 <NA>   \n",
       "197921              47     <NA>       <NA>                 <NA>   \n",
       "197922              52     <NA>       <NA>                 <NA>   \n",
       "197924             103     <NA>       <NA>                    0   \n",
       "\n",
       "        n_participants_child  n_participants_adult  \n",
       "197907                     0                    24  \n",
       "197909                     0                    24  \n",
       "197910                     0                    24  \n",
       "197916                     0                    30  \n",
       "197920                  <NA>                  <NA>  \n",
       "197921                  <NA>                  <NA>  \n",
       "197922                  <NA>                  <NA>  \n",
       "197924                     0                   103  "
      ]
     },
     "execution_count": 317,
     "metadata": {},
     "output_type": "execute_result"
    }
   ],
   "source": [
    "df[(df[\"n_males\"].isna() & df[\"n_females\"].isna()) | (df['n_participants_teen'].isna() & df['n_participants_child'].isna() & df['n_participants_adult'].isna())][[\"n_participants\",\"n_males\",\"n_females\",'n_participants_teen','n_participants_child','n_participants_adult']]"
   ]
  },
  {
   "cell_type": "code",
   "execution_count": 318,
   "metadata": {},
   "outputs": [],
   "source": [
    "df = df[~((df[\"n_males\"].isna() & df[\"n_females\"].isna()) | (df['n_participants_teen'].isna() & df['n_participants_child'].isna() & df['n_participants_adult'].isna()))]"
   ]
  },
  {
   "cell_type": "markdown",
   "metadata": {},
   "source": [
    "The rounded mean missed only for few other records (3) that for now we decided to drop them. "
   ]
  },
  {
   "cell_type": "code",
   "execution_count": 319,
   "metadata": {},
   "outputs": [
    {
     "name": "stdout",
     "output_type": "stream",
     "text": [
      "Number of male e female != child + teen + adult:  3\n"
     ]
    }
   ],
   "source": [
    "condition = (\n",
    "    ((df['n_females'] + df['n_males']) != (df['n_participants_teen'] + df['n_participants_child'] + df['n_participants_adult']))   \n",
    ")\n",
    "\n",
    "print(f\"Number of male e female != child + teen + adult:  {len(df[condition])}\")"
   ]
  },
  {
   "cell_type": "code",
   "execution_count": 320,
   "metadata": {},
   "outputs": [
    {
     "data": {
      "text/html": [
       "<div>\n",
       "<style scoped>\n",
       "    .dataframe tbody tr th:only-of-type {\n",
       "        vertical-align: middle;\n",
       "    }\n",
       "\n",
       "    .dataframe tbody tr th {\n",
       "        vertical-align: top;\n",
       "    }\n",
       "\n",
       "    .dataframe thead th {\n",
       "        text-align: right;\n",
       "    }\n",
       "</style>\n",
       "<table border=\"1\" class=\"dataframe\">\n",
       "  <thead>\n",
       "    <tr style=\"text-align: right;\">\n",
       "      <th></th>\n",
       "      <th>n_participants</th>\n",
       "      <th>n_participants_child</th>\n",
       "      <th>n_participants_teen</th>\n",
       "      <th>n_participants_adult</th>\n",
       "      <th>n_males</th>\n",
       "      <th>n_females</th>\n",
       "    </tr>\n",
       "  </thead>\n",
       "  <tbody>\n",
       "    <tr>\n",
       "      <th>197881</th>\n",
       "      <td>17</td>\n",
       "      <td>0</td>\n",
       "      <td>0</td>\n",
       "      <td>17</td>\n",
       "      <td>12</td>\n",
       "      <td>4</td>\n",
       "    </tr>\n",
       "    <tr>\n",
       "      <th>197884</th>\n",
       "      <td>17</td>\n",
       "      <td>0</td>\n",
       "      <td>0</td>\n",
       "      <td>17</td>\n",
       "      <td>12</td>\n",
       "      <td>4</td>\n",
       "    </tr>\n",
       "    <tr>\n",
       "      <th>197886</th>\n",
       "      <td>17</td>\n",
       "      <td>0</td>\n",
       "      <td>0</td>\n",
       "      <td>17</td>\n",
       "      <td>12</td>\n",
       "      <td>4</td>\n",
       "    </tr>\n",
       "  </tbody>\n",
       "</table>\n",
       "</div>"
      ],
      "text/plain": [
       "        n_participants  n_participants_child  n_participants_teen  \\\n",
       "197881              17                     0                    0   \n",
       "197884              17                     0                    0   \n",
       "197886              17                     0                    0   \n",
       "\n",
       "        n_participants_adult  n_males  n_females  \n",
       "197881                    17       12          4  \n",
       "197884                    17       12          4  \n",
       "197886                    17       12          4  "
      ]
     },
     "execution_count": 320,
     "metadata": {},
     "output_type": "execute_result"
    }
   ],
   "source": [
    "df.loc[condition, [\"n_participants\",\"n_participants_child\",\"n_participants_teen\", \"n_participants_adult\", \"n_males\", \"n_females\"]]"
   ]
  },
  {
   "cell_type": "code",
   "execution_count": 321,
   "metadata": {},
   "outputs": [],
   "source": [
    "df = df[~condition]"
   ]
  },
  {
   "cell_type": "markdown",
   "metadata": {},
   "source": [
    "# Incident characteristics 1"
   ]
  },
  {
   "cell_type": "code",
   "execution_count": 322,
   "metadata": {},
   "outputs": [
    {
     "name": "stdout",
     "output_type": "stream",
     "text": [
      "<class 'pandas.core.series.Series'>\n",
      "Index: 197914 entries, 0 to 197923\n",
      "Series name: incident_characteristics1\n",
      "Non-Null Count   Dtype \n",
      "--------------   ----- \n",
      "197641 non-null  string\n",
      "dtypes: string(1)\n",
      "memory usage: 3.0 MB\n"
     ]
    }
   ],
   "source": [
    "df['incident_characteristics1'].info()"
   ]
  },
  {
   "cell_type": "code",
   "execution_count": 323,
   "metadata": {},
   "outputs": [
    {
     "data": {
      "text/plain": [
       "468       <NA>\n",
       "607       <NA>\n",
       "1019      <NA>\n",
       "1144      <NA>\n",
       "1729      <NA>\n",
       "          ... \n",
       "195339    <NA>\n",
       "195366    <NA>\n",
       "196294    <NA>\n",
       "197693    <NA>\n",
       "197885    <NA>\n",
       "Name: incident_characteristics1, Length: 273, dtype: string"
      ]
     },
     "execution_count": 323,
     "metadata": {},
     "output_type": "execute_result"
    }
   ],
   "source": [
    "df[df['incident_characteristics1'].isna()]['incident_characteristics1']"
   ]
  },
  {
   "cell_type": "code",
   "execution_count": 324,
   "metadata": {},
   "outputs": [],
   "source": [
    "df['incident_characteristics1'] = df['incident_characteristics1'].fillna(df['incident_characteristics1'].mode()[0]) #?"
   ]
  },
  {
   "cell_type": "code",
   "execution_count": 325,
   "metadata": {},
   "outputs": [
    {
     "data": {
      "text/plain": [
       "incident_characteristics1\n",
       "Shot - Wounded/Injured                                                                                  77433\n",
       "Shot - Dead (murder, accidental, suicide)                                                               38819\n",
       "Non-Shooting Incident                                                                                   35675\n",
       "Shots Fired - No Injuries                                                                               28708\n",
       "Institution/Group/Business                                                                               3696\n",
       "Armed robbery with injury/death and/or evidence of DGU found                                             3224\n",
       "TSA Action                                                                                               2457\n",
       "Possession (gun(s) found during commission of other crimes)                                              1030\n",
       "Brandishing/flourishing/open carry/lost/found                                                             976\n",
       "Shots fired, no action (reported, no evidence found)                                                      875\n",
       "Drug involvement                                                                                          831\n",
       "Home Invasion                                                                                             800\n",
       "Gun(s) stolen from owner                                                                                  669\n",
       "Officer Involved Incident                                                                                 487\n",
       "ATF/LE Confiscation/Raid/Arrest                                                                           345\n",
       "Animal shot/killed                                                                                        271\n",
       "Car-jacking                                                                                               240\n",
       "Accidental Shooting                                                                                       179\n",
       "Domestic Violence                                                                                         176\n",
       "Gang involvement                                                                                          157\n",
       "School Incident                                                                                            93\n",
       "Kidnapping/abductions/hostage                                                                              76\n",
       "Drive-by (car to street, car to car)                                                                       68\n",
       "Sex crime involving firearm                                                                                67\n",
       "Pistol-whipping                                                                                            67\n",
       "Possession of gun by felon or prohibited person                                                            59\n",
       "Gun buy back action                                                                                        58\n",
       "Suicide - Attempt                                                                                          51\n",
       "Implied Weapon                                                                                             45\n",
       "Non-Aggression Incident                                                                                    43\n",
       "Defensive Use                                                                                              37\n",
       "Suicide^                                                                                                   29\n",
       "Criminal act with stolen gun                                                                               24\n",
       "Gun at school, no death/injury - elementary/secondary school                                               21\n",
       "Bar/club incident - in or around establishment                                                             19\n",
       "Road rage                                                                                                  18\n",
       "Murder/Suicide                                                                                             16\n",
       "LOCKDOWN/ALERT ONLY: No GV Incident Occurred Onsite                                                        13\n",
       "Guns stolen from law enforcement                                                                           10\n",
       "Stolen/Illegally owned gun{s} recovered during arrest/warrant                                               8\n",
       "Attempted Murder/Suicide (one variable unsuccessful)                                                        7\n",
       "Under the influence of alcohol or drugs (only applies to the subject/suspect/perpetrator )                  6\n",
       "BB/Pellet/Replica gun                                                                                       6\n",
       "ShotSpotter                                                                                                 5\n",
       "Gun shop robbery or burglary                                                                                5\n",
       "Child Involved Incident                                                                                     4\n",
       "Hate crime                                                                                                  3\n",
       "Spree Shooting (multiple victims, multiple locations)                                                       3\n",
       "House party                                                                                                 2\n",
       "Unlawful purchase/sale                                                                                      1\n",
       "Gun range/gun shop/gun show shooting                                                                        1\n",
       "Mass Shooting (4+ victims injured or killed excluding the subject/suspect/perpetrator, one location)        1\n",
       "Name: count, dtype: Int64"
      ]
     },
     "execution_count": 325,
     "metadata": {},
     "output_type": "execute_result"
    }
   ],
   "source": [
    "df['incident_characteristics1'].value_counts(dropna=True)"
   ]
  },
  {
   "cell_type": "markdown",
   "metadata": {},
   "source": [
    "# Incident characteristics 2"
   ]
  },
  {
   "cell_type": "code",
   "execution_count": 326,
   "metadata": {},
   "outputs": [
    {
     "name": "stdout",
     "output_type": "stream",
     "text": [
      "<class 'pandas.core.series.Series'>\n",
      "Index: 197914 entries, 0 to 197923\n",
      "Series name: incident_characteristics2\n",
      "Non-Null Count   Dtype \n",
      "--------------   ----- \n",
      "118425 non-null  string\n",
      "dtypes: string(1)\n",
      "memory usage: 3.0 MB\n"
     ]
    }
   ],
   "source": [
    "df['incident_characteristics2'].info()"
   ]
  },
  {
   "cell_type": "code",
   "execution_count": 327,
   "metadata": {},
   "outputs": [
    {
     "name": "stdout",
     "output_type": "stream",
     "text": [
      " percentage of null values: 0.40163404306921185\n"
     ]
    }
   ],
   "source": [
    "print(f\" percentage of null values: {df['incident_characteristics2'].isna().sum() / len(df['incident_characteristics2'])}\")"
   ]
  },
  {
   "cell_type": "code",
   "execution_count": 328,
   "metadata": {},
   "outputs": [
    {
     "data": {
      "text/plain": [
       "incident_characteristics1  incident_characteristics2                                   \n",
       "Shot - Wounded/Injured     <NA>                                                            38565\n",
       "                           Shot - Dead (murder, accidental, suicide)                        7108\n",
       "                           Drive-by (car to street, car to car)                             5866\n",
       "                           Accidental Shooting                                              3209\n",
       "                           Armed robbery with injury/death and/or evidence of DGU found     3011\n",
       "Name: count, dtype: int64"
      ]
     },
     "execution_count": 328,
     "metadata": {},
     "output_type": "execute_result"
    }
   ],
   "source": [
    "df[df['incident_characteristics1'] == \"Shot - Wounded/Injured\" ][['incident_characteristics1','incident_characteristics2']].value_counts(dropna=False).head()"
   ]
  },
  {
   "cell_type": "markdown",
   "metadata": {},
   "source": [
    "For now, since incident_characteristics2 has 40% of missing values and add only further details that we consider useless for our analysis, we decided to drop it. "
   ]
  },
  {
   "cell_type": "code",
   "execution_count": 329,
   "metadata": {},
   "outputs": [],
   "source": [
    "df.drop(columns=['incident_characteristics2'], inplace=True)"
   ]
  },
  {
   "cell_type": "markdown",
   "metadata": {},
   "source": [
    "# Correlation Matrix Analysis"
   ]
  },
  {
   "cell_type": "code",
   "execution_count": 330,
   "metadata": {},
   "outputs": [
    {
     "data": {
      "text/html": [
       "<div>\n",
       "<style scoped>\n",
       "    .dataframe tbody tr th:only-of-type {\n",
       "        vertical-align: middle;\n",
       "    }\n",
       "\n",
       "    .dataframe tbody tr th {\n",
       "        vertical-align: top;\n",
       "    }\n",
       "\n",
       "    .dataframe thead th {\n",
       "        text-align: right;\n",
       "    }\n",
       "</style>\n",
       "<table border=\"1\" class=\"dataframe\">\n",
       "  <thead>\n",
       "    <tr style=\"text-align: right;\">\n",
       "      <th></th>\n",
       "      <th>participant_age1</th>\n",
       "      <th>min_age_participants</th>\n",
       "      <th>avg_age_participants</th>\n",
       "      <th>max_age_participants</th>\n",
       "      <th>n_participants_child</th>\n",
       "      <th>n_participants_teen</th>\n",
       "      <th>n_participants_adult</th>\n",
       "      <th>n_males</th>\n",
       "      <th>n_females</th>\n",
       "      <th>n_killed</th>\n",
       "      <th>n_injured</th>\n",
       "      <th>n_arrested</th>\n",
       "      <th>n_unharmed</th>\n",
       "      <th>n_participants</th>\n",
       "      <th>povertyPercentage</th>\n",
       "    </tr>\n",
       "  </thead>\n",
       "  <tbody>\n",
       "    <tr>\n",
       "      <th>participant_age1</th>\n",
       "      <td>1.000000</td>\n",
       "      <td>0.878260</td>\n",
       "      <td>0.945387</td>\n",
       "      <td>0.926643</td>\n",
       "      <td>-0.177334</td>\n",
       "      <td>-0.256170</td>\n",
       "      <td>0.109591</td>\n",
       "      <td>-0.065534</td>\n",
       "      <td>0.067696</td>\n",
       "      <td>0.146681</td>\n",
       "      <td>-0.122233</td>\n",
       "      <td>-0.025916</td>\n",
       "      <td>-0.008665</td>\n",
       "      <td>-0.029498</td>\n",
       "      <td>0.033266</td>\n",
       "    </tr>\n",
       "    <tr>\n",
       "      <th>min_age_participants</th>\n",
       "      <td>0.878260</td>\n",
       "      <td>1.000000</td>\n",
       "      <td>0.951506</td>\n",
       "      <td>0.812162</td>\n",
       "      <td>-0.226368</td>\n",
       "      <td>-0.302624</td>\n",
       "      <td>-0.019999</td>\n",
       "      <td>-0.193070</td>\n",
       "      <td>-0.018982</td>\n",
       "      <td>0.061702</td>\n",
       "      <td>-0.152522</td>\n",
       "      <td>-0.108885</td>\n",
       "      <td>-0.045980</td>\n",
       "      <td>-0.183312</td>\n",
       "      <td>0.013536</td>\n",
       "    </tr>\n",
       "    <tr>\n",
       "      <th>avg_age_participants</th>\n",
       "      <td>0.945387</td>\n",
       "      <td>0.951506</td>\n",
       "      <td>1.000000</td>\n",
       "      <td>0.948623</td>\n",
       "      <td>-0.175819</td>\n",
       "      <td>-0.286476</td>\n",
       "      <td>0.087156</td>\n",
       "      <td>-0.100377</td>\n",
       "      <td>0.061805</td>\n",
       "      <td>0.136316</td>\n",
       "      <td>-0.121642</td>\n",
       "      <td>-0.053004</td>\n",
       "      <td>-0.020807</td>\n",
       "      <td>-0.063669</td>\n",
       "      <td>0.030005</td>\n",
       "    </tr>\n",
       "    <tr>\n",
       "      <th>max_age_participants</th>\n",
       "      <td>0.926643</td>\n",
       "      <td>0.812162</td>\n",
       "      <td>0.948623</td>\n",
       "      <td>1.000000</td>\n",
       "      <td>-0.110643</td>\n",
       "      <td>-0.232381</td>\n",
       "      <td>0.196619</td>\n",
       "      <td>0.015735</td>\n",
       "      <td>0.140880</td>\n",
       "      <td>0.196964</td>\n",
       "      <td>-0.076305</td>\n",
       "      <td>0.021600</td>\n",
       "      <td>0.009898</td>\n",
       "      <td>0.076438</td>\n",
       "      <td>0.043061</td>\n",
       "    </tr>\n",
       "    <tr>\n",
       "      <th>n_participants_child</th>\n",
       "      <td>-0.177334</td>\n",
       "      <td>-0.226368</td>\n",
       "      <td>-0.175819</td>\n",
       "      <td>-0.110643</td>\n",
       "      <td>1.000000</td>\n",
       "      <td>0.011838</td>\n",
       "      <td>-0.015817</td>\n",
       "      <td>0.081763</td>\n",
       "      <td>0.140637</td>\n",
       "      <td>0.062697</td>\n",
       "      <td>0.052604</td>\n",
       "      <td>-0.012359</td>\n",
       "      <td>0.107527</td>\n",
       "      <td>0.127849</td>\n",
       "      <td>0.031875</td>\n",
       "    </tr>\n",
       "    <tr>\n",
       "      <th>n_participants_teen</th>\n",
       "      <td>-0.256170</td>\n",
       "      <td>-0.302624</td>\n",
       "      <td>-0.286476</td>\n",
       "      <td>-0.232381</td>\n",
       "      <td>0.011838</td>\n",
       "      <td>1.000000</td>\n",
       "      <td>-0.088756</td>\n",
       "      <td>0.252610</td>\n",
       "      <td>0.116213</td>\n",
       "      <td>0.024424</td>\n",
       "      <td>0.113431</td>\n",
       "      <td>0.201504</td>\n",
       "      <td>0.077144</td>\n",
       "      <td>0.272564</td>\n",
       "      <td>0.013818</td>\n",
       "    </tr>\n",
       "    <tr>\n",
       "      <th>n_participants_adult</th>\n",
       "      <td>0.109591</td>\n",
       "      <td>-0.019999</td>\n",
       "      <td>0.087156</td>\n",
       "      <td>0.196619</td>\n",
       "      <td>-0.015817</td>\n",
       "      <td>-0.088756</td>\n",
       "      <td>1.000000</td>\n",
       "      <td>0.858159</td>\n",
       "      <td>0.390072</td>\n",
       "      <td>0.216086</td>\n",
       "      <td>0.331097</td>\n",
       "      <td>0.409661</td>\n",
       "      <td>0.478263</td>\n",
       "      <td>0.924130</td>\n",
       "      <td>0.067971</td>\n",
       "    </tr>\n",
       "    <tr>\n",
       "      <th>n_males</th>\n",
       "      <td>-0.065534</td>\n",
       "      <td>-0.193070</td>\n",
       "      <td>-0.100377</td>\n",
       "      <td>0.015735</td>\n",
       "      <td>0.081763</td>\n",
       "      <td>0.252610</td>\n",
       "      <td>0.858159</td>\n",
       "      <td>1.000000</td>\n",
       "      <td>0.055307</td>\n",
       "      <td>0.169472</td>\n",
       "      <td>0.333234</td>\n",
       "      <td>0.437150</td>\n",
       "      <td>0.478381</td>\n",
       "      <td>0.923307</td>\n",
       "      <td>0.060328</td>\n",
       "    </tr>\n",
       "    <tr>\n",
       "      <th>n_females</th>\n",
       "      <td>0.067696</td>\n",
       "      <td>-0.018982</td>\n",
       "      <td>0.061805</td>\n",
       "      <td>0.140880</td>\n",
       "      <td>0.140637</td>\n",
       "      <td>0.116213</td>\n",
       "      <td>0.390072</td>\n",
       "      <td>0.055307</td>\n",
       "      <td>1.000000</td>\n",
       "      <td>0.185931</td>\n",
       "      <td>0.167039</td>\n",
       "      <td>0.177057</td>\n",
       "      <td>0.179389</td>\n",
       "      <td>0.434541</td>\n",
       "      <td>0.052085</td>\n",
       "    </tr>\n",
       "    <tr>\n",
       "      <th>n_killed</th>\n",
       "      <td>0.146681</td>\n",
       "      <td>0.061702</td>\n",
       "      <td>0.136316</td>\n",
       "      <td>0.196964</td>\n",
       "      <td>0.062697</td>\n",
       "      <td>0.024424</td>\n",
       "      <td>0.216086</td>\n",
       "      <td>0.169472</td>\n",
       "      <td>0.185931</td>\n",
       "      <td>1.000000</td>\n",
       "      <td>-0.175072</td>\n",
       "      <td>-0.035045</td>\n",
       "      <td>-0.103986</td>\n",
       "      <td>0.224388</td>\n",
       "      <td>0.067164</td>\n",
       "    </tr>\n",
       "    <tr>\n",
       "      <th>n_injured</th>\n",
       "      <td>-0.122233</td>\n",
       "      <td>-0.152522</td>\n",
       "      <td>-0.121642</td>\n",
       "      <td>-0.076305</td>\n",
       "      <td>0.052604</td>\n",
       "      <td>0.113431</td>\n",
       "      <td>0.331097</td>\n",
       "      <td>0.333234</td>\n",
       "      <td>0.167039</td>\n",
       "      <td>-0.175072</td>\n",
       "      <td>1.000000</td>\n",
       "      <td>-0.134597</td>\n",
       "      <td>-0.038288</td>\n",
       "      <td>0.364839</td>\n",
       "      <td>-0.004623</td>\n",
       "    </tr>\n",
       "    <tr>\n",
       "      <th>n_arrested</th>\n",
       "      <td>-0.025916</td>\n",
       "      <td>-0.108885</td>\n",
       "      <td>-0.053004</td>\n",
       "      <td>0.021600</td>\n",
       "      <td>-0.012359</td>\n",
       "      <td>0.201504</td>\n",
       "      <td>0.409661</td>\n",
       "      <td>0.437150</td>\n",
       "      <td>0.177057</td>\n",
       "      <td>-0.035045</td>\n",
       "      <td>-0.134597</td>\n",
       "      <td>1.000000</td>\n",
       "      <td>-0.156072</td>\n",
       "      <td>0.462429</td>\n",
       "      <td>-0.035502</td>\n",
       "    </tr>\n",
       "    <tr>\n",
       "      <th>n_unharmed</th>\n",
       "      <td>-0.008665</td>\n",
       "      <td>-0.045980</td>\n",
       "      <td>-0.020807</td>\n",
       "      <td>0.009898</td>\n",
       "      <td>0.107527</td>\n",
       "      <td>0.077144</td>\n",
       "      <td>0.478263</td>\n",
       "      <td>0.478381</td>\n",
       "      <td>0.179389</td>\n",
       "      <td>-0.103986</td>\n",
       "      <td>-0.038288</td>\n",
       "      <td>-0.156072</td>\n",
       "      <td>1.000000</td>\n",
       "      <td>0.500518</td>\n",
       "      <td>0.099735</td>\n",
       "    </tr>\n",
       "    <tr>\n",
       "      <th>n_participants</th>\n",
       "      <td>-0.029498</td>\n",
       "      <td>-0.183312</td>\n",
       "      <td>-0.063669</td>\n",
       "      <td>0.076438</td>\n",
       "      <td>0.127849</td>\n",
       "      <td>0.272564</td>\n",
       "      <td>0.924130</td>\n",
       "      <td>0.923307</td>\n",
       "      <td>0.434541</td>\n",
       "      <td>0.224388</td>\n",
       "      <td>0.364839</td>\n",
       "      <td>0.462429</td>\n",
       "      <td>0.500518</td>\n",
       "      <td>1.000000</td>\n",
       "      <td>0.074452</td>\n",
       "    </tr>\n",
       "    <tr>\n",
       "      <th>povertyPercentage</th>\n",
       "      <td>0.033266</td>\n",
       "      <td>0.013536</td>\n",
       "      <td>0.030005</td>\n",
       "      <td>0.043061</td>\n",
       "      <td>0.031875</td>\n",
       "      <td>0.013818</td>\n",
       "      <td>0.067971</td>\n",
       "      <td>0.060328</td>\n",
       "      <td>0.052085</td>\n",
       "      <td>0.067164</td>\n",
       "      <td>-0.004623</td>\n",
       "      <td>-0.035502</td>\n",
       "      <td>0.099735</td>\n",
       "      <td>0.074452</td>\n",
       "      <td>1.000000</td>\n",
       "    </tr>\n",
       "  </tbody>\n",
       "</table>\n",
       "</div>"
      ],
      "text/plain": [
       "                      participant_age1  min_age_participants  \\\n",
       "participant_age1              1.000000              0.878260   \n",
       "min_age_participants          0.878260              1.000000   \n",
       "avg_age_participants          0.945387              0.951506   \n",
       "max_age_participants          0.926643              0.812162   \n",
       "n_participants_child         -0.177334             -0.226368   \n",
       "n_participants_teen          -0.256170             -0.302624   \n",
       "n_participants_adult          0.109591             -0.019999   \n",
       "n_males                      -0.065534             -0.193070   \n",
       "n_females                     0.067696             -0.018982   \n",
       "n_killed                      0.146681              0.061702   \n",
       "n_injured                    -0.122233             -0.152522   \n",
       "n_arrested                   -0.025916             -0.108885   \n",
       "n_unharmed                   -0.008665             -0.045980   \n",
       "n_participants               -0.029498             -0.183312   \n",
       "povertyPercentage             0.033266              0.013536   \n",
       "\n",
       "                      avg_age_participants  max_age_participants  \\\n",
       "participant_age1                  0.945387              0.926643   \n",
       "min_age_participants              0.951506              0.812162   \n",
       "avg_age_participants              1.000000              0.948623   \n",
       "max_age_participants              0.948623              1.000000   \n",
       "n_participants_child             -0.175819             -0.110643   \n",
       "n_participants_teen              -0.286476             -0.232381   \n",
       "n_participants_adult              0.087156              0.196619   \n",
       "n_males                          -0.100377              0.015735   \n",
       "n_females                         0.061805              0.140880   \n",
       "n_killed                          0.136316              0.196964   \n",
       "n_injured                        -0.121642             -0.076305   \n",
       "n_arrested                       -0.053004              0.021600   \n",
       "n_unharmed                       -0.020807              0.009898   \n",
       "n_participants                   -0.063669              0.076438   \n",
       "povertyPercentage                 0.030005              0.043061   \n",
       "\n",
       "                      n_participants_child  n_participants_teen  \\\n",
       "participant_age1                 -0.177334            -0.256170   \n",
       "min_age_participants             -0.226368            -0.302624   \n",
       "avg_age_participants             -0.175819            -0.286476   \n",
       "max_age_participants             -0.110643            -0.232381   \n",
       "n_participants_child              1.000000             0.011838   \n",
       "n_participants_teen               0.011838             1.000000   \n",
       "n_participants_adult             -0.015817            -0.088756   \n",
       "n_males                           0.081763             0.252610   \n",
       "n_females                         0.140637             0.116213   \n",
       "n_killed                          0.062697             0.024424   \n",
       "n_injured                         0.052604             0.113431   \n",
       "n_arrested                       -0.012359             0.201504   \n",
       "n_unharmed                        0.107527             0.077144   \n",
       "n_participants                    0.127849             0.272564   \n",
       "povertyPercentage                 0.031875             0.013818   \n",
       "\n",
       "                      n_participants_adult   n_males  n_females  n_killed  \\\n",
       "participant_age1                  0.109591 -0.065534   0.067696  0.146681   \n",
       "min_age_participants             -0.019999 -0.193070  -0.018982  0.061702   \n",
       "avg_age_participants              0.087156 -0.100377   0.061805  0.136316   \n",
       "max_age_participants              0.196619  0.015735   0.140880  0.196964   \n",
       "n_participants_child             -0.015817  0.081763   0.140637  0.062697   \n",
       "n_participants_teen              -0.088756  0.252610   0.116213  0.024424   \n",
       "n_participants_adult              1.000000  0.858159   0.390072  0.216086   \n",
       "n_males                           0.858159  1.000000   0.055307  0.169472   \n",
       "n_females                         0.390072  0.055307   1.000000  0.185931   \n",
       "n_killed                          0.216086  0.169472   0.185931  1.000000   \n",
       "n_injured                         0.331097  0.333234   0.167039 -0.175072   \n",
       "n_arrested                        0.409661  0.437150   0.177057 -0.035045   \n",
       "n_unharmed                        0.478263  0.478381   0.179389 -0.103986   \n",
       "n_participants                    0.924130  0.923307   0.434541  0.224388   \n",
       "povertyPercentage                 0.067971  0.060328   0.052085  0.067164   \n",
       "\n",
       "                      n_injured  n_arrested  n_unharmed  n_participants  \\\n",
       "participant_age1      -0.122233   -0.025916   -0.008665       -0.029498   \n",
       "min_age_participants  -0.152522   -0.108885   -0.045980       -0.183312   \n",
       "avg_age_participants  -0.121642   -0.053004   -0.020807       -0.063669   \n",
       "max_age_participants  -0.076305    0.021600    0.009898        0.076438   \n",
       "n_participants_child   0.052604   -0.012359    0.107527        0.127849   \n",
       "n_participants_teen    0.113431    0.201504    0.077144        0.272564   \n",
       "n_participants_adult   0.331097    0.409661    0.478263        0.924130   \n",
       "n_males                0.333234    0.437150    0.478381        0.923307   \n",
       "n_females              0.167039    0.177057    0.179389        0.434541   \n",
       "n_killed              -0.175072   -0.035045   -0.103986        0.224388   \n",
       "n_injured              1.000000   -0.134597   -0.038288        0.364839   \n",
       "n_arrested            -0.134597    1.000000   -0.156072        0.462429   \n",
       "n_unharmed            -0.038288   -0.156072    1.000000        0.500518   \n",
       "n_participants         0.364839    0.462429    0.500518        1.000000   \n",
       "povertyPercentage     -0.004623   -0.035502    0.099735        0.074452   \n",
       "\n",
       "                      povertyPercentage  \n",
       "participant_age1               0.033266  \n",
       "min_age_participants           0.013536  \n",
       "avg_age_participants           0.030005  \n",
       "max_age_participants           0.043061  \n",
       "n_participants_child           0.031875  \n",
       "n_participants_teen            0.013818  \n",
       "n_participants_adult           0.067971  \n",
       "n_males                        0.060328  \n",
       "n_females                      0.052085  \n",
       "n_killed                       0.067164  \n",
       "n_injured                     -0.004623  \n",
       "n_arrested                    -0.035502  \n",
       "n_unharmed                     0.099735  \n",
       "n_participants                 0.074452  \n",
       "povertyPercentage              1.000000  "
      ]
     },
     "execution_count": 330,
     "metadata": {},
     "output_type": "execute_result"
    }
   ],
   "source": [
    "corr_matrix = df[['participant_age1', 'participant_age_group1',\n",
    "       'participant_gender1', 'min_age_participants', 'avg_age_participants',\n",
    "       'max_age_participants', 'n_participants_child', 'n_participants_teen',\n",
    "       'n_participants_adult', 'n_males', 'n_females', 'n_killed', 'n_injured',\n",
    "       'n_arrested', 'n_unharmed', 'n_participants', 'povertyPercentage']].corr(numeric_only=True, method='pearson')\n",
    "corr_matrix"
   ]
  },
  {
   "cell_type": "code",
   "execution_count": 331,
   "metadata": {},
   "outputs": [
    {
     "data": {
      "text/plain": [
       "<Axes: >"
      ]
     },
     "execution_count": 331,
     "metadata": {},
     "output_type": "execute_result"
    },
    {
     "data": {
      "image/png": "[encoded data removed]",
      "text/plain": [
       "<Figure size 640x480 with 2 Axes>"
      ]
     },
     "metadata": {},
     "output_type": "display_data"
    }
   ],
   "source": [
    "sns.heatmap(corr_matrix, annot=False, cmap='coolwarm')"
   ]
  },
  {
   "cell_type": "markdown",
   "metadata": {},
   "source": [
    "As resulted from the plotting of correlation matrix, we can see that attributes related to the age i.e. participant_age1, min_age_participants, \tavg_age_participants, max_age_participants are all high correlated.\n",
    "We decided to drop everything except avg_age_participants which has the most high correlation w.r.t. other attributes (>0.90) and gives us more general information about all the participants (w.r.t. e.g. participant_age1, which takes the age of one random person involved in the incident.)\n",
    "Deleting participant_age1, participant_age_group1 and participant_gender1 becomes useless, so we delete also these attributes. "
   ]
  },
  {
   "cell_type": "code",
   "execution_count": 332,
   "metadata": {},
   "outputs": [],
   "source": [
    "df.drop(columns=['participant_age1', 'min_age_participants', 'max_age_participants', 'participant_age_group1', 'participant_gender1'], inplace=True)"
   ]
  },
  {
   "cell_type": "markdown",
   "metadata": {},
   "source": [
    "## Filling missing values for avg_participants"
   ]
  },
  {
   "cell_type": "markdown",
   "metadata": {},
   "source": [
    "# Definition of Index "
   ]
  },
  {
   "cell_type": "code",
   "execution_count": 333,
   "metadata": {},
   "outputs": [
    {
     "data": {
      "text/plain": [
       "0              NaN\n",
       "1              0.0\n",
       "2              NaN\n",
       "3              0.0\n",
       "4              0.0\n",
       "            ...   \n",
       "197915    0.110687\n",
       "197917    0.481481\n",
       "197918    0.028192\n",
       "197919         1.0\n",
       "197923    0.107527\n",
       "Name: males_percentage, Length: 197914, dtype: Float64"
      ]
     },
     "execution_count": 333,
     "metadata": {},
     "output_type": "execute_result"
    }
   ],
   "source": [
    "#How many males are involved in incidents w.r.t. the total number of males for the\n",
    "#same city and in the same period?\n",
    "df[\"males_percentage\"] = df[\"n_males\"] /  df.groupby([\"year\",\"state\", \"city_or_county\"])[\"n_males\"].transform(\"sum\")\n",
    "df[\"males_percentage\"]"
   ]
  },
  {
   "cell_type": "code",
   "execution_count": 334,
   "metadata": {},
   "outputs": [
    {
     "data": {
      "text/plain": [
       "0              0.0\n",
       "1              0.0\n",
       "2              0.0\n",
       "3              0.0\n",
       "4              0.0\n",
       "            ...   \n",
       "197915         0.0\n",
       "197917         0.0\n",
       "197918         0.0\n",
       "197919    0.772727\n",
       "197923         0.0\n",
       "Name: killed_percentage, Length: 197914, dtype: Float64"
      ]
     },
     "execution_count": 334,
     "metadata": {},
     "output_type": "execute_result"
    }
   ],
   "source": [
    "#How many killed people have been involved w.r.t the total killed people in\n",
    "# the same congressional district in a given period of time?\n",
    "df[\"killed_percentage\"] = df[\"n_killed\"] /  df.groupby([\"year\",\"state\", \"congressional_district\" ])[\"n_killed\"].transform(\"sum\")\n",
    "df[\"killed_percentage\"]"
   ]
  },
  {
   "cell_type": "code",
   "execution_count": 335,
   "metadata": {},
   "outputs": [],
   "source": [
    "#How many injured people have been involved w.r.t the total injured people in\n",
    "# the same congressional district in a given period of time?\n",
    "df[\"injured_percentage\"] = df[\"n_injured\"] /  df.groupby([\"year\",\"state\", \"congressional_district\" ])[\"n_injured\"].transform(\"sum\")\n"
   ]
  },
  {
   "cell_type": "code",
   "execution_count": 336,
   "metadata": {},
   "outputs": [
    {
     "data": {
      "text/html": [
       "<div>\n",
       "<style scoped>\n",
       "    .dataframe tbody tr th:only-of-type {\n",
       "        vertical-align: middle;\n",
       "    }\n",
       "\n",
       "    .dataframe tbody tr th {\n",
       "        vertical-align: top;\n",
       "    }\n",
       "\n",
       "    .dataframe thead th {\n",
       "        text-align: right;\n",
       "    }\n",
       "</style>\n",
       "<table border=\"1\" class=\"dataframe\">\n",
       "  <thead>\n",
       "    <tr style=\"text-align: right;\">\n",
       "      <th></th>\n",
       "      <th>n_killed</th>\n",
       "      <th>n_participants</th>\n",
       "      <th>killed_percentage_per_incident</th>\n",
       "    </tr>\n",
       "  </thead>\n",
       "  <tbody>\n",
       "    <tr>\n",
       "      <th>0</th>\n",
       "      <td>0</td>\n",
       "      <td>0</td>\n",
       "      <td>NaN</td>\n",
       "    </tr>\n",
       "    <tr>\n",
       "      <th>1</th>\n",
       "      <td>0</td>\n",
       "      <td>0</td>\n",
       "      <td>NaN</td>\n",
       "    </tr>\n",
       "    <tr>\n",
       "      <th>2</th>\n",
       "      <td>0</td>\n",
       "      <td>0</td>\n",
       "      <td>NaN</td>\n",
       "    </tr>\n",
       "    <tr>\n",
       "      <th>3</th>\n",
       "      <td>0</td>\n",
       "      <td>0</td>\n",
       "      <td>NaN</td>\n",
       "    </tr>\n",
       "    <tr>\n",
       "      <th>4</th>\n",
       "      <td>0</td>\n",
       "      <td>0</td>\n",
       "      <td>NaN</td>\n",
       "    </tr>\n",
       "    <tr>\n",
       "      <th>...</th>\n",
       "      <td>...</td>\n",
       "      <td>...</td>\n",
       "      <td>...</td>\n",
       "    </tr>\n",
       "    <tr>\n",
       "      <th>197915</th>\n",
       "      <td>0</td>\n",
       "      <td>29</td>\n",
       "      <td>0.0</td>\n",
       "    </tr>\n",
       "    <tr>\n",
       "      <th>197917</th>\n",
       "      <td>0</td>\n",
       "      <td>32</td>\n",
       "      <td>0.0</td>\n",
       "    </tr>\n",
       "    <tr>\n",
       "      <th>197918</th>\n",
       "      <td>0</td>\n",
       "      <td>35</td>\n",
       "      <td>0.0</td>\n",
       "    </tr>\n",
       "    <tr>\n",
       "      <th>197919</th>\n",
       "      <td>17</td>\n",
       "      <td>35</td>\n",
       "      <td>0.485714</td>\n",
       "    </tr>\n",
       "    <tr>\n",
       "      <th>197923</th>\n",
       "      <td>0</td>\n",
       "      <td>63</td>\n",
       "      <td>0.0</td>\n",
       "    </tr>\n",
       "  </tbody>\n",
       "</table>\n",
       "<p>197914 rows × 3 columns</p>\n",
       "</div>"
      ],
      "text/plain": [
       "        n_killed  n_participants  killed_percentage_per_incident\n",
       "0              0               0                             NaN\n",
       "1              0               0                             NaN\n",
       "2              0               0                             NaN\n",
       "3              0               0                             NaN\n",
       "4              0               0                             NaN\n",
       "...          ...             ...                             ...\n",
       "197915         0              29                             0.0\n",
       "197917         0              32                             0.0\n",
       "197918         0              35                             0.0\n",
       "197919        17              35                        0.485714\n",
       "197923         0              63                             0.0\n",
       "\n",
       "[197914 rows x 3 columns]"
      ]
     },
     "execution_count": 336,
     "metadata": {},
     "output_type": "execute_result"
    }
   ],
   "source": [
    "#Ratio of the number of the killed people in the incidents w.r.t. the number of\n",
    "#participants in the incident\n",
    "df[\"killed_percentage_per_incident\"] = df[\"n_killed\"] / df[\"n_participants\"]\n",
    "df[[\"n_killed\", \"n_participants\", \"killed_percentage_per_incident\"]]"
   ]
  },
  {
   "cell_type": "code",
   "execution_count": 337,
   "metadata": {},
   "outputs": [
    {
     "data": {
      "text/html": [
       "<div>\n",
       "<style scoped>\n",
       "    .dataframe tbody tr th:only-of-type {\n",
       "        vertical-align: middle;\n",
       "    }\n",
       "\n",
       "    .dataframe tbody tr th {\n",
       "        vertical-align: top;\n",
       "    }\n",
       "\n",
       "    .dataframe thead th {\n",
       "        text-align: right;\n",
       "    }\n",
       "</style>\n",
       "<table border=\"1\" class=\"dataframe\">\n",
       "  <thead>\n",
       "    <tr style=\"text-align: right;\">\n",
       "      <th></th>\n",
       "      <th>n_unharmed</th>\n",
       "      <th>unharmed_percentage</th>\n",
       "    </tr>\n",
       "  </thead>\n",
       "  <tbody>\n",
       "    <tr>\n",
       "      <th>0</th>\n",
       "      <td>0</td>\n",
       "      <td>0.0</td>\n",
       "    </tr>\n",
       "    <tr>\n",
       "      <th>1</th>\n",
       "      <td>0</td>\n",
       "      <td>0.0</td>\n",
       "    </tr>\n",
       "    <tr>\n",
       "      <th>2</th>\n",
       "      <td>0</td>\n",
       "      <td>0.0</td>\n",
       "    </tr>\n",
       "    <tr>\n",
       "      <th>3</th>\n",
       "      <td>0</td>\n",
       "      <td>0.0</td>\n",
       "    </tr>\n",
       "    <tr>\n",
       "      <th>4</th>\n",
       "      <td>0</td>\n",
       "      <td>0.0</td>\n",
       "    </tr>\n",
       "    <tr>\n",
       "      <th>...</th>\n",
       "      <td>...</td>\n",
       "      <td>...</td>\n",
       "    </tr>\n",
       "    <tr>\n",
       "      <th>197915</th>\n",
       "      <td>0</td>\n",
       "      <td>0.0</td>\n",
       "    </tr>\n",
       "    <tr>\n",
       "      <th>197917</th>\n",
       "      <td>1</td>\n",
       "      <td>3.872436</td>\n",
       "    </tr>\n",
       "    <tr>\n",
       "      <th>197918</th>\n",
       "      <td>0</td>\n",
       "      <td>0.0</td>\n",
       "    </tr>\n",
       "    <tr>\n",
       "      <th>197919</th>\n",
       "      <td>0</td>\n",
       "      <td>0.0</td>\n",
       "    </tr>\n",
       "    <tr>\n",
       "      <th>197923</th>\n",
       "      <td>0</td>\n",
       "      <td>0.0</td>\n",
       "    </tr>\n",
       "  </tbody>\n",
       "</table>\n",
       "<p>197914 rows × 2 columns</p>\n",
       "</div>"
      ],
      "text/plain": [
       "        n_unharmed  unharmed_percentage\n",
       "0                0                  0.0\n",
       "1                0                  0.0\n",
       "2                0                  0.0\n",
       "3                0                  0.0\n",
       "4                0                  0.0\n",
       "...            ...                  ...\n",
       "197915           0                  0.0\n",
       "197917           1             3.872436\n",
       "197918           0                  0.0\n",
       "197919           0                  0.0\n",
       "197923           0                  0.0\n",
       "\n",
       "[197914 rows x 2 columns]"
      ]
     },
     "execution_count": 337,
     "metadata": {},
     "output_type": "execute_result"
    }
   ],
   "source": [
    "#Ratio of unharmed people in the incidents w.r.t. the the average of unharmed people\n",
    "#in the same period\n",
    "df[\"unharmed_percentage\"] = df[\"n_unharmed\"] / df.groupby([\"year\"])[\"n_unharmed\"].transform(\"mean\")\n",
    "df[[\"n_unharmed\", \"unharmed_percentage\"]]"
   ]
  },
  {
   "cell_type": "code",
   "execution_count": 338,
   "metadata": {},
   "outputs": [],
   "source": [
    "\n",
    "def fillna_group_avg_age_participants(group):\n",
    "    avg_age_group = group[\"avg_age_participants\"].mean()\n",
    "    if (pd.notna(avg_age_group)):\n",
    "        group[\"avg_age_participants\"] = group[\"avg_age_participants\"].fillna(np.round(avg_age_group,0))\n",
    "    return group\n",
    "df = df.groupby(\"n_participants\").apply(fillna_group_avg_age_participants).reset_index(drop=True)\n",
    "\n",
    "df.loc[(df[\"n_participants\"] == 0), \"avg_age_participants\"] = 0\n"
   ]
  },
  {
   "cell_type": "code",
   "execution_count": 342,
   "metadata": {},
   "outputs": [
    {
     "data": {
      "text/html": [
       "<div>\n",
       "<style scoped>\n",
       "    .dataframe tbody tr th:only-of-type {\n",
       "        vertical-align: middle;\n",
       "    }\n",
       "\n",
       "    .dataframe tbody tr th {\n",
       "        vertical-align: top;\n",
       "    }\n",
       "\n",
       "    .dataframe thead th {\n",
       "        text-align: right;\n",
       "    }\n",
       "</style>\n",
       "<table border=\"1\" class=\"dataframe\">\n",
       "  <thead>\n",
       "    <tr style=\"text-align: right;\">\n",
       "      <th></th>\n",
       "      <th>avg_age_participants</th>\n",
       "      <th>n_participants_child</th>\n",
       "      <th>n_participants_teen</th>\n",
       "      <th>n_participants_adult</th>\n",
       "      <th>n_participants</th>\n",
       "    </tr>\n",
       "  </thead>\n",
       "  <tbody>\n",
       "    <tr>\n",
       "      <th>197814</th>\n",
       "      <td>26.0</td>\n",
       "      <td>0</td>\n",
       "      <td>0</td>\n",
       "      <td>11</td>\n",
       "      <td>11</td>\n",
       "    </tr>\n",
       "    <tr>\n",
       "      <th>197815</th>\n",
       "      <td>24.0</td>\n",
       "      <td>0</td>\n",
       "      <td>1</td>\n",
       "      <td>10</td>\n",
       "      <td>11</td>\n",
       "    </tr>\n",
       "    <tr>\n",
       "      <th>197816</th>\n",
       "      <td>30.0</td>\n",
       "      <td>0</td>\n",
       "      <td>0</td>\n",
       "      <td>11</td>\n",
       "      <td>11</td>\n",
       "    </tr>\n",
       "    <tr>\n",
       "      <th>197817</th>\n",
       "      <td>19.0</td>\n",
       "      <td>0</td>\n",
       "      <td>0</td>\n",
       "      <td>11</td>\n",
       "      <td>11</td>\n",
       "    </tr>\n",
       "    <tr>\n",
       "      <th>197818</th>\n",
       "      <td>24.0</td>\n",
       "      <td>0</td>\n",
       "      <td>0</td>\n",
       "      <td>11</td>\n",
       "      <td>11</td>\n",
       "    </tr>\n",
       "    <tr>\n",
       "      <th>...</th>\n",
       "      <td>...</td>\n",
       "      <td>...</td>\n",
       "      <td>...</td>\n",
       "      <td>...</td>\n",
       "      <td>...</td>\n",
       "    </tr>\n",
       "    <tr>\n",
       "      <th>197909</th>\n",
       "      <td>27.0</td>\n",
       "      <td>0</td>\n",
       "      <td>0</td>\n",
       "      <td>29</td>\n",
       "      <td>29</td>\n",
       "    </tr>\n",
       "    <tr>\n",
       "      <th>197910</th>\n",
       "      <td>33.0</td>\n",
       "      <td>0</td>\n",
       "      <td>0</td>\n",
       "      <td>32</td>\n",
       "      <td>32</td>\n",
       "    </tr>\n",
       "    <tr>\n",
       "      <th>197911</th>\n",
       "      <td>20.0</td>\n",
       "      <td>0</td>\n",
       "      <td>27</td>\n",
       "      <td>8</td>\n",
       "      <td>35</td>\n",
       "    </tr>\n",
       "    <tr>\n",
       "      <th>197912</th>\n",
       "      <td>20.0</td>\n",
       "      <td>0</td>\n",
       "      <td>27</td>\n",
       "      <td>8</td>\n",
       "      <td>35</td>\n",
       "    </tr>\n",
       "    <tr>\n",
       "      <th>197913</th>\n",
       "      <td>26.0</td>\n",
       "      <td>0</td>\n",
       "      <td>0</td>\n",
       "      <td>63</td>\n",
       "      <td>63</td>\n",
       "    </tr>\n",
       "  </tbody>\n",
       "</table>\n",
       "<p>100 rows × 5 columns</p>\n",
       "</div>"
      ],
      "text/plain": [
       "        avg_age_participants  n_participants_child  n_participants_teen  \\\n",
       "197814                  26.0                     0                    0   \n",
       "197815                  24.0                     0                    1   \n",
       "197816                  30.0                     0                    0   \n",
       "197817                  19.0                     0                    0   \n",
       "197818                  24.0                     0                    0   \n",
       "...                      ...                   ...                  ...   \n",
       "197909                  27.0                     0                    0   \n",
       "197910                  33.0                     0                    0   \n",
       "197911                  20.0                     0                   27   \n",
       "197912                  20.0                     0                   27   \n",
       "197913                  26.0                     0                    0   \n",
       "\n",
       "        n_participants_adult  n_participants  \n",
       "197814                    11              11  \n",
       "197815                    10              11  \n",
       "197816                    11              11  \n",
       "197817                    11              11  \n",
       "197818                    11              11  \n",
       "...                      ...             ...  \n",
       "197909                    29              29  \n",
       "197910                    32              32  \n",
       "197911                     8              35  \n",
       "197912                     8              35  \n",
       "197913                    63              63  \n",
       "\n",
       "[100 rows x 5 columns]"
      ]
     },
     "execution_count": 342,
     "metadata": {},
     "output_type": "execute_result"
    }
   ],
   "source": [
    "columns_to_check = [ \"avg_age_participants\", \"n_participants_child\", \"n_participants_teen\", \"n_participants_adult\",\"n_participants\"]\n",
    "df[df[\"avg_age_participants\"].isna()][columns_to_check]\n",
    "#4 rows to fix"
   ]
  },
  {
   "cell_type": "code",
   "execution_count": 340,
   "metadata": {},
   "outputs": [
    {
     "data": {
      "text/html": [
       "<div>\n",
       "<style scoped>\n",
       "    .dataframe tbody tr th:only-of-type {\n",
       "        vertical-align: middle;\n",
       "    }\n",
       "\n",
       "    .dataframe tbody tr th {\n",
       "        vertical-align: top;\n",
       "    }\n",
       "\n",
       "    .dataframe thead th {\n",
       "        text-align: right;\n",
       "    }\n",
       "</style>\n",
       "<table border=\"1\" class=\"dataframe\">\n",
       "  <thead>\n",
       "    <tr style=\"text-align: right;\">\n",
       "      <th></th>\n",
       "      <th>avg_age_participants</th>\n",
       "      <th>n_participants_child</th>\n",
       "      <th>n_participants_teen</th>\n",
       "      <th>n_participants_adult</th>\n",
       "      <th>n_participants</th>\n",
       "    </tr>\n",
       "  </thead>\n",
       "  <tbody>\n",
       "    <tr>\n",
       "      <th>197900</th>\n",
       "      <td>27.0</td>\n",
       "      <td>0</td>\n",
       "      <td>0</td>\n",
       "      <td>21</td>\n",
       "      <td>21</td>\n",
       "    </tr>\n",
       "    <tr>\n",
       "      <th>197901</th>\n",
       "      <td>27.0</td>\n",
       "      <td>0</td>\n",
       "      <td>0</td>\n",
       "      <td>21</td>\n",
       "      <td>21</td>\n",
       "    </tr>\n",
       "    <tr>\n",
       "      <th>197902</th>\n",
       "      <td>27.0</td>\n",
       "      <td>0</td>\n",
       "      <td>0</td>\n",
       "      <td>21</td>\n",
       "      <td>21</td>\n",
       "    </tr>\n",
       "  </tbody>\n",
       "</table>\n",
       "</div>"
      ],
      "text/plain": [
       "        avg_age_participants  n_participants_child  n_participants_teen  \\\n",
       "197900                  27.0                     0                    0   \n",
       "197901                  27.0                     0                    0   \n",
       "197902                  27.0                     0                    0   \n",
       "\n",
       "        n_participants_adult  n_participants  \n",
       "197900                    21              21  \n",
       "197901                    21              21  \n",
       "197902                    21              21  "
      ]
     },
     "execution_count": 340,
     "metadata": {},
     "output_type": "execute_result"
    }
   ],
   "source": [
    "df.loc[(df[\"avg_age_participants\"].isna()), \"avg_age_participants\"] =  np.round(df[\"avg_age_participants\"].mean())\n",
    "df[df[\"n_participants\"] == 21][columns_to_check]\n",
    "\n"
   ]
  },
  {
   "cell_type": "markdown",
   "metadata": {},
   "source": [
    "# Further Attributes dropped"
   ]
  },
  {
   "cell_type": "markdown",
   "metadata": {},
   "source": [
    "As observed in the DU address will be dropped, moreover we will drop also year and notes because the former is a result of the data integration, useless because is redundant as we have the attribute date, the latter is useless because is only a string of text, used only in the data understanding"
   ]
  },
  {
   "cell_type": "code",
   "execution_count": 207,
   "metadata": {},
   "outputs": [],
   "source": [
    "df.drop(columns=['notes', 'year', 'address'], inplace=True)"
   ]
  },
  {
   "cell_type": "code",
   "execution_count": 112,
   "metadata": {},
   "outputs": [
    {
     "name": "stdout",
     "output_type": "stream",
     "text": [
      "<class 'pandas.core.frame.DataFrame'>\n",
      "Index: 197914 entries, 0 to 197923\n",
      "Data columns (total 27 columns):\n",
      " #   Column                          Non-Null Count   Dtype         \n",
      "---  ------                          --------------   -----         \n",
      " 0   date                            197914 non-null  datetime64[ns]\n",
      " 1   state                           197914 non-null  string        \n",
      " 2   city_or_county                  197914 non-null  string        \n",
      " 3   latitude                        197914 non-null  float64       \n",
      " 4   longitude                       197914 non-null  float64       \n",
      " 5   congressional_district          197914 non-null  Int64         \n",
      " 6   avg_age_participants            135320 non-null  float64       \n",
      " 7   n_participants_child            197914 non-null  Int64         \n",
      " 8   n_participants_teen             197914 non-null  Int64         \n",
      " 9   n_participants_adult            197914 non-null  Int64         \n",
      " 10  n_males                         197914 non-null  Int64         \n",
      " 11  n_females                       197914 non-null  Int64         \n",
      " 12  n_killed                        197914 non-null  Int64         \n",
      " 13  n_injured                       197914 non-null  Int64         \n",
      " 14  n_arrested                      197914 non-null  Int64         \n",
      " 15  n_unharmed                      197914 non-null  Int64         \n",
      " 16  n_participants                  197914 non-null  Int64         \n",
      " 17  incident_characteristics1       197914 non-null  string        \n",
      " 18  povertyPercentage               197914 non-null  float64       \n",
      " 19  party                           197914 non-null  string        \n",
      " 20  candidatevotes                  197914 non-null  Int64         \n",
      " 21  totalvotes                      197914 non-null  Int64         \n",
      " 22  males_percentage                197914 non-null  Float64       \n",
      " 23  killed_percentage               197914 non-null  Float64       \n",
      " 24  injured_percentage              197914 non-null  Float64       \n",
      " 25  killed_percentage_per_incident  197914 non-null  Float64       \n",
      " 26  unharmed_percentage             197914 non-null  Float64       \n",
      "dtypes: Float64(5), Int64(13), datetime64[ns](1), float64(4), string(4)\n",
      "memory usage: 45.7 MB\n"
     ]
    }
   ],
   "source": [
    "df.info()"
   ]
  },
  {
   "cell_type": "markdown",
   "metadata": {},
   "source": [
    "# Export the dataframe after the data preparation"
   ]
  },
  {
   "cell_type": "code",
   "execution_count": null,
   "metadata": {},
   "outputs": [],
   "source": [
    "df.to_csv('df_after_dp.csv', index=False)"
   ]
  }
 ],
 "metadata": {
  "colab": {
   "provenance": []
  },
  "kernelspec": {
   "display_name": "Python 3 (ipykernel)",
   "language": "python",
   "name": "python3"
  },
  "language_info": {
   "codemirror_mode": {
    "name": "ipython",
    "version": 3
   },
   "file_extension": ".py",
   "mimetype": "text/x-python",
   "name": "python",
   "nbconvert_exporter": "python",
   "pygments_lexer": "ipython3",
   "version": "3.10.7"
  }
 },
 "nbformat": 4,
 "nbformat_minor": 4
}
