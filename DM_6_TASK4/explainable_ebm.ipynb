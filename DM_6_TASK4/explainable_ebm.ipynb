{
 "cells": [
  {
   "cell_type": "markdown",
   "metadata": {},
   "source": [
    "## Utilities"
   ]
  },
  {
   "cell_type": "code",
   "execution_count": 1,
   "metadata": {},
   "outputs": [],
   "source": [
    "import os\n",
    "import numpy as np\n",
    "import pandas as pd\n",
    "import matplotlib.pyplot as plt\n",
    "import pydotplus\n",
    "import seaborn as sns\n",
    "from IPython.display import Image\n",
    "from sklearn.metrics import confusion_matrix\n",
    "from sklearn.metrics import ConfusionMatrixDisplay\n",
    "from sklearn.model_selection import GridSearchCV,StratifiedKFold\n",
    "from sklearn.model_selection import train_test_split\n",
    "from sklearn.discriminant_analysis import StandardScaler\n",
    "from sklearn.metrics import precision_score, recall_score, classification_report\n",
    "import imblearn\n",
    "from imblearn.over_sampling import RandomOverSampler\n",
    "from imblearn.under_sampling import RandomUnderSampler\n",
    "from sklearn.linear_model import LogisticRegression\n",
    "from sklearn.neighbors import KNeighborsClassifier\n",
    "from sklearn.tree import DecisionTreeClassifier,  export_graphviz\n",
    "from sklearn.ensemble import RandomForestClassifier\n",
    "from sklearn.svm import SVC\n",
    "from sklearn.ensemble import AdaBoostClassifier"
   ]
  },
  {
   "cell_type": "code",
   "execution_count": 2,
   "metadata": {},
   "outputs": [
    {
     "name": "stdout",
     "output_type": "stream",
     "text": [
      "<class 'pandas.core.frame.DataFrame'>\n",
      "RangeIndex: 166664 entries, 0 to 166663\n",
      "Data columns (total 31 columns):\n",
      " #   Column                     Non-Null Count   Dtype         \n",
      "---  ------                     --------------   -----         \n",
      " 0   date                       166664 non-null  datetime64[ns]\n",
      " 1   state                      166664 non-null  object        \n",
      " 2   city_or_county             166664 non-null  object        \n",
      " 3   latitude                   166664 non-null  float64       \n",
      " 4   longitude                  166664 non-null  float64       \n",
      " 5   congressional_district     166664 non-null  int64         \n",
      " 6   avg_age_participants       166664 non-null  float64       \n",
      " 7   n_participants_child       166664 non-null  int64         \n",
      " 8   n_participants_teen        166664 non-null  int64         \n",
      " 9   n_females                  166664 non-null  float64       \n",
      " 10  n_killed                   166664 non-null  float64       \n",
      " 11  n_injured                  166664 non-null  float64       \n",
      " 12  n_arrested                 166664 non-null  float64       \n",
      " 13  n_unharmed                 166664 non-null  float64       \n",
      " 14  n_participants             166664 non-null  float64       \n",
      " 15  incident_characteristics1  166664 non-null  object        \n",
      " 16  povertyPercentage          166664 non-null  float64       \n",
      " 17  party                      166664 non-null  object        \n",
      " 18  candidatevotes             166664 non-null  int64         \n",
      " 19  totalvotes                 166664 non-null  int64         \n",
      " 20  incident_gravity           166664 non-null  float64       \n",
      " 21  females_rate               166664 non-null  float64       \n",
      " 22  minor_rate                 166664 non-null  float64       \n",
      " 23  arrested_rate              166664 non-null  float64       \n",
      " 24  survival_rate              166664 non-null  float64       \n",
      " 25  winning_party_percentage   166664 non-null  float64       \n",
      " 26  killed_rate                166664 non-null  float64       \n",
      " 27  injured_rate               166664 non-null  float64       \n",
      " 28  killed_disp_per_district   166664 non-null  float64       \n",
      " 29  injured_disp_per_district  166664 non-null  float64       \n",
      " 30  part_disp_per_district     166664 non-null  float64       \n",
      "dtypes: datetime64[ns](1), float64(21), int64(5), object(4)\n",
      "memory usage: 39.4+ MB\n"
     ]
    }
   ],
   "source": [
    "df = pd.read_csv('../DM_6_TASK1/df_after_dp.csv', parse_dates=['date'])\n",
    "df.info()"
   ]
  },
  {
   "cell_type": "code",
   "execution_count": 3,
   "metadata": {},
   "outputs": [
    {
     "name": "stdout",
     "output_type": "stream",
     "text": [
      "<class 'pandas.core.frame.DataFrame'>\n",
      "RangeIndex: 166664 entries, 0 to 166663\n",
      "Data columns (total 32 columns):\n",
      " #   Column                     Non-Null Count   Dtype         \n",
      "---  ------                     --------------   -----         \n",
      " 0   date                       166664 non-null  datetime64[ns]\n",
      " 1   state                      166664 non-null  object        \n",
      " 2   city_or_county             166664 non-null  object        \n",
      " 3   latitude                   166664 non-null  float64       \n",
      " 4   longitude                  166664 non-null  float64       \n",
      " 5   congressional_district     166664 non-null  int64         \n",
      " 6   avg_age_participants       166664 non-null  float64       \n",
      " 7   n_participants_child       166664 non-null  int64         \n",
      " 8   n_participants_teen        166664 non-null  int64         \n",
      " 9   n_females                  166664 non-null  float64       \n",
      " 10  n_killed                   166664 non-null  float64       \n",
      " 11  n_injured                  166664 non-null  float64       \n",
      " 12  n_arrested                 166664 non-null  float64       \n",
      " 13  n_unharmed                 166664 non-null  float64       \n",
      " 14  n_participants             166664 non-null  float64       \n",
      " 15  incident_characteristics1  166664 non-null  object        \n",
      " 16  povertyPercentage          166664 non-null  float64       \n",
      " 17  party                      166664 non-null  object        \n",
      " 18  candidatevotes             166664 non-null  int64         \n",
      " 19  totalvotes                 166664 non-null  int64         \n",
      " 20  incident_gravity           166664 non-null  float64       \n",
      " 21  females_rate               166664 non-null  float64       \n",
      " 22  minor_rate                 166664 non-null  float64       \n",
      " 23  arrested_rate              166664 non-null  float64       \n",
      " 24  survival_rate              166664 non-null  float64       \n",
      " 25  winning_party_percentage   166664 non-null  float64       \n",
      " 26  killed_rate                166664 non-null  float64       \n",
      " 27  injured_rate               166664 non-null  float64       \n",
      " 28  killed_disp_per_district   166664 non-null  float64       \n",
      " 29  injured_disp_per_district  166664 non-null  float64       \n",
      " 30  part_disp_per_district     166664 non-null  float64       \n",
      " 31  isKilled                   166664 non-null  int64         \n",
      "dtypes: datetime64[ns](1), float64(21), int64(6), object(4)\n",
      "memory usage: 40.7+ MB\n"
     ]
    }
   ],
   "source": [
    "df['isKilled'] = np.where(df['n_killed'] > 0, 1, 0)\n",
    "df.info()"
   ]
  },
  {
   "cell_type": "code",
   "execution_count": 4,
   "metadata": {},
   "outputs": [],
   "source": [
    "def discretize_data(dataset, variables):\n",
    "    for variable in variables:\n",
    "        #get the unique variable's values\n",
    "        var = sorted(dataset[variable].unique())\n",
    "        \n",
    "        #generate a mapping from the variable's values to the number representation  \n",
    "        mapping = dict(zip(var, range(0, len(var) + 1)))\n",
    "\n",
    "        #add a new colum with the number representation of the variable\n",
    "        dataset[variable+'_num'] = dataset[variable].map(mapping).astype(int)\n",
    "    return dataset"
   ]
  },
  {
   "cell_type": "code",
   "execution_count": 5,
   "metadata": {},
   "outputs": [],
   "source": [
    "to_discretize = ['date', 'state', 'city_or_county', 'party', 'incident_characteristics1']\n",
    "df = discretize_data(df, to_discretize)"
   ]
  },
  {
   "cell_type": "code",
   "execution_count": 6,
   "metadata": {},
   "outputs": [
    {
     "name": "stdout",
     "output_type": "stream",
     "text": [
      "<class 'pandas.core.frame.DataFrame'>\n",
      "RangeIndex: 166664 entries, 0 to 166663\n",
      "Data columns (total 32 columns):\n",
      " #   Column                         Non-Null Count   Dtype  \n",
      "---  ------                         --------------   -----  \n",
      " 0   latitude                       166664 non-null  float64\n",
      " 1   longitude                      166664 non-null  float64\n",
      " 2   congressional_district         166664 non-null  int64  \n",
      " 3   avg_age_participants           166664 non-null  float64\n",
      " 4   n_participants_child           166664 non-null  int64  \n",
      " 5   n_participants_teen            166664 non-null  int64  \n",
      " 6   n_females                      166664 non-null  float64\n",
      " 7   n_killed                       166664 non-null  float64\n",
      " 8   n_injured                      166664 non-null  float64\n",
      " 9   n_arrested                     166664 non-null  float64\n",
      " 10  n_unharmed                     166664 non-null  float64\n",
      " 11  n_participants                 166664 non-null  float64\n",
      " 12  povertyPercentage              166664 non-null  float64\n",
      " 13  candidatevotes                 166664 non-null  int64  \n",
      " 14  totalvotes                     166664 non-null  int64  \n",
      " 15  incident_gravity               166664 non-null  float64\n",
      " 16  females_rate                   166664 non-null  float64\n",
      " 17  minor_rate                     166664 non-null  float64\n",
      " 18  arrested_rate                  166664 non-null  float64\n",
      " 19  survival_rate                  166664 non-null  float64\n",
      " 20  winning_party_percentage       166664 non-null  float64\n",
      " 21  killed_rate                    166664 non-null  float64\n",
      " 22  injured_rate                   166664 non-null  float64\n",
      " 23  killed_disp_per_district       166664 non-null  float64\n",
      " 24  injured_disp_per_district      166664 non-null  float64\n",
      " 25  part_disp_per_district         166664 non-null  float64\n",
      " 26  isKilled                       166664 non-null  int64  \n",
      " 27  date_num                       166664 non-null  int64  \n",
      " 28  state_num                      166664 non-null  int64  \n",
      " 29  city_or_county_num             166664 non-null  int64  \n",
      " 30  party_num                      166664 non-null  int64  \n",
      " 31  incident_characteristics1_num  166664 non-null  int64  \n",
      "dtypes: float64(21), int64(11)\n",
      "memory usage: 40.7 MB\n"
     ]
    }
   ],
   "source": [
    "df.drop(columns=['date', 'state', 'city_or_county', 'party', 'incident_characteristics1'], axis=1,inplace=True)\n",
    "df.info()"
   ]
  },
  {
   "cell_type": "code",
   "execution_count": 7,
   "metadata": {},
   "outputs": [],
   "source": [
    "col_to_drop = ['latitude', 'longitude', 'n_killed', 'candidatevotes', 'totalvotes', 'incident_gravity', 'females_rate',\n",
    "       'minor_rate', 'arrested_rate', 'survival_rate',  'killed_rate', 'injured_rate',\n",
    "       'killed_disp_per_district', 'injured_disp_per_district',\n",
    "       'part_disp_per_district', 'winning_party_percentage', 'n_injured','n_unharmed', \"incident_characteristics1_num\"]\n",
    "\n",
    "df.drop(columns=col_to_drop, axis=1,inplace=True)"
   ]
  },
  {
   "cell_type": "code",
   "execution_count": 8,
   "metadata": {},
   "outputs": [],
   "source": [
    "label = df.pop('isKilled')"
   ]
  },
  {
   "cell_type": "code",
   "execution_count": 9,
   "metadata": {},
   "outputs": [],
   "source": [
    "X_trvl, X_test, y_trvl, y_test = train_test_split(df, label, test_size=0.30,random_state=10, stratify=label)"
   ]
  },
  {
   "cell_type": "code",
   "execution_count": 10,
   "metadata": {},
   "outputs": [],
   "source": [
    "cv_strategy = StratifiedKFold(n_splits=5, shuffle=True, random_state=42)"
   ]
  },
  {
   "cell_type": "code",
   "execution_count": 11,
   "metadata": {},
   "outputs": [
    {
     "name": "stdout",
     "output_type": "stream",
     "text": [
      "isKilled\n",
      "0    0.5\n",
      "1    0.5\n",
      "Name: proportion, dtype: float64\n"
     ]
    }
   ],
   "source": [
    "undersample = RandomUnderSampler(sampling_strategy='majority',random_state=15)\n",
    "X_trvl_undersample, y_trvl_undersample = undersample.fit_resample(X_trvl, y_trvl)\n",
    "print(y_trvl_undersample.value_counts(True))"
   ]
  },
  {
   "cell_type": "code",
   "execution_count": 12,
   "metadata": {},
   "outputs": [],
   "source": [
    "X_trvl_undersample_df = pd.DataFrame(X_trvl_undersample, columns=X_trvl.columns)"
   ]
  },
  {
   "cell_type": "code",
   "execution_count": 13,
   "metadata": {},
   "outputs": [],
   "source": [
    "def print_metrics_cv(results_hp_search, model_name):\n",
    "    index_best_model = results_hp_search.best_index_ \n",
    "    results_dict = results_hp_search.cv_results_\n",
    "    metrics_list=['accuracy', 'precision', 'recall', 'f1', 'roc_auc']\n",
    "    if model_name == 'MLP':\n",
    "        metrics_list.append('mse')\n",
    "    print(f\"CV best configuration for {model_name}:\")\n",
    "    print(f\"best parameters {results_dict['params'][index_best_model]}\")\n",
    "    for i in metrics_list:        \n",
    "        if i == 'mse':\n",
    "            print(f'Mean {i} train set: {abs(results_dict[f\"mean_train_{i}\"][index_best_model])} +/- {results_dict[f\"std_train_{i}\"][index_best_model]}')\n",
    "            continue\n",
    "        print(f'Mean {i} train set: {results_dict[f\"mean_train_{i}\"][index_best_model]} +/- {results_dict[f\"std_train_{i}\"][index_best_model]}')\n",
    "    print(\"\\n\")\n",
    "    for i in metrics_list:\n",
    "        if i == 'mse':\n",
    "            print(f'Mean {i} train set: {abs(results_dict[f\"mean_test_{i}\"][index_best_model])} +/- {results_dict[f\"std_test_{i}\"][index_best_model]}')\n",
    "            continue\n",
    "        print(f'Mean {i} validation set: {results_dict[f\"mean_test_{i}\"][index_best_model]} +/- {results_dict[f\"std_test_{i}\"][index_best_model]}')\n",
    "    print(\"\\n\")"
   ]
  },
  {
   "cell_type": "code",
   "execution_count": 14,
   "metadata": {},
   "outputs": [],
   "source": [
    "# Function that prints the classification report\n",
    "def print_report_score(test_label, test_pred):\n",
    "    print(classification_report(test_label, \n",
    "                            test_pred, \n",
    "                            target_names=['NotKilled', 'isKilled']))\n",
    "\n",
    "# Function that prints the confusion matrix\n",
    "def print_confusion_matrix(test_label, pred_label, model):\n",
    "    cm = confusion_matrix(test_label, pred_label)\n",
    "    disp = ConfusionMatrixDisplay(confusion_matrix=cm, display_labels=model.classes_)\n",
    "    disp.plot()\n",
    "    plt.show()"
   ]
  },
  {
   "cell_type": "code",
   "execution_count": 15,
   "metadata": {},
   "outputs": [],
   "source": [
    "# Function extracting each grid from dictionary of grids\n",
    "def list_grids(grids_dict):\n",
    "    return [grids_dict[item] for item in grids_dict]\n",
    "\n",
    "# Function performing gridsearch cv according to sklearn\n",
    "def do_sklearn_GridSearchCV(model_name,model,param_grid,scoring,refit,cv,return_train_score,n_jobs,X_encoded,y):\n",
    "    hp_search = GridSearchCV(model,\n",
    "                                param_grid=param_grid,\n",
    "                                scoring=scoring,\n",
    "                                refit=refit,\n",
    "                                cv=cv,\n",
    "                                return_train_score=return_train_score,\n",
    "                                n_jobs=n_jobs,\n",
    "                                verbose=10\n",
    "                                ).fit(X_encoded, y)\n",
    "\n",
    "\n",
    "    results = pd.DataFrame(hp_search.cv_results_)\n",
    "    if not os.path.isdir(f\"cv_results/\"):\n",
    "        os.mkdir(f\"cv_results/\")\n",
    "\n",
    "    results.to_csv(f\"cv_results/{model_name}_cv_results.csv\")\n",
    "\n",
    "    return hp_search"
   ]
  },
  {
   "cell_type": "markdown",
   "metadata": {},
   "source": [
    "## Grid Search EBM"
   ]
  },
  {
   "cell_type": "markdown",
   "metadata": {},
   "source": [
    "We decided to use a grid search for the EBM model, as the other models used for the classification, in order to understand and analyse an optimal model configuration for accurate insights."
   ]
  },
  {
   "cell_type": "code",
   "execution_count": null,
   "metadata": {},
   "outputs": [],
   "source": [
    "from interpret.glassbox import ExplainableBoostingClassifier\n",
    "\n",
    "ebm = ExplainableBoostingClassifier()\n",
    "\n",
    "ebm_grid = {\n",
    "    'learning_rate': [0.01, 0.1, 0.05],\n",
    "    'random_state': [10],\n",
    "    'min_samples_leaf': [1, 2, 3],\n",
    "    'max_leaves': [3, 5, 7]\n",
    "    }\n",
    "\n",
    "ebm_grid_search = do_sklearn_GridSearchCV('ebm', ebm, ebm_grid, ['accuracy', 'precision', 'recall', 'f1', 'roc_auc'],\"accuracy\", cv_strategy, True, 4, X_trvl_undersample_df, y_trvl_undersample)\n"
   ]
  },
  {
   "cell_type": "code",
   "execution_count": 17,
   "metadata": {},
   "outputs": [
    {
     "name": "stdout",
     "output_type": "stream",
     "text": [
      "CV best configuration for EBM:\n",
      "best parameters {'learning_rate': 0.1, 'max_leaves': 5, 'min_samples_leaf': 2, 'random_state': 10}\n",
      "Mean accuracy train set: 0.7382717054894934 +/- 0.0008437675508958408\n",
      "Mean precision train set: 0.7103059739292507 +/- 0.0010520399635526873\n",
      "Mean recall train set: 0.8047646196448932 +/- 0.0009355362299597924\n",
      "Mean f1 train set: 0.7545899694431508 +/- 0.0006685387513347434\n",
      "Mean roc_auc train set: 0.8168804544703511 +/- 0.00100989568590564\n",
      "\n",
      "\n",
      "Mean accuracy validation set: 0.7299397295976544 +/- 0.002679775171549595\n",
      "Mean precision validation set: 0.7027434870454287 +/- 0.002829479352917121\n",
      "Mean recall validation set: 0.7970353477765109 +/- 0.0036959121162122356\n",
      "Mean f1 validation set: 0.7469195873501515 +/- 0.0024747236351806705\n",
      "Mean roc_auc validation set: 0.8038604893141649 +/- 0.003428661741491769\n",
      "\n",
      "\n",
      "Testing:\n",
      "              precision    recall  f1-score   support\n",
      "\n",
      "   NotKilled       0.90      0.67      0.77     36845\n",
      "    isKilled       0.46      0.80      0.59     13155\n",
      "\n",
      "    accuracy                           0.70     50000\n",
      "   macro avg       0.68      0.73      0.68     50000\n",
      "weighted avg       0.79      0.70      0.72     50000\n",
      "\n"
     ]
    },
    {
     "data": {
      "image/png": "[encoded data removed]",
      "text/plain": [
       "<Figure size 640x480 with 2 Axes>"
      ]
     },
     "metadata": {},
     "output_type": "display_data"
    }
   ],
   "source": [
    "print_metrics_cv(ebm_grid_search,\"EBM\")\n",
    "print(\"Testing:\")\n",
    "test_pred_ebm = ebm_grid_search.predict(X_test)\n",
    "print_report_score(y_test,test_pred_ebm)\n",
    "print_confusion_matrix(y_test,test_pred_ebm,ebm_grid_search)"
   ]
  },
  {
   "cell_type": "markdown",
   "metadata": {},
   "source": [
    "## Global Explaination (training set)"
   ]
  },
  {
   "cell_type": "code",
   "execution_count": 18,
   "metadata": {},
   "outputs": [
    {
     "data": {
      "text/html": [
       "<!-- http://127.0.0.1:7001/10813870416/ -->\n",
       "<iframe src=\"http://127.0.0.1:7001/10813870416/\" width=100% height=800 frameBorder=\"0\"></iframe>"
      ]
     },
     "metadata": {},
     "output_type": "display_data"
    }
   ],
   "source": [
    "from interpret import show\n",
    "\n",
    "ebm_global = ebm_grid_search.best_estimator_.explain_global()\n",
    "show(ebm_global)\n"
   ]
  },
  {
   "cell_type": "markdown",
   "metadata": {},
   "source": [
    "From the global explaination we can see that n_participants & n_arrested (interaction) has a big impact on the involveKilling, \n",
    "i.e. when we have only a participant but no arrested people there is a good probability that that person died in the incident.\n",
    "Or if we have 2 participants and 2 arrested, thoose criminals have been stopped before they could have killed someone.\n",
    "\n",
    "The avg_age_participants influence the involveKilling prediction, in particular low ages add a < -1.5 value to the prediction operation.\n",
    "\n",
    "Poverty percentage is less relevant than we expected, only if the poverty percentage is really low for a place the probability of a killing will be decrease, on the other hand, big values of poverty percentage don't correspond to a big increment in the probability of a killing involved.\n",
    "\n",
    "Also the majority voted party has no relevant impact.\n",
    "\n",
    "An interesting pattern can be observed in the number of arrests, specifically, when the number of arrested individuals increases, it decrease the probability of a killing being involved. This might be attributed to the timely police intervention when multiple individuals are arrested, preventing the situation from escalating.\n",
    "\n",
    "A big amount of participants increases of course the probability of a killing.\n",
    "\n",
    "A few cities or counties, as well as certain states, exhibit a noticeable impact on increasing or decreasing the probability of a killing."
   ]
  },
  {
   "cell_type": "markdown",
   "metadata": {},
   "source": [
    "## Local Explaination (Test set examples)"
   ]
  },
  {
   "cell_type": "code",
   "execution_count": 19,
   "metadata": {},
   "outputs": [
    {
     "data": {
      "text/html": [
       "<!-- http://127.0.0.1:7001/10931654928/ -->\n",
       "<iframe src=\"http://127.0.0.1:7001/10931654928/\" width=100% height=800 frameBorder=\"0\"></iframe>"
      ]
     },
     "metadata": {},
     "output_type": "display_data"
    }
   ],
   "source": [
    "ebm_local = ebm_grid_search.best_estimator_.explain_local(X_test[4:8], y_test[4:8])\n",
    "show(ebm_local)"
   ]
  },
  {
   "cell_type": "markdown",
   "metadata": {},
   "source": [
    "We choose 4 examples from the local explaination to analyze them, to understand the impact of each relevant feature.\n",
    "\n",
    "In the first case, the model predicted 0 while the actual outcome was 1. The intercept has a negative value, favoring zero. The number of arrests and participants combination pushes towards a higher chance of a killing, scoring 0.71. However, the state variable has a considerable negative impact of 0.66. Together, with the other negative factors, it has been obtained an incorrect prediction of 'no killing.' It's clear the model was uncertain in this case.\n",
    "\n",
    "In the second example, the model made a mistake by predicting a 1 when the actual outcome was 0. This happened because of the high average age of participants and the combined effect of arrests and the number of participants. The model wasn't very sure about this prediction, more uncertain than in the first example.\n",
    "\n",
    "In the third example, the model correctly predicted a killing because of the number of participants and arrests. However, the uncertainty came from the single person involved in the incident.\n",
    "\n",
    "The fourth example stands out as a striking instance of an incident correctly predicted to not involve a killing. In this scenario, all individuals involved were arrested, resulting in a high probability of correctness at 0.98 for this prediction.\n",
    "\n"
   ]
  },
  {
   "cell_type": "markdown",
   "metadata": {},
   "source": [
    "## Metrics"
   ]
  },
  {
   "cell_type": "code",
   "execution_count": 20,
   "metadata": {},
   "outputs": [
    {
     "name": "stdout",
     "output_type": "stream",
     "text": [
      "AUC: 0.809\n"
     ]
    }
   ],
   "source": [
    "from sklearn.metrics import roc_auc_score\n",
    "\n",
    "auc = roc_auc_score(y_test, ebm_grid_search.best_estimator_.predict_proba(X_test)[:, 1])\n",
    "print(\"AUC: {:.3f}\".format(auc))"
   ]
  },
  {
   "cell_type": "code",
   "execution_count": 21,
   "metadata": {},
   "outputs": [
    {
     "name": "stdout",
     "output_type": "stream",
     "text": [
      "Accuracy: 0.702\n"
     ]
    }
   ],
   "source": [
    "#calculate accuracy\n",
    "from sklearn.metrics import accuracy_score\n",
    "accuracy = accuracy_score(y_test, ebm_grid_search.best_estimator_.predict(X_test))\n",
    "print(\"Accuracy: {:.3f}\".format(accuracy))"
   ]
  },
  {
   "cell_type": "code",
   "execution_count": 22,
   "metadata": {},
   "outputs": [
    {
     "data": {
      "text/html": [
       "<!-- http://127.0.0.1:7001/10811493392/ -->\n",
       "<iframe src=\"http://127.0.0.1:7001/10811493392/\" width=100% height=800 frameBorder=\"0\"></iframe>"
      ]
     },
     "metadata": {},
     "output_type": "display_data"
    }
   ],
   "source": [
    "from interpret.perf import ROC\n",
    "\n",
    "ebm_perf = ROC(ebm_grid_search.best_estimator_.predict_proba).explain_perf(X_test, y_test, name='EBM Adult')\n",
    "\n",
    "show(ebm_perf)"
   ]
  }
 ],
 "metadata": {
  "kernelspec": {
   "display_name": "Python 3",
   "language": "python",
   "name": "python3"
  },
  "language_info": {
   "codemirror_mode": {
    "name": "ipython",
    "version": 3
   },
   "file_extension": ".py",
   "mimetype": "text/x-python",
   "name": "python",
   "nbconvert_exporter": "python",
   "pygments_lexer": "ipython3",
   "version": "3.11.7"
  }
 },
 "nbformat": 4,
 "nbformat_minor": 2
}
