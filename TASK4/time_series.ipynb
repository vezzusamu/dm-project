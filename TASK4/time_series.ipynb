{
 "cells": [
  {
   "cell_type": "code",
   "execution_count": 63,
   "metadata": {},
   "outputs": [],
   "source": [
    "import numpy as np\n",
    "import pandas as pd\n",
    "import matplotlib.pyplot as plt\n",
    "import seaborn as sns\n",
    "from sklearn.metrics import confusion_matrix\n",
    "from sklearn.metrics import ConfusionMatrixDisplay"
   ]
  },
  {
   "cell_type": "code",
   "execution_count": 64,
   "metadata": {},
   "outputs": [
    {
     "name": "stdout",
     "output_type": "stream",
     "text": [
      "<class 'pandas.core.frame.DataFrame'>\n",
      "RangeIndex: 187534 entries, 0 to 187533\n",
      "Data columns (total 36 columns):\n",
      " #   Column                            Non-Null Count   Dtype         \n",
      "---  ------                            --------------   -----         \n",
      " 0   date                              187534 non-null  datetime64[ns]\n",
      " 1   state                             187534 non-null  object        \n",
      " 2   city_or_county                    187534 non-null  object        \n",
      " 3   latitude                          187534 non-null  float64       \n",
      " 4   longitude                         187534 non-null  float64       \n",
      " 5   congressional_district            187534 non-null  int64         \n",
      " 6   avg_age_participants              187534 non-null  float64       \n",
      " 7   n_participants_child              187534 non-null  int64         \n",
      " 8   n_participants_teen               187534 non-null  int64         \n",
      " 9   n_females                         187534 non-null  float64       \n",
      " 10  n_killed                          187534 non-null  float64       \n",
      " 11  n_injured                         187534 non-null  float64       \n",
      " 12  n_arrested                        187534 non-null  float64       \n",
      " 13  n_unharmed                        187534 non-null  float64       \n",
      " 14  n_participants                    187534 non-null  float64       \n",
      " 15  incident_characteristics1         187534 non-null  object        \n",
      " 16  povertyPercentage                 187534 non-null  float64       \n",
      " 17  party                             187534 non-null  object        \n",
      " 18  candidatevotes                    187534 non-null  int64         \n",
      " 19  totalvotes                        187534 non-null  int64         \n",
      " 20  killed_percentage_per_district    187534 non-null  float64       \n",
      " 21  injured_percentage_per_district   187534 non-null  float64       \n",
      " 22  arrested_percentage_per_district  187534 non-null  float64       \n",
      " 23  unharmed_percentage_per_district  187534 non-null  float64       \n",
      " 24  females_rate                      187534 non-null  float64       \n",
      " 25  child_rate                        187534 non-null  float64       \n",
      " 26  teen_rate                         187534 non-null  float64       \n",
      " 27  killed_rate                       187534 non-null  float64       \n",
      " 28  injured_rate                      187534 non-null  float64       \n",
      " 29  arrested_rate                     187534 non-null  float64       \n",
      " 30  survival_rate                     187534 non-null  float64       \n",
      " 31  winning_party_percentage          187534 non-null  float64       \n",
      " 32  unharmed_disp                     187534 non-null  float64       \n",
      " 33  killed_disp                       187534 non-null  float64       \n",
      " 34  injured_disp                      187534 non-null  float64       \n",
      " 35  arrested_disp                     187534 non-null  float64       \n",
      "dtypes: datetime64[ns](1), float64(26), int64(5), object(4)\n",
      "memory usage: 51.5+ MB\n"
     ]
    }
   ],
   "source": [
    "df = pd.read_csv('../df_after_dp.csv', parse_dates=['date'])\n",
    "df.info()"
   ]
  },
  {
   "cell_type": "code",
   "execution_count": 65,
   "metadata": {},
   "outputs": [
    {
     "data": {
      "text/plain": [
       "False"
      ]
     },
     "execution_count": 65,
     "metadata": {},
     "output_type": "execute_result"
    }
   ],
   "source": [
    "#check if there is any null value\n",
    "df.isnull().values.any()"
   ]
  },
  {
   "cell_type": "code",
   "execution_count": 66,
   "metadata": {},
   "outputs": [
    {
     "name": "stdout",
     "output_type": "stream",
     "text": [
      "<class 'pandas.core.frame.DataFrame'>\n",
      "RangeIndex: 187534 entries, 0 to 187533\n",
      "Data columns (total 36 columns):\n",
      " #   Column                            Non-Null Count   Dtype         \n",
      "---  ------                            --------------   -----         \n",
      " 0   date                              187534 non-null  datetime64[ns]\n",
      " 1   state                             187534 non-null  object        \n",
      " 2   city_or_county                    187534 non-null  object        \n",
      " 3   latitude                          187534 non-null  float64       \n",
      " 4   longitude                         187534 non-null  float64       \n",
      " 5   congressional_district            187534 non-null  int64         \n",
      " 6   avg_age_participants              187534 non-null  float64       \n",
      " 7   n_participants_child              187534 non-null  int64         \n",
      " 8   n_participants_teen               187534 non-null  int64         \n",
      " 9   n_females                         187534 non-null  float64       \n",
      " 10  n_killed                          187534 non-null  float64       \n",
      " 11  n_injured                         187534 non-null  float64       \n",
      " 12  n_arrested                        187534 non-null  float64       \n",
      " 13  n_unharmed                        187534 non-null  float64       \n",
      " 14  n_participants                    187534 non-null  float64       \n",
      " 15  incident_characteristics1         187534 non-null  object        \n",
      " 16  povertyPercentage                 187534 non-null  float64       \n",
      " 17  party                             187534 non-null  object        \n",
      " 18  candidatevotes                    187534 non-null  int64         \n",
      " 19  totalvotes                        187534 non-null  int64         \n",
      " 20  killed_percentage_per_district    187534 non-null  float64       \n",
      " 21  injured_percentage_per_district   187534 non-null  float64       \n",
      " 22  arrested_percentage_per_district  187534 non-null  float64       \n",
      " 23  unharmed_percentage_per_district  187534 non-null  float64       \n",
      " 24  females_rate                      187534 non-null  float64       \n",
      " 25  child_rate                        187534 non-null  float64       \n",
      " 26  teen_rate                         187534 non-null  float64       \n",
      " 27  killed_rate                       187534 non-null  float64       \n",
      " 28  injured_rate                      187534 non-null  float64       \n",
      " 29  arrested_rate                     187534 non-null  float64       \n",
      " 30  survival_rate                     187534 non-null  float64       \n",
      " 31  winning_party_percentage          187534 non-null  float64       \n",
      " 32  unharmed_disp                     187534 non-null  float64       \n",
      " 33  killed_disp                       187534 non-null  float64       \n",
      " 34  injured_disp                      187534 non-null  float64       \n",
      " 35  arrested_disp                     187534 non-null  float64       \n",
      "dtypes: datetime64[ns](1), float64(26), int64(5), object(4)\n",
      "memory usage: 51.5+ MB\n"
     ]
    }
   ],
   "source": [
    "df.info()"
   ]
  },
  {
   "cell_type": "markdown",
   "metadata": {},
   "source": [
    "From the previous steps we decided to analyse the incidents from 2014 to 2017, so we don't need to filter the elements."
   ]
  },
  {
   "cell_type": "code",
   "execution_count": 67,
   "metadata": {},
   "outputs": [],
   "source": [
    "#Extracting the week number from the date\n",
    "df[\"week_number\"] = df[\"date\"].dt.isocalendar().week"
   ]
  },
  {
   "cell_type": "markdown",
   "metadata": {},
   "source": [
    "Group the filtered dataset by city and week, and count the number of incidents in each group."
   ]
  },
  {
   "cell_type": "code",
   "execution_count": 68,
   "metadata": {},
   "outputs": [],
   "source": [
    "counts = df.groupby(['city_or_county', 'week_number']).size().reset_index(name='count')\n"
   ]
  },
  {
   "cell_type": "code",
   "execution_count": 69,
   "metadata": {},
   "outputs": [
    {
     "data": {
      "text/html": [
       "<div>\n",
       "<style scoped>\n",
       "    .dataframe tbody tr th:only-of-type {\n",
       "        vertical-align: middle;\n",
       "    }\n",
       "\n",
       "    .dataframe tbody tr th {\n",
       "        vertical-align: top;\n",
       "    }\n",
       "\n",
       "    .dataframe thead th {\n",
       "        text-align: right;\n",
       "    }\n",
       "</style>\n",
       "<table border=\"1\" class=\"dataframe\">\n",
       "  <thead>\n",
       "    <tr style=\"text-align: right;\">\n",
       "      <th></th>\n",
       "      <th>city_or_county</th>\n",
       "      <th>week_number</th>\n",
       "      <th>count</th>\n",
       "    </tr>\n",
       "  </thead>\n",
       "  <tbody>\n",
       "    <tr>\n",
       "      <th>0</th>\n",
       "      <td>Abbeville</td>\n",
       "      <td>2</td>\n",
       "      <td>1</td>\n",
       "    </tr>\n",
       "    <tr>\n",
       "      <th>1</th>\n",
       "      <td>Abbeville</td>\n",
       "      <td>3</td>\n",
       "      <td>1</td>\n",
       "    </tr>\n",
       "    <tr>\n",
       "      <th>2</th>\n",
       "      <td>Abbeville</td>\n",
       "      <td>6</td>\n",
       "      <td>1</td>\n",
       "    </tr>\n",
       "    <tr>\n",
       "      <th>3</th>\n",
       "      <td>Abbeville</td>\n",
       "      <td>7</td>\n",
       "      <td>1</td>\n",
       "    </tr>\n",
       "    <tr>\n",
       "      <th>4</th>\n",
       "      <td>Abbeville</td>\n",
       "      <td>8</td>\n",
       "      <td>2</td>\n",
       "    </tr>\n",
       "    <tr>\n",
       "      <th>...</th>\n",
       "      <td>...</td>\n",
       "      <td>...</td>\n",
       "      <td>...</td>\n",
       "    </tr>\n",
       "    <tr>\n",
       "      <th>65788</th>\n",
       "      <td>Zionville</td>\n",
       "      <td>44</td>\n",
       "      <td>1</td>\n",
       "    </tr>\n",
       "    <tr>\n",
       "      <th>65789</th>\n",
       "      <td>Zumbro Falls</td>\n",
       "      <td>27</td>\n",
       "      <td>1</td>\n",
       "    </tr>\n",
       "    <tr>\n",
       "      <th>65790</th>\n",
       "      <td>Zuni (Zuni Pueblo)</td>\n",
       "      <td>33</td>\n",
       "      <td>1</td>\n",
       "    </tr>\n",
       "    <tr>\n",
       "      <th>65791</th>\n",
       "      <td>Zwolle</td>\n",
       "      <td>15</td>\n",
       "      <td>1</td>\n",
       "    </tr>\n",
       "    <tr>\n",
       "      <th>65792</th>\n",
       "      <td>jefferson parish (county)</td>\n",
       "      <td>13</td>\n",
       "      <td>1</td>\n",
       "    </tr>\n",
       "  </tbody>\n",
       "</table>\n",
       "<p>65793 rows × 3 columns</p>\n",
       "</div>"
      ],
      "text/plain": [
       "                  city_or_county  week_number  count\n",
       "0                      Abbeville            2      1\n",
       "1                      Abbeville            3      1\n",
       "2                      Abbeville            6      1\n",
       "3                      Abbeville            7      1\n",
       "4                      Abbeville            8      2\n",
       "...                          ...          ...    ...\n",
       "65788                  Zionville           44      1\n",
       "65789               Zumbro Falls           27      1\n",
       "65790         Zuni (Zuni Pueblo)           33      1\n",
       "65791                     Zwolle           15      1\n",
       "65792  jefferson parish (county)           13      1\n",
       "\n",
       "[65793 rows x 3 columns]"
      ]
     },
     "execution_count": 69,
     "metadata": {},
     "output_type": "execute_result"
    }
   ],
   "source": [
    "counts"
   ]
  },
  {
   "cell_type": "code",
   "execution_count": 70,
   "metadata": {},
   "outputs": [
    {
     "data": {
      "text/html": [
       "<div>\n",
       "<style scoped>\n",
       "    .dataframe tbody tr th:only-of-type {\n",
       "        vertical-align: middle;\n",
       "    }\n",
       "\n",
       "    .dataframe tbody tr th {\n",
       "        vertical-align: top;\n",
       "    }\n",
       "\n",
       "    .dataframe thead th {\n",
       "        text-align: right;\n",
       "    }\n",
       "</style>\n",
       "<table border=\"1\" class=\"dataframe\">\n",
       "  <thead>\n",
       "    <tr style=\"text-align: right;\">\n",
       "      <th></th>\n",
       "      <th>city_or_county</th>\n",
       "      <th>weeks</th>\n",
       "    </tr>\n",
       "  </thead>\n",
       "  <tbody>\n",
       "    <tr>\n",
       "      <th>0</th>\n",
       "      <td>Abbeville</td>\n",
       "      <td>20</td>\n",
       "    </tr>\n",
       "    <tr>\n",
       "      <th>1</th>\n",
       "      <td>Abbotsford</td>\n",
       "      <td>1</td>\n",
       "    </tr>\n",
       "    <tr>\n",
       "      <th>2</th>\n",
       "      <td>Abbott</td>\n",
       "      <td>1</td>\n",
       "    </tr>\n",
       "    <tr>\n",
       "      <th>3</th>\n",
       "      <td>Abbottstown</td>\n",
       "      <td>1</td>\n",
       "    </tr>\n",
       "    <tr>\n",
       "      <th>4</th>\n",
       "      <td>Aberdeen</td>\n",
       "      <td>30</td>\n",
       "    </tr>\n",
       "    <tr>\n",
       "      <th>...</th>\n",
       "      <td>...</td>\n",
       "      <td>...</td>\n",
       "    </tr>\n",
       "    <tr>\n",
       "      <th>11578</th>\n",
       "      <td>Zionville</td>\n",
       "      <td>1</td>\n",
       "    </tr>\n",
       "    <tr>\n",
       "      <th>11579</th>\n",
       "      <td>Zumbro Falls</td>\n",
       "      <td>1</td>\n",
       "    </tr>\n",
       "    <tr>\n",
       "      <th>11580</th>\n",
       "      <td>Zuni (Zuni Pueblo)</td>\n",
       "      <td>1</td>\n",
       "    </tr>\n",
       "    <tr>\n",
       "      <th>11581</th>\n",
       "      <td>Zwolle</td>\n",
       "      <td>1</td>\n",
       "    </tr>\n",
       "    <tr>\n",
       "      <th>11582</th>\n",
       "      <td>jefferson parish (county)</td>\n",
       "      <td>1</td>\n",
       "    </tr>\n",
       "  </tbody>\n",
       "</table>\n",
       "<p>11583 rows × 2 columns</p>\n",
       "</div>"
      ],
      "text/plain": [
       "                  city_or_county  weeks\n",
       "0                      Abbeville     20\n",
       "1                     Abbotsford      1\n",
       "2                         Abbott      1\n",
       "3                    Abbottstown      1\n",
       "4                       Aberdeen     30\n",
       "...                          ...    ...\n",
       "11578                  Zionville      1\n",
       "11579               Zumbro Falls      1\n",
       "11580         Zuni (Zuni Pueblo)      1\n",
       "11581                     Zwolle      1\n",
       "11582  jefferson parish (county)      1\n",
       "\n",
       "[11583 rows x 2 columns]"
      ]
     },
     "execution_count": 70,
     "metadata": {},
     "output_type": "execute_result"
    }
   ],
   "source": [
    "city_counts = counts.groupby('city_or_county')['week_number'].nunique().reset_index(name='weeks')\n",
    "city_counts"
   ]
  },
  {
   "cell_type": "code",
   "execution_count": 71,
   "metadata": {},
   "outputs": [
    {
     "data": {
      "text/plain": [
       "5            Abilene\n",
       "48             Aiken\n",
       "55             Akron\n",
       "71            Albany\n",
       "82       Albuquerque\n",
       "            ...     \n",
       "11495         Yakima\n",
       "11526        Yonkers\n",
       "11528           York\n",
       "11542     Youngstown\n",
       "11548      Ypsilanti\n",
       "Name: city_or_county, Length: 484, dtype: object"
      ]
     },
     "execution_count": 71,
     "metadata": {},
     "output_type": "execute_result"
    }
   ],
   "source": [
    "weeks_lower_bound = 0.15 * 4 * 52\n",
    "cities_filtered = city_counts[city_counts['weeks'] > weeks_lower_bound]['city_or_county']\n",
    "cities_filtered"
   ]
  },
  {
   "cell_type": "code",
   "execution_count": 73,
   "metadata": {},
   "outputs": [
    {
     "data": {
      "text/html": [
       "<div>\n",
       "<style scoped>\n",
       "    .dataframe tbody tr th:only-of-type {\n",
       "        vertical-align: middle;\n",
       "    }\n",
       "\n",
       "    .dataframe tbody tr th {\n",
       "        vertical-align: top;\n",
       "    }\n",
       "\n",
       "    .dataframe thead th {\n",
       "        text-align: right;\n",
       "    }\n",
       "</style>\n",
       "<table border=\"1\" class=\"dataframe\">\n",
       "  <thead>\n",
       "    <tr style=\"text-align: right;\">\n",
       "      <th></th>\n",
       "      <th>city_or_county</th>\n",
       "      <th>week_number</th>\n",
       "      <th>count</th>\n",
       "    </tr>\n",
       "  </thead>\n",
       "  <tbody>\n",
       "    <tr>\n",
       "      <th>53</th>\n",
       "      <td>Abilene</td>\n",
       "      <td>1</td>\n",
       "      <td>7</td>\n",
       "    </tr>\n",
       "    <tr>\n",
       "      <th>54</th>\n",
       "      <td>Abilene</td>\n",
       "      <td>2</td>\n",
       "      <td>3</td>\n",
       "    </tr>\n",
       "    <tr>\n",
       "      <th>55</th>\n",
       "      <td>Abilene</td>\n",
       "      <td>3</td>\n",
       "      <td>1</td>\n",
       "    </tr>\n",
       "    <tr>\n",
       "      <th>56</th>\n",
       "      <td>Abilene</td>\n",
       "      <td>4</td>\n",
       "      <td>3</td>\n",
       "    </tr>\n",
       "    <tr>\n",
       "      <th>57</th>\n",
       "      <td>Abilene</td>\n",
       "      <td>5</td>\n",
       "      <td>4</td>\n",
       "    </tr>\n",
       "    <tr>\n",
       "      <th>...</th>\n",
       "      <td>...</td>\n",
       "      <td>...</td>\n",
       "      <td>...</td>\n",
       "    </tr>\n",
       "    <tr>\n",
       "      <th>65619</th>\n",
       "      <td>Ypsilanti</td>\n",
       "      <td>48</td>\n",
       "      <td>1</td>\n",
       "    </tr>\n",
       "    <tr>\n",
       "      <th>65620</th>\n",
       "      <td>Ypsilanti</td>\n",
       "      <td>49</td>\n",
       "      <td>2</td>\n",
       "    </tr>\n",
       "    <tr>\n",
       "      <th>65621</th>\n",
       "      <td>Ypsilanti</td>\n",
       "      <td>50</td>\n",
       "      <td>1</td>\n",
       "    </tr>\n",
       "    <tr>\n",
       "      <th>65622</th>\n",
       "      <td>Ypsilanti</td>\n",
       "      <td>51</td>\n",
       "      <td>1</td>\n",
       "    </tr>\n",
       "    <tr>\n",
       "      <th>65623</th>\n",
       "      <td>Ypsilanti</td>\n",
       "      <td>52</td>\n",
       "      <td>1</td>\n",
       "    </tr>\n",
       "  </tbody>\n",
       "</table>\n",
       "<p>21625 rows × 3 columns</p>\n",
       "</div>"
      ],
      "text/plain": [
       "      city_or_county  week_number  count\n",
       "53           Abilene            1      7\n",
       "54           Abilene            2      3\n",
       "55           Abilene            3      1\n",
       "56           Abilene            4      3\n",
       "57           Abilene            5      4\n",
       "...              ...          ...    ...\n",
       "65619      Ypsilanti           48      1\n",
       "65620      Ypsilanti           49      2\n",
       "65621      Ypsilanti           50      1\n",
       "65622      Ypsilanti           51      1\n",
       "65623      Ypsilanti           52      1\n",
       "\n",
       "[21625 rows x 3 columns]"
      ]
     },
     "execution_count": 73,
     "metadata": {},
     "output_type": "execute_result"
    }
   ],
   "source": [
    "counts_filtered = counts[counts['city_or_county'].isin(cities_filtered)]\n",
    "counts_filtered"
   ]
  },
  {
   "cell_type": "markdown",
   "metadata": {},
   "source": [
    "Compute a score for each city and week by dividing the number of incidents by the total number of weeks in the 4-year period.\n"
   ]
  },
  {
   "cell_type": "code",
   "execution_count": 44,
   "metadata": {},
   "outputs": [],
   "source": [
    "counts['score'] = counts['count'] / (4 * 52)\n"
   ]
  }
 ],
 "metadata": {
  "kernelspec": {
   "display_name": "base",
   "language": "python",
   "name": "python3"
  },
  "language_info": {
   "codemirror_mode": {
    "name": "ipython",
    "version": 3
   },
   "file_extension": ".py",
   "mimetype": "text/x-python",
   "name": "python",
   "nbconvert_exporter": "python",
   "pygments_lexer": "ipython3",
   "version": "3.9.13"
  }
 },
 "nbformat": 4,
 "nbformat_minor": 2
}
