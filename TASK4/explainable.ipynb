{
 "cells": [
  {
   "cell_type": "code",
   "execution_count": 17,
   "metadata": {},
   "outputs": [],
   "source": [
    "import os\n",
    "import numpy as np\n",
    "import pandas as pd\n",
    "import matplotlib.pyplot as plt\n",
    "import pydotplus\n",
    "import seaborn as sns\n",
    "from IPython.display import Image\n",
    "from sklearn.metrics import confusion_matrix\n",
    "from sklearn.metrics import ConfusionMatrixDisplay\n",
    "from sklearn.model_selection import GridSearchCV,StratifiedKFold\n",
    "from sklearn.model_selection import train_test_split\n",
    "from sklearn.discriminant_analysis import StandardScaler\n",
    "from sklearn.metrics import precision_score, recall_score, classification_report\n",
    "import imblearn\n",
    "from imblearn.over_sampling import RandomOverSampler\n",
    "from imblearn.under_sampling import RandomUnderSampler\n",
    "from sklearn.linear_model import LogisticRegression\n",
    "from sklearn.neighbors import KNeighborsClassifier\n",
    "from sklearn.tree import DecisionTreeClassifier,  export_graphviz\n",
    "from sklearn.ensemble import RandomForestClassifier\n",
    "from sklearn.svm import SVC\n",
    "from sklearn.ensemble import AdaBoostClassifier"
   ]
  },
  {
   "cell_type": "code",
   "execution_count": 18,
   "metadata": {},
   "outputs": [
    {
     "name": "stdout",
     "output_type": "stream",
     "text": [
      "<class 'pandas.core.frame.DataFrame'>\n",
      "RangeIndex: 187534 entries, 0 to 187533\n",
      "Data columns (total 31 columns):\n",
      " #   Column                     Non-Null Count   Dtype         \n",
      "---  ------                     --------------   -----         \n",
      " 0   date                       187534 non-null  datetime64[ns]\n",
      " 1   state                      187534 non-null  object        \n",
      " 2   city_or_county             187534 non-null  object        \n",
      " 3   latitude                   187534 non-null  float64       \n",
      " 4   longitude                  187534 non-null  float64       \n",
      " 5   congressional_district     187534 non-null  int64         \n",
      " 6   avg_age_participants       187534 non-null  float64       \n",
      " 7   n_participants_child       187534 non-null  int64         \n",
      " 8   n_participants_teen        187534 non-null  int64         \n",
      " 9   n_females                  187534 non-null  float64       \n",
      " 10  n_killed                   187534 non-null  float64       \n",
      " 11  n_injured                  187534 non-null  float64       \n",
      " 12  n_arrested                 187534 non-null  float64       \n",
      " 13  n_unharmed                 187534 non-null  float64       \n",
      " 14  n_participants             187534 non-null  float64       \n",
      " 15  incident_characteristics1  187534 non-null  object        \n",
      " 16  povertyPercentage          187534 non-null  float64       \n",
      " 17  party                      187534 non-null  object        \n",
      " 18  candidatevotes             187534 non-null  int64         \n",
      " 19  totalvotes                 187534 non-null  int64         \n",
      " 20  incident_gravity           187534 non-null  float64       \n",
      " 21  females_rate               187534 non-null  float64       \n",
      " 22  minor_rate                 187534 non-null  float64       \n",
      " 23  arrested_rate              187534 non-null  float64       \n",
      " 24  survival_rate              187534 non-null  float64       \n",
      " 25  winning_party_percentage   187534 non-null  float64       \n",
      " 26  killed_rate                187534 non-null  float64       \n",
      " 27  injured_rate               187534 non-null  float64       \n",
      " 28  killed_disp_per_district   187534 non-null  float64       \n",
      " 29  injured_disp_per_district  187534 non-null  float64       \n",
      " 30  part_disp_per_district     187534 non-null  float64       \n",
      "dtypes: datetime64[ns](1), float64(21), int64(5), object(4)\n",
      "memory usage: 44.4+ MB\n"
     ]
    }
   ],
   "source": [
    "df = pd.read_csv('../Task1/df_after_dp.csv', parse_dates=['date'])\n",
    "df.info()"
   ]
  },
  {
   "cell_type": "code",
   "execution_count": 19,
   "metadata": {},
   "outputs": [
    {
     "name": "stdout",
     "output_type": "stream",
     "text": [
      "<class 'pandas.core.frame.DataFrame'>\n",
      "RangeIndex: 187534 entries, 0 to 187533\n",
      "Data columns (total 32 columns):\n",
      " #   Column                     Non-Null Count   Dtype         \n",
      "---  ------                     --------------   -----         \n",
      " 0   date                       187534 non-null  datetime64[ns]\n",
      " 1   state                      187534 non-null  object        \n",
      " 2   city_or_county             187534 non-null  object        \n",
      " 3   latitude                   187534 non-null  float64       \n",
      " 4   longitude                  187534 non-null  float64       \n",
      " 5   congressional_district     187534 non-null  int64         \n",
      " 6   avg_age_participants       187534 non-null  float64       \n",
      " 7   n_participants_child       187534 non-null  int64         \n",
      " 8   n_participants_teen        187534 non-null  int64         \n",
      " 9   n_females                  187534 non-null  float64       \n",
      " 10  n_killed                   187534 non-null  float64       \n",
      " 11  n_injured                  187534 non-null  float64       \n",
      " 12  n_arrested                 187534 non-null  float64       \n",
      " 13  n_unharmed                 187534 non-null  float64       \n",
      " 14  n_participants             187534 non-null  float64       \n",
      " 15  incident_characteristics1  187534 non-null  object        \n",
      " 16  povertyPercentage          187534 non-null  float64       \n",
      " 17  party                      187534 non-null  object        \n",
      " 18  candidatevotes             187534 non-null  int64         \n",
      " 19  totalvotes                 187534 non-null  int64         \n",
      " 20  incident_gravity           187534 non-null  float64       \n",
      " 21  females_rate               187534 non-null  float64       \n",
      " 22  minor_rate                 187534 non-null  float64       \n",
      " 23  arrested_rate              187534 non-null  float64       \n",
      " 24  survival_rate              187534 non-null  float64       \n",
      " 25  winning_party_percentage   187534 non-null  float64       \n",
      " 26  killed_rate                187534 non-null  float64       \n",
      " 27  injured_rate               187534 non-null  float64       \n",
      " 28  killed_disp_per_district   187534 non-null  float64       \n",
      " 29  injured_disp_per_district  187534 non-null  float64       \n",
      " 30  part_disp_per_district     187534 non-null  float64       \n",
      " 31  isKilled                   187534 non-null  int64         \n",
      "dtypes: datetime64[ns](1), float64(21), int64(6), object(4)\n",
      "memory usage: 45.8+ MB\n"
     ]
    }
   ],
   "source": [
    "df['isKilled'] = np.where(df['n_killed'] > 0, 1, 0)\n",
    "df.info()"
   ]
  },
  {
   "cell_type": "code",
   "execution_count": 20,
   "metadata": {},
   "outputs": [],
   "source": [
    "def discretize_data(dataset, variables):\n",
    "    for variable in variables:\n",
    "        #get the unique variable's values\n",
    "        var = sorted(dataset[variable].unique())\n",
    "        \n",
    "        #generate a mapping from the variable's values to the number representation  \n",
    "        mapping = dict(zip(var, range(0, len(var) + 1)))\n",
    "\n",
    "        #add a new colum with the number representation of the variable\n",
    "        dataset[variable+'_num'] = dataset[variable].map(mapping).astype(int)\n",
    "    return dataset"
   ]
  },
  {
   "cell_type": "code",
   "execution_count": 21,
   "metadata": {},
   "outputs": [],
   "source": [
    "to_discretize = ['date', 'state', 'city_or_county', 'party', 'incident_characteristics1']\n",
    "df = discretize_data(df, to_discretize)"
   ]
  },
  {
   "cell_type": "code",
   "execution_count": 22,
   "metadata": {},
   "outputs": [
    {
     "name": "stdout",
     "output_type": "stream",
     "text": [
      "<class 'pandas.core.frame.DataFrame'>\n",
      "RangeIndex: 187534 entries, 0 to 187533\n",
      "Data columns (total 32 columns):\n",
      " #   Column                         Non-Null Count   Dtype  \n",
      "---  ------                         --------------   -----  \n",
      " 0   latitude                       187534 non-null  float64\n",
      " 1   longitude                      187534 non-null  float64\n",
      " 2   congressional_district         187534 non-null  int64  \n",
      " 3   avg_age_participants           187534 non-null  float64\n",
      " 4   n_participants_child           187534 non-null  int64  \n",
      " 5   n_participants_teen            187534 non-null  int64  \n",
      " 6   n_females                      187534 non-null  float64\n",
      " 7   n_killed                       187534 non-null  float64\n",
      " 8   n_injured                      187534 non-null  float64\n",
      " 9   n_arrested                     187534 non-null  float64\n",
      " 10  n_unharmed                     187534 non-null  float64\n",
      " 11  n_participants                 187534 non-null  float64\n",
      " 12  povertyPercentage              187534 non-null  float64\n",
      " 13  candidatevotes                 187534 non-null  int64  \n",
      " 14  totalvotes                     187534 non-null  int64  \n",
      " 15  incident_gravity               187534 non-null  float64\n",
      " 16  females_rate                   187534 non-null  float64\n",
      " 17  minor_rate                     187534 non-null  float64\n",
      " 18  arrested_rate                  187534 non-null  float64\n",
      " 19  survival_rate                  187534 non-null  float64\n",
      " 20  winning_party_percentage       187534 non-null  float64\n",
      " 21  killed_rate                    187534 non-null  float64\n",
      " 22  injured_rate                   187534 non-null  float64\n",
      " 23  killed_disp_per_district       187534 non-null  float64\n",
      " 24  injured_disp_per_district      187534 non-null  float64\n",
      " 25  part_disp_per_district         187534 non-null  float64\n",
      " 26  isKilled                       187534 non-null  int64  \n",
      " 27  date_num                       187534 non-null  int64  \n",
      " 28  state_num                      187534 non-null  int64  \n",
      " 29  city_or_county_num             187534 non-null  int64  \n",
      " 30  party_num                      187534 non-null  int64  \n",
      " 31  incident_characteristics1_num  187534 non-null  int64  \n",
      "dtypes: float64(21), int64(11)\n",
      "memory usage: 45.8 MB\n"
     ]
    }
   ],
   "source": [
    "df.drop(columns=['date', 'state', 'city_or_county', 'party', 'incident_characteristics1'], axis=1,inplace=True)\n",
    "df.info()"
   ]
  },
  {
   "cell_type": "code",
   "execution_count": 23,
   "metadata": {},
   "outputs": [],
   "source": [
    "col_to_drop = ['latitude', 'longitude', 'n_killed', 'candidatevotes', 'totalvotes', 'incident_gravity', 'females_rate',\n",
    "       'minor_rate', 'arrested_rate', 'survival_rate',  'killed_rate', 'injured_rate',\n",
    "       'killed_disp_per_district', 'injured_disp_per_district',\n",
    "       'part_disp_per_district', 'winning_party_percentage', 'n_injured','n_unharmed', \"incident_characteristics1_num\"]\n",
    "\n",
    "df.drop(columns=col_to_drop, axis=1,inplace=True)"
   ]
  },
  {
   "cell_type": "code",
   "execution_count": 24,
   "metadata": {},
   "outputs": [],
   "source": [
    "label = df.pop('isKilled')"
   ]
  },
  {
   "cell_type": "code",
   "execution_count": 25,
   "metadata": {},
   "outputs": [],
   "source": [
    "X_trvl, X_test, y_trvl, y_test = train_test_split(df, label, test_size=0.30,random_state=10, stratify=label)"
   ]
  },
  {
   "cell_type": "code",
   "execution_count": 26,
   "metadata": {},
   "outputs": [
    {
     "data": {
      "text/html": [
       "<style>#sk-container-id-2 {color: black;}#sk-container-id-2 pre{padding: 0;}#sk-container-id-2 div.sk-toggleable {background-color: white;}#sk-container-id-2 label.sk-toggleable__label {cursor: pointer;display: block;width: 100%;margin-bottom: 0;padding: 0.3em;box-sizing: border-box;text-align: center;}#sk-container-id-2 label.sk-toggleable__label-arrow:before {content: \"▸\";float: left;margin-right: 0.25em;color: #696969;}#sk-container-id-2 label.sk-toggleable__label-arrow:hover:before {color: black;}#sk-container-id-2 div.sk-estimator:hover label.sk-toggleable__label-arrow:before {color: black;}#sk-container-id-2 div.sk-toggleable__content {max-height: 0;max-width: 0;overflow: hidden;text-align: left;background-color: #f0f8ff;}#sk-container-id-2 div.sk-toggleable__content pre {margin: 0.2em;color: black;border-radius: 0.25em;background-color: #f0f8ff;}#sk-container-id-2 input.sk-toggleable__control:checked~div.sk-toggleable__content {max-height: 200px;max-width: 100%;overflow: auto;}#sk-container-id-2 input.sk-toggleable__control:checked~label.sk-toggleable__label-arrow:before {content: \"▾\";}#sk-container-id-2 div.sk-estimator input.sk-toggleable__control:checked~label.sk-toggleable__label {background-color: #d4ebff;}#sk-container-id-2 div.sk-label input.sk-toggleable__control:checked~label.sk-toggleable__label {background-color: #d4ebff;}#sk-container-id-2 input.sk-hidden--visually {border: 0;clip: rect(1px 1px 1px 1px);clip: rect(1px, 1px, 1px, 1px);height: 1px;margin: -1px;overflow: hidden;padding: 0;position: absolute;width: 1px;}#sk-container-id-2 div.sk-estimator {font-family: monospace;background-color: #f0f8ff;border: 1px dotted black;border-radius: 0.25em;box-sizing: border-box;margin-bottom: 0.5em;}#sk-container-id-2 div.sk-estimator:hover {background-color: #d4ebff;}#sk-container-id-2 div.sk-parallel-item::after {content: \"\";width: 100%;border-bottom: 1px solid gray;flex-grow: 1;}#sk-container-id-2 div.sk-label:hover label.sk-toggleable__label {background-color: #d4ebff;}#sk-container-id-2 div.sk-serial::before {content: \"\";position: absolute;border-left: 1px solid gray;box-sizing: border-box;top: 0;bottom: 0;left: 50%;z-index: 0;}#sk-container-id-2 div.sk-serial {display: flex;flex-direction: column;align-items: center;background-color: white;padding-right: 0.2em;padding-left: 0.2em;position: relative;}#sk-container-id-2 div.sk-item {position: relative;z-index: 1;}#sk-container-id-2 div.sk-parallel {display: flex;align-items: stretch;justify-content: center;background-color: white;position: relative;}#sk-container-id-2 div.sk-item::before, #sk-container-id-2 div.sk-parallel-item::before {content: \"\";position: absolute;border-left: 1px solid gray;box-sizing: border-box;top: 0;bottom: 0;left: 50%;z-index: -1;}#sk-container-id-2 div.sk-parallel-item {display: flex;flex-direction: column;z-index: 1;position: relative;background-color: white;}#sk-container-id-2 div.sk-parallel-item:first-child::after {align-self: flex-end;width: 50%;}#sk-container-id-2 div.sk-parallel-item:last-child::after {align-self: flex-start;width: 50%;}#sk-container-id-2 div.sk-parallel-item:only-child::after {width: 0;}#sk-container-id-2 div.sk-dashed-wrapped {border: 1px dashed gray;margin: 0 0.4em 0.5em 0.4em;box-sizing: border-box;padding-bottom: 0.4em;background-color: white;}#sk-container-id-2 div.sk-label label {font-family: monospace;font-weight: bold;display: inline-block;line-height: 1.2em;}#sk-container-id-2 div.sk-label-container {text-align: center;}#sk-container-id-2 div.sk-container {/* jupyter's `normalize.less` sets `[hidden] { display: none; }` but bootstrap.min.css set `[hidden] { display: none !important; }` so we also need the `!important` here to be able to override the default hidden behavior on the sphinx rendered scikit-learn.org. See: https://github.com/scikit-learn/scikit-learn/issues/21755 */display: inline-block !important;position: relative;}#sk-container-id-2 div.sk-text-repr-fallback {display: none;}</style><div id=\"sk-container-id-2\" class=\"sk-top-container\"><div class=\"sk-text-repr-fallback\"><pre>ExplainableBoostingClassifier(n_jobs=4)</pre><b>In a Jupyter environment, please rerun this cell to show the HTML representation or trust the notebook. <br />On GitHub, the HTML representation is unable to render, please try loading this page with nbviewer.org.</b></div><div class=\"sk-container\" hidden><div class=\"sk-item\"><div class=\"sk-estimator sk-toggleable\"><input class=\"sk-toggleable__control sk-hidden--visually\" id=\"sk-estimator-id-2\" type=\"checkbox\" checked><label for=\"sk-estimator-id-2\" class=\"sk-toggleable__label sk-toggleable__label-arrow\">ExplainableBoostingClassifier</label><div class=\"sk-toggleable__content\"><pre>ExplainableBoostingClassifier(n_jobs=4)</pre></div></div></div></div></div>"
      ],
      "text/plain": [
       "ExplainableBoostingClassifier(n_jobs=4)"
      ]
     },
     "execution_count": 26,
     "metadata": {},
     "output_type": "execute_result"
    }
   ],
   "source": [
    "from interpret.glassbox import ExplainableBoostingClassifier\n",
    "\n",
    "ebm = ExplainableBoostingClassifier(n_jobs=4)\n",
    "\n",
    "ebm.fit(X_trvl, y_trvl)\n"
   ]
  },
  {
   "cell_type": "code",
   "execution_count": 27,
   "metadata": {},
   "outputs": [
    {
     "data": {
      "text/html": [
       "<!-- http://127.0.0.1:7001/11376183120/ -->\n",
       "<iframe src=\"http://127.0.0.1:7001/11376183120/\" width=100% height=800 frameBorder=\"0\"></iframe>"
      ]
     },
     "metadata": {},
     "output_type": "display_data"
    }
   ],
   "source": [
    "from interpret import show\n",
    "\n",
    "ebm_global = ebm.explain_global()\n",
    "show(ebm_global)\n"
   ]
  },
  {
   "cell_type": "code",
   "execution_count": 28,
   "metadata": {},
   "outputs": [
    {
     "data": {
      "text/html": [
       "<!-- http://127.0.0.1:7001/11814632016/ -->\n",
       "<iframe src=\"http://127.0.0.1:7001/11814632016/\" width=100% height=800 frameBorder=\"0\"></iframe>"
      ]
     },
     "metadata": {},
     "output_type": "display_data"
    }
   ],
   "source": [
    "ebm_local = ebm.explain_local(X_trvl, y_trvl)\n",
    "show(ebm_local)"
   ]
  },
  {
   "cell_type": "code",
   "execution_count": 29,
   "metadata": {},
   "outputs": [
    {
     "name": "stdout",
     "output_type": "stream",
     "text": [
      "AUC: 0.830\n"
     ]
    }
   ],
   "source": [
    "from sklearn.metrics import roc_auc_score\n",
    "\n",
    "auc = roc_auc_score(y_test, ebm.predict_proba(X_test)[:, 1])\n",
    "print(\"AUC: {:.3f}\".format(auc))"
   ]
  }
 ],
 "metadata": {
  "kernelspec": {
   "display_name": "Python 3",
   "language": "python",
   "name": "python3"
  },
  "language_info": {
   "codemirror_mode": {
    "name": "ipython",
    "version": 3
   },
   "file_extension": ".py",
   "mimetype": "text/x-python",
   "name": "python",
   "nbconvert_exporter": "python",
   "pygments_lexer": "ipython3",
   "version": "3.11.7"
  }
 },
 "nbformat": 4,
 "nbformat_minor": 2
}
