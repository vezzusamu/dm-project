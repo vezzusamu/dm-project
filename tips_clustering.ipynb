{
 "cells": [
  {
   "cell_type": "markdown",
   "metadata": {
    "nbpresent": {
     "id": "db73b2da-d4dd-479c-a35e-040889d624b0"
    },
    "slideshow": {
     "slide_type": "slide"
    }
   },
   "source": [
    "<span>\n",
    "<img src=\"http://www.sobigdata.eu/sites/default/files/logo-SoBigData-DEFINITIVO.png\" width=\"180px\" align=\"right\"/>\n",
    "</span>\n",
    "<span>\n",
    "<b>Author:</b> <a href=\"http://------\">Anna Monreale</a><br/>\n",
    "<b>Python version:</b>  3.x<br/>\n",
    "<b>Last update:</b> 05/01/2020\n",
    "</span>"
   ]
  },
  {
   "cell_type": "markdown",
   "metadata": {
    "nbpresent": {
     "id": "b628305a-b109-44bb-8b4d-fbe6b30ecf58"
    },
    "slideshow": {
     "slide_type": "slide"
    }
   },
   "source": [
    "<img align=\"right\" width=\"250\" src=\"https://upload.wikimedia.org/wikipedia/commons/thumb/c/c8/Cluster-2.svg/601px-Cluster-2.svg.png\">\n",
    "\n",
    "# Clustering with Python\n",
    "\n",
    "This notebook contains an overview of basic python functionalities for clustering using the [sklearn](http://scikit-learn.org/stable/) library.  \n",
    "Note: this notebook is purposely not 100% comprehensive, it only discusses the basic things you need to get started."
   ]
  },
  {
   "cell_type": "markdown",
   "metadata": {
    "nbpresent": {
     "id": "52dee069-44c7-4e41-b68a-e59d6a2af883"
    },
    "slideshow": {
     "slide_type": "subslide"
    }
   },
   "source": [
    "Import of the basic packages to use"
   ]
  },
  {
   "cell_type": "code",
   "execution_count": 1,
   "metadata": {
    "nbpresent": {
     "id": "e5341679-cabf-473a-b572-952c4f52c16d"
    }
   },
   "outputs": [],
   "source": [
    "%matplotlib inline\n",
    "\n",
    "import numpy as np\n",
    "import pandas as pd\n",
    "import matplotlib.pyplot as plt"
   ]
  },
  {
   "cell_type": "markdown",
   "metadata": {
    "nbpresent": {
     "id": "6784b35c-3389-485c-9fa0-53e53ff298e4"
    }
   },
   "source": [
    "\n",
    "## Tips Dataset  \n",
    "This notebook contains a clustering analysis of the well-known **\"tips dataset\"** describing tips given in a restaurant on top of the bill. \n",
    "\n",
    "It is a common custom to offer some small extra money - a tip - to the staff of a restaurant on top of the bill after a satisfactory service received. Although the tips are voluntary, and the amount of the tips is not (usually) stated, by convention it is often advised to leave as a certain percent (e.g. 10%) of the total bill for the meal and service.\n",
    "\n",
    "The tips dataset (being analysed in this Notebook) is a representation of tips given in a restaurant. The dataset in question is a record (allegedly real and true) of tips given along with total bills of a restaurant customers collated by a waiter working in the restaurant for several weeks.\n",
    "\n",
    "The data is organised in a form of an array, where the dataset attributes (aka features) are organised in columns, and the observations (aka instances) - in rows. The dataset consists of several data categories describing tips received in connection to circumstances, such as day of the week, gender of the tipper, etc. The data set includes 244 data observations.\n",
    "\n",
    "This dataset is made available at the following link: https://github.com/mwaskom/seaborn-data where you can find other interesting datasets.\n"
   ]
  },
  {
   "cell_type": "code",
   "execution_count": 2,
   "metadata": {
    "nbpresent": {
     "id": "2c24fd75-0dc3-4b80-9dae-49a5159b83ee"
    },
    "slideshow": {
     "slide_type": "subslide"
    }
   },
   "outputs": [
    {
     "data": {
      "text/html": [
       "<div>\n",
       "<style scoped>\n",
       "    .dataframe tbody tr th:only-of-type {\n",
       "        vertical-align: middle;\n",
       "    }\n",
       "\n",
       "    .dataframe tbody tr th {\n",
       "        vertical-align: top;\n",
       "    }\n",
       "\n",
       "    .dataframe thead th {\n",
       "        text-align: right;\n",
       "    }\n",
       "</style>\n",
       "<table border=\"1\" class=\"dataframe\">\n",
       "  <thead>\n",
       "    <tr style=\"text-align: right;\">\n",
       "      <th></th>\n",
       "      <th>total_bill</th>\n",
       "      <th>tip</th>\n",
       "      <th>sex</th>\n",
       "      <th>smoker</th>\n",
       "      <th>day</th>\n",
       "      <th>time</th>\n",
       "      <th>size</th>\n",
       "    </tr>\n",
       "  </thead>\n",
       "  <tbody>\n",
       "    <tr>\n",
       "      <th>0</th>\n",
       "      <td>16.99</td>\n",
       "      <td>1.01</td>\n",
       "      <td>Female</td>\n",
       "      <td>No</td>\n",
       "      <td>Sun</td>\n",
       "      <td>Dinner</td>\n",
       "      <td>2</td>\n",
       "    </tr>\n",
       "    <tr>\n",
       "      <th>1</th>\n",
       "      <td>10.34</td>\n",
       "      <td>1.66</td>\n",
       "      <td>Male</td>\n",
       "      <td>No</td>\n",
       "      <td>Sun</td>\n",
       "      <td>Dinner</td>\n",
       "      <td>3</td>\n",
       "    </tr>\n",
       "    <tr>\n",
       "      <th>2</th>\n",
       "      <td>21.01</td>\n",
       "      <td>3.50</td>\n",
       "      <td>Male</td>\n",
       "      <td>No</td>\n",
       "      <td>Sun</td>\n",
       "      <td>Dinner</td>\n",
       "      <td>3</td>\n",
       "    </tr>\n",
       "    <tr>\n",
       "      <th>3</th>\n",
       "      <td>23.68</td>\n",
       "      <td>3.31</td>\n",
       "      <td>Male</td>\n",
       "      <td>No</td>\n",
       "      <td>Sun</td>\n",
       "      <td>Dinner</td>\n",
       "      <td>2</td>\n",
       "    </tr>\n",
       "    <tr>\n",
       "      <th>4</th>\n",
       "      <td>24.59</td>\n",
       "      <td>3.61</td>\n",
       "      <td>Female</td>\n",
       "      <td>No</td>\n",
       "      <td>Sun</td>\n",
       "      <td>Dinner</td>\n",
       "      <td>4</td>\n",
       "    </tr>\n",
       "  </tbody>\n",
       "</table>\n",
       "</div>"
      ],
      "text/plain": [
       "   total_bill   tip     sex smoker  day    time  size\n",
       "0       16.99  1.01  Female     No  Sun  Dinner     2\n",
       "1       10.34  1.66    Male     No  Sun  Dinner     3\n",
       "2       21.01  3.50    Male     No  Sun  Dinner     3\n",
       "3       23.68  3.31    Male     No  Sun  Dinner     2\n",
       "4       24.59  3.61  Female     No  Sun  Dinner     4"
      ]
     },
     "execution_count": 2,
     "metadata": {},
     "output_type": "execute_result"
    }
   ],
   "source": [
    "df = pd.read_csv(\"./datasets/tips.csv\", skipinitialspace=True, sep=',')\n",
    "df.head()"
   ]
  },
  {
   "cell_type": "code",
   "execution_count": 3,
   "metadata": {
    "nbpresent": {
     "id": "dafc0d2c-1ecb-49f7-8225-88e0a204b9f9"
    }
   },
   "outputs": [
    {
     "name": "stdout",
     "output_type": "stream",
     "text": [
      "<class 'pandas.core.frame.DataFrame'>\n",
      "RangeIndex: 244 entries, 0 to 243\n",
      "Data columns (total 7 columns):\n",
      " #   Column      Non-Null Count  Dtype  \n",
      "---  ------      --------------  -----  \n",
      " 0   total_bill  244 non-null    float64\n",
      " 1   tip         244 non-null    float64\n",
      " 2   sex         244 non-null    object \n",
      " 3   smoker      244 non-null    object \n",
      " 4   day         244 non-null    object \n",
      " 5   time        244 non-null    object \n",
      " 6   size        244 non-null    int64  \n",
      "dtypes: float64(2), int64(1), object(4)\n",
      "memory usage: 13.5+ KB\n"
     ]
    }
   ],
   "source": [
    "df.info()"
   ]
  },
  {
   "cell_type": "markdown",
   "metadata": {
    "nbpresent": {
     "id": "8d3b7596-0cb2-4e3d-8d92-be89d15610a2"
    }
   },
   "source": [
    "Since we use distance metric working on numerical features we remove the categorical data. "
   ]
  },
  {
   "cell_type": "code",
   "execution_count": 4,
   "metadata": {
    "nbpresent": {
     "id": "e448eb7c-841b-4686-a6d7-9a31bfef4ceb"
    }
   },
   "outputs": [
    {
     "data": {
      "text/html": [
       "<div>\n",
       "<style scoped>\n",
       "    .dataframe tbody tr th:only-of-type {\n",
       "        vertical-align: middle;\n",
       "    }\n",
       "\n",
       "    .dataframe tbody tr th {\n",
       "        vertical-align: top;\n",
       "    }\n",
       "\n",
       "    .dataframe thead th {\n",
       "        text-align: right;\n",
       "    }\n",
       "</style>\n",
       "<table border=\"1\" class=\"dataframe\">\n",
       "  <thead>\n",
       "    <tr style=\"text-align: right;\">\n",
       "      <th></th>\n",
       "      <th>total_bill</th>\n",
       "      <th>tip</th>\n",
       "      <th>size</th>\n",
       "    </tr>\n",
       "  </thead>\n",
       "  <tbody>\n",
       "    <tr>\n",
       "      <th>0</th>\n",
       "      <td>16.99</td>\n",
       "      <td>1.01</td>\n",
       "      <td>2</td>\n",
       "    </tr>\n",
       "    <tr>\n",
       "      <th>1</th>\n",
       "      <td>10.34</td>\n",
       "      <td>1.66</td>\n",
       "      <td>3</td>\n",
       "    </tr>\n",
       "    <tr>\n",
       "      <th>2</th>\n",
       "      <td>21.01</td>\n",
       "      <td>3.50</td>\n",
       "      <td>3</td>\n",
       "    </tr>\n",
       "    <tr>\n",
       "      <th>3</th>\n",
       "      <td>23.68</td>\n",
       "      <td>3.31</td>\n",
       "      <td>2</td>\n",
       "    </tr>\n",
       "    <tr>\n",
       "      <th>4</th>\n",
       "      <td>24.59</td>\n",
       "      <td>3.61</td>\n",
       "      <td>4</td>\n",
       "    </tr>\n",
       "  </tbody>\n",
       "</table>\n",
       "</div>"
      ],
      "text/plain": [
       "   total_bill   tip  size\n",
       "0       16.99  1.01     2\n",
       "1       10.34  1.66     3\n",
       "2       21.01  3.50     3\n",
       "3       23.68  3.31     2\n",
       "4       24.59  3.61     4"
      ]
     },
     "execution_count": 4,
     "metadata": {},
     "output_type": "execute_result"
    }
   ],
   "source": [
    "cat_feature = df[['sex','smoker','day', 'time']]\n",
    "del df['time']\n",
    "del df['sex']\n",
    "del df['smoker']\n",
    "del df ['day']\n",
    "df.head()"
   ]
  },
  {
   "cell_type": "code",
   "execution_count": 5,
   "metadata": {},
   "outputs": [
    {
     "data": {
      "text/html": [
       "<div>\n",
       "<style scoped>\n",
       "    .dataframe tbody tr th:only-of-type {\n",
       "        vertical-align: middle;\n",
       "    }\n",
       "\n",
       "    .dataframe tbody tr th {\n",
       "        vertical-align: top;\n",
       "    }\n",
       "\n",
       "    .dataframe thead th {\n",
       "        text-align: right;\n",
       "    }\n",
       "</style>\n",
       "<table border=\"1\" class=\"dataframe\">\n",
       "  <thead>\n",
       "    <tr style=\"text-align: right;\">\n",
       "      <th></th>\n",
       "      <th>total_bill</th>\n",
       "      <th>tip</th>\n",
       "      <th>size</th>\n",
       "      <th>tip_ratio</th>\n",
       "      <th>sum</th>\n",
       "      <th>percent</th>\n",
       "      <th>bpp</th>\n",
       "      <th>tpp</th>\n",
       "    </tr>\n",
       "  </thead>\n",
       "  <tbody>\n",
       "    <tr>\n",
       "      <th>0</th>\n",
       "      <td>16.99</td>\n",
       "      <td>1.01</td>\n",
       "      <td>2</td>\n",
       "      <td>0.059447</td>\n",
       "      <td>18.00</td>\n",
       "      <td>5.61</td>\n",
       "      <td>8.495000</td>\n",
       "      <td>0.505000</td>\n",
       "    </tr>\n",
       "    <tr>\n",
       "      <th>1</th>\n",
       "      <td>10.34</td>\n",
       "      <td>1.66</td>\n",
       "      <td>3</td>\n",
       "      <td>0.160542</td>\n",
       "      <td>12.00</td>\n",
       "      <td>13.83</td>\n",
       "      <td>3.446667</td>\n",
       "      <td>0.553333</td>\n",
       "    </tr>\n",
       "    <tr>\n",
       "      <th>2</th>\n",
       "      <td>21.01</td>\n",
       "      <td>3.50</td>\n",
       "      <td>3</td>\n",
       "      <td>0.166587</td>\n",
       "      <td>24.51</td>\n",
       "      <td>14.28</td>\n",
       "      <td>7.003333</td>\n",
       "      <td>1.166667</td>\n",
       "    </tr>\n",
       "    <tr>\n",
       "      <th>3</th>\n",
       "      <td>23.68</td>\n",
       "      <td>3.31</td>\n",
       "      <td>2</td>\n",
       "      <td>0.139780</td>\n",
       "      <td>26.99</td>\n",
       "      <td>12.26</td>\n",
       "      <td>11.840000</td>\n",
       "      <td>1.655000</td>\n",
       "    </tr>\n",
       "    <tr>\n",
       "      <th>4</th>\n",
       "      <td>24.59</td>\n",
       "      <td>3.61</td>\n",
       "      <td>4</td>\n",
       "      <td>0.146808</td>\n",
       "      <td>28.20</td>\n",
       "      <td>12.80</td>\n",
       "      <td>6.147500</td>\n",
       "      <td>0.902500</td>\n",
       "    </tr>\n",
       "  </tbody>\n",
       "</table>\n",
       "</div>"
      ],
      "text/plain": [
       "   total_bill   tip  size  tip_ratio    sum  percent        bpp       tpp\n",
       "0       16.99  1.01     2   0.059447  18.00     5.61   8.495000  0.505000\n",
       "1       10.34  1.66     3   0.160542  12.00    13.83   3.446667  0.553333\n",
       "2       21.01  3.50     3   0.166587  24.51    14.28   7.003333  1.166667\n",
       "3       23.68  3.31     2   0.139780  26.99    12.26  11.840000  1.655000\n",
       "4       24.59  3.61     4   0.146808  28.20    12.80   6.147500  0.902500"
      ]
     },
     "execution_count": 5,
     "metadata": {},
     "output_type": "execute_result"
    }
   ],
   "source": [
    " #new column created - percent of tip\n",
    "df[\"tip_ratio\"] = df[\"tip\"]/df[\"total_bill\"] \n",
    "\n",
    "# new column created - sum of total bill and tip\n",
    "df[\"sum\"] = df[\"total_bill\"]+df[\"tip\"] # appended at the end of the array\n",
    "\n",
    "# new column created - ratio of tip to sum\n",
    "df[\"percent\"] = round(df[\"tip\"]/df[\"sum\"]*100, 2)\n",
    "\n",
    "# add column: bpp - bill per person\n",
    "df[\"bpp\"] = df[\"total_bill\"]/df[\"size\"]\n",
    "\n",
    "# add column: tpp - tip per person\n",
    "df[\"tpp\"] = df[\"tip\"]/df[\"size\"]\n",
    "df.head()"
   ]
  },
  {
   "cell_type": "markdown",
   "metadata": {
    "nbpresent": {
     "id": "d0bed39f-1750-4435-a4a6-f275fc6c3a21"
    }
   },
   "source": [
    "## Clustering Objective\n",
    "Grouping a set of instances such that the instances in the same cluster are more ***similar*** (in some sense) to each other than to those in other clusters.  \n",
    "The result of a clustering algorithm is a ***clustering***, that is a set of clusters.\n",
    "Clustering is an ***unsupervised*** task, i.e., the real cluster partitioning is unknown.  "
   ]
  },
  {
   "cell_type": "markdown",
   "metadata": {
    "nbpresent": {
     "id": "09a70f03-400f-4dda-84d6-f70d833e65ec"
    }
   },
   "source": [
    "## Different Types of Clusterings and Clusters\n",
    "\n",
    "Principal Types of Clustering:\n",
    "* **Partitional Clustering:** division into non-overlapping clusters, i.e., each instance is only in one cluster\n",
    "* Hierarchical Clustering: set of nested clusters organized as a hierarchical tree\n",
    "\n",
    "Principal Types of Clusters:\n",
    "* **Center-based:** the calculus is based on a centroid (K-Means)\n",
    "* **Density-based:** the calculus is based on a concept of neighborhood and density (DBSCAN)\n",
    "\n",
    "Center-based: <img align=\"center\" src=\"kmeans.png\">\n",
    "Density-based: <img align=\"center\" src=\"dbscan.png\">"
   ]
  },
  {
   "cell_type": "markdown",
   "metadata": {
    "nbpresent": {
     "id": "a8543b9d-24a4-410b-bd28-f0f16e4d9962"
    }
   },
   "source": [
    "## Clustering Preprocessing - Normalization  \n",
    "A good practice in clustering to avoid the bias given by the range of the different attribute is normalization.  \n",
    "The most common adopted normalizations are: Z-Score and Min-Max"
   ]
  },
  {
   "cell_type": "code",
   "execution_count": 6,
   "metadata": {
    "nbpresent": {
     "id": "8f8baecf-4668-408e-922c-2d56f1f4c815"
    }
   },
   "outputs": [],
   "source": [
    "from sklearn.preprocessing import StandardScaler, MinMaxScaler"
   ]
  },
  {
   "cell_type": "code",
   "execution_count": 7,
   "metadata": {
    "nbpresent": {
     "id": "c9bcae2e-e1ff-46aa-9002-69989ba1f09a"
    }
   },
   "outputs": [
    {
     "data": {
      "text/html": [
       "<style>#sk-container-id-1 {color: black;background-color: white;}#sk-container-id-1 pre{padding: 0;}#sk-container-id-1 div.sk-toggleable {background-color: white;}#sk-container-id-1 label.sk-toggleable__label {cursor: pointer;display: block;width: 100%;margin-bottom: 0;padding: 0.3em;box-sizing: border-box;text-align: center;}#sk-container-id-1 label.sk-toggleable__label-arrow:before {content: \"▸\";float: left;margin-right: 0.25em;color: #696969;}#sk-container-id-1 label.sk-toggleable__label-arrow:hover:before {color: black;}#sk-container-id-1 div.sk-estimator:hover label.sk-toggleable__label-arrow:before {color: black;}#sk-container-id-1 div.sk-toggleable__content {max-height: 0;max-width: 0;overflow: hidden;text-align: left;background-color: #f0f8ff;}#sk-container-id-1 div.sk-toggleable__content pre {margin: 0.2em;color: black;border-radius: 0.25em;background-color: #f0f8ff;}#sk-container-id-1 input.sk-toggleable__control:checked~div.sk-toggleable__content {max-height: 200px;max-width: 100%;overflow: auto;}#sk-container-id-1 input.sk-toggleable__control:checked~label.sk-toggleable__label-arrow:before {content: \"▾\";}#sk-container-id-1 div.sk-estimator input.sk-toggleable__control:checked~label.sk-toggleable__label {background-color: #d4ebff;}#sk-container-id-1 div.sk-label input.sk-toggleable__control:checked~label.sk-toggleable__label {background-color: #d4ebff;}#sk-container-id-1 input.sk-hidden--visually {border: 0;clip: rect(1px 1px 1px 1px);clip: rect(1px, 1px, 1px, 1px);height: 1px;margin: -1px;overflow: hidden;padding: 0;position: absolute;width: 1px;}#sk-container-id-1 div.sk-estimator {font-family: monospace;background-color: #f0f8ff;border: 1px dotted black;border-radius: 0.25em;box-sizing: border-box;margin-bottom: 0.5em;}#sk-container-id-1 div.sk-estimator:hover {background-color: #d4ebff;}#sk-container-id-1 div.sk-parallel-item::after {content: \"\";width: 100%;border-bottom: 1px solid gray;flex-grow: 1;}#sk-container-id-1 div.sk-label:hover label.sk-toggleable__label {background-color: #d4ebff;}#sk-container-id-1 div.sk-serial::before {content: \"\";position: absolute;border-left: 1px solid gray;box-sizing: border-box;top: 0;bottom: 0;left: 50%;z-index: 0;}#sk-container-id-1 div.sk-serial {display: flex;flex-direction: column;align-items: center;background-color: white;padding-right: 0.2em;padding-left: 0.2em;position: relative;}#sk-container-id-1 div.sk-item {position: relative;z-index: 1;}#sk-container-id-1 div.sk-parallel {display: flex;align-items: stretch;justify-content: center;background-color: white;position: relative;}#sk-container-id-1 div.sk-item::before, #sk-container-id-1 div.sk-parallel-item::before {content: \"\";position: absolute;border-left: 1px solid gray;box-sizing: border-box;top: 0;bottom: 0;left: 50%;z-index: -1;}#sk-container-id-1 div.sk-parallel-item {display: flex;flex-direction: column;z-index: 1;position: relative;background-color: white;}#sk-container-id-1 div.sk-parallel-item:first-child::after {align-self: flex-end;width: 50%;}#sk-container-id-1 div.sk-parallel-item:last-child::after {align-self: flex-start;width: 50%;}#sk-container-id-1 div.sk-parallel-item:only-child::after {width: 0;}#sk-container-id-1 div.sk-dashed-wrapped {border: 1px dashed gray;margin: 0 0.4em 0.5em 0.4em;box-sizing: border-box;padding-bottom: 0.4em;background-color: white;}#sk-container-id-1 div.sk-label label {font-family: monospace;font-weight: bold;display: inline-block;line-height: 1.2em;}#sk-container-id-1 div.sk-label-container {text-align: center;}#sk-container-id-1 div.sk-container {/* jupyter's `normalize.less` sets `[hidden] { display: none; }` but bootstrap.min.css set `[hidden] { display: none !important; }` so we also need the `!important` here to be able to override the default hidden behavior on the sphinx rendered scikit-learn.org. See: https://github.com/scikit-learn/scikit-learn/issues/21755 */display: inline-block !important;position: relative;}#sk-container-id-1 div.sk-text-repr-fallback {display: none;}</style><div id=\"sk-container-id-1\" class=\"sk-top-container\"><div class=\"sk-text-repr-fallback\"><pre>StandardScaler()</pre><b>In a Jupyter environment, please rerun this cell to show the HTML representation or trust the notebook. <br />On GitHub, the HTML representation is unable to render, please try loading this page with nbviewer.org.</b></div><div class=\"sk-container\" hidden><div class=\"sk-item\"><div class=\"sk-estimator sk-toggleable\"><input class=\"sk-toggleable__control sk-hidden--visually\" id=\"sk-estimator-id-1\" type=\"checkbox\" checked><label for=\"sk-estimator-id-1\" class=\"sk-toggleable__label sk-toggleable__label-arrow\">StandardScaler</label><div class=\"sk-toggleable__content\"><pre>StandardScaler()</pre></div></div></div></div></div>"
      ],
      "text/plain": [
       "StandardScaler()"
      ]
     },
     "execution_count": 7,
     "metadata": {},
     "output_type": "execute_result"
    }
   ],
   "source": [
    "scaler = StandardScaler()\n",
    "scaler.fit(df.values)"
   ]
  },
  {
   "cell_type": "code",
   "execution_count": 8,
   "metadata": {
    "nbpresent": {
     "id": "a0b75077-26d6-4ecb-8195-fbfdc56b4b58"
    }
   },
   "outputs": [
    {
     "data": {
      "text/plain": [
       "array([[16.99      ,  1.01      ,  2.        ,  0.05944673, 18.        ,\n",
       "         5.61      ,  8.495     ,  0.505     ],\n",
       "       [10.34      ,  1.66      ,  3.        ,  0.16054159, 12.        ,\n",
       "        13.83      ,  3.44666667,  0.55333333],\n",
       "       [21.01      ,  3.5       ,  3.        ,  0.16658734, 24.51      ,\n",
       "        14.28      ,  7.00333333,  1.16666667],\n",
       "       [23.68      ,  3.31      ,  2.        ,  0.13978041, 26.99      ,\n",
       "        12.26      , 11.84      ,  1.655     ],\n",
       "       [24.59      ,  3.61      ,  4.        ,  0.14680765, 28.2       ,\n",
       "        12.8       ,  6.1475    ,  0.9025    ]])"
      ]
     },
     "execution_count": 8,
     "metadata": {},
     "output_type": "execute_result"
    }
   ],
   "source": [
    "df.head().values"
   ]
  },
  {
   "cell_type": "code",
   "execution_count": 9,
   "metadata": {
    "nbpresent": {
     "id": "5e60fcc4-1b1e-4a90-a78c-39959ab838a3"
    }
   },
   "outputs": [
    {
     "data": {
      "text/plain": [
       "array([[-0.31471131, -1.43994695, -0.60019263, -1.66301817, -0.48473195,\n",
       "        -1.98342863,  0.20862895, -1.44236191],\n",
       "       [-1.06323531, -0.96920534,  0.45338292, -0.00428234, -1.09264524,\n",
       "         0.04609142, -1.52716489, -1.34386242],\n",
       "       [ 0.1377799 ,  0.36335554,  0.45338292,  0.09491467,  0.17485397,\n",
       "         0.15719653, -0.3042583 , -0.09393783],\n",
       "       [ 0.4383151 ,  0.22575414, -0.60019263, -0.34492594,  0.42612479,\n",
       "        -0.34154197,  1.35875712,  0.90124668],\n",
       "       [ 0.5407447 ,  0.4430195 ,  1.50695847, -0.22962497,  0.54872064,\n",
       "        -0.20821584, -0.59852378, -0.6322885 ]])"
      ]
     },
     "execution_count": 9,
     "metadata": {},
     "output_type": "execute_result"
    }
   ],
   "source": [
    "scaler.transform(df.head().values)"
   ]
  },
  {
   "cell_type": "code",
   "execution_count": 10,
   "metadata": {
    "nbpresent": {
     "id": "5d98e1bc-9021-4b20-b453-55b17ed44fda"
    }
   },
   "outputs": [
    {
     "data": {
      "text/plain": [
       "array([[16.99      ,  1.01      ,  2.        ,  0.05944673, 18.        ,\n",
       "         5.61      ,  8.495     ,  0.505     ],\n",
       "       [10.34      ,  1.66      ,  3.        ,  0.16054159, 12.        ,\n",
       "        13.83      ,  3.44666667,  0.55333333],\n",
       "       [21.01      ,  3.5       ,  3.        ,  0.16658734, 24.51      ,\n",
       "        14.28      ,  7.00333333,  1.16666667],\n",
       "       [23.68      ,  3.31      ,  2.        ,  0.13978041, 26.99      ,\n",
       "        12.26      , 11.84      ,  1.655     ],\n",
       "       [24.59      ,  3.61      ,  4.        ,  0.14680765, 28.2       ,\n",
       "        12.8       ,  6.1475    ,  0.9025    ]])"
      ]
     },
     "execution_count": 10,
     "metadata": {},
     "output_type": "execute_result"
    }
   ],
   "source": [
    "scaler.inverse_transform(scaler.transform(df.head().values))"
   ]
  },
  {
   "cell_type": "code",
   "execution_count": 11,
   "metadata": {
    "nbpresent": {
     "id": "0b55f13c-5d47-479e-8e47-57ec3f50edec"
    }
   },
   "outputs": [],
   "source": [
    "scaler = MinMaxScaler()\n",
    "X = scaler.fit_transform(df.values)"
   ]
  },
  {
   "cell_type": "code",
   "execution_count": 12,
   "metadata": {
    "nbpresent": {
     "id": "3634134e-98b8-417c-871f-7cba05330c4b"
    }
   },
   "outputs": [
    {
     "data": {
      "text/plain": [
       "array([[0.29157939, 0.00111111, 0.2       , 0.03528733, 0.24550582,\n",
       "        0.05697033, 0.32298851, 0.03579545],\n",
       "       [0.1522832 , 0.07333333, 0.4       , 0.18512259, 0.13976031,\n",
       "        0.27277501, 0.03285441, 0.05227273],\n",
       "       [0.3757855 , 0.27777778, 0.4       , 0.19408316, 0.36023969,\n",
       "        0.28458913, 0.23726054, 0.26136364],\n",
       "       [0.43171345, 0.25666667, 0.2       , 0.15435191, 0.40394783,\n",
       "        0.23155684, 0.51522989, 0.42784091],\n",
       "       [0.45077503, 0.29      , 0.6       , 0.16476717, 0.42527318,\n",
       "        0.24573379, 0.18807471, 0.17130682]])"
      ]
     },
     "execution_count": 12,
     "metadata": {},
     "output_type": "execute_result"
    }
   ],
   "source": [
    "X[:5]"
   ]
  },
  {
   "cell_type": "markdown",
   "metadata": {
    "nbpresent": {
     "id": "cb0fbdf7-791f-491b-8013-0a97f8be6cf6"
    }
   },
   "source": [
    "# K-Means"
   ]
  },
  {
   "cell_type": "markdown",
   "metadata": {
    "nbpresent": {
     "id": "b0f29921-0c20-448f-a05b-21d8f9e83ba1"
    }
   },
   "source": [
    "## The Algorithm in a Nutshell\n",
    "\n",
    "**Objective:** Clusters the data into $k$ groups.\n",
    "* **Init step:** Select k points at random as cluster centers.\n",
    "* **Assignment step:** Assign each instance to the cluster with the closest mean according to the distance function.\n",
    "* **Update step**: Calculate the new means to be the centroids of the instances in the new clusters.\n",
    "* ***Repeat*** steps 2 and 3 until the assignment no longer change.\n",
    "\n",
    "There is no guarantee that the optimum is found using this algorithm.\n",
    "\n",
    "> Tan, P. N. (2006). Introduction to data mining. Pearson Education India.\n",
    "\n",
    "Running [example](http://matlaspisa.isti.cnr.it:5055/K-Means)\n",
    "Wikipedia [link](https://en.wikipedia.org/wiki/K-means_clustering)"
   ]
  },
  {
   "cell_type": "markdown",
   "metadata": {
    "nbpresent": {
     "id": "afbf2f00-ac49-429b-b8c9-11fc8e96dd59"
    }
   },
   "source": [
    "## K-Means Problems\n",
    "\n",
    "* Initial Centroids\n",
    "* Number of clusters"
   ]
  },
  {
   "cell_type": "markdown",
   "metadata": {
    "nbpresent": {
     "id": "8c0f2cd0-945f-4a48-839e-bbac3722daef"
    }
   },
   "source": [
    "## K-Means in Python  ([sklearn](http://scikit-learn.org/stable/modules/clustering.html#k-means))"
   ]
  },
  {
   "cell_type": "code",
   "execution_count": 13,
   "metadata": {
    "nbpresent": {
     "id": "742c7fc4-1ab1-4464-b286-c429dbff1cee"
    }
   },
   "outputs": [],
   "source": [
    "from sklearn.cluster import KMeans\n",
    "from sklearn.metrics import silhouette_score"
   ]
  },
  {
   "cell_type": "markdown",
   "metadata": {
    "nbpresent": {
     "id": "b9234a06-f3b3-4673-8658-850b75c98c9c"
    }
   },
   "source": [
    "Parameters:\n",
    "* **n_clusters** (default 8): The number of clusters\n",
    "* **n_init** (default 10): Number of time k-means will be run with different initial centroids. The final results will be the best output in terms of inertia.\n",
    "* **max_iter** (default 300): Maximum number of iterations of the k-means algorithm for a single run."
   ]
  },
  {
   "cell_type": "code",
   "execution_count": 14,
   "metadata": {
    "nbpresent": {
     "id": "b99ba2cd-5491-442e-ae7f-3bb281c8379b"
    }
   },
   "outputs": [
    {
     "data": {
      "text/html": [
       "<style>#sk-container-id-2 {color: black;background-color: white;}#sk-container-id-2 pre{padding: 0;}#sk-container-id-2 div.sk-toggleable {background-color: white;}#sk-container-id-2 label.sk-toggleable__label {cursor: pointer;display: block;width: 100%;margin-bottom: 0;padding: 0.3em;box-sizing: border-box;text-align: center;}#sk-container-id-2 label.sk-toggleable__label-arrow:before {content: \"▸\";float: left;margin-right: 0.25em;color: #696969;}#sk-container-id-2 label.sk-toggleable__label-arrow:hover:before {color: black;}#sk-container-id-2 div.sk-estimator:hover label.sk-toggleable__label-arrow:before {color: black;}#sk-container-id-2 div.sk-toggleable__content {max-height: 0;max-width: 0;overflow: hidden;text-align: left;background-color: #f0f8ff;}#sk-container-id-2 div.sk-toggleable__content pre {margin: 0.2em;color: black;border-radius: 0.25em;background-color: #f0f8ff;}#sk-container-id-2 input.sk-toggleable__control:checked~div.sk-toggleable__content {max-height: 200px;max-width: 100%;overflow: auto;}#sk-container-id-2 input.sk-toggleable__control:checked~label.sk-toggleable__label-arrow:before {content: \"▾\";}#sk-container-id-2 div.sk-estimator input.sk-toggleable__control:checked~label.sk-toggleable__label {background-color: #d4ebff;}#sk-container-id-2 div.sk-label input.sk-toggleable__control:checked~label.sk-toggleable__label {background-color: #d4ebff;}#sk-container-id-2 input.sk-hidden--visually {border: 0;clip: rect(1px 1px 1px 1px);clip: rect(1px, 1px, 1px, 1px);height: 1px;margin: -1px;overflow: hidden;padding: 0;position: absolute;width: 1px;}#sk-container-id-2 div.sk-estimator {font-family: monospace;background-color: #f0f8ff;border: 1px dotted black;border-radius: 0.25em;box-sizing: border-box;margin-bottom: 0.5em;}#sk-container-id-2 div.sk-estimator:hover {background-color: #d4ebff;}#sk-container-id-2 div.sk-parallel-item::after {content: \"\";width: 100%;border-bottom: 1px solid gray;flex-grow: 1;}#sk-container-id-2 div.sk-label:hover label.sk-toggleable__label {background-color: #d4ebff;}#sk-container-id-2 div.sk-serial::before {content: \"\";position: absolute;border-left: 1px solid gray;box-sizing: border-box;top: 0;bottom: 0;left: 50%;z-index: 0;}#sk-container-id-2 div.sk-serial {display: flex;flex-direction: column;align-items: center;background-color: white;padding-right: 0.2em;padding-left: 0.2em;position: relative;}#sk-container-id-2 div.sk-item {position: relative;z-index: 1;}#sk-container-id-2 div.sk-parallel {display: flex;align-items: stretch;justify-content: center;background-color: white;position: relative;}#sk-container-id-2 div.sk-item::before, #sk-container-id-2 div.sk-parallel-item::before {content: \"\";position: absolute;border-left: 1px solid gray;box-sizing: border-box;top: 0;bottom: 0;left: 50%;z-index: -1;}#sk-container-id-2 div.sk-parallel-item {display: flex;flex-direction: column;z-index: 1;position: relative;background-color: white;}#sk-container-id-2 div.sk-parallel-item:first-child::after {align-self: flex-end;width: 50%;}#sk-container-id-2 div.sk-parallel-item:last-child::after {align-self: flex-start;width: 50%;}#sk-container-id-2 div.sk-parallel-item:only-child::after {width: 0;}#sk-container-id-2 div.sk-dashed-wrapped {border: 1px dashed gray;margin: 0 0.4em 0.5em 0.4em;box-sizing: border-box;padding-bottom: 0.4em;background-color: white;}#sk-container-id-2 div.sk-label label {font-family: monospace;font-weight: bold;display: inline-block;line-height: 1.2em;}#sk-container-id-2 div.sk-label-container {text-align: center;}#sk-container-id-2 div.sk-container {/* jupyter's `normalize.less` sets `[hidden] { display: none; }` but bootstrap.min.css set `[hidden] { display: none !important; }` so we also need the `!important` here to be able to override the default hidden behavior on the sphinx rendered scikit-learn.org. See: https://github.com/scikit-learn/scikit-learn/issues/21755 */display: inline-block !important;position: relative;}#sk-container-id-2 div.sk-text-repr-fallback {display: none;}</style><div id=\"sk-container-id-2\" class=\"sk-top-container\"><div class=\"sk-text-repr-fallback\"><pre>KMeans(max_iter=100, n_clusters=3, n_init=10)</pre><b>In a Jupyter environment, please rerun this cell to show the HTML representation or trust the notebook. <br />On GitHub, the HTML representation is unable to render, please try loading this page with nbviewer.org.</b></div><div class=\"sk-container\" hidden><div class=\"sk-item\"><div class=\"sk-estimator sk-toggleable\"><input class=\"sk-toggleable__control sk-hidden--visually\" id=\"sk-estimator-id-2\" type=\"checkbox\" checked><label for=\"sk-estimator-id-2\" class=\"sk-toggleable__label sk-toggleable__label-arrow\">KMeans</label><div class=\"sk-toggleable__content\"><pre>KMeans(max_iter=100, n_clusters=3, n_init=10)</pre></div></div></div></div></div>"
      ],
      "text/plain": [
       "KMeans(max_iter=100, n_clusters=3, n_init=10)"
      ]
     },
     "execution_count": 14,
     "metadata": {},
     "output_type": "execute_result"
    }
   ],
   "source": [
    "kmeans = KMeans(n_clusters=3, n_init=10, max_iter=100)\n",
    "kmeans.fit(X)"
   ]
  },
  {
   "cell_type": "markdown",
   "metadata": {
    "nbpresent": {
     "id": "2b6c8fce-820b-4155-b424-bfaec9ed5273"
    }
   },
   "source": [
    "Output:\n",
    "* **labels_**: Labels of each point\n",
    "* **cluster\\_centers_**: Coordinates of cluster centers\n",
    "* **inertia_**: Sum of squared distances of samples to their closest cluster center."
   ]
  },
  {
   "cell_type": "markdown",
   "metadata": {
    "nbpresent": {
     "id": "5bf4f889-4edb-432d-9fbe-d827708f608c"
    }
   },
   "source": [
    "Labels"
   ]
  },
  {
   "cell_type": "code",
   "execution_count": 17,
   "metadata": {
    "nbpresent": {
     "id": "7c0417eb-7bf2-4ffc-b1b1-ebce9924a8b6"
    }
   },
   "outputs": [
    {
     "data": {
      "text/plain": [
       "array([0, 0, 0, 1, 2])"
      ]
     },
     "execution_count": 17,
     "metadata": {},
     "output_type": "execute_result"
    }
   ],
   "source": [
    "kmeans.labels_[:5]"
   ]
  },
  {
   "cell_type": "markdown",
   "metadata": {
    "nbpresent": {
     "id": "1c6a27f7-fd7e-4533-a59a-e2b614b6cf83"
    }
   },
   "source": [
    "Observing the size of each cluster"
   ]
  },
  {
   "cell_type": "code",
   "execution_count": 18,
   "metadata": {
    "nbpresent": {
     "id": "f5e5a606-d0a9-4149-8b1b-450ee74649d2"
    }
   },
   "outputs": [
    {
     "data": {
      "text/plain": [
       "(array([0, 1, 2]), array([133,  64,  47], dtype=int64))"
      ]
     },
     "execution_count": 18,
     "metadata": {},
     "output_type": "execute_result"
    }
   ],
   "source": [
    "np.unique(kmeans.labels_, return_counts=True)"
   ]
  },
  {
   "cell_type": "code",
   "execution_count": 19,
   "metadata": {
    "nbpresent": {
     "id": "493b3c1e-1cd8-4a29-9b1a-c4f788bfc73c"
    }
   },
   "outputs": [
    {
     "data": {
      "text/plain": [
       "{0: 133, 1: 64, 2: 47}"
      ]
     },
     "execution_count": 19,
     "metadata": {},
     "output_type": "execute_result"
    }
   ],
   "source": [
    "hist, bins = np.histogram(kmeans.labels_, \n",
    "                          bins=range(0, len(set(kmeans.labels_)) + 1))\n",
    "dict(zip(bins, hist))"
   ]
  },
  {
   "cell_type": "markdown",
   "metadata": {
    "nbpresent": {
     "id": "3011de0a-00f9-44c3-a35f-89f7dad70d2c"
    }
   },
   "source": [
    "Visualization of the clustering in two dimensions."
   ]
  },
  {
   "cell_type": "code",
   "execution_count": 20,
   "metadata": {
    "nbpresent": {
     "id": "a7c47937-cdfa-4e32-8a1a-cc1bb6005c00"
    }
   },
   "outputs": [
    {
     "data": {
      "image/png": "[encoded data removed]",
      "text/plain": [
       "<Figure size 640x480 with 1 Axes>"
      ]
     },
     "metadata": {},
     "output_type": "display_data"
    }
   ],
   "source": [
    "plt.scatter(df['total_bill'], df['tip'], \n",
    "            c=kmeans.labels_, s=20)\n",
    "plt.tick_params(labelsize=18)\n",
    "plt.show()"
   ]
  },
  {
   "cell_type": "markdown",
   "metadata": {
    "nbpresent": {
     "id": "2986f47c-1738-444a-a373-6af405d48317"
    }
   },
   "source": [
    "Centers"
   ]
  },
  {
   "cell_type": "code",
   "execution_count": 21,
   "metadata": {
    "nbpresent": {
     "id": "d8543404-6602-49dd-8a0c-4e18f2a7ef80"
    }
   },
   "outputs": [
    {
     "data": {
      "text/plain": [
       "array([[0.22590095, 0.1366249 , 0.25263158, 0.19560462, 0.21174014,\n",
       "        0.28041816, 0.19416789, 0.2100927 ],\n",
       "       [0.41230166, 0.27935764, 0.21875   , 0.18668   , 0.39121431,\n",
       "        0.27040398, 0.46546336, 0.43823686],\n",
       "       [0.61709258, 0.38565012, 0.61702128, 0.15534817, 0.58038158,\n",
       "        0.22893148, 0.31247819, 0.24718085]])"
      ]
     },
     "execution_count": 21,
     "metadata": {},
     "output_type": "execute_result"
    }
   ],
   "source": [
    "kmeans.cluster_centers_"
   ]
  },
  {
   "cell_type": "code",
   "execution_count": 22,
   "metadata": {
    "nbpresent": {
     "id": "534cfd37-443d-4dc6-b8f8-0546a8236ea3"
    }
   },
   "outputs": [
    {
     "data": {
      "image/png": "[encoded data removed]",
      "text/plain": [
       "<Figure size 640x480 with 1 Axes>"
      ]
     },
     "metadata": {},
     "output_type": "display_data"
    },
    {
     "data": {
      "text/plain": [
       "array([[13.85451128,  2.22962406,  2.26315789,  0.16761388, 16.08413534,\n",
       "        14.12112782,  6.2535213 ,  1.01627193],\n",
       "       [22.75328125,  3.51421875,  2.09375   ,  0.16159238, 26.2675    ,\n",
       "        13.7396875 , 10.9740625 ,  1.68549479],\n",
       "       [32.53      ,  4.47085106,  4.08510638,  0.14045259, 37.00085106,\n",
       "        12.16      ,  8.31212057,  1.12506383]])"
      ]
     },
     "execution_count": 22,
     "metadata": {},
     "output_type": "execute_result"
    }
   ],
   "source": [
    "centers = scaler.inverse_transform(kmeans.cluster_centers_)\n",
    "\n",
    "plt.scatter(df['total_bill'], df['tip'], c=kmeans.labels_, \n",
    "            s=20)\n",
    "plt.scatter(centers[:, 0], centers[:, 1], s=200, marker='*', c='r')\n",
    "plt.tick_params(axis='both', which='major', labelsize=18)\n",
    "plt.show()\n",
    "centers"
   ]
  },
  {
   "cell_type": "markdown",
   "metadata": {
    "nbpresent": {
     "id": "653a5d81-40bf-4ecf-b889-fc3e0fe7c651"
    }
   },
   "source": [
    "Visualization of clusters centers by means of parallel coordinates"
   ]
  },
  {
   "cell_type": "code",
   "execution_count": 23,
   "metadata": {
    "nbpresent": {
     "id": "2eaab2b6-310b-40be-9868-e6b0861bf363"
    }
   },
   "outputs": [
    {
     "data": {
      "image/png": "[encoded data removed]",
      "text/plain": [
       "<Figure size 800x400 with 1 Axes>"
      ]
     },
     "metadata": {},
     "output_type": "display_data"
    }
   ],
   "source": [
    "plt.figure(figsize=(8, 4))\n",
    "for i in range(0, len(centers)):\n",
    "    plt.plot(centers[i], marker='o', label='Cluster %s' % i)\n",
    "plt.tick_params(axis='both', which='major', labelsize=10)\n",
    "plt.xticks(range(0, len(df.columns)), df.columns, fontsize=18)\n",
    "plt.legend(fontsize=10)\n",
    "plt.show()"
   ]
  },
  {
   "cell_type": "code",
   "execution_count": 24,
   "metadata": {},
   "outputs": [
    {
     "data": {
      "image/png": "[encoded data removed]",
      "text/plain": [
       "<Figure size 640x480 with 1 Axes>"
      ]
     },
     "metadata": {},
     "output_type": "display_data"
    }
   ],
   "source": [
    "from math import pi\n",
    " \n",
    "# number of variable\n",
    "N = len(df.columns)\n",
    "# What will be the angle of each axis in the plot? (we divide the plot / number of variable)\n",
    "for i in range(0, len(centers)):\n",
    "    angles = [n / float(N) * 2 * pi for n in range(N)]\n",
    "    values = centers[i].tolist()\n",
    "    values += values[:1]\n",
    "    angles += angles[:1]\n",
    "# Initialise the spider plot\n",
    "    ax = plt.subplot(polar=True)\n",
    "# Draw one axe per variable + add labels labels yet\n",
    "    plt.xticks(angles[:-1], df.columns, color='grey', size=8) \n",
    "# Plot data\n",
    "    ax.plot(angles, values, linewidth=1, linestyle='solid')\n",
    " # Fill area\n",
    "    ax.fill(angles, values, 'b', alpha=0.1)"
   ]
  },
  {
   "cell_type": "markdown",
   "metadata": {
    "nbpresent": {
     "id": "08a94fe9-cf29-433c-ad4d-9bde0979bfcf"
    }
   },
   "source": [
    "SSE and Clustering Validation"
   ]
  },
  {
   "cell_type": "code",
   "execution_count": 25,
   "metadata": {
    "nbpresent": {
     "id": "3764796c-5327-4244-8832-da8bd3dcea8e"
    }
   },
   "outputs": [
    {
     "name": "stdout",
     "output_type": "stream",
     "text": [
      "SSE 24.567151197554796\n",
      "Separation 1.135996817572877\n",
      "Silhouette 0.3388241175099862\n"
     ]
    }
   ],
   "source": [
    "from sklearn import metrics\n",
    "\n",
    "print('SSE %s' % kmeans.inertia_) # cohesion, lower value better clustering (error minimization)\n",
    "print('Separation %s' % metrics.davies_bouldin_score(X, kmeans.labels_)) # lower value, better clustering (minimum zero)\n",
    "print('Silhouette %s' % silhouette_score(X, kmeans.labels_))\n",
    "# Silhouette. The best value is 1 and the worst value is -1. \n",
    "# Values near 0 indicate overlapping clusters. \n",
    "# Negative values generally indicate that a sample has been assigned to the wrong cluster"
   ]
  },
  {
   "cell_type": "code",
   "execution_count": 26,
   "metadata": {},
   "outputs": [
    {
     "data": {
      "text/html": [
       "<div>\n",
       "<style scoped>\n",
       "    .dataframe tbody tr th:only-of-type {\n",
       "        vertical-align: middle;\n",
       "    }\n",
       "\n",
       "    .dataframe tbody tr th {\n",
       "        vertical-align: top;\n",
       "    }\n",
       "\n",
       "    .dataframe thead th {\n",
       "        text-align: right;\n",
       "    }\n",
       "</style>\n",
       "<table border=\"1\" class=\"dataframe\">\n",
       "  <thead>\n",
       "    <tr style=\"text-align: right;\">\n",
       "      <th></th>\n",
       "      <th>total_bill</th>\n",
       "      <th>tip</th>\n",
       "      <th>size</th>\n",
       "      <th>tip_ratio</th>\n",
       "      <th>sum</th>\n",
       "      <th>percent</th>\n",
       "      <th>bpp</th>\n",
       "      <th>tpp</th>\n",
       "      <th>sex</th>\n",
       "      <th>smoker</th>\n",
       "      <th>day</th>\n",
       "      <th>time</th>\n",
       "    </tr>\n",
       "  </thead>\n",
       "  <tbody>\n",
       "    <tr>\n",
       "      <th>0</th>\n",
       "      <td>16.99</td>\n",
       "      <td>1.01</td>\n",
       "      <td>2</td>\n",
       "      <td>0.059447</td>\n",
       "      <td>18.00</td>\n",
       "      <td>5.61</td>\n",
       "      <td>8.495000</td>\n",
       "      <td>0.505000</td>\n",
       "      <td>Female</td>\n",
       "      <td>No</td>\n",
       "      <td>Sun</td>\n",
       "      <td>Dinner</td>\n",
       "    </tr>\n",
       "    <tr>\n",
       "      <th>1</th>\n",
       "      <td>10.34</td>\n",
       "      <td>1.66</td>\n",
       "      <td>3</td>\n",
       "      <td>0.160542</td>\n",
       "      <td>12.00</td>\n",
       "      <td>13.83</td>\n",
       "      <td>3.446667</td>\n",
       "      <td>0.553333</td>\n",
       "      <td>Male</td>\n",
       "      <td>No</td>\n",
       "      <td>Sun</td>\n",
       "      <td>Dinner</td>\n",
       "    </tr>\n",
       "    <tr>\n",
       "      <th>2</th>\n",
       "      <td>21.01</td>\n",
       "      <td>3.50</td>\n",
       "      <td>3</td>\n",
       "      <td>0.166587</td>\n",
       "      <td>24.51</td>\n",
       "      <td>14.28</td>\n",
       "      <td>7.003333</td>\n",
       "      <td>1.166667</td>\n",
       "      <td>Male</td>\n",
       "      <td>No</td>\n",
       "      <td>Sun</td>\n",
       "      <td>Dinner</td>\n",
       "    </tr>\n",
       "    <tr>\n",
       "      <th>3</th>\n",
       "      <td>23.68</td>\n",
       "      <td>3.31</td>\n",
       "      <td>2</td>\n",
       "      <td>0.139780</td>\n",
       "      <td>26.99</td>\n",
       "      <td>12.26</td>\n",
       "      <td>11.840000</td>\n",
       "      <td>1.655000</td>\n",
       "      <td>Male</td>\n",
       "      <td>No</td>\n",
       "      <td>Sun</td>\n",
       "      <td>Dinner</td>\n",
       "    </tr>\n",
       "    <tr>\n",
       "      <th>4</th>\n",
       "      <td>24.59</td>\n",
       "      <td>3.61</td>\n",
       "      <td>4</td>\n",
       "      <td>0.146808</td>\n",
       "      <td>28.20</td>\n",
       "      <td>12.80</td>\n",
       "      <td>6.147500</td>\n",
       "      <td>0.902500</td>\n",
       "      <td>Female</td>\n",
       "      <td>No</td>\n",
       "      <td>Sun</td>\n",
       "      <td>Dinner</td>\n",
       "    </tr>\n",
       "  </tbody>\n",
       "</table>\n",
       "</div>"
      ],
      "text/plain": [
       "   total_bill   tip  size  tip_ratio    sum  percent        bpp       tpp  \\\n",
       "0       16.99  1.01     2   0.059447  18.00     5.61   8.495000  0.505000   \n",
       "1       10.34  1.66     3   0.160542  12.00    13.83   3.446667  0.553333   \n",
       "2       21.01  3.50     3   0.166587  24.51    14.28   7.003333  1.166667   \n",
       "3       23.68  3.31     2   0.139780  26.99    12.26  11.840000  1.655000   \n",
       "4       24.59  3.61     4   0.146808  28.20    12.80   6.147500  0.902500   \n",
       "\n",
       "      sex smoker  day    time  \n",
       "0  Female     No  Sun  Dinner  \n",
       "1    Male     No  Sun  Dinner  \n",
       "2    Male     No  Sun  Dinner  \n",
       "3    Male     No  Sun  Dinner  \n",
       "4  Female     No  Sun  Dinner  "
      ]
     },
     "execution_count": 26,
     "metadata": {},
     "output_type": "execute_result"
    }
   ],
   "source": [
    "df_c = df.join(cat_feature) #add categorical features\n",
    "df_c.head()"
   ]
  },
  {
   "cell_type": "code",
   "execution_count": 27,
   "metadata": {},
   "outputs": [],
   "source": [
    "sex_xt_pct = pd.crosstab(kmeans.labels_,df_c['sex'])\n"
   ]
  },
  {
   "cell_type": "code",
   "execution_count": 28,
   "metadata": {},
   "outputs": [
    {
     "data": {
      "text/html": [
       "<div>\n",
       "<style scoped>\n",
       "    .dataframe tbody tr th:only-of-type {\n",
       "        vertical-align: middle;\n",
       "    }\n",
       "\n",
       "    .dataframe tbody tr th {\n",
       "        vertical-align: top;\n",
       "    }\n",
       "\n",
       "    .dataframe thead th {\n",
       "        text-align: right;\n",
       "    }\n",
       "</style>\n",
       "<table border=\"1\" class=\"dataframe\">\n",
       "  <thead>\n",
       "    <tr style=\"text-align: right;\">\n",
       "      <th>sex</th>\n",
       "      <th>Female</th>\n",
       "      <th>Male</th>\n",
       "    </tr>\n",
       "    <tr>\n",
       "      <th>row_0</th>\n",
       "      <th></th>\n",
       "      <th></th>\n",
       "    </tr>\n",
       "  </thead>\n",
       "  <tbody>\n",
       "    <tr>\n",
       "      <th>0</th>\n",
       "      <td>53</td>\n",
       "      <td>80</td>\n",
       "    </tr>\n",
       "    <tr>\n",
       "      <th>1</th>\n",
       "      <td>21</td>\n",
       "      <td>43</td>\n",
       "    </tr>\n",
       "    <tr>\n",
       "      <th>2</th>\n",
       "      <td>13</td>\n",
       "      <td>34</td>\n",
       "    </tr>\n",
       "  </tbody>\n",
       "</table>\n",
       "</div>"
      ],
      "text/plain": [
       "sex    Female  Male\n",
       "row_0              \n",
       "0          53    80\n",
       "1          21    43\n",
       "2          13    34"
      ]
     },
     "execution_count": 28,
     "metadata": {},
     "output_type": "execute_result"
    }
   ],
   "source": [
    "sex_xt_pct"
   ]
  },
  {
   "cell_type": "code",
   "execution_count": 29,
   "metadata": {},
   "outputs": [],
   "source": [
    "smoker_xt_pct = pd.crosstab( kmeans.labels_,df_c['smoker'])\n"
   ]
  },
  {
   "cell_type": "code",
   "execution_count": 30,
   "metadata": {},
   "outputs": [
    {
     "data": {
      "text/html": [
       "<div>\n",
       "<style scoped>\n",
       "    .dataframe tbody tr th:only-of-type {\n",
       "        vertical-align: middle;\n",
       "    }\n",
       "\n",
       "    .dataframe tbody tr th {\n",
       "        vertical-align: top;\n",
       "    }\n",
       "\n",
       "    .dataframe thead th {\n",
       "        text-align: right;\n",
       "    }\n",
       "</style>\n",
       "<table border=\"1\" class=\"dataframe\">\n",
       "  <thead>\n",
       "    <tr style=\"text-align: right;\">\n",
       "      <th>smoker</th>\n",
       "      <th>No</th>\n",
       "      <th>Yes</th>\n",
       "    </tr>\n",
       "    <tr>\n",
       "      <th>row_0</th>\n",
       "      <th></th>\n",
       "      <th></th>\n",
       "    </tr>\n",
       "  </thead>\n",
       "  <tbody>\n",
       "    <tr>\n",
       "      <th>0</th>\n",
       "      <td>88</td>\n",
       "      <td>45</td>\n",
       "    </tr>\n",
       "    <tr>\n",
       "      <th>1</th>\n",
       "      <td>33</td>\n",
       "      <td>31</td>\n",
       "    </tr>\n",
       "    <tr>\n",
       "      <th>2</th>\n",
       "      <td>30</td>\n",
       "      <td>17</td>\n",
       "    </tr>\n",
       "  </tbody>\n",
       "</table>\n",
       "</div>"
      ],
      "text/plain": [
       "smoker  No  Yes\n",
       "row_0          \n",
       "0       88   45\n",
       "1       33   31\n",
       "2       30   17"
      ]
     },
     "execution_count": 30,
     "metadata": {},
     "output_type": "execute_result"
    }
   ],
   "source": [
    "smoker_xt_pct"
   ]
  },
  {
   "cell_type": "code",
   "execution_count": 31,
   "metadata": {},
   "outputs": [
    {
     "data": {
      "image/png": "[encoded data removed]",
      "text/plain": [
       "<Figure size 640x480 with 1 Axes>"
      ]
     },
     "metadata": {},
     "output_type": "display_data"
    }
   ],
   "source": [
    "smoker_xt_pct.plot(kind='bar', stacked=False, \n",
    "                   title='Smoker per cluster')\n",
    "plt.xlabel('Cluster')\n",
    "plt.ylabel('Smoker')\n",
    "plt.show()"
   ]
  },
  {
   "cell_type": "code",
   "execution_count": 32,
   "metadata": {},
   "outputs": [
    {
     "data": {
      "image/png": "[encoded data removed]",
      "text/plain": [
       "<Figure size 640x480 with 1 Axes>"
      ]
     },
     "metadata": {},
     "output_type": "display_data"
    }
   ],
   "source": [
    "sex_xt_pct.plot(kind='bar', stacked=False, \n",
    "                   title='Sex per cluster')\n",
    "plt.xlabel('Cluster')\n",
    "plt.ylabel('Sex')\n",
    "plt.show()"
   ]
  },
  {
   "cell_type": "code",
   "execution_count": 33,
   "metadata": {},
   "outputs": [
    {
     "data": {
      "image/png": "[encoded data removed]",
      "text/plain": [
       "<Figure size 640x480 with 1 Axes>"
      ]
     },
     "metadata": {},
     "output_type": "display_data"
    }
   ],
   "source": [
    "time_xt_pct = pd.crosstab( kmeans.labels_,df_c['day'])\n",
    "\n",
    "time_xt_pct.plot(kind='bar', stacked=False, \n",
    "                   title='Day per cluster')\n",
    "plt.xlabel('Cluster')\n",
    "plt.ylabel('day')\n",
    "plt.show()"
   ]
  },
  {
   "cell_type": "markdown",
   "metadata": {
    "nbpresent": {
     "id": "432a8859-355b-44d8-ab6c-b76dd7b3a503"
    }
   },
   "source": [
    "Knee Method to estimate the best K"
   ]
  },
  {
   "cell_type": "code",
   "execution_count": 34,
   "metadata": {
    "nbpresent": {
     "id": "8b0f107f-8ab6-486d-a876-c939a769641a"
    }
   },
   "outputs": [],
   "source": [
    "sse_list = list()\n",
    "max_k = 40\n",
    "for k in range(2, max_k + 1):\n",
    "    kmeans = KMeans(n_clusters=k, n_init=10, max_iter=100)\n",
    "    kmeans.fit(X)\n",
    "    \n",
    "    sse = kmeans.inertia_\n",
    "    sse_list.append(sse)"
   ]
  },
  {
   "cell_type": "code",
   "execution_count": 35,
   "metadata": {
    "nbpresent": {
     "id": "6b4844f0-f3d4-4d24-ad52-f805f1bb9a90"
    }
   },
   "outputs": [
    {
     "data": {
      "image/png": "[encoded data removed]",
      "text/plain": [
       "<Figure size 640x480 with 1 Axes>"
      ]
     },
     "metadata": {},
     "output_type": "display_data"
    }
   ],
   "source": [
    "plt.plot(range(2, len(sse_list) + 2), sse_list)\n",
    "plt.ylabel('SSE', fontsize=22)\n",
    "plt.xlabel('K', fontsize=22)\n",
    "plt.tick_params(axis='both', which='major', labelsize=22)\n",
    "plt.show()"
   ]
  },
  {
   "cell_type": "markdown",
   "metadata": {
    "nbpresent": {
     "id": "016e1bce-6f8a-4880-b310-ac4f1c6c4f3b"
    }
   },
   "source": [
    "# DBSCAN"
   ]
  },
  {
   "cell_type": "markdown",
   "metadata": {
    "nbpresent": {
     "id": "338cb5af-4ceb-49c0-9c88-ea5b4cae82ae"
    }
   },
   "source": [
    "## The Algorithm in a Nutshell\n",
    "\n",
    "* A point is a **core** if it has more than minPts points within eps\n",
    "* A point is a **border** if it has less than minPts points within eps but one of its neighboors is a core point\n",
    "* A **noise** point is neither a core or a border point\n",
    "\n",
    "\n",
    "1. Label all points as core, border or noise points\n",
    "1. Eliminate noise points.\n",
    "1. Put an edge between all core points that are within eps of each other\n",
    "1. Make each group of connected core points into a separate cluster.\n",
    "1. Assign each border point to one of the clusters of its associated core points.\n",
    "\n",
    "> Ester, M., Kriegel, H. P., Sander, J., & Xu, X. (1996, August). A density-based algorithm for discovering clusters in large spatial databases with noise. In Kdd (Vol. 96, No. 34, pp. 226-231).\n",
    "\n",
    "Running [example](http://matlaspisa.isti.cnr.it:5055/Dbscan)  \n",
    "Wikipedia [link](https://en.wikipedia.org/wiki/DBSCAN)\n",
    "\n",
    "## DBSCAN Problems\n",
    "\n",
    "* Parameter tuning\n",
    "* Does not recognize different densities"
   ]
  },
  {
   "cell_type": "markdown",
   "metadata": {
    "nbpresent": {
     "id": "ec06e442-6d95-4905-9694-c19ed7cbf40f"
    }
   },
   "source": [
    "## DBSCAN in Python ([sklearn](http://scikit-learn.org/stable/modules/clustering.html#dbscan))"
   ]
  },
  {
   "cell_type": "code",
   "execution_count": 36,
   "metadata": {
    "nbpresent": {
     "id": "3b3ad157-dd57-42cb-83b6-900418c76301"
    }
   },
   "outputs": [],
   "source": [
    "from sklearn.cluster import DBSCAN"
   ]
  },
  {
   "cell_type": "markdown",
   "metadata": {
    "nbpresent": {
     "id": "09bde5d5-52e8-4214-8078-97a2fffc236b"
    }
   },
   "source": [
    "Parameters:\n",
    "* **eps**: The maximum distance between two samples for them to be considered as in the same neighborhood.\n",
    "* **min_samples**: The number of samples in a neighborhood for a point to be considered as a core point. This includes the point itself."
   ]
  },
  {
   "cell_type": "code",
   "execution_count": 37,
   "metadata": {
    "nbpresent": {
     "id": "c4388d09-b7e5-4a7c-be54-7d693383097e"
    }
   },
   "outputs": [
    {
     "data": {
      "text/html": [
       "<style>#sk-container-id-3 {color: black;background-color: white;}#sk-container-id-3 pre{padding: 0;}#sk-container-id-3 div.sk-toggleable {background-color: white;}#sk-container-id-3 label.sk-toggleable__label {cursor: pointer;display: block;width: 100%;margin-bottom: 0;padding: 0.3em;box-sizing: border-box;text-align: center;}#sk-container-id-3 label.sk-toggleable__label-arrow:before {content: \"▸\";float: left;margin-right: 0.25em;color: #696969;}#sk-container-id-3 label.sk-toggleable__label-arrow:hover:before {color: black;}#sk-container-id-3 div.sk-estimator:hover label.sk-toggleable__label-arrow:before {color: black;}#sk-container-id-3 div.sk-toggleable__content {max-height: 0;max-width: 0;overflow: hidden;text-align: left;background-color: #f0f8ff;}#sk-container-id-3 div.sk-toggleable__content pre {margin: 0.2em;color: black;border-radius: 0.25em;background-color: #f0f8ff;}#sk-container-id-3 input.sk-toggleable__control:checked~div.sk-toggleable__content {max-height: 200px;max-width: 100%;overflow: auto;}#sk-container-id-3 input.sk-toggleable__control:checked~label.sk-toggleable__label-arrow:before {content: \"▾\";}#sk-container-id-3 div.sk-estimator input.sk-toggleable__control:checked~label.sk-toggleable__label {background-color: #d4ebff;}#sk-container-id-3 div.sk-label input.sk-toggleable__control:checked~label.sk-toggleable__label {background-color: #d4ebff;}#sk-container-id-3 input.sk-hidden--visually {border: 0;clip: rect(1px 1px 1px 1px);clip: rect(1px, 1px, 1px, 1px);height: 1px;margin: -1px;overflow: hidden;padding: 0;position: absolute;width: 1px;}#sk-container-id-3 div.sk-estimator {font-family: monospace;background-color: #f0f8ff;border: 1px dotted black;border-radius: 0.25em;box-sizing: border-box;margin-bottom: 0.5em;}#sk-container-id-3 div.sk-estimator:hover {background-color: #d4ebff;}#sk-container-id-3 div.sk-parallel-item::after {content: \"\";width: 100%;border-bottom: 1px solid gray;flex-grow: 1;}#sk-container-id-3 div.sk-label:hover label.sk-toggleable__label {background-color: #d4ebff;}#sk-container-id-3 div.sk-serial::before {content: \"\";position: absolute;border-left: 1px solid gray;box-sizing: border-box;top: 0;bottom: 0;left: 50%;z-index: 0;}#sk-container-id-3 div.sk-serial {display: flex;flex-direction: column;align-items: center;background-color: white;padding-right: 0.2em;padding-left: 0.2em;position: relative;}#sk-container-id-3 div.sk-item {position: relative;z-index: 1;}#sk-container-id-3 div.sk-parallel {display: flex;align-items: stretch;justify-content: center;background-color: white;position: relative;}#sk-container-id-3 div.sk-item::before, #sk-container-id-3 div.sk-parallel-item::before {content: \"\";position: absolute;border-left: 1px solid gray;box-sizing: border-box;top: 0;bottom: 0;left: 50%;z-index: -1;}#sk-container-id-3 div.sk-parallel-item {display: flex;flex-direction: column;z-index: 1;position: relative;background-color: white;}#sk-container-id-3 div.sk-parallel-item:first-child::after {align-self: flex-end;width: 50%;}#sk-container-id-3 div.sk-parallel-item:last-child::after {align-self: flex-start;width: 50%;}#sk-container-id-3 div.sk-parallel-item:only-child::after {width: 0;}#sk-container-id-3 div.sk-dashed-wrapped {border: 1px dashed gray;margin: 0 0.4em 0.5em 0.4em;box-sizing: border-box;padding-bottom: 0.4em;background-color: white;}#sk-container-id-3 div.sk-label label {font-family: monospace;font-weight: bold;display: inline-block;line-height: 1.2em;}#sk-container-id-3 div.sk-label-container {text-align: center;}#sk-container-id-3 div.sk-container {/* jupyter's `normalize.less` sets `[hidden] { display: none; }` but bootstrap.min.css set `[hidden] { display: none !important; }` so we also need the `!important` here to be able to override the default hidden behavior on the sphinx rendered scikit-learn.org. See: https://github.com/scikit-learn/scikit-learn/issues/21755 */display: inline-block !important;position: relative;}#sk-container-id-3 div.sk-text-repr-fallback {display: none;}</style><div id=\"sk-container-id-3\" class=\"sk-top-container\"><div class=\"sk-text-repr-fallback\"><pre>DBSCAN(eps=0.15, min_samples=3)</pre><b>In a Jupyter environment, please rerun this cell to show the HTML representation or trust the notebook. <br />On GitHub, the HTML representation is unable to render, please try loading this page with nbviewer.org.</b></div><div class=\"sk-container\" hidden><div class=\"sk-item\"><div class=\"sk-estimator sk-toggleable\"><input class=\"sk-toggleable__control sk-hidden--visually\" id=\"sk-estimator-id-3\" type=\"checkbox\" checked><label for=\"sk-estimator-id-3\" class=\"sk-toggleable__label sk-toggleable__label-arrow\">DBSCAN</label><div class=\"sk-toggleable__content\"><pre>DBSCAN(eps=0.15, min_samples=3)</pre></div></div></div></div></div>"
      ],
      "text/plain": [
       "DBSCAN(eps=0.15, min_samples=3)"
      ]
     },
     "execution_count": 37,
     "metadata": {},
     "output_type": "execute_result"
    }
   ],
   "source": [
    "dbscan = DBSCAN(eps=0.15, min_samples=3)\n",
    "dbscan.fit(X)"
   ]
  },
  {
   "cell_type": "markdown",
   "metadata": {
    "nbpresent": {
     "id": "fb57cfcc-faec-42b1-994f-8a0741ef73cb"
    }
   },
   "source": [
    "Output:\n",
    "* **labels_**: Cluster labels for each point in the dataset. Noisy samples are given the label -1."
   ]
  },
  {
   "cell_type": "markdown",
   "metadata": {
    "nbpresent": {
     "id": "15ffdad7-e3fd-4aba-a71e-79e243795701"
    }
   },
   "source": [
    "Labels"
   ]
  },
  {
   "cell_type": "code",
   "execution_count": 38,
   "metadata": {
    "nbpresent": {
     "id": "4a529d88-e990-495f-9633-9262042c285a"
    }
   },
   "outputs": [
    {
     "data": {
      "text/plain": [
       "array([ 0, -1,  1,  0,  2], dtype=int64)"
      ]
     },
     "execution_count": 38,
     "metadata": {},
     "output_type": "execute_result"
    }
   ],
   "source": [
    "dbscan.labels_[:5]"
   ]
  },
  {
   "cell_type": "markdown",
   "metadata": {
    "nbpresent": {
     "id": "c97342a8-35d1-4528-b2c7-b63f82e77378"
    }
   },
   "source": [
    "Observing the size of each cluster"
   ]
  },
  {
   "cell_type": "code",
   "execution_count": 39,
   "metadata": {
    "nbpresent": {
     "id": "a22ad31a-aba2-410e-aeab-05d3ed2520c0"
    }
   },
   "outputs": [
    {
     "data": {
      "text/plain": [
       "(array([-1,  0,  1,  2,  3], dtype=int64),\n",
       " array([ 43, 145,  24,  28,   4], dtype=int64))"
      ]
     },
     "execution_count": 39,
     "metadata": {},
     "output_type": "execute_result"
    }
   ],
   "source": [
    "np.unique(dbscan.labels_, return_counts=True)"
   ]
  },
  {
   "cell_type": "markdown",
   "metadata": {
    "nbpresent": {
     "id": "67314adb-56e2-44a0-95d2-a6ab08670855"
    }
   },
   "source": [
    "Visualization of the clustering in two dimensions."
   ]
  },
  {
   "cell_type": "code",
   "execution_count": 40,
   "metadata": {
    "nbpresent": {
     "id": "56a3dd05-19d7-4b80-a539-e7bb82184917"
    }
   },
   "outputs": [
    {
     "data": {
      "image/png": "[encoded data removed]",
      "text/plain": [
       "<Figure size 640x480 with 1 Axes>"
      ]
     },
     "metadata": {},
     "output_type": "display_data"
    }
   ],
   "source": [
    "plt.scatter(df['tip'], df['tip_ratio'], c=dbscan.labels_, s=20)\n",
    "plt.tick_params(axis='both', which='major', labelsize=22)\n",
    "plt.show()"
   ]
  },
  {
   "cell_type": "markdown",
   "metadata": {
    "nbpresent": {
     "id": "719bf4f5-4b04-4a0e-ab17-417d1e650581"
    }
   },
   "source": [
    "Clustering Validation"
   ]
  },
  {
   "cell_type": "code",
   "execution_count": 41,
   "metadata": {
    "nbpresent": {
     "id": "56d7043c-52ce-4337-8396-ad0a3a647e5b"
    }
   },
   "outputs": [
    {
     "name": "stdout",
     "output_type": "stream",
     "text": [
      "Silhouette 0.07217613139535121\n"
     ]
    }
   ],
   "source": [
    "print('Silhouette %s' % silhouette_score(X, dbscan.labels_))"
   ]
  },
  {
   "cell_type": "markdown",
   "metadata": {
    "nbpresent": {
     "id": "0ef4ef75-5059-405e-8913-21db516f0fac"
    }
   },
   "source": [
    "Knee Method to estimate the best eps"
   ]
  },
  {
   "cell_type": "code",
   "execution_count": 42,
   "metadata": {
    "nbpresent": {
     "id": "79ae49ce-d264-4371-b3fe-f5008fcc0a3d"
    }
   },
   "outputs": [],
   "source": [
    "from scipy.spatial.distance import pdist, squareform"
   ]
  },
  {
   "cell_type": "code",
   "execution_count": 44,
   "metadata": {
    "nbpresent": {
     "id": "83c899f5-0dc4-4a6c-849b-336dfa58acc0"
    }
   },
   "outputs": [
    {
     "name": "stdout",
     "output_type": "stream",
     "text": [
      "[0.47882476 0.52158959 0.58767617 ... 0.20274274 0.31055905 0.30293466]\n",
      "\n",
      "[[0.         0.47882476 0.52158959 ... 0.31830516 0.18775098 0.49033848]\n",
      " [0.47882476 0.         0.47548155 ... 0.64865302 0.4669884  0.58648114]\n",
      " [0.52158959 0.47548155 0.         ... 0.41704501 0.37639682 0.28212209]\n",
      " ...\n",
      " [0.31830516 0.64865302 0.41704501 ... 0.         0.20274274 0.31055905]\n",
      " [0.18775098 0.4669884  0.37639682 ... 0.20274274 0.         0.30293466]\n",
      " [0.49033848 0.58648114 0.28212209 ... 0.31055905 0.30293466 0.        ]]\n"
     ]
    }
   ],
   "source": [
    "dist = pdist(X, 'euclidean') #pair wise distance\n",
    "print (dist)\n",
    "dist = squareform(dist) #distance matrix given the vector dist\n",
    "print()\n",
    "print(dist)"
   ]
  },
  {
   "cell_type": "code",
   "execution_count": 45,
   "metadata": {
    "nbpresent": {
     "id": "f0cb9289-82ac-466a-a5aa-9e04a65fd6ed"
    }
   },
   "outputs": [],
   "source": [
    "k = 3\n",
    "kth_distances = list()\n",
    "for d in dist:\n",
    "    index_kth_distance = np.argsort(d)[k]\n",
    "    kth_distances.append(d[index_kth_distance])"
   ]
  },
  {
   "cell_type": "code",
   "execution_count": 46,
   "metadata": {
    "nbpresent": {
     "id": "eea759cb-9db5-4bbd-a923-f1bb547e1a4b"
    }
   },
   "outputs": [
    {
     "data": {
      "image/png": "[encoded data removed]",
      "text/plain": [
       "<Figure size 640x480 with 1 Axes>"
      ]
     },
     "metadata": {},
     "output_type": "display_data"
    }
   ],
   "source": [
    "plt.plot(range(0, len(kth_distances)), sorted(kth_distances))\n",
    "plt.ylabel('dist from %sth neighbor' % k, fontsize=18)\n",
    "plt.xlabel('sorted distances', fontsize=18)\n",
    "plt.tick_params(axis='both', which='major', labelsize=22)\n",
    "plt.show()"
   ]
  },
  {
   "cell_type": "markdown",
   "metadata": {},
   "source": [
    "## Hierarchical clustering \n",
    "\n",
    "#### There are 2 kinds of hierarchical clustering: agglomerative and divisive. In the following, there are some example of the agglomerative clustering using scipy. The scipy library allows for hierachical clusters by exploiting the linkage function and then the dendrogram. The first function, given a matrix of pair-wise distances, computes the agglomerative clustering. There are 2 parameters: the method, that can be single, complete, ward, average, weighted, centroids and median, and the metric used to compute the distances, such as euclidean or cosine. Then, with the dendrogram function, it is possible to visualize the result obtained. This kind of clustering is also possible with scikit-learn library, but the dendrogram visualization is not directly available."
   ]
  },
  {
   "cell_type": "code",
   "execution_count": 48,
   "metadata": {},
   "outputs": [],
   "source": [
    "from scipy.stats import mode\n",
    "from scipy.spatial.distance import pdist\n",
    "from scipy.cluster.hierarchy import linkage, dendrogram"
   ]
  },
  {
   "cell_type": "code",
   "execution_count": 49,
   "metadata": {},
   "outputs": [
    {
     "data": {
      "image/png": "[encoded data removed]",
      "text/plain": [
       "<Figure size 640x480 with 1 Axes>"
      ]
     },
     "metadata": {},
     "output_type": "display_data"
    }
   ],
   "source": [
    "data_dist = pdist(X, metric='euclidean')\n",
    "data_link = linkage(data_dist, method='complete', metric='euclidean')\n",
    "res = dendrogram(data_link, color_threshold=1.0, truncate_mode='lastp')"
   ]
  },
  {
   "cell_type": "code",
   "execution_count": 65,
   "metadata": {},
   "outputs": [
    {
     "data": {
      "image/png": "[encoded data removed]",
      "text/plain": [
       "<Figure size 432x288 with 1 Axes>"
      ]
     },
     "metadata": {
      "needs_background": "light"
     },
     "output_type": "display_data"
    }
   ],
   "source": [
    "data_dist = pdist(X, metric='euclidean')\n",
    "data_link = linkage(data_dist, method='single', metric='euclidean')\n",
    "res = dendrogram(data_link, color_threshold=0.2, truncate_mode='lastp')"
   ]
  },
  {
   "cell_type": "code",
   "execution_count": 66,
   "metadata": {},
   "outputs": [
    {
     "data": {
      "image/png": "[encoded data removed]",
      "text/plain": [
       "<Figure size 432x288 with 1 Axes>"
      ]
     },
     "metadata": {
      "needs_background": "light"
     },
     "output_type": "display_data"
    }
   ],
   "source": [
    "data_dist = pdist(X, metric='euclidean')\n",
    "data_link = linkage(data_dist, method='average', metric='euclidean')\n",
    "res = dendrogram(data_link, color_threshold=0.4, truncate_mode='lastp')"
   ]
  },
  {
   "cell_type": "code",
   "execution_count": 71,
   "metadata": {},
   "outputs": [
    {
     "data": {
      "text/plain": [
       "array([3, 3, 0, 1, 0, 0, 3, 0, 3, 1, 3, 0, 3, 0, 1, 1, 3, 0, 0, 0, 1, 1,\n",
       "       3, 2, 1, 0, 3, 3, 1, 1, 3, 0, 1, 0, 1, 0, 0, 0, 0, 0, 0, 3, 1, 3,\n",
       "       0, 1, 2, 0, 0, 1, 1, 3, 0, 3, 0, 1, 0, 2, 3, 2, 1, 3, 3, 0, 0, 0,\n",
       "       3, 3, 3, 3, 3, 0, 2, 2, 3, 3, 1, 0, 1, 3, 1, 1, 1, 2, 3, 0, 3, 1,\n",
       "       2, 1, 2, 1, 3, 1, 1, 0, 2, 3, 1, 3, 1, 1, 2, 1, 1, 3, 1, 2, 1, 1,\n",
       "       1, 3, 0, 2, 0, 1, 0, 3, 3, 0, 1, 3, 1, 3, 1, 0, 3, 3, 3, 0, 3, 1,\n",
       "       3, 3, 1, 3, 3, 3, 3, 1, 1, 0, 0, 0, 3, 3, 0, 3, 3, 3, 1, 3, 0, 0,\n",
       "       0, 0, 0, 0, 1, 0, 0, 1, 0, 3, 1, 0, 3, 0, 3, 3, 2, 1, 1, 2, 1, 2,\n",
       "       3, 3, 1, 2, 0, 2, 2, 0, 2, 0, 0, 0, 0, 0, 3, 1, 2, 3, 1, 3, 3, 0,\n",
       "       3, 3, 0, 3, 3, 3, 0, 0, 0, 0, 2, 1, 0, 0, 2, 1, 2, 3, 0, 3, 3, 0,\n",
       "       1, 1, 1, 0, 3, 3, 3, 0, 1, 1, 0, 0, 1, 3, 1, 3, 3, 2, 0, 2, 2, 2,\n",
       "       3, 1])"
      ]
     },
     "execution_count": 71,
     "metadata": {},
     "output_type": "execute_result"
    }
   ],
   "source": [
    "#with sciki-learn you have to select the number of clusters you want\n",
    "from sklearn.cluster import AgglomerativeClustering\n",
    "\n",
    "cluster = AgglomerativeClustering(n_clusters=4, affinity='euclidean', linkage='ward')\n",
    "cluster.fit_predict(X)\n"
   ]
  },
  {
   "cell_type": "code",
   "execution_count": 72,
   "metadata": {},
   "outputs": [
    {
     "data": {
      "text/plain": [
       "<matplotlib.collections.PathCollection at 0x7fce8fff6f90>"
      ]
     },
     "execution_count": 72,
     "metadata": {},
     "output_type": "execute_result"
    },
    {
     "data": {
      "image/png": "[encoded data removed]",
      "text/plain": [
       "<Figure size 432x288 with 1 Axes>"
      ]
     },
     "metadata": {
      "needs_background": "light"
     },
     "output_type": "display_data"
    }
   ],
   "source": [
    "plt.scatter(X[:,0],X[:,1], c=cluster.labels_)"
   ]
  }
 ],
 "metadata": {
  "anaconda-cloud": {},
  "celltoolbar": "Slideshow",
  "kernelspec": {
   "display_name": "Python 3 (ipykernel)",
   "language": "python",
   "name": "python3"
  },
  "language_info": {
   "codemirror_mode": {
    "name": "ipython",
    "version": 3
   },
   "file_extension": ".py",
   "mimetype": "text/x-python",
   "name": "python",
   "nbconvert_exporter": "python",
   "pygments_lexer": "ipython3",
   "version": "3.10.9"
  },
  "nbpresent": {
   "slides": {
    "012025ad-76ae-4f84-95a6-c6a308b53665": {
     "id": "012025ad-76ae-4f84-95a6-c6a308b53665",
     "prev": "d12f8e2f-1e4b-4526-835d-e7d2b023999c",
     "regions": {
      "20789947-2afa-40c6-98d2-262ec9ec200e": {
       "attrs": {
        "height": 0.8,
        "width": 0.8,
        "x": 0.1,
        "y": 0.1
       },
       "content": {
        "cell": "2b6c8fce-820b-4155-b424-bfaec9ed5273",
        "part": "whole"
       },
       "id": "20789947-2afa-40c6-98d2-262ec9ec200e"
      }
     }
    },
    "032cb3cf-62c1-4394-a87f-edca450bc42a": {
     "id": "032cb3cf-62c1-4394-a87f-edca450bc42a",
     "prev": "81283ce7-d112-4c78-9117-8ac8ae1754f9",
     "regions": {
      "efa282e6-e155-496b-b122-5ee81900abd1": {
       "attrs": {
        "height": 0.8,
        "width": 0.8,
        "x": 0.1,
        "y": 0.1
       },
       "content": {
        "cell": "2eaab2b6-310b-40be-9868-e6b0861bf363",
        "part": "whole"
       },
       "id": "efa282e6-e155-496b-b122-5ee81900abd1"
      }
     }
    },
    "0a2aa933-979a-4529-aff7-5b4c24318c07": {
     "id": "0a2aa933-979a-4529-aff7-5b4c24318c07",
     "prev": "dbf21464-381b-4d12-a352-9f7058f69da6",
     "regions": {
      "930329a1-a181-42cd-bcd8-a8c056f19c4a": {
       "attrs": {
        "height": 0.8,
        "width": 0.8,
        "x": 0.1,
        "y": 0.1
       },
       "content": {
        "cell": "a7c47937-cdfa-4e32-8a1a-cc1bb6005c00",
        "part": "whole"
       },
       "id": "930329a1-a181-42cd-bcd8-a8c056f19c4a"
      }
     }
    },
    "0ae9b4b0-48a8-4a16-aeb7-dcc314a270bd": {
     "id": "0ae9b4b0-48a8-4a16-aeb7-dcc314a270bd",
     "prev": "21314151-cd41-48dd-a9ce-d48c971b8015",
     "regions": {
      "f44acbf5-f4fb-40f8-865e-0759be8ad425": {
       "attrs": {
        "height": 0.8,
        "width": 0.8,
        "x": 0.1,
        "y": 0.1
       },
       "content": {
        "cell": "8d3b7596-0cb2-4e3d-8d92-be89d15610a2",
        "part": "whole"
       },
       "id": "f44acbf5-f4fb-40f8-865e-0759be8ad425"
      }
     }
    },
    "0d56b5df-589f-4ecd-b492-83a80c37346e": {
     "id": "0d56b5df-589f-4ecd-b492-83a80c37346e",
     "prev": "9534b039-63a2-4a43-af75-8e02e6fcd4c0",
     "regions": {
      "ced2d92d-fa6b-461a-9b5d-282b456c469e": {
       "attrs": {
        "height": 0.8,
        "width": 0.8,
        "x": 0.1,
        "y": 0.1
       },
       "content": {
        "cell": "c4388d09-b7e5-4a7c-be54-7d693383097e",
        "part": "whole"
       },
       "id": "ced2d92d-fa6b-461a-9b5d-282b456c469e"
      }
     }
    },
    "17780d3c-c80f-43c8-8ac2-6836da4b36ba": {
     "id": "17780d3c-c80f-43c8-8ac2-6836da4b36ba",
     "prev": "291f884d-3556-41a5-a2cf-e1f8fd721830",
     "regions": {
      "d7435ab8-8087-442c-a32a-94c5256ed815": {
       "attrs": {
        "height": 0.8,
        "width": 0.8,
        "x": 0.1,
        "y": 0.1
       },
       "content": {
        "cell": "742c7fc4-1ab1-4464-b286-c429dbff1cee",
        "part": "whole"
       },
       "id": "d7435ab8-8087-442c-a32a-94c5256ed815"
      }
     }
    },
    "1ec5d2d3-e1a2-46e6-8f9b-2fc094643550": {
     "id": "1ec5d2d3-e1a2-46e6-8f9b-2fc094643550",
     "prev": "9ff016f5-ad74-485b-b024-1d707d78a40b",
     "regions": {
      "b6726a18-4064-46aa-bdfe-5a4796903796": {
       "attrs": {
        "height": 0.8,
        "width": 0.8,
        "x": 0.1,
        "y": 0.1
       },
       "content": {
        "cell": "eea759cb-9db5-4bbd-a923-f1bb547e1a4b",
        "part": "whole"
       },
       "id": "b6726a18-4064-46aa-bdfe-5a4796903796"
      }
     }
    },
    "21314151-cd41-48dd-a9ce-d48c971b8015": {
     "id": "21314151-cd41-48dd-a9ce-d48c971b8015",
     "prev": "226aaee4-3700-4b17-8988-148dc3653ed8",
     "regions": {
      "5d5d3e89-c482-411f-be26-090f74d5b307": {
       "attrs": {
        "height": 0.8,
        "width": 0.8,
        "x": 0.1,
        "y": 0.1
       },
       "content": {
        "cell": "dafc0d2c-1ecb-49f7-8225-88e0a204b9f9",
        "part": "whole"
       },
       "id": "5d5d3e89-c482-411f-be26-090f74d5b307"
      }
     }
    },
    "226aaee4-3700-4b17-8988-148dc3653ed8": {
     "id": "226aaee4-3700-4b17-8988-148dc3653ed8",
     "prev": "b8916106-1ffd-4a4a-a577-ee47bd24433f",
     "regions": {
      "1f95c4ad-9702-4460-9b3b-0ad2634a9370": {
       "attrs": {
        "height": 0.8,
        "width": 0.8,
        "x": 0.1,
        "y": 0.1
       },
       "content": {
        "cell": "2c24fd75-0dc3-4b80-9dae-49a5159b83ee",
        "part": "whole"
       },
       "id": "1f95c4ad-9702-4460-9b3b-0ad2634a9370"
      }
     }
    },
    "291f884d-3556-41a5-a2cf-e1f8fd721830": {
     "id": "291f884d-3556-41a5-a2cf-e1f8fd721830",
     "prev": "9e04b9bc-dbd6-4af1-94f0-4e6bfce63f59",
     "regions": {
      "68698500-1fec-4b6f-9b9b-7c2ec7eb5531": {
       "attrs": {
        "height": 0.8,
        "width": 0.8,
        "x": 0.1,
        "y": 0.1
       },
       "content": {
        "cell": "8c0f2cd0-945f-4a48-839e-bbac3722daef",
        "part": "whole"
       },
       "id": "68698500-1fec-4b6f-9b9b-7c2ec7eb5531"
      }
     }
    },
    "2b777448-cbe8-43a4-b4c3-91123340fa55": {
     "id": "2b777448-cbe8-43a4-b4c3-91123340fa55",
     "prev": "012025ad-76ae-4f84-95a6-c6a308b53665",
     "regions": {
      "4607fcdc-d7b8-4264-89e7-0ad6f472849a": {
       "attrs": {
        "height": 0.8,
        "width": 0.8,
        "x": 0.1,
        "y": 0.1
       },
       "content": {
        "cell": "5bf4f889-4edb-432d-9fbe-d827708f608c",
        "part": "whole"
       },
       "id": "4607fcdc-d7b8-4264-89e7-0ad6f472849a"
      }
     }
    },
    "2d9ad418-857b-4ab2-b96b-2b58437ee03a": {
     "id": "2d9ad418-857b-4ab2-b96b-2b58437ee03a",
     "prev": "f635d696-0ce9-4efc-a61b-e765d78e0f83",
     "regions": {
      "d7eb5188-0699-40d1-8981-cb891eda1b7b": {
       "attrs": {
        "height": 0.8,
        "width": 0.8,
        "x": 0.1,
        "y": 0.1
       },
       "content": {
        "cell": "900a6125-eb02-4dc6-863e-713f34fadd86",
        "part": "whole"
       },
       "id": "d7eb5188-0699-40d1-8981-cb891eda1b7b"
      }
     }
    },
    "2e01acf2-95db-4671-9940-9b4d6758675c": {
     "id": "2e01acf2-95db-4671-9940-9b4d6758675c",
     "prev": "2d9ad418-857b-4ab2-b96b-2b58437ee03a",
     "regions": {
      "c6a377f4-017e-43d6-9562-90270a3c8c8c": {
       "attrs": {
        "height": 0.8,
        "width": 0.8,
        "x": 0.1,
        "y": 0.1
       },
       "content": {
        "cell": "14a5c080-53f1-4dd7-9d85-0599e310f746",
        "part": "whole"
       },
       "id": "c6a377f4-017e-43d6-9562-90270a3c8c8c"
      }
     }
    },
    "326cf14d-d44b-4e7d-889f-9a688aff0bb6": {
     "id": "326cf14d-d44b-4e7d-889f-9a688aff0bb6",
     "prev": "9bc5d887-d229-41d9-aee1-3be56a153210",
     "regions": {
      "a1a687db-734c-4b0e-a8d5-7c73bab222b1": {
       "attrs": {
        "height": 0.8,
        "width": 0.8,
        "x": 0.1,
        "y": 0.1
       },
       "content": {
        "cell": "719bf4f5-4b04-4a0e-ab17-417d1e650581",
        "part": "whole"
       },
       "id": "a1a687db-734c-4b0e-a8d5-7c73bab222b1"
      }
     }
    },
    "33369236-9238-4fdc-8178-595c91bff7e9": {
     "id": "33369236-9238-4fdc-8178-595c91bff7e9",
     "prev": "fb642f64-1040-44ff-b659-726492bb5860",
     "regions": {
      "0fc66305-e8de-4093-91af-ff3713fbed93": {
       "attrs": {
        "height": 0.8,
        "width": 0.8,
        "x": 0.1,
        "y": 0.1
       },
       "content": {
        "cell": "338cb5af-4ceb-49c0-9c88-ea5b4cae82ae",
        "part": "whole"
       },
       "id": "0fc66305-e8de-4093-91af-ff3713fbed93"
      }
     }
    },
    "33a91302-bf4b-4839-8674-4e19583669a8": {
     "id": "33a91302-bf4b-4839-8674-4e19583669a8",
     "prev": "0d56b5df-589f-4ecd-b492-83a80c37346e",
     "regions": {
      "3af43296-5a45-4838-985a-0a550c713a5f": {
       "attrs": {
        "height": 0.8,
        "width": 0.8,
        "x": 0.1,
        "y": 0.1
       },
       "content": {
        "cell": "fb57cfcc-faec-42b1-994f-8a0741ef73cb",
        "part": "whole"
       },
       "id": "3af43296-5a45-4838-985a-0a550c713a5f"
      }
     }
    },
    "348c2a5b-301a-4940-aa8c-2c111278cb04": {
     "id": "348c2a5b-301a-4940-aa8c-2c111278cb04",
     "prev": "4585a6e5-92a2-4026-8e72-fc6643d728d7",
     "regions": {
      "14cf07a5-e1fe-4f55-a0c6-3be74ef248fc": {
       "attrs": {
        "height": 0.8,
        "width": 0.8,
        "x": 0.1,
        "y": 0.1
       },
       "content": {
        "cell": "4a529d88-e990-495f-9633-9262042c285a",
        "part": "whole"
       },
       "id": "14cf07a5-e1fe-4f55-a0c6-3be74ef248fc"
      }
     }
    },
    "39249c77-3e2b-4c73-9885-32982219cad6": {
     "id": "39249c77-3e2b-4c73-9885-32982219cad6",
     "prev": "7a869569-ac65-4c8c-bea0-c923ea3dfb88",
     "regions": {
      "9139c713-f134-40cb-821c-03ea6372578f": {
       "attrs": {
        "height": 0.8,
        "width": 0.8,
        "x": 0.1,
        "y": 0.1
       },
       "content": {
        "cell": "0b55f13c-5d47-479e-8e47-57ec3f50edec",
        "part": "whole"
       },
       "id": "9139c713-f134-40cb-821c-03ea6372578f"
      }
     }
    },
    "42745679-c9ad-43e8-8e37-1a0202c258f9": {
     "id": "42745679-c9ad-43e8-8e37-1a0202c258f9",
     "prev": "7792a401-54c4-4d2e-ab24-b7744a90776d",
     "regions": {
      "aced627e-0825-45a5-add4-1937825c026e": {
       "attrs": {
        "height": 0.8,
        "width": 0.8,
        "x": 0.1,
        "y": 0.1
       },
       "content": {
        "cell": "534cfd37-443d-4dc6-b8f8-0546a8236ea3",
        "part": "whole"
       },
       "id": "aced627e-0825-45a5-add4-1937825c026e"
      }
     }
    },
    "45329c6f-6b11-48ec-94cf-3c25ea3d4e2d": {
     "id": "45329c6f-6b11-48ec-94cf-3c25ea3d4e2d",
     "prev": "641110d7-5c3b-4889-9a8b-eb1265ab7988",
     "regions": {
      "ad6e58a3-fc50-4279-a31b-ef9ef12098aa": {
       "attrs": {
        "height": 0.8,
        "width": 0.8,
        "x": 0.1,
        "y": 0.1
       },
       "content": {
        "cell": "432a8859-355b-44d8-ab6c-b76dd7b3a503",
        "part": "whole"
       },
       "id": "ad6e58a3-fc50-4279-a31b-ef9ef12098aa"
      }
     }
    },
    "455af527-4525-4b52-9892-ffa136b514b7": {
     "id": "455af527-4525-4b52-9892-ffa136b514b7",
     "prev": "33369236-9238-4fdc-8178-595c91bff7e9",
     "regions": {
      "f1421853-7af6-41b1-8541-f6d73971a0a5": {
       "attrs": {
        "height": 0.8,
        "width": 0.8,
        "x": 0.1,
        "y": 0.1
       },
       "content": {
        "cell": "ec06e442-6d95-4905-9694-c19ed7cbf40f",
        "part": "whole"
       },
       "id": "f1421853-7af6-41b1-8541-f6d73971a0a5"
      }
     }
    },
    "4585a6e5-92a2-4026-8e72-fc6643d728d7": {
     "id": "4585a6e5-92a2-4026-8e72-fc6643d728d7",
     "prev": "33a91302-bf4b-4839-8674-4e19583669a8",
     "regions": {
      "9a17e9da-d164-4009-af99-e422d063971b": {
       "attrs": {
        "height": 0.8,
        "width": 0.8,
        "x": 0.1,
        "y": 0.1
       },
       "content": {
        "cell": "15ffdad7-e3fd-4aba-a71e-79e243795701",
        "part": "whole"
       },
       "id": "9a17e9da-d164-4009-af99-e422d063971b"
      }
     }
    },
    "45cb3915-42ef-465f-bed6-f6bd874b73fa": {
     "id": "45cb3915-42ef-465f-bed6-f6bd874b73fa",
     "prev": null,
     "regions": {
      "fee0ee40-4b00-4683-bee2-11184ba5ed14": {
       "attrs": {
        "height": 0.8,
        "width": 0.8,
        "x": 0.1,
        "y": 0.1
       },
       "content": {
        "cell": "db73b2da-d4dd-479c-a35e-040889d624b0",
        "part": "whole"
       },
       "id": "fee0ee40-4b00-4683-bee2-11184ba5ed14"
      }
     }
    },
    "45edda59-0c08-42a4-9975-2ecbb354e7e9": {
     "id": "45edda59-0c08-42a4-9975-2ecbb354e7e9",
     "prev": "785de5fe-5e38-42e0-ac53-f9f817c960dc",
     "regions": {
      "b1f12338-e1eb-41be-8bbb-85b6cb93de62": {
       "attrs": {
        "height": 0.8,
        "width": 0.8,
        "x": 0.1,
        "y": 0.1
       },
       "content": {
        "cell": "0ef4ef75-5059-405e-8913-21db516f0fac",
        "part": "whole"
       },
       "id": "b1f12338-e1eb-41be-8bbb-85b6cb93de62"
      }
     }
    },
    "4a149dd2-36a0-4b2c-894b-37f9619ca1cf": {
     "id": "4a149dd2-36a0-4b2c-894b-37f9619ca1cf",
     "prev": "348c2a5b-301a-4940-aa8c-2c111278cb04",
     "regions": {
      "d1b5bbfb-129b-48e7-ba58-3697152c203c": {
       "attrs": {
        "height": 0.8,
        "width": 0.8,
        "x": 0.1,
        "y": 0.1
       },
       "content": {
        "cell": "c97342a8-35d1-4528-b2c7-b63f82e77378",
        "part": "whole"
       },
       "id": "d1b5bbfb-129b-48e7-ba58-3697152c203c"
      }
     }
    },
    "521f423b-c4d5-4d12-987d-7b50fda7c70c": {
     "id": "521f423b-c4d5-4d12-987d-7b50fda7c70c",
     "prev": "bbfa79cc-e99f-41d5-a065-472c4fb651ab",
     "regions": {
      "0ffb07e9-9843-4979-b155-ca92e44f5ec5": {
       "attrs": {
        "height": 0.8,
        "width": 0.8,
        "x": 0.1,
        "y": 0.1
       },
       "content": {
        "cell": "b0f29921-0c20-448f-a05b-21d8f9e83ba1",
        "part": "whole"
       },
       "id": "0ffb07e9-9843-4979-b155-ca92e44f5ec5"
      }
     }
    },
    "58807d09-b6ef-4886-85b9-51f7a7e2da5f": {
     "id": "58807d09-b6ef-4886-85b9-51f7a7e2da5f",
     "prev": "bd0be129-597b-46f3-9c4a-fce4651a4971",
     "regions": {
      "3233254b-53d0-4874-b78b-1faa2a6cfab7": {
       "attrs": {
        "height": 0.8,
        "width": 0.8,
        "x": 0.1,
        "y": 0.1
       },
       "content": {
        "cell": "23df6cd5-3d44-4d69-a9c6-3b913663a8c5",
        "part": "whole"
       },
       "id": "3233254b-53d0-4874-b78b-1faa2a6cfab7"
      }
     }
    },
    "61350dfc-49b1-4b3d-bc45-9c6fce78cfba": {
     "id": "61350dfc-49b1-4b3d-bc45-9c6fce78cfba",
     "prev": "2e01acf2-95db-4671-9940-9b4d6758675c",
     "regions": {
      "76ac9c60-abf2-4f51-819f-9fc8c07c5ad0": {
       "attrs": {
        "height": 0.8,
        "width": 0.8,
        "x": 0.1,
        "y": 0.1
       },
       "content": {
        "cell": "076f43a0-0c2e-4418-b993-76b87dfaf59a",
        "part": "whole"
       },
       "id": "76ac9c60-abf2-4f51-819f-9fc8c07c5ad0"
      }
     }
    },
    "641110d7-5c3b-4889-9a8b-eb1265ab7988": {
     "id": "641110d7-5c3b-4889-9a8b-eb1265ab7988",
     "prev": "c564f7ee-3674-40bb-8343-656a3efe66a0",
     "regions": {
      "9ec84c18-3a44-4704-8d19-73c6d986b9fe": {
       "attrs": {
        "height": 0.8,
        "width": 0.8,
        "x": 0.1,
        "y": 0.1
       },
       "content": {
        "cell": "3764796c-5327-4244-8832-da8bd3dcea8e",
        "part": "whole"
       },
       "id": "9ec84c18-3a44-4704-8d19-73c6d986b9fe"
      }
     }
    },
    "64650454-ed4e-44cf-adab-3a3fafd862e7": {
     "id": "64650454-ed4e-44cf-adab-3a3fafd862e7",
     "prev": "6d01f77b-be14-464b-88da-1eb52f487e16",
     "regions": {
      "55e5868a-e9b2-4d30-be76-4184b2db533a": {
       "attrs": {
        "height": 0.8,
        "width": 0.8,
        "x": 0.1,
        "y": 0.1
       },
       "content": {
        "cell": "03b12b50-e918-4b37-9395-0052bf7c71b0",
        "part": "whole"
       },
       "id": "55e5868a-e9b2-4d30-be76-4184b2db533a"
      }
     }
    },
    "68c3a18b-cb57-4595-80a3-81f9077c9ba6": {
     "id": "68c3a18b-cb57-4595-80a3-81f9077c9ba6",
     "prev": "ca5fc2af-4fdc-419e-9bf8-dc0afb30c79a",
     "regions": {
      "b429c234-daa1-402e-9786-76ff6d9f653d": {
       "attrs": {
        "height": 0.8,
        "width": 0.8,
        "x": 0.1,
        "y": 0.1
       },
       "content": {
        "cell": "a8543b9d-24a4-410b-bd28-f0f16e4d9962",
        "part": "whole"
       },
       "id": "b429c234-daa1-402e-9786-76ff6d9f653d"
      }
     }
    },
    "6b113d61-c612-4422-9a80-6ee7dc703c7f": {
     "id": "6b113d61-c612-4422-9a80-6ee7dc703c7f",
     "prev": "1ec5d2d3-e1a2-46e6-8f9b-2fc094643550",
     "regions": {
      "f9c26118-46e1-4158-be6c-d6934082bb3e": {
       "attrs": {
        "height": 0.8,
        "width": 0.8,
        "x": 0.1,
        "y": 0.1
       },
       "content": {
        "cell": "82d11af3-121e-42db-9fe7-b16fc60b8b9e",
        "part": "whole"
       },
       "id": "f9c26118-46e1-4158-be6c-d6934082bb3e"
      }
     }
    },
    "6b2ebbd1-be8e-422d-91ed-9be8e6e15a7a": {
     "id": "6b2ebbd1-be8e-422d-91ed-9be8e6e15a7a",
     "prev": "4a149dd2-36a0-4b2c-894b-37f9619ca1cf",
     "regions": {
      "ddc3e509-beae-48f9-be6c-5cb53613f11a": {
       "attrs": {
        "height": 0.8,
        "width": 0.8,
        "x": 0.1,
        "y": 0.1
       },
       "content": {
        "cell": "a22ad31a-aba2-410e-aeab-05d3ed2520c0",
        "part": "whole"
       },
       "id": "ddc3e509-beae-48f9-be6c-5cb53613f11a"
      }
     }
    },
    "6d01f77b-be14-464b-88da-1eb52f487e16": {
     "id": "6d01f77b-be14-464b-88da-1eb52f487e16",
     "prev": "c8820a4b-9b9a-49dc-82a9-62f605f575d2",
     "regions": {
      "d029e361-3492-408d-a385-88a1916b5606": {
       "attrs": {
        "height": 0.8,
        "width": 0.8,
        "x": 0.1,
        "y": 0.1
       },
       "content": {
        "cell": "6b4844f0-f3d4-4d24-ad52-f805f1bb9a90",
        "part": "whole"
       },
       "id": "d029e361-3492-408d-a385-88a1916b5606"
      }
     }
    },
    "7792a401-54c4-4d2e-ab24-b7744a90776d": {
     "id": "7792a401-54c4-4d2e-ab24-b7744a90776d",
     "prev": "890328d3-8c0d-49cd-8b90-e8510905643a",
     "regions": {
      "5e3d559d-0c98-4ae2-92c4-06db162b9468": {
       "attrs": {
        "height": 0.8,
        "width": 0.8,
        "x": 0.1,
        "y": 0.1
       },
       "content": {
        "cell": "d8543404-6602-49dd-8a0c-4e18f2a7ef80",
        "part": "whole"
       },
       "id": "5e3d559d-0c98-4ae2-92c4-06db162b9468"
      }
     }
    },
    "780d4e30-d695-402e-8314-155a09c634b2": {
     "id": "780d4e30-d695-402e-8314-155a09c634b2",
     "prev": "455af527-4525-4b52-9892-ffa136b514b7",
     "regions": {
      "6c91c9e8-cdf0-4aff-96a4-764a4d1bb25c": {
       "attrs": {
        "height": 0.8,
        "width": 0.8,
        "x": 0.1,
        "y": 0.1
       },
       "content": {
        "cell": "3b3ad157-dd57-42cb-83b6-900418c76301",
        "part": "whole"
       },
       "id": "6c91c9e8-cdf0-4aff-96a4-764a4d1bb25c"
      }
     }
    },
    "785de5fe-5e38-42e0-ac53-f9f817c960dc": {
     "id": "785de5fe-5e38-42e0-ac53-f9f817c960dc",
     "prev": "326cf14d-d44b-4e7d-889f-9a688aff0bb6",
     "regions": {
      "62837c3d-2861-40fa-8b20-fb8e327fdaff": {
       "attrs": {
        "height": 0.8,
        "width": 0.8,
        "x": 0.1,
        "y": 0.1
       },
       "content": {
        "cell": "56d7043c-52ce-4337-8396-ad0a3a647e5b",
        "part": "whole"
       },
       "id": "62837c3d-2861-40fa-8b20-fb8e327fdaff"
      }
     }
    },
    "7a869569-ac65-4c8c-bea0-c923ea3dfb88": {
     "id": "7a869569-ac65-4c8c-bea0-c923ea3dfb88",
     "prev": "e43f69be-4f29-4697-acc4-6318c9d1dc6f",
     "regions": {
      "b90e5e90-a564-4847-8896-e0457592f398": {
       "attrs": {
        "height": 0.8,
        "width": 0.8,
        "x": 0.1,
        "y": 0.1
       },
       "content": {
        "cell": "5d98e1bc-9021-4b20-b453-55b17ed44fda",
        "part": "whole"
       },
       "id": "b90e5e90-a564-4847-8896-e0457592f398"
      }
     }
    },
    "7ba21cec-6c85-487c-9dff-bbffb414caf2": {
     "id": "7ba21cec-6c85-487c-9dff-bbffb414caf2",
     "prev": "95176b57-3c2a-4948-afa2-4b0f2fe1cf6d",
     "regions": {
      "b76e1460-99b4-4c5b-809d-0bdea4d0c4ac": {
       "attrs": {
        "height": 0.8,
        "width": 0.8,
        "x": 0.1,
        "y": 0.1
       },
       "content": {
        "cell": "d0bed39f-1750-4435-a4a6-f275fc6c3a21",
        "part": "whole"
       },
       "id": "b76e1460-99b4-4c5b-809d-0bdea4d0c4ac"
      }
     }
    },
    "7c701d85-3667-4163-9cd2-a237926128ea": {
     "id": "7c701d85-3667-4163-9cd2-a237926128ea",
     "prev": "df7f2d31-a150-4466-8273-09fcd3c90139",
     "regions": {
      "034a0ef4-14df-4bbe-8c8d-4c80f2f9779d": {
       "attrs": {
        "height": 0.8,
        "width": 0.8,
        "x": 0.1,
        "y": 0.1
       },
       "content": {
        "cell": "e9b09ebd-7050-4573-bdd4-fd42adbabd25",
        "part": "whole"
       },
       "id": "034a0ef4-14df-4bbe-8c8d-4c80f2f9779d"
      }
     }
    },
    "81283ce7-d112-4c78-9117-8ac8ae1754f9": {
     "id": "81283ce7-d112-4c78-9117-8ac8ae1754f9",
     "prev": "42745679-c9ad-43e8-8e37-1a0202c258f9",
     "regions": {
      "39b5cc2d-546c-4a19-b33e-e5a7da32588b": {
       "attrs": {
        "height": 0.8,
        "width": 0.8,
        "x": 0.1,
        "y": 0.1
       },
       "content": {
        "cell": "653a5d81-40bf-4ecf-b889-fc3e0fe7c651",
        "part": "whole"
       },
       "id": "39b5cc2d-546c-4a19-b33e-e5a7da32588b"
      }
     }
    },
    "890328d3-8c0d-49cd-8b90-e8510905643a": {
     "id": "890328d3-8c0d-49cd-8b90-e8510905643a",
     "prev": "0a2aa933-979a-4529-aff7-5b4c24318c07",
     "regions": {
      "410ea1a1-f74c-442e-898e-587ec9af16f7": {
       "attrs": {
        "height": 0.8,
        "width": 0.8,
        "x": 0.1,
        "y": 0.1
       },
       "content": {
        "cell": "2986f47c-1738-444a-a373-6af405d48317",
        "part": "whole"
       },
       "id": "410ea1a1-f74c-442e-898e-587ec9af16f7"
      }
     }
    },
    "8b46f0df-ba26-42e7-889c-d2b6b5ebbe10": {
     "id": "8b46f0df-ba26-42e7-889c-d2b6b5ebbe10",
     "prev": "45edda59-0c08-42a4-9975-2ecbb354e7e9",
     "regions": {
      "bff05e3e-bec8-498a-aedb-45530c9d6343": {
       "attrs": {
        "height": 0.8,
        "width": 0.8,
        "x": 0.1,
        "y": 0.1
       },
       "content": {
        "cell": "79ae49ce-d264-4371-b3fe-f5008fcc0a3d",
        "part": "whole"
       },
       "id": "bff05e3e-bec8-498a-aedb-45530c9d6343"
      }
     }
    },
    "928140ae-945b-405a-8e14-5ca09c600057": {
     "id": "928140ae-945b-405a-8e14-5ca09c600057",
     "prev": "fc6518d6-bef0-4f2e-9387-14c83f79cca4",
     "regions": {
      "35408348-fc4d-43bf-907f-f8f37bafd98b": {
       "attrs": {
        "height": 0.8,
        "width": 0.8,
        "x": 0.1,
        "y": 0.1
       },
       "content": {
        "cell": "f5e5a606-d0a9-4149-8b1b-450ee74649d2",
        "part": "whole"
       },
       "id": "35408348-fc4d-43bf-907f-f8f37bafd98b"
      }
     }
    },
    "95176b57-3c2a-4948-afa2-4b0f2fe1cf6d": {
     "id": "95176b57-3c2a-4948-afa2-4b0f2fe1cf6d",
     "prev": "7c701d85-3667-4163-9cd2-a237926128ea",
     "regions": {
      "7687adf9-d41f-4c38-8388-c5e0a3bffae6": {
       "attrs": {
        "height": 0.8,
        "width": 0.8,
        "x": 0.1,
        "y": 0.1
       },
       "content": {
        "cell": "55854def-cde5-4036-ae5d-0392886253d9",
        "part": "whole"
       },
       "id": "7687adf9-d41f-4c38-8388-c5e0a3bffae6"
      }
     }
    },
    "9534b039-63a2-4a43-af75-8e02e6fcd4c0": {
     "id": "9534b039-63a2-4a43-af75-8e02e6fcd4c0",
     "prev": "780d4e30-d695-402e-8314-155a09c634b2",
     "regions": {
      "8bf62583-ba81-467e-a12d-ac4f8018ab62": {
       "attrs": {
        "height": 0.8,
        "width": 0.8,
        "x": 0.1,
        "y": 0.1
       },
       "content": {
        "cell": "09bde5d5-52e8-4214-8078-97a2fffc236b",
        "part": "whole"
       },
       "id": "8bf62583-ba81-467e-a12d-ac4f8018ab62"
      }
     }
    },
    "99143e6d-0cbc-4fbf-ab33-69eb977855dd": {
     "id": "99143e6d-0cbc-4fbf-ab33-69eb977855dd",
     "prev": "6b2ebbd1-be8e-422d-91ed-9be8e6e15a7a",
     "regions": {
      "2bb7294f-e474-4382-a737-e71d2f83593c": {
       "attrs": {
        "height": 0.8,
        "width": 0.8,
        "x": 0.1,
        "y": 0.1
       },
       "content": {
        "cell": "67314adb-56e2-44a0-95d2-a6ab08670855",
        "part": "whole"
       },
       "id": "2bb7294f-e474-4382-a737-e71d2f83593c"
      }
     }
    },
    "9bc5d887-d229-41d9-aee1-3be56a153210": {
     "id": "9bc5d887-d229-41d9-aee1-3be56a153210",
     "prev": "99143e6d-0cbc-4fbf-ab33-69eb977855dd",
     "regions": {
      "06585c99-2fdd-4fdc-b33b-216ca14e3dcf": {
       "attrs": {
        "height": 0.8,
        "width": 0.8,
        "x": 0.1,
        "y": 0.1
       },
       "content": {
        "cell": "56a3dd05-19d7-4b80-a539-e7bb82184917",
        "part": "whole"
       },
       "id": "06585c99-2fdd-4fdc-b33b-216ca14e3dcf"
      }
     }
    },
    "9dd5ee3f-ad1c-4ee0-82ec-26cb4ef7de77": {
     "id": "9dd5ee3f-ad1c-4ee0-82ec-26cb4ef7de77",
     "prev": "6b113d61-c612-4422-9a80-6ee7dc703c7f",
     "regions": {
      "2db459e8-630e-42c1-abf9-799a8d41f178": {
       "attrs": {
        "height": 0.8,
        "width": 0.8,
        "x": 0.1,
        "y": 0.1
       },
       "content": {
        "cell": "035484c3-379c-4bab-b70c-250db28add45",
        "part": "whole"
       },
       "id": "2db459e8-630e-42c1-abf9-799a8d41f178"
      }
     }
    },
    "9e04b9bc-dbd6-4af1-94f0-4e6bfce63f59": {
     "id": "9e04b9bc-dbd6-4af1-94f0-4e6bfce63f59",
     "prev": "521f423b-c4d5-4d12-987d-7b50fda7c70c",
     "regions": {
      "4f099933-eb41-4cbb-8775-a3ca7d171965": {
       "attrs": {
        "height": 0.8,
        "width": 0.8,
        "x": 0.1,
        "y": 0.1
       },
       "content": {
        "cell": "afbf2f00-ac49-429b-b8c9-11fc8e96dd59",
        "part": "whole"
       },
       "id": "4f099933-eb41-4cbb-8775-a3ca7d171965"
      }
     }
    },
    "9ff016f5-ad74-485b-b024-1d707d78a40b": {
     "id": "9ff016f5-ad74-485b-b024-1d707d78a40b",
     "prev": "e7b1b340-2cbb-4e7e-9877-0238c3a189ea",
     "regions": {
      "3a3c5570-a01a-42e8-8f8b-6fd2c3657a2d": {
       "attrs": {
        "height": 0.8,
        "width": 0.8,
        "x": 0.1,
        "y": 0.1
       },
       "content": {
        "cell": "f0cb9289-82ac-466a-a5aa-9e04a65fd6ed",
        "part": "whole"
       },
       "id": "3a3c5570-a01a-42e8-8f8b-6fd2c3657a2d"
      }
     }
    },
    "b674fca0-9e18-412d-b601-6241502ab463": {
     "id": "b674fca0-9e18-412d-b601-6241502ab463",
     "prev": "68c3a18b-cb57-4595-80a3-81f9077c9ba6",
     "regions": {
      "2269392a-e2c5-405f-8f5c-c761a9d1b501": {
       "attrs": {
        "height": 0.8,
        "width": 0.8,
        "x": 0.1,
        "y": 0.1
       },
       "content": {
        "cell": "8f8baecf-4668-408e-922c-2d56f1f4c815",
        "part": "whole"
       },
       "id": "2269392a-e2c5-405f-8f5c-c761a9d1b501"
      }
     }
    },
    "b7ece846-a40c-4902-b154-c7744d241930": {
     "id": "b7ece846-a40c-4902-b154-c7744d241930",
     "prev": "17780d3c-c80f-43c8-8ac2-6836da4b36ba",
     "regions": {
      "88948370-9960-412c-a708-fde239e22afe": {
       "attrs": {
        "height": 0.8,
        "width": 0.8,
        "x": 0.1,
        "y": 0.1
       },
       "content": {
        "cell": "b9234a06-f3b3-4673-8658-850b75c98c9c",
        "part": "whole"
       },
       "id": "88948370-9960-412c-a708-fde239e22afe"
      }
     }
    },
    "b8916106-1ffd-4a4a-a577-ee47bd24433f": {
     "id": "b8916106-1ffd-4a4a-a577-ee47bd24433f",
     "prev": "fab4f6d0-5194-4032-809f-b8cf2e6f4065",
     "regions": {
      "fa3b9b5d-a0fd-4cf0-9f2a-54042005f6e9": {
       "attrs": {
        "height": 0.8,
        "width": 0.8,
        "x": 0.1,
        "y": 0.1
       },
       "content": {
        "cell": "6784b35c-3389-485c-9fa0-53e53ff298e4",
        "part": "whole"
       },
       "id": "fa3b9b5d-a0fd-4cf0-9f2a-54042005f6e9"
      }
     }
    },
    "b9e82e86-d6f6-4dbb-9fc2-8edf7a98e49b": {
     "id": "b9e82e86-d6f6-4dbb-9fc2-8edf7a98e49b",
     "prev": "d5317e23-89b6-4a9e-9fd0-66418a3f7f15",
     "regions": {
      "1033f982-bb79-48cb-ac6f-d92cd86ac72e": {
       "attrs": {
        "height": 0.8,
        "width": 0.8,
        "x": 0.1,
        "y": 0.1
       },
       "content": {
        "cell": "52dee069-44c7-4e41-b68a-e59d6a2af883",
        "part": "whole"
       },
       "id": "1033f982-bb79-48cb-ac6f-d92cd86ac72e"
      }
     }
    },
    "bbfa79cc-e99f-41d5-a065-472c4fb651ab": {
     "id": "bbfa79cc-e99f-41d5-a065-472c4fb651ab",
     "prev": "58807d09-b6ef-4886-85b9-51f7a7e2da5f",
     "regions": {
      "fa7b1840-c1a1-4e8c-86a2-c24c56b9edb7": {
       "attrs": {
        "height": 0.8,
        "width": 0.8,
        "x": 0.1,
        "y": 0.1
       },
       "content": {
        "cell": "cb0fbdf7-791f-491b-8013-0a97f8be6cf6",
        "part": "whole"
       },
       "id": "fa7b1840-c1a1-4e8c-86a2-c24c56b9edb7"
      }
     }
    },
    "bc418e23-bfab-4b7c-9f52-861f73e7dbd1": {
     "id": "bc418e23-bfab-4b7c-9f52-861f73e7dbd1",
     "prev": "fe594a1f-e9a4-433d-ba29-7252d2dcd32d",
     "regions": {
      "e7c83f75-8910-4d02-89a2-639e660ff7b2": {
       "attrs": {
        "height": 0.8,
        "width": 0.8,
        "x": 0.1,
        "y": 0.1
       },
       "content": {
        "cell": "a0b75077-26d6-4ecb-8195-fbfdc56b4b58",
        "part": "whole"
       },
       "id": "e7c83f75-8910-4d02-89a2-639e660ff7b2"
      }
     }
    },
    "bd0be129-597b-46f3-9c4a-fce4651a4971": {
     "id": "bd0be129-597b-46f3-9c4a-fce4651a4971",
     "prev": "39249c77-3e2b-4c73-9885-32982219cad6",
     "regions": {
      "15e68360-2842-4389-b01e-1bc22c8eab17": {
       "attrs": {
        "height": 0.8,
        "width": 0.8,
        "x": 0.1,
        "y": 0.1
       },
       "content": {
        "cell": "3634134e-98b8-417c-871f-7cba05330c4b",
        "part": "whole"
       },
       "id": "15e68360-2842-4389-b01e-1bc22c8eab17"
      }
     }
    },
    "be787ead-c847-42db-88b7-fa32a1b096c2": {
     "id": "be787ead-c847-42db-88b7-fa32a1b096c2",
     "prev": "f17c63a0-b801-4585-ae5c-6a23f329eb5c",
     "regions": {
      "f5b12ffd-65f4-4591-998a-67257c33e590": {
       "attrs": {
        "height": 0.8,
        "width": 0.8,
        "x": 0.1,
        "y": 0.1
       },
       "content": {
        "cell": "b761dfb9-892d-497c-a129-f9106afd3ad0",
        "part": "whole"
       },
       "id": "f5b12ffd-65f4-4591-998a-67257c33e590"
      }
     }
    },
    "c564f7ee-3674-40bb-8343-656a3efe66a0": {
     "id": "c564f7ee-3674-40bb-8343-656a3efe66a0",
     "prev": "032cb3cf-62c1-4394-a87f-edca450bc42a",
     "regions": {
      "48ae6b24-0c88-4f6e-b003-7fdc0bf2421c": {
       "attrs": {
        "height": 0.8,
        "width": 0.8,
        "x": 0.1,
        "y": 0.1
       },
       "content": {
        "cell": "08a94fe9-cf29-433c-ad4d-9bde0979bfcf",
        "part": "whole"
       },
       "id": "48ae6b24-0c88-4f6e-b003-7fdc0bf2421c"
      }
     }
    },
    "c8820a4b-9b9a-49dc-82a9-62f605f575d2": {
     "id": "c8820a4b-9b9a-49dc-82a9-62f605f575d2",
     "prev": "45329c6f-6b11-48ec-94cf-3c25ea3d4e2d",
     "regions": {
      "f101e90a-cf9f-4847-bfee-edf513cec6d4": {
       "attrs": {
        "height": 0.8,
        "width": 0.8,
        "x": 0.1,
        "y": 0.1
       },
       "content": {
        "cell": "8b0f107f-8ab6-486d-a876-c939a769641a",
        "part": "whole"
       },
       "id": "f101e90a-cf9f-4847-bfee-edf513cec6d4"
      }
     }
    },
    "ca5fc2af-4fdc-419e-9bf8-dc0afb30c79a": {
     "id": "ca5fc2af-4fdc-419e-9bf8-dc0afb30c79a",
     "prev": "7ba21cec-6c85-487c-9dff-bbffb414caf2",
     "regions": {
      "3d904061-4149-4978-9043-0758b7c740e6": {
       "attrs": {
        "height": 0.8,
        "width": 0.8,
        "x": 0.1,
        "y": 0.1
       },
       "content": {
        "cell": "09a70f03-400f-4dda-84d6-f70d833e65ec",
        "part": "whole"
       },
       "id": "3d904061-4149-4978-9043-0758b7c740e6"
      }
     }
    },
    "cc8a175e-d12e-49ab-9e3e-c71906cc77da": {
     "id": "cc8a175e-d12e-49ab-9e3e-c71906cc77da",
     "prev": "0ae9b4b0-48a8-4a16-aeb7-dcc314a270bd",
     "regions": {
      "4efdfe76-bec0-4512-bd69-2fbc244df71d": {
       "attrs": {
        "height": 0.8,
        "width": 0.8,
        "x": 0.1,
        "y": 0.1
       },
       "content": {
        "cell": "e448eb7c-841b-4686-a6d7-9a31bfef4ceb",
        "part": "whole"
       },
       "id": "4efdfe76-bec0-4512-bd69-2fbc244df71d"
      }
     }
    },
    "cfec271f-aa34-4d2b-bb1a-892e8a465a0f": {
     "id": "cfec271f-aa34-4d2b-bb1a-892e8a465a0f",
     "prev": "2b777448-cbe8-43a4-b4c3-91123340fa55",
     "regions": {
      "bdc3fd6a-3ad0-43a7-8a6e-80d3db541449": {
       "attrs": {
        "height": 0.8,
        "width": 0.8,
        "x": 0.1,
        "y": 0.1
       },
       "content": {
        "cell": "7c0417eb-7bf2-4ffc-b1b1-ebce9924a8b6",
        "part": "whole"
       },
       "id": "bdc3fd6a-3ad0-43a7-8a6e-80d3db541449"
      }
     }
    },
    "d12f8e2f-1e4b-4526-835d-e7d2b023999c": {
     "id": "d12f8e2f-1e4b-4526-835d-e7d2b023999c",
     "prev": "b7ece846-a40c-4902-b154-c7744d241930",
     "regions": {
      "338c252e-9c63-4d42-ad43-59cd90ed1348": {
       "attrs": {
        "height": 0.8,
        "width": 0.8,
        "x": 0.1,
        "y": 0.1
       },
       "content": {
        "cell": "b99ba2cd-5491-442e-ae7f-3bb281c8379b",
        "part": "whole"
       },
       "id": "338c252e-9c63-4d42-ad43-59cd90ed1348"
      }
     }
    },
    "d5317e23-89b6-4a9e-9fd0-66418a3f7f15": {
     "id": "d5317e23-89b6-4a9e-9fd0-66418a3f7f15",
     "prev": "45cb3915-42ef-465f-bed6-f6bd874b73fa",
     "regions": {
      "f8079521-29e9-44e0-ab04-47ad98c449d2": {
       "attrs": {
        "height": 0.8,
        "width": 0.8,
        "x": 0.1,
        "y": 0.1
       },
       "content": {
        "cell": "b628305a-b109-44bb-8b4d-fbe6b30ecf58",
        "part": "whole"
       },
       "id": "f8079521-29e9-44e0-ab04-47ad98c449d2"
      }
     }
    },
    "d61c2fd8-2661-448d-92fb-240a195d06ef": {
     "id": "d61c2fd8-2661-448d-92fb-240a195d06ef",
     "prev": "cc8a175e-d12e-49ab-9e3e-c71906cc77da",
     "regions": {
      "c256d980-25ef-43be-a2de-5efa608abb5e": {
       "attrs": {
        "height": 0.8,
        "width": 0.8,
        "x": 0.1,
        "y": 0.1
       },
       "content": {
        "cell": "523db7d1-2038-4ed8-a6cd-8f91f0992e97",
        "part": "whole"
       },
       "id": "c256d980-25ef-43be-a2de-5efa608abb5e"
      }
     }
    },
    "dbf21464-381b-4d12-a352-9f7058f69da6": {
     "id": "dbf21464-381b-4d12-a352-9f7058f69da6",
     "prev": "f5e7b1ee-3530-4fad-a09b-2e270b553e55",
     "regions": {
      "8f3270c3-527e-4585-8c17-7ef901d05d6f": {
       "attrs": {
        "height": 0.8,
        "width": 0.8,
        "x": 0.1,
        "y": 0.1
       },
       "content": {
        "cell": "3011de0a-00f9-44c3-a35f-89f7dad70d2c",
        "part": "whole"
       },
       "id": "8f3270c3-527e-4585-8c17-7ef901d05d6f"
      }
     }
    },
    "df7f2d31-a150-4466-8273-09fcd3c90139": {
     "id": "df7f2d31-a150-4466-8273-09fcd3c90139",
     "prev": "d61c2fd8-2661-448d-92fb-240a195d06ef",
     "regions": {
      "6c93e198-2672-4afc-ba81-d4bea90654e8": {
       "attrs": {
        "height": 0.8,
        "width": 0.8,
        "x": 0.1,
        "y": 0.1
       },
       "content": {
        "cell": "5809843d-654c-4c85-8ff9-4d6764d6de8e",
        "part": "whole"
       },
       "id": "6c93e198-2672-4afc-ba81-d4bea90654e8"
      }
     }
    },
    "e43f69be-4f29-4697-acc4-6318c9d1dc6f": {
     "id": "e43f69be-4f29-4697-acc4-6318c9d1dc6f",
     "prev": "bc418e23-bfab-4b7c-9f52-861f73e7dbd1",
     "regions": {
      "b6ef3f3c-abdf-4992-944f-99cfdfa36104": {
       "attrs": {
        "height": 0.8,
        "width": 0.8,
        "x": 0.1,
        "y": 0.1
       },
       "content": {
        "cell": "5e60fcc4-1b1e-4a90-a78c-39959ab838a3",
        "part": "whole"
       },
       "id": "b6ef3f3c-abdf-4992-944f-99cfdfa36104"
      }
     }
    },
    "e7b1b340-2cbb-4e7e-9877-0238c3a189ea": {
     "id": "e7b1b340-2cbb-4e7e-9877-0238c3a189ea",
     "prev": "8b46f0df-ba26-42e7-889c-d2b6b5ebbe10",
     "regions": {
      "81bb08a4-dab4-4975-ab0f-b33661bae4ae": {
       "attrs": {
        "height": 0.8,
        "width": 0.8,
        "x": 0.1,
        "y": 0.1
       },
       "content": {
        "cell": "83c899f5-0dc4-4a6c-849b-336dfa58acc0",
        "part": "whole"
       },
       "id": "81bb08a4-dab4-4975-ab0f-b33661bae4ae"
      }
     }
    },
    "f17c63a0-b801-4585-ae5c-6a23f329eb5c": {
     "id": "f17c63a0-b801-4585-ae5c-6a23f329eb5c",
     "prev": "9dd5ee3f-ad1c-4ee0-82ec-26cb4ef7de77",
     "regions": {
      "b65bbc26-224a-4d33-aca3-3362a5a5cbb9": {
       "attrs": {
        "height": 0.8,
        "width": 0.8,
        "x": 0.1,
        "y": 0.1
       },
       "content": {
        "cell": "0d4f6581-7fe4-49c1-9c38-8139b49bf018",
        "part": "whole"
       },
       "id": "b65bbc26-224a-4d33-aca3-3362a5a5cbb9"
      }
     }
    },
    "f5e7b1ee-3530-4fad-a09b-2e270b553e55": {
     "id": "f5e7b1ee-3530-4fad-a09b-2e270b553e55",
     "prev": "928140ae-945b-405a-8e14-5ca09c600057",
     "regions": {
      "f5c2cbda-56f8-43fd-8301-bebb974cc326": {
       "attrs": {
        "height": 0.8,
        "width": 0.8,
        "x": 0.1,
        "y": 0.1
       },
       "content": {
        "cell": "493b3c1e-1cd8-4a29-9b1a-c4f788bfc73c",
        "part": "whole"
       },
       "id": "f5c2cbda-56f8-43fd-8301-bebb974cc326"
      }
     }
    },
    "f635d696-0ce9-4efc-a61b-e765d78e0f83": {
     "id": "f635d696-0ce9-4efc-a61b-e765d78e0f83",
     "prev": "be787ead-c847-42db-88b7-fa32a1b096c2",
     "regions": {
      "0e1f024a-736f-4ab4-8e6a-73ff528f019a": {
       "attrs": {
        "height": 0.8,
        "width": 0.8,
        "x": 0.1,
        "y": 0.1
       },
       "content": {
        "cell": "b6979990-0c74-448d-9e1c-9ffdcf960e1d",
        "part": "whole"
       },
       "id": "0e1f024a-736f-4ab4-8e6a-73ff528f019a"
      }
     }
    },
    "fab4f6d0-5194-4032-809f-b8cf2e6f4065": {
     "id": "fab4f6d0-5194-4032-809f-b8cf2e6f4065",
     "prev": "b9e82e86-d6f6-4dbb-9fc2-8edf7a98e49b",
     "regions": {
      "380cc68d-e343-43d2-bcde-a86be31c054c": {
       "attrs": {
        "height": 0.8,
        "width": 0.8,
        "x": 0.1,
        "y": 0.1
       },
       "content": {
        "cell": "e5341679-cabf-473a-b572-952c4f52c16d",
        "part": "whole"
       },
       "id": "380cc68d-e343-43d2-bcde-a86be31c054c"
      }
     }
    },
    "fb642f64-1040-44ff-b659-726492bb5860": {
     "id": "fb642f64-1040-44ff-b659-726492bb5860",
     "prev": "64650454-ed4e-44cf-adab-3a3fafd862e7",
     "regions": {
      "514f5f2f-3581-454e-936d-5374935bffc9": {
       "attrs": {
        "height": 0.8,
        "width": 0.8,
        "x": 0.1,
        "y": 0.1
       },
       "content": {
        "cell": "016e1bce-6f8a-4880-b310-ac4f1c6c4f3b",
        "part": "whole"
       },
       "id": "514f5f2f-3581-454e-936d-5374935bffc9"
      }
     }
    },
    "fc6518d6-bef0-4f2e-9387-14c83f79cca4": {
     "id": "fc6518d6-bef0-4f2e-9387-14c83f79cca4",
     "prev": "cfec271f-aa34-4d2b-bb1a-892e8a465a0f",
     "regions": {
      "1881b5e8-5531-4adc-bddf-6cf7bfab3807": {
       "attrs": {
        "height": 0.8,
        "width": 0.8,
        "x": 0.1,
        "y": 0.1
       },
       "content": {
        "cell": "1c6a27f7-fd7e-4533-a59a-e2b614b6cf83",
        "part": "whole"
       },
       "id": "1881b5e8-5531-4adc-bddf-6cf7bfab3807"
      }
     }
    },
    "fe594a1f-e9a4-433d-ba29-7252d2dcd32d": {
     "id": "fe594a1f-e9a4-433d-ba29-7252d2dcd32d",
     "prev": "b674fca0-9e18-412d-b601-6241502ab463",
     "regions": {
      "19a33f3c-e33c-46ef-9f42-811ab3eccabe": {
       "attrs": {
        "height": 0.8,
        "width": 0.8,
        "x": 0.1,
        "y": 0.1
       },
       "content": {
        "cell": "c9bcae2e-e1ff-46aa-9002-69989ba1f09a",
        "part": "whole"
       },
       "id": "19a33f3c-e33c-46ef-9f42-811ab3eccabe"
      }
     }
    }
   },
   "themes": {}
  }
 },
 "nbformat": 4,
 "nbformat_minor": 2
}
