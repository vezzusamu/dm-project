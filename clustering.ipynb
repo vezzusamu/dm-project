{
 "cells": [
  {
   "cell_type": "markdown",
   "metadata": {},
   "source": [
    "Import the libraries necessary to analize data"
   ]
  },
  {
   "cell_type": "code",
   "execution_count": 3,
   "metadata": {},
   "outputs": [],
   "source": [
    "%matplotlib inline\n",
    "import math\n",
    "import numpy as np\n",
    "import pandas as pd\n",
    "import scipy.stats as stats\n",
    "import matplotlib.pyplot as plt\n",
    "import datetime\n",
    "import random\n",
    "import seaborn as sns\n",
    "import plotly.express as px\n",
    "\n",
    "from collections import defaultdict\n",
    "from scipy.stats import pearsonr"
   ]
  },
  {
   "cell_type": "code",
   "execution_count": 4,
   "metadata": {},
   "outputs": [],
   "source": [
    "from sklearn.preprocessing import StandardScaler, MinMaxScaler\n",
    "from sklearn.cluster import KMeans\n",
    "from sklearn.metrics import silhouette_score"
   ]
  },
  {
   "cell_type": "code",
   "execution_count": 5,
   "metadata": {},
   "outputs": [
    {
     "name": "stdout",
     "output_type": "stream",
     "text": [
      "<class 'pandas.core.frame.DataFrame'>\n",
      "RangeIndex: 197925 entries, 0 to 197924\n",
      "Data columns (total 34 columns):\n",
      " #   Column                          Non-Null Count   Dtype         \n",
      "---  ------                          --------------   -----         \n",
      " 0   date                            197925 non-null  datetime64[ns]\n",
      " 1   state                           197925 non-null  object        \n",
      " 2   city_or_county                  197925 non-null  object        \n",
      " 3   latitude                        197925 non-null  float64       \n",
      " 4   longitude                       197925 non-null  float64       \n",
      " 5   congressional_district          197925 non-null  int64         \n",
      " 6   participant_age1                135327 non-null  float64       \n",
      " 7   participant_age_group1          160339 non-null  object        \n",
      " 8   participant_gender1             165727 non-null  object        \n",
      " 9   min_age_participants            135331 non-null  float64       \n",
      " 10  avg_age_participants            135327 non-null  float64       \n",
      " 11  max_age_participants            135328 non-null  float64       \n",
      " 12  n_participants_child            160343 non-null  float64       \n",
      " 13  n_participants_teen             160342 non-null  float64       \n",
      " 14  n_participants_adult            160344 non-null  float64       \n",
      " 15  n_males                         165727 non-null  float64       \n",
      " 16  n_females                       165727 non-null  float64       \n",
      " 17  n_killed                        197925 non-null  int64         \n",
      " 18  n_injured                       197925 non-null  int64         \n",
      " 19  n_arrested                      173539 non-null  float64       \n",
      " 20  n_unharmed                      173539 non-null  float64       \n",
      " 21  n_participants                  197925 non-null  int64         \n",
      " 22  incident_characteristics1       197652 non-null  object        \n",
      " 23  incident_characteristics2       118436 non-null  object        \n",
      " 24  povertyPercentage               197925 non-null  float64       \n",
      " 25  party                           197925 non-null  object        \n",
      " 26  candidatevotes                  197925 non-null  int64         \n",
      " 27  totalvotes                      197925 non-null  int64         \n",
      " 28  substitute_values               165727 non-null  float64       \n",
      " 29  males_percentage                164988 non-null  float64       \n",
      " 30  killed_percentage               197598 non-null  float64       \n",
      " 31  injured_percentage              197775 non-null  float64       \n",
      " 32  killed_percentage_per_incident  176042 non-null  float64       \n",
      " 33  unharmed_percentage             173539 non-null  float64       \n",
      "dtypes: datetime64[ns](1), float64(20), int64(6), object(7)\n",
      "memory usage: 51.3+ MB\n"
     ]
    }
   ],
   "source": [
    "df = pd.read_csv('df_after_dp.csv', parse_dates=['date'])\n",
    "df.info()"
   ]
  },
  {
   "cell_type": "markdown",
   "metadata": {},
   "source": [
    "Since we use distance metric working on numerical features we remove the categorical data. "
   ]
  },
  {
   "cell_type": "code",
   "execution_count": 6,
   "metadata": {},
   "outputs": [
    {
     "data": {
      "text/plain": [
       "['date',\n",
       " 'state',\n",
       " 'city_or_county',\n",
       " 'participant_age_group1',\n",
       " 'participant_gender1',\n",
       " 'incident_characteristics1',\n",
       " 'incident_characteristics2',\n",
       " 'party']"
      ]
     },
     "execution_count": 6,
     "metadata": {},
     "output_type": "execute_result"
    }
   ],
   "source": [
    "column_to_drop = ['date']\n",
    "for col in df.columns:\n",
    "    if df[col].dtype == 'object':\n",
    "       column_to_drop.append(col)\n",
    "column_to_drop"
   ]
  },
  {
   "cell_type": "code",
   "execution_count": 7,
   "metadata": {},
   "outputs": [],
   "source": [
    "df['year'] = df['date'].dt.year\n",
    "df['month'] = df['date'].dt.month\n",
    "df['day'] = df['date'].dt.day"
   ]
  },
  {
   "cell_type": "code",
   "execution_count": 8,
   "metadata": {},
   "outputs": [
    {
     "data": {
      "text/html": [
       "<div>\n",
       "<style scoped>\n",
       "    .dataframe tbody tr th:only-of-type {\n",
       "        vertical-align: middle;\n",
       "    }\n",
       "\n",
       "    .dataframe tbody tr th {\n",
       "        vertical-align: top;\n",
       "    }\n",
       "\n",
       "    .dataframe thead th {\n",
       "        text-align: right;\n",
       "    }\n",
       "</style>\n",
       "<table border=\"1\" class=\"dataframe\">\n",
       "  <thead>\n",
       "    <tr style=\"text-align: right;\">\n",
       "      <th></th>\n",
       "      <th>latitude</th>\n",
       "      <th>longitude</th>\n",
       "      <th>congressional_district</th>\n",
       "      <th>participant_age1</th>\n",
       "      <th>min_age_participants</th>\n",
       "      <th>avg_age_participants</th>\n",
       "      <th>max_age_participants</th>\n",
       "      <th>n_participants_child</th>\n",
       "      <th>n_participants_teen</th>\n",
       "      <th>n_participants_adult</th>\n",
       "      <th>...</th>\n",
       "      <th>totalvotes</th>\n",
       "      <th>substitute_values</th>\n",
       "      <th>males_percentage</th>\n",
       "      <th>killed_percentage</th>\n",
       "      <th>injured_percentage</th>\n",
       "      <th>killed_percentage_per_incident</th>\n",
       "      <th>unharmed_percentage</th>\n",
       "      <th>year</th>\n",
       "      <th>month</th>\n",
       "      <th>day</th>\n",
       "    </tr>\n",
       "  </thead>\n",
       "  <tbody>\n",
       "    <tr>\n",
       "      <th>0</th>\n",
       "      <td>39.119550</td>\n",
       "      <td>-76.708250</td>\n",
       "      <td>4</td>\n",
       "      <td>17.0</td>\n",
       "      <td>17.0</td>\n",
       "      <td>17.0</td>\n",
       "      <td>17.0</td>\n",
       "      <td>0.0</td>\n",
       "      <td>1.0</td>\n",
       "      <td>0.0</td>\n",
       "      <td>...</td>\n",
       "      <td>320650</td>\n",
       "      <td>1.0</td>\n",
       "      <td>1.000000</td>\n",
       "      <td>0.0</td>\n",
       "      <td>0.034483</td>\n",
       "      <td>0.0</td>\n",
       "      <td>0.00000</td>\n",
       "      <td>2017</td>\n",
       "      <td>2</td>\n",
       "      <td>4</td>\n",
       "    </tr>\n",
       "    <tr>\n",
       "      <th>1</th>\n",
       "      <td>39.122636</td>\n",
       "      <td>-76.709382</td>\n",
       "      <td>3</td>\n",
       "      <td>25.0</td>\n",
       "      <td>25.0</td>\n",
       "      <td>25.0</td>\n",
       "      <td>25.0</td>\n",
       "      <td>0.0</td>\n",
       "      <td>0.0</td>\n",
       "      <td>1.0</td>\n",
       "      <td>...</td>\n",
       "      <td>339675</td>\n",
       "      <td>1.0</td>\n",
       "      <td>0.066667</td>\n",
       "      <td>0.0</td>\n",
       "      <td>0.000000</td>\n",
       "      <td>0.0</td>\n",
       "      <td>0.00000</td>\n",
       "      <td>2016</td>\n",
       "      <td>1</td>\n",
       "      <td>14</td>\n",
       "    </tr>\n",
       "    <tr>\n",
       "      <th>2</th>\n",
       "      <td>36.145695</td>\n",
       "      <td>-95.934236</td>\n",
       "      <td>1</td>\n",
       "      <td>28.0</td>\n",
       "      <td>28.0</td>\n",
       "      <td>28.0</td>\n",
       "      <td>28.0</td>\n",
       "      <td>0.0</td>\n",
       "      <td>0.0</td>\n",
       "      <td>2.0</td>\n",
       "      <td>...</td>\n",
       "      <td>1</td>\n",
       "      <td>2.0</td>\n",
       "      <td>0.002506</td>\n",
       "      <td>0.0</td>\n",
       "      <td>0.000000</td>\n",
       "      <td>0.0</td>\n",
       "      <td>0.00000</td>\n",
       "      <td>2017</td>\n",
       "      <td>12</td>\n",
       "      <td>22</td>\n",
       "    </tr>\n",
       "    <tr>\n",
       "      <th>3</th>\n",
       "      <td>39.119550</td>\n",
       "      <td>-76.708250</td>\n",
       "      <td>3</td>\n",
       "      <td>35.0</td>\n",
       "      <td>35.0</td>\n",
       "      <td>35.0</td>\n",
       "      <td>35.0</td>\n",
       "      <td>0.0</td>\n",
       "      <td>0.0</td>\n",
       "      <td>1.0</td>\n",
       "      <td>...</td>\n",
       "      <td>215946</td>\n",
       "      <td>1.0</td>\n",
       "      <td>1.000000</td>\n",
       "      <td>0.0</td>\n",
       "      <td>0.000000</td>\n",
       "      <td>0.0</td>\n",
       "      <td>0.00000</td>\n",
       "      <td>2015</td>\n",
       "      <td>3</td>\n",
       "      <td>3</td>\n",
       "    </tr>\n",
       "    <tr>\n",
       "      <th>4</th>\n",
       "      <td>38.970380</td>\n",
       "      <td>-76.502863</td>\n",
       "      <td>4</td>\n",
       "      <td>50.0</td>\n",
       "      <td>50.0</td>\n",
       "      <td>50.0</td>\n",
       "      <td>50.0</td>\n",
       "      <td>0.0</td>\n",
       "      <td>0.0</td>\n",
       "      <td>1.0</td>\n",
       "      <td>...</td>\n",
       "      <td>191837</td>\n",
       "      <td>1.0</td>\n",
       "      <td>0.021277</td>\n",
       "      <td>0.0</td>\n",
       "      <td>0.000000</td>\n",
       "      <td>0.0</td>\n",
       "      <td>0.00000</td>\n",
       "      <td>2015</td>\n",
       "      <td>10</td>\n",
       "      <td>11</td>\n",
       "    </tr>\n",
       "    <tr>\n",
       "      <th>...</th>\n",
       "      <td>...</td>\n",
       "      <td>...</td>\n",
       "      <td>...</td>\n",
       "      <td>...</td>\n",
       "      <td>...</td>\n",
       "      <td>...</td>\n",
       "      <td>...</td>\n",
       "      <td>...</td>\n",
       "      <td>...</td>\n",
       "      <td>...</td>\n",
       "      <td>...</td>\n",
       "      <td>...</td>\n",
       "      <td>...</td>\n",
       "      <td>...</td>\n",
       "      <td>...</td>\n",
       "      <td>...</td>\n",
       "      <td>...</td>\n",
       "      <td>...</td>\n",
       "      <td>...</td>\n",
       "      <td>...</td>\n",
       "      <td>...</td>\n",
       "    </tr>\n",
       "    <tr>\n",
       "      <th>197920</th>\n",
       "      <td>20.238300</td>\n",
       "      <td>-155.837000</td>\n",
       "      <td>2</td>\n",
       "      <td>28.0</td>\n",
       "      <td>27.0</td>\n",
       "      <td>28.0</td>\n",
       "      <td>28.0</td>\n",
       "      <td>0.0</td>\n",
       "      <td>0.0</td>\n",
       "      <td>2.0</td>\n",
       "      <td>...</td>\n",
       "      <td>198121</td>\n",
       "      <td>2.0</td>\n",
       "      <td>1.000000</td>\n",
       "      <td>NaN</td>\n",
       "      <td>0.000000</td>\n",
       "      <td>0.0</td>\n",
       "      <td>0.00000</td>\n",
       "      <td>2018</td>\n",
       "      <td>1</td>\n",
       "      <td>22</td>\n",
       "    </tr>\n",
       "    <tr>\n",
       "      <th>197921</th>\n",
       "      <td>19.512500</td>\n",
       "      <td>-154.922000</td>\n",
       "      <td>2</td>\n",
       "      <td>NaN</td>\n",
       "      <td>NaN</td>\n",
       "      <td>NaN</td>\n",
       "      <td>NaN</td>\n",
       "      <td>NaN</td>\n",
       "      <td>NaN</td>\n",
       "      <td>NaN</td>\n",
       "      <td>...</td>\n",
       "      <td>198121</td>\n",
       "      <td>1.0</td>\n",
       "      <td>1.000000</td>\n",
       "      <td>NaN</td>\n",
       "      <td>0.000000</td>\n",
       "      <td>0.0</td>\n",
       "      <td>3.49192</td>\n",
       "      <td>2018</td>\n",
       "      <td>2</td>\n",
       "      <td>9</td>\n",
       "    </tr>\n",
       "    <tr>\n",
       "      <th>197922</th>\n",
       "      <td>19.200000</td>\n",
       "      <td>-155.480000</td>\n",
       "      <td>2</td>\n",
       "      <td>33.0</td>\n",
       "      <td>33.0</td>\n",
       "      <td>33.0</td>\n",
       "      <td>33.0</td>\n",
       "      <td>0.0</td>\n",
       "      <td>0.0</td>\n",
       "      <td>1.0</td>\n",
       "      <td>...</td>\n",
       "      <td>198121</td>\n",
       "      <td>1.0</td>\n",
       "      <td>NaN</td>\n",
       "      <td>NaN</td>\n",
       "      <td>0.000000</td>\n",
       "      <td>0.0</td>\n",
       "      <td>0.00000</td>\n",
       "      <td>2018</td>\n",
       "      <td>1</td>\n",
       "      <td>7</td>\n",
       "    </tr>\n",
       "    <tr>\n",
       "      <th>197923</th>\n",
       "      <td>19.112700</td>\n",
       "      <td>-155.757000</td>\n",
       "      <td>2</td>\n",
       "      <td>32.0</td>\n",
       "      <td>31.0</td>\n",
       "      <td>42.0</td>\n",
       "      <td>64.0</td>\n",
       "      <td>0.0</td>\n",
       "      <td>0.0</td>\n",
       "      <td>3.0</td>\n",
       "      <td>...</td>\n",
       "      <td>198121</td>\n",
       "      <td>3.0</td>\n",
       "      <td>1.000000</td>\n",
       "      <td>NaN</td>\n",
       "      <td>1.000000</td>\n",
       "      <td>0.0</td>\n",
       "      <td>0.00000</td>\n",
       "      <td>2018</td>\n",
       "      <td>3</td>\n",
       "      <td>5</td>\n",
       "    </tr>\n",
       "    <tr>\n",
       "      <th>197924</th>\n",
       "      <td>21.444400</td>\n",
       "      <td>-158.186000</td>\n",
       "      <td>2</td>\n",
       "      <td>34.0</td>\n",
       "      <td>34.0</td>\n",
       "      <td>34.0</td>\n",
       "      <td>34.0</td>\n",
       "      <td>0.0</td>\n",
       "      <td>0.0</td>\n",
       "      <td>1.0</td>\n",
       "      <td>...</td>\n",
       "      <td>198121</td>\n",
       "      <td>1.0</td>\n",
       "      <td>1.000000</td>\n",
       "      <td>NaN</td>\n",
       "      <td>0.000000</td>\n",
       "      <td>0.0</td>\n",
       "      <td>0.00000</td>\n",
       "      <td>2018</td>\n",
       "      <td>1</td>\n",
       "      <td>28</td>\n",
       "    </tr>\n",
       "  </tbody>\n",
       "</table>\n",
       "<p>197925 rows × 29 columns</p>\n",
       "</div>"
      ],
      "text/plain": [
       "         latitude   longitude  congressional_district  participant_age1   \n",
       "0       39.119550  -76.708250                       4              17.0  \\\n",
       "1       39.122636  -76.709382                       3              25.0   \n",
       "2       36.145695  -95.934236                       1              28.0   \n",
       "3       39.119550  -76.708250                       3              35.0   \n",
       "4       38.970380  -76.502863                       4              50.0   \n",
       "...           ...         ...                     ...               ...   \n",
       "197920  20.238300 -155.837000                       2              28.0   \n",
       "197921  19.512500 -154.922000                       2               NaN   \n",
       "197922  19.200000 -155.480000                       2              33.0   \n",
       "197923  19.112700 -155.757000                       2              32.0   \n",
       "197924  21.444400 -158.186000                       2              34.0   \n",
       "\n",
       "        min_age_participants  avg_age_participants  max_age_participants   \n",
       "0                       17.0                  17.0                  17.0  \\\n",
       "1                       25.0                  25.0                  25.0   \n",
       "2                       28.0                  28.0                  28.0   \n",
       "3                       35.0                  35.0                  35.0   \n",
       "4                       50.0                  50.0                  50.0   \n",
       "...                      ...                   ...                   ...   \n",
       "197920                  27.0                  28.0                  28.0   \n",
       "197921                   NaN                   NaN                   NaN   \n",
       "197922                  33.0                  33.0                  33.0   \n",
       "197923                  31.0                  42.0                  64.0   \n",
       "197924                  34.0                  34.0                  34.0   \n",
       "\n",
       "        n_participants_child  n_participants_teen  n_participants_adult  ...   \n",
       "0                        0.0                  1.0                   0.0  ...  \\\n",
       "1                        0.0                  0.0                   1.0  ...   \n",
       "2                        0.0                  0.0                   2.0  ...   \n",
       "3                        0.0                  0.0                   1.0  ...   \n",
       "4                        0.0                  0.0                   1.0  ...   \n",
       "...                      ...                  ...                   ...  ...   \n",
       "197920                   0.0                  0.0                   2.0  ...   \n",
       "197921                   NaN                  NaN                   NaN  ...   \n",
       "197922                   0.0                  0.0                   1.0  ...   \n",
       "197923                   0.0                  0.0                   3.0  ...   \n",
       "197924                   0.0                  0.0                   1.0  ...   \n",
       "\n",
       "        totalvotes  substitute_values  males_percentage  killed_percentage   \n",
       "0           320650                1.0          1.000000                0.0  \\\n",
       "1           339675                1.0          0.066667                0.0   \n",
       "2                1                2.0          0.002506                0.0   \n",
       "3           215946                1.0          1.000000                0.0   \n",
       "4           191837                1.0          0.021277                0.0   \n",
       "...            ...                ...               ...                ...   \n",
       "197920      198121                2.0          1.000000                NaN   \n",
       "197921      198121                1.0          1.000000                NaN   \n",
       "197922      198121                1.0               NaN                NaN   \n",
       "197923      198121                3.0          1.000000                NaN   \n",
       "197924      198121                1.0          1.000000                NaN   \n",
       "\n",
       "        injured_percentage  killed_percentage_per_incident   \n",
       "0                 0.034483                             0.0  \\\n",
       "1                 0.000000                             0.0   \n",
       "2                 0.000000                             0.0   \n",
       "3                 0.000000                             0.0   \n",
       "4                 0.000000                             0.0   \n",
       "...                    ...                             ...   \n",
       "197920            0.000000                             0.0   \n",
       "197921            0.000000                             0.0   \n",
       "197922            0.000000                             0.0   \n",
       "197923            1.000000                             0.0   \n",
       "197924            0.000000                             0.0   \n",
       "\n",
       "        unharmed_percentage  year  month  day  \n",
       "0                   0.00000  2017      2    4  \n",
       "1                   0.00000  2016      1   14  \n",
       "2                   0.00000  2017     12   22  \n",
       "3                   0.00000  2015      3    3  \n",
       "4                   0.00000  2015     10   11  \n",
       "...                     ...   ...    ...  ...  \n",
       "197920              0.00000  2018      1   22  \n",
       "197921              3.49192  2018      2    9  \n",
       "197922              0.00000  2018      1    7  \n",
       "197923              0.00000  2018      3    5  \n",
       "197924              0.00000  2018      1   28  \n",
       "\n",
       "[197925 rows x 29 columns]"
      ]
     },
     "execution_count": 8,
     "metadata": {},
     "output_type": "execute_result"
    }
   ],
   "source": [
    "df_numeric = df.drop(columns=column_to_drop)\n",
    "df_numeric"
   ]
  },
  {
   "cell_type": "code",
   "execution_count": 9,
   "metadata": {},
   "outputs": [],
   "source": [
    "scaler = StandardScaler()\n",
    "X = scaler.fit_transform(df_numeric.values)"
   ]
  },
  {
   "cell_type": "markdown",
   "metadata": {},
   "source": [
    "# K-means"
   ]
  },
  {
   "cell_type": "code",
   "execution_count": 10,
   "metadata": {},
   "outputs": [],
   "source": [
    "from sklearn.cluster import KMeans\n",
    "from sklearn import metrics\n",
    "from sklearn.metrics import silhouette_score"
   ]
  },
  {
   "cell_type": "markdown",
   "metadata": {},
   "source": [
    "Knee Method to estimate the best K"
   ]
  },
  {
   "cell_type": "code",
   "execution_count": 31,
   "metadata": {},
   "outputs": [],
   "source": [
    "null_cols = []\n",
    "for i in df_numeric.columns:\n",
    "    if df_numeric[i].isna().any():\n",
    "        null_cols.append(i)\n",
    "\n",
    "df_numeric = df_numeric.drop(columns=null_cols)\n",
    "df_numeric = df_numeric.drop(columns=['year', 'day', 'month'])"
   ]
  },
  {
   "cell_type": "code",
   "execution_count": 34,
   "metadata": {},
   "outputs": [],
   "source": [
    "X = scaler.fit_transform(df_numeric.values)"
   ]
  },
  {
   "cell_type": "code",
   "execution_count": 45,
   "metadata": {},
   "outputs": [],
   "source": [
    "sse_list = list()\n",
    "label_list = []\n",
    "min_k = 30\n",
    "max_k = 100\n",
    "for k in range(min_k, max_k + 1, 10):\n",
    "    kmeans = KMeans(n_clusters=k, n_init=10, max_iter=100)\n",
    "    kmeans.fit(X)\n",
    "    \n",
    "    sse = kmeans.inertia_\n",
    "    labels = kmeans.labels_\n",
    "    sse_list.append(sse)\n",
    "    label_list.append(labels)"
   ]
  },
  {
   "cell_type": "code",
   "execution_count": 39,
   "metadata": {},
   "outputs": [
    {
     "name": "stdout",
     "output_type": "stream",
     "text": [
      "SSE 546922.1853693364\n",
      "SSE 487692.6103292091\n",
      "SSE 443121.01278193126\n"
     ]
    }
   ],
   "source": [
    "for sse in sse_list:\n",
    "    print('SSE %s' % sse) # cohesion, lower value better clustering (error minimization)\n",
    "    #for labels in label_list:\n",
    "        #print('Separation %s' % metrics.davies_bouldin_score(X, labels)) # lower value, better clustering (minimum zero)\n",
    "    #    print('Silhouette %s' % silhouette_score(X, labels))"
   ]
  },
  {
   "cell_type": "code",
   "execution_count": 44,
   "metadata": {},
   "outputs": [
    {
     "data": {
      "image/png": "[encoded data removed]",
      "text/plain": [
       "<Figure size 640x480 with 1 Axes>"
      ]
     },
     "metadata": {},
     "output_type": "display_data"
    }
   ],
   "source": [
    "plt.plot(range(2, len(sse_list) + 2), sse_list)\n",
    "plt.ylabel('SSE', fontsize=22)\n",
    "plt.xlabel('K', fontsize=22)\n",
    "plt.tick_params(axis='both', which='major', labelsize=22)\n",
    "plt.show()"
   ]
  },
  {
   "cell_type": "markdown",
   "metadata": {},
   "source": [
    "# DBSCAN"
   ]
  },
  {
   "cell_type": "code",
   "execution_count": 46,
   "metadata": {},
   "outputs": [],
   "source": [
    "from sklearn.cluster import DBSCAN\n",
    "from scipy.spatial.distance import pdist, squareform"
   ]
  },
  {
   "cell_type": "markdown",
   "metadata": {},
   "source": [
    "Selecting one state as stated in subtask of clustering task."
   ]
  },
  {
   "cell_type": "code",
   "execution_count": 51,
   "metadata": {},
   "outputs": [
    {
     "data": {
      "text/plain": [
       "state\n",
       "illinois          15935\n",
       "california        13843\n",
       "florida           12665\n",
       "texas             11024\n",
       "new york           8708\n",
       "ohio               8602\n",
       "georgia            7634\n",
       "pennsylvania       7529\n",
       "north carolina     7254\n",
       "louisiana          6670\n",
       "tennessee          6282\n",
       "missouri           6054\n",
       "south carolina     5886\n",
       "massachusetts      5274\n",
       "michigan           5004\n",
       "virginia           4845\n",
       "indiana            4828\n",
       "new jersey         4693\n",
       "maryland           4477\n",
       "alabama            4388\n",
       "wisconsin          4266\n",
       "kentucky           3456\n",
       "oklahoma           3069\n",
       "mississippi        2990\n",
       "washington         2901\n",
       "colorado           2832\n",
       "connecticut        2731\n",
       "arkansas           2500\n",
       "iowa               2333\n",
       "oregon             2001\n",
       "arizona            1984\n",
       "kansas             1949\n",
       "minnesota          1715\n",
       "nevada             1589\n",
       "new mexico         1479\n",
       "nebraska           1318\n",
       "west virginia      1285\n",
       "alaska             1276\n",
       "utah                916\n",
       "new hampshire       858\n",
       "maine               844\n",
       "rhode island        782\n",
       "idaho               585\n",
       "hawaii              250\n",
       "delaware            195\n",
       "montana              88\n",
       "south dakota         61\n",
       "north dakota         52\n",
       "wyoming              25\n",
       "Name: count, dtype: int64"
      ]
     },
     "execution_count": 51,
     "metadata": {},
     "output_type": "execute_result"
    }
   ],
   "source": [
    "df['state'].value_counts() #to find state with most crimes"
   ]
  },
  {
   "cell_type": "code",
   "execution_count": 58,
   "metadata": {},
   "outputs": [],
   "source": [
    "#df_numeric['state'] = df['state']\n",
    "df_numeric_illinois = df_numeric[df_numeric['state'] == 'illinois']\n",
    "df_numeric_illinois = df_numeric_illinois.drop(columns='state')\n",
    "X_illinois = scaler.fit_transform(df_numeric_illinois.values)"
   ]
  },
  {
   "cell_type": "markdown",
   "metadata": {},
   "source": [
    "#TODO: model selection"
   ]
  },
  {
   "cell_type": "code",
   "execution_count": 70,
   "metadata": {},
   "outputs": [
    {
     "data": {
      "text/html": [
       "<style>#sk-container-id-7 {color: black;background-color: white;}#sk-container-id-7 pre{padding: 0;}#sk-container-id-7 div.sk-toggleable {background-color: white;}#sk-container-id-7 label.sk-toggleable__label {cursor: pointer;display: block;width: 100%;margin-bottom: 0;padding: 0.3em;box-sizing: border-box;text-align: center;}#sk-container-id-7 label.sk-toggleable__label-arrow:before {content: \"▸\";float: left;margin-right: 0.25em;color: #696969;}#sk-container-id-7 label.sk-toggleable__label-arrow:hover:before {color: black;}#sk-container-id-7 div.sk-estimator:hover label.sk-toggleable__label-arrow:before {color: black;}#sk-container-id-7 div.sk-toggleable__content {max-height: 0;max-width: 0;overflow: hidden;text-align: left;background-color: #f0f8ff;}#sk-container-id-7 div.sk-toggleable__content pre {margin: 0.2em;color: black;border-radius: 0.25em;background-color: #f0f8ff;}#sk-container-id-7 input.sk-toggleable__control:checked~div.sk-toggleable__content {max-height: 200px;max-width: 100%;overflow: auto;}#sk-container-id-7 input.sk-toggleable__control:checked~label.sk-toggleable__label-arrow:before {content: \"▾\";}#sk-container-id-7 div.sk-estimator input.sk-toggleable__control:checked~label.sk-toggleable__label {background-color: #d4ebff;}#sk-container-id-7 div.sk-label input.sk-toggleable__control:checked~label.sk-toggleable__label {background-color: #d4ebff;}#sk-container-id-7 input.sk-hidden--visually {border: 0;clip: rect(1px 1px 1px 1px);clip: rect(1px, 1px, 1px, 1px);height: 1px;margin: -1px;overflow: hidden;padding: 0;position: absolute;width: 1px;}#sk-container-id-7 div.sk-estimator {font-family: monospace;background-color: #f0f8ff;border: 1px dotted black;border-radius: 0.25em;box-sizing: border-box;margin-bottom: 0.5em;}#sk-container-id-7 div.sk-estimator:hover {background-color: #d4ebff;}#sk-container-id-7 div.sk-parallel-item::after {content: \"\";width: 100%;border-bottom: 1px solid gray;flex-grow: 1;}#sk-container-id-7 div.sk-label:hover label.sk-toggleable__label {background-color: #d4ebff;}#sk-container-id-7 div.sk-serial::before {content: \"\";position: absolute;border-left: 1px solid gray;box-sizing: border-box;top: 0;bottom: 0;left: 50%;z-index: 0;}#sk-container-id-7 div.sk-serial {display: flex;flex-direction: column;align-items: center;background-color: white;padding-right: 0.2em;padding-left: 0.2em;position: relative;}#sk-container-id-7 div.sk-item {position: relative;z-index: 1;}#sk-container-id-7 div.sk-parallel {display: flex;align-items: stretch;justify-content: center;background-color: white;position: relative;}#sk-container-id-7 div.sk-item::before, #sk-container-id-7 div.sk-parallel-item::before {content: \"\";position: absolute;border-left: 1px solid gray;box-sizing: border-box;top: 0;bottom: 0;left: 50%;z-index: -1;}#sk-container-id-7 div.sk-parallel-item {display: flex;flex-direction: column;z-index: 1;position: relative;background-color: white;}#sk-container-id-7 div.sk-parallel-item:first-child::after {align-self: flex-end;width: 50%;}#sk-container-id-7 div.sk-parallel-item:last-child::after {align-self: flex-start;width: 50%;}#sk-container-id-7 div.sk-parallel-item:only-child::after {width: 0;}#sk-container-id-7 div.sk-dashed-wrapped {border: 1px dashed gray;margin: 0 0.4em 0.5em 0.4em;box-sizing: border-box;padding-bottom: 0.4em;background-color: white;}#sk-container-id-7 div.sk-label label {font-family: monospace;font-weight: bold;display: inline-block;line-height: 1.2em;}#sk-container-id-7 div.sk-label-container {text-align: center;}#sk-container-id-7 div.sk-container {/* jupyter's `normalize.less` sets `[hidden] { display: none; }` but bootstrap.min.css set `[hidden] { display: none !important; }` so we also need the `!important` here to be able to override the default hidden behavior on the sphinx rendered scikit-learn.org. See: https://github.com/scikit-learn/scikit-learn/issues/21755 */display: inline-block !important;position: relative;}#sk-container-id-7 div.sk-text-repr-fallback {display: none;}</style><div id=\"sk-container-id-7\" class=\"sk-top-container\"><div class=\"sk-text-repr-fallback\"><pre>DBSCAN(eps=0.15, min_samples=10)</pre><b>In a Jupyter environment, please rerun this cell to show the HTML representation or trust the notebook. <br />On GitHub, the HTML representation is unable to render, please try loading this page with nbviewer.org.</b></div><div class=\"sk-container\" hidden><div class=\"sk-item\"><div class=\"sk-estimator sk-toggleable\"><input class=\"sk-toggleable__control sk-hidden--visually\" id=\"sk-estimator-id-7\" type=\"checkbox\" checked><label for=\"sk-estimator-id-7\" class=\"sk-toggleable__label sk-toggleable__label-arrow\">DBSCAN</label><div class=\"sk-toggleable__content\"><pre>DBSCAN(eps=0.15, min_samples=10)</pre></div></div></div></div></div>"
      ],
      "text/plain": [
       "DBSCAN(eps=0.15, min_samples=10)"
      ]
     },
     "execution_count": 70,
     "metadata": {},
     "output_type": "execute_result"
    }
   ],
   "source": [
    "dbscan = DBSCAN(eps=0.15, min_samples=10)\n",
    "dbscan.fit(X_illinois)"
   ]
  },
  {
   "cell_type": "markdown",
   "metadata": {},
   "source": [
    "Observing the size of each cluster"
   ]
  },
  {
   "cell_type": "code",
   "execution_count": 71,
   "metadata": {},
   "outputs": [
    {
     "data": {
      "text/plain": [
       "(array([ -1,   0,   1,   2,   3,   4,   5,   6,   7,   8,   9,  10,  11,\n",
       "         12,  13,  14,  15,  16,  17,  18,  19,  20,  21,  22,  23,  24,\n",
       "         25,  26,  27,  28,  29,  30,  31,  32,  33,  34,  35,  36,  37,\n",
       "         38,  39,  40,  41,  42,  43,  44,  45,  46,  47,  48,  49,  50,\n",
       "         51,  52,  53,  54,  55,  56,  57,  58,  59,  60,  61,  62,  63,\n",
       "         64,  65,  66,  67,  68,  69,  70,  71,  72,  73,  74,  75,  76,\n",
       "         77,  78,  79,  80,  81,  82,  83,  84,  85,  86,  87,  88,  89,\n",
       "         90,  91,  92,  93,  94,  95,  96,  97,  98,  99, 100, 101, 102,\n",
       "        103, 104, 105, 106, 107, 108, 109, 110, 111, 112, 113, 114, 115,\n",
       "        116, 117, 118, 119, 120, 121, 122, 123, 124, 125, 126, 127, 128,\n",
       "        129, 130, 131, 132, 133, 134, 135, 136, 137, 138, 139, 140, 141,\n",
       "        142, 143, 144, 145, 146, 147, 148, 149, 150, 151, 152, 153, 154,\n",
       "        155, 156, 157, 158, 159, 160, 161, 162, 163, 164, 165, 166, 167,\n",
       "        168, 169, 170, 171, 172, 173, 174, 175, 176, 177, 178, 179, 180,\n",
       "        181, 182, 183, 184, 185, 186, 187, 188, 189, 190, 191, 192, 193,\n",
       "        194, 195, 196, 197, 198, 199, 200, 201, 202, 203, 204, 205, 206,\n",
       "        207, 208, 209, 210, 211, 212, 213, 214, 215, 216, 217, 218, 219,\n",
       "        220, 221, 222, 223, 224, 225, 226, 227, 228, 229, 230, 231, 232,\n",
       "        233, 234, 235, 236, 237, 238, 239, 240, 241, 242, 243, 244, 245,\n",
       "        246, 247, 248, 249, 250, 251, 252, 253, 254, 255, 256, 257, 258,\n",
       "        259, 260, 261], dtype=int64),\n",
       " array([4325,  754,  116,  213,  116,   24,   47,   39,   18,   27,   14,\n",
       "          23,   11,   22,   10,   41,   11,   13,   14,   11,  406,   29,\n",
       "          58,   63,   18,  140,   23,   13,   15,   15,   10,   14,   47,\n",
       "          41,   61,   47,   21,   16,   24,   20,   29,   13,  200,   57,\n",
       "          28,   28,   10,   74,   33,   11,   12,   13,  166,   29,   21,\n",
       "          40,   48,   26,   12,   11,   12,   14,   19,   37,   24,   20,\n",
       "          10,   10,   11,   24,   14,   10,   11,  259,   55,   13,   48,\n",
       "          35,   10,   17,   11,   20,   87,  316,   16,   40,   16,   18,\n",
       "          23,   46,   28,   10,  108,   17,   16,   13,   23,   11,   13,\n",
       "          15,   12,   12,   15,   12,   14,   11,   26,   12,   22,  115,\n",
       "          20,   27,   10,   11,   11,   18,   17,   11,   14,   27,   10,\n",
       "          26,   20,  310,   50,   54,   26,   97,   11,   15,   16,   49,\n",
       "          10,   16,   17,   27,   25,   23,   24,   14,  121,   74,  491,\n",
       "          79,   13,   37,   18,   23,   19,   14,   10,   19,   10,   30,\n",
       "          16,   10,   10,   55,  126,   13,   19,   13,   15,   28,   17,\n",
       "          32,   14,  113,   41,   33,   13,   10,   24,   10,  183,  283,\n",
       "          32,   71,   22,   16,   29,   14,   12,   23,   23,   14,   12,\n",
       "          15,   17,   11,   11,   10,   11,   66,   12,   13,   16,  240,\n",
       "          40,   37,   12,   30,   19,   32,   55,   28,   24,   12,  475,\n",
       "         276,   71,   26,   38,   33,   87,   95,   34,   11,   19,   10,\n",
       "          15,   17,  122,  102,   17,   11,   27,   27,   67,   21,   53,\n",
       "          18,  105,   18,   22,   12,   11,   12,   10,   13,   24,   19,\n",
       "          19,   16,   29,   16,   16,   20,   38,   11,   36,   18,   27,\n",
       "          39,   38,   10,   11,   35,   17,   24,   11,   13,   10],\n",
       "       dtype=int64))"
      ]
     },
     "execution_count": 71,
     "metadata": {},
     "output_type": "execute_result"
    }
   ],
   "source": [
    "np.unique(dbscan.labels_, return_counts=True)"
   ]
  },
  {
   "cell_type": "code",
   "execution_count": 72,
   "metadata": {},
   "outputs": [
    {
     "name": "stdout",
     "output_type": "stream",
     "text": [
      "Silhouette 0.44891343336808875\n"
     ]
    }
   ],
   "source": [
    "print('Silhouette %s' % silhouette_score(X_illinois, dbscan.labels_))"
   ]
  },
  {
   "cell_type": "code",
   "execution_count": null,
   "metadata": {},
   "outputs": [],
   "source": [
    "k = 3\n",
    "kth_distances = list()\n",
    "for d in dist:\n",
    "    index_kth_distance = np.argsort(d)[k]\n",
    "    kth_distances.append(d[index_kth_distance])"
   ]
  }
 ],
 "metadata": {
  "kernelspec": {
   "display_name": "Python 3",
   "language": "python",
   "name": "python3"
  },
  "language_info": {
   "codemirror_mode": {
    "name": "ipython",
    "version": 3
   },
   "file_extension": ".py",
   "mimetype": "text/x-python",
   "name": "python",
   "nbconvert_exporter": "python",
   "pygments_lexer": "ipython3",
   "version": "3.10.0"
  }
 },
 "nbformat": 4,
 "nbformat_minor": 2
}
