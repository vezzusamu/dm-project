{
 "cells": [
  {
   "cell_type": "markdown",
   "metadata": {},
   "source": [
    "Import the libraries necessary to analize data"
   ]
  },
  {
   "cell_type": "code",
   "execution_count": 30,
   "metadata": {},
   "outputs": [],
   "source": [
    "%matplotlib inline\n",
    "import math\n",
    "import numpy as np\n",
    "import pandas as pd\n",
    "import scipy.stats as stats\n",
    "import matplotlib.pyplot as plt\n",
    "import datetime\n",
    "import random\n",
    "import seaborn as sns\n",
    "import plotly.express as px\n",
    "\n",
    "from collections import defaultdict\n",
    "from scipy.stats import pearsonr\n",
    "from sklearn.preprocessing import StandardScaler, MinMaxScaler\n",
    "from sklearn.cluster import KMeans\n",
    "from sklearn.metrics import silhouette_score"
   ]
  },
  {
   "cell_type": "code",
   "execution_count": 31,
   "metadata": {},
   "outputs": [],
   "source": [
    "df = pd.read_csv('df_scaled.csv')"
   ]
  },
  {
   "cell_type": "code",
   "execution_count": 32,
   "metadata": {},
   "outputs": [
    {
     "data": {
      "text/plain": [
       "['date',\n",
       " 'latitude',\n",
       " 'longitude',\n",
       " 'congressional_district',\n",
       " 'candidatevotes',\n",
       " 'totalvotes',\n",
       " 'total_votes_for_state',\n",
       " 'date',\n",
       " 'state',\n",
       " 'city_or_county',\n",
       " 'incident_characteristics1',\n",
       " 'party']"
      ]
     },
     "execution_count": 32,
     "metadata": {},
     "output_type": "execute_result"
    }
   ],
   "source": [
    "column_to_drop = ['date', 'latitude', 'longitude','congressional_district', 'candidatevotes', 'totalvotes', 'total_votes_for_state']\n",
    "for col in df.columns:\n",
    "    if df[col].dtype == 'object':\n",
    "       column_to_drop.append(col)\n",
    "column_to_drop"
   ]
  },
  {
   "cell_type": "code",
   "execution_count": 33,
   "metadata": {},
   "outputs": [],
   "source": [
    "df_categorical = df[column_to_drop]\n",
    "df_numeric = df.drop(columns=column_to_drop)"
   ]
  },
  {
   "cell_type": "code",
   "execution_count": 34,
   "metadata": {},
   "outputs": [
    {
     "name": "stdout",
     "output_type": "stream",
     "text": [
      "<class 'pandas.core.frame.DataFrame'>\n",
      "RangeIndex: 197914 entries, 0 to 197913\n",
      "Data columns (total 12 columns):\n",
      " #   Column                     Non-Null Count   Dtype  \n",
      "---  ------                     --------------   -----  \n",
      " 0   date                       197914 non-null  object \n",
      " 1   latitude                   197914 non-null  float64\n",
      " 2   longitude                  197914 non-null  float64\n",
      " 3   congressional_district     197914 non-null  int64  \n",
      " 4   candidatevotes             197914 non-null  int64  \n",
      " 5   totalvotes                 197914 non-null  int64  \n",
      " 6   total_votes_for_state      197914 non-null  int64  \n",
      " 7   date                       197914 non-null  object \n",
      " 8   state                      197914 non-null  object \n",
      " 9   city_or_county             197914 non-null  object \n",
      " 10  incident_characteristics1  197914 non-null  object \n",
      " 11  party                      197914 non-null  object \n",
      "dtypes: float64(2), int64(4), object(6)\n",
      "memory usage: 18.1+ MB\n",
      "<class 'pandas.core.frame.DataFrame'>\n",
      "RangeIndex: 197914 entries, 0 to 197913\n",
      "Data columns (total 18 columns):\n",
      " #   Column                          Non-Null Count   Dtype  \n",
      "---  ------                          --------------   -----  \n",
      " 0   avg_age_participants            197914 non-null  float64\n",
      " 1   n_participants_child            197914 non-null  float64\n",
      " 2   n_participants_teen             197914 non-null  float64\n",
      " 3   n_participants_adult            197914 non-null  float64\n",
      " 4   n_males                         197914 non-null  float64\n",
      " 5   n_females                       197914 non-null  float64\n",
      " 6   n_killed                        197914 non-null  float64\n",
      " 7   n_injured                       197914 non-null  float64\n",
      " 8   n_arrested                      197914 non-null  float64\n",
      " 9   n_unharmed                      197914 non-null  float64\n",
      " 10  n_participants                  197914 non-null  float64\n",
      " 11  povertyPercentage               197914 non-null  float64\n",
      " 12  males_percentage                197914 non-null  float64\n",
      " 13  killed_percentage               197914 non-null  float64\n",
      " 14  injured_percentage              197914 non-null  float64\n",
      " 15  killed_percentage_per_incident  197914 non-null  float64\n",
      " 16  unharmed_percentage             197914 non-null  float64\n",
      " 17  arrest_percentage               197914 non-null  float64\n",
      "dtypes: float64(18)\n",
      "memory usage: 27.2 MB\n"
     ]
    }
   ],
   "source": [
    "df_categorical.info()\n",
    "df_numeric.info()"
   ]
  },
  {
   "cell_type": "markdown",
   "metadata": {},
   "source": [
    "# K-means"
   ]
  },
  {
   "cell_type": "code",
   "execution_count": null,
   "metadata": {},
   "outputs": [],
   "source": [
    "from sklearn.cluster import KMeans\n",
    "from sklearn import metrics\n",
    "from sklearn.metrics import silhouette_score"
   ]
  },
  {
   "cell_type": "markdown",
   "metadata": {},
   "source": [
    "Knee Method to estimate the best K"
   ]
  },
  {
   "cell_type": "code",
   "execution_count": null,
   "metadata": {},
   "outputs": [],
   "source": [
    "k_grid = [2]\n",
    "\n",
    "sse_list = list()\n",
    "\n",
    "label_list = []\n",
    "#min_k = 2\n",
    "#max_k = 1000\n",
    "dict_sse = {}\n",
    "#search for the best k\n",
    "for k in k_grid:\n",
    "\n",
    "    kmeans = KMeans(n_clusters=k, n_init=11, max_iter=100)\n",
    "    kmeans.fit(df)\n",
    "    \n",
    "    sse = kmeans.inertia_\n",
    "    labels = kmeans.labels_\n",
    "\n",
    "    dict_sse[f'{k}_sse'] = sse\n",
    "    dict_sse[f'{k}_labels'] = labels"
   ]
  },
  {
   "cell_type": "code",
   "execution_count": null,
   "metadata": {},
   "outputs": [
    {
     "name": "stdout",
     "output_type": "stream",
     "text": [
      "for k = 2\n",
      "SSE 16921.5832642\n",
      "Separation 0.7281075678917921\n",
      "Silhouette 0.5753625013213346\n"
     ]
    }
   ],
   "source": [
    "for k in k_grid:\n",
    "    print(f'for k = {k}')\n",
    "    print('SSE %s' % dict_sse[f'{k}_sse']) # cohesion, lower value better clustering (error minimization)\n",
    "    print('Separation %s' % metrics.davies_bouldin_score(df, dict_sse[f'{k}_labels'])) # lower value, better clustering (minimum zero)\n",
    "    print('Silhouette %s' % silhouette_score(df, dict_sse[f'{k}_labels']))"
   ]
  },
  {
   "cell_type": "code",
   "execution_count": null,
   "metadata": {},
   "outputs": [
    {
     "data": {
      "image/png": "[encoded data removed]",
      "text/plain": [
       "<Figure size 640x480 with 1 Axes>"
      ]
     },
     "metadata": {},
     "output_type": "display_data"
    }
   ],
   "source": [
    "sse_list = [dict_sse[f'{k}_sse'] for k in k_grid]\n",
    "plt.plot(k_grid, sse_list)\n",
    "plt.ylabel('SSE', fontsize=22)\n",
    "plt.xlabel('K', fontsize=22)\n",
    "plt.tick_params(axis='both', which='major', labelsize=22)\n",
    "plt.show()"
   ]
  }
 ],
 "metadata": {
  "kernelspec": {
   "display_name": "Python 3",
   "language": "python",
   "name": "python3"
  },
  "language_info": {
   "codemirror_mode": {
    "name": "ipython",
    "version": 3
   },
   "file_extension": ".py",
   "mimetype": "text/x-python",
   "name": "python",
   "nbconvert_exporter": "python",
   "pygments_lexer": "ipython3",
   "version": "3.10.0"
  }
 },
 "nbformat": 4,
 "nbformat_minor": 2
}
