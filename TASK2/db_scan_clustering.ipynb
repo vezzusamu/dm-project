{
 "cells": [
  {
   "cell_type": "code",
   "execution_count": 11,
   "metadata": {},
   "outputs": [],
   "source": [
    "%matplotlib inline\n",
    "import math\n",
    "import numpy as np\n",
    "import pandas as pd\n",
    "import scipy.stats as stats\n",
    "import matplotlib.pyplot as plt\n",
    "import datetime\n",
    "import random\n",
    "import seaborn as sns\n",
    "import plotly.express as px\n",
    "\n",
    "from collections import defaultdict\n",
    "from scipy.stats import pearsonr\n",
    "\n",
    "from sklearn.preprocessing import MinMaxScaler\n",
    "from sklearn.cluster import DBSCAN\n",
    "from sklearn.metrics import silhouette_score\n",
    "from scipy.spatial.distance import pdist, squareform"
   ]
  },
  {
   "cell_type": "code",
   "execution_count": 12,
   "metadata": {},
   "outputs": [
    {
     "name": "stdout",
     "output_type": "stream",
     "text": [
      "<class 'pandas.core.frame.DataFrame'>\n",
      "RangeIndex: 197914 entries, 0 to 197913\n",
      "Data columns (total 40 columns):\n",
      " #   Column                          Non-Null Count   Dtype  \n",
      "---  ------                          --------------   -----  \n",
      " 0   povertyPercentage               197914 non-null  float64\n",
      " 1   males_percentage                197914 non-null  float64\n",
      " 2   females_percentage              197914 non-null  float64\n",
      " 3   child_percentage                197914 non-null  float64\n",
      " 4   teen_percentage                 197914 non-null  float64\n",
      " 5   adult_percentage                197914 non-null  float64\n",
      " 6   killed_percentage               197914 non-null  float64\n",
      " 7   injured_percentage              197914 non-null  float64\n",
      " 8   killed_percentage_per_incident  197914 non-null  float64\n",
      " 9   unharmed_percentage             197914 non-null  float64\n",
      " 10  winning_party_percentage        197914 non-null  float64\n",
      " 11  arrest_percentage               197914 non-null  float64\n",
      " 12  killed_rate_state               197914 non-null  float64\n",
      " 13  injured_rate_state              197914 non-null  float64\n",
      " 14  arrested_rate_state             197914 non-null  float64\n",
      " 15  unharmed_rate_state             197914 non-null  float64\n",
      " 16  age_entropy                     197914 non-null  float64\n",
      " 17  avg_age_participants            197914 non-null  float64\n",
      " 18  n_participants                  197914 non-null  int64  \n",
      " 19  n_participants_child            197914 non-null  int64  \n",
      " 20  n_participants_teen             197914 non-null  int64  \n",
      " 21  n_participants_adult            197914 non-null  int64  \n",
      " 22  n_males                         197914 non-null  int64  \n",
      " 23  n_females                       197914 non-null  int64  \n",
      " 24  n_killed                        197914 non-null  int64  \n",
      " 25  n_injured                       197914 non-null  int64  \n",
      " 26  n_arrested                      197914 non-null  int64  \n",
      " 27  n_unharmed                      197914 non-null  int64  \n",
      " 28  date                            197914 non-null  object \n",
      " 29  latitude                        197914 non-null  float64\n",
      " 30  longitude                       197914 non-null  float64\n",
      " 31  congressional_district          197914 non-null  int64  \n",
      " 32  candidatevotes                  197914 non-null  int64  \n",
      " 33  totalvotes                      197914 non-null  int64  \n",
      " 34  total_votes_for_state           197914 non-null  int64  \n",
      " 35  involve_killing                 197914 non-null  int64  \n",
      " 36  state                           197914 non-null  object \n",
      " 37  city_or_county                  197914 non-null  object \n",
      " 38  incident_characteristics1       197914 non-null  object \n",
      " 39  party                           197914 non-null  object \n",
      "dtypes: float64(20), int64(15), object(5)\n",
      "memory usage: 60.4+ MB\n"
     ]
    }
   ],
   "source": [
    "df = pd.read_csv('df_scaled.csv')\n",
    "df.info()"
   ]
  },
  {
   "cell_type": "markdown",
   "metadata": {},
   "source": [
    "Selecting one state as stated in subtask of clustering task."
   ]
  },
  {
   "cell_type": "code",
   "execution_count": 13,
   "metadata": {},
   "outputs": [
    {
     "data": {
      "text/plain": [
       "illinois          15935\n",
       "california        13842\n",
       "florida           12661\n",
       "texas             11023\n",
       "new york           8707\n",
       "ohio               8601\n",
       "georgia            7634\n",
       "pennsylvania       7529\n",
       "north carolina     7254\n",
       "louisiana          6670\n",
       "tennessee          6282\n",
       "missouri           6054\n",
       "south carolina     5886\n",
       "massachusetts      5274\n",
       "michigan           5004\n",
       "virginia           4845\n",
       "indiana            4828\n",
       "new jersey         4693\n",
       "maryland           4477\n",
       "alabama            4388\n",
       "wisconsin          4266\n",
       "kentucky           3456\n",
       "oklahoma           3069\n",
       "mississippi        2990\n",
       "washington         2900\n",
       "colorado           2831\n",
       "connecticut        2731\n",
       "arkansas           2500\n",
       "iowa               2333\n",
       "oregon             2000\n",
       "arizona            1984\n",
       "kansas             1949\n",
       "minnesota          1715\n",
       "nevada             1589\n",
       "new mexico         1479\n",
       "nebraska           1318\n",
       "west virginia      1285\n",
       "alaska             1276\n",
       "utah                916\n",
       "new hampshire       858\n",
       "maine               844\n",
       "rhode island        782\n",
       "idaho               585\n",
       "hawaii              250\n",
       "delaware            195\n",
       "montana              88\n",
       "south dakota         61\n",
       "north dakota         52\n",
       "wyoming              25\n",
       "Name: state, dtype: int64"
      ]
     },
     "execution_count": 13,
     "metadata": {},
     "output_type": "execute_result"
    }
   ],
   "source": [
    "df['state'].value_counts() #to find state with most crimes"
   ]
  },
  {
   "cell_type": "code",
   "execution_count": 14,
   "metadata": {},
   "outputs": [],
   "source": [
    "df = df.loc[df['state'] == 'illinois']"
   ]
  },
  {
   "cell_type": "markdown",
   "metadata": {},
   "source": [
    "To choose the best eps value we create the distance matrix "
   ]
  },
  {
   "cell_type": "code",
   "execution_count": 15,
   "metadata": {},
   "outputs": [
    {
     "data": {
      "text/plain": [
       "['date',\n",
       " 'latitude',\n",
       " 'longitude',\n",
       " 'congressional_district',\n",
       " 'candidatevotes',\n",
       " 'totalvotes',\n",
       " 'total_votes_for_state',\n",
       " 'date',\n",
       " 'state',\n",
       " 'city_or_county',\n",
       " 'incident_characteristics1',\n",
       " 'party']"
      ]
     },
     "execution_count": 15,
     "metadata": {},
     "output_type": "execute_result"
    }
   ],
   "source": [
    "column_to_drop = ['date', 'latitude', 'longitude','congressional_district', 'candidatevotes', 'totalvotes', 'total_votes_for_state']\n",
    "for col in df.columns:\n",
    "    if df[col].dtype == 'object':\n",
    "       column_to_drop.append(col)\n",
    "column_to_drop"
   ]
  },
  {
   "cell_type": "code",
   "execution_count": 16,
   "metadata": {},
   "outputs": [],
   "source": [
    "df_categorical = df[column_to_drop]\n",
    "df_numeric = df.drop(columns=column_to_drop)"
   ]
  },
  {
   "cell_type": "code",
   "execution_count": 17,
   "metadata": {},
   "outputs": [],
   "source": [
    "scaler = MinMaxScaler()\n",
    "X = scaler.fit_transform(df_numeric.values)\n",
    "scaled_df = pd.DataFrame(X, columns=df_numeric.columns)\n",
    "Y = scaler.inverse_transform(X)\n",
    "scaled_df = pd.DataFrame(Y, columns=df_numeric.columns)"
   ]
  },
  {
   "cell_type": "code",
   "execution_count": 18,
   "metadata": {},
   "outputs": [],
   "source": [
    "X_illinois = scaler.fit_transform(df_numeric.values)"
   ]
  },
  {
   "cell_type": "code",
   "execution_count": 19,
   "metadata": {},
   "outputs": [],
   "source": [
    "dist = pdist(X, 'euclidean') #pair wise distance\n",
    "dist = squareform(dist) #distance matrix given the vector dist"
   ]
  },
  {
   "cell_type": "code",
   "execution_count": 20,
   "metadata": {},
   "outputs": [],
   "source": [
    "#df_numeric['state'] = df['state']\n",
    "df_numeric_illinois = df[df['state'] == 'illinois']"
   ]
  },
  {
   "cell_type": "markdown",
   "metadata": {},
   "source": [
    "#TODO: model selection"
   ]
  },
  {
   "cell_type": "code",
   "execution_count": 21,
   "metadata": {},
   "outputs": [
    {
     "data": {
      "text/plain": [
       "DBSCAN(eps=0.15, min_samples=10)"
      ]
     },
     "execution_count": 21,
     "metadata": {},
     "output_type": "execute_result"
    }
   ],
   "source": [
    "dbscan = DBSCAN(eps=0.15, min_samples=10)\n",
    "dbscan.fit(X_illinois)"
   ]
  },
  {
   "cell_type": "markdown",
   "metadata": {},
   "source": [
    "Observing the size of each cluster"
   ]
  },
  {
   "cell_type": "code",
   "execution_count": 22,
   "metadata": {},
   "outputs": [
    {
     "data": {
      "text/plain": [
       "(array([-1,  0,  1,  2,  3,  4,  5,  6,  7,  8,  9, 10, 11, 12, 13, 14, 15,\n",
       "        16, 17, 18, 19, 20, 21, 22]),\n",
       " array([14747,    58,    16,    38,   291,    17,    10,    11,   294,\n",
       "           44,    15,    14,    11,    10,    10,    10,    10,   100,\n",
       "           13,    10,    51,   129,    17,     9]))"
      ]
     },
     "execution_count": 22,
     "metadata": {},
     "output_type": "execute_result"
    }
   ],
   "source": [
    "np.unique(dbscan.labels_, return_counts=True)"
   ]
  },
  {
   "cell_type": "code",
   "execution_count": 23,
   "metadata": {},
   "outputs": [
    {
     "name": "stdout",
     "output_type": "stream",
     "text": [
      "Silhouette -0.4151247855392586\n"
     ]
    }
   ],
   "source": [
    "print('Silhouette %s' % silhouette_score(X_illinois, dbscan.labels_))"
   ]
  },
  {
   "cell_type": "code",
   "execution_count": 24,
   "metadata": {},
   "outputs": [],
   "source": [
    "k = 3\n",
    "kth_distances = list()\n",
    "for d in dist:\n",
    "    index_kth_distance = np.argsort(d)[k]\n",
    "    kth_distances.append(d[index_kth_distance])"
   ]
  }
 ],
 "metadata": {
  "kernelspec": {
   "display_name": "base",
   "language": "python",
   "name": "python3"
  },
  "language_info": {
   "codemirror_mode": {
    "name": "ipython",
    "version": 3
   },
   "file_extension": ".py",
   "mimetype": "text/x-python",
   "name": "python",
   "nbconvert_exporter": "python",
   "pygments_lexer": "ipython3",
   "version": "3.9.13"
  }
 },
 "nbformat": 4,
 "nbformat_minor": 2
}
