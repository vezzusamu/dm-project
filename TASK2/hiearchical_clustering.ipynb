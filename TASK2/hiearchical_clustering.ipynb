{
 "cells": [
  {
   "cell_type": "code",
   "execution_count": 15,
   "metadata": {},
   "outputs": [],
   "source": [
    "%matplotlib inline\n",
    "import math\n",
    "import numpy as np\n",
    "import pandas as pd\n",
    "import scipy.stats as stats\n",
    "import matplotlib.pyplot as plt\n",
    "import datetime\n",
    "import random\n",
    "import seaborn as sns\n",
    "import plotly.express as px\n",
    "\n",
    "from collections import defaultdict\n",
    "from scipy.stats import pearsonr\n",
    "\n",
    "from sklearn.preprocessing import MinMaxScaler\n",
    "from sklearn.cluster import DBSCAN\n",
    "from sklearn.metrics import silhouette_score\n",
    "from scipy.spatial.distance import pdist, squareform"
   ]
  },
  {
   "cell_type": "code",
   "execution_count": 16,
   "metadata": {},
   "outputs": [
    {
     "name": "stdout",
     "output_type": "stream",
     "text": [
      "<class 'pandas.core.frame.DataFrame'>\n",
      "RangeIndex: 187534 entries, 0 to 187533\n",
      "Data columns (total 37 columns):\n",
      " #   Column                     Non-Null Count   Dtype  \n",
      "---  ------                     --------------   -----  \n",
      " 0   povertyPercentage          187534 non-null  float64\n",
      " 1   incident_gravity           187534 non-null  float64\n",
      " 2   females_rate               187534 non-null  float64\n",
      " 3   minor_rate                 187534 non-null  float64\n",
      " 4   arrested_rate              187534 non-null  float64\n",
      " 5   survival_rate              187534 non-null  float64\n",
      " 6   winning_party_percentage   187534 non-null  float64\n",
      " 7   killed_rate                187534 non-null  float64\n",
      " 8   injured_rate               187534 non-null  float64\n",
      " 9   killed_disp_per_district   187534 non-null  float64\n",
      " 10  injured_disp_per_district  187534 non-null  float64\n",
      " 11  part_disp_per_district     187534 non-null  float64\n",
      " 12  avg_age_participants       187534 non-null  float64\n",
      " 13  n_participants             187534 non-null  float64\n",
      " 14  n_participants_child       187534 non-null  int64  \n",
      " 15  n_participants_teen        187534 non-null  int64  \n",
      " 16  n_females                  187534 non-null  float64\n",
      " 17  n_killed                   187534 non-null  float64\n",
      " 18  n_injured                  187534 non-null  float64\n",
      " 19  n_arrested                 187534 non-null  float64\n",
      " 20  n_unharmed                 187534 non-null  float64\n",
      " 21  date                       187534 non-null  object \n",
      " 22  latitude                   187534 non-null  float64\n",
      " 23  longitude                  187534 non-null  float64\n",
      " 24  congressional_district     187534 non-null  int64  \n",
      " 25  candidatevotes             187534 non-null  int64  \n",
      " 26  totalvotes                 187534 non-null  int64  \n",
      " 27  involve_killing            187534 non-null  int64  \n",
      " 28  involve_injury             187534 non-null  int64  \n",
      " 29  involve_arrest             187534 non-null  int64  \n",
      " 30  is_survived                187534 non-null  int64  \n",
      " 31  state                      187534 non-null  object \n",
      " 32  city_or_county             187534 non-null  object \n",
      " 33  incident_characteristics1  187534 non-null  object \n",
      " 34  party                      187534 non-null  object \n",
      " 35  pc1                        187534 non-null  float64\n",
      " 36  pc2                        187534 non-null  float64\n",
      "dtypes: float64(23), int64(9), object(5)\n",
      "memory usage: 52.9+ MB\n"
     ]
    }
   ],
   "source": [
    "df = pd.read_csv('df_scaled.csv')\n",
    "df.info()"
   ]
  },
  {
   "cell_type": "code",
   "execution_count": 17,
   "metadata": {},
   "outputs": [
    {
     "data": {
      "text/plain": [
       "state\n",
       "illinois          15319\n",
       "california        12980\n",
       "florida           11972\n",
       "texas             10453\n",
       "new york           8449\n",
       "ohio               8137\n",
       "georgia            7300\n",
       "pennsylvania       7142\n",
       "north carolina     6874\n",
       "louisiana          6345\n",
       "tennessee          5931\n",
       "missouri           5784\n",
       "south carolina     5604\n",
       "massachusetts      4969\n",
       "virginia           4576\n",
       "indiana            4560\n",
       "michigan           4544\n",
       "new jersey         4530\n",
       "maryland           4266\n",
       "alabama            4117\n",
       "wisconsin          3969\n",
       "kentucky           3260\n",
       "oklahoma           2906\n",
       "mississippi        2777\n",
       "washington         2735\n",
       "colorado           2654\n",
       "connecticut        2599\n",
       "arkansas           2337\n",
       "iowa               2238\n",
       "oregon             1884\n",
       "arizona            1861\n",
       "kansas             1829\n",
       "minnesota          1715\n",
       "nevada             1502\n",
       "new mexico         1406\n",
       "nebraska           1318\n",
       "west virginia      1215\n",
       "alaska             1215\n",
       "utah                872\n",
       "new hampshire       821\n",
       "maine               802\n",
       "rhode island        741\n",
       "idaho               539\n",
       "hawaii              241\n",
       "delaware            113\n",
       "montana              50\n",
       "south dakota         38\n",
       "north dakota         33\n",
       "wyoming              12\n",
       "Name: count, dtype: int64"
      ]
     },
     "execution_count": 17,
     "metadata": {},
     "output_type": "execute_result"
    }
   ],
   "source": [
    "df['state'].value_counts()"
   ]
  },
  {
   "cell_type": "markdown",
   "metadata": {},
   "source": [
    "We selected one state as stated in subtask of clustering task.\n",
    "\n",
    "In particular, we decided to select the state with the second higher number of gun incidents which resulted California"
   ]
  },
  {
   "cell_type": "code",
   "execution_count": 18,
   "metadata": {},
   "outputs": [
    {
     "name": "stdout",
     "output_type": "stream",
     "text": [
      "<class 'pandas.core.frame.DataFrame'>\n",
      "Index: 12980 entries, 7720 to 174920\n",
      "Data columns (total 37 columns):\n",
      " #   Column                     Non-Null Count  Dtype  \n",
      "---  ------                     --------------  -----  \n",
      " 0   povertyPercentage          12980 non-null  float64\n",
      " 1   incident_gravity           12980 non-null  float64\n",
      " 2   females_rate               12980 non-null  float64\n",
      " 3   minor_rate                 12980 non-null  float64\n",
      " 4   arrested_rate              12980 non-null  float64\n",
      " 5   survival_rate              12980 non-null  float64\n",
      " 6   winning_party_percentage   12980 non-null  float64\n",
      " 7   killed_rate                12980 non-null  float64\n",
      " 8   injured_rate               12980 non-null  float64\n",
      " 9   killed_disp_per_district   12980 non-null  float64\n",
      " 10  injured_disp_per_district  12980 non-null  float64\n",
      " 11  part_disp_per_district     12980 non-null  float64\n",
      " 12  avg_age_participants       12980 non-null  float64\n",
      " 13  n_participants             12980 non-null  float64\n",
      " 14  n_participants_child       12980 non-null  int64  \n",
      " 15  n_participants_teen        12980 non-null  int64  \n",
      " 16  n_females                  12980 non-null  float64\n",
      " 17  n_killed                   12980 non-null  float64\n",
      " 18  n_injured                  12980 non-null  float64\n",
      " 19  n_arrested                 12980 non-null  float64\n",
      " 20  n_unharmed                 12980 non-null  float64\n",
      " 21  date                       12980 non-null  object \n",
      " 22  latitude                   12980 non-null  float64\n",
      " 23  longitude                  12980 non-null  float64\n",
      " 24  congressional_district     12980 non-null  int64  \n",
      " 25  candidatevotes             12980 non-null  int64  \n",
      " 26  totalvotes                 12980 non-null  int64  \n",
      " 27  involve_killing            12980 non-null  int64  \n",
      " 28  involve_injury             12980 non-null  int64  \n",
      " 29  involve_arrest             12980 non-null  int64  \n",
      " 30  is_survived                12980 non-null  int64  \n",
      " 31  state                      12980 non-null  object \n",
      " 32  city_or_county             12980 non-null  object \n",
      " 33  incident_characteristics1  12980 non-null  object \n",
      " 34  party                      12980 non-null  object \n",
      " 35  pc1                        12980 non-null  float64\n",
      " 36  pc2                        12980 non-null  float64\n",
      "dtypes: float64(23), int64(9), object(5)\n",
      "memory usage: 3.8+ MB\n"
     ]
    }
   ],
   "source": [
    "df = df.loc[df['state'] == 'california']\n",
    "df.info()"
   ]
  },
  {
   "cell_type": "code",
   "execution_count": 19,
   "metadata": {},
   "outputs": [
    {
     "data": {
      "text/plain": [
       "['avg_age_participants',\n",
       " 'n_participants',\n",
       " 'n_participants_child',\n",
       " 'n_participants_teen',\n",
       " 'n_females',\n",
       " 'n_killed',\n",
       " 'n_injured',\n",
       " 'n_arrested',\n",
       " 'n_unharmed',\n",
       " 'date',\n",
       " 'latitude',\n",
       " 'longitude',\n",
       " 'congressional_district',\n",
       " 'candidatevotes',\n",
       " 'totalvotes',\n",
       " 'involve_killing',\n",
       " 'involve_injury',\n",
       " 'involve_arrest',\n",
       " 'is_survived',\n",
       " 'pc1',\n",
       " 'pc2',\n",
       " 'date',\n",
       " 'state',\n",
       " 'city_or_county',\n",
       " 'incident_characteristics1',\n",
       " 'party']"
      ]
     },
     "execution_count": 19,
     "metadata": {},
     "output_type": "execute_result"
    }
   ],
   "source": [
    "column_to_drop = ['avg_age_participants','n_participants','n_participants_child', 'n_participants_teen', 'n_females', 'n_killed', 'n_injured',\n",
    "       'n_arrested', 'n_unharmed','date', 'latitude', 'longitude','congressional_district', 'candidatevotes', 'totalvotes', 'involve_killing', 'involve_injury', 'involve_arrest','is_survived','pc1', 'pc2']\n",
    "\n",
    "       \n",
    "for col in df.columns:\n",
    "    if df[col].dtype == 'object':\n",
    "       column_to_drop.append(col)\n",
    "column_to_drop"
   ]
  },
  {
   "cell_type": "code",
   "execution_count": 20,
   "metadata": {},
   "outputs": [],
   "source": [
    "df_categorical = df[column_to_drop]\n",
    "df_numeric = df.drop(columns=column_to_drop)"
   ]
  },
  {
   "cell_type": "code",
   "execution_count": 21,
   "metadata": {},
   "outputs": [
    {
     "name": "stdout",
     "output_type": "stream",
     "text": [
      "<class 'pandas.core.frame.DataFrame'>\n",
      "Index: 12980 entries, 7720 to 174920\n",
      "Data columns (total 26 columns):\n",
      " #   Column                     Non-Null Count  Dtype  \n",
      "---  ------                     --------------  -----  \n",
      " 0   avg_age_participants       12980 non-null  float64\n",
      " 1   n_participants             12980 non-null  float64\n",
      " 2   n_participants_child       12980 non-null  int64  \n",
      " 3   n_participants_teen        12980 non-null  int64  \n",
      " 4   n_females                  12980 non-null  float64\n",
      " 5   n_killed                   12980 non-null  float64\n",
      " 6   n_injured                  12980 non-null  float64\n",
      " 7   n_arrested                 12980 non-null  float64\n",
      " 8   n_unharmed                 12980 non-null  float64\n",
      " 9   date                       12980 non-null  object \n",
      " 10  latitude                   12980 non-null  float64\n",
      " 11  longitude                  12980 non-null  float64\n",
      " 12  congressional_district     12980 non-null  int64  \n",
      " 13  candidatevotes             12980 non-null  int64  \n",
      " 14  totalvotes                 12980 non-null  int64  \n",
      " 15  involve_killing            12980 non-null  int64  \n",
      " 16  involve_injury             12980 non-null  int64  \n",
      " 17  involve_arrest             12980 non-null  int64  \n",
      " 18  is_survived                12980 non-null  int64  \n",
      " 19  pc1                        12980 non-null  float64\n",
      " 20  pc2                        12980 non-null  float64\n",
      " 21  date                       12980 non-null  object \n",
      " 22  state                      12980 non-null  object \n",
      " 23  city_or_county             12980 non-null  object \n",
      " 24  incident_characteristics1  12980 non-null  object \n",
      " 25  party                      12980 non-null  object \n",
      "dtypes: float64(11), int64(9), object(6)\n",
      "memory usage: 2.7+ MB\n",
      "<class 'pandas.core.frame.DataFrame'>\n",
      "Index: 12980 entries, 7720 to 174920\n",
      "Data columns (total 12 columns):\n",
      " #   Column                     Non-Null Count  Dtype  \n",
      "---  ------                     --------------  -----  \n",
      " 0   povertyPercentage          12980 non-null  float64\n",
      " 1   incident_gravity           12980 non-null  float64\n",
      " 2   females_rate               12980 non-null  float64\n",
      " 3   minor_rate                 12980 non-null  float64\n",
      " 4   arrested_rate              12980 non-null  float64\n",
      " 5   survival_rate              12980 non-null  float64\n",
      " 6   winning_party_percentage   12980 non-null  float64\n",
      " 7   killed_rate                12980 non-null  float64\n",
      " 8   injured_rate               12980 non-null  float64\n",
      " 9   killed_disp_per_district   12980 non-null  float64\n",
      " 10  injured_disp_per_district  12980 non-null  float64\n",
      " 11  part_disp_per_district     12980 non-null  float64\n",
      "dtypes: float64(12)\n",
      "memory usage: 1.3 MB\n"
     ]
    }
   ],
   "source": [
    "df_categorical.info()\n",
    "df_numeric.info()"
   ]
  },
  {
   "cell_type": "markdown",
   "metadata": {},
   "source": [
    "# Hierarchical clustering (Agglomerative)"
   ]
  },
  {
   "cell_type": "code",
   "execution_count": 22,
   "metadata": {},
   "outputs": [],
   "source": [
    "from scipy.cluster.hierarchy import linkage, dendrogram, fcluster\n",
    "from scipy.spatial.distance import pdist, squareform\n",
    "from tqdm import tqdm\n",
    "from sklearn import metrics"
   ]
  },
  {
   "cell_type": "code",
   "execution_count": 23,
   "metadata": {},
   "outputs": [
    {
     "name": "stdout",
     "output_type": "stream",
     "text": [
      "metric: cityblock, method:complete, truncation_mode:None, level':2, k:5, silhouette: 0.2956507564819501 , DBscore:0.7410252715340289\n",
      "metric: cityblock, method:complete, truncation_mode:None, level':2, k:10, silhouette: 0.2071123547933502 , DBscore:1.2734375686808517\n",
      "metric: cityblock, method:complete, truncation_mode:None, level':5, k:5, silhouette: 0.2956507564819501 , DBscore:0.7410252715340289\n",
      "metric: cityblock, method:complete, truncation_mode:None, level':5, k:10, silhouette: 0.2071123547933502 , DBscore:1.2734375686808517\n",
      "metric: cityblock, method:complete, truncation_mode:None, level':15, k:5, silhouette: 0.2956507564819501 , DBscore:0.7410252715340289\n",
      "metric: cityblock, method:complete, truncation_mode:None, level':15, k:10, silhouette: 0.2071123547933502 , DBscore:1.2734375686808517\n",
      "metric: cityblock, method:complete, truncation_mode:lastp, level':2, k:5, silhouette: 0.2956507564819501 , DBscore:0.7410252715340289\n",
      "metric: cityblock, method:complete, truncation_mode:lastp, level':2, k:10, silhouette: 0.2071123547933502 , DBscore:1.2734375686808517\n",
      "metric: cityblock, method:complete, truncation_mode:lastp, level':5, k:5, silhouette: 0.2956507564819501 , DBscore:0.7410252715340289\n",
      "metric: cityblock, method:complete, truncation_mode:lastp, level':5, k:10, silhouette: 0.2071123547933502 , DBscore:1.2734375686808517\n",
      "metric: cityblock, method:complete, truncation_mode:lastp, level':15, k:5, silhouette: 0.2956507564819501 , DBscore:0.7410252715340289\n",
      "metric: cityblock, method:complete, truncation_mode:lastp, level':15, k:10, silhouette: 0.2071123547933502 , DBscore:1.2734375686808517\n",
      "metric: cityblock, method:complete, truncation_mode:level, level':2, k:5, silhouette: 0.2956507564819501 , DBscore:0.7410252715340289\n",
      "metric: cityblock, method:complete, truncation_mode:level, level':2, k:10, silhouette: 0.2071123547933502 , DBscore:1.2734375686808517\n",
      "metric: cityblock, method:complete, truncation_mode:level, level':5, k:5, silhouette: 0.2956507564819501 , DBscore:0.7410252715340289\n",
      "metric: cityblock, method:complete, truncation_mode:level, level':5, k:10, silhouette: 0.2071123547933502 , DBscore:1.2734375686808517\n",
      "metric: cityblock, method:complete, truncation_mode:level, level':15, k:5, silhouette: 0.2956507564819501 , DBscore:0.7410252715340289\n",
      "metric: cityblock, method:complete, truncation_mode:level, level':15, k:10, silhouette: 0.2071123547933502 , DBscore:1.2734375686808517\n",
      "metric: cityblock, method:single, truncation_mode:None, level':2, k:5, silhouette: 0.737427091184732 , DBscore:0.1474685904871516\n",
      "metric: cityblock, method:single, truncation_mode:None, level':2, k:10, silhouette: 0.5110902135660391 , DBscore:0.24635302042554058\n",
      "metric: cityblock, method:single, truncation_mode:None, level':5, k:5, silhouette: 0.737427091184732 , DBscore:0.1474685904871516\n",
      "metric: cityblock, method:single, truncation_mode:None, level':5, k:10, silhouette: 0.5110902135660391 , DBscore:0.24635302042554058\n",
      "metric: cityblock, method:single, truncation_mode:None, level':15, k:5, silhouette: 0.737427091184732 , DBscore:0.1474685904871516\n",
      "metric: cityblock, method:single, truncation_mode:None, level':15, k:10, silhouette: 0.5110902135660391 , DBscore:0.24635302042554058\n",
      "metric: cityblock, method:single, truncation_mode:lastp, level':2, k:5, silhouette: 0.737427091184732 , DBscore:0.1474685904871516\n",
      "metric: cityblock, method:single, truncation_mode:lastp, level':2, k:10, silhouette: 0.5110902135660391 , DBscore:0.24635302042554058\n",
      "metric: cityblock, method:single, truncation_mode:lastp, level':5, k:5, silhouette: 0.737427091184732 , DBscore:0.1474685904871516\n",
      "metric: cityblock, method:single, truncation_mode:lastp, level':5, k:10, silhouette: 0.5110902135660391 , DBscore:0.24635302042554058\n",
      "metric: cityblock, method:single, truncation_mode:lastp, level':15, k:5, silhouette: 0.737427091184732 , DBscore:0.1474685904871516\n",
      "metric: cityblock, method:single, truncation_mode:lastp, level':15, k:10, silhouette: 0.5110902135660391 , DBscore:0.24635302042554058\n",
      "metric: cityblock, method:single, truncation_mode:level, level':2, k:5, silhouette: 0.737427091184732 , DBscore:0.1474685904871516\n",
      "metric: cityblock, method:single, truncation_mode:level, level':2, k:10, silhouette: 0.5110902135660391 , DBscore:0.24635302042554058\n",
      "metric: cityblock, method:single, truncation_mode:level, level':5, k:5, silhouette: 0.737427091184732 , DBscore:0.1474685904871516\n",
      "metric: cityblock, method:single, truncation_mode:level, level':5, k:10, silhouette: 0.5110902135660391 , DBscore:0.24635302042554058\n",
      "metric: cityblock, method:single, truncation_mode:level, level':15, k:5, silhouette: 0.737427091184732 , DBscore:0.1474685904871516\n",
      "metric: cityblock, method:single, truncation_mode:level, level':15, k:10, silhouette: 0.5110902135660391 , DBscore:0.24635302042554058\n",
      "metric: cityblock, method:average, truncation_mode:None, level':2, k:5, silhouette: 0.6871068313701373 , DBscore:0.3485052488628274\n",
      "metric: cityblock, method:average, truncation_mode:None, level':2, k:10, silhouette: 0.33974454442086127 , DBscore:0.7854813001661084\n",
      "metric: cityblock, method:average, truncation_mode:None, level':5, k:5, silhouette: 0.6871068313701373 , DBscore:0.3485052488628274\n",
      "metric: cityblock, method:average, truncation_mode:None, level':5, k:10, silhouette: 0.33974454442086127 , DBscore:0.7854813001661084\n",
      "metric: cityblock, method:average, truncation_mode:None, level':15, k:5, silhouette: 0.6871068313701373 , DBscore:0.3485052488628274\n",
      "metric: cityblock, method:average, truncation_mode:None, level':15, k:10, silhouette: 0.33974454442086127 , DBscore:0.7854813001661084\n",
      "metric: cityblock, method:average, truncation_mode:lastp, level':2, k:5, silhouette: 0.6871068313701373 , DBscore:0.3485052488628274\n",
      "metric: cityblock, method:average, truncation_mode:lastp, level':2, k:10, silhouette: 0.33974454442086127 , DBscore:0.7854813001661084\n",
      "metric: cityblock, method:average, truncation_mode:lastp, level':5, k:5, silhouette: 0.6871068313701373 , DBscore:0.3485052488628274\n",
      "metric: cityblock, method:average, truncation_mode:lastp, level':5, k:10, silhouette: 0.33974454442086127 , DBscore:0.7854813001661084\n",
      "metric: cityblock, method:average, truncation_mode:lastp, level':15, k:5, silhouette: 0.6871068313701373 , DBscore:0.3485052488628274\n",
      "metric: cityblock, method:average, truncation_mode:lastp, level':15, k:10, silhouette: 0.33974454442086127 , DBscore:0.7854813001661084\n",
      "metric: cityblock, method:average, truncation_mode:level, level':2, k:5, silhouette: 0.6871068313701373 , DBscore:0.3485052488628274\n",
      "metric: cityblock, method:average, truncation_mode:level, level':2, k:10, silhouette: 0.33974454442086127 , DBscore:0.7854813001661084\n",
      "metric: cityblock, method:average, truncation_mode:level, level':5, k:5, silhouette: 0.6871068313701373 , DBscore:0.3485052488628274\n",
      "metric: cityblock, method:average, truncation_mode:level, level':5, k:10, silhouette: 0.33974454442086127 , DBscore:0.7854813001661084\n",
      "metric: cityblock, method:average, truncation_mode:level, level':15, k:5, silhouette: 0.6871068313701373 , DBscore:0.3485052488628274\n",
      "metric: cityblock, method:average, truncation_mode:level, level':15, k:10, silhouette: 0.33974454442086127 , DBscore:0.7854813001661084\n",
      "metric: cityblock, method:weighted, truncation_mode:None, level':2, k:5, silhouette: 0.42620185057066967 , DBscore:0.5404117642865203\n",
      "metric: cityblock, method:weighted, truncation_mode:None, level':2, k:10, silhouette: 0.29186720562640756 , DBscore:0.9832033353763509\n",
      "metric: cityblock, method:weighted, truncation_mode:None, level':5, k:5, silhouette: 0.42620185057066967 , DBscore:0.5404117642865203\n",
      "metric: cityblock, method:weighted, truncation_mode:None, level':5, k:10, silhouette: 0.29186720562640756 , DBscore:0.9832033353763509\n",
      "metric: cityblock, method:weighted, truncation_mode:None, level':15, k:5, silhouette: 0.42620185057066967 , DBscore:0.5404117642865203\n",
      "metric: cityblock, method:weighted, truncation_mode:None, level':15, k:10, silhouette: 0.29186720562640756 , DBscore:0.9832033353763509\n",
      "metric: cityblock, method:weighted, truncation_mode:lastp, level':2, k:5, silhouette: 0.42620185057066967 , DBscore:0.5404117642865203\n",
      "metric: cityblock, method:weighted, truncation_mode:lastp, level':2, k:10, silhouette: 0.29186720562640756 , DBscore:0.9832033353763509\n",
      "metric: cityblock, method:weighted, truncation_mode:lastp, level':5, k:5, silhouette: 0.42620185057066967 , DBscore:0.5404117642865203\n",
      "metric: cityblock, method:weighted, truncation_mode:lastp, level':5, k:10, silhouette: 0.29186720562640756 , DBscore:0.9832033353763509\n",
      "metric: cityblock, method:weighted, truncation_mode:lastp, level':15, k:5, silhouette: 0.42620185057066967 , DBscore:0.5404117642865203\n",
      "metric: cityblock, method:weighted, truncation_mode:lastp, level':15, k:10, silhouette: 0.29186720562640756 , DBscore:0.9832033353763509\n",
      "metric: cityblock, method:weighted, truncation_mode:level, level':2, k:5, silhouette: 0.42620185057066967 , DBscore:0.5404117642865203\n",
      "metric: cityblock, method:weighted, truncation_mode:level, level':2, k:10, silhouette: 0.29186720562640756 , DBscore:0.9832033353763509\n",
      "metric: cityblock, method:weighted, truncation_mode:level, level':5, k:5, silhouette: 0.42620185057066967 , DBscore:0.5404117642865203\n",
      "metric: cityblock, method:weighted, truncation_mode:level, level':5, k:10, silhouette: 0.29186720562640756 , DBscore:0.9832033353763509\n",
      "metric: cityblock, method:weighted, truncation_mode:level, level':15, k:5, silhouette: 0.42620185057066967 , DBscore:0.5404117642865203\n",
      "metric: cityblock, method:weighted, truncation_mode:level, level':15, k:10, silhouette: 0.29186720562640756 , DBscore:0.9832033353763509\n",
      "metric: correlation, method:complete, truncation_mode:None, level':2, k:5, silhouette: 0.2786875322254602 , DBscore:1.3006680212630362\n",
      "metric: correlation, method:complete, truncation_mode:None, level':2, k:10, silhouette: 0.2257365846529886 , DBscore:1.7775327640390461\n",
      "metric: correlation, method:complete, truncation_mode:None, level':5, k:5, silhouette: 0.2786875322254602 , DBscore:1.3006680212630362\n",
      "metric: correlation, method:complete, truncation_mode:None, level':5, k:10, silhouette: 0.2257365846529886 , DBscore:1.7775327640390461\n",
      "metric: correlation, method:complete, truncation_mode:None, level':15, k:5, silhouette: 0.2786875322254602 , DBscore:1.3006680212630362\n",
      "metric: correlation, method:complete, truncation_mode:None, level':15, k:10, silhouette: 0.2257365846529886 , DBscore:1.7775327640390461\n",
      "metric: correlation, method:complete, truncation_mode:lastp, level':2, k:5, silhouette: 0.2786875322254602 , DBscore:1.3006680212630362\n",
      "metric: correlation, method:complete, truncation_mode:lastp, level':2, k:10, silhouette: 0.2257365846529886 , DBscore:1.7775327640390461\n",
      "metric: correlation, method:complete, truncation_mode:lastp, level':5, k:5, silhouette: 0.2786875322254602 , DBscore:1.3006680212630362\n",
      "metric: correlation, method:complete, truncation_mode:lastp, level':5, k:10, silhouette: 0.2257365846529886 , DBscore:1.7775327640390461\n",
      "metric: correlation, method:complete, truncation_mode:lastp, level':15, k:5, silhouette: 0.2786875322254602 , DBscore:1.3006680212630362\n",
      "metric: correlation, method:complete, truncation_mode:lastp, level':15, k:10, silhouette: 0.2257365846529886 , DBscore:1.7775327640390461\n",
      "metric: correlation, method:complete, truncation_mode:level, level':2, k:5, silhouette: 0.2786875322254602 , DBscore:1.3006680212630362\n",
      "metric: correlation, method:complete, truncation_mode:level, level':2, k:10, silhouette: 0.2257365846529886 , DBscore:1.7775327640390461\n",
      "metric: correlation, method:complete, truncation_mode:level, level':5, k:5, silhouette: 0.2786875322254602 , DBscore:1.3006680212630362\n",
      "metric: correlation, method:complete, truncation_mode:level, level':5, k:10, silhouette: 0.2257365846529886 , DBscore:1.7775327640390461\n",
      "metric: correlation, method:complete, truncation_mode:level, level':15, k:5, silhouette: 0.2786875322254602 , DBscore:1.3006680212630362\n",
      "metric: correlation, method:complete, truncation_mode:level, level':15, k:10, silhouette: 0.2257365846529886 , DBscore:1.7775327640390461\n",
      "metric: correlation, method:single, truncation_mode:None, level':2, k:5, silhouette: -0.049592848889287305 , DBscore:1.049356040523684\n",
      "metric: correlation, method:single, truncation_mode:None, level':2, k:10, silhouette: -0.14191155849424014 , DBscore:1.0431001941153055\n",
      "metric: correlation, method:single, truncation_mode:None, level':5, k:5, silhouette: -0.049592848889287305 , DBscore:1.049356040523684\n",
      "metric: correlation, method:single, truncation_mode:None, level':5, k:10, silhouette: -0.14191155849424014 , DBscore:1.0431001941153055\n",
      "metric: correlation, method:single, truncation_mode:None, level':15, k:5, silhouette: -0.049592848889287305 , DBscore:1.049356040523684\n",
      "metric: correlation, method:single, truncation_mode:None, level':15, k:10, silhouette: -0.14191155849424014 , DBscore:1.0431001941153055\n",
      "metric: correlation, method:single, truncation_mode:lastp, level':2, k:5, silhouette: -0.049592848889287305 , DBscore:1.049356040523684\n",
      "metric: correlation, method:single, truncation_mode:lastp, level':2, k:10, silhouette: -0.14191155849424014 , DBscore:1.0431001941153055\n",
      "metric: correlation, method:single, truncation_mode:lastp, level':5, k:5, silhouette: -0.049592848889287305 , DBscore:1.049356040523684\n",
      "metric: correlation, method:single, truncation_mode:lastp, level':5, k:10, silhouette: -0.14191155849424014 , DBscore:1.0431001941153055\n",
      "metric: correlation, method:single, truncation_mode:lastp, level':15, k:5, silhouette: -0.049592848889287305 , DBscore:1.049356040523684\n",
      "metric: correlation, method:single, truncation_mode:lastp, level':15, k:10, silhouette: -0.14191155849424014 , DBscore:1.0431001941153055\n",
      "metric: correlation, method:single, truncation_mode:level, level':2, k:5, silhouette: -0.049592848889287305 , DBscore:1.049356040523684\n",
      "metric: correlation, method:single, truncation_mode:level, level':2, k:10, silhouette: -0.14191155849424014 , DBscore:1.0431001941153055\n",
      "metric: correlation, method:single, truncation_mode:level, level':5, k:5, silhouette: -0.049592848889287305 , DBscore:1.049356040523684\n",
      "metric: correlation, method:single, truncation_mode:level, level':5, k:10, silhouette: -0.14191155849424014 , DBscore:1.0431001941153055\n",
      "metric: correlation, method:single, truncation_mode:level, level':15, k:5, silhouette: -0.049592848889287305 , DBscore:1.049356040523684\n",
      "metric: correlation, method:single, truncation_mode:level, level':15, k:10, silhouette: -0.14191155849424014 , DBscore:1.0431001941153055\n",
      "metric: correlation, method:average, truncation_mode:None, level':2, k:5, silhouette: 0.296252788433651 , DBscore:1.3836243151956125\n",
      "metric: correlation, method:average, truncation_mode:None, level':2, k:10, silhouette: 0.26327937139617386 , DBscore:1.3410905197231542\n",
      "metric: correlation, method:average, truncation_mode:None, level':5, k:5, silhouette: 0.296252788433651 , DBscore:1.3836243151956125\n",
      "metric: correlation, method:average, truncation_mode:None, level':5, k:10, silhouette: 0.26327937139617386 , DBscore:1.3410905197231542\n",
      "metric: correlation, method:average, truncation_mode:None, level':15, k:5, silhouette: 0.296252788433651 , DBscore:1.3836243151956125\n",
      "metric: correlation, method:average, truncation_mode:None, level':15, k:10, silhouette: 0.26327937139617386 , DBscore:1.3410905197231542\n",
      "metric: correlation, method:average, truncation_mode:lastp, level':2, k:5, silhouette: 0.296252788433651 , DBscore:1.3836243151956125\n",
      "metric: correlation, method:average, truncation_mode:lastp, level':2, k:10, silhouette: 0.26327937139617386 , DBscore:1.3410905197231542\n",
      "metric: correlation, method:average, truncation_mode:lastp, level':5, k:5, silhouette: 0.296252788433651 , DBscore:1.3836243151956125\n",
      "metric: correlation, method:average, truncation_mode:lastp, level':5, k:10, silhouette: 0.26327937139617386 , DBscore:1.3410905197231542\n",
      "metric: correlation, method:average, truncation_mode:lastp, level':15, k:5, silhouette: 0.296252788433651 , DBscore:1.3836243151956125\n",
      "metric: correlation, method:average, truncation_mode:lastp, level':15, k:10, silhouette: 0.26327937139617386 , DBscore:1.3410905197231542\n",
      "metric: correlation, method:average, truncation_mode:level, level':2, k:5, silhouette: 0.296252788433651 , DBscore:1.3836243151956125\n",
      "metric: correlation, method:average, truncation_mode:level, level':2, k:10, silhouette: 0.26327937139617386 , DBscore:1.3410905197231542\n",
      "metric: correlation, method:average, truncation_mode:level, level':5, k:5, silhouette: 0.296252788433651 , DBscore:1.3836243151956125\n",
      "metric: correlation, method:average, truncation_mode:level, level':5, k:10, silhouette: 0.26327937139617386 , DBscore:1.3410905197231542\n",
      "metric: correlation, method:average, truncation_mode:level, level':15, k:5, silhouette: 0.296252788433651 , DBscore:1.3836243151956125\n",
      "metric: correlation, method:average, truncation_mode:level, level':15, k:10, silhouette: 0.26327937139617386 , DBscore:1.3410905197231542\n",
      "metric: correlation, method:weighted, truncation_mode:None, level':2, k:5, silhouette: 0.2589355057625014 , DBscore:1.4509696821004128\n",
      "metric: correlation, method:weighted, truncation_mode:None, level':2, k:10, silhouette: 0.22064955120377627 , DBscore:1.467150600196305\n",
      "metric: correlation, method:weighted, truncation_mode:None, level':5, k:5, silhouette: 0.2589355057625014 , DBscore:1.4509696821004128\n",
      "metric: correlation, method:weighted, truncation_mode:None, level':5, k:10, silhouette: 0.22064955120377627 , DBscore:1.467150600196305\n",
      "metric: correlation, method:weighted, truncation_mode:None, level':15, k:5, silhouette: 0.2589355057625014 , DBscore:1.4509696821004128\n",
      "metric: correlation, method:weighted, truncation_mode:None, level':15, k:10, silhouette: 0.22064955120377627 , DBscore:1.467150600196305\n",
      "metric: correlation, method:weighted, truncation_mode:lastp, level':2, k:5, silhouette: 0.2589355057625014 , DBscore:1.4509696821004128\n",
      "metric: correlation, method:weighted, truncation_mode:lastp, level':2, k:10, silhouette: 0.22064955120377627 , DBscore:1.467150600196305\n",
      "metric: correlation, method:weighted, truncation_mode:lastp, level':5, k:5, silhouette: 0.2589355057625014 , DBscore:1.4509696821004128\n",
      "metric: correlation, method:weighted, truncation_mode:lastp, level':5, k:10, silhouette: 0.22064955120377627 , DBscore:1.467150600196305\n",
      "metric: correlation, method:weighted, truncation_mode:lastp, level':15, k:5, silhouette: 0.2589355057625014 , DBscore:1.4509696821004128\n",
      "metric: correlation, method:weighted, truncation_mode:lastp, level':15, k:10, silhouette: 0.22064955120377627 , DBscore:1.467150600196305\n",
      "metric: correlation, method:weighted, truncation_mode:level, level':2, k:5, silhouette: 0.2589355057625014 , DBscore:1.4509696821004128\n",
      "metric: correlation, method:weighted, truncation_mode:level, level':2, k:10, silhouette: 0.22064955120377627 , DBscore:1.467150600196305\n",
      "metric: correlation, method:weighted, truncation_mode:level, level':5, k:5, silhouette: 0.2589355057625014 , DBscore:1.4509696821004128\n",
      "metric: correlation, method:weighted, truncation_mode:level, level':5, k:10, silhouette: 0.22064955120377627 , DBscore:1.467150600196305\n",
      "metric: correlation, method:weighted, truncation_mode:level, level':15, k:5, silhouette: 0.2589355057625014 , DBscore:1.4509696821004128\n",
      "metric: correlation, method:weighted, truncation_mode:level, level':15, k:10, silhouette: 0.22064955120377627 , DBscore:1.467150600196305\n",
      "metric: cosine, method:complete, truncation_mode:None, level':2, k:5, silhouette: 0.2355831776076553 , DBscore:1.4969265879575846\n",
      "metric: cosine, method:complete, truncation_mode:None, level':2, k:10, silhouette: 0.2299365438988861 , DBscore:1.6369420669344144\n",
      "metric: cosine, method:complete, truncation_mode:None, level':5, k:5, silhouette: 0.2355831776076553 , DBscore:1.4969265879575846\n",
      "metric: cosine, method:complete, truncation_mode:None, level':5, k:10, silhouette: 0.2299365438988861 , DBscore:1.6369420669344144\n",
      "metric: cosine, method:complete, truncation_mode:None, level':15, k:5, silhouette: 0.2355831776076553 , DBscore:1.4969265879575846\n",
      "metric: cosine, method:complete, truncation_mode:None, level':15, k:10, silhouette: 0.2299365438988861 , DBscore:1.6369420669344144\n",
      "metric: cosine, method:complete, truncation_mode:lastp, level':2, k:5, silhouette: 0.2355831776076553 , DBscore:1.4969265879575846\n",
      "metric: cosine, method:complete, truncation_mode:lastp, level':2, k:10, silhouette: 0.2299365438988861 , DBscore:1.6369420669344144\n",
      "metric: cosine, method:complete, truncation_mode:lastp, level':5, k:5, silhouette: 0.2355831776076553 , DBscore:1.4969265879575846\n",
      "metric: cosine, method:complete, truncation_mode:lastp, level':5, k:10, silhouette: 0.2299365438988861 , DBscore:1.6369420669344144\n",
      "metric: cosine, method:complete, truncation_mode:lastp, level':15, k:5, silhouette: 0.2355831776076553 , DBscore:1.4969265879575846\n",
      "metric: cosine, method:complete, truncation_mode:lastp, level':15, k:10, silhouette: 0.2299365438988861 , DBscore:1.6369420669344144\n",
      "metric: cosine, method:complete, truncation_mode:level, level':2, k:5, silhouette: 0.2355831776076553 , DBscore:1.4969265879575846\n",
      "metric: cosine, method:complete, truncation_mode:level, level':2, k:10, silhouette: 0.2299365438988861 , DBscore:1.6369420669344144\n",
      "metric: cosine, method:complete, truncation_mode:level, level':5, k:5, silhouette: 0.2355831776076553 , DBscore:1.4969265879575846\n",
      "metric: cosine, method:complete, truncation_mode:level, level':5, k:10, silhouette: 0.2299365438988861 , DBscore:1.6369420669344144\n",
      "metric: cosine, method:complete, truncation_mode:level, level':15, k:5, silhouette: 0.2355831776076553 , DBscore:1.4969265879575846\n",
      "metric: cosine, method:complete, truncation_mode:level, level':15, k:10, silhouette: 0.2299365438988861 , DBscore:1.6369420669344144\n",
      "metric: cosine, method:single, truncation_mode:None, level':2, k:5, silhouette: -0.0954200509565859 , DBscore:1.2815686077568305\n",
      "metric: cosine, method:single, truncation_mode:None, level':2, k:10, silhouette: -0.1879862282771113 , DBscore:1.1709667525342695\n",
      "metric: cosine, method:single, truncation_mode:None, level':5, k:5, silhouette: -0.0954200509565859 , DBscore:1.2815686077568305\n",
      "metric: cosine, method:single, truncation_mode:None, level':5, k:10, silhouette: -0.1879862282771113 , DBscore:1.1709667525342695\n",
      "metric: cosine, method:single, truncation_mode:None, level':15, k:5, silhouette: -0.0954200509565859 , DBscore:1.2815686077568305\n",
      "metric: cosine, method:single, truncation_mode:None, level':15, k:10, silhouette: -0.1879862282771113 , DBscore:1.1709667525342695\n",
      "metric: cosine, method:single, truncation_mode:lastp, level':2, k:5, silhouette: -0.0954200509565859 , DBscore:1.2815686077568305\n",
      "metric: cosine, method:single, truncation_mode:lastp, level':2, k:10, silhouette: -0.1879862282771113 , DBscore:1.1709667525342695\n",
      "metric: cosine, method:single, truncation_mode:lastp, level':5, k:5, silhouette: -0.0954200509565859 , DBscore:1.2815686077568305\n",
      "metric: cosine, method:single, truncation_mode:lastp, level':5, k:10, silhouette: -0.1879862282771113 , DBscore:1.1709667525342695\n",
      "metric: cosine, method:single, truncation_mode:lastp, level':15, k:5, silhouette: -0.0954200509565859 , DBscore:1.2815686077568305\n",
      "metric: cosine, method:single, truncation_mode:lastp, level':15, k:10, silhouette: -0.1879862282771113 , DBscore:1.1709667525342695\n",
      "metric: cosine, method:single, truncation_mode:level, level':2, k:5, silhouette: -0.0954200509565859 , DBscore:1.2815686077568305\n",
      "metric: cosine, method:single, truncation_mode:level, level':2, k:10, silhouette: -0.1879862282771113 , DBscore:1.1709667525342695\n",
      "metric: cosine, method:single, truncation_mode:level, level':5, k:5, silhouette: -0.0954200509565859 , DBscore:1.2815686077568305\n",
      "metric: cosine, method:single, truncation_mode:level, level':5, k:10, silhouette: -0.1879862282771113 , DBscore:1.1709667525342695\n",
      "metric: cosine, method:single, truncation_mode:level, level':15, k:5, silhouette: -0.0954200509565859 , DBscore:1.2815686077568305\n",
      "metric: cosine, method:single, truncation_mode:level, level':15, k:10, silhouette: -0.1879862282771113 , DBscore:1.1709667525342695\n",
      "metric: cosine, method:average, truncation_mode:None, level':2, k:5, silhouette: 0.29424723290692256 , DBscore:1.3227296883835122\n",
      "metric: cosine, method:average, truncation_mode:None, level':2, k:10, silhouette: 0.3109387972325357 , DBscore:1.2849800533681264\n",
      "metric: cosine, method:average, truncation_mode:None, level':5, k:5, silhouette: 0.29424723290692256 , DBscore:1.3227296883835122\n",
      "metric: cosine, method:average, truncation_mode:None, level':5, k:10, silhouette: 0.3109387972325357 , DBscore:1.2849800533681264\n",
      "metric: cosine, method:average, truncation_mode:None, level':15, k:5, silhouette: 0.29424723290692256 , DBscore:1.3227296883835122\n",
      "metric: cosine, method:average, truncation_mode:None, level':15, k:10, silhouette: 0.3109387972325357 , DBscore:1.2849800533681264\n",
      "metric: cosine, method:average, truncation_mode:lastp, level':2, k:5, silhouette: 0.29424723290692256 , DBscore:1.3227296883835122\n",
      "metric: cosine, method:average, truncation_mode:lastp, level':2, k:10, silhouette: 0.3109387972325357 , DBscore:1.2849800533681264\n",
      "metric: cosine, method:average, truncation_mode:lastp, level':5, k:5, silhouette: 0.29424723290692256 , DBscore:1.3227296883835122\n",
      "metric: cosine, method:average, truncation_mode:lastp, level':5, k:10, silhouette: 0.3109387972325357 , DBscore:1.2849800533681264\n",
      "metric: cosine, method:average, truncation_mode:lastp, level':15, k:5, silhouette: 0.29424723290692256 , DBscore:1.3227296883835122\n",
      "metric: cosine, method:average, truncation_mode:lastp, level':15, k:10, silhouette: 0.3109387972325357 , DBscore:1.2849800533681264\n",
      "metric: cosine, method:average, truncation_mode:level, level':2, k:5, silhouette: 0.29424723290692256 , DBscore:1.3227296883835122\n",
      "metric: cosine, method:average, truncation_mode:level, level':2, k:10, silhouette: 0.3109387972325357 , DBscore:1.2849800533681264\n",
      "metric: cosine, method:average, truncation_mode:level, level':5, k:5, silhouette: 0.29424723290692256 , DBscore:1.3227296883835122\n",
      "metric: cosine, method:average, truncation_mode:level, level':5, k:10, silhouette: 0.3109387972325357 , DBscore:1.2849800533681264\n",
      "metric: cosine, method:average, truncation_mode:level, level':15, k:5, silhouette: 0.29424723290692256 , DBscore:1.3227296883835122\n",
      "metric: cosine, method:average, truncation_mode:level, level':15, k:10, silhouette: 0.3109387972325357 , DBscore:1.2849800533681264\n",
      "metric: cosine, method:weighted, truncation_mode:None, level':2, k:5, silhouette: 0.2099602001150448 , DBscore:1.342257365696228\n",
      "metric: cosine, method:weighted, truncation_mode:None, level':2, k:10, silhouette: 0.22439484927360903 , DBscore:1.6340727965009414\n",
      "metric: cosine, method:weighted, truncation_mode:None, level':5, k:5, silhouette: 0.2099602001150448 , DBscore:1.342257365696228\n",
      "metric: cosine, method:weighted, truncation_mode:None, level':5, k:10, silhouette: 0.22439484927360903 , DBscore:1.6340727965009414\n",
      "metric: cosine, method:weighted, truncation_mode:None, level':15, k:5, silhouette: 0.2099602001150448 , DBscore:1.342257365696228\n",
      "metric: cosine, method:weighted, truncation_mode:None, level':15, k:10, silhouette: 0.22439484927360903 , DBscore:1.6340727965009414\n",
      "metric: cosine, method:weighted, truncation_mode:lastp, level':2, k:5, silhouette: 0.2099602001150448 , DBscore:1.342257365696228\n",
      "metric: cosine, method:weighted, truncation_mode:lastp, level':2, k:10, silhouette: 0.22439484927360903 , DBscore:1.6340727965009414\n",
      "metric: cosine, method:weighted, truncation_mode:lastp, level':5, k:5, silhouette: 0.2099602001150448 , DBscore:1.342257365696228\n",
      "metric: cosine, method:weighted, truncation_mode:lastp, level':5, k:10, silhouette: 0.22439484927360903 , DBscore:1.6340727965009414\n",
      "metric: cosine, method:weighted, truncation_mode:lastp, level':15, k:5, silhouette: 0.2099602001150448 , DBscore:1.342257365696228\n",
      "metric: cosine, method:weighted, truncation_mode:lastp, level':15, k:10, silhouette: 0.22439484927360903 , DBscore:1.6340727965009414\n",
      "metric: cosine, method:weighted, truncation_mode:level, level':2, k:5, silhouette: 0.2099602001150448 , DBscore:1.342257365696228\n",
      "metric: cosine, method:weighted, truncation_mode:level, level':2, k:10, silhouette: 0.22439484927360903 , DBscore:1.6340727965009414\n",
      "metric: cosine, method:weighted, truncation_mode:level, level':5, k:5, silhouette: 0.2099602001150448 , DBscore:1.342257365696228\n",
      "metric: cosine, method:weighted, truncation_mode:level, level':5, k:10, silhouette: 0.22439484927360903 , DBscore:1.6340727965009414\n",
      "metric: cosine, method:weighted, truncation_mode:level, level':15, k:5, silhouette: 0.2099602001150448 , DBscore:1.342257365696228\n",
      "metric: cosine, method:weighted, truncation_mode:level, level':15, k:10, silhouette: 0.22439484927360903 , DBscore:1.6340727965009414\n",
      "metric: euclidean, method:complete, truncation_mode:None, level':2, k:5, silhouette: 0.43671031701221025 , DBscore:0.5824488725990793\n",
      "metric: euclidean, method:complete, truncation_mode:None, level':2, k:10, silhouette: 0.30817036736214193 , DBscore:1.000875560853193\n",
      "metric: euclidean, method:complete, truncation_mode:None, level':5, k:5, silhouette: 0.43671031701221025 , DBscore:0.5824488725990793\n",
      "metric: euclidean, method:complete, truncation_mode:None, level':5, k:10, silhouette: 0.30817036736214193 , DBscore:1.000875560853193\n",
      "metric: euclidean, method:complete, truncation_mode:None, level':15, k:5, silhouette: 0.43671031701221025 , DBscore:0.5824488725990793\n",
      "metric: euclidean, method:complete, truncation_mode:None, level':15, k:10, silhouette: 0.30817036736214193 , DBscore:1.000875560853193\n",
      "metric: euclidean, method:complete, truncation_mode:lastp, level':2, k:5, silhouette: 0.43671031701221025 , DBscore:0.5824488725990793\n",
      "metric: euclidean, method:complete, truncation_mode:lastp, level':2, k:10, silhouette: 0.30817036736214193 , DBscore:1.000875560853193\n",
      "metric: euclidean, method:complete, truncation_mode:lastp, level':5, k:5, silhouette: 0.43671031701221025 , DBscore:0.5824488725990793\n",
      "metric: euclidean, method:complete, truncation_mode:lastp, level':5, k:10, silhouette: 0.30817036736214193 , DBscore:1.000875560853193\n",
      "metric: euclidean, method:complete, truncation_mode:lastp, level':15, k:5, silhouette: 0.43671031701221025 , DBscore:0.5824488725990793\n",
      "metric: euclidean, method:complete, truncation_mode:lastp, level':15, k:10, silhouette: 0.30817036736214193 , DBscore:1.000875560853193\n",
      "metric: euclidean, method:complete, truncation_mode:level, level':2, k:5, silhouette: 0.43671031701221025 , DBscore:0.5824488725990793\n",
      "metric: euclidean, method:complete, truncation_mode:level, level':2, k:10, silhouette: 0.30817036736214193 , DBscore:1.000875560853193\n",
      "metric: euclidean, method:complete, truncation_mode:level, level':5, k:5, silhouette: 0.43671031701221025 , DBscore:0.5824488725990793\n",
      "metric: euclidean, method:complete, truncation_mode:level, level':5, k:10, silhouette: 0.30817036736214193 , DBscore:1.000875560853193\n",
      "metric: euclidean, method:complete, truncation_mode:level, level':15, k:5, silhouette: 0.43671031701221025 , DBscore:0.5824488725990793\n",
      "metric: euclidean, method:complete, truncation_mode:level, level':15, k:10, silhouette: 0.30817036736214193 , DBscore:1.000875560853193\n",
      "metric: euclidean, method:single, truncation_mode:None, level':2, k:5, silhouette: 0.7280077334608617 , DBscore:0.19872861451307725\n",
      "metric: euclidean, method:single, truncation_mode:None, level':2, k:10, silhouette: 0.5328157383233203 , DBscore:0.2321317317964497\n",
      "metric: euclidean, method:single, truncation_mode:None, level':5, k:5, silhouette: 0.7280077334608617 , DBscore:0.19872861451307725\n",
      "metric: euclidean, method:single, truncation_mode:None, level':5, k:10, silhouette: 0.5328157383233203 , DBscore:0.2321317317964497\n",
      "metric: euclidean, method:single, truncation_mode:None, level':15, k:5, silhouette: 0.7280077334608617 , DBscore:0.19872861451307725\n",
      "metric: euclidean, method:single, truncation_mode:None, level':15, k:10, silhouette: 0.5328157383233203 , DBscore:0.2321317317964497\n",
      "metric: euclidean, method:single, truncation_mode:lastp, level':2, k:5, silhouette: 0.7280077334608617 , DBscore:0.19872861451307725\n",
      "metric: euclidean, method:single, truncation_mode:lastp, level':2, k:10, silhouette: 0.5328157383233203 , DBscore:0.2321317317964497\n",
      "metric: euclidean, method:single, truncation_mode:lastp, level':5, k:5, silhouette: 0.7280077334608617 , DBscore:0.19872861451307725\n",
      "metric: euclidean, method:single, truncation_mode:lastp, level':5, k:10, silhouette: 0.5328157383233203 , DBscore:0.2321317317964497\n",
      "metric: euclidean, method:single, truncation_mode:lastp, level':15, k:5, silhouette: 0.7280077334608617 , DBscore:0.19872861451307725\n",
      "metric: euclidean, method:single, truncation_mode:lastp, level':15, k:10, silhouette: 0.5328157383233203 , DBscore:0.2321317317964497\n",
      "metric: euclidean, method:single, truncation_mode:level, level':2, k:5, silhouette: 0.7280077334608617 , DBscore:0.19872861451307725\n",
      "metric: euclidean, method:single, truncation_mode:level, level':2, k:10, silhouette: 0.5328157383233203 , DBscore:0.2321317317964497\n",
      "metric: euclidean, method:single, truncation_mode:level, level':5, k:5, silhouette: 0.7280077334608617 , DBscore:0.19872861451307725\n",
      "metric: euclidean, method:single, truncation_mode:level, level':5, k:10, silhouette: 0.5328157383233203 , DBscore:0.2321317317964497\n",
      "metric: euclidean, method:single, truncation_mode:level, level':15, k:5, silhouette: 0.7280077334608617 , DBscore:0.19872861451307725\n",
      "metric: euclidean, method:single, truncation_mode:level, level':15, k:10, silhouette: 0.5328157383233203 , DBscore:0.2321317317964497\n",
      "metric: euclidean, method:average, truncation_mode:None, level':2, k:5, silhouette: 0.5983763114854691 , DBscore:0.5096562655321224\n",
      "metric: euclidean, method:average, truncation_mode:None, level':2, k:10, silhouette: 0.3678311769519513 , DBscore:0.7112226726520066\n",
      "metric: euclidean, method:average, truncation_mode:None, level':5, k:5, silhouette: 0.5983763114854691 , DBscore:0.5096562655321224\n",
      "metric: euclidean, method:average, truncation_mode:None, level':5, k:10, silhouette: 0.3678311769519513 , DBscore:0.7112226726520066\n",
      "metric: euclidean, method:average, truncation_mode:None, level':15, k:5, silhouette: 0.5983763114854691 , DBscore:0.5096562655321224\n",
      "metric: euclidean, method:average, truncation_mode:None, level':15, k:10, silhouette: 0.3678311769519513 , DBscore:0.7112226726520066\n",
      "metric: euclidean, method:average, truncation_mode:lastp, level':2, k:5, silhouette: 0.5983763114854691 , DBscore:0.5096562655321224\n",
      "metric: euclidean, method:average, truncation_mode:lastp, level':2, k:10, silhouette: 0.3678311769519513 , DBscore:0.7112226726520066\n",
      "metric: euclidean, method:average, truncation_mode:lastp, level':5, k:5, silhouette: 0.5983763114854691 , DBscore:0.5096562655321224\n",
      "metric: euclidean, method:average, truncation_mode:lastp, level':5, k:10, silhouette: 0.3678311769519513 , DBscore:0.7112226726520066\n",
      "metric: euclidean, method:average, truncation_mode:lastp, level':15, k:5, silhouette: 0.5983763114854691 , DBscore:0.5096562655321224\n",
      "metric: euclidean, method:average, truncation_mode:lastp, level':15, k:10, silhouette: 0.3678311769519513 , DBscore:0.7112226726520066\n",
      "metric: euclidean, method:average, truncation_mode:level, level':2, k:5, silhouette: 0.5983763114854691 , DBscore:0.5096562655321224\n",
      "metric: euclidean, method:average, truncation_mode:level, level':2, k:10, silhouette: 0.3678311769519513 , DBscore:0.7112226726520066\n",
      "metric: euclidean, method:average, truncation_mode:level, level':5, k:5, silhouette: 0.5983763114854691 , DBscore:0.5096562655321224\n",
      "metric: euclidean, method:average, truncation_mode:level, level':5, k:10, silhouette: 0.3678311769519513 , DBscore:0.7112226726520066\n",
      "metric: euclidean, method:average, truncation_mode:level, level':15, k:5, silhouette: 0.5983763114854691 , DBscore:0.5096562655321224\n",
      "metric: euclidean, method:average, truncation_mode:level, level':15, k:10, silhouette: 0.3678311769519513 , DBscore:0.7112226726520066\n",
      "metric: euclidean, method:weighted, truncation_mode:None, level':2, k:5, silhouette: 0.4419108063303447 , DBscore:0.5633757019440194\n",
      "metric: euclidean, method:weighted, truncation_mode:None, level':2, k:10, silhouette: 0.2513790635842382 , DBscore:0.91438879417829\n",
      "metric: euclidean, method:weighted, truncation_mode:None, level':5, k:5, silhouette: 0.4419108063303447 , DBscore:0.5633757019440194\n",
      "metric: euclidean, method:weighted, truncation_mode:None, level':5, k:10, silhouette: 0.2513790635842382 , DBscore:0.91438879417829\n",
      "metric: euclidean, method:weighted, truncation_mode:None, level':15, k:5, silhouette: 0.4419108063303447 , DBscore:0.5633757019440194\n",
      "metric: euclidean, method:weighted, truncation_mode:None, level':15, k:10, silhouette: 0.2513790635842382 , DBscore:0.91438879417829\n",
      "metric: euclidean, method:weighted, truncation_mode:lastp, level':2, k:5, silhouette: 0.4419108063303447 , DBscore:0.5633757019440194\n",
      "metric: euclidean, method:weighted, truncation_mode:lastp, level':2, k:10, silhouette: 0.2513790635842382 , DBscore:0.91438879417829\n",
      "metric: euclidean, method:weighted, truncation_mode:lastp, level':5, k:5, silhouette: 0.4419108063303447 , DBscore:0.5633757019440194\n",
      "metric: euclidean, method:weighted, truncation_mode:lastp, level':5, k:10, silhouette: 0.2513790635842382 , DBscore:0.91438879417829\n",
      "metric: euclidean, method:weighted, truncation_mode:lastp, level':15, k:5, silhouette: 0.4419108063303447 , DBscore:0.5633757019440194\n",
      "metric: euclidean, method:weighted, truncation_mode:lastp, level':15, k:10, silhouette: 0.2513790635842382 , DBscore:0.91438879417829\n",
      "metric: euclidean, method:weighted, truncation_mode:level, level':2, k:5, silhouette: 0.4419108063303447 , DBscore:0.5633757019440194\n",
      "metric: euclidean, method:weighted, truncation_mode:level, level':2, k:10, silhouette: 0.2513790635842382 , DBscore:0.91438879417829\n",
      "metric: euclidean, method:weighted, truncation_mode:level, level':5, k:5, silhouette: 0.4419108063303447 , DBscore:0.5633757019440194\n",
      "metric: euclidean, method:weighted, truncation_mode:level, level':5, k:10, silhouette: 0.2513790635842382 , DBscore:0.91438879417829\n",
      "metric: euclidean, method:weighted, truncation_mode:level, level':15, k:5, silhouette: 0.4419108063303447 , DBscore:0.5633757019440194\n",
      "metric: euclidean, method:weighted, truncation_mode:level, level':15, k:10, silhouette: 0.2513790635842382 , DBscore:0.91438879417829\n",
      "metric: euclidean, method:ward, truncation_mode:None, level':2, k:5, silhouette: 0.2964186709606364 , DBscore:1.3201323161652954\n",
      "metric: euclidean, method:ward, truncation_mode:None, level':2, k:10, silhouette: 0.3246539735119403 , DBscore:1.4009660667741877\n",
      "metric: euclidean, method:ward, truncation_mode:None, level':5, k:5, silhouette: 0.2964186709606364 , DBscore:1.3201323161652954\n",
      "metric: euclidean, method:ward, truncation_mode:None, level':5, k:10, silhouette: 0.3246539735119403 , DBscore:1.4009660667741877\n",
      "metric: euclidean, method:ward, truncation_mode:None, level':15, k:5, silhouette: 0.2964186709606364 , DBscore:1.3201323161652954\n",
      "metric: euclidean, method:ward, truncation_mode:None, level':15, k:10, silhouette: 0.3246539735119403 , DBscore:1.4009660667741877\n",
      "metric: euclidean, method:ward, truncation_mode:lastp, level':2, k:5, silhouette: 0.2964186709606364 , DBscore:1.3201323161652954\n",
      "metric: euclidean, method:ward, truncation_mode:lastp, level':2, k:10, silhouette: 0.3246539735119403 , DBscore:1.4009660667741877\n",
      "metric: euclidean, method:ward, truncation_mode:lastp, level':5, k:5, silhouette: 0.2964186709606364 , DBscore:1.3201323161652954\n",
      "metric: euclidean, method:ward, truncation_mode:lastp, level':5, k:10, silhouette: 0.3246539735119403 , DBscore:1.4009660667741877\n",
      "metric: euclidean, method:ward, truncation_mode:lastp, level':15, k:5, silhouette: 0.2964186709606364 , DBscore:1.3201323161652954\n",
      "metric: euclidean, method:ward, truncation_mode:lastp, level':15, k:10, silhouette: 0.3246539735119403 , DBscore:1.4009660667741877\n",
      "metric: euclidean, method:ward, truncation_mode:level, level':2, k:5, silhouette: 0.2964186709606364 , DBscore:1.3201323161652954\n",
      "metric: euclidean, method:ward, truncation_mode:level, level':2, k:10, silhouette: 0.3246539735119403 , DBscore:1.4009660667741877\n",
      "metric: euclidean, method:ward, truncation_mode:level, level':5, k:5, silhouette: 0.2964186709606364 , DBscore:1.3201323161652954\n",
      "metric: euclidean, method:ward, truncation_mode:level, level':5, k:10, silhouette: 0.3246539735119403 , DBscore:1.4009660667741877\n",
      "metric: euclidean, method:ward, truncation_mode:level, level':15, k:5, silhouette: 0.2964186709606364 , DBscore:1.3201323161652954\n",
      "metric: euclidean, method:ward, truncation_mode:level, level':15, k:10, silhouette: 0.3246539735119403 , DBscore:1.4009660667741877\n",
      "metric: euclidean, method:median, truncation_mode:None, level':2, k:5, silhouette: 0.6161184473241403 , DBscore:0.4507348245358395\n",
      "metric: euclidean, method:median, truncation_mode:None, level':2, k:10, silhouette: 0.15981399165037236 , DBscore:0.8619521693325327\n",
      "metric: euclidean, method:median, truncation_mode:None, level':5, k:5, silhouette: 0.6161184473241403 , DBscore:0.4507348245358395\n",
      "metric: euclidean, method:median, truncation_mode:None, level':5, k:10, silhouette: 0.15981399165037236 , DBscore:0.8619521693325327\n",
      "metric: euclidean, method:median, truncation_mode:None, level':15, k:5, silhouette: 0.6161184473241403 , DBscore:0.4507348245358395\n",
      "metric: euclidean, method:median, truncation_mode:None, level':15, k:10, silhouette: 0.15981399165037236 , DBscore:0.8619521693325327\n",
      "metric: euclidean, method:median, truncation_mode:lastp, level':2, k:5, silhouette: 0.6161184473241403 , DBscore:0.4507348245358395\n",
      "metric: euclidean, method:median, truncation_mode:lastp, level':2, k:10, silhouette: 0.15981399165037236 , DBscore:0.8619521693325327\n",
      "metric: euclidean, method:median, truncation_mode:lastp, level':5, k:5, silhouette: 0.6161184473241403 , DBscore:0.4507348245358395\n",
      "metric: euclidean, method:median, truncation_mode:lastp, level':5, k:10, silhouette: 0.15981399165037236 , DBscore:0.8619521693325327\n",
      "metric: euclidean, method:median, truncation_mode:lastp, level':15, k:5, silhouette: 0.6161184473241403 , DBscore:0.4507348245358395\n",
      "metric: euclidean, method:median, truncation_mode:lastp, level':15, k:10, silhouette: 0.15981399165037236 , DBscore:0.8619521693325327\n",
      "metric: euclidean, method:median, truncation_mode:level, level':2, k:5, silhouette: 0.6161184473241403 , DBscore:0.4507348245358395\n",
      "metric: euclidean, method:median, truncation_mode:level, level':2, k:10, silhouette: 0.15981399165037236 , DBscore:0.8619521693325327\n",
      "metric: euclidean, method:median, truncation_mode:level, level':5, k:5, silhouette: 0.6161184473241403 , DBscore:0.4507348245358395\n",
      "metric: euclidean, method:median, truncation_mode:level, level':5, k:10, silhouette: 0.15981399165037236 , DBscore:0.8619521693325327\n",
      "metric: euclidean, method:median, truncation_mode:level, level':15, k:5, silhouette: 0.6161184473241403 , DBscore:0.4507348245358395\n",
      "metric: euclidean, method:median, truncation_mode:level, level':15, k:10, silhouette: 0.15981399165037236 , DBscore:0.8619521693325327\n",
      "metric: euclidean, method:centroid, truncation_mode:None, level':2, k:5, silhouette: 0.6272731754698935 , DBscore:0.5755969411253022\n",
      "metric: euclidean, method:centroid, truncation_mode:None, level':2, k:10, silhouette: 0.4352423216963743 , DBscore:0.6119067238210402\n",
      "metric: euclidean, method:centroid, truncation_mode:None, level':5, k:5, silhouette: 0.6272731754698935 , DBscore:0.5755969411253022\n",
      "metric: euclidean, method:centroid, truncation_mode:None, level':5, k:10, silhouette: 0.4352423216963743 , DBscore:0.6119067238210402\n",
      "metric: euclidean, method:centroid, truncation_mode:None, level':15, k:5, silhouette: 0.6272731754698935 , DBscore:0.5755969411253022\n",
      "metric: euclidean, method:centroid, truncation_mode:None, level':15, k:10, silhouette: 0.4352423216963743 , DBscore:0.6119067238210402\n",
      "metric: euclidean, method:centroid, truncation_mode:lastp, level':2, k:5, silhouette: 0.6272731754698935 , DBscore:0.5755969411253022\n",
      "metric: euclidean, method:centroid, truncation_mode:lastp, level':2, k:10, silhouette: 0.4352423216963743 , DBscore:0.6119067238210402\n",
      "metric: euclidean, method:centroid, truncation_mode:lastp, level':5, k:5, silhouette: 0.6272731754698935 , DBscore:0.5755969411253022\n",
      "metric: euclidean, method:centroid, truncation_mode:lastp, level':5, k:10, silhouette: 0.4352423216963743 , DBscore:0.6119067238210402\n",
      "metric: euclidean, method:centroid, truncation_mode:lastp, level':15, k:5, silhouette: 0.6272731754698935 , DBscore:0.5755969411253022\n",
      "metric: euclidean, method:centroid, truncation_mode:lastp, level':15, k:10, silhouette: 0.4352423216963743 , DBscore:0.6119067238210402\n",
      "metric: euclidean, method:centroid, truncation_mode:level, level':2, k:5, silhouette: 0.6272731754698935 , DBscore:0.5755969411253022\n",
      "metric: euclidean, method:centroid, truncation_mode:level, level':2, k:10, silhouette: 0.4352423216963743 , DBscore:0.6119067238210402\n",
      "metric: euclidean, method:centroid, truncation_mode:level, level':5, k:5, silhouette: 0.6272731754698935 , DBscore:0.5755969411253022\n",
      "metric: euclidean, method:centroid, truncation_mode:level, level':5, k:10, silhouette: 0.4352423216963743 , DBscore:0.6119067238210402\n",
      "metric: euclidean, method:centroid, truncation_mode:level, level':15, k:5, silhouette: 0.6272731754698935 , DBscore:0.5755969411253022\n",
      "metric: euclidean, method:centroid, truncation_mode:level, level':15, k:10, silhouette: 0.4352423216963743 , DBscore:0.6119067238210402\n"
     ]
    }
   ],
   "source": [
    "table = []\n",
    "for metric in ['cityblock','correlation', 'cosine', 'euclidean']:\n",
    "    methods = ['complete','single','average','weighted']\n",
    "    if metric == 'euclidean':\n",
    "        methods += ['ward','median','centroid']\n",
    "    for method in methods:\n",
    "        for truncation_mode in [None, 'lastp','level']:\n",
    "            for level in [2,5,15]:\n",
    "                for k in [5, 10]:\n",
    "                    distances = pdist(df_numeric, metric=metric)\n",
    "                    dlinkage = linkage(distances, metric=metric, method=method)\n",
    "                    labels = fcluster(dlinkage,k,criterion='maxclust')\n",
    "                    current_silhouette = silhouette_score(df_numeric, labels)\n",
    "                    current_bouldin = metrics.davies_bouldin_score(df_numeric, labels)\n",
    "                    print(f\"metric: {metric}, method:{method}, truncation_mode:{truncation_mode}, level':{level}, k:{k}, silhouette: {current_silhouette} , DBscore:{current_bouldin}\")\n",
    "                    #dendrogram(dlinkage, truncate_mode=truncation_mode, p=level, leaf_rotation=90)\n",
    "                    plt.show()\n",
    "                    table.append({'metric':metric, 'method':method, 'truncation_mode': truncation_mode, 'level':level, 'k':k, 'silhouette': current_silhouette, 'DBscore':current_bouldin})\n",
    "\n",
    "df_table = pd.DataFrame(table)"
   ]
  },
  {
   "cell_type": "markdown",
   "metadata": {},
   "source": [
    "Retraining the best Hierachical clustering found    "
   ]
  },
  {
   "cell_type": "code",
   "execution_count": 24,
   "metadata": {},
   "outputs": [
    {
     "name": "stdout",
     "output_type": "stream",
     "text": [
      "metric: correlation, method:weighted, truncation_mode:level, level':5, k:5, silhouette: 0.2589355057625014 , DBscore:1.4509696821004128\n"
     ]
    },
    {
     "data": {
      "image/png": "[encoded data removed]",
      "text/plain": [
       "<Figure size 640x480 with 1 Axes>"
      ]
     },
     "metadata": {},
     "output_type": "display_data"
    }
   ],
   "source": [
    "table = []\n",
    "metric = \"correlation\"\n",
    "method = \"weighted\"\n",
    "truncation_mode = \"level\"\n",
    "level = 5\n",
    "k = 5\n",
    "\n",
    "#metric: cosine, method:average, truncation_mode:level, level':5, k:5, silhouette: 0.27780283088250923 , DBscore:1.1667198461283845\n",
    "\n",
    "distances = pdist(df_numeric, metric=metric)\n",
    "dlinkage = linkage(distances, metric=metric, method=method)\n",
    "clusters = fcluster(dlinkage,k,criterion='maxclust')\n",
    "current_silhouette = silhouette_score(df_numeric, clusters)\n",
    "current_bouldin = metrics.davies_bouldin_score(df_numeric, clusters)\n",
    "print(f\"metric: {metric}, method:{method}, truncation_mode:{truncation_mode}, level':{level}, k:{k}, silhouette: {current_silhouette} , DBscore:{current_bouldin}\")\n",
    "dendrogram(dlinkage, truncate_mode=truncation_mode, p=level, leaf_rotation=90)\n",
    "plt.show()\n",
    "table.append({'metric':metric, 'method':method, 'truncation_mode': truncation_mode, 'level':level, 'k':k, 'silhouette': current_silhouette, 'DBscore':current_bouldin})\n"
   ]
  },
  {
   "cell_type": "markdown",
   "metadata": {},
   "source": [
    "Final Model"
   ]
  },
  {
   "cell_type": "code",
   "execution_count": 25,
   "metadata": {},
   "outputs": [
    {
     "name": "stdout",
     "output_type": "stream",
     "text": [
      "cluster sizes: [772, 5018, 2697, 513, 3980]\n"
     ]
    }
   ],
   "source": [
    "n_clusters = len(np.unique(clusters))\n",
    "# Calculate list of label occurrencies for each cluster\n",
    "occ_list = []\n",
    "for k in range(1, n_clusters + 1):\n",
    "    occ_list.append(np.count_nonzero(np.array(clusters) == k))\n",
    "\n",
    "print('cluster sizes:', occ_list)"
   ]
  },
  {
   "cell_type": "markdown",
   "metadata": {},
   "source": [
    "Plot of cluster labels distribution"
   ]
  },
  {
   "cell_type": "code",
   "execution_count": 26,
   "metadata": {},
   "outputs": [
    {
     "data": {
      "image/png": "[encoded data removed]",
      "text/plain": [
       "<Figure size 640x480 with 1 Axes>"
      ]
     },
     "metadata": {},
     "output_type": "display_data"
    }
   ],
   "source": [
    "label= range(n_clusters)\n",
    "plt.pie(occ_list, labels=label, colors=sns.color_palette(n_colors=n_clusters))\n",
    "plt.show()"
   ]
  },
  {
   "cell_type": "markdown",
   "metadata": {},
   "source": [
    "We can see from distribution that the number of records are not really well distributed, we will probably test more and see what happens later."
   ]
  },
  {
   "cell_type": "markdown",
   "metadata": {},
   "source": [
    "Involve_killing or not distribution"
   ]
  },
  {
   "cell_type": "code",
   "execution_count": 27,
   "metadata": {},
   "outputs": [
    {
     "data": {
      "image/png": "[encoded data removed]",
      "text/plain": [
       "<Figure size 640x480 with 1 Axes>"
      ]
     },
     "metadata": {},
     "output_type": "display_data"
    },
    {
     "name": "stdout",
     "output_type": "stream",
     "text": [
      "involve_killing\n",
      "0    531\n",
      "1    241\n",
      "Name: count, dtype: int64\n"
     ]
    },
    {
     "data": {
      "image/png": "[encoded data removed]",
      "text/plain": [
       "<Figure size 640x480 with 1 Axes>"
      ]
     },
     "metadata": {},
     "output_type": "display_data"
    },
    {
     "name": "stdout",
     "output_type": "stream",
     "text": [
      "involve_killing\n",
      "0    4945\n",
      "1      73\n",
      "Name: count, dtype: int64\n"
     ]
    },
    {
     "data": {
      "image/png": "[encoded data removed]",
      "text/plain": [
       "<Figure size 640x480 with 1 Axes>"
      ]
     },
     "metadata": {},
     "output_type": "display_data"
    },
    {
     "name": "stdout",
     "output_type": "stream",
     "text": [
      "involve_killing\n",
      "0    2689\n",
      "1       8\n",
      "Name: count, dtype: int64\n"
     ]
    },
    {
     "data": {
      "image/png": "[encoded data removed]",
      "text/plain": [
       "<Figure size 640x480 with 1 Axes>"
      ]
     },
     "metadata": {},
     "output_type": "display_data"
    },
    {
     "name": "stdout",
     "output_type": "stream",
     "text": [
      "involve_killing\n",
      "0    353\n",
      "1    160\n",
      "Name: count, dtype: int64\n"
     ]
    },
    {
     "data": {
      "image/png": "[encoded data removed]",
      "text/plain": [
       "<Figure size 640x480 with 1 Axes>"
      ]
     },
     "metadata": {},
     "output_type": "display_data"
    },
    {
     "name": "stdout",
     "output_type": "stream",
     "text": [
      "involve_killing\n",
      "1    3581\n",
      "0     399\n",
      "Name: count, dtype: int64\n"
     ]
    }
   ],
   "source": [
    "dict_colors_involve_killing = { 1: 'teal', 0: 'sandybrown'}\n",
    "\n",
    "for k in range(1, n_clusters + 1):\n",
    "    # Get 'bot' values for elems in cluster k\n",
    "    killing_for_clust = df_categorical['involve_killing'].loc[np.array(clusters) == k].value_counts()\n",
    "    # Show pie plot\n",
    "    labels_class = ['not-killed', 'killed']\n",
    "    plt.title('Cluster: ' + str(k))\n",
    "    plt.pie(killing_for_clust, labels= killing_for_clust.index, colors=[dict_colors_involve_killing[v] for v in killing_for_clust.keys()])\n",
    "    plt.show()\n",
    "    print(killing_for_clust)"
   ]
  }
 ],
 "metadata": {
  "kernelspec": {
   "display_name": "Python 3",
   "language": "python",
   "name": "python3"
  },
  "language_info": {
   "codemirror_mode": {
    "name": "ipython",
    "version": 3
   },
   "file_extension": ".py",
   "mimetype": "text/x-python",
   "name": "python",
   "nbconvert_exporter": "python",
   "pygments_lexer": "ipython3",
   "version": "3.11.7"
  }
 },
 "nbformat": 4,
 "nbformat_minor": 2
}
