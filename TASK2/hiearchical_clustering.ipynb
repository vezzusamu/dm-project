{
 "cells": [
  {
   "cell_type": "code",
   "execution_count": 16,
   "metadata": {},
   "outputs": [],
   "source": [
    "%matplotlib inline\n",
    "import math\n",
    "import numpy as np\n",
    "import pandas as pd\n",
    "import scipy.stats as stats\n",
    "import matplotlib.pyplot as plt\n",
    "import datetime\n",
    "import random\n",
    "import seaborn as sns\n",
    "import plotly.express as px\n",
    "\n",
    "from collections import defaultdict\n",
    "from scipy.stats import pearsonr\n",
    "\n",
    "from sklearn.metrics import silhouette_score"
   ]
  },
  {
   "cell_type": "code",
   "execution_count": 17,
   "metadata": {},
   "outputs": [
    {
     "name": "stdout",
     "output_type": "stream",
     "text": [
      "<class 'pandas.core.frame.DataFrame'>\n",
      "RangeIndex: 197914 entries, 0 to 197913\n",
      "Data columns (total 41 columns):\n",
      " #   Column                            Non-Null Count   Dtype  \n",
      "---  ------                            --------------   -----  \n",
      " 0   povertyPercentage                 197914 non-null  float64\n",
      " 1   males_percentage_per_city         197914 non-null  float64\n",
      " 2   females_percentage_per_city       197914 non-null  float64\n",
      " 3   killed_percentage_per_district    197914 non-null  float64\n",
      " 4   injured_percentage_per_district   197914 non-null  float64\n",
      " 5   arrested_percentage_per_district  197914 non-null  float64\n",
      " 6   unharmed_percentage_per_district  197914 non-null  float64\n",
      " 7   killed_percentage                 197914 non-null  float64\n",
      " 8   injury_percentage                 197914 non-null  float64\n",
      " 9   arrest_percentage                 197914 non-null  float64\n",
      " 10  unharmed_rate                     197914 non-null  float64\n",
      " 11  winning_party_percentage          197914 non-null  float64\n",
      " 12  killed_rate_per_state             197914 non-null  float64\n",
      " 13  injured_rate_per_state            197914 non-null  float64\n",
      " 14  arrested_rate_per_state           197914 non-null  float64\n",
      " 15  unharmed_rate_per_state           197914 non-null  float64\n",
      " 16  avg_age_participants              197914 non-null  float64\n",
      " 17  n_participants                    197914 non-null  float64\n",
      " 18  n_participants_child              197914 non-null  int64  \n",
      " 19  n_participants_teen               197914 non-null  int64  \n",
      " 20  n_participants_adult              197914 non-null  int64  \n",
      " 21  n_males                           197914 non-null  float64\n",
      " 22  n_females                         197914 non-null  float64\n",
      " 23  n_killed                          197914 non-null  float64\n",
      " 24  n_injured                         197914 non-null  float64\n",
      " 25  n_arrested                        197914 non-null  float64\n",
      " 26  n_unharmed                        197914 non-null  float64\n",
      " 27  date                              197914 non-null  object \n",
      " 28  latitude                          197914 non-null  float64\n",
      " 29  longitude                         197914 non-null  float64\n",
      " 30  congressional_district            197914 non-null  int64  \n",
      " 31  candidatevotes                    197914 non-null  int64  \n",
      " 32  totalvotes                        197914 non-null  int64  \n",
      " 33  total_votes_for_state             197914 non-null  int64  \n",
      " 34  involve_killing                   197914 non-null  int64  \n",
      " 35  state                             197914 non-null  object \n",
      " 36  city_or_county                    197914 non-null  object \n",
      " 37  incident_characteristics1         197914 non-null  object \n",
      " 38  party                             197914 non-null  object \n",
      " 39  pc1                               197914 non-null  float64\n",
      " 40  pc2                               197914 non-null  float64\n",
      "dtypes: float64(28), int64(8), object(5)\n",
      "memory usage: 61.9+ MB\n"
     ]
    }
   ],
   "source": [
    "df = pd.read_csv('df_scaled.csv')\n",
    "df.info()"
   ]
  },
  {
   "cell_type": "code",
   "execution_count": 18,
   "metadata": {},
   "outputs": [
    {
     "name": "stdout",
     "output_type": "stream",
     "text": [
      "<class 'pandas.core.frame.DataFrame'>\n",
      "Index: 15935 entries, 1729 to 197852\n",
      "Data columns (total 41 columns):\n",
      " #   Column                            Non-Null Count  Dtype  \n",
      "---  ------                            --------------  -----  \n",
      " 0   povertyPercentage                 15935 non-null  float64\n",
      " 1   males_percentage_per_city         15935 non-null  float64\n",
      " 2   females_percentage_per_city       15935 non-null  float64\n",
      " 3   killed_percentage_per_district    15935 non-null  float64\n",
      " 4   injured_percentage_per_district   15935 non-null  float64\n",
      " 5   arrested_percentage_per_district  15935 non-null  float64\n",
      " 6   unharmed_percentage_per_district  15935 non-null  float64\n",
      " 7   killed_percentage                 15935 non-null  float64\n",
      " 8   injury_percentage                 15935 non-null  float64\n",
      " 9   arrest_percentage                 15935 non-null  float64\n",
      " 10  unharmed_rate                     15935 non-null  float64\n",
      " 11  winning_party_percentage          15935 non-null  float64\n",
      " 12  killed_rate_per_state             15935 non-null  float64\n",
      " 13  injured_rate_per_state            15935 non-null  float64\n",
      " 14  arrested_rate_per_state           15935 non-null  float64\n",
      " 15  unharmed_rate_per_state           15935 non-null  float64\n",
      " 16  avg_age_participants              15935 non-null  float64\n",
      " 17  n_participants                    15935 non-null  float64\n",
      " 18  n_participants_child              15935 non-null  int64  \n",
      " 19  n_participants_teen               15935 non-null  int64  \n",
      " 20  n_participants_adult              15935 non-null  int64  \n",
      " 21  n_males                           15935 non-null  float64\n",
      " 22  n_females                         15935 non-null  float64\n",
      " 23  n_killed                          15935 non-null  float64\n",
      " 24  n_injured                         15935 non-null  float64\n",
      " 25  n_arrested                        15935 non-null  float64\n",
      " 26  n_unharmed                        15935 non-null  float64\n",
      " 27  date                              15935 non-null  object \n",
      " 28  latitude                          15935 non-null  float64\n",
      " 29  longitude                         15935 non-null  float64\n",
      " 30  congressional_district            15935 non-null  int64  \n",
      " 31  candidatevotes                    15935 non-null  int64  \n",
      " 32  totalvotes                        15935 non-null  int64  \n",
      " 33  total_votes_for_state             15935 non-null  int64  \n",
      " 34  involve_killing                   15935 non-null  int64  \n",
      " 35  state                             15935 non-null  object \n",
      " 36  city_or_county                    15935 non-null  object \n",
      " 37  incident_characteristics1         15935 non-null  object \n",
      " 38  party                             15935 non-null  object \n",
      " 39  pc1                               15935 non-null  float64\n",
      " 40  pc2                               15935 non-null  float64\n",
      "dtypes: float64(28), int64(8), object(5)\n",
      "memory usage: 5.1+ MB\n"
     ]
    }
   ],
   "source": [
    "df = df.loc[df['state'] == 'illinois']\n",
    "df.info()"
   ]
  },
  {
   "cell_type": "code",
   "execution_count": 19,
   "metadata": {},
   "outputs": [
    {
     "data": {
      "text/plain": [
       "['n_participants',\n",
       " 'n_participants_child',\n",
       " 'n_participants_teen',\n",
       " 'n_participants_adult',\n",
       " 'n_males',\n",
       " 'n_females',\n",
       " 'n_killed',\n",
       " 'n_injured',\n",
       " 'n_arrested',\n",
       " 'n_unharmed',\n",
       " 'date',\n",
       " 'latitude',\n",
       " 'longitude',\n",
       " 'congressional_district',\n",
       " 'candidatevotes',\n",
       " 'totalvotes',\n",
       " 'total_votes_for_state',\n",
       " 'involve_killing',\n",
       " 'pc1',\n",
       " 'pc2',\n",
       " 'date',\n",
       " 'state',\n",
       " 'city_or_county',\n",
       " 'incident_characteristics1',\n",
       " 'party']"
      ]
     },
     "execution_count": 19,
     "metadata": {},
     "output_type": "execute_result"
    }
   ],
   "source": [
    "column_to_drop = ['n_participants','n_participants_child', 'n_participants_teen',\n",
    "       'n_participants_adult', 'n_males', 'n_females', 'n_killed', 'n_injured',\n",
    "       'n_arrested', 'n_unharmed','date', 'latitude', 'longitude','congressional_district', 'candidatevotes', 'totalvotes', 'total_votes_for_state', 'involve_killing', 'pc1', 'pc2']\n",
    "for col in df.columns:\n",
    "    if df[col].dtype == 'object':\n",
    "       column_to_drop.append(col)\n",
    "column_to_drop"
   ]
  },
  {
   "cell_type": "code",
   "execution_count": 20,
   "metadata": {},
   "outputs": [],
   "source": [
    "df_categorical = df[column_to_drop]\n",
    "df_numeric = df.drop(columns=column_to_drop)"
   ]
  },
  {
   "cell_type": "code",
   "execution_count": 21,
   "metadata": {},
   "outputs": [
    {
     "name": "stdout",
     "output_type": "stream",
     "text": [
      "<class 'pandas.core.frame.DataFrame'>\n",
      "Index: 15935 entries, 1729 to 197852\n",
      "Data columns (total 25 columns):\n",
      " #   Column                     Non-Null Count  Dtype  \n",
      "---  ------                     --------------  -----  \n",
      " 0   n_participants             15935 non-null  float64\n",
      " 1   n_participants_child       15935 non-null  int64  \n",
      " 2   n_participants_teen        15935 non-null  int64  \n",
      " 3   n_participants_adult       15935 non-null  int64  \n",
      " 4   n_males                    15935 non-null  float64\n",
      " 5   n_females                  15935 non-null  float64\n",
      " 6   n_killed                   15935 non-null  float64\n",
      " 7   n_injured                  15935 non-null  float64\n",
      " 8   n_arrested                 15935 non-null  float64\n",
      " 9   n_unharmed                 15935 non-null  float64\n",
      " 10  date                       15935 non-null  object \n",
      " 11  latitude                   15935 non-null  float64\n",
      " 12  longitude                  15935 non-null  float64\n",
      " 13  congressional_district     15935 non-null  int64  \n",
      " 14  candidatevotes             15935 non-null  int64  \n",
      " 15  totalvotes                 15935 non-null  int64  \n",
      " 16  total_votes_for_state      15935 non-null  int64  \n",
      " 17  involve_killing            15935 non-null  int64  \n",
      " 18  pc1                        15935 non-null  float64\n",
      " 19  pc2                        15935 non-null  float64\n",
      " 20  date                       15935 non-null  object \n",
      " 21  state                      15935 non-null  object \n",
      " 22  city_or_county             15935 non-null  object \n",
      " 23  incident_characteristics1  15935 non-null  object \n",
      " 24  party                      15935 non-null  object \n",
      "dtypes: float64(11), int64(8), object(6)\n",
      "memory usage: 3.2+ MB\n",
      "<class 'pandas.core.frame.DataFrame'>\n",
      "Index: 15935 entries, 1729 to 197852\n",
      "Data columns (total 17 columns):\n",
      " #   Column                            Non-Null Count  Dtype  \n",
      "---  ------                            --------------  -----  \n",
      " 0   povertyPercentage                 15935 non-null  float64\n",
      " 1   males_percentage_per_city         15935 non-null  float64\n",
      " 2   females_percentage_per_city       15935 non-null  float64\n",
      " 3   killed_percentage_per_district    15935 non-null  float64\n",
      " 4   injured_percentage_per_district   15935 non-null  float64\n",
      " 5   arrested_percentage_per_district  15935 non-null  float64\n",
      " 6   unharmed_percentage_per_district  15935 non-null  float64\n",
      " 7   killed_percentage                 15935 non-null  float64\n",
      " 8   injury_percentage                 15935 non-null  float64\n",
      " 9   arrest_percentage                 15935 non-null  float64\n",
      " 10  unharmed_rate                     15935 non-null  float64\n",
      " 11  winning_party_percentage          15935 non-null  float64\n",
      " 12  killed_rate_per_state             15935 non-null  float64\n",
      " 13  injured_rate_per_state            15935 non-null  float64\n",
      " 14  arrested_rate_per_state           15935 non-null  float64\n",
      " 15  unharmed_rate_per_state           15935 non-null  float64\n",
      " 16  avg_age_participants              15935 non-null  float64\n",
      "dtypes: float64(17)\n",
      "memory usage: 2.2 MB\n"
     ]
    }
   ],
   "source": [
    "df_categorical.info()\n",
    "df_numeric.info()"
   ]
  },
  {
   "cell_type": "markdown",
   "metadata": {},
   "source": [
    "# Hierarchical clustering (Agglomerative)"
   ]
  },
  {
   "cell_type": "code",
   "execution_count": 22,
   "metadata": {},
   "outputs": [],
   "source": [
    "from scipy.cluster.hierarchy import linkage, dendrogram, fcluster\n",
    "from scipy.spatial.distance import pdist, squareform\n",
    "from tqdm import tqdm\n",
    "from sklearn import metrics"
   ]
  },
  {
   "cell_type": "code",
   "execution_count": 25,
   "metadata": {},
   "outputs": [],
   "source": [
    "table = []\n",
    "for metric in ['cityblock','correlation', 'cosine', 'dice', 'euclidean']:\n",
    "    methods = ['complete','single','average','weighted']\n",
    "    if metric == 'euclidean':\n",
    "        methods += ['ward','median','centroid']\n",
    "    for method in methods:\n",
    "        for truncation_mode in [None, 'lastp','level']:\n",
    "            for level in [2,5,10,15]:\n",
    "                for k in [6, 7,8,9,10]:\n",
    "                    distances = pdist(df_numeric, metric=metric)\n",
    "                    dlinkage = linkage(distances, metric=metric, method=method)\n",
    "                    labels = fcluster(dlinkage,k,criterion='maxclust')\n",
    "                    dendrogram(dlinkage, truncate_mode=truncation_mode, p=level, leaf_rotation=90)\n",
    "                    plt.show()\n",
    "                    table.append({'metric':metric, 'method':method, 'truncation_mode': truncation_mode, 'level':level, 'k':k, 'silhouette': silhouette_score(df_numeric, labels), 'DBscore':metrics.davies_bouldin_score(df_numeric, labels)})\n",
    "\n",
    "pd.DataFrame(table)"
   ]
  },
  {
   "cell_type": "code",
   "execution_count": null,
   "metadata": {},
   "outputs": [],
   "source": [
    "\n",
    "\"\"\" scatterplot(df[numeric_attributes+['pc1','pc2']], 'pc1','pc2',c_labels=labels,filename=os.path.join('hierarchical',directory, 'scatterplot.png'))\n",
    "\n",
    "plots(df, labels, os.path.join('hierarchical',directory), attributes=numeric_attributes) \"\"\"\n"
   ]
  }
 ],
 "metadata": {
  "kernelspec": {
   "display_name": "Python 3",
   "language": "python",
   "name": "python3"
  },
  "language_info": {
   "codemirror_mode": {
    "name": "ipython",
    "version": 3
   },
   "file_extension": ".py",
   "mimetype": "text/x-python",
   "name": "python",
   "nbconvert_exporter": "python",
   "pygments_lexer": "ipython3",
   "version": "3.10.0"
  }
 },
 "nbformat": 4,
 "nbformat_minor": 2
}
