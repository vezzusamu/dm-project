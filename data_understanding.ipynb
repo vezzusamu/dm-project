{
  "cells": [
    {
      "cell_type": "markdown",
      "metadata": {
        "id": "bJNHMyC4KxiI"
      },
      "source": [
        "We import the libraries necessary to analize data"
      ]
    },
    {
      "cell_type": "code",
      "execution_count": 171,
      "metadata": {
        "id": "AfbXoN--jsUE"
      },
      "outputs": [],
      "source": [
        "%matplotlib inline\n",
        "import math\n",
        "import numpy as np\n",
        "import pandas as pd\n",
        "import scipy.stats as stats\n",
        "import matplotlib.pyplot as plt\n",
        "\n",
        "from collections import defaultdict\n",
        "from scipy.stats import pearsonr"
      ]
    },
    {
      "cell_type": "markdown",
      "metadata": {
        "id": "zB-UgdvVLMmN"
      },
      "source": [
        "We import the csv files"
      ]
    },
    {
      "cell_type": "code",
      "execution_count": 172,
      "metadata": {
        "colab": {
          "base_uri": "https://localhost:8080/",
          "height": 417
        },
        "id": "VaVFyEPhjsUH",
        "outputId": "41f638a7-d5ef-4b50-cc80-2e5db5fc6b1b"
      },
      "outputs": [
        {
          "name": "stdout",
          "output_type": "stream",
          "text": [
            "<class 'pandas.core.frame.DataFrame'>\n",
            "RangeIndex: 239677 entries, 0 to 239676\n",
            "Data columns (total 28 columns):\n",
            " #   Column                     Non-Null Count   Dtype  \n",
            "---  ------                     --------------   -----  \n",
            " 0   date                       239677 non-null  object \n",
            " 1   state                      239677 non-null  object \n",
            " 2   city_or_county             239677 non-null  object \n",
            " 3   address                    223180 non-null  object \n",
            " 4   latitude                   231754 non-null  float64\n",
            " 5   longitude                  231754 non-null  float64\n",
            " 6   congressional_district     227733 non-null  float64\n",
            " 7   state_house_district       200905 non-null  float64\n",
            " 8   state_senate_district      207342 non-null  float64\n",
            " 9   participant_age1           147379 non-null  float64\n",
            " 10  participant_age_group1     197558 non-null  object \n",
            " 11  participant_gender1        203315 non-null  object \n",
            " 12  min_age_participants       164879 non-null  object \n",
            " 13  avg_age_participants       165057 non-null  object \n",
            " 14  max_age_participants       164969 non-null  object \n",
            " 15  n_participants_child       197573 non-null  object \n",
            " 16  n_participants_teen        197578 non-null  object \n",
            " 17  n_participants_adult       197575 non-null  object \n",
            " 18  n_males                    203315 non-null  float64\n",
            " 19  n_females                  203315 non-null  float64\n",
            " 20  n_killed                   239677 non-null  int64  \n",
            " 21  n_injured                  239677 non-null  int64  \n",
            " 22  n_arrested                 212051 non-null  float64\n",
            " 23  n_unharmed                 212051 non-null  float64\n",
            " 24  n_participants             239677 non-null  float64\n",
            " 25  notes                      158660 non-null  object \n",
            " 26  incident_characteristics1  239351 non-null  object \n",
            " 27  incident_characteristics2  141931 non-null  object \n",
            "dtypes: float64(11), int64(2), object(15)\n",
            "memory usage: 51.2+ MB\n"
          ]
        }
      ],
      "source": [
        "df = pd.read_csv('incidents.csv', low_memory=False, sep=',') #alternative in case of json source df.to_json('filename.json')\n",
        "df\n",
        "df.columns\n",
        "df.info()\n"
      ]
    },
    {
      "cell_type": "code",
      "execution_count": 173,
      "metadata": {
        "colab": {
          "base_uri": "https://localhost:8080/"
        },
        "id": "smCujC0YjsUJ",
        "outputId": "522711c7-779e-4133-93a9-ae4109c82f21"
      },
      "outputs": [
        {
          "name": "stdout",
          "output_type": "stream",
          "text": [
            "<class 'pandas.core.frame.DataFrame'>\n",
            "RangeIndex: 239677 entries, 0 to 239676\n",
            "Data columns (total 28 columns):\n",
            " #   Column                     Non-Null Count   Dtype         \n",
            "---  ------                     --------------   -----         \n",
            " 0   date                       239676 non-null  datetime64[ns]\n",
            " 1   state                      239676 non-null  string        \n",
            " 2   city_or_county             239676 non-null  string        \n",
            " 3   address                    223179 non-null  string        \n",
            " 4   latitude                   231753 non-null  float64       \n",
            " 5   longitude                  231753 non-null  float64       \n",
            " 6   congressional_district     227732 non-null  Int64         \n",
            " 7   state_house_district       200904 non-null  Int64         \n",
            " 8   state_senate_district      207341 non-null  Int64         \n",
            " 9   participant_age1           147378 non-null  Int64         \n",
            " 10  participant_age_group1     197557 non-null  string        \n",
            " 11  participant_gender1        203314 non-null  string        \n",
            " 12  min_age_participants       159125 non-null  Int64         \n",
            " 13  avg_age_participants       159167 non-null  float64       \n",
            " 14  max_age_participants       159083 non-null  Int64         \n",
            " 15  n_participants_child       197567 non-null  Int64         \n",
            " 16  n_participants_teen        197570 non-null  Int64         \n",
            " 17  n_participants_adult       197571 non-null  Int64         \n",
            " 18  n_males                    203314 non-null  Int64         \n",
            " 19  n_females                  203314 non-null  Int64         \n",
            " 20  n_killed                   239676 non-null  Int64         \n",
            " 21  n_injured                  239676 non-null  Int64         \n",
            " 22  n_arrested                 212050 non-null  Int64         \n",
            " 23  n_unharmed                 212050 non-null  Int64         \n",
            " 24  n_participants             239676 non-null  Int64         \n",
            " 25  notes                      158659 non-null  string        \n",
            " 26  incident_characteristics1  239350 non-null  string        \n",
            " 27  incident_characteristics2  141930 non-null  string        \n",
            "dtypes: Int64(16), datetime64[ns](1), float64(3), string(8)\n",
            "memory usage: 54.9 MB\n"
          ]
        }
      ],
      "source": [
        "df[\"date\"] = df[\"date\"].astype(\"datetime64[ns]\")\n",
        "df[\"state\"] = df[\"state\"].astype(\"string\")\n",
        "df[\"city_or_county\"] = df[\"city_or_county\"].astype(\"string\")\n",
        "df[\"address\"] = df[\"address\"].astype(\"string\")\n",
        "df[\"congressional_district\"] = df[\"congressional_district\"].astype(\"Int64\")\n",
        "df[\"state_house_district\"] = df[\"state_house_district\"].astype(\"Int64\")\n",
        "df[\"state_senate_district\"] = df[\"state_senate_district\"].astype(\"Int64\")\n",
        "df[\"participant_age1\"] = df[\"participant_age1\"].astype(\"Int64\")\n",
        "df[\"min_age_participants\"] = pd.to_numeric(df[\"min_age_participants\"], errors=\"coerce\").astype(\"Int64\")\n",
        "df[\"max_age_participants\"] = pd.to_numeric(df[\"max_age_participants\"], errors=\"coerce\").astype(\"Int64\")\n",
        "df[\"avg_age_participants\"] = pd.to_numeric(df[\"avg_age_participants\"], errors=\"coerce\").astype(\"float64\")\n",
        "df[df['participant_gender1'] == 'Male, female'] = np.nan\n",
        "df[\"participant_gender1\"] = df[\"participant_gender1\"].astype(\"string\")\n",
        "df[\"participant_age_group1\"] = df[\"participant_age_group1\"].astype(\"string\")\n",
        "df[\"n_participants_teen\"] = pd.to_numeric(df[\"n_participants_teen\"], errors=\"coerce\").astype(\"Int64\")\n",
        "df[\"n_participants_child\"] = pd.to_numeric(df[\"n_participants_child\"], errors=\"coerce\").astype(\"Int64\")\n",
        "df[\"n_participants_adult\"] = pd.to_numeric(df[\"n_participants_adult\"], errors=\"coerce\").astype(\"Int64\")\n",
        "df[\"n_males\"] = pd.to_numeric(df[\"n_males\"], errors=\"coerce\").astype(\"Int64\")\n",
        "df[\"n_females\"] = pd.to_numeric(df[\"n_females\"], errors=\"coerce\").astype(\"Int64\")\n",
        "df[\"n_killed\"] = pd.to_numeric(df[\"n_killed\"], errors=\"coerce\").astype(\"Int64\")\n",
        "df[\"n_injured\"] = pd.to_numeric(df[\"n_injured\"], errors=\"coerce\").astype(\"Int64\")\n",
        "df[\"n_arrested\"] = pd.to_numeric(df[\"n_arrested\"], errors=\"coerce\").astype(\"Int64\")\n",
        "df[\"n_unharmed\"] = pd.to_numeric(df[\"n_unharmed\"], errors=\"coerce\").astype(\"Int64\")\n",
        "df[\"n_participants\"] = pd.to_numeric(df[\"n_participants\"], errors=\"coerce\").astype(\"Int64\")\n",
        "df[\"notes\"] = df[\"notes\"].astype(\"string\")\n",
        "df[\"incident_characteristics1\"] = df[\"incident_characteristics1\"].astype(\"string\")\n",
        "df[\"incident_characteristics2\"] = df[\"incident_characteristics2\"].astype(\"string\")\n",
        "df.info()"
      ]
    },
    {
      "cell_type": "code",
      "execution_count": 174,
      "metadata": {},
      "outputs": [
        {
          "name": "stdout",
          "output_type": "stream",
          "text": [
            "<class 'pandas.core.frame.DataFrame'>\n",
            "Int64Index: 239676 entries, 0 to 239676\n",
            "Data columns (total 28 columns):\n",
            " #   Column                     Non-Null Count   Dtype         \n",
            "---  ------                     --------------   -----         \n",
            " 0   date                       239676 non-null  datetime64[ns]\n",
            " 1   state                      239676 non-null  string        \n",
            " 2   city_or_county             239676 non-null  string        \n",
            " 3   address                    223179 non-null  string        \n",
            " 4   latitude                   231753 non-null  float64       \n",
            " 5   longitude                  231753 non-null  float64       \n",
            " 6   congressional_district     227732 non-null  Int64         \n",
            " 7   state_house_district       200904 non-null  Int64         \n",
            " 8   state_senate_district      207341 non-null  Int64         \n",
            " 9   participant_age1           147378 non-null  Int64         \n",
            " 10  participant_age_group1     197557 non-null  string        \n",
            " 11  participant_gender1        203314 non-null  string        \n",
            " 12  min_age_participants       159125 non-null  Int64         \n",
            " 13  avg_age_participants       159167 non-null  float64       \n",
            " 14  max_age_participants       159083 non-null  Int64         \n",
            " 15  n_participants_child       197567 non-null  Int64         \n",
            " 16  n_participants_teen        197570 non-null  Int64         \n",
            " 17  n_participants_adult       197571 non-null  Int64         \n",
            " 18  n_males                    203314 non-null  Int64         \n",
            " 19  n_females                  203314 non-null  Int64         \n",
            " 20  n_killed                   239676 non-null  Int64         \n",
            " 21  n_injured                  239676 non-null  Int64         \n",
            " 22  n_arrested                 212050 non-null  Int64         \n",
            " 23  n_unharmed                 212050 non-null  Int64         \n",
            " 24  n_participants             239676 non-null  Int64         \n",
            " 25  notes                      158659 non-null  string        \n",
            " 26  incident_characteristics1  239350 non-null  string        \n",
            " 27  incident_characteristics2  141930 non-null  string        \n",
            "dtypes: Int64(16), datetime64[ns](1), float64(3), string(8)\n",
            "memory usage: 56.7 MB\n"
          ]
        }
      ],
      "source": [
        "#Deleting the rows with all Nan values\n",
        "df.dropna(how='all', inplace=True)\n",
        "df.info()"
      ]
    },
    {
      "cell_type": "code",
      "execution_count": 175,
      "metadata": {
        "colab": {
          "base_uri": "https://localhost:8080/"
        },
        "id": "JcL2RjHvjsUL",
        "outputId": "2065912d-33cb-4fbf-821e-3f60f36f0e0e"
      },
      "outputs": [
        {
          "name": "stdout",
          "output_type": "stream",
          "text": [
            "<class 'pandas.core.frame.DataFrame'>\n",
            "RangeIndex: 884 entries, 0 to 883\n",
            "Data columns (total 3 columns):\n",
            " #   Column             Non-Null Count  Dtype  \n",
            "---  ------             --------------  -----  \n",
            " 0   state              884 non-null    object \n",
            " 1   year               884 non-null    int64  \n",
            " 2   povertyPercentage  832 non-null    float64\n",
            "dtypes: float64(1), int64(1), object(1)\n",
            "memory usage: 20.8+ KB\n"
          ]
        }
      ],
      "source": [
        "poverty_df = pd.read_csv('povertyByStateYear.csv', sep=',')\n",
        "poverty_df.info()"
      ]
    },
    {
      "cell_type": "code",
      "execution_count": 176,
      "metadata": {
        "id": "lzw2gs80jsUN"
      },
      "outputs": [],
      "source": [
        "poverty_df[\"state\"] = poverty_df[\"state\"].astype(\"string\")\n",
        "poverty_df[\"year\"] = poverty_df[\"year\"].astype(\"Int64\")"
      ]
    },
    {
      "cell_type": "code",
      "execution_count": 177,
      "metadata": {
        "colab": {
          "base_uri": "https://localhost:8080/"
        },
        "id": "FsRZfePSjsUN",
        "outputId": "9cd61cf0-5072-4586-bebb-af1343f2f492"
      },
      "outputs": [
        {
          "name": "stdout",
          "output_type": "stream",
          "text": [
            "<class 'pandas.core.frame.DataFrame'>\n",
            "RangeIndex: 10441 entries, 0 to 10440\n",
            "Data columns (total 6 columns):\n",
            " #   Column                  Non-Null Count  Dtype \n",
            "---  ------                  --------------  ----- \n",
            " 0   year                    10441 non-null  int64 \n",
            " 1   state                   10441 non-null  object\n",
            " 2   congressional_district  10441 non-null  int64 \n",
            " 3   party                   10441 non-null  object\n",
            " 4   candidatevotes          10441 non-null  int64 \n",
            " 5   totalvotes              10441 non-null  int64 \n",
            "dtypes: int64(4), object(2)\n",
            "memory usage: 489.5+ KB\n"
          ]
        }
      ],
      "source": [
        "district_in_state_df = pd.read_csv('year_state_district_house.csv', sep=',')\n",
        "district_in_state_df.info()"
      ]
    },
    {
      "cell_type": "code",
      "execution_count": 178,
      "metadata": {
        "id": "DJa0SFqEjsUO"
      },
      "outputs": [],
      "source": [
        "district_in_state_df[\"state\"] = district_in_state_df[\"state\"].astype(\"string\")\n",
        "district_in_state_df[\"year\"] = district_in_state_df[\"year\"].astype(\"Int64\")\n",
        "district_in_state_df[\"congressional_district\"] = district_in_state_df[\"congressional_district\"].astype(\"Int64\")\n",
        "district_in_state_df[\"party\"] = district_in_state_df[\"party\"].astype(\"string\")\n",
        "district_in_state_df[\"candidatevotes\"] = district_in_state_df[\"candidatevotes\"].astype(\"Int64\")\n",
        "district_in_state_df[\"totalvotes\"] = district_in_state_df[\"totalvotes\"].astype(\"Int64\")"
      ]
    },
    {
      "cell_type": "code",
      "execution_count": 179,
      "metadata": {
        "id": "YAcGjsPIjsUP"
      },
      "outputs": [],
      "source": [
        "#count number of rows where address has value\n",
        "#df[df['n_participants_teen'] == -854]\n",
        "#df[(df['participant_age1']).notna() == False]\n",
        "df.loc[(df[\"avg_age_participants\"] > 120) | (df[\"avg_age_participants\"] < 0), \"avg_age_participants\"] = np.nan\n",
        "df.loc[(df[\"min_age_participants\"] > 120) | (df[\"min_age_participants\"] < 0), \"min_age_participants\"] = np.nan\n",
        "df.loc[(df[\"max_age_participants\"] > 120) | (df[\"max_age_participants\"] < 0), \"max_age_participants\"] = np.nan\n",
        "df.loc[(df[\"participant_age1\"] > 120) | (df[\"participant_age1\"] < 0), \"participant_age1\"] = np.nan\n",
        "\n",
        "#df[(df['participant_age1']).notna() == False & ((df['avg_age_participants'] < 0) | (df['avg_age_participants'] > 120)) ][[\"avg_age_participants\",\"max_age_participants\",\"participant_age1\",\"min_age_participants\",\"notes\"]]"
      ]
    },
    {
      "cell_type": "code",
      "execution_count": 180,
      "metadata": {
        "colab": {
          "base_uri": "https://localhost:8080/",
          "height": 982
        },
        "id": "pvaz9HpJjsUQ",
        "outputId": "8cadf0e3-6bf9-4121-cca9-4939f8597618"
      },
      "outputs": [
        {
          "data": {
            "text/html": [
              "<div>\n",
              "<style scoped>\n",
              "    .dataframe tbody tr th:only-of-type {\n",
              "        vertical-align: middle;\n",
              "    }\n",
              "\n",
              "    .dataframe tbody tr th {\n",
              "        vertical-align: top;\n",
              "    }\n",
              "\n",
              "    .dataframe thead th {\n",
              "        text-align: right;\n",
              "    }\n",
              "</style>\n",
              "<table border=\"1\" class=\"dataframe\">\n",
              "  <thead>\n",
              "    <tr style=\"text-align: right;\">\n",
              "      <th></th>\n",
              "      <th>date</th>\n",
              "      <th>state</th>\n",
              "      <th>city_or_county</th>\n",
              "      <th>address</th>\n",
              "      <th>latitude</th>\n",
              "      <th>longitude</th>\n",
              "      <th>congressional_district</th>\n",
              "      <th>state_house_district</th>\n",
              "      <th>state_senate_district</th>\n",
              "      <th>participant_age1</th>\n",
              "      <th>...</th>\n",
              "      <th>n_males</th>\n",
              "      <th>n_females</th>\n",
              "      <th>n_killed</th>\n",
              "      <th>n_injured</th>\n",
              "      <th>n_arrested</th>\n",
              "      <th>n_unharmed</th>\n",
              "      <th>n_participants</th>\n",
              "      <th>notes</th>\n",
              "      <th>incident_characteristics1</th>\n",
              "      <th>incident_characteristics2</th>\n",
              "    </tr>\n",
              "  </thead>\n",
              "  <tbody>\n",
              "    <tr>\n",
              "      <th>0</th>\n",
              "      <td>2015-05-02</td>\n",
              "      <td>Indiana</td>\n",
              "      <td>Indianapolis</td>\n",
              "      <td>Lafayette Road and Pike Plaza</td>\n",
              "      <td>39.8322</td>\n",
              "      <td>-86.2492</td>\n",
              "      <td>7</td>\n",
              "      <td>94</td>\n",
              "      <td>33</td>\n",
              "      <td>19</td>\n",
              "      <td>...</td>\n",
              "      <td>1</td>\n",
              "      <td>0</td>\n",
              "      <td>0</td>\n",
              "      <td>1</td>\n",
              "      <td>0</td>\n",
              "      <td>0</td>\n",
              "      <td>1</td>\n",
              "      <td>Teen wounded while walking - Security guard at...</td>\n",
              "      <td>Shot - Wounded/Injured</td>\n",
              "      <td>&lt;NA&gt;</td>\n",
              "    </tr>\n",
              "    <tr>\n",
              "      <th>1</th>\n",
              "      <td>2017-04-03</td>\n",
              "      <td>Pennsylvania</td>\n",
              "      <td>Kane</td>\n",
              "      <td>5647 US 6</td>\n",
              "      <td>41.6645</td>\n",
              "      <td>-78.7856</td>\n",
              "      <td>5</td>\n",
              "      <td>&lt;NA&gt;</td>\n",
              "      <td>&lt;NA&gt;</td>\n",
              "      <td>62</td>\n",
              "      <td>...</td>\n",
              "      <td>1</td>\n",
              "      <td>0</td>\n",
              "      <td>1</td>\n",
              "      <td>0</td>\n",
              "      <td>0</td>\n",
              "      <td>0</td>\n",
              "      <td>1</td>\n",
              "      <td>shot self after accident</td>\n",
              "      <td>Shot - Dead (murder, accidental, suicide)</td>\n",
              "      <td>Suicide^</td>\n",
              "    </tr>\n",
              "    <tr>\n",
              "      <th>2</th>\n",
              "      <td>2016-11-05</td>\n",
              "      <td>Michigan</td>\n",
              "      <td>Detroit</td>\n",
              "      <td>6200 Block of East McNichols Road</td>\n",
              "      <td>42.4190</td>\n",
              "      <td>-83.0393</td>\n",
              "      <td>14</td>\n",
              "      <td>4</td>\n",
              "      <td>2</td>\n",
              "      <td>&lt;NA&gt;</td>\n",
              "      <td>...</td>\n",
              "      <td>&lt;NA&gt;</td>\n",
              "      <td>&lt;NA&gt;</td>\n",
              "      <td>0</td>\n",
              "      <td>1</td>\n",
              "      <td>0</td>\n",
              "      <td>1</td>\n",
              "      <td>2</td>\n",
              "      <td>1 inj.</td>\n",
              "      <td>Shot - Wounded/Injured</td>\n",
              "      <td>&lt;NA&gt;</td>\n",
              "    </tr>\n",
              "    <tr>\n",
              "      <th>3</th>\n",
              "      <td>2016-10-15</td>\n",
              "      <td>District of Columbia</td>\n",
              "      <td>Washington</td>\n",
              "      <td>1000 block of Bladensburg Road, NE</td>\n",
              "      <td>38.9030</td>\n",
              "      <td>-76.9820</td>\n",
              "      <td>1</td>\n",
              "      <td>&lt;NA&gt;</td>\n",
              "      <td>&lt;NA&gt;</td>\n",
              "      <td>&lt;NA&gt;</td>\n",
              "      <td>...</td>\n",
              "      <td>1</td>\n",
              "      <td>0</td>\n",
              "      <td>0</td>\n",
              "      <td>1</td>\n",
              "      <td>0</td>\n",
              "      <td>0</td>\n",
              "      <td>2</td>\n",
              "      <td>&lt;NA&gt;</td>\n",
              "      <td>Shot - Wounded/Injured</td>\n",
              "      <td>&lt;NA&gt;</td>\n",
              "    </tr>\n",
              "    <tr>\n",
              "      <th>4</th>\n",
              "      <td>2030-06-14</td>\n",
              "      <td>Pennsylvania</td>\n",
              "      <td>Pittsburgh</td>\n",
              "      <td>California and Marshall Avenues</td>\n",
              "      <td>40.4621</td>\n",
              "      <td>-80.0308</td>\n",
              "      <td>14</td>\n",
              "      <td>&lt;NA&gt;</td>\n",
              "      <td>&lt;NA&gt;</td>\n",
              "      <td>&lt;NA&gt;</td>\n",
              "      <td>...</td>\n",
              "      <td>1</td>\n",
              "      <td>0</td>\n",
              "      <td>0</td>\n",
              "      <td>1</td>\n",
              "      <td>0</td>\n",
              "      <td>1</td>\n",
              "      <td>2</td>\n",
              "      <td>&lt;NA&gt;</td>\n",
              "      <td>Shot - Wounded/Injured</td>\n",
              "      <td>Drive-by (car to street, car to car)</td>\n",
              "    </tr>\n",
              "    <tr>\n",
              "      <th>...</th>\n",
              "      <td>...</td>\n",
              "      <td>...</td>\n",
              "      <td>...</td>\n",
              "      <td>...</td>\n",
              "      <td>...</td>\n",
              "      <td>...</td>\n",
              "      <td>...</td>\n",
              "      <td>...</td>\n",
              "      <td>...</td>\n",
              "      <td>...</td>\n",
              "      <td>...</td>\n",
              "      <td>...</td>\n",
              "      <td>...</td>\n",
              "      <td>...</td>\n",
              "      <td>...</td>\n",
              "      <td>...</td>\n",
              "      <td>...</td>\n",
              "      <td>...</td>\n",
              "      <td>...</td>\n",
              "      <td>...</td>\n",
              "      <td>...</td>\n",
              "    </tr>\n",
              "    <tr>\n",
              "      <th>239672</th>\n",
              "      <td>2016-01-11</td>\n",
              "      <td>Tennessee</td>\n",
              "      <td>Murfreesboro</td>\n",
              "      <td>Hazelwood Street</td>\n",
              "      <td>35.8624</td>\n",
              "      <td>-86.3695</td>\n",
              "      <td>4</td>\n",
              "      <td>37</td>\n",
              "      <td>14</td>\n",
              "      <td>&lt;NA&gt;</td>\n",
              "      <td>...</td>\n",
              "      <td>1</td>\n",
              "      <td>0</td>\n",
              "      <td>0</td>\n",
              "      <td>1</td>\n",
              "      <td>0</td>\n",
              "      <td>0</td>\n",
              "      <td>1</td>\n",
              "      <td>Tried to grab gun as it fell, shot self in foot.</td>\n",
              "      <td>Shot - Wounded/Injured</td>\n",
              "      <td>Non-Aggression Incident</td>\n",
              "    </tr>\n",
              "    <tr>\n",
              "      <th>239673</th>\n",
              "      <td>2029-01-01</td>\n",
              "      <td>New York</td>\n",
              "      <td>Troy</td>\n",
              "      <td>Pawling and Plum Avenues</td>\n",
              "      <td>42.7043</td>\n",
              "      <td>-73.6590</td>\n",
              "      <td>20</td>\n",
              "      <td>108</td>\n",
              "      <td>44</td>\n",
              "      <td>&lt;NA&gt;</td>\n",
              "      <td>...</td>\n",
              "      <td>2</td>\n",
              "      <td>0</td>\n",
              "      <td>0</td>\n",
              "      <td>0</td>\n",
              "      <td>0</td>\n",
              "      <td>3</td>\n",
              "      <td>3</td>\n",
              "      <td>&lt;NA&gt;</td>\n",
              "      <td>Armed robbery with injury/death and/or evidenc...</td>\n",
              "      <td>&lt;NA&gt;</td>\n",
              "    </tr>\n",
              "    <tr>\n",
              "      <th>239674</th>\n",
              "      <td>2017-08-17</td>\n",
              "      <td>Tennessee</td>\n",
              "      <td>Memphis</td>\n",
              "      <td>Barron Ave and Pendleton St</td>\n",
              "      <td>35.1007</td>\n",
              "      <td>-89.9700</td>\n",
              "      <td>9</td>\n",
              "      <td>93</td>\n",
              "      <td>33</td>\n",
              "      <td>58</td>\n",
              "      <td>...</td>\n",
              "      <td>1</td>\n",
              "      <td>0</td>\n",
              "      <td>0</td>\n",
              "      <td>1</td>\n",
              "      <td>0</td>\n",
              "      <td>0</td>\n",
              "      <td>1</td>\n",
              "      <td>Orange Mound, man shot</td>\n",
              "      <td>Shot - Wounded/Injured</td>\n",
              "      <td>&lt;NA&gt;</td>\n",
              "    </tr>\n",
              "    <tr>\n",
              "      <th>239675</th>\n",
              "      <td>2016-06-07</td>\n",
              "      <td>Colorado</td>\n",
              "      <td>Colorado Springs</td>\n",
              "      <td>601 Prospect Lake Drive</td>\n",
              "      <td>38.8251</td>\n",
              "      <td>-104.8020</td>\n",
              "      <td>5</td>\n",
              "      <td>18</td>\n",
              "      <td>11</td>\n",
              "      <td>68</td>\n",
              "      <td>...</td>\n",
              "      <td>2</td>\n",
              "      <td>0</td>\n",
              "      <td>0</td>\n",
              "      <td>0</td>\n",
              "      <td>1</td>\n",
              "      <td>1</td>\n",
              "      <td>2</td>\n",
              "      <td>Record ID 22972 on Colorado Springs Police Dep...</td>\n",
              "      <td>Non-Shooting Incident</td>\n",
              "      <td>Possession of gun by felon or prohibited person</td>\n",
              "    </tr>\n",
              "    <tr>\n",
              "      <th>239676</th>\n",
              "      <td>2016-06-12</td>\n",
              "      <td>Pennsylvania</td>\n",
              "      <td>Chester</td>\n",
              "      <td>500 block of West Sixth Street</td>\n",
              "      <td>39.8469</td>\n",
              "      <td>-75.3679</td>\n",
              "      <td>1</td>\n",
              "      <td>&lt;NA&gt;</td>\n",
              "      <td>&lt;NA&gt;</td>\n",
              "      <td>&lt;NA&gt;</td>\n",
              "      <td>...</td>\n",
              "      <td>0</td>\n",
              "      <td>1</td>\n",
              "      <td>0</td>\n",
              "      <td>1</td>\n",
              "      <td>0</td>\n",
              "      <td>0</td>\n",
              "      <td>1</td>\n",
              "      <td>shot in chest during arr, birdshot from handgu...</td>\n",
              "      <td>Shot - Wounded/Injured</td>\n",
              "      <td>Armed robbery with injury/death and/or evidenc...</td>\n",
              "    </tr>\n",
              "  </tbody>\n",
              "</table>\n",
              "<p>239676 rows × 28 columns</p>\n",
              "</div>"
            ],
            "text/plain": [
              "             date                 state    city_or_county  \\\n",
              "0      2015-05-02               Indiana      Indianapolis   \n",
              "1      2017-04-03          Pennsylvania              Kane   \n",
              "2      2016-11-05              Michigan           Detroit   \n",
              "3      2016-10-15  District of Columbia        Washington   \n",
              "4      2030-06-14          Pennsylvania        Pittsburgh   \n",
              "...           ...                   ...               ...   \n",
              "239672 2016-01-11             Tennessee      Murfreesboro   \n",
              "239673 2029-01-01              New York              Troy   \n",
              "239674 2017-08-17             Tennessee           Memphis   \n",
              "239675 2016-06-07              Colorado  Colorado Springs   \n",
              "239676 2016-06-12          Pennsylvania           Chester   \n",
              "\n",
              "                                   address  latitude  longitude  \\\n",
              "0            Lafayette Road and Pike Plaza   39.8322   -86.2492   \n",
              "1                                5647 US 6   41.6645   -78.7856   \n",
              "2        6200 Block of East McNichols Road   42.4190   -83.0393   \n",
              "3       1000 block of Bladensburg Road, NE   38.9030   -76.9820   \n",
              "4          California and Marshall Avenues   40.4621   -80.0308   \n",
              "...                                    ...       ...        ...   \n",
              "239672                    Hazelwood Street   35.8624   -86.3695   \n",
              "239673            Pawling and Plum Avenues   42.7043   -73.6590   \n",
              "239674         Barron Ave and Pendleton St   35.1007   -89.9700   \n",
              "239675             601 Prospect Lake Drive   38.8251  -104.8020   \n",
              "239676      500 block of West Sixth Street   39.8469   -75.3679   \n",
              "\n",
              "        congressional_district  state_house_district  state_senate_district  \\\n",
              "0                            7                    94                     33   \n",
              "1                            5                  <NA>                   <NA>   \n",
              "2                           14                     4                      2   \n",
              "3                            1                  <NA>                   <NA>   \n",
              "4                           14                  <NA>                   <NA>   \n",
              "...                        ...                   ...                    ...   \n",
              "239672                       4                    37                     14   \n",
              "239673                      20                   108                     44   \n",
              "239674                       9                    93                     33   \n",
              "239675                       5                    18                     11   \n",
              "239676                       1                  <NA>                   <NA>   \n",
              "\n",
              "        participant_age1  ... n_males n_females  n_killed  n_injured  \\\n",
              "0                     19  ...       1         0         0          1   \n",
              "1                     62  ...       1         0         1          0   \n",
              "2                   <NA>  ...    <NA>      <NA>         0          1   \n",
              "3                   <NA>  ...       1         0         0          1   \n",
              "4                   <NA>  ...       1         0         0          1   \n",
              "...                  ...  ...     ...       ...       ...        ...   \n",
              "239672              <NA>  ...       1         0         0          1   \n",
              "239673              <NA>  ...       2         0         0          0   \n",
              "239674                58  ...       1         0         0          1   \n",
              "239675                68  ...       2         0         0          0   \n",
              "239676              <NA>  ...       0         1         0          1   \n",
              "\n",
              "        n_arrested  n_unharmed  n_participants  \\\n",
              "0                0           0               1   \n",
              "1                0           0               1   \n",
              "2                0           1               2   \n",
              "3                0           0               2   \n",
              "4                0           1               2   \n",
              "...            ...         ...             ...   \n",
              "239672           0           0               1   \n",
              "239673           0           3               3   \n",
              "239674           0           0               1   \n",
              "239675           1           1               2   \n",
              "239676           0           0               1   \n",
              "\n",
              "                                                    notes  \\\n",
              "0       Teen wounded while walking - Security guard at...   \n",
              "1                                shot self after accident   \n",
              "2                                                  1 inj.   \n",
              "3                                                    <NA>   \n",
              "4                                                    <NA>   \n",
              "...                                                   ...   \n",
              "239672   Tried to grab gun as it fell, shot self in foot.   \n",
              "239673                                               <NA>   \n",
              "239674                             Orange Mound, man shot   \n",
              "239675  Record ID 22972 on Colorado Springs Police Dep...   \n",
              "239676  shot in chest during arr, birdshot from handgu...   \n",
              "\n",
              "                                incident_characteristics1  \\\n",
              "0                                  Shot - Wounded/Injured   \n",
              "1               Shot - Dead (murder, accidental, suicide)   \n",
              "2                                  Shot - Wounded/Injured   \n",
              "3                                  Shot - Wounded/Injured   \n",
              "4                                  Shot - Wounded/Injured   \n",
              "...                                                   ...   \n",
              "239672                             Shot - Wounded/Injured   \n",
              "239673  Armed robbery with injury/death and/or evidenc...   \n",
              "239674                             Shot - Wounded/Injured   \n",
              "239675                              Non-Shooting Incident   \n",
              "239676                             Shot - Wounded/Injured   \n",
              "\n",
              "                                incident_characteristics2  \n",
              "0                                                    <NA>  \n",
              "1                                                Suicide^  \n",
              "2                                                    <NA>  \n",
              "3                                                    <NA>  \n",
              "4                    Drive-by (car to street, car to car)  \n",
              "...                                                   ...  \n",
              "239672                            Non-Aggression Incident  \n",
              "239673                                               <NA>  \n",
              "239674                                               <NA>  \n",
              "239675    Possession of gun by felon or prohibited person  \n",
              "239676  Armed robbery with injury/death and/or evidenc...  \n",
              "\n",
              "[239676 rows x 28 columns]"
            ]
          },
          "execution_count": 180,
          "metadata": {},
          "output_type": "execute_result"
        }
      ],
      "source": [
        "df"
      ]
    },
    {
      "cell_type": "code",
      "execution_count": 181,
      "metadata": {
        "id": "cKAjvMdCjsUS"
      },
      "outputs": [],
      "source": [
        "#setting nan the dates that are after 2023-10-01\n",
        "df.loc[(df[\"date\"] > \"2023-10-01\"), \"date\"] = np.nan\n",
        "\n",
        "#setting nan the lonitudes and latitudes that are not in the US\n",
        "df.loc[(df[\"latitude\"] > 64.85694) |\n",
        "        (df[\"latitude\"] < 19.50139), (\"latitude\", \"longitude\")] = np.nan\n",
        "df.loc[(df[\"longitude\"] < -161.75583) |\n",
        "        (df[\"longitude\"] > -68.01197), (\"longitude\" , \"latitude\")] = np.nan"
      ]
    },
    {
      "cell_type": "code",
      "execution_count": 182,
      "metadata": {
        "id": "VJCdg8MOInTU"
      },
      "outputs": [
        {
          "data": {
            "image/png": "[encoded data removed]",
            "text/plain": [
              "<Figure size 640x480 with 1 Axes>"
            ]
          },
          "metadata": {},
          "output_type": "display_data"
        },
        {
          "data": {
            "image/png": "[encoded data removed]",
            "text/plain": [
              "<Figure size 640x480 with 1 Axes>"
            ]
          },
          "metadata": {},
          "output_type": "display_data"
        }
      ],
      "source": [
        "# Show plot before cleaning\n",
        "#df[(df[\"avg_age_participants\"] < 120) & (df[\"avg_age_participants\"] >= 0) ].boxplot(column=\"avg_age_participants\")\n",
        "df.boxplot(column=\"avg_age_participants\")\n",
        "#count number of people with age > 60\n",
        "#df[(df[\"avg_age_participants\"] > 100)].count()\n",
        "#plt.yscale('')\n",
        "plt.title('Before cleaning average age')\n",
        "plt.show()\n",
        "\n",
        "#plotting an instogram of the average age\n",
        "df[(df[\"avg_age_participants\"] < 120) & (df[\"avg_age_participants\"] >= 0) ].hist(column=\"avg_age_participants\")\n",
        "plt.title('Before cleaning average age')\n",
        "plt.show()"
      ]
    },
    {
      "cell_type": "code",
      "execution_count": 183,
      "metadata": {
        "colab": {
          "base_uri": "https://localhost:8080/",
          "height": 248
        },
        "id": "OKuOICwvjsUS",
        "outputId": "2c9fa6f6-7c83-43df-8489-fb6239e0d97a"
      },
      "outputs": [
        {
          "data": {
            "image/png": "[encoded data removed]",
            "text/plain": [
              "<Figure size 640x480 with 1 Axes>"
            ]
          },
          "metadata": {},
          "output_type": "display_data"
        },
        {
          "data": {
            "image/png": "[encoded data removed]",
            "text/plain": [
              "<Figure size 640x480 with 1 Axes>"
            ]
          },
          "metadata": {},
          "output_type": "display_data"
        }
      ],
      "source": [
        "#setting ages to 10 if they are below 10\n",
        "df.loc[(df[\"avg_age_participants\"] < 10), \"avg_age_participants\"] = 10\n",
        "#setting ages to 60 if they are above 60\n",
        "df.loc[(df[\"avg_age_participants\"] > 60), \"avg_age_participants\"] = 60\n",
        "\n",
        "# Plotting dates before cleaning\n",
        "df.boxplot(column=\"avg_age_participants\")\n",
        "plt.title('After cleaning average age')\n",
        "plt.show()\n",
        "df.hist(column=\"avg_age_participants\")\n",
        "plt.title('After cleaning average age')\n",
        "plt.show()"
      ]
    },
    {
      "cell_type": "code",
      "execution_count": 184,
      "metadata": {
        "id": "33gOXeAKI0Hx"
      },
      "outputs": [
        {
          "data": {
            "image/png": "[encoded data removed]",
            "text/plain": [
              "<Figure size 640x480 with 1 Axes>"
            ]
          },
          "metadata": {},
          "output_type": "display_data"
        }
      ],
      "source": [
        "#plotting dates before cleaning\n",
        "df.hist(column=\"date\")\n",
        "plt.title('After cleaning date')\n",
        "plt.show()"
      ]
    },
    {
      "cell_type": "code",
      "execution_count": 185,
      "metadata": {
        "colab": {
          "base_uri": "https://localhost:8080/"
        },
        "id": "DuacLIzgjsUU",
        "outputId": "409cb56c-700b-4a06-e60e-d8427e0ecbba"
      },
      "outputs": [
        {
          "name": "stdout",
          "output_type": "stream",
          "text": [
            "239676\n",
            "238287\n"
          ]
        }
      ],
      "source": [
        "print(len(df))\n",
        "#print duplicates columns if they are not NaN\n",
        "#df = df.drop_duplicates(subset=[\"date\", \"latitude\", \"longitude\"]).append(df[pd.isnull(df['date']) | pd.isnull(df['latitude']) | pd.isnull(df['longitude'])])\n",
        "df = pd.concat([df[pd.isnull(df['date']) | pd.isnull(df['latitude']) | pd.isnull(df['longitude'])], df.drop_duplicates(subset=[\"date\", \"latitude\", \"longitude\"])])\n",
        "df.drop_duplicates(inplace=True)\n",
        "print(len(df))"
      ]
    },
    {
      "cell_type": "code",
      "execution_count": 186,
      "metadata": {
        "colab": {
          "base_uri": "https://localhost:8080/"
        },
        "id": "OTBfgz2zrkQr",
        "outputId": "493b06d7-17c9-44f9-846f-a622da2b1695"
      },
      "outputs": [
        {
          "data": {
            "image/png": "[encoded data removed]",
            "text/plain": [
              "<Figure size 640x480 with 1 Axes>"
            ]
          },
          "metadata": {},
          "output_type": "display_data"
        }
      ],
      "source": [
        "#Substituting the NaN values with the \"mode\"\n",
        "#df.loc[(pd.isna(df[\"date\"])), \"date\"] = \"2017-10-01\"\n",
        "\n",
        "#Assigning a value from a Random biased distribution, based on the dates\n",
        "df.loc[(pd.isna(df[\"date\"])), \"date\"] = np.random.choice(df[\"date\"].dropna(), size=len(df[pd.isna(df[\"date\"])]))\n",
        "\n",
        "#plotting dates before cleaning\n",
        "df.hist(column=\"date\")\n",
        "plt.title('After cleaning date')\n",
        "plt.show()\n"
      ]
    },
    {
      "cell_type": "code",
      "execution_count": 187,
      "metadata": {},
      "outputs": [
        {
          "name": "stdout",
          "output_type": "stream",
          "text": [
            "<class 'pandas.core.frame.DataFrame'>\n",
            "Int64Index: 238287 entries, 4 to 239676\n",
            "Data columns (total 28 columns):\n",
            " #   Column                     Non-Null Count   Dtype         \n",
            "---  ------                     --------------   -----         \n",
            " 0   date                       238287 non-null  datetime64[ns]\n",
            " 1   state                      238287 non-null  string        \n",
            " 2   city_or_county             238287 non-null  string        \n",
            " 3   address                    222129 non-null  string        \n",
            " 4   latitude                   238287 non-null  float64       \n",
            " 5   longitude                  238287 non-null  float64       \n",
            " 6   congressional_district     226355 non-null  Int64         \n",
            " 7   state_house_district       199690 non-null  Int64         \n",
            " 8   state_senate_district      206080 non-null  Int64         \n",
            " 9   participant_age1           146710 non-null  Int64         \n",
            " 10  participant_age_group1     196686 non-null  string        \n",
            " 11  participant_gender1        202428 non-null  string        \n",
            " 12  min_age_participants       146714 non-null  Int64         \n",
            " 13  avg_age_participants       146710 non-null  float64       \n",
            " 14  max_age_participants       146711 non-null  Int64         \n",
            " 15  n_participants_child       196696 non-null  Int64         \n",
            " 16  n_participants_teen        196699 non-null  Int64         \n",
            " 17  n_participants_adult       196700 non-null  Int64         \n",
            " 18  n_males                    202428 non-null  Int64         \n",
            " 19  n_females                  202428 non-null  Int64         \n",
            " 20  n_killed                   238287 non-null  Int64         \n",
            " 21  n_injured                  238287 non-null  Int64         \n",
            " 22  n_arrested                 211086 non-null  Int64         \n",
            " 23  n_unharmed                 211086 non-null  Int64         \n",
            " 24  n_participants             238287 non-null  Int64         \n",
            " 25  notes                      157872 non-null  string        \n",
            " 26  incident_characteristics1  237966 non-null  string        \n",
            " 27  incident_characteristics2  141106 non-null  string        \n",
            "dtypes: Int64(16), datetime64[ns](1), float64(3), string(8)\n",
            "memory usage: 56.4 MB\n"
          ]
        }
      ],
      "source": [
        "#Sostituisco i valori NaN di latitude e longitude, con i valori delle righe aventi lo stesso state e la stessa city_or_county\n",
        "df[['latitude', 'longitude']] = df.groupby([\"state\", \"city_or_county\"])[['latitude', 'longitude']].apply(lambda x: x.fillna(x.mean()))\n",
        "df[['latitude', 'longitude']] = df.groupby(\"state\")[['latitude', 'longitude']].apply(lambda x: x.fillna(x.mean()))\n",
        "df.info()\n"
      ]
    },
    {
      "cell_type": "code",
      "execution_count": 120,
      "metadata": {
        "id": "G8NI_yhpjsUU"
      },
      "outputs": [],
      "source": [
        "#dp_df = df[df.duplicated(keep=False)]\n",
        "#dp_df = df.groupby(['date','latitude','longitude']).any()\n",
        "#dp_df = df.drop_duplicates()\n",
        "#dp_df\n",
        "\n",
        "columns_to_check = [\"n_arrested\", \"n_females\", \"n_injured\", \"n_males\", \"n_participants\",\n",
        "                    \"n_killed\", \"n_participants_adult\", \"n_participants_child\",\n",
        "                    \"n_participants_teen\", \"n_unharmed\"]\n",
        "# Set values less than 0 to NaN for the specified columns\n",
        "for i in columns_to_check:\n",
        "    df[df[i] < 0] = np.nan\n",
        "\n",
        "\n",
        "\n",
        "\n"
      ]
    },
    {
      "cell_type": "code",
      "execution_count": 121,
      "metadata": {
        "id": "jzin7aKLjsUV"
      },
      "outputs": [
        {
          "ename": "NameError",
          "evalue": "name 'dp_df' is not defined",
          "output_type": "error",
          "traceback": [
            "\u001b[0;31m---------------------------------------------------------------------------\u001b[0m",
            "\u001b[0;31mNameError\u001b[0m                                 Traceback (most recent call last)",
            "\u001b[0;32m/var/folders/9b/4rjbcrys1931nh3fmqsfh8740000gn/T/ipykernel_11774/1153843287.py\u001b[0m in \u001b[0;36m<module>\u001b[0;34m\u001b[0m\n\u001b[0;32m----> 1\u001b[0;31m \u001b[0;32mfor\u001b[0m \u001b[0mcl\u001b[0m \u001b[0;32min\u001b[0m \u001b[0mdp_df\u001b[0m\u001b[0;34m.\u001b[0m\u001b[0mcolumns\u001b[0m\u001b[0;34m:\u001b[0m\u001b[0;34m\u001b[0m\u001b[0;34m\u001b[0m\u001b[0m\n\u001b[0m\u001b[1;32m      2\u001b[0m     \u001b[0mx\u001b[0m \u001b[0;34m=\u001b[0m \u001b[0mdp_df\u001b[0m\u001b[0;34m[\u001b[0m\u001b[0mcl\u001b[0m\u001b[0;34m]\u001b[0m\u001b[0;34m.\u001b[0m\u001b[0munique\u001b[0m\u001b[0;34m(\u001b[0m\u001b[0;34m)\u001b[0m\u001b[0;34m\u001b[0m\u001b[0;34m\u001b[0m\u001b[0m\n\u001b[1;32m      3\u001b[0m \u001b[0;34m\u001b[0m\u001b[0m\n",
            "\u001b[0;31mNameError\u001b[0m: name 'dp_df' is not defined"
          ]
        }
      ],
      "source": [
        "for cl in dp_df.columns:\n",
        "    x = dp_df[cl].unique()\n",
        "\n"
      ]
    },
    {
      "cell_type": "code",
      "execution_count": null,
      "metadata": {
        "id": "5l5i4BNXjsUV"
      },
      "outputs": [],
      "source": [
        "dp_df.describe()"
      ]
    },
    {
      "cell_type": "code",
      "execution_count": null,
      "metadata": {
        "id": "NlVb05qRjsUW"
      },
      "outputs": [],
      "source": [
        "dp_df.corr()"
      ]
    },
    {
      "cell_type": "code",
      "execution_count": null,
      "metadata": {
        "id": "cfoIpX-fjsUX"
      },
      "outputs": [],
      "source": [
        "#remove age greater than 80s\n",
        "dp_df = dp_df[dp_df['participant_age1'] < 80]\n",
        "pd.plotting.scatter_matrix(dp_df[['participant_age1', 'n_injured', 'n_killed']])\n",
        "plt.show()"
      ]
    },
    {
      "cell_type": "code",
      "execution_count": null,
      "metadata": {
        "id": "ARdpLOF2jsUX"
      },
      "outputs": [],
      "source": [
        "plt.scatter(dp_df[dp_df['participant_age1'] < 18]['participant_age1'],\n",
        "            dp_df[dp_df['participant_age1'] < 18]['n_injured'], color='y', marker='*', label='< 18')\n",
        "\n",
        "plt.scatter(dp_df[dp_df['participant_age1'] > 17]['participant_age1'],\n",
        "            dp_df[dp_df['participant_age1'] > 17]['n_injured'], color='r',label='> 18')\n",
        "plt.xlabel('participant_age1')\n",
        "plt.ylabel('n_injured')\n",
        "plt.legend()\n",
        "plt.show()"
      ]
    },
    {
      "cell_type": "code",
      "execution_count": null,
      "metadata": {
        "id": "S0oRE_JdjsUY"
      },
      "outputs": [],
      "source": [
        "#plot matrix with different colors for correlation\n",
        "plt.matshow(dp_df.corr())\n",
        "#legend for correlation\n",
        "#add names of columns\n",
        "plt.yticks(range(len(dp_df.columns)), dp_df.columns)\n",
        "plt.colorbar()\n",
        "plt.show()\n"
      ]
    }
  ],
  "metadata": {
    "colab": {
      "provenance": []
    },
    "kernelspec": {
      "display_name": "base",
      "language": "python",
      "name": "python3"
    },
    "language_info": {
      "codemirror_mode": {
        "name": "ipython",
        "version": 3
      },
      "file_extension": ".py",
      "mimetype": "text/x-python",
      "name": "python",
      "nbconvert_exporter": "python",
      "pygments_lexer": "ipython3",
      "version": "3.9.13"
    }
  },
  "nbformat": 4,
  "nbformat_minor": 0
}
